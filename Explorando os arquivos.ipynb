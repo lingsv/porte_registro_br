{
 "cells": [
  {
   "cell_type": "code",
   "execution_count": 48,
   "id": "35b8505a",
   "metadata": {},
   "outputs": [],
   "source": [
    "import pandas as pd\n",
    "import glob\n",
    "import plotly.express as px"
   ]
  },
  {
   "cell_type": "markdown",
   "id": "03bcb068",
   "metadata": {},
   "source": [
    "## Abrindo os arquivos"
   ]
  },
  {
   "cell_type": "code",
   "execution_count": 13,
   "id": "c57d234c",
   "metadata": {},
   "outputs": [],
   "source": [
    "jan_22 = pd.read_csv('armas/porte_armas_2022/SINARM_PORTES_ARMA_EXPEDIDOS_2022_01.csv',sep=';', encoding='latin-1')"
   ]
  },
  {
   "cell_type": "code",
   "execution_count": 45,
   "id": "259cfb9c",
   "metadata": {},
   "outputs": [],
   "source": [
    "#jan_22"
   ]
  },
  {
   "cell_type": "code",
   "execution_count": 15,
   "id": "a454fba1",
   "metadata": {},
   "outputs": [],
   "source": [
    "fev_22 = pd.read_csv('armas/porte_armas_2022/SINARM_PORTES_ARMA_EXPEDIDOS_2022_02.csv',sep=';', encoding='latin-1')"
   ]
  },
  {
   "cell_type": "code",
   "execution_count": 46,
   "id": "4ffe3f5f",
   "metadata": {},
   "outputs": [],
   "source": [
    "#fev_22"
   ]
  },
  {
   "cell_type": "markdown",
   "id": "f571d461",
   "metadata": {},
   "source": [
    "*************"
   ]
  },
  {
   "cell_type": "code",
   "execution_count": 21,
   "id": "03d7a340",
   "metadata": {},
   "outputs": [],
   "source": [
    "files = glob.glob('armas/porte_armas_2022/*.csv')\n",
    "port_br = pd.concat([pd.read_csv(fp, encoding='latin-1', sep=';') for fp in files])"
   ]
  },
  {
   "cell_type": "code",
   "execution_count": 22,
   "id": "c38003f3",
   "metadata": {},
   "outputs": [
    {
     "data": {
      "text/html": [
       "<div>\n",
       "<style scoped>\n",
       "    .dataframe tbody tr th:only-of-type {\n",
       "        vertical-align: middle;\n",
       "    }\n",
       "\n",
       "    .dataframe tbody tr th {\n",
       "        vertical-align: top;\n",
       "    }\n",
       "\n",
       "    .dataframe thead th {\n",
       "        text-align: right;\n",
       "    }\n",
       "</style>\n",
       "<table border=\"1\" class=\"dataframe\">\n",
       "  <thead>\n",
       "    <tr style=\"text-align: right;\">\n",
       "      <th></th>\n",
       "      <th>UF</th>\n",
       "      <th>CATEGORIA</th>\n",
       "      <th>ABRANGENCIA</th>\n",
       "      <th>TOTAL</th>\n",
       "    </tr>\n",
       "  </thead>\n",
       "  <tbody>\n",
       "    <tr>\n",
       "      <th>0</th>\n",
       "      <td>AC</td>\n",
       "      <td>Caçador de Subsistência</td>\n",
       "      <td>NaN</td>\n",
       "      <td>15</td>\n",
       "    </tr>\n",
       "    <tr>\n",
       "      <th>1</th>\n",
       "      <td>AC</td>\n",
       "      <td>Defesa Pessoal</td>\n",
       "      <td>Estadual</td>\n",
       "      <td>3</td>\n",
       "    </tr>\n",
       "    <tr>\n",
       "      <th>2</th>\n",
       "      <td>AC</td>\n",
       "      <td>Defesa Pessoal</td>\n",
       "      <td>Regional</td>\n",
       "      <td>1</td>\n",
       "    </tr>\n",
       "    <tr>\n",
       "      <th>3</th>\n",
       "      <td>AL</td>\n",
       "      <td>Defesa Pessoal</td>\n",
       "      <td>Estadual</td>\n",
       "      <td>12</td>\n",
       "    </tr>\n",
       "    <tr>\n",
       "      <th>4</th>\n",
       "      <td>AL</td>\n",
       "      <td>Defesa Pessoal</td>\n",
       "      <td>Nacional</td>\n",
       "      <td>1</td>\n",
       "    </tr>\n",
       "    <tr>\n",
       "      <th>...</th>\n",
       "      <td>...</td>\n",
       "      <td>...</td>\n",
       "      <td>...</td>\n",
       "      <td>...</td>\n",
       "    </tr>\n",
       "    <tr>\n",
       "      <th>57</th>\n",
       "      <td>SP</td>\n",
       "      <td>Funcional</td>\n",
       "      <td>Estadual</td>\n",
       "      <td>435</td>\n",
       "    </tr>\n",
       "    <tr>\n",
       "      <th>58</th>\n",
       "      <td>SP</td>\n",
       "      <td>Funcional</td>\n",
       "      <td>NaN</td>\n",
       "      <td>4</td>\n",
       "    </tr>\n",
       "    <tr>\n",
       "      <th>59</th>\n",
       "      <td>SP</td>\n",
       "      <td>Segurança Dignitario</td>\n",
       "      <td>Nacional</td>\n",
       "      <td>2</td>\n",
       "    </tr>\n",
       "    <tr>\n",
       "      <th>60</th>\n",
       "      <td>TO</td>\n",
       "      <td>Defesa Pessoal</td>\n",
       "      <td>Estadual</td>\n",
       "      <td>1</td>\n",
       "    </tr>\n",
       "    <tr>\n",
       "      <th>61</th>\n",
       "      <td>TO</td>\n",
       "      <td>Funcional</td>\n",
       "      <td>Estadual</td>\n",
       "      <td>4</td>\n",
       "    </tr>\n",
       "  </tbody>\n",
       "</table>\n",
       "<p>780 rows × 4 columns</p>\n",
       "</div>"
      ],
      "text/plain": [
       "    UF                CATEGORIA ABRANGENCIA  TOTAL\n",
       "0   AC  Caçador de Subsistência         NaN     15\n",
       "1   AC           Defesa Pessoal    Estadual      3\n",
       "2   AC           Defesa Pessoal    Regional      1\n",
       "3   AL           Defesa Pessoal    Estadual     12\n",
       "4   AL           Defesa Pessoal    Nacional      1\n",
       "..  ..                      ...         ...    ...\n",
       "57  SP                Funcional    Estadual    435\n",
       "58  SP                Funcional         NaN      4\n",
       "59  SP     Segurança Dignitario    Nacional      2\n",
       "60  TO           Defesa Pessoal    Estadual      1\n",
       "61  TO                Funcional    Estadual      4\n",
       "\n",
       "[780 rows x 4 columns]"
      ]
     },
     "execution_count": 22,
     "metadata": {},
     "output_type": "execute_result"
    }
   ],
   "source": [
    "port_br"
   ]
  },
  {
   "cell_type": "code",
   "execution_count": 23,
   "id": "f1a4148d",
   "metadata": {},
   "outputs": [],
   "source": [
    "port_br.to_parquet('porte_de_armas_porcategoria_br_2022.parquet')"
   ]
  },
  {
   "cell_type": "markdown",
   "id": "b38d6745",
   "metadata": {},
   "source": [
    "************"
   ]
  },
  {
   "cell_type": "markdown",
   "id": "81c49a0c",
   "metadata": {},
   "source": [
    "## Tipos de porte"
   ]
  },
  {
   "cell_type": "code",
   "execution_count": 24,
   "id": "8addb31a",
   "metadata": {},
   "outputs": [],
   "source": [
    "df_porte = pd.read_parquet('porte_de_armas_porcategoria_br_2022.parquet')"
   ]
  },
  {
   "cell_type": "code",
   "execution_count": 34,
   "id": "58a14b6a",
   "metadata": {},
   "outputs": [
    {
     "name": "stdout",
     "output_type": "stream",
     "text": [
      "Tipos de porte: ['Caçador de Subsistência' 'Defesa Pessoal' 'Funcional'\n",
      " 'Segurança Dignitario']\n"
     ]
    }
   ],
   "source": [
    "print('Tipos de porte:', df_porte['CATEGORIA'].unique())"
   ]
  },
  {
   "cell_type": "code",
   "execution_count": 63,
   "id": "3637d654",
   "metadata": {},
   "outputs": [
    {
     "data": {
      "text/plain": [
       "array(['AC', 'AL', 'AM', 'AP', 'BA', 'CE', 'DF', 'ES', 'GO', 'MA', 'MG',\n",
       "       'MS', 'MT', 'PA', 'PB', 'PE', 'PI', 'PR', 'RJ', 'RN', 'RO', 'RS',\n",
       "       'SC', 'SE', 'SP', 'RR', 'TO'], dtype=object)"
      ]
     },
     "execution_count": 63,
     "metadata": {},
     "output_type": "execute_result"
    }
   ],
   "source": [
    "df_porte['UF'].unique()"
   ]
  },
  {
   "cell_type": "code",
   "execution_count": 72,
   "id": "40978913",
   "metadata": {},
   "outputs": [
    {
     "data": {
      "application/vnd.plotly.v1+json": {
       "config": {
        "plotlyServerURL": "https://plot.ly"
       },
       "data": [
        {
         "alignmentgroup": "True",
         "hovertemplate": "TOTAL=%{x}<br>UF=%{y}<extra></extra>",
         "legendgroup": "",
         "marker": {
          "color": "#636efa",
          "pattern": {
           "shape": ""
          }
         },
         "name": "",
         "offsetgroup": "",
         "orientation": "h",
         "showlegend": false,
         "textposition": "auto",
         "type": "bar",
         "x": [
          15,
          3,
          1,
          12,
          1,
          1,
          55,
          1,
          1,
          9,
          2,
          1,
          2,
          30,
          19,
          60,
          3,
          5,
          18,
          2,
          19,
          5,
          7,
          1,
          44,
          8,
          22,
          1,
          19,
          9,
          3,
          10,
          2,
          38,
          17,
          7,
          1,
          1,
          4,
          1,
          12,
          1,
          40,
          5,
          6,
          12,
          12,
          3,
          68,
          29,
          3,
          131,
          5,
          7,
          32,
          1,
          1,
          32,
          4,
          1,
          1,
          16,
          4,
          1,
          28,
          3,
          22,
          1,
          22,
          56,
          3,
          41,
          4,
          2,
          59,
          1,
          27,
          25,
          1,
          68,
          1,
          2,
          11,
          3,
          135,
          4,
          32,
          3,
          14,
          2,
          35,
          13,
          1,
          151,
          1,
          5,
          3,
          14,
          11,
          1,
          1,
          1,
          9,
          2,
          1,
          65,
          41,
          3,
          12,
          112,
          3,
          5,
          1,
          37,
          91,
          6,
          7,
          67,
          8,
          18,
          2,
          2,
          5,
          36,
          490,
          13,
          88,
          8,
          2,
          10,
          1,
          25,
          6,
          1,
          20,
          1,
          3,
          1,
          2,
          1,
          2,
          2,
          6,
          8,
          1,
          30,
          87,
          38,
          8,
          134,
          1,
          38,
          2,
          6,
          9,
          17,
          1,
          22,
          17,
          7,
          5,
          11,
          8,
          1,
          10,
          1,
          16,
          5,
          1,
          3,
          1,
          1,
          1,
          6,
          24,
          1,
          31,
          3,
          4,
          5,
          3,
          1,
          1,
          10,
          1,
          3,
          123,
          14,
          5,
          18,
          24,
          1,
          4,
          6,
          3,
          38,
          8,
          581,
          4,
          2,
          2,
          4,
          11,
          33,
          8,
          1,
          27,
          8,
          4,
          3,
          36,
          36,
          5,
          5,
          1,
          27,
          1,
          7,
          1,
          4,
          1,
          2,
          95,
          6,
          3,
          10,
          1,
          26,
          6,
          3,
          4,
          2,
          1,
          14,
          1,
          1,
          1,
          5,
          2,
          180,
          146,
          1,
          42,
          1,
          7,
          15,
          10,
          2,
          91,
          5,
          7,
          6,
          25,
          7,
          23,
          1,
          335,
          4,
          6,
          2,
          5,
          4,
          5,
          26,
          2,
          2,
          4,
          9,
          2,
          7,
          6,
          13,
          1,
          40,
          46,
          2,
          4,
          1,
          39,
          2,
          10,
          1,
          22,
          12,
          2,
          1,
          1,
          2,
          5,
          123,
          26,
          2,
          3,
          18,
          30,
          3,
          1,
          6,
          9,
          1,
          3,
          2,
          13,
          7,
          2,
          68,
          7,
          1,
          52,
          1,
          2,
          2,
          3,
          3,
          1,
          5,
          141,
          4,
          7,
          8,
          1,
          17,
          1,
          2,
          2,
          17,
          1,
          27,
          236,
          27,
          1,
          1,
          8,
          1,
          11,
          1,
          5,
          2,
          12,
          1,
          14,
          6,
          4,
          36,
          1,
          5,
          29,
          26,
          37,
          17,
          34,
          1,
          17,
          2,
          23,
          16,
          1,
          24,
          1,
          5,
          80,
          22,
          3,
          6,
          11,
          4,
          36,
          4,
          2,
          16,
          1,
          2,
          1,
          6,
          6,
          1,
          11,
          3,
          1,
          2,
          22,
          3,
          2,
          2,
          3,
          3,
          2,
          105,
          8,
          4,
          51,
          3,
          9,
          1,
          56,
          2,
          1,
          1,
          10,
          1,
          541,
          6,
          1,
          20,
          5,
          16,
          1,
          2,
          2,
          24,
          4,
          39,
          4,
          53,
          94,
          11,
          80,
          19,
          62,
          1,
          1,
          15,
          24,
          2,
          1,
          5,
          1,
          13,
          2,
          23,
          5,
          48,
          4,
          2,
          57,
          5,
          1,
          3,
          1,
          9,
          1,
          22,
          1,
          5,
          5,
          2,
          1,
          1,
          21,
          7,
          8,
          3,
          3,
          2,
          1,
          1,
          96,
          8,
          5,
          30,
          1,
          13,
          2,
          29,
          160,
          8,
          1,
          1,
          2,
          2,
          4,
          12,
          1,
          1,
          8,
          2,
          1,
          8,
          1,
          6,
          1,
          6,
          7,
          7,
          38,
          29,
          4,
          41,
          2,
          32,
          14,
          7,
          2,
          2,
          74,
          8,
          9,
          2,
          1,
          1,
          49,
          7,
          2,
          64,
          8,
          2,
          30,
          2,
          1,
          3,
          13,
          3,
          22,
          2,
          26,
          1,
          44,
          1,
          2,
          1,
          38,
          86,
          4,
          4,
          4,
          4,
          16,
          5,
          4,
          1,
          14,
          34,
          303,
          1,
          13,
          9,
          4,
          5,
          7,
          5,
          2,
          17,
          4,
          3,
          14,
          2,
          30,
          59,
          27,
          46,
          9,
          9,
          29,
          5,
          2,
          4,
          2,
          1,
          177,
          2,
          16,
          4,
          4,
          15,
          2,
          46,
          8,
          5,
          3,
          11,
          1,
          1,
          1,
          1,
          18,
          1,
          4,
          18,
          1,
          31,
          4,
          1,
          87,
          5,
          4,
          14,
          11,
          1,
          1,
          8,
          18,
          1,
          208,
          3,
          2,
          3,
          10,
          5,
          19,
          3,
          1,
          110,
          1,
          1,
          30,
          2,
          50,
          23,
          29,
          4,
          54,
          3,
          34,
          3,
          34,
          6,
          1,
          1,
          1,
          9,
          2,
          2,
          8,
          7,
          13,
          1,
          40,
          1,
          3,
          7,
          2,
          2,
          7,
          14,
          4,
          1,
          1,
          9,
          1,
          2,
          4,
          2,
          2,
          1,
          134,
          16,
          12,
          22,
          2,
          4,
          3,
          17,
          315,
          1,
          6,
          3,
          9,
          3,
          24,
          1,
          1,
          3,
          1,
          1,
          6,
          3,
          1,
          3,
          3,
          58,
          59,
          25,
          6,
          20,
          2,
          1,
          1,
          16,
          92,
          5,
          2,
          19,
          1,
          2,
          21,
          4,
          14,
          17,
          1,
          5,
          7,
          1,
          1,
          16,
          2,
          23,
          10,
          1,
          2,
          5,
          1,
          4,
          4,
          1,
          83,
          10,
          7,
          1,
          2,
          11,
          2,
          61,
          27,
          1,
          286,
          1,
          10,
          56,
          1,
          1,
          30,
          5,
          1,
          24,
          1,
          10,
          19,
          2,
          2,
          157,
          46,
          60,
          22,
          2,
          13,
          44,
          2,
          1,
          3,
          19,
          35,
          4,
          2,
          32,
          1,
          39,
          2,
          16,
          36,
          11,
          3,
          4,
          1,
          5,
          2,
          8,
          5,
          15,
          4,
          18,
          5,
          6,
          7,
          2,
          78,
          4,
          8,
          5,
          5,
          5,
          10,
          1,
          19,
          44,
          2,
          435,
          4,
          2,
          1,
          4
         ],
         "xaxis": "x",
         "y": [
          "AC",
          "AC",
          "AC",
          "AL",
          "AL",
          "AL",
          "AL",
          "AM",
          "AP",
          "BA",
          "CE",
          "CE",
          "CE",
          "DF",
          "DF",
          "ES",
          "ES",
          "ES",
          "GO",
          "GO",
          "GO",
          "MA",
          "MG",
          "MG",
          "MS",
          "MS",
          "MT",
          "MT",
          "PA",
          "PA",
          "PB",
          "PE",
          "PI",
          "PI",
          "PR",
          "PR",
          "PR",
          "PR",
          "RJ",
          "RN",
          "RO",
          "RO",
          "RS",
          "RS",
          "RS",
          "SC",
          "SC",
          "SE",
          "SE",
          "SP",
          "SP",
          "SP",
          "AC",
          "AC",
          "AL",
          "AL",
          "AL",
          "AL",
          "AL",
          "AM",
          "AP",
          "BA",
          "BA",
          "BA",
          "BA",
          "CE",
          "CE",
          "DF",
          "DF",
          "DF",
          "DF",
          "DF",
          "DF",
          "ES",
          "ES",
          "ES",
          "ES",
          "GO",
          "GO",
          "GO",
          "GO",
          "MA",
          "MA",
          "MG",
          "MG",
          "MG",
          "MS",
          "MT",
          "MT",
          "MT",
          "PA",
          "PA",
          "PA",
          "PA",
          "PB",
          "PB",
          "PE",
          "PE",
          "PE",
          "PI",
          "PI",
          "PR",
          "PR",
          "PR",
          "PR",
          "PR",
          "RJ",
          "RJ",
          "RJ",
          "RN",
          "RO",
          "RO",
          "RR",
          "RR",
          "RS",
          "RS",
          "RS",
          "RS",
          "RS",
          "SC",
          "SE",
          "SE",
          "SP",
          "SP",
          "SP",
          "SP",
          "SP",
          "TO",
          "AC",
          "AC",
          "AC",
          "AC",
          "AL",
          "AL",
          "AL",
          "AM",
          "AM",
          "AM",
          "AM",
          "AP",
          "BA",
          "BA",
          "CE",
          "CE",
          "CE",
          "DF",
          "DF",
          "DF",
          "DF",
          "DF",
          "ES",
          "ES",
          "ES",
          "ES",
          "ES",
          "GO",
          "GO",
          "GO",
          "MA",
          "MG",
          "MG",
          "MS",
          "MT",
          "MT",
          "PA",
          "PA",
          "PA",
          "PB",
          "PB",
          "PE",
          "PE",
          "PI",
          "PR",
          "PR",
          "PR",
          "PR",
          "RJ",
          "RJ",
          "RJ",
          "RJ",
          "RN",
          "RN",
          "RN",
          "RO",
          "RO",
          "RR",
          "RS",
          "RS",
          "RS",
          "RS",
          "SC",
          "SC",
          "SC",
          "SE",
          "SE",
          "SP",
          "SP",
          "SP",
          "SP",
          "TO",
          "AC",
          "AC",
          "AL",
          "AM",
          "BA",
          "BA",
          "BA",
          "BA",
          "BA",
          "CE",
          "DF",
          "DF",
          "DF",
          "DF",
          "DF",
          "ES",
          "ES",
          "GO",
          "GO",
          "MA",
          "MA",
          "MG",
          "MG",
          "MS",
          "MS",
          "MT",
          "MT",
          "PA",
          "PA",
          "PA",
          "PA",
          "PB",
          "PB",
          "PE",
          "PE",
          "PI",
          "PI",
          "PR",
          "PR",
          "PR",
          "PR",
          "RJ",
          "RJ",
          "RJ",
          "RJ",
          "RJ",
          "RO",
          "RR",
          "RS",
          "RS",
          "RS",
          "RS",
          "SC",
          "SE",
          "SP",
          "SP",
          "SP",
          "SP",
          "SP",
          "TO",
          "TO",
          "AC",
          "AC",
          "AL",
          "AL",
          "AL",
          "AP",
          "BA",
          "BA",
          "BA",
          "CE",
          "CE",
          "DF",
          "DF",
          "DF",
          "DF",
          "DF",
          "ES",
          "ES",
          "ES",
          "ES",
          "GO",
          "GO",
          "GO",
          "GO",
          "MA",
          "MA",
          "MA",
          "MG",
          "MG",
          "MS",
          "MS",
          "MT",
          "MT",
          "PA",
          "PA",
          "PA",
          "PA",
          "PE",
          "PE",
          "PI",
          "PI",
          "PR",
          "PR",
          "PR",
          "PR",
          "PR",
          "RJ",
          "RJ",
          "RJ",
          "RJ",
          "RN",
          "RN",
          "RO",
          "RO",
          "RO",
          "RS",
          "RS",
          "RS",
          "RS",
          "RS",
          "SC",
          "SC",
          "SC",
          "SE",
          "SE",
          "SP",
          "SP",
          "SP",
          "SP",
          "TO",
          "TO",
          "AC",
          "AC",
          "AL",
          "AL",
          "AL",
          "AM",
          "BA",
          "BA",
          "BA",
          "BA",
          "CE",
          "CE",
          "CE",
          "DF",
          "DF",
          "DF",
          "DF",
          "DF",
          "ES",
          "ES",
          "ES",
          "ES",
          "GO",
          "GO",
          "MA",
          "MA",
          "MG",
          "MG",
          "MG",
          "MS",
          "MS",
          "MS",
          "MT",
          "MT",
          "PA",
          "PA",
          "PA",
          "PA",
          "PB",
          "PB",
          "PE",
          "PE",
          "PE",
          "PI",
          "PR",
          "PR",
          "PR",
          "RJ",
          "RJ",
          "RJ",
          "RJ",
          "RJ",
          "RN",
          "RO",
          "RO",
          "RS",
          "RS",
          "RS",
          "RS",
          "SC",
          "SC",
          "SC",
          "SC",
          "SC",
          "SE",
          "SE",
          "SP",
          "SP",
          "SP",
          "SP",
          "TO",
          "AC",
          "AC",
          "AL",
          "AL",
          "AL",
          "BA",
          "BA",
          "CE",
          "CE",
          "DF",
          "DF",
          "DF",
          "DF",
          "DF",
          "DF",
          "ES",
          "ES",
          "GO",
          "GO",
          "GO",
          "MA",
          "MG",
          "MG",
          "MG",
          "MS",
          "MS",
          "MT",
          "MT",
          "PA",
          "PA",
          "PA",
          "PA",
          "PB",
          "PB",
          "PB",
          "PE",
          "PE",
          "PE",
          "PE",
          "PI",
          "PR",
          "PR",
          "PR",
          "PR",
          "RJ",
          "RJ",
          "RJ",
          "RJ",
          "RN",
          "RO",
          "RR",
          "RR",
          "RR",
          "RS",
          "RS",
          "RS",
          "RS",
          "RS",
          "SC",
          "SE",
          "SP",
          "SP",
          "SP",
          "TO",
          "TO",
          "TO",
          "TO",
          "AC",
          "AC",
          "AC",
          "AC",
          "AL",
          "AL",
          "AM",
          "AM",
          "AP",
          "BA",
          "BA",
          "BA",
          "CE",
          "CE",
          "DF",
          "DF",
          "DF",
          "ES",
          "ES",
          "ES",
          "GO",
          "GO",
          "MA",
          "MG",
          "MG",
          "MS",
          "MT",
          "MT",
          "MT",
          "MT",
          "PA",
          "PA",
          "PA",
          "PB",
          "PE",
          "PE",
          "PE",
          "PE",
          "PI",
          "PI",
          "PR",
          "PR",
          "PR",
          "PR",
          "RJ",
          "RJ",
          "RJ",
          "RN",
          "RO",
          "RR",
          "RR",
          "RS",
          "RS",
          "RS",
          "RS",
          "RS",
          "SC",
          "SC",
          "SE",
          "SE",
          "SE",
          "SP",
          "SP",
          "TO",
          "TO",
          "AC",
          "AC",
          "AL",
          "AL",
          "AP",
          "BA",
          "BA",
          "CE",
          "CE",
          "CE",
          "DF",
          "DF",
          "DF",
          "DF",
          "ES",
          "ES",
          "GO",
          "GO",
          "GO",
          "MA",
          "MA",
          "MG",
          "MG",
          "MG",
          "MG",
          "MS",
          "MS",
          "MS",
          "MT",
          "MT",
          "PA",
          "PA",
          "PB",
          "PB",
          "PE",
          "PE",
          "PI",
          "PI",
          "PI",
          "PR",
          "PR",
          "PR",
          "RJ",
          "RJ",
          "RN",
          "RO",
          "RO",
          "RS",
          "RS",
          "RS",
          "RS",
          "SC",
          "SE",
          "SE",
          "SE",
          "SP",
          "SP",
          "SP",
          "SP",
          "SP",
          "TO",
          "AC",
          "AC",
          "AL",
          "AL",
          "AL",
          "AL",
          "AM",
          "BA",
          "BA",
          "CE",
          "CE",
          "DF",
          "DF",
          "DF",
          "ES",
          "ES",
          "GO",
          "GO",
          "GO",
          "MA",
          "MG",
          "MG",
          "MG",
          "MS",
          "MS",
          "MT",
          "MT",
          "PA",
          "PA",
          "PA",
          "PA",
          "PA",
          "PB",
          "PE",
          "PE",
          "PE",
          "PE",
          "PR",
          "PR",
          "PR",
          "PR",
          "RJ",
          "RJ",
          "RJ",
          "RJ",
          "RO",
          "RO",
          "RR",
          "RS",
          "RS",
          "RS",
          "RS",
          "SC",
          "SC",
          "SE",
          "SP",
          "SP",
          "SP",
          "SP",
          "TO",
          "AC",
          "AC",
          "AL",
          "AL",
          "AM",
          "AM",
          "AM",
          "AP",
          "BA",
          "CE",
          "CE",
          "CE",
          "CE",
          "DF",
          "DF",
          "DF",
          "DF",
          "ES",
          "ES",
          "ES",
          "GO",
          "GO",
          "GO",
          "MA",
          "MG",
          "MS",
          "MS",
          "MT",
          "MT",
          "MT",
          "PA",
          "PA",
          "PB",
          "PB",
          "PE",
          "PE",
          "PI",
          "PR",
          "PR",
          "PR",
          "RJ",
          "RJ",
          "RJ",
          "RN",
          "RN",
          "RO",
          "RO",
          "RR",
          "RS",
          "RS",
          "RS",
          "RS",
          "RS",
          "SC",
          "SE",
          "SE",
          "SP",
          "SP",
          "SP",
          "SP",
          "SP",
          "TO",
          "AC",
          "AC",
          "AL",
          "AL",
          "AL",
          "AL",
          "AM",
          "AP",
          "BA",
          "CE",
          "CE",
          "CE",
          "DF",
          "DF",
          "DF",
          "DF",
          "DF",
          "ES",
          "ES",
          "ES",
          "ES",
          "GO",
          "GO",
          "MA",
          "MG",
          "MG",
          "MG",
          "MS",
          "MS",
          "MT",
          "PA",
          "PA",
          "PB",
          "PE",
          "PE",
          "PE",
          "PI",
          "PR",
          "PR",
          "PR",
          "RJ",
          "RJ",
          "RN",
          "RN",
          "RO",
          "RR",
          "RS",
          "RS",
          "RS",
          "RS",
          "SC",
          "SC",
          "SC",
          "SE",
          "SE",
          "SP",
          "SP",
          "SP",
          "SP",
          "SP",
          "TO",
          "TO"
         ],
         "yaxis": "y"
        }
       ],
       "layout": {
        "barmode": "relative",
        "height": 800,
        "legend": {
         "tracegroupgap": 0
        },
        "template": {
         "data": {
          "bar": [
           {
            "error_x": {
             "color": "#2a3f5f"
            },
            "error_y": {
             "color": "#2a3f5f"
            },
            "marker": {
             "line": {
              "color": "#E5ECF6",
              "width": 0.5
             },
             "pattern": {
              "fillmode": "overlay",
              "size": 10,
              "solidity": 0.2
             }
            },
            "type": "bar"
           }
          ],
          "barpolar": [
           {
            "marker": {
             "line": {
              "color": "#E5ECF6",
              "width": 0.5
             },
             "pattern": {
              "fillmode": "overlay",
              "size": 10,
              "solidity": 0.2
             }
            },
            "type": "barpolar"
           }
          ],
          "carpet": [
           {
            "aaxis": {
             "endlinecolor": "#2a3f5f",
             "gridcolor": "white",
             "linecolor": "white",
             "minorgridcolor": "white",
             "startlinecolor": "#2a3f5f"
            },
            "baxis": {
             "endlinecolor": "#2a3f5f",
             "gridcolor": "white",
             "linecolor": "white",
             "minorgridcolor": "white",
             "startlinecolor": "#2a3f5f"
            },
            "type": "carpet"
           }
          ],
          "choropleth": [
           {
            "colorbar": {
             "outlinewidth": 0,
             "ticks": ""
            },
            "type": "choropleth"
           }
          ],
          "contour": [
           {
            "colorbar": {
             "outlinewidth": 0,
             "ticks": ""
            },
            "colorscale": [
             [
              0,
              "#0d0887"
             ],
             [
              0.1111111111111111,
              "#46039f"
             ],
             [
              0.2222222222222222,
              "#7201a8"
             ],
             [
              0.3333333333333333,
              "#9c179e"
             ],
             [
              0.4444444444444444,
              "#bd3786"
             ],
             [
              0.5555555555555556,
              "#d8576b"
             ],
             [
              0.6666666666666666,
              "#ed7953"
             ],
             [
              0.7777777777777778,
              "#fb9f3a"
             ],
             [
              0.8888888888888888,
              "#fdca26"
             ],
             [
              1,
              "#f0f921"
             ]
            ],
            "type": "contour"
           }
          ],
          "contourcarpet": [
           {
            "colorbar": {
             "outlinewidth": 0,
             "ticks": ""
            },
            "type": "contourcarpet"
           }
          ],
          "heatmap": [
           {
            "colorbar": {
             "outlinewidth": 0,
             "ticks": ""
            },
            "colorscale": [
             [
              0,
              "#0d0887"
             ],
             [
              0.1111111111111111,
              "#46039f"
             ],
             [
              0.2222222222222222,
              "#7201a8"
             ],
             [
              0.3333333333333333,
              "#9c179e"
             ],
             [
              0.4444444444444444,
              "#bd3786"
             ],
             [
              0.5555555555555556,
              "#d8576b"
             ],
             [
              0.6666666666666666,
              "#ed7953"
             ],
             [
              0.7777777777777778,
              "#fb9f3a"
             ],
             [
              0.8888888888888888,
              "#fdca26"
             ],
             [
              1,
              "#f0f921"
             ]
            ],
            "type": "heatmap"
           }
          ],
          "heatmapgl": [
           {
            "colorbar": {
             "outlinewidth": 0,
             "ticks": ""
            },
            "colorscale": [
             [
              0,
              "#0d0887"
             ],
             [
              0.1111111111111111,
              "#46039f"
             ],
             [
              0.2222222222222222,
              "#7201a8"
             ],
             [
              0.3333333333333333,
              "#9c179e"
             ],
             [
              0.4444444444444444,
              "#bd3786"
             ],
             [
              0.5555555555555556,
              "#d8576b"
             ],
             [
              0.6666666666666666,
              "#ed7953"
             ],
             [
              0.7777777777777778,
              "#fb9f3a"
             ],
             [
              0.8888888888888888,
              "#fdca26"
             ],
             [
              1,
              "#f0f921"
             ]
            ],
            "type": "heatmapgl"
           }
          ],
          "histogram": [
           {
            "marker": {
             "pattern": {
              "fillmode": "overlay",
              "size": 10,
              "solidity": 0.2
             }
            },
            "type": "histogram"
           }
          ],
          "histogram2d": [
           {
            "colorbar": {
             "outlinewidth": 0,
             "ticks": ""
            },
            "colorscale": [
             [
              0,
              "#0d0887"
             ],
             [
              0.1111111111111111,
              "#46039f"
             ],
             [
              0.2222222222222222,
              "#7201a8"
             ],
             [
              0.3333333333333333,
              "#9c179e"
             ],
             [
              0.4444444444444444,
              "#bd3786"
             ],
             [
              0.5555555555555556,
              "#d8576b"
             ],
             [
              0.6666666666666666,
              "#ed7953"
             ],
             [
              0.7777777777777778,
              "#fb9f3a"
             ],
             [
              0.8888888888888888,
              "#fdca26"
             ],
             [
              1,
              "#f0f921"
             ]
            ],
            "type": "histogram2d"
           }
          ],
          "histogram2dcontour": [
           {
            "colorbar": {
             "outlinewidth": 0,
             "ticks": ""
            },
            "colorscale": [
             [
              0,
              "#0d0887"
             ],
             [
              0.1111111111111111,
              "#46039f"
             ],
             [
              0.2222222222222222,
              "#7201a8"
             ],
             [
              0.3333333333333333,
              "#9c179e"
             ],
             [
              0.4444444444444444,
              "#bd3786"
             ],
             [
              0.5555555555555556,
              "#d8576b"
             ],
             [
              0.6666666666666666,
              "#ed7953"
             ],
             [
              0.7777777777777778,
              "#fb9f3a"
             ],
             [
              0.8888888888888888,
              "#fdca26"
             ],
             [
              1,
              "#f0f921"
             ]
            ],
            "type": "histogram2dcontour"
           }
          ],
          "mesh3d": [
           {
            "colorbar": {
             "outlinewidth": 0,
             "ticks": ""
            },
            "type": "mesh3d"
           }
          ],
          "parcoords": [
           {
            "line": {
             "colorbar": {
              "outlinewidth": 0,
              "ticks": ""
             }
            },
            "type": "parcoords"
           }
          ],
          "pie": [
           {
            "automargin": true,
            "type": "pie"
           }
          ],
          "scatter": [
           {
            "fillpattern": {
             "fillmode": "overlay",
             "size": 10,
             "solidity": 0.2
            },
            "type": "scatter"
           }
          ],
          "scatter3d": [
           {
            "line": {
             "colorbar": {
              "outlinewidth": 0,
              "ticks": ""
             }
            },
            "marker": {
             "colorbar": {
              "outlinewidth": 0,
              "ticks": ""
             }
            },
            "type": "scatter3d"
           }
          ],
          "scattercarpet": [
           {
            "marker": {
             "colorbar": {
              "outlinewidth": 0,
              "ticks": ""
             }
            },
            "type": "scattercarpet"
           }
          ],
          "scattergeo": [
           {
            "marker": {
             "colorbar": {
              "outlinewidth": 0,
              "ticks": ""
             }
            },
            "type": "scattergeo"
           }
          ],
          "scattergl": [
           {
            "marker": {
             "colorbar": {
              "outlinewidth": 0,
              "ticks": ""
             }
            },
            "type": "scattergl"
           }
          ],
          "scattermapbox": [
           {
            "marker": {
             "colorbar": {
              "outlinewidth": 0,
              "ticks": ""
             }
            },
            "type": "scattermapbox"
           }
          ],
          "scatterpolar": [
           {
            "marker": {
             "colorbar": {
              "outlinewidth": 0,
              "ticks": ""
             }
            },
            "type": "scatterpolar"
           }
          ],
          "scatterpolargl": [
           {
            "marker": {
             "colorbar": {
              "outlinewidth": 0,
              "ticks": ""
             }
            },
            "type": "scatterpolargl"
           }
          ],
          "scatterternary": [
           {
            "marker": {
             "colorbar": {
              "outlinewidth": 0,
              "ticks": ""
             }
            },
            "type": "scatterternary"
           }
          ],
          "surface": [
           {
            "colorbar": {
             "outlinewidth": 0,
             "ticks": ""
            },
            "colorscale": [
             [
              0,
              "#0d0887"
             ],
             [
              0.1111111111111111,
              "#46039f"
             ],
             [
              0.2222222222222222,
              "#7201a8"
             ],
             [
              0.3333333333333333,
              "#9c179e"
             ],
             [
              0.4444444444444444,
              "#bd3786"
             ],
             [
              0.5555555555555556,
              "#d8576b"
             ],
             [
              0.6666666666666666,
              "#ed7953"
             ],
             [
              0.7777777777777778,
              "#fb9f3a"
             ],
             [
              0.8888888888888888,
              "#fdca26"
             ],
             [
              1,
              "#f0f921"
             ]
            ],
            "type": "surface"
           }
          ],
          "table": [
           {
            "cells": {
             "fill": {
              "color": "#EBF0F8"
             },
             "line": {
              "color": "white"
             }
            },
            "header": {
             "fill": {
              "color": "#C8D4E3"
             },
             "line": {
              "color": "white"
             }
            },
            "type": "table"
           }
          ]
         },
         "layout": {
          "annotationdefaults": {
           "arrowcolor": "#2a3f5f",
           "arrowhead": 0,
           "arrowwidth": 1
          },
          "autotypenumbers": "strict",
          "coloraxis": {
           "colorbar": {
            "outlinewidth": 0,
            "ticks": ""
           }
          },
          "colorscale": {
           "diverging": [
            [
             0,
             "#8e0152"
            ],
            [
             0.1,
             "#c51b7d"
            ],
            [
             0.2,
             "#de77ae"
            ],
            [
             0.3,
             "#f1b6da"
            ],
            [
             0.4,
             "#fde0ef"
            ],
            [
             0.5,
             "#f7f7f7"
            ],
            [
             0.6,
             "#e6f5d0"
            ],
            [
             0.7,
             "#b8e186"
            ],
            [
             0.8,
             "#7fbc41"
            ],
            [
             0.9,
             "#4d9221"
            ],
            [
             1,
             "#276419"
            ]
           ],
           "sequential": [
            [
             0,
             "#0d0887"
            ],
            [
             0.1111111111111111,
             "#46039f"
            ],
            [
             0.2222222222222222,
             "#7201a8"
            ],
            [
             0.3333333333333333,
             "#9c179e"
            ],
            [
             0.4444444444444444,
             "#bd3786"
            ],
            [
             0.5555555555555556,
             "#d8576b"
            ],
            [
             0.6666666666666666,
             "#ed7953"
            ],
            [
             0.7777777777777778,
             "#fb9f3a"
            ],
            [
             0.8888888888888888,
             "#fdca26"
            ],
            [
             1,
             "#f0f921"
            ]
           ],
           "sequentialminus": [
            [
             0,
             "#0d0887"
            ],
            [
             0.1111111111111111,
             "#46039f"
            ],
            [
             0.2222222222222222,
             "#7201a8"
            ],
            [
             0.3333333333333333,
             "#9c179e"
            ],
            [
             0.4444444444444444,
             "#bd3786"
            ],
            [
             0.5555555555555556,
             "#d8576b"
            ],
            [
             0.6666666666666666,
             "#ed7953"
            ],
            [
             0.7777777777777778,
             "#fb9f3a"
            ],
            [
             0.8888888888888888,
             "#fdca26"
            ],
            [
             1,
             "#f0f921"
            ]
           ]
          },
          "colorway": [
           "#636efa",
           "#EF553B",
           "#00cc96",
           "#ab63fa",
           "#FFA15A",
           "#19d3f3",
           "#FF6692",
           "#B6E880",
           "#FF97FF",
           "#FECB52"
          ],
          "font": {
           "color": "#2a3f5f"
          },
          "geo": {
           "bgcolor": "white",
           "lakecolor": "white",
           "landcolor": "#E5ECF6",
           "showlakes": true,
           "showland": true,
           "subunitcolor": "white"
          },
          "hoverlabel": {
           "align": "left"
          },
          "hovermode": "closest",
          "mapbox": {
           "style": "light"
          },
          "paper_bgcolor": "white",
          "plot_bgcolor": "#E5ECF6",
          "polar": {
           "angularaxis": {
            "gridcolor": "white",
            "linecolor": "white",
            "ticks": ""
           },
           "bgcolor": "#E5ECF6",
           "radialaxis": {
            "gridcolor": "white",
            "linecolor": "white",
            "ticks": ""
           }
          },
          "scene": {
           "xaxis": {
            "backgroundcolor": "#E5ECF6",
            "gridcolor": "white",
            "gridwidth": 2,
            "linecolor": "white",
            "showbackground": true,
            "ticks": "",
            "zerolinecolor": "white"
           },
           "yaxis": {
            "backgroundcolor": "#E5ECF6",
            "gridcolor": "white",
            "gridwidth": 2,
            "linecolor": "white",
            "showbackground": true,
            "ticks": "",
            "zerolinecolor": "white"
           },
           "zaxis": {
            "backgroundcolor": "#E5ECF6",
            "gridcolor": "white",
            "gridwidth": 2,
            "linecolor": "white",
            "showbackground": true,
            "ticks": "",
            "zerolinecolor": "white"
           }
          },
          "shapedefaults": {
           "line": {
            "color": "#2a3f5f"
           }
          },
          "ternary": {
           "aaxis": {
            "gridcolor": "white",
            "linecolor": "white",
            "ticks": ""
           },
           "baxis": {
            "gridcolor": "white",
            "linecolor": "white",
            "ticks": ""
           },
           "bgcolor": "#E5ECF6",
           "caxis": {
            "gridcolor": "white",
            "linecolor": "white",
            "ticks": ""
           }
          },
          "title": {
           "x": 0.05
          },
          "xaxis": {
           "automargin": true,
           "gridcolor": "white",
           "linecolor": "white",
           "ticks": "",
           "title": {
            "standoff": 15
           },
           "zerolinecolor": "white",
           "zerolinewidth": 2
          },
          "yaxis": {
           "automargin": true,
           "gridcolor": "white",
           "linecolor": "white",
           "ticks": "",
           "title": {
            "standoff": 15
           },
           "zerolinecolor": "white",
           "zerolinewidth": 2
          }
         }
        },
        "title": {
         "text": "Total de portes de arma por estado"
        },
        "xaxis": {
         "anchor": "y",
         "domain": [
          0,
          1
         ],
         "title": {
          "text": "TOTAL"
         }
        },
        "yaxis": {
         "anchor": "x",
         "domain": [
          0,
          1
         ],
         "title": {
          "text": "UF"
         }
        }
       }
      },
      "text/html": [
       "<div>                            <div id=\"1ac787ef-457a-461b-a2a9-9eb898ec2091\" class=\"plotly-graph-div\" style=\"height:800px; width:100%;\"></div>            <script type=\"text/javascript\">                require([\"plotly\"], function(Plotly) {                    window.PLOTLYENV=window.PLOTLYENV || {};                                    if (document.getElementById(\"1ac787ef-457a-461b-a2a9-9eb898ec2091\")) {                    Plotly.newPlot(                        \"1ac787ef-457a-461b-a2a9-9eb898ec2091\",                        [{\"alignmentgroup\":\"True\",\"hovertemplate\":\"TOTAL=%{x}<br>UF=%{y}<extra></extra>\",\"legendgroup\":\"\",\"marker\":{\"color\":\"#636efa\",\"pattern\":{\"shape\":\"\"}},\"name\":\"\",\"offsetgroup\":\"\",\"orientation\":\"h\",\"showlegend\":false,\"textposition\":\"auto\",\"x\":[15,3,1,12,1,1,55,1,1,9,2,1,2,30,19,60,3,5,18,2,19,5,7,1,44,8,22,1,19,9,3,10,2,38,17,7,1,1,4,1,12,1,40,5,6,12,12,3,68,29,3,131,5,7,32,1,1,32,4,1,1,16,4,1,28,3,22,1,22,56,3,41,4,2,59,1,27,25,1,68,1,2,11,3,135,4,32,3,14,2,35,13,1,151,1,5,3,14,11,1,1,1,9,2,1,65,41,3,12,112,3,5,1,37,91,6,7,67,8,18,2,2,5,36,490,13,88,8,2,10,1,25,6,1,20,1,3,1,2,1,2,2,6,8,1,30,87,38,8,134,1,38,2,6,9,17,1,22,17,7,5,11,8,1,10,1,16,5,1,3,1,1,1,6,24,1,31,3,4,5,3,1,1,10,1,3,123,14,5,18,24,1,4,6,3,38,8,581,4,2,2,4,11,33,8,1,27,8,4,3,36,36,5,5,1,27,1,7,1,4,1,2,95,6,3,10,1,26,6,3,4,2,1,14,1,1,1,5,2,180,146,1,42,1,7,15,10,2,91,5,7,6,25,7,23,1,335,4,6,2,5,4,5,26,2,2,4,9,2,7,6,13,1,40,46,2,4,1,39,2,10,1,22,12,2,1,1,2,5,123,26,2,3,18,30,3,1,6,9,1,3,2,13,7,2,68,7,1,52,1,2,2,3,3,1,5,141,4,7,8,1,17,1,2,2,17,1,27,236,27,1,1,8,1,11,1,5,2,12,1,14,6,4,36,1,5,29,26,37,17,34,1,17,2,23,16,1,24,1,5,80,22,3,6,11,4,36,4,2,16,1,2,1,6,6,1,11,3,1,2,22,3,2,2,3,3,2,105,8,4,51,3,9,1,56,2,1,1,10,1,541,6,1,20,5,16,1,2,2,24,4,39,4,53,94,11,80,19,62,1,1,15,24,2,1,5,1,13,2,23,5,48,4,2,57,5,1,3,1,9,1,22,1,5,5,2,1,1,21,7,8,3,3,2,1,1,96,8,5,30,1,13,2,29,160,8,1,1,2,2,4,12,1,1,8,2,1,8,1,6,1,6,7,7,38,29,4,41,2,32,14,7,2,2,74,8,9,2,1,1,49,7,2,64,8,2,30,2,1,3,13,3,22,2,26,1,44,1,2,1,38,86,4,4,4,4,16,5,4,1,14,34,303,1,13,9,4,5,7,5,2,17,4,3,14,2,30,59,27,46,9,9,29,5,2,4,2,1,177,2,16,4,4,15,2,46,8,5,3,11,1,1,1,1,18,1,4,18,1,31,4,1,87,5,4,14,11,1,1,8,18,1,208,3,2,3,10,5,19,3,1,110,1,1,30,2,50,23,29,4,54,3,34,3,34,6,1,1,1,9,2,2,8,7,13,1,40,1,3,7,2,2,7,14,4,1,1,9,1,2,4,2,2,1,134,16,12,22,2,4,3,17,315,1,6,3,9,3,24,1,1,3,1,1,6,3,1,3,3,58,59,25,6,20,2,1,1,16,92,5,2,19,1,2,21,4,14,17,1,5,7,1,1,16,2,23,10,1,2,5,1,4,4,1,83,10,7,1,2,11,2,61,27,1,286,1,10,56,1,1,30,5,1,24,1,10,19,2,2,157,46,60,22,2,13,44,2,1,3,19,35,4,2,32,1,39,2,16,36,11,3,4,1,5,2,8,5,15,4,18,5,6,7,2,78,4,8,5,5,5,10,1,19,44,2,435,4,2,1,4],\"xaxis\":\"x\",\"y\":[\"AC\",\"AC\",\"AC\",\"AL\",\"AL\",\"AL\",\"AL\",\"AM\",\"AP\",\"BA\",\"CE\",\"CE\",\"CE\",\"DF\",\"DF\",\"ES\",\"ES\",\"ES\",\"GO\",\"GO\",\"GO\",\"MA\",\"MG\",\"MG\",\"MS\",\"MS\",\"MT\",\"MT\",\"PA\",\"PA\",\"PB\",\"PE\",\"PI\",\"PI\",\"PR\",\"PR\",\"PR\",\"PR\",\"RJ\",\"RN\",\"RO\",\"RO\",\"RS\",\"RS\",\"RS\",\"SC\",\"SC\",\"SE\",\"SE\",\"SP\",\"SP\",\"SP\",\"AC\",\"AC\",\"AL\",\"AL\",\"AL\",\"AL\",\"AL\",\"AM\",\"AP\",\"BA\",\"BA\",\"BA\",\"BA\",\"CE\",\"CE\",\"DF\",\"DF\",\"DF\",\"DF\",\"DF\",\"DF\",\"ES\",\"ES\",\"ES\",\"ES\",\"GO\",\"GO\",\"GO\",\"GO\",\"MA\",\"MA\",\"MG\",\"MG\",\"MG\",\"MS\",\"MT\",\"MT\",\"MT\",\"PA\",\"PA\",\"PA\",\"PA\",\"PB\",\"PB\",\"PE\",\"PE\",\"PE\",\"PI\",\"PI\",\"PR\",\"PR\",\"PR\",\"PR\",\"PR\",\"RJ\",\"RJ\",\"RJ\",\"RN\",\"RO\",\"RO\",\"RR\",\"RR\",\"RS\",\"RS\",\"RS\",\"RS\",\"RS\",\"SC\",\"SE\",\"SE\",\"SP\",\"SP\",\"SP\",\"SP\",\"SP\",\"TO\",\"AC\",\"AC\",\"AC\",\"AC\",\"AL\",\"AL\",\"AL\",\"AM\",\"AM\",\"AM\",\"AM\",\"AP\",\"BA\",\"BA\",\"CE\",\"CE\",\"CE\",\"DF\",\"DF\",\"DF\",\"DF\",\"DF\",\"ES\",\"ES\",\"ES\",\"ES\",\"ES\",\"GO\",\"GO\",\"GO\",\"MA\",\"MG\",\"MG\",\"MS\",\"MT\",\"MT\",\"PA\",\"PA\",\"PA\",\"PB\",\"PB\",\"PE\",\"PE\",\"PI\",\"PR\",\"PR\",\"PR\",\"PR\",\"RJ\",\"RJ\",\"RJ\",\"RJ\",\"RN\",\"RN\",\"RN\",\"RO\",\"RO\",\"RR\",\"RS\",\"RS\",\"RS\",\"RS\",\"SC\",\"SC\",\"SC\",\"SE\",\"SE\",\"SP\",\"SP\",\"SP\",\"SP\",\"TO\",\"AC\",\"AC\",\"AL\",\"AM\",\"BA\",\"BA\",\"BA\",\"BA\",\"BA\",\"CE\",\"DF\",\"DF\",\"DF\",\"DF\",\"DF\",\"ES\",\"ES\",\"GO\",\"GO\",\"MA\",\"MA\",\"MG\",\"MG\",\"MS\",\"MS\",\"MT\",\"MT\",\"PA\",\"PA\",\"PA\",\"PA\",\"PB\",\"PB\",\"PE\",\"PE\",\"PI\",\"PI\",\"PR\",\"PR\",\"PR\",\"PR\",\"RJ\",\"RJ\",\"RJ\",\"RJ\",\"RJ\",\"RO\",\"RR\",\"RS\",\"RS\",\"RS\",\"RS\",\"SC\",\"SE\",\"SP\",\"SP\",\"SP\",\"SP\",\"SP\",\"TO\",\"TO\",\"AC\",\"AC\",\"AL\",\"AL\",\"AL\",\"AP\",\"BA\",\"BA\",\"BA\",\"CE\",\"CE\",\"DF\",\"DF\",\"DF\",\"DF\",\"DF\",\"ES\",\"ES\",\"ES\",\"ES\",\"GO\",\"GO\",\"GO\",\"GO\",\"MA\",\"MA\",\"MA\",\"MG\",\"MG\",\"MS\",\"MS\",\"MT\",\"MT\",\"PA\",\"PA\",\"PA\",\"PA\",\"PE\",\"PE\",\"PI\",\"PI\",\"PR\",\"PR\",\"PR\",\"PR\",\"PR\",\"RJ\",\"RJ\",\"RJ\",\"RJ\",\"RN\",\"RN\",\"RO\",\"RO\",\"RO\",\"RS\",\"RS\",\"RS\",\"RS\",\"RS\",\"SC\",\"SC\",\"SC\",\"SE\",\"SE\",\"SP\",\"SP\",\"SP\",\"SP\",\"TO\",\"TO\",\"AC\",\"AC\",\"AL\",\"AL\",\"AL\",\"AM\",\"BA\",\"BA\",\"BA\",\"BA\",\"CE\",\"CE\",\"CE\",\"DF\",\"DF\",\"DF\",\"DF\",\"DF\",\"ES\",\"ES\",\"ES\",\"ES\",\"GO\",\"GO\",\"MA\",\"MA\",\"MG\",\"MG\",\"MG\",\"MS\",\"MS\",\"MS\",\"MT\",\"MT\",\"PA\",\"PA\",\"PA\",\"PA\",\"PB\",\"PB\",\"PE\",\"PE\",\"PE\",\"PI\",\"PR\",\"PR\",\"PR\",\"RJ\",\"RJ\",\"RJ\",\"RJ\",\"RJ\",\"RN\",\"RO\",\"RO\",\"RS\",\"RS\",\"RS\",\"RS\",\"SC\",\"SC\",\"SC\",\"SC\",\"SC\",\"SE\",\"SE\",\"SP\",\"SP\",\"SP\",\"SP\",\"TO\",\"AC\",\"AC\",\"AL\",\"AL\",\"AL\",\"BA\",\"BA\",\"CE\",\"CE\",\"DF\",\"DF\",\"DF\",\"DF\",\"DF\",\"DF\",\"ES\",\"ES\",\"GO\",\"GO\",\"GO\",\"MA\",\"MG\",\"MG\",\"MG\",\"MS\",\"MS\",\"MT\",\"MT\",\"PA\",\"PA\",\"PA\",\"PA\",\"PB\",\"PB\",\"PB\",\"PE\",\"PE\",\"PE\",\"PE\",\"PI\",\"PR\",\"PR\",\"PR\",\"PR\",\"RJ\",\"RJ\",\"RJ\",\"RJ\",\"RN\",\"RO\",\"RR\",\"RR\",\"RR\",\"RS\",\"RS\",\"RS\",\"RS\",\"RS\",\"SC\",\"SE\",\"SP\",\"SP\",\"SP\",\"TO\",\"TO\",\"TO\",\"TO\",\"AC\",\"AC\",\"AC\",\"AC\",\"AL\",\"AL\",\"AM\",\"AM\",\"AP\",\"BA\",\"BA\",\"BA\",\"CE\",\"CE\",\"DF\",\"DF\",\"DF\",\"ES\",\"ES\",\"ES\",\"GO\",\"GO\",\"MA\",\"MG\",\"MG\",\"MS\",\"MT\",\"MT\",\"MT\",\"MT\",\"PA\",\"PA\",\"PA\",\"PB\",\"PE\",\"PE\",\"PE\",\"PE\",\"PI\",\"PI\",\"PR\",\"PR\",\"PR\",\"PR\",\"RJ\",\"RJ\",\"RJ\",\"RN\",\"RO\",\"RR\",\"RR\",\"RS\",\"RS\",\"RS\",\"RS\",\"RS\",\"SC\",\"SC\",\"SE\",\"SE\",\"SE\",\"SP\",\"SP\",\"TO\",\"TO\",\"AC\",\"AC\",\"AL\",\"AL\",\"AP\",\"BA\",\"BA\",\"CE\",\"CE\",\"CE\",\"DF\",\"DF\",\"DF\",\"DF\",\"ES\",\"ES\",\"GO\",\"GO\",\"GO\",\"MA\",\"MA\",\"MG\",\"MG\",\"MG\",\"MG\",\"MS\",\"MS\",\"MS\",\"MT\",\"MT\",\"PA\",\"PA\",\"PB\",\"PB\",\"PE\",\"PE\",\"PI\",\"PI\",\"PI\",\"PR\",\"PR\",\"PR\",\"RJ\",\"RJ\",\"RN\",\"RO\",\"RO\",\"RS\",\"RS\",\"RS\",\"RS\",\"SC\",\"SE\",\"SE\",\"SE\",\"SP\",\"SP\",\"SP\",\"SP\",\"SP\",\"TO\",\"AC\",\"AC\",\"AL\",\"AL\",\"AL\",\"AL\",\"AM\",\"BA\",\"BA\",\"CE\",\"CE\",\"DF\",\"DF\",\"DF\",\"ES\",\"ES\",\"GO\",\"GO\",\"GO\",\"MA\",\"MG\",\"MG\",\"MG\",\"MS\",\"MS\",\"MT\",\"MT\",\"PA\",\"PA\",\"PA\",\"PA\",\"PA\",\"PB\",\"PE\",\"PE\",\"PE\",\"PE\",\"PR\",\"PR\",\"PR\",\"PR\",\"RJ\",\"RJ\",\"RJ\",\"RJ\",\"RO\",\"RO\",\"RR\",\"RS\",\"RS\",\"RS\",\"RS\",\"SC\",\"SC\",\"SE\",\"SP\",\"SP\",\"SP\",\"SP\",\"TO\",\"AC\",\"AC\",\"AL\",\"AL\",\"AM\",\"AM\",\"AM\",\"AP\",\"BA\",\"CE\",\"CE\",\"CE\",\"CE\",\"DF\",\"DF\",\"DF\",\"DF\",\"ES\",\"ES\",\"ES\",\"GO\",\"GO\",\"GO\",\"MA\",\"MG\",\"MS\",\"MS\",\"MT\",\"MT\",\"MT\",\"PA\",\"PA\",\"PB\",\"PB\",\"PE\",\"PE\",\"PI\",\"PR\",\"PR\",\"PR\",\"RJ\",\"RJ\",\"RJ\",\"RN\",\"RN\",\"RO\",\"RO\",\"RR\",\"RS\",\"RS\",\"RS\",\"RS\",\"RS\",\"SC\",\"SE\",\"SE\",\"SP\",\"SP\",\"SP\",\"SP\",\"SP\",\"TO\",\"AC\",\"AC\",\"AL\",\"AL\",\"AL\",\"AL\",\"AM\",\"AP\",\"BA\",\"CE\",\"CE\",\"CE\",\"DF\",\"DF\",\"DF\",\"DF\",\"DF\",\"ES\",\"ES\",\"ES\",\"ES\",\"GO\",\"GO\",\"MA\",\"MG\",\"MG\",\"MG\",\"MS\",\"MS\",\"MT\",\"PA\",\"PA\",\"PB\",\"PE\",\"PE\",\"PE\",\"PI\",\"PR\",\"PR\",\"PR\",\"RJ\",\"RJ\",\"RN\",\"RN\",\"RO\",\"RR\",\"RS\",\"RS\",\"RS\",\"RS\",\"SC\",\"SC\",\"SC\",\"SE\",\"SE\",\"SP\",\"SP\",\"SP\",\"SP\",\"SP\",\"TO\",\"TO\"],\"yaxis\":\"y\",\"type\":\"bar\"}],                        {\"template\":{\"data\":{\"histogram2dcontour\":[{\"type\":\"histogram2dcontour\",\"colorbar\":{\"outlinewidth\":0,\"ticks\":\"\"},\"colorscale\":[[0.0,\"#0d0887\"],[0.1111111111111111,\"#46039f\"],[0.2222222222222222,\"#7201a8\"],[0.3333333333333333,\"#9c179e\"],[0.4444444444444444,\"#bd3786\"],[0.5555555555555556,\"#d8576b\"],[0.6666666666666666,\"#ed7953\"],[0.7777777777777778,\"#fb9f3a\"],[0.8888888888888888,\"#fdca26\"],[1.0,\"#f0f921\"]]}],\"choropleth\":[{\"type\":\"choropleth\",\"colorbar\":{\"outlinewidth\":0,\"ticks\":\"\"}}],\"histogram2d\":[{\"type\":\"histogram2d\",\"colorbar\":{\"outlinewidth\":0,\"ticks\":\"\"},\"colorscale\":[[0.0,\"#0d0887\"],[0.1111111111111111,\"#46039f\"],[0.2222222222222222,\"#7201a8\"],[0.3333333333333333,\"#9c179e\"],[0.4444444444444444,\"#bd3786\"],[0.5555555555555556,\"#d8576b\"],[0.6666666666666666,\"#ed7953\"],[0.7777777777777778,\"#fb9f3a\"],[0.8888888888888888,\"#fdca26\"],[1.0,\"#f0f921\"]]}],\"heatmap\":[{\"type\":\"heatmap\",\"colorbar\":{\"outlinewidth\":0,\"ticks\":\"\"},\"colorscale\":[[0.0,\"#0d0887\"],[0.1111111111111111,\"#46039f\"],[0.2222222222222222,\"#7201a8\"],[0.3333333333333333,\"#9c179e\"],[0.4444444444444444,\"#bd3786\"],[0.5555555555555556,\"#d8576b\"],[0.6666666666666666,\"#ed7953\"],[0.7777777777777778,\"#fb9f3a\"],[0.8888888888888888,\"#fdca26\"],[1.0,\"#f0f921\"]]}],\"heatmapgl\":[{\"type\":\"heatmapgl\",\"colorbar\":{\"outlinewidth\":0,\"ticks\":\"\"},\"colorscale\":[[0.0,\"#0d0887\"],[0.1111111111111111,\"#46039f\"],[0.2222222222222222,\"#7201a8\"],[0.3333333333333333,\"#9c179e\"],[0.4444444444444444,\"#bd3786\"],[0.5555555555555556,\"#d8576b\"],[0.6666666666666666,\"#ed7953\"],[0.7777777777777778,\"#fb9f3a\"],[0.8888888888888888,\"#fdca26\"],[1.0,\"#f0f921\"]]}],\"contourcarpet\":[{\"type\":\"contourcarpet\",\"colorbar\":{\"outlinewidth\":0,\"ticks\":\"\"}}],\"contour\":[{\"type\":\"contour\",\"colorbar\":{\"outlinewidth\":0,\"ticks\":\"\"},\"colorscale\":[[0.0,\"#0d0887\"],[0.1111111111111111,\"#46039f\"],[0.2222222222222222,\"#7201a8\"],[0.3333333333333333,\"#9c179e\"],[0.4444444444444444,\"#bd3786\"],[0.5555555555555556,\"#d8576b\"],[0.6666666666666666,\"#ed7953\"],[0.7777777777777778,\"#fb9f3a\"],[0.8888888888888888,\"#fdca26\"],[1.0,\"#f0f921\"]]}],\"surface\":[{\"type\":\"surface\",\"colorbar\":{\"outlinewidth\":0,\"ticks\":\"\"},\"colorscale\":[[0.0,\"#0d0887\"],[0.1111111111111111,\"#46039f\"],[0.2222222222222222,\"#7201a8\"],[0.3333333333333333,\"#9c179e\"],[0.4444444444444444,\"#bd3786\"],[0.5555555555555556,\"#d8576b\"],[0.6666666666666666,\"#ed7953\"],[0.7777777777777778,\"#fb9f3a\"],[0.8888888888888888,\"#fdca26\"],[1.0,\"#f0f921\"]]}],\"mesh3d\":[{\"type\":\"mesh3d\",\"colorbar\":{\"outlinewidth\":0,\"ticks\":\"\"}}],\"scatter\":[{\"fillpattern\":{\"fillmode\":\"overlay\",\"size\":10,\"solidity\":0.2},\"type\":\"scatter\"}],\"parcoords\":[{\"type\":\"parcoords\",\"line\":{\"colorbar\":{\"outlinewidth\":0,\"ticks\":\"\"}}}],\"scatterpolargl\":[{\"type\":\"scatterpolargl\",\"marker\":{\"colorbar\":{\"outlinewidth\":0,\"ticks\":\"\"}}}],\"bar\":[{\"error_x\":{\"color\":\"#2a3f5f\"},\"error_y\":{\"color\":\"#2a3f5f\"},\"marker\":{\"line\":{\"color\":\"#E5ECF6\",\"width\":0.5},\"pattern\":{\"fillmode\":\"overlay\",\"size\":10,\"solidity\":0.2}},\"type\":\"bar\"}],\"scattergeo\":[{\"type\":\"scattergeo\",\"marker\":{\"colorbar\":{\"outlinewidth\":0,\"ticks\":\"\"}}}],\"scatterpolar\":[{\"type\":\"scatterpolar\",\"marker\":{\"colorbar\":{\"outlinewidth\":0,\"ticks\":\"\"}}}],\"histogram\":[{\"marker\":{\"pattern\":{\"fillmode\":\"overlay\",\"size\":10,\"solidity\":0.2}},\"type\":\"histogram\"}],\"scattergl\":[{\"type\":\"scattergl\",\"marker\":{\"colorbar\":{\"outlinewidth\":0,\"ticks\":\"\"}}}],\"scatter3d\":[{\"type\":\"scatter3d\",\"line\":{\"colorbar\":{\"outlinewidth\":0,\"ticks\":\"\"}},\"marker\":{\"colorbar\":{\"outlinewidth\":0,\"ticks\":\"\"}}}],\"scattermapbox\":[{\"type\":\"scattermapbox\",\"marker\":{\"colorbar\":{\"outlinewidth\":0,\"ticks\":\"\"}}}],\"scatterternary\":[{\"type\":\"scatterternary\",\"marker\":{\"colorbar\":{\"outlinewidth\":0,\"ticks\":\"\"}}}],\"scattercarpet\":[{\"type\":\"scattercarpet\",\"marker\":{\"colorbar\":{\"outlinewidth\":0,\"ticks\":\"\"}}}],\"carpet\":[{\"aaxis\":{\"endlinecolor\":\"#2a3f5f\",\"gridcolor\":\"white\",\"linecolor\":\"white\",\"minorgridcolor\":\"white\",\"startlinecolor\":\"#2a3f5f\"},\"baxis\":{\"endlinecolor\":\"#2a3f5f\",\"gridcolor\":\"white\",\"linecolor\":\"white\",\"minorgridcolor\":\"white\",\"startlinecolor\":\"#2a3f5f\"},\"type\":\"carpet\"}],\"table\":[{\"cells\":{\"fill\":{\"color\":\"#EBF0F8\"},\"line\":{\"color\":\"white\"}},\"header\":{\"fill\":{\"color\":\"#C8D4E3\"},\"line\":{\"color\":\"white\"}},\"type\":\"table\"}],\"barpolar\":[{\"marker\":{\"line\":{\"color\":\"#E5ECF6\",\"width\":0.5},\"pattern\":{\"fillmode\":\"overlay\",\"size\":10,\"solidity\":0.2}},\"type\":\"barpolar\"}],\"pie\":[{\"automargin\":true,\"type\":\"pie\"}]},\"layout\":{\"autotypenumbers\":\"strict\",\"colorway\":[\"#636efa\",\"#EF553B\",\"#00cc96\",\"#ab63fa\",\"#FFA15A\",\"#19d3f3\",\"#FF6692\",\"#B6E880\",\"#FF97FF\",\"#FECB52\"],\"font\":{\"color\":\"#2a3f5f\"},\"hovermode\":\"closest\",\"hoverlabel\":{\"align\":\"left\"},\"paper_bgcolor\":\"white\",\"plot_bgcolor\":\"#E5ECF6\",\"polar\":{\"bgcolor\":\"#E5ECF6\",\"angularaxis\":{\"gridcolor\":\"white\",\"linecolor\":\"white\",\"ticks\":\"\"},\"radialaxis\":{\"gridcolor\":\"white\",\"linecolor\":\"white\",\"ticks\":\"\"}},\"ternary\":{\"bgcolor\":\"#E5ECF6\",\"aaxis\":{\"gridcolor\":\"white\",\"linecolor\":\"white\",\"ticks\":\"\"},\"baxis\":{\"gridcolor\":\"white\",\"linecolor\":\"white\",\"ticks\":\"\"},\"caxis\":{\"gridcolor\":\"white\",\"linecolor\":\"white\",\"ticks\":\"\"}},\"coloraxis\":{\"colorbar\":{\"outlinewidth\":0,\"ticks\":\"\"}},\"colorscale\":{\"sequential\":[[0.0,\"#0d0887\"],[0.1111111111111111,\"#46039f\"],[0.2222222222222222,\"#7201a8\"],[0.3333333333333333,\"#9c179e\"],[0.4444444444444444,\"#bd3786\"],[0.5555555555555556,\"#d8576b\"],[0.6666666666666666,\"#ed7953\"],[0.7777777777777778,\"#fb9f3a\"],[0.8888888888888888,\"#fdca26\"],[1.0,\"#f0f921\"]],\"sequentialminus\":[[0.0,\"#0d0887\"],[0.1111111111111111,\"#46039f\"],[0.2222222222222222,\"#7201a8\"],[0.3333333333333333,\"#9c179e\"],[0.4444444444444444,\"#bd3786\"],[0.5555555555555556,\"#d8576b\"],[0.6666666666666666,\"#ed7953\"],[0.7777777777777778,\"#fb9f3a\"],[0.8888888888888888,\"#fdca26\"],[1.0,\"#f0f921\"]],\"diverging\":[[0,\"#8e0152\"],[0.1,\"#c51b7d\"],[0.2,\"#de77ae\"],[0.3,\"#f1b6da\"],[0.4,\"#fde0ef\"],[0.5,\"#f7f7f7\"],[0.6,\"#e6f5d0\"],[0.7,\"#b8e186\"],[0.8,\"#7fbc41\"],[0.9,\"#4d9221\"],[1,\"#276419\"]]},\"xaxis\":{\"gridcolor\":\"white\",\"linecolor\":\"white\",\"ticks\":\"\",\"title\":{\"standoff\":15},\"zerolinecolor\":\"white\",\"automargin\":true,\"zerolinewidth\":2},\"yaxis\":{\"gridcolor\":\"white\",\"linecolor\":\"white\",\"ticks\":\"\",\"title\":{\"standoff\":15},\"zerolinecolor\":\"white\",\"automargin\":true,\"zerolinewidth\":2},\"scene\":{\"xaxis\":{\"backgroundcolor\":\"#E5ECF6\",\"gridcolor\":\"white\",\"linecolor\":\"white\",\"showbackground\":true,\"ticks\":\"\",\"zerolinecolor\":\"white\",\"gridwidth\":2},\"yaxis\":{\"backgroundcolor\":\"#E5ECF6\",\"gridcolor\":\"white\",\"linecolor\":\"white\",\"showbackground\":true,\"ticks\":\"\",\"zerolinecolor\":\"white\",\"gridwidth\":2},\"zaxis\":{\"backgroundcolor\":\"#E5ECF6\",\"gridcolor\":\"white\",\"linecolor\":\"white\",\"showbackground\":true,\"ticks\":\"\",\"zerolinecolor\":\"white\",\"gridwidth\":2}},\"shapedefaults\":{\"line\":{\"color\":\"#2a3f5f\"}},\"annotationdefaults\":{\"arrowcolor\":\"#2a3f5f\",\"arrowhead\":0,\"arrowwidth\":1},\"geo\":{\"bgcolor\":\"white\",\"landcolor\":\"#E5ECF6\",\"subunitcolor\":\"white\",\"showland\":true,\"showlakes\":true,\"lakecolor\":\"white\"},\"title\":{\"x\":0.05},\"mapbox\":{\"style\":\"light\"}}},\"xaxis\":{\"anchor\":\"y\",\"domain\":[0.0,1.0],\"title\":{\"text\":\"TOTAL\"}},\"yaxis\":{\"anchor\":\"x\",\"domain\":[0.0,1.0],\"title\":{\"text\":\"UF\"}},\"legend\":{\"tracegroupgap\":0},\"title\":{\"text\":\"Total de portes de arma por estado\"},\"barmode\":\"relative\",\"height\":800},                        {\"responsive\": true}                    ).then(function(){\n",
       "                            \n",
       "var gd = document.getElementById('1ac787ef-457a-461b-a2a9-9eb898ec2091');\n",
       "var x = new MutationObserver(function (mutations, observer) {{\n",
       "        var display = window.getComputedStyle(gd).display;\n",
       "        if (!display || display === 'none') {{\n",
       "            console.log([gd, 'removed!']);\n",
       "            Plotly.purge(gd);\n",
       "            observer.disconnect();\n",
       "        }}\n",
       "}});\n",
       "\n",
       "// Listen for the removal of the full notebook cells\n",
       "var notebookContainer = gd.closest('#notebook-container');\n",
       "if (notebookContainer) {{\n",
       "    x.observe(notebookContainer, {childList: true});\n",
       "}}\n",
       "\n",
       "// Listen for the clearing of the current output cell\n",
       "var outputEl = gd.closest('.output');\n",
       "if (outputEl) {{\n",
       "    x.observe(outputEl, {childList: true});\n",
       "}}\n",
       "\n",
       "                        })                };                });            </script>        </div>"
      ]
     },
     "metadata": {},
     "output_type": "display_data"
    }
   ],
   "source": [
    "fig = px.bar(df_porte, x='TOTAL', y='UF', title='Total de portes de arma por estado', height=800)\n",
    "fig.show()"
   ]
  },
  {
   "cell_type": "code",
   "execution_count": 73,
   "id": "6a3520f5",
   "metadata": {},
   "outputs": [
    {
     "data": {
      "application/vnd.plotly.v1+json": {
       "config": {
        "plotlyServerURL": "https://plot.ly"
       },
       "data": [
        {
         "alignmentgroup": "True",
         "hovertemplate": "TOTAL=%{x}<br>CATEGORIA=%{y}<extra></extra>",
         "legendgroup": "",
         "marker": {
          "color": "#636efa",
          "pattern": {
           "shape": ""
          }
         },
         "name": "",
         "offsetgroup": "",
         "orientation": "h",
         "showlegend": false,
         "textposition": "auto",
         "type": "bar",
         "x": [
          15,
          3,
          1,
          12,
          1,
          1,
          55,
          1,
          1,
          9,
          2,
          1,
          2,
          30,
          19,
          60,
          3,
          5,
          18,
          2,
          19,
          5,
          7,
          1,
          44,
          8,
          22,
          1,
          19,
          9,
          3,
          10,
          2,
          38,
          17,
          7,
          1,
          1,
          4,
          1,
          12,
          1,
          40,
          5,
          6,
          12,
          12,
          3,
          68,
          29,
          3,
          131,
          5,
          7,
          32,
          1,
          1,
          32,
          4,
          1,
          1,
          16,
          4,
          1,
          28,
          3,
          22,
          1,
          22,
          56,
          3,
          41,
          4,
          2,
          59,
          1,
          27,
          25,
          1,
          68,
          1,
          2,
          11,
          3,
          135,
          4,
          32,
          3,
          14,
          2,
          35,
          13,
          1,
          151,
          1,
          5,
          3,
          14,
          11,
          1,
          1,
          1,
          9,
          2,
          1,
          65,
          41,
          3,
          12,
          112,
          3,
          5,
          1,
          37,
          91,
          6,
          7,
          67,
          8,
          18,
          2,
          2,
          5,
          36,
          490,
          13,
          88,
          8,
          2,
          10,
          1,
          25,
          6,
          1,
          20,
          1,
          3,
          1,
          2,
          1,
          2,
          2,
          6,
          8,
          1,
          30,
          87,
          38,
          8,
          134,
          1,
          38,
          2,
          6,
          9,
          17,
          1,
          22,
          17,
          7,
          5,
          11,
          8,
          1,
          10,
          1,
          16,
          5,
          1,
          3,
          1,
          1,
          1,
          6,
          24,
          1,
          31,
          3,
          4,
          5,
          3,
          1,
          1,
          10,
          1,
          3,
          123,
          14,
          5,
          18,
          24,
          1,
          4,
          6,
          3,
          38,
          8,
          581,
          4,
          2,
          2,
          4,
          11,
          33,
          8,
          1,
          27,
          8,
          4,
          3,
          36,
          36,
          5,
          5,
          1,
          27,
          1,
          7,
          1,
          4,
          1,
          2,
          95,
          6,
          3,
          10,
          1,
          26,
          6,
          3,
          4,
          2,
          1,
          14,
          1,
          1,
          1,
          5,
          2,
          180,
          146,
          1,
          42,
          1,
          7,
          15,
          10,
          2,
          91,
          5,
          7,
          6,
          25,
          7,
          23,
          1,
          335,
          4,
          6,
          2,
          5,
          4,
          5,
          26,
          2,
          2,
          4,
          9,
          2,
          7,
          6,
          13,
          1,
          40,
          46,
          2,
          4,
          1,
          39,
          2,
          10,
          1,
          22,
          12,
          2,
          1,
          1,
          2,
          5,
          123,
          26,
          2,
          3,
          18,
          30,
          3,
          1,
          6,
          9,
          1,
          3,
          2,
          13,
          7,
          2,
          68,
          7,
          1,
          52,
          1,
          2,
          2,
          3,
          3,
          1,
          5,
          141,
          4,
          7,
          8,
          1,
          17,
          1,
          2,
          2,
          17,
          1,
          27,
          236,
          27,
          1,
          1,
          8,
          1,
          11,
          1,
          5,
          2,
          12,
          1,
          14,
          6,
          4,
          36,
          1,
          5,
          29,
          26,
          37,
          17,
          34,
          1,
          17,
          2,
          23,
          16,
          1,
          24,
          1,
          5,
          80,
          22,
          3,
          6,
          11,
          4,
          36,
          4,
          2,
          16,
          1,
          2,
          1,
          6,
          6,
          1,
          11,
          3,
          1,
          2,
          22,
          3,
          2,
          2,
          3,
          3,
          2,
          105,
          8,
          4,
          51,
          3,
          9,
          1,
          56,
          2,
          1,
          1,
          10,
          1,
          541,
          6,
          1,
          20,
          5,
          16,
          1,
          2,
          2,
          24,
          4,
          39,
          4,
          53,
          94,
          11,
          80,
          19,
          62,
          1,
          1,
          15,
          24,
          2,
          1,
          5,
          1,
          13,
          2,
          23,
          5,
          48,
          4,
          2,
          57,
          5,
          1,
          3,
          1,
          9,
          1,
          22,
          1,
          5,
          5,
          2,
          1,
          1,
          21,
          7,
          8,
          3,
          3,
          2,
          1,
          1,
          96,
          8,
          5,
          30,
          1,
          13,
          2,
          29,
          160,
          8,
          1,
          1,
          2,
          2,
          4,
          12,
          1,
          1,
          8,
          2,
          1,
          8,
          1,
          6,
          1,
          6,
          7,
          7,
          38,
          29,
          4,
          41,
          2,
          32,
          14,
          7,
          2,
          2,
          74,
          8,
          9,
          2,
          1,
          1,
          49,
          7,
          2,
          64,
          8,
          2,
          30,
          2,
          1,
          3,
          13,
          3,
          22,
          2,
          26,
          1,
          44,
          1,
          2,
          1,
          38,
          86,
          4,
          4,
          4,
          4,
          16,
          5,
          4,
          1,
          14,
          34,
          303,
          1,
          13,
          9,
          4,
          5,
          7,
          5,
          2,
          17,
          4,
          3,
          14,
          2,
          30,
          59,
          27,
          46,
          9,
          9,
          29,
          5,
          2,
          4,
          2,
          1,
          177,
          2,
          16,
          4,
          4,
          15,
          2,
          46,
          8,
          5,
          3,
          11,
          1,
          1,
          1,
          1,
          18,
          1,
          4,
          18,
          1,
          31,
          4,
          1,
          87,
          5,
          4,
          14,
          11,
          1,
          1,
          8,
          18,
          1,
          208,
          3,
          2,
          3,
          10,
          5,
          19,
          3,
          1,
          110,
          1,
          1,
          30,
          2,
          50,
          23,
          29,
          4,
          54,
          3,
          34,
          3,
          34,
          6,
          1,
          1,
          1,
          9,
          2,
          2,
          8,
          7,
          13,
          1,
          40,
          1,
          3,
          7,
          2,
          2,
          7,
          14,
          4,
          1,
          1,
          9,
          1,
          2,
          4,
          2,
          2,
          1,
          134,
          16,
          12,
          22,
          2,
          4,
          3,
          17,
          315,
          1,
          6,
          3,
          9,
          3,
          24,
          1,
          1,
          3,
          1,
          1,
          6,
          3,
          1,
          3,
          3,
          58,
          59,
          25,
          6,
          20,
          2,
          1,
          1,
          16,
          92,
          5,
          2,
          19,
          1,
          2,
          21,
          4,
          14,
          17,
          1,
          5,
          7,
          1,
          1,
          16,
          2,
          23,
          10,
          1,
          2,
          5,
          1,
          4,
          4,
          1,
          83,
          10,
          7,
          1,
          2,
          11,
          2,
          61,
          27,
          1,
          286,
          1,
          10,
          56,
          1,
          1,
          30,
          5,
          1,
          24,
          1,
          10,
          19,
          2,
          2,
          157,
          46,
          60,
          22,
          2,
          13,
          44,
          2,
          1,
          3,
          19,
          35,
          4,
          2,
          32,
          1,
          39,
          2,
          16,
          36,
          11,
          3,
          4,
          1,
          5,
          2,
          8,
          5,
          15,
          4,
          18,
          5,
          6,
          7,
          2,
          78,
          4,
          8,
          5,
          5,
          5,
          10,
          1,
          19,
          44,
          2,
          435,
          4,
          2,
          1,
          4
         ],
         "xaxis": "x",
         "y": [
          "Caçador de Subsistência",
          "Defesa Pessoal",
          "Defesa Pessoal",
          "Defesa Pessoal",
          "Defesa Pessoal",
          "Defesa Pessoal",
          "Funcional",
          "Caçador de Subsistência",
          "Defesa Pessoal",
          "Funcional",
          "Defesa Pessoal",
          "Defesa Pessoal",
          "Defesa Pessoal",
          "Defesa Pessoal",
          "Defesa Pessoal",
          "Defesa Pessoal",
          "Defesa Pessoal",
          "Funcional",
          "Defesa Pessoal",
          "Defesa Pessoal",
          "Funcional",
          "Defesa Pessoal",
          "Defesa Pessoal",
          "Funcional",
          "Defesa Pessoal",
          "Defesa Pessoal",
          "Defesa Pessoal",
          "Defesa Pessoal",
          "Caçador de Subsistência",
          "Defesa Pessoal",
          "Defesa Pessoal",
          "Defesa Pessoal",
          "Defesa Pessoal",
          "Funcional",
          "Defesa Pessoal",
          "Defesa Pessoal",
          "Defesa Pessoal",
          "Funcional",
          "Defesa Pessoal",
          "Defesa Pessoal",
          "Defesa Pessoal",
          "Funcional",
          "Defesa Pessoal",
          "Defesa Pessoal",
          "Funcional",
          "Defesa Pessoal",
          "Funcional",
          "Defesa Pessoal",
          "Funcional",
          "Defesa Pessoal",
          "Defesa Pessoal",
          "Funcional",
          "Caçador de Subsistência",
          "Defesa Pessoal",
          "Defesa Pessoal",
          "Defesa Pessoal",
          "Defesa Pessoal",
          "Funcional",
          "Funcional",
          "Defesa Pessoal",
          "Defesa Pessoal",
          "Defesa Pessoal",
          "Defesa Pessoal",
          "Defesa Pessoal",
          "Funcional",
          "Defesa Pessoal",
          "Funcional",
          "Caçador de Subsistência",
          "Defesa Pessoal",
          "Defesa Pessoal",
          "Funcional",
          "Funcional",
          "Segurança Dignitario",
          "Caçador de Subsistência",
          "Defesa Pessoal",
          "Defesa Pessoal",
          "Funcional",
          "Defesa Pessoal",
          "Defesa Pessoal",
          "Funcional",
          "Funcional",
          "Defesa Pessoal",
          "Funcional",
          "Defesa Pessoal",
          "Funcional",
          "Funcional",
          "Defesa Pessoal",
          "Caçador de Subsistência",
          "Defesa Pessoal",
          "Defesa Pessoal",
          "Caçador de Subsistência",
          "Defesa Pessoal",
          "Defesa Pessoal",
          "Funcional",
          "Caçador de Subsistência",
          "Defesa Pessoal",
          "Defesa Pessoal",
          "Funcional",
          "Funcional",
          "Caçador de Subsistência",
          "Funcional",
          "Caçador de Subsistência",
          "Defesa Pessoal",
          "Defesa Pessoal",
          "Defesa Pessoal",
          "Funcional",
          "Defesa Pessoal",
          "Defesa Pessoal",
          "Segurança Dignitario",
          "Funcional",
          "Caçador de Subsistência",
          "Defesa Pessoal",
          "Defesa Pessoal",
          "Funcional",
          "Defesa Pessoal",
          "Defesa Pessoal",
          "Defesa Pessoal",
          "Funcional",
          "Funcional",
          "Defesa Pessoal",
          "Caçador de Subsistência",
          "Defesa Pessoal",
          "Caçador de Subsistência",
          "Defesa Pessoal",
          "Funcional",
          "Funcional",
          "Funcional",
          "Funcional",
          "Caçador de Subsistência",
          "Defesa Pessoal",
          "Defesa Pessoal",
          "Funcional",
          "Defesa Pessoal",
          "Defesa Pessoal",
          "Funcional",
          "Caçador de Subsistência",
          "Defesa Pessoal",
          "Defesa Pessoal",
          "Defesa Pessoal",
          "Defesa Pessoal",
          "Defesa Pessoal",
          "Defesa Pessoal",
          "Defesa Pessoal",
          "Funcional",
          "Funcional",
          "Defesa Pessoal",
          "Defesa Pessoal",
          "Funcional",
          "Funcional",
          "Segurança Dignitario",
          "Caçador de Subsistência",
          "Defesa Pessoal",
          "Defesa Pessoal",
          "Funcional",
          "Funcional",
          "Defesa Pessoal",
          "Defesa Pessoal",
          "Funcional",
          "Funcional",
          "Defesa Pessoal",
          "Funcional",
          "Defesa Pessoal",
          "Defesa Pessoal",
          "Defesa Pessoal",
          "Caçador de Subsistência",
          "Defesa Pessoal",
          "Funcional",
          "Defesa Pessoal",
          "Funcional",
          "Defesa Pessoal",
          "Defesa Pessoal",
          "Defesa Pessoal",
          "Defesa Pessoal",
          "Defesa Pessoal",
          "Funcional",
          "Funcional",
          "Defesa Pessoal",
          "Defesa Pessoal",
          "Funcional",
          "Segurança Dignitario",
          "Defesa Pessoal",
          "Defesa Pessoal",
          "Funcional",
          "Defesa Pessoal",
          "Defesa Pessoal",
          "Funcional",
          "Defesa Pessoal",
          "Defesa Pessoal",
          "Defesa Pessoal",
          "Funcional",
          "Defesa Pessoal",
          "Defesa Pessoal",
          "Funcional",
          "Defesa Pessoal",
          "Funcional",
          "Defesa Pessoal",
          "Defesa Pessoal",
          "Funcional",
          "Segurança Dignitario",
          "Defesa Pessoal",
          "Caçador de Subsistência",
          "Defesa Pessoal",
          "Defesa Pessoal",
          "Funcional",
          "Defesa Pessoal",
          "Defesa Pessoal",
          "Funcional",
          "Funcional",
          "Segurança Dignitario",
          "Defesa Pessoal",
          "Defesa Pessoal",
          "Defesa Pessoal",
          "Funcional",
          "Funcional",
          "Segurança Dignitario",
          "Defesa Pessoal",
          "Defesa Pessoal",
          "Defesa Pessoal",
          "Funcional",
          "Defesa Pessoal",
          "Funcional",
          "Defesa Pessoal",
          "Funcional",
          "Defesa Pessoal",
          "Funcional",
          "Defesa Pessoal",
          "Defesa Pessoal",
          "Caçador de Subsistência",
          "Defesa Pessoal",
          "Funcional",
          "Funcional",
          "Defesa Pessoal",
          "Funcional",
          "Defesa Pessoal",
          "Defesa Pessoal",
          "Defesa Pessoal",
          "Defesa Pessoal",
          "Defesa Pessoal",
          "Defesa Pessoal",
          "Funcional",
          "Funcional",
          "Caçador de Subsistência",
          "Defesa Pessoal",
          "Defesa Pessoal",
          "Funcional",
          "Funcional",
          "Defesa Pessoal",
          "Segurança Dignitario",
          "Defesa Pessoal",
          "Defesa Pessoal",
          "Defesa Pessoal",
          "Funcional",
          "Defesa Pessoal",
          "Defesa Pessoal",
          "Defesa Pessoal",
          "Defesa Pessoal",
          "Funcional",
          "Funcional",
          "Segurança Dignitario",
          "Defesa Pessoal",
          "Funcional",
          "Caçador de Subsistência",
          "Defesa Pessoal",
          "Defesa Pessoal",
          "Defesa Pessoal",
          "Defesa Pessoal",
          "Funcional",
          "Defesa Pessoal",
          "Defesa Pessoal",
          "Funcional",
          "Defesa Pessoal",
          "Funcional",
          "Caçador de Subsistência",
          "Defesa Pessoal",
          "Defesa Pessoal",
          "Funcional",
          "Segurança Dignitario",
          "Caçador de Subsistência",
          "Defesa Pessoal",
          "Defesa Pessoal",
          "Funcional",
          "Caçador de Subsistência",
          "Defesa Pessoal",
          "Funcional",
          "Funcional",
          "Caçador de Subsistência",
          "Defesa Pessoal",
          "Funcional",
          "Defesa Pessoal",
          "Funcional",
          "Defesa Pessoal",
          "Defesa Pessoal",
          "Caçador de Subsistência",
          "Defesa Pessoal",
          "Caçador de Subsistência",
          "Defesa Pessoal",
          "Defesa Pessoal",
          "Funcional",
          "Defesa Pessoal",
          "Defesa Pessoal",
          "Defesa Pessoal",
          "Defesa Pessoal",
          "Defesa Pessoal",
          "Defesa Pessoal",
          "Defesa Pessoal",
          "Funcional",
          "Funcional",
          "Caçador de Subsistência",
          "Defesa Pessoal",
          "Defesa Pessoal",
          "Funcional",
          "Defesa Pessoal",
          "Funcional",
          "Caçador de Subsistência",
          "Defesa Pessoal",
          "Funcional",
          "Defesa Pessoal",
          "Defesa Pessoal",
          "Defesa Pessoal",
          "Funcional",
          "Funcional",
          "Defesa Pessoal",
          "Funcional",
          "Funcional",
          "Defesa Pessoal",
          "Funcional",
          "Caçador de Subsistência",
          "Defesa Pessoal",
          "Funcional",
          "Funcional",
          "Caçador de Subsistência",
          "Defesa Pessoal",
          "Caçador de Subsistência",
          "Defesa Pessoal",
          "Defesa Pessoal",
          "Defesa Pessoal",
          "Funcional",
          "Defesa Pessoal",
          "Defesa Pessoal",
          "Defesa Pessoal",
          "Funcional",
          "Funcional",
          "Defesa Pessoal",
          "Funcional",
          "Funcional",
          "Caçador de Subsistência",
          "Defesa Pessoal",
          "Defesa Pessoal",
          "Funcional",
          "Segurança Dignitario",
          "Defesa Pessoal",
          "Defesa Pessoal",
          "Funcional",
          "Funcional",
          "Defesa Pessoal",
          "Funcional",
          "Defesa Pessoal",
          "Funcional",
          "Caçador de Subsistência",
          "Defesa Pessoal",
          "Funcional",
          "Defesa Pessoal",
          "Funcional",
          "Segurança Dignitario",
          "Defesa Pessoal",
          "Funcional",
          "Caçador de Subsistência",
          "Defesa Pessoal",
          "Defesa Pessoal",
          "Funcional",
          "Caçador de Subsistência",
          "Defesa Pessoal",
          "Caçador de Subsistência",
          "Defesa Pessoal",
          "Funcional",
          "Caçador de Subsistência",
          "Defesa Pessoal",
          "Defesa Pessoal",
          "Defesa Pessoal",
          "Caçador de Subsistência",
          "Defesa Pessoal",
          "Defesa Pessoal",
          "Funcional",
          "Segurança Dignitario",
          "Defesa Pessoal",
          "Caçador de Subsistência",
          "Defesa Pessoal",
          "Defesa Pessoal",
          "Defesa Pessoal",
          "Defesa Pessoal",
          "Funcional",
          "Caçador de Subsistência",
          "Defesa Pessoal",
          "Defesa Pessoal",
          "Funcional",
          "Funcional",
          "Caçador de Subsistência",
          "Defesa Pessoal",
          "Defesa Pessoal",
          "Defesa Pessoal",
          "Funcional",
          "Funcional",
          "Funcional",
          "Caçador de Subsistência",
          "Defesa Pessoal",
          "Defesa Pessoal",
          "Defesa Pessoal",
          "Funcional",
          "Defesa Pessoal",
          "Funcional",
          "Defesa Pessoal",
          "Funcional",
          "Caçador de Subsistência",
          "Defesa Pessoal",
          "Defesa Pessoal",
          "Funcional",
          "Funcional",
          "Segurança Dignitario",
          "Defesa Pessoal",
          "Defesa Pessoal",
          "Caçador de Subsistência",
          "Defesa Pessoal",
          "Funcional",
          "Defesa Pessoal",
          "Caçador de Subsistência",
          "Funcional",
          "Funcional",
          "Defesa Pessoal",
          "Defesa Pessoal",
          "Defesa Pessoal",
          "Defesa Pessoal",
          "Caçador de Subsistência",
          "Defesa Pessoal",
          "Defesa Pessoal",
          "Funcional",
          "Defesa Pessoal",
          "Defesa Pessoal",
          "Funcional",
          "Caçador de Subsistência",
          "Defesa Pessoal",
          "Defesa Pessoal",
          "Funcional",
          "Defesa Pessoal",
          "Defesa Pessoal",
          "Defesa Pessoal",
          "Funcional",
          "Funcional",
          "Caçador de Subsistência",
          "Defesa Pessoal",
          "Funcional",
          "Segurança Dignitario",
          "Defesa Pessoal",
          "Defesa Pessoal",
          "Caçador de Subsistência",
          "Defesa Pessoal",
          "Defesa Pessoal",
          "Defesa Pessoal",
          "Defesa Pessoal",
          "Defesa Pessoal",
          "Funcional",
          "Segurança Dignitario",
          "Defesa Pessoal",
          "Defesa Pessoal",
          "Defesa Pessoal",
          "Funcional",
          "Funcional",
          "Caçador de Subsistência",
          "Defesa Pessoal",
          "Funcional",
          "Funcional",
          "Caçador de Subsistência",
          "Defesa Pessoal",
          "Defesa Pessoal",
          "Defesa Pessoal",
          "Defesa Pessoal",
          "Defesa Pessoal",
          "Defesa Pessoal",
          "Funcional",
          "Funcional",
          "Defesa Pessoal",
          "Defesa Pessoal",
          "Funcional",
          "Defesa Pessoal",
          "Funcional",
          "Defesa Pessoal",
          "Defesa Pessoal",
          "Segurança Dignitario",
          "Defesa Pessoal",
          "Defesa Pessoal",
          "Funcional",
          "Defesa Pessoal",
          "Funcional",
          "Defesa Pessoal",
          "Defesa Pessoal",
          "Funcional",
          "Defesa Pessoal",
          "Defesa Pessoal",
          "Defesa Pessoal",
          "Funcional",
          "Funcional",
          "Caçador de Subsistência",
          "Defesa Pessoal",
          "Funcional",
          "Funcional",
          "Defesa Pessoal",
          "Defesa Pessoal",
          "Funcional",
          "Funcional",
          "Caçador de Subsistência",
          "Defesa Pessoal",
          "Defesa Pessoal",
          "Defesa Pessoal",
          "Funcional",
          "Funcional",
          "Defesa Pessoal",
          "Defesa Pessoal",
          "Funcional",
          "Defesa Pessoal",
          "Defesa Pessoal",
          "Defesa Pessoal",
          "Funcional",
          "Defesa Pessoal",
          "Defesa Pessoal",
          "Defesa Pessoal",
          "Funcional",
          "Funcional",
          "Defesa Pessoal",
          "Funcional",
          "Defesa Pessoal",
          "Defesa Pessoal",
          "Funcional",
          "Defesa Pessoal",
          "Funcional",
          "Defesa Pessoal",
          "Funcional",
          "Caçador de Subsistência",
          "Defesa Pessoal",
          "Defesa Pessoal",
          "Funcional",
          "Funcional",
          "Defesa Pessoal",
          "Funcional",
          "Defesa Pessoal",
          "Defesa Pessoal",
          "Funcional",
          "Caçador de Subsistência",
          "Defesa Pessoal",
          "Defesa Pessoal",
          "Funcional",
          "Defesa Pessoal",
          "Funcional",
          "Defesa Pessoal",
          "Funcional",
          "Funcional",
          "Defesa Pessoal",
          "Funcional",
          "Defesa Pessoal",
          "Defesa Pessoal",
          "Funcional",
          "Funcional",
          "Defesa Pessoal",
          "Funcional",
          "Funcional",
          "Defesa Pessoal",
          "Defesa Pessoal",
          "Caçador de Subsistência",
          "Defesa Pessoal",
          "Defesa Pessoal",
          "Funcional",
          "Defesa Pessoal",
          "Funcional",
          "Defesa Pessoal",
          "Defesa Pessoal",
          "Funcional",
          "Defesa Pessoal",
          "Defesa Pessoal",
          "Funcional",
          "Defesa Pessoal",
          "Defesa Pessoal",
          "Funcional",
          "Defesa Pessoal",
          "Funcional",
          "Defesa Pessoal",
          "Defesa Pessoal",
          "Defesa Pessoal",
          "Funcional",
          "Defesa Pessoal",
          "Defesa Pessoal",
          "Defesa Pessoal",
          "Funcional",
          "Defesa Pessoal",
          "Defesa Pessoal",
          "Funcional",
          "Funcional",
          "Segurança Dignitario",
          "Funcional",
          "Caçador de Subsistência",
          "Defesa Pessoal",
          "Defesa Pessoal",
          "Defesa Pessoal",
          "Defesa Pessoal",
          "Funcional",
          "Defesa Pessoal",
          "Defesa Pessoal",
          "Funcional",
          "Defesa Pessoal",
          "Funcional",
          "Defesa Pessoal",
          "Defesa Pessoal",
          "Funcional",
          "Defesa Pessoal",
          "Defesa Pessoal",
          "Defesa Pessoal",
          "Defesa Pessoal",
          "Funcional",
          "Defesa Pessoal",
          "Defesa Pessoal",
          "Defesa Pessoal",
          "Funcional",
          "Defesa Pessoal",
          "Defesa Pessoal",
          "Caçador de Subsistência",
          "Defesa Pessoal",
          "Caçador de Subsistência",
          "Defesa Pessoal",
          "Defesa Pessoal",
          "Funcional",
          "Funcional",
          "Defesa Pessoal",
          "Defesa Pessoal",
          "Defesa Pessoal",
          "Defesa Pessoal",
          "Funcional",
          "Defesa Pessoal",
          "Defesa Pessoal",
          "Defesa Pessoal",
          "Funcional",
          "Defesa Pessoal",
          "Defesa Pessoal",
          "Funcional",
          "Funcional",
          "Defesa Pessoal",
          "Funcional",
          "Defesa Pessoal",
          "Defesa Pessoal",
          "Defesa Pessoal",
          "Defesa Pessoal",
          "Funcional",
          "Caçador de Subsistência",
          "Defesa Pessoal",
          "Funcional",
          "Defesa Pessoal",
          "Funcional",
          "Funcional",
          "Funcional",
          "Defesa Pessoal",
          "Caçador de Subsistência",
          "Defesa Pessoal",
          "Defesa Pessoal",
          "Defesa Pessoal",
          "Caçador de Subsistência",
          "Defesa Pessoal",
          "Segurança Dignitario",
          "Defesa Pessoal",
          "Funcional",
          "Defesa Pessoal",
          "Defesa Pessoal",
          "Defesa Pessoal",
          "Funcional",
          "Defesa Pessoal",
          "Defesa Pessoal",
          "Funcional",
          "Segurança Dignitario",
          "Defesa Pessoal",
          "Defesa Pessoal",
          "Funcional",
          "Caçador de Subsistência",
          "Defesa Pessoal",
          "Funcional",
          "Defesa Pessoal",
          "Defesa Pessoal",
          "Defesa Pessoal",
          "Defesa Pessoal",
          "Caçador de Subsistência",
          "Defesa Pessoal",
          "Funcional",
          "Caçador de Subsistência",
          "Defesa Pessoal",
          "Defesa Pessoal",
          "Funcional",
          "Defesa Pessoal",
          "Defesa Pessoal",
          "Defesa Pessoal",
          "Defesa Pessoal",
          "Defesa Pessoal",
          "Funcional",
          "Defesa Pessoal",
          "Funcional",
          "Funcional",
          "Defesa Pessoal",
          "Defesa Pessoal",
          "Defesa Pessoal",
          "Funcional",
          "Defesa Pessoal",
          "Defesa Pessoal",
          "Defesa Pessoal",
          "Defesa Pessoal",
          "Funcional",
          "Funcional",
          "Defesa Pessoal",
          "Defesa Pessoal",
          "Funcional",
          "Defesa Pessoal",
          "Defesa Pessoal",
          "Funcional",
          "Funcional",
          "Segurança Dignitario",
          "Funcional",
          "Caçador de Subsistência",
          "Defesa Pessoal",
          "Defesa Pessoal",
          "Defesa Pessoal",
          "Defesa Pessoal",
          "Funcional",
          "Defesa Pessoal",
          "Funcional",
          "Funcional",
          "Defesa Pessoal",
          "Defesa Pessoal",
          "Funcional",
          "Defesa Pessoal",
          "Defesa Pessoal",
          "Funcional",
          "Segurança Dignitario",
          "Segurança Dignitario",
          "Defesa Pessoal",
          "Defesa Pessoal",
          "Defesa Pessoal",
          "Funcional",
          "Defesa Pessoal",
          "Funcional",
          "Defesa Pessoal",
          "Defesa Pessoal",
          "Funcional",
          "Funcional",
          "Defesa Pessoal",
          "Defesa Pessoal",
          "Defesa Pessoal",
          "Caçador de Subsistência",
          "Defesa Pessoal",
          "Defesa Pessoal",
          "Defesa Pessoal",
          "Defesa Pessoal",
          "Segurança Dignitario",
          "Defesa Pessoal",
          "Defesa Pessoal",
          "Defesa Pessoal",
          "Funcional",
          "Defesa Pessoal",
          "Segurança Dignitario",
          "Defesa Pessoal",
          "Funcional",
          "Defesa Pessoal",
          "Defesa Pessoal",
          "Defesa Pessoal",
          "Defesa Pessoal",
          "Defesa Pessoal",
          "Funcional",
          "Caçador de Subsistência",
          "Defesa Pessoal",
          "Funcional",
          "Defesa Pessoal",
          "Funcional",
          "Defesa Pessoal",
          "Defesa Pessoal",
          "Funcional",
          "Funcional",
          "Segurança Dignitario",
          "Defesa Pessoal",
          "Funcional"
         ],
         "yaxis": "y"
        }
       ],
       "layout": {
        "barmode": "relative",
        "height": 400,
        "legend": {
         "tracegroupgap": 0
        },
        "template": {
         "data": {
          "bar": [
           {
            "error_x": {
             "color": "#2a3f5f"
            },
            "error_y": {
             "color": "#2a3f5f"
            },
            "marker": {
             "line": {
              "color": "#E5ECF6",
              "width": 0.5
             },
             "pattern": {
              "fillmode": "overlay",
              "size": 10,
              "solidity": 0.2
             }
            },
            "type": "bar"
           }
          ],
          "barpolar": [
           {
            "marker": {
             "line": {
              "color": "#E5ECF6",
              "width": 0.5
             },
             "pattern": {
              "fillmode": "overlay",
              "size": 10,
              "solidity": 0.2
             }
            },
            "type": "barpolar"
           }
          ],
          "carpet": [
           {
            "aaxis": {
             "endlinecolor": "#2a3f5f",
             "gridcolor": "white",
             "linecolor": "white",
             "minorgridcolor": "white",
             "startlinecolor": "#2a3f5f"
            },
            "baxis": {
             "endlinecolor": "#2a3f5f",
             "gridcolor": "white",
             "linecolor": "white",
             "minorgridcolor": "white",
             "startlinecolor": "#2a3f5f"
            },
            "type": "carpet"
           }
          ],
          "choropleth": [
           {
            "colorbar": {
             "outlinewidth": 0,
             "ticks": ""
            },
            "type": "choropleth"
           }
          ],
          "contour": [
           {
            "colorbar": {
             "outlinewidth": 0,
             "ticks": ""
            },
            "colorscale": [
             [
              0,
              "#0d0887"
             ],
             [
              0.1111111111111111,
              "#46039f"
             ],
             [
              0.2222222222222222,
              "#7201a8"
             ],
             [
              0.3333333333333333,
              "#9c179e"
             ],
             [
              0.4444444444444444,
              "#bd3786"
             ],
             [
              0.5555555555555556,
              "#d8576b"
             ],
             [
              0.6666666666666666,
              "#ed7953"
             ],
             [
              0.7777777777777778,
              "#fb9f3a"
             ],
             [
              0.8888888888888888,
              "#fdca26"
             ],
             [
              1,
              "#f0f921"
             ]
            ],
            "type": "contour"
           }
          ],
          "contourcarpet": [
           {
            "colorbar": {
             "outlinewidth": 0,
             "ticks": ""
            },
            "type": "contourcarpet"
           }
          ],
          "heatmap": [
           {
            "colorbar": {
             "outlinewidth": 0,
             "ticks": ""
            },
            "colorscale": [
             [
              0,
              "#0d0887"
             ],
             [
              0.1111111111111111,
              "#46039f"
             ],
             [
              0.2222222222222222,
              "#7201a8"
             ],
             [
              0.3333333333333333,
              "#9c179e"
             ],
             [
              0.4444444444444444,
              "#bd3786"
             ],
             [
              0.5555555555555556,
              "#d8576b"
             ],
             [
              0.6666666666666666,
              "#ed7953"
             ],
             [
              0.7777777777777778,
              "#fb9f3a"
             ],
             [
              0.8888888888888888,
              "#fdca26"
             ],
             [
              1,
              "#f0f921"
             ]
            ],
            "type": "heatmap"
           }
          ],
          "heatmapgl": [
           {
            "colorbar": {
             "outlinewidth": 0,
             "ticks": ""
            },
            "colorscale": [
             [
              0,
              "#0d0887"
             ],
             [
              0.1111111111111111,
              "#46039f"
             ],
             [
              0.2222222222222222,
              "#7201a8"
             ],
             [
              0.3333333333333333,
              "#9c179e"
             ],
             [
              0.4444444444444444,
              "#bd3786"
             ],
             [
              0.5555555555555556,
              "#d8576b"
             ],
             [
              0.6666666666666666,
              "#ed7953"
             ],
             [
              0.7777777777777778,
              "#fb9f3a"
             ],
             [
              0.8888888888888888,
              "#fdca26"
             ],
             [
              1,
              "#f0f921"
             ]
            ],
            "type": "heatmapgl"
           }
          ],
          "histogram": [
           {
            "marker": {
             "pattern": {
              "fillmode": "overlay",
              "size": 10,
              "solidity": 0.2
             }
            },
            "type": "histogram"
           }
          ],
          "histogram2d": [
           {
            "colorbar": {
             "outlinewidth": 0,
             "ticks": ""
            },
            "colorscale": [
             [
              0,
              "#0d0887"
             ],
             [
              0.1111111111111111,
              "#46039f"
             ],
             [
              0.2222222222222222,
              "#7201a8"
             ],
             [
              0.3333333333333333,
              "#9c179e"
             ],
             [
              0.4444444444444444,
              "#bd3786"
             ],
             [
              0.5555555555555556,
              "#d8576b"
             ],
             [
              0.6666666666666666,
              "#ed7953"
             ],
             [
              0.7777777777777778,
              "#fb9f3a"
             ],
             [
              0.8888888888888888,
              "#fdca26"
             ],
             [
              1,
              "#f0f921"
             ]
            ],
            "type": "histogram2d"
           }
          ],
          "histogram2dcontour": [
           {
            "colorbar": {
             "outlinewidth": 0,
             "ticks": ""
            },
            "colorscale": [
             [
              0,
              "#0d0887"
             ],
             [
              0.1111111111111111,
              "#46039f"
             ],
             [
              0.2222222222222222,
              "#7201a8"
             ],
             [
              0.3333333333333333,
              "#9c179e"
             ],
             [
              0.4444444444444444,
              "#bd3786"
             ],
             [
              0.5555555555555556,
              "#d8576b"
             ],
             [
              0.6666666666666666,
              "#ed7953"
             ],
             [
              0.7777777777777778,
              "#fb9f3a"
             ],
             [
              0.8888888888888888,
              "#fdca26"
             ],
             [
              1,
              "#f0f921"
             ]
            ],
            "type": "histogram2dcontour"
           }
          ],
          "mesh3d": [
           {
            "colorbar": {
             "outlinewidth": 0,
             "ticks": ""
            },
            "type": "mesh3d"
           }
          ],
          "parcoords": [
           {
            "line": {
             "colorbar": {
              "outlinewidth": 0,
              "ticks": ""
             }
            },
            "type": "parcoords"
           }
          ],
          "pie": [
           {
            "automargin": true,
            "type": "pie"
           }
          ],
          "scatter": [
           {
            "fillpattern": {
             "fillmode": "overlay",
             "size": 10,
             "solidity": 0.2
            },
            "type": "scatter"
           }
          ],
          "scatter3d": [
           {
            "line": {
             "colorbar": {
              "outlinewidth": 0,
              "ticks": ""
             }
            },
            "marker": {
             "colorbar": {
              "outlinewidth": 0,
              "ticks": ""
             }
            },
            "type": "scatter3d"
           }
          ],
          "scattercarpet": [
           {
            "marker": {
             "colorbar": {
              "outlinewidth": 0,
              "ticks": ""
             }
            },
            "type": "scattercarpet"
           }
          ],
          "scattergeo": [
           {
            "marker": {
             "colorbar": {
              "outlinewidth": 0,
              "ticks": ""
             }
            },
            "type": "scattergeo"
           }
          ],
          "scattergl": [
           {
            "marker": {
             "colorbar": {
              "outlinewidth": 0,
              "ticks": ""
             }
            },
            "type": "scattergl"
           }
          ],
          "scattermapbox": [
           {
            "marker": {
             "colorbar": {
              "outlinewidth": 0,
              "ticks": ""
             }
            },
            "type": "scattermapbox"
           }
          ],
          "scatterpolar": [
           {
            "marker": {
             "colorbar": {
              "outlinewidth": 0,
              "ticks": ""
             }
            },
            "type": "scatterpolar"
           }
          ],
          "scatterpolargl": [
           {
            "marker": {
             "colorbar": {
              "outlinewidth": 0,
              "ticks": ""
             }
            },
            "type": "scatterpolargl"
           }
          ],
          "scatterternary": [
           {
            "marker": {
             "colorbar": {
              "outlinewidth": 0,
              "ticks": ""
             }
            },
            "type": "scatterternary"
           }
          ],
          "surface": [
           {
            "colorbar": {
             "outlinewidth": 0,
             "ticks": ""
            },
            "colorscale": [
             [
              0,
              "#0d0887"
             ],
             [
              0.1111111111111111,
              "#46039f"
             ],
             [
              0.2222222222222222,
              "#7201a8"
             ],
             [
              0.3333333333333333,
              "#9c179e"
             ],
             [
              0.4444444444444444,
              "#bd3786"
             ],
             [
              0.5555555555555556,
              "#d8576b"
             ],
             [
              0.6666666666666666,
              "#ed7953"
             ],
             [
              0.7777777777777778,
              "#fb9f3a"
             ],
             [
              0.8888888888888888,
              "#fdca26"
             ],
             [
              1,
              "#f0f921"
             ]
            ],
            "type": "surface"
           }
          ],
          "table": [
           {
            "cells": {
             "fill": {
              "color": "#EBF0F8"
             },
             "line": {
              "color": "white"
             }
            },
            "header": {
             "fill": {
              "color": "#C8D4E3"
             },
             "line": {
              "color": "white"
             }
            },
            "type": "table"
           }
          ]
         },
         "layout": {
          "annotationdefaults": {
           "arrowcolor": "#2a3f5f",
           "arrowhead": 0,
           "arrowwidth": 1
          },
          "autotypenumbers": "strict",
          "coloraxis": {
           "colorbar": {
            "outlinewidth": 0,
            "ticks": ""
           }
          },
          "colorscale": {
           "diverging": [
            [
             0,
             "#8e0152"
            ],
            [
             0.1,
             "#c51b7d"
            ],
            [
             0.2,
             "#de77ae"
            ],
            [
             0.3,
             "#f1b6da"
            ],
            [
             0.4,
             "#fde0ef"
            ],
            [
             0.5,
             "#f7f7f7"
            ],
            [
             0.6,
             "#e6f5d0"
            ],
            [
             0.7,
             "#b8e186"
            ],
            [
             0.8,
             "#7fbc41"
            ],
            [
             0.9,
             "#4d9221"
            ],
            [
             1,
             "#276419"
            ]
           ],
           "sequential": [
            [
             0,
             "#0d0887"
            ],
            [
             0.1111111111111111,
             "#46039f"
            ],
            [
             0.2222222222222222,
             "#7201a8"
            ],
            [
             0.3333333333333333,
             "#9c179e"
            ],
            [
             0.4444444444444444,
             "#bd3786"
            ],
            [
             0.5555555555555556,
             "#d8576b"
            ],
            [
             0.6666666666666666,
             "#ed7953"
            ],
            [
             0.7777777777777778,
             "#fb9f3a"
            ],
            [
             0.8888888888888888,
             "#fdca26"
            ],
            [
             1,
             "#f0f921"
            ]
           ],
           "sequentialminus": [
            [
             0,
             "#0d0887"
            ],
            [
             0.1111111111111111,
             "#46039f"
            ],
            [
             0.2222222222222222,
             "#7201a8"
            ],
            [
             0.3333333333333333,
             "#9c179e"
            ],
            [
             0.4444444444444444,
             "#bd3786"
            ],
            [
             0.5555555555555556,
             "#d8576b"
            ],
            [
             0.6666666666666666,
             "#ed7953"
            ],
            [
             0.7777777777777778,
             "#fb9f3a"
            ],
            [
             0.8888888888888888,
             "#fdca26"
            ],
            [
             1,
             "#f0f921"
            ]
           ]
          },
          "colorway": [
           "#636efa",
           "#EF553B",
           "#00cc96",
           "#ab63fa",
           "#FFA15A",
           "#19d3f3",
           "#FF6692",
           "#B6E880",
           "#FF97FF",
           "#FECB52"
          ],
          "font": {
           "color": "#2a3f5f"
          },
          "geo": {
           "bgcolor": "white",
           "lakecolor": "white",
           "landcolor": "#E5ECF6",
           "showlakes": true,
           "showland": true,
           "subunitcolor": "white"
          },
          "hoverlabel": {
           "align": "left"
          },
          "hovermode": "closest",
          "mapbox": {
           "style": "light"
          },
          "paper_bgcolor": "white",
          "plot_bgcolor": "#E5ECF6",
          "polar": {
           "angularaxis": {
            "gridcolor": "white",
            "linecolor": "white",
            "ticks": ""
           },
           "bgcolor": "#E5ECF6",
           "radialaxis": {
            "gridcolor": "white",
            "linecolor": "white",
            "ticks": ""
           }
          },
          "scene": {
           "xaxis": {
            "backgroundcolor": "#E5ECF6",
            "gridcolor": "white",
            "gridwidth": 2,
            "linecolor": "white",
            "showbackground": true,
            "ticks": "",
            "zerolinecolor": "white"
           },
           "yaxis": {
            "backgroundcolor": "#E5ECF6",
            "gridcolor": "white",
            "gridwidth": 2,
            "linecolor": "white",
            "showbackground": true,
            "ticks": "",
            "zerolinecolor": "white"
           },
           "zaxis": {
            "backgroundcolor": "#E5ECF6",
            "gridcolor": "white",
            "gridwidth": 2,
            "linecolor": "white",
            "showbackground": true,
            "ticks": "",
            "zerolinecolor": "white"
           }
          },
          "shapedefaults": {
           "line": {
            "color": "#2a3f5f"
           }
          },
          "ternary": {
           "aaxis": {
            "gridcolor": "white",
            "linecolor": "white",
            "ticks": ""
           },
           "baxis": {
            "gridcolor": "white",
            "linecolor": "white",
            "ticks": ""
           },
           "bgcolor": "#E5ECF6",
           "caxis": {
            "gridcolor": "white",
            "linecolor": "white",
            "ticks": ""
           }
          },
          "title": {
           "x": 0.05
          },
          "xaxis": {
           "automargin": true,
           "gridcolor": "white",
           "linecolor": "white",
           "ticks": "",
           "title": {
            "standoff": 15
           },
           "zerolinecolor": "white",
           "zerolinewidth": 2
          },
          "yaxis": {
           "automargin": true,
           "gridcolor": "white",
           "linecolor": "white",
           "ticks": "",
           "title": {
            "standoff": 15
           },
           "zerolinecolor": "white",
           "zerolinewidth": 2
          }
         }
        },
        "title": {
         "text": "Total de portes de arma por categoria"
        },
        "xaxis": {
         "anchor": "y",
         "domain": [
          0,
          1
         ],
         "title": {
          "text": "TOTAL"
         }
        },
        "yaxis": {
         "anchor": "x",
         "domain": [
          0,
          1
         ],
         "title": {
          "text": "CATEGORIA"
         }
        }
       }
      },
      "text/html": [
       "<div>                            <div id=\"31be467c-a302-4297-becb-32d99888a3f1\" class=\"plotly-graph-div\" style=\"height:400px; width:100%;\"></div>            <script type=\"text/javascript\">                require([\"plotly\"], function(Plotly) {                    window.PLOTLYENV=window.PLOTLYENV || {};                                    if (document.getElementById(\"31be467c-a302-4297-becb-32d99888a3f1\")) {                    Plotly.newPlot(                        \"31be467c-a302-4297-becb-32d99888a3f1\",                        [{\"alignmentgroup\":\"True\",\"hovertemplate\":\"TOTAL=%{x}<br>CATEGORIA=%{y}<extra></extra>\",\"legendgroup\":\"\",\"marker\":{\"color\":\"#636efa\",\"pattern\":{\"shape\":\"\"}},\"name\":\"\",\"offsetgroup\":\"\",\"orientation\":\"h\",\"showlegend\":false,\"textposition\":\"auto\",\"x\":[15,3,1,12,1,1,55,1,1,9,2,1,2,30,19,60,3,5,18,2,19,5,7,1,44,8,22,1,19,9,3,10,2,38,17,7,1,1,4,1,12,1,40,5,6,12,12,3,68,29,3,131,5,7,32,1,1,32,4,1,1,16,4,1,28,3,22,1,22,56,3,41,4,2,59,1,27,25,1,68,1,2,11,3,135,4,32,3,14,2,35,13,1,151,1,5,3,14,11,1,1,1,9,2,1,65,41,3,12,112,3,5,1,37,91,6,7,67,8,18,2,2,5,36,490,13,88,8,2,10,1,25,6,1,20,1,3,1,2,1,2,2,6,8,1,30,87,38,8,134,1,38,2,6,9,17,1,22,17,7,5,11,8,1,10,1,16,5,1,3,1,1,1,6,24,1,31,3,4,5,3,1,1,10,1,3,123,14,5,18,24,1,4,6,3,38,8,581,4,2,2,4,11,33,8,1,27,8,4,3,36,36,5,5,1,27,1,7,1,4,1,2,95,6,3,10,1,26,6,3,4,2,1,14,1,1,1,5,2,180,146,1,42,1,7,15,10,2,91,5,7,6,25,7,23,1,335,4,6,2,5,4,5,26,2,2,4,9,2,7,6,13,1,40,46,2,4,1,39,2,10,1,22,12,2,1,1,2,5,123,26,2,3,18,30,3,1,6,9,1,3,2,13,7,2,68,7,1,52,1,2,2,3,3,1,5,141,4,7,8,1,17,1,2,2,17,1,27,236,27,1,1,8,1,11,1,5,2,12,1,14,6,4,36,1,5,29,26,37,17,34,1,17,2,23,16,1,24,1,5,80,22,3,6,11,4,36,4,2,16,1,2,1,6,6,1,11,3,1,2,22,3,2,2,3,3,2,105,8,4,51,3,9,1,56,2,1,1,10,1,541,6,1,20,5,16,1,2,2,24,4,39,4,53,94,11,80,19,62,1,1,15,24,2,1,5,1,13,2,23,5,48,4,2,57,5,1,3,1,9,1,22,1,5,5,2,1,1,21,7,8,3,3,2,1,1,96,8,5,30,1,13,2,29,160,8,1,1,2,2,4,12,1,1,8,2,1,8,1,6,1,6,7,7,38,29,4,41,2,32,14,7,2,2,74,8,9,2,1,1,49,7,2,64,8,2,30,2,1,3,13,3,22,2,26,1,44,1,2,1,38,86,4,4,4,4,16,5,4,1,14,34,303,1,13,9,4,5,7,5,2,17,4,3,14,2,30,59,27,46,9,9,29,5,2,4,2,1,177,2,16,4,4,15,2,46,8,5,3,11,1,1,1,1,18,1,4,18,1,31,4,1,87,5,4,14,11,1,1,8,18,1,208,3,2,3,10,5,19,3,1,110,1,1,30,2,50,23,29,4,54,3,34,3,34,6,1,1,1,9,2,2,8,7,13,1,40,1,3,7,2,2,7,14,4,1,1,9,1,2,4,2,2,1,134,16,12,22,2,4,3,17,315,1,6,3,9,3,24,1,1,3,1,1,6,3,1,3,3,58,59,25,6,20,2,1,1,16,92,5,2,19,1,2,21,4,14,17,1,5,7,1,1,16,2,23,10,1,2,5,1,4,4,1,83,10,7,1,2,11,2,61,27,1,286,1,10,56,1,1,30,5,1,24,1,10,19,2,2,157,46,60,22,2,13,44,2,1,3,19,35,4,2,32,1,39,2,16,36,11,3,4,1,5,2,8,5,15,4,18,5,6,7,2,78,4,8,5,5,5,10,1,19,44,2,435,4,2,1,4],\"xaxis\":\"x\",\"y\":[\"Ca\\u00e7ador de Subsist\\u00eancia\",\"Defesa Pessoal\",\"Defesa Pessoal\",\"Defesa Pessoal\",\"Defesa Pessoal\",\"Defesa Pessoal\",\"Funcional\",\"Ca\\u00e7ador de Subsist\\u00eancia\",\"Defesa Pessoal\",\"Funcional\",\"Defesa Pessoal\",\"Defesa Pessoal\",\"Defesa Pessoal\",\"Defesa Pessoal\",\"Defesa Pessoal\",\"Defesa Pessoal\",\"Defesa Pessoal\",\"Funcional\",\"Defesa Pessoal\",\"Defesa Pessoal\",\"Funcional\",\"Defesa Pessoal\",\"Defesa Pessoal\",\"Funcional\",\"Defesa Pessoal\",\"Defesa Pessoal\",\"Defesa Pessoal\",\"Defesa Pessoal\",\"Ca\\u00e7ador de Subsist\\u00eancia\",\"Defesa Pessoal\",\"Defesa Pessoal\",\"Defesa Pessoal\",\"Defesa Pessoal\",\"Funcional\",\"Defesa Pessoal\",\"Defesa Pessoal\",\"Defesa Pessoal\",\"Funcional\",\"Defesa Pessoal\",\"Defesa Pessoal\",\"Defesa Pessoal\",\"Funcional\",\"Defesa Pessoal\",\"Defesa Pessoal\",\"Funcional\",\"Defesa Pessoal\",\"Funcional\",\"Defesa Pessoal\",\"Funcional\",\"Defesa Pessoal\",\"Defesa Pessoal\",\"Funcional\",\"Ca\\u00e7ador de Subsist\\u00eancia\",\"Defesa Pessoal\",\"Defesa Pessoal\",\"Defesa Pessoal\",\"Defesa Pessoal\",\"Funcional\",\"Funcional\",\"Defesa Pessoal\",\"Defesa Pessoal\",\"Defesa Pessoal\",\"Defesa Pessoal\",\"Defesa Pessoal\",\"Funcional\",\"Defesa Pessoal\",\"Funcional\",\"Ca\\u00e7ador de Subsist\\u00eancia\",\"Defesa Pessoal\",\"Defesa Pessoal\",\"Funcional\",\"Funcional\",\"Seguran\\u00e7a Dignitario\",\"Ca\\u00e7ador de Subsist\\u00eancia\",\"Defesa Pessoal\",\"Defesa Pessoal\",\"Funcional\",\"Defesa Pessoal\",\"Defesa Pessoal\",\"Funcional\",\"Funcional\",\"Defesa Pessoal\",\"Funcional\",\"Defesa Pessoal\",\"Funcional\",\"Funcional\",\"Defesa Pessoal\",\"Ca\\u00e7ador de Subsist\\u00eancia\",\"Defesa Pessoal\",\"Defesa Pessoal\",\"Ca\\u00e7ador de Subsist\\u00eancia\",\"Defesa Pessoal\",\"Defesa Pessoal\",\"Funcional\",\"Ca\\u00e7ador de Subsist\\u00eancia\",\"Defesa Pessoal\",\"Defesa Pessoal\",\"Funcional\",\"Funcional\",\"Ca\\u00e7ador de Subsist\\u00eancia\",\"Funcional\",\"Ca\\u00e7ador de Subsist\\u00eancia\",\"Defesa Pessoal\",\"Defesa Pessoal\",\"Defesa Pessoal\",\"Funcional\",\"Defesa Pessoal\",\"Defesa Pessoal\",\"Seguran\\u00e7a Dignitario\",\"Funcional\",\"Ca\\u00e7ador de Subsist\\u00eancia\",\"Defesa Pessoal\",\"Defesa Pessoal\",\"Funcional\",\"Defesa Pessoal\",\"Defesa Pessoal\",\"Defesa Pessoal\",\"Funcional\",\"Funcional\",\"Defesa Pessoal\",\"Ca\\u00e7ador de Subsist\\u00eancia\",\"Defesa Pessoal\",\"Ca\\u00e7ador de Subsist\\u00eancia\",\"Defesa Pessoal\",\"Funcional\",\"Funcional\",\"Funcional\",\"Funcional\",\"Ca\\u00e7ador de Subsist\\u00eancia\",\"Defesa Pessoal\",\"Defesa Pessoal\",\"Funcional\",\"Defesa Pessoal\",\"Defesa Pessoal\",\"Funcional\",\"Ca\\u00e7ador de Subsist\\u00eancia\",\"Defesa Pessoal\",\"Defesa Pessoal\",\"Defesa Pessoal\",\"Defesa Pessoal\",\"Defesa Pessoal\",\"Defesa Pessoal\",\"Defesa Pessoal\",\"Funcional\",\"Funcional\",\"Defesa Pessoal\",\"Defesa Pessoal\",\"Funcional\",\"Funcional\",\"Seguran\\u00e7a Dignitario\",\"Ca\\u00e7ador de Subsist\\u00eancia\",\"Defesa Pessoal\",\"Defesa Pessoal\",\"Funcional\",\"Funcional\",\"Defesa Pessoal\",\"Defesa Pessoal\",\"Funcional\",\"Funcional\",\"Defesa Pessoal\",\"Funcional\",\"Defesa Pessoal\",\"Defesa Pessoal\",\"Defesa Pessoal\",\"Ca\\u00e7ador de Subsist\\u00eancia\",\"Defesa Pessoal\",\"Funcional\",\"Defesa Pessoal\",\"Funcional\",\"Defesa Pessoal\",\"Defesa Pessoal\",\"Defesa Pessoal\",\"Defesa Pessoal\",\"Defesa Pessoal\",\"Funcional\",\"Funcional\",\"Defesa Pessoal\",\"Defesa Pessoal\",\"Funcional\",\"Seguran\\u00e7a Dignitario\",\"Defesa Pessoal\",\"Defesa Pessoal\",\"Funcional\",\"Defesa Pessoal\",\"Defesa Pessoal\",\"Funcional\",\"Defesa Pessoal\",\"Defesa Pessoal\",\"Defesa Pessoal\",\"Funcional\",\"Defesa Pessoal\",\"Defesa Pessoal\",\"Funcional\",\"Defesa Pessoal\",\"Funcional\",\"Defesa Pessoal\",\"Defesa Pessoal\",\"Funcional\",\"Seguran\\u00e7a Dignitario\",\"Defesa Pessoal\",\"Ca\\u00e7ador de Subsist\\u00eancia\",\"Defesa Pessoal\",\"Defesa Pessoal\",\"Funcional\",\"Defesa Pessoal\",\"Defesa Pessoal\",\"Funcional\",\"Funcional\",\"Seguran\\u00e7a Dignitario\",\"Defesa Pessoal\",\"Defesa Pessoal\",\"Defesa Pessoal\",\"Funcional\",\"Funcional\",\"Seguran\\u00e7a Dignitario\",\"Defesa Pessoal\",\"Defesa Pessoal\",\"Defesa Pessoal\",\"Funcional\",\"Defesa Pessoal\",\"Funcional\",\"Defesa Pessoal\",\"Funcional\",\"Defesa Pessoal\",\"Funcional\",\"Defesa Pessoal\",\"Defesa Pessoal\",\"Ca\\u00e7ador de Subsist\\u00eancia\",\"Defesa Pessoal\",\"Funcional\",\"Funcional\",\"Defesa Pessoal\",\"Funcional\",\"Defesa Pessoal\",\"Defesa Pessoal\",\"Defesa Pessoal\",\"Defesa Pessoal\",\"Defesa Pessoal\",\"Defesa Pessoal\",\"Funcional\",\"Funcional\",\"Ca\\u00e7ador de Subsist\\u00eancia\",\"Defesa Pessoal\",\"Defesa Pessoal\",\"Funcional\",\"Funcional\",\"Defesa Pessoal\",\"Seguran\\u00e7a Dignitario\",\"Defesa Pessoal\",\"Defesa Pessoal\",\"Defesa Pessoal\",\"Funcional\",\"Defesa Pessoal\",\"Defesa Pessoal\",\"Defesa Pessoal\",\"Defesa Pessoal\",\"Funcional\",\"Funcional\",\"Seguran\\u00e7a Dignitario\",\"Defesa Pessoal\",\"Funcional\",\"Ca\\u00e7ador de Subsist\\u00eancia\",\"Defesa Pessoal\",\"Defesa Pessoal\",\"Defesa Pessoal\",\"Defesa Pessoal\",\"Funcional\",\"Defesa Pessoal\",\"Defesa Pessoal\",\"Funcional\",\"Defesa Pessoal\",\"Funcional\",\"Ca\\u00e7ador de Subsist\\u00eancia\",\"Defesa Pessoal\",\"Defesa Pessoal\",\"Funcional\",\"Seguran\\u00e7a Dignitario\",\"Ca\\u00e7ador de Subsist\\u00eancia\",\"Defesa Pessoal\",\"Defesa Pessoal\",\"Funcional\",\"Ca\\u00e7ador de Subsist\\u00eancia\",\"Defesa Pessoal\",\"Funcional\",\"Funcional\",\"Ca\\u00e7ador de Subsist\\u00eancia\",\"Defesa Pessoal\",\"Funcional\",\"Defesa Pessoal\",\"Funcional\",\"Defesa Pessoal\",\"Defesa Pessoal\",\"Ca\\u00e7ador de Subsist\\u00eancia\",\"Defesa Pessoal\",\"Ca\\u00e7ador de Subsist\\u00eancia\",\"Defesa Pessoal\",\"Defesa Pessoal\",\"Funcional\",\"Defesa Pessoal\",\"Defesa Pessoal\",\"Defesa Pessoal\",\"Defesa Pessoal\",\"Defesa Pessoal\",\"Defesa Pessoal\",\"Defesa Pessoal\",\"Funcional\",\"Funcional\",\"Ca\\u00e7ador de Subsist\\u00eancia\",\"Defesa Pessoal\",\"Defesa Pessoal\",\"Funcional\",\"Defesa Pessoal\",\"Funcional\",\"Ca\\u00e7ador de Subsist\\u00eancia\",\"Defesa Pessoal\",\"Funcional\",\"Defesa Pessoal\",\"Defesa Pessoal\",\"Defesa Pessoal\",\"Funcional\",\"Funcional\",\"Defesa Pessoal\",\"Funcional\",\"Funcional\",\"Defesa Pessoal\",\"Funcional\",\"Ca\\u00e7ador de Subsist\\u00eancia\",\"Defesa Pessoal\",\"Funcional\",\"Funcional\",\"Ca\\u00e7ador de Subsist\\u00eancia\",\"Defesa Pessoal\",\"Ca\\u00e7ador de Subsist\\u00eancia\",\"Defesa Pessoal\",\"Defesa Pessoal\",\"Defesa Pessoal\",\"Funcional\",\"Defesa Pessoal\",\"Defesa Pessoal\",\"Defesa Pessoal\",\"Funcional\",\"Funcional\",\"Defesa Pessoal\",\"Funcional\",\"Funcional\",\"Ca\\u00e7ador de Subsist\\u00eancia\",\"Defesa Pessoal\",\"Defesa Pessoal\",\"Funcional\",\"Seguran\\u00e7a Dignitario\",\"Defesa Pessoal\",\"Defesa Pessoal\",\"Funcional\",\"Funcional\",\"Defesa Pessoal\",\"Funcional\",\"Defesa Pessoal\",\"Funcional\",\"Ca\\u00e7ador de Subsist\\u00eancia\",\"Defesa Pessoal\",\"Funcional\",\"Defesa Pessoal\",\"Funcional\",\"Seguran\\u00e7a Dignitario\",\"Defesa Pessoal\",\"Funcional\",\"Ca\\u00e7ador de Subsist\\u00eancia\",\"Defesa Pessoal\",\"Defesa Pessoal\",\"Funcional\",\"Ca\\u00e7ador de Subsist\\u00eancia\",\"Defesa Pessoal\",\"Ca\\u00e7ador de Subsist\\u00eancia\",\"Defesa Pessoal\",\"Funcional\",\"Ca\\u00e7ador de Subsist\\u00eancia\",\"Defesa Pessoal\",\"Defesa Pessoal\",\"Defesa Pessoal\",\"Ca\\u00e7ador de Subsist\\u00eancia\",\"Defesa Pessoal\",\"Defesa Pessoal\",\"Funcional\",\"Seguran\\u00e7a Dignitario\",\"Defesa Pessoal\",\"Ca\\u00e7ador de Subsist\\u00eancia\",\"Defesa Pessoal\",\"Defesa Pessoal\",\"Defesa Pessoal\",\"Defesa Pessoal\",\"Funcional\",\"Ca\\u00e7ador de Subsist\\u00eancia\",\"Defesa Pessoal\",\"Defesa Pessoal\",\"Funcional\",\"Funcional\",\"Ca\\u00e7ador de Subsist\\u00eancia\",\"Defesa Pessoal\",\"Defesa Pessoal\",\"Defesa Pessoal\",\"Funcional\",\"Funcional\",\"Funcional\",\"Ca\\u00e7ador de Subsist\\u00eancia\",\"Defesa Pessoal\",\"Defesa Pessoal\",\"Defesa Pessoal\",\"Funcional\",\"Defesa Pessoal\",\"Funcional\",\"Defesa Pessoal\",\"Funcional\",\"Ca\\u00e7ador de Subsist\\u00eancia\",\"Defesa Pessoal\",\"Defesa Pessoal\",\"Funcional\",\"Funcional\",\"Seguran\\u00e7a Dignitario\",\"Defesa Pessoal\",\"Defesa Pessoal\",\"Ca\\u00e7ador de Subsist\\u00eancia\",\"Defesa Pessoal\",\"Funcional\",\"Defesa Pessoal\",\"Ca\\u00e7ador de Subsist\\u00eancia\",\"Funcional\",\"Funcional\",\"Defesa Pessoal\",\"Defesa Pessoal\",\"Defesa Pessoal\",\"Defesa Pessoal\",\"Ca\\u00e7ador de Subsist\\u00eancia\",\"Defesa Pessoal\",\"Defesa Pessoal\",\"Funcional\",\"Defesa Pessoal\",\"Defesa Pessoal\",\"Funcional\",\"Ca\\u00e7ador de Subsist\\u00eancia\",\"Defesa Pessoal\",\"Defesa Pessoal\",\"Funcional\",\"Defesa Pessoal\",\"Defesa Pessoal\",\"Defesa Pessoal\",\"Funcional\",\"Funcional\",\"Ca\\u00e7ador de Subsist\\u00eancia\",\"Defesa Pessoal\",\"Funcional\",\"Seguran\\u00e7a Dignitario\",\"Defesa Pessoal\",\"Defesa Pessoal\",\"Ca\\u00e7ador de Subsist\\u00eancia\",\"Defesa Pessoal\",\"Defesa Pessoal\",\"Defesa Pessoal\",\"Defesa Pessoal\",\"Defesa Pessoal\",\"Funcional\",\"Seguran\\u00e7a Dignitario\",\"Defesa Pessoal\",\"Defesa Pessoal\",\"Defesa Pessoal\",\"Funcional\",\"Funcional\",\"Ca\\u00e7ador de Subsist\\u00eancia\",\"Defesa Pessoal\",\"Funcional\",\"Funcional\",\"Ca\\u00e7ador de Subsist\\u00eancia\",\"Defesa Pessoal\",\"Defesa Pessoal\",\"Defesa Pessoal\",\"Defesa Pessoal\",\"Defesa Pessoal\",\"Defesa Pessoal\",\"Funcional\",\"Funcional\",\"Defesa Pessoal\",\"Defesa Pessoal\",\"Funcional\",\"Defesa Pessoal\",\"Funcional\",\"Defesa Pessoal\",\"Defesa Pessoal\",\"Seguran\\u00e7a Dignitario\",\"Defesa Pessoal\",\"Defesa Pessoal\",\"Funcional\",\"Defesa Pessoal\",\"Funcional\",\"Defesa Pessoal\",\"Defesa Pessoal\",\"Funcional\",\"Defesa Pessoal\",\"Defesa Pessoal\",\"Defesa Pessoal\",\"Funcional\",\"Funcional\",\"Ca\\u00e7ador de Subsist\\u00eancia\",\"Defesa Pessoal\",\"Funcional\",\"Funcional\",\"Defesa Pessoal\",\"Defesa Pessoal\",\"Funcional\",\"Funcional\",\"Ca\\u00e7ador de Subsist\\u00eancia\",\"Defesa Pessoal\",\"Defesa Pessoal\",\"Defesa Pessoal\",\"Funcional\",\"Funcional\",\"Defesa Pessoal\",\"Defesa Pessoal\",\"Funcional\",\"Defesa Pessoal\",\"Defesa Pessoal\",\"Defesa Pessoal\",\"Funcional\",\"Defesa Pessoal\",\"Defesa Pessoal\",\"Defesa Pessoal\",\"Funcional\",\"Funcional\",\"Defesa Pessoal\",\"Funcional\",\"Defesa Pessoal\",\"Defesa Pessoal\",\"Funcional\",\"Defesa Pessoal\",\"Funcional\",\"Defesa Pessoal\",\"Funcional\",\"Ca\\u00e7ador de Subsist\\u00eancia\",\"Defesa Pessoal\",\"Defesa Pessoal\",\"Funcional\",\"Funcional\",\"Defesa Pessoal\",\"Funcional\",\"Defesa Pessoal\",\"Defesa Pessoal\",\"Funcional\",\"Ca\\u00e7ador de Subsist\\u00eancia\",\"Defesa Pessoal\",\"Defesa Pessoal\",\"Funcional\",\"Defesa Pessoal\",\"Funcional\",\"Defesa Pessoal\",\"Funcional\",\"Funcional\",\"Defesa Pessoal\",\"Funcional\",\"Defesa Pessoal\",\"Defesa Pessoal\",\"Funcional\",\"Funcional\",\"Defesa Pessoal\",\"Funcional\",\"Funcional\",\"Defesa Pessoal\",\"Defesa Pessoal\",\"Ca\\u00e7ador de Subsist\\u00eancia\",\"Defesa Pessoal\",\"Defesa Pessoal\",\"Funcional\",\"Defesa Pessoal\",\"Funcional\",\"Defesa Pessoal\",\"Defesa Pessoal\",\"Funcional\",\"Defesa Pessoal\",\"Defesa Pessoal\",\"Funcional\",\"Defesa Pessoal\",\"Defesa Pessoal\",\"Funcional\",\"Defesa Pessoal\",\"Funcional\",\"Defesa Pessoal\",\"Defesa Pessoal\",\"Defesa Pessoal\",\"Funcional\",\"Defesa Pessoal\",\"Defesa Pessoal\",\"Defesa Pessoal\",\"Funcional\",\"Defesa Pessoal\",\"Defesa Pessoal\",\"Funcional\",\"Funcional\",\"Seguran\\u00e7a Dignitario\",\"Funcional\",\"Ca\\u00e7ador de Subsist\\u00eancia\",\"Defesa Pessoal\",\"Defesa Pessoal\",\"Defesa Pessoal\",\"Defesa Pessoal\",\"Funcional\",\"Defesa Pessoal\",\"Defesa Pessoal\",\"Funcional\",\"Defesa Pessoal\",\"Funcional\",\"Defesa Pessoal\",\"Defesa Pessoal\",\"Funcional\",\"Defesa Pessoal\",\"Defesa Pessoal\",\"Defesa Pessoal\",\"Defesa Pessoal\",\"Funcional\",\"Defesa Pessoal\",\"Defesa Pessoal\",\"Defesa Pessoal\",\"Funcional\",\"Defesa Pessoal\",\"Defesa Pessoal\",\"Ca\\u00e7ador de Subsist\\u00eancia\",\"Defesa Pessoal\",\"Ca\\u00e7ador de Subsist\\u00eancia\",\"Defesa Pessoal\",\"Defesa Pessoal\",\"Funcional\",\"Funcional\",\"Defesa Pessoal\",\"Defesa Pessoal\",\"Defesa Pessoal\",\"Defesa Pessoal\",\"Funcional\",\"Defesa Pessoal\",\"Defesa Pessoal\",\"Defesa Pessoal\",\"Funcional\",\"Defesa Pessoal\",\"Defesa Pessoal\",\"Funcional\",\"Funcional\",\"Defesa Pessoal\",\"Funcional\",\"Defesa Pessoal\",\"Defesa Pessoal\",\"Defesa Pessoal\",\"Defesa Pessoal\",\"Funcional\",\"Ca\\u00e7ador de Subsist\\u00eancia\",\"Defesa Pessoal\",\"Funcional\",\"Defesa Pessoal\",\"Funcional\",\"Funcional\",\"Funcional\",\"Defesa Pessoal\",\"Ca\\u00e7ador de Subsist\\u00eancia\",\"Defesa Pessoal\",\"Defesa Pessoal\",\"Defesa Pessoal\",\"Ca\\u00e7ador de Subsist\\u00eancia\",\"Defesa Pessoal\",\"Seguran\\u00e7a Dignitario\",\"Defesa Pessoal\",\"Funcional\",\"Defesa Pessoal\",\"Defesa Pessoal\",\"Defesa Pessoal\",\"Funcional\",\"Defesa Pessoal\",\"Defesa Pessoal\",\"Funcional\",\"Seguran\\u00e7a Dignitario\",\"Defesa Pessoal\",\"Defesa Pessoal\",\"Funcional\",\"Ca\\u00e7ador de Subsist\\u00eancia\",\"Defesa Pessoal\",\"Funcional\",\"Defesa Pessoal\",\"Defesa Pessoal\",\"Defesa Pessoal\",\"Defesa Pessoal\",\"Ca\\u00e7ador de Subsist\\u00eancia\",\"Defesa Pessoal\",\"Funcional\",\"Ca\\u00e7ador de Subsist\\u00eancia\",\"Defesa Pessoal\",\"Defesa Pessoal\",\"Funcional\",\"Defesa Pessoal\",\"Defesa Pessoal\",\"Defesa Pessoal\",\"Defesa Pessoal\",\"Defesa Pessoal\",\"Funcional\",\"Defesa Pessoal\",\"Funcional\",\"Funcional\",\"Defesa Pessoal\",\"Defesa Pessoal\",\"Defesa Pessoal\",\"Funcional\",\"Defesa Pessoal\",\"Defesa Pessoal\",\"Defesa Pessoal\",\"Defesa Pessoal\",\"Funcional\",\"Funcional\",\"Defesa Pessoal\",\"Defesa Pessoal\",\"Funcional\",\"Defesa Pessoal\",\"Defesa Pessoal\",\"Funcional\",\"Funcional\",\"Seguran\\u00e7a Dignitario\",\"Funcional\",\"Ca\\u00e7ador de Subsist\\u00eancia\",\"Defesa Pessoal\",\"Defesa Pessoal\",\"Defesa Pessoal\",\"Defesa Pessoal\",\"Funcional\",\"Defesa Pessoal\",\"Funcional\",\"Funcional\",\"Defesa Pessoal\",\"Defesa Pessoal\",\"Funcional\",\"Defesa Pessoal\",\"Defesa Pessoal\",\"Funcional\",\"Seguran\\u00e7a Dignitario\",\"Seguran\\u00e7a Dignitario\",\"Defesa Pessoal\",\"Defesa Pessoal\",\"Defesa Pessoal\",\"Funcional\",\"Defesa Pessoal\",\"Funcional\",\"Defesa Pessoal\",\"Defesa Pessoal\",\"Funcional\",\"Funcional\",\"Defesa Pessoal\",\"Defesa Pessoal\",\"Defesa Pessoal\",\"Ca\\u00e7ador de Subsist\\u00eancia\",\"Defesa Pessoal\",\"Defesa Pessoal\",\"Defesa Pessoal\",\"Defesa Pessoal\",\"Seguran\\u00e7a Dignitario\",\"Defesa Pessoal\",\"Defesa Pessoal\",\"Defesa Pessoal\",\"Funcional\",\"Defesa Pessoal\",\"Seguran\\u00e7a Dignitario\",\"Defesa Pessoal\",\"Funcional\",\"Defesa Pessoal\",\"Defesa Pessoal\",\"Defesa Pessoal\",\"Defesa Pessoal\",\"Defesa Pessoal\",\"Funcional\",\"Ca\\u00e7ador de Subsist\\u00eancia\",\"Defesa Pessoal\",\"Funcional\",\"Defesa Pessoal\",\"Funcional\",\"Defesa Pessoal\",\"Defesa Pessoal\",\"Funcional\",\"Funcional\",\"Seguran\\u00e7a Dignitario\",\"Defesa Pessoal\",\"Funcional\"],\"yaxis\":\"y\",\"type\":\"bar\"}],                        {\"template\":{\"data\":{\"histogram2dcontour\":[{\"type\":\"histogram2dcontour\",\"colorbar\":{\"outlinewidth\":0,\"ticks\":\"\"},\"colorscale\":[[0.0,\"#0d0887\"],[0.1111111111111111,\"#46039f\"],[0.2222222222222222,\"#7201a8\"],[0.3333333333333333,\"#9c179e\"],[0.4444444444444444,\"#bd3786\"],[0.5555555555555556,\"#d8576b\"],[0.6666666666666666,\"#ed7953\"],[0.7777777777777778,\"#fb9f3a\"],[0.8888888888888888,\"#fdca26\"],[1.0,\"#f0f921\"]]}],\"choropleth\":[{\"type\":\"choropleth\",\"colorbar\":{\"outlinewidth\":0,\"ticks\":\"\"}}],\"histogram2d\":[{\"type\":\"histogram2d\",\"colorbar\":{\"outlinewidth\":0,\"ticks\":\"\"},\"colorscale\":[[0.0,\"#0d0887\"],[0.1111111111111111,\"#46039f\"],[0.2222222222222222,\"#7201a8\"],[0.3333333333333333,\"#9c179e\"],[0.4444444444444444,\"#bd3786\"],[0.5555555555555556,\"#d8576b\"],[0.6666666666666666,\"#ed7953\"],[0.7777777777777778,\"#fb9f3a\"],[0.8888888888888888,\"#fdca26\"],[1.0,\"#f0f921\"]]}],\"heatmap\":[{\"type\":\"heatmap\",\"colorbar\":{\"outlinewidth\":0,\"ticks\":\"\"},\"colorscale\":[[0.0,\"#0d0887\"],[0.1111111111111111,\"#46039f\"],[0.2222222222222222,\"#7201a8\"],[0.3333333333333333,\"#9c179e\"],[0.4444444444444444,\"#bd3786\"],[0.5555555555555556,\"#d8576b\"],[0.6666666666666666,\"#ed7953\"],[0.7777777777777778,\"#fb9f3a\"],[0.8888888888888888,\"#fdca26\"],[1.0,\"#f0f921\"]]}],\"heatmapgl\":[{\"type\":\"heatmapgl\",\"colorbar\":{\"outlinewidth\":0,\"ticks\":\"\"},\"colorscale\":[[0.0,\"#0d0887\"],[0.1111111111111111,\"#46039f\"],[0.2222222222222222,\"#7201a8\"],[0.3333333333333333,\"#9c179e\"],[0.4444444444444444,\"#bd3786\"],[0.5555555555555556,\"#d8576b\"],[0.6666666666666666,\"#ed7953\"],[0.7777777777777778,\"#fb9f3a\"],[0.8888888888888888,\"#fdca26\"],[1.0,\"#f0f921\"]]}],\"contourcarpet\":[{\"type\":\"contourcarpet\",\"colorbar\":{\"outlinewidth\":0,\"ticks\":\"\"}}],\"contour\":[{\"type\":\"contour\",\"colorbar\":{\"outlinewidth\":0,\"ticks\":\"\"},\"colorscale\":[[0.0,\"#0d0887\"],[0.1111111111111111,\"#46039f\"],[0.2222222222222222,\"#7201a8\"],[0.3333333333333333,\"#9c179e\"],[0.4444444444444444,\"#bd3786\"],[0.5555555555555556,\"#d8576b\"],[0.6666666666666666,\"#ed7953\"],[0.7777777777777778,\"#fb9f3a\"],[0.8888888888888888,\"#fdca26\"],[1.0,\"#f0f921\"]]}],\"surface\":[{\"type\":\"surface\",\"colorbar\":{\"outlinewidth\":0,\"ticks\":\"\"},\"colorscale\":[[0.0,\"#0d0887\"],[0.1111111111111111,\"#46039f\"],[0.2222222222222222,\"#7201a8\"],[0.3333333333333333,\"#9c179e\"],[0.4444444444444444,\"#bd3786\"],[0.5555555555555556,\"#d8576b\"],[0.6666666666666666,\"#ed7953\"],[0.7777777777777778,\"#fb9f3a\"],[0.8888888888888888,\"#fdca26\"],[1.0,\"#f0f921\"]]}],\"mesh3d\":[{\"type\":\"mesh3d\",\"colorbar\":{\"outlinewidth\":0,\"ticks\":\"\"}}],\"scatter\":[{\"fillpattern\":{\"fillmode\":\"overlay\",\"size\":10,\"solidity\":0.2},\"type\":\"scatter\"}],\"parcoords\":[{\"type\":\"parcoords\",\"line\":{\"colorbar\":{\"outlinewidth\":0,\"ticks\":\"\"}}}],\"scatterpolargl\":[{\"type\":\"scatterpolargl\",\"marker\":{\"colorbar\":{\"outlinewidth\":0,\"ticks\":\"\"}}}],\"bar\":[{\"error_x\":{\"color\":\"#2a3f5f\"},\"error_y\":{\"color\":\"#2a3f5f\"},\"marker\":{\"line\":{\"color\":\"#E5ECF6\",\"width\":0.5},\"pattern\":{\"fillmode\":\"overlay\",\"size\":10,\"solidity\":0.2}},\"type\":\"bar\"}],\"scattergeo\":[{\"type\":\"scattergeo\",\"marker\":{\"colorbar\":{\"outlinewidth\":0,\"ticks\":\"\"}}}],\"scatterpolar\":[{\"type\":\"scatterpolar\",\"marker\":{\"colorbar\":{\"outlinewidth\":0,\"ticks\":\"\"}}}],\"histogram\":[{\"marker\":{\"pattern\":{\"fillmode\":\"overlay\",\"size\":10,\"solidity\":0.2}},\"type\":\"histogram\"}],\"scattergl\":[{\"type\":\"scattergl\",\"marker\":{\"colorbar\":{\"outlinewidth\":0,\"ticks\":\"\"}}}],\"scatter3d\":[{\"type\":\"scatter3d\",\"line\":{\"colorbar\":{\"outlinewidth\":0,\"ticks\":\"\"}},\"marker\":{\"colorbar\":{\"outlinewidth\":0,\"ticks\":\"\"}}}],\"scattermapbox\":[{\"type\":\"scattermapbox\",\"marker\":{\"colorbar\":{\"outlinewidth\":0,\"ticks\":\"\"}}}],\"scatterternary\":[{\"type\":\"scatterternary\",\"marker\":{\"colorbar\":{\"outlinewidth\":0,\"ticks\":\"\"}}}],\"scattercarpet\":[{\"type\":\"scattercarpet\",\"marker\":{\"colorbar\":{\"outlinewidth\":0,\"ticks\":\"\"}}}],\"carpet\":[{\"aaxis\":{\"endlinecolor\":\"#2a3f5f\",\"gridcolor\":\"white\",\"linecolor\":\"white\",\"minorgridcolor\":\"white\",\"startlinecolor\":\"#2a3f5f\"},\"baxis\":{\"endlinecolor\":\"#2a3f5f\",\"gridcolor\":\"white\",\"linecolor\":\"white\",\"minorgridcolor\":\"white\",\"startlinecolor\":\"#2a3f5f\"},\"type\":\"carpet\"}],\"table\":[{\"cells\":{\"fill\":{\"color\":\"#EBF0F8\"},\"line\":{\"color\":\"white\"}},\"header\":{\"fill\":{\"color\":\"#C8D4E3\"},\"line\":{\"color\":\"white\"}},\"type\":\"table\"}],\"barpolar\":[{\"marker\":{\"line\":{\"color\":\"#E5ECF6\",\"width\":0.5},\"pattern\":{\"fillmode\":\"overlay\",\"size\":10,\"solidity\":0.2}},\"type\":\"barpolar\"}],\"pie\":[{\"automargin\":true,\"type\":\"pie\"}]},\"layout\":{\"autotypenumbers\":\"strict\",\"colorway\":[\"#636efa\",\"#EF553B\",\"#00cc96\",\"#ab63fa\",\"#FFA15A\",\"#19d3f3\",\"#FF6692\",\"#B6E880\",\"#FF97FF\",\"#FECB52\"],\"font\":{\"color\":\"#2a3f5f\"},\"hovermode\":\"closest\",\"hoverlabel\":{\"align\":\"left\"},\"paper_bgcolor\":\"white\",\"plot_bgcolor\":\"#E5ECF6\",\"polar\":{\"bgcolor\":\"#E5ECF6\",\"angularaxis\":{\"gridcolor\":\"white\",\"linecolor\":\"white\",\"ticks\":\"\"},\"radialaxis\":{\"gridcolor\":\"white\",\"linecolor\":\"white\",\"ticks\":\"\"}},\"ternary\":{\"bgcolor\":\"#E5ECF6\",\"aaxis\":{\"gridcolor\":\"white\",\"linecolor\":\"white\",\"ticks\":\"\"},\"baxis\":{\"gridcolor\":\"white\",\"linecolor\":\"white\",\"ticks\":\"\"},\"caxis\":{\"gridcolor\":\"white\",\"linecolor\":\"white\",\"ticks\":\"\"}},\"coloraxis\":{\"colorbar\":{\"outlinewidth\":0,\"ticks\":\"\"}},\"colorscale\":{\"sequential\":[[0.0,\"#0d0887\"],[0.1111111111111111,\"#46039f\"],[0.2222222222222222,\"#7201a8\"],[0.3333333333333333,\"#9c179e\"],[0.4444444444444444,\"#bd3786\"],[0.5555555555555556,\"#d8576b\"],[0.6666666666666666,\"#ed7953\"],[0.7777777777777778,\"#fb9f3a\"],[0.8888888888888888,\"#fdca26\"],[1.0,\"#f0f921\"]],\"sequentialminus\":[[0.0,\"#0d0887\"],[0.1111111111111111,\"#46039f\"],[0.2222222222222222,\"#7201a8\"],[0.3333333333333333,\"#9c179e\"],[0.4444444444444444,\"#bd3786\"],[0.5555555555555556,\"#d8576b\"],[0.6666666666666666,\"#ed7953\"],[0.7777777777777778,\"#fb9f3a\"],[0.8888888888888888,\"#fdca26\"],[1.0,\"#f0f921\"]],\"diverging\":[[0,\"#8e0152\"],[0.1,\"#c51b7d\"],[0.2,\"#de77ae\"],[0.3,\"#f1b6da\"],[0.4,\"#fde0ef\"],[0.5,\"#f7f7f7\"],[0.6,\"#e6f5d0\"],[0.7,\"#b8e186\"],[0.8,\"#7fbc41\"],[0.9,\"#4d9221\"],[1,\"#276419\"]]},\"xaxis\":{\"gridcolor\":\"white\",\"linecolor\":\"white\",\"ticks\":\"\",\"title\":{\"standoff\":15},\"zerolinecolor\":\"white\",\"automargin\":true,\"zerolinewidth\":2},\"yaxis\":{\"gridcolor\":\"white\",\"linecolor\":\"white\",\"ticks\":\"\",\"title\":{\"standoff\":15},\"zerolinecolor\":\"white\",\"automargin\":true,\"zerolinewidth\":2},\"scene\":{\"xaxis\":{\"backgroundcolor\":\"#E5ECF6\",\"gridcolor\":\"white\",\"linecolor\":\"white\",\"showbackground\":true,\"ticks\":\"\",\"zerolinecolor\":\"white\",\"gridwidth\":2},\"yaxis\":{\"backgroundcolor\":\"#E5ECF6\",\"gridcolor\":\"white\",\"linecolor\":\"white\",\"showbackground\":true,\"ticks\":\"\",\"zerolinecolor\":\"white\",\"gridwidth\":2},\"zaxis\":{\"backgroundcolor\":\"#E5ECF6\",\"gridcolor\":\"white\",\"linecolor\":\"white\",\"showbackground\":true,\"ticks\":\"\",\"zerolinecolor\":\"white\",\"gridwidth\":2}},\"shapedefaults\":{\"line\":{\"color\":\"#2a3f5f\"}},\"annotationdefaults\":{\"arrowcolor\":\"#2a3f5f\",\"arrowhead\":0,\"arrowwidth\":1},\"geo\":{\"bgcolor\":\"white\",\"landcolor\":\"#E5ECF6\",\"subunitcolor\":\"white\",\"showland\":true,\"showlakes\":true,\"lakecolor\":\"white\"},\"title\":{\"x\":0.05},\"mapbox\":{\"style\":\"light\"}}},\"xaxis\":{\"anchor\":\"y\",\"domain\":[0.0,1.0],\"title\":{\"text\":\"TOTAL\"}},\"yaxis\":{\"anchor\":\"x\",\"domain\":[0.0,1.0],\"title\":{\"text\":\"CATEGORIA\"}},\"legend\":{\"tracegroupgap\":0},\"title\":{\"text\":\"Total de portes de arma por categoria\"},\"barmode\":\"relative\",\"height\":400},                        {\"responsive\": true}                    ).then(function(){\n",
       "                            \n",
       "var gd = document.getElementById('31be467c-a302-4297-becb-32d99888a3f1');\n",
       "var x = new MutationObserver(function (mutations, observer) {{\n",
       "        var display = window.getComputedStyle(gd).display;\n",
       "        if (!display || display === 'none') {{\n",
       "            console.log([gd, 'removed!']);\n",
       "            Plotly.purge(gd);\n",
       "            observer.disconnect();\n",
       "        }}\n",
       "}});\n",
       "\n",
       "// Listen for the removal of the full notebook cells\n",
       "var notebookContainer = gd.closest('#notebook-container');\n",
       "if (notebookContainer) {{\n",
       "    x.observe(notebookContainer, {childList: true});\n",
       "}}\n",
       "\n",
       "// Listen for the clearing of the current output cell\n",
       "var outputEl = gd.closest('.output');\n",
       "if (outputEl) {{\n",
       "    x.observe(outputEl, {childList: true});\n",
       "}}\n",
       "\n",
       "                        })                };                });            </script>        </div>"
      ]
     },
     "metadata": {},
     "output_type": "display_data"
    }
   ],
   "source": [
    "fig = px.bar(df_porte, x='TOTAL', y='CATEGORIA', title='Total de portes de arma por categoria', height=400)\n",
    "fig.show()"
   ]
  },
  {
   "cell_type": "code",
   "execution_count": 74,
   "id": "2633645e",
   "metadata": {},
   "outputs": [
    {
     "data": {
      "application/vnd.plotly.v1+json": {
       "config": {
        "plotlyServerURL": "https://plot.ly"
       },
       "data": [
        {
         "alignmentgroup": "True",
         "hovertemplate": "TOTAL=%{x}<br>ABRANGENCIA=%{y}<extra></extra>",
         "legendgroup": "",
         "marker": {
          "color": "#636efa",
          "pattern": {
           "shape": ""
          }
         },
         "name": "",
         "offsetgroup": "",
         "orientation": "h",
         "showlegend": false,
         "textposition": "auto",
         "type": "bar",
         "x": [
          15,
          3,
          1,
          12,
          1,
          1,
          55,
          1,
          1,
          9,
          2,
          1,
          2,
          30,
          19,
          60,
          3,
          5,
          18,
          2,
          19,
          5,
          7,
          1,
          44,
          8,
          22,
          1,
          19,
          9,
          3,
          10,
          2,
          38,
          17,
          7,
          1,
          1,
          4,
          1,
          12,
          1,
          40,
          5,
          6,
          12,
          12,
          3,
          68,
          29,
          3,
          131,
          5,
          7,
          32,
          1,
          1,
          32,
          4,
          1,
          1,
          16,
          4,
          1,
          28,
          3,
          22,
          1,
          22,
          56,
          3,
          41,
          4,
          2,
          59,
          1,
          27,
          25,
          1,
          68,
          1,
          2,
          11,
          3,
          135,
          4,
          32,
          3,
          14,
          2,
          35,
          13,
          1,
          151,
          1,
          5,
          3,
          14,
          11,
          1,
          1,
          1,
          9,
          2,
          1,
          65,
          41,
          3,
          12,
          112,
          3,
          5,
          1,
          37,
          91,
          6,
          7,
          67,
          8,
          18,
          2,
          2,
          5,
          36,
          490,
          13,
          88,
          8,
          2,
          10,
          1,
          25,
          6,
          1,
          20,
          1,
          3,
          1,
          2,
          1,
          2,
          2,
          6,
          8,
          1,
          30,
          87,
          38,
          8,
          134,
          1,
          38,
          2,
          6,
          9,
          17,
          1,
          22,
          17,
          7,
          5,
          11,
          8,
          1,
          10,
          1,
          16,
          5,
          1,
          3,
          1,
          1,
          1,
          6,
          24,
          1,
          31,
          3,
          4,
          5,
          3,
          1,
          1,
          10,
          1,
          3,
          123,
          14,
          5,
          18,
          24,
          1,
          4,
          6,
          3,
          38,
          8,
          581,
          4,
          2,
          2,
          4,
          11,
          33,
          8,
          1,
          27,
          8,
          4,
          3,
          36,
          36,
          5,
          5,
          1,
          27,
          1,
          7,
          1,
          4,
          1,
          2,
          95,
          6,
          3,
          10,
          1,
          26,
          6,
          3,
          4,
          2,
          1,
          14,
          1,
          1,
          1,
          5,
          2,
          180,
          146,
          1,
          42,
          1,
          7,
          15,
          10,
          2,
          91,
          5,
          7,
          6,
          25,
          7,
          23,
          1,
          335,
          4,
          6,
          2,
          5,
          4,
          5,
          26,
          2,
          2,
          4,
          9,
          2,
          7,
          6,
          13,
          1,
          40,
          46,
          2,
          4,
          1,
          39,
          2,
          10,
          1,
          22,
          12,
          2,
          1,
          1,
          2,
          5,
          123,
          26,
          2,
          3,
          18,
          30,
          3,
          1,
          6,
          9,
          1,
          3,
          2,
          13,
          7,
          2,
          68,
          7,
          1,
          52,
          1,
          2,
          2,
          3,
          3,
          1,
          5,
          141,
          4,
          7,
          8,
          1,
          17,
          1,
          2,
          2,
          17,
          1,
          27,
          236,
          27,
          1,
          1,
          8,
          1,
          11,
          1,
          5,
          2,
          12,
          1,
          14,
          6,
          4,
          36,
          1,
          5,
          29,
          26,
          37,
          17,
          34,
          1,
          17,
          2,
          23,
          16,
          1,
          24,
          1,
          5,
          80,
          22,
          3,
          6,
          11,
          4,
          36,
          4,
          2,
          16,
          1,
          2,
          1,
          6,
          6,
          1,
          11,
          3,
          1,
          2,
          22,
          3,
          2,
          2,
          3,
          3,
          2,
          105,
          8,
          4,
          51,
          3,
          9,
          1,
          56,
          2,
          1,
          1,
          10,
          1,
          541,
          6,
          1,
          20,
          5,
          16,
          1,
          2,
          2,
          24,
          4,
          39,
          4,
          53,
          94,
          11,
          80,
          19,
          62,
          1,
          1,
          15,
          24,
          2,
          1,
          5,
          1,
          13,
          2,
          23,
          5,
          48,
          4,
          2,
          57,
          5,
          1,
          3,
          1,
          9,
          1,
          22,
          1,
          5,
          5,
          2,
          1,
          1,
          21,
          7,
          8,
          3,
          3,
          2,
          1,
          1,
          96,
          8,
          5,
          30,
          1,
          13,
          2,
          29,
          160,
          8,
          1,
          1,
          2,
          2,
          4,
          12,
          1,
          1,
          8,
          2,
          1,
          8,
          1,
          6,
          1,
          6,
          7,
          7,
          38,
          29,
          4,
          41,
          2,
          32,
          14,
          7,
          2,
          2,
          74,
          8,
          9,
          2,
          1,
          1,
          49,
          7,
          2,
          64,
          8,
          2,
          30,
          2,
          1,
          3,
          13,
          3,
          22,
          2,
          26,
          1,
          44,
          1,
          2,
          1,
          38,
          86,
          4,
          4,
          4,
          4,
          16,
          5,
          4,
          1,
          14,
          34,
          303,
          1,
          13,
          9,
          4,
          5,
          7,
          5,
          2,
          17,
          4,
          3,
          14,
          2,
          30,
          59,
          27,
          46,
          9,
          9,
          29,
          5,
          2,
          4,
          2,
          1,
          177,
          2,
          16,
          4,
          4,
          15,
          2,
          46,
          8,
          5,
          3,
          11,
          1,
          1,
          1,
          1,
          18,
          1,
          4,
          18,
          1,
          31,
          4,
          1,
          87,
          5,
          4,
          14,
          11,
          1,
          1,
          8,
          18,
          1,
          208,
          3,
          2,
          3,
          10,
          5,
          19,
          3,
          1,
          110,
          1,
          1,
          30,
          2,
          50,
          23,
          29,
          4,
          54,
          3,
          34,
          3,
          34,
          6,
          1,
          1,
          1,
          9,
          2,
          2,
          8,
          7,
          13,
          1,
          40,
          1,
          3,
          7,
          2,
          2,
          7,
          14,
          4,
          1,
          1,
          9,
          1,
          2,
          4,
          2,
          2,
          1,
          134,
          16,
          12,
          22,
          2,
          4,
          3,
          17,
          315,
          1,
          6,
          3,
          9,
          3,
          24,
          1,
          1,
          3,
          1,
          1,
          6,
          3,
          1,
          3,
          3,
          58,
          59,
          25,
          6,
          20,
          2,
          1,
          1,
          16,
          92,
          5,
          2,
          19,
          1,
          2,
          21,
          4,
          14,
          17,
          1,
          5,
          7,
          1,
          1,
          16,
          2,
          23,
          10,
          1,
          2,
          5,
          1,
          4,
          4,
          1,
          83,
          10,
          7,
          1,
          2,
          11,
          2,
          61,
          27,
          1,
          286,
          1,
          10,
          56,
          1,
          1,
          30,
          5,
          1,
          24,
          1,
          10,
          19,
          2,
          2,
          157,
          46,
          60,
          22,
          2,
          13,
          44,
          2,
          1,
          3,
          19,
          35,
          4,
          2,
          32,
          1,
          39,
          2,
          16,
          36,
          11,
          3,
          4,
          1,
          5,
          2,
          8,
          5,
          15,
          4,
          18,
          5,
          6,
          7,
          2,
          78,
          4,
          8,
          5,
          5,
          5,
          10,
          1,
          19,
          44,
          2,
          435,
          4,
          2,
          1,
          4
         ],
         "xaxis": "x",
         "y": [
          null,
          "Estadual",
          "Regional",
          "Estadual",
          "Nacional",
          "Regional",
          "Estadual",
          null,
          "Estadual",
          "Estadual",
          "Estadual",
          "Nacional",
          "Regional",
          "Estadual",
          "Nacional",
          "Estadual",
          "Nacional",
          "Estadual",
          "Estadual",
          "Nacional",
          "Estadual",
          "Estadual",
          "Estadual",
          "Nacional",
          "Estadual",
          "Nacional",
          "Estadual",
          "Nacional",
          null,
          "Estadual",
          "Estadual",
          "Estadual",
          "Estadual",
          "Estadual",
          "Estadual",
          "Nacional",
          "Regional",
          "Estadual",
          "Estadual",
          "Estadual",
          "Estadual",
          "Nacional",
          "Estadual",
          "Nacional",
          "Estadual",
          "Estadual",
          "Nacional",
          "Estadual",
          "Estadual",
          "Estadual",
          "Nacional",
          "Estadual",
          null,
          "Estadual",
          "Estadual",
          "Nacional",
          "Regional",
          "Estadual",
          "Nacional",
          "Estadual",
          "Estadual",
          "Estadual",
          "Nacional",
          "Regional",
          "Estadual",
          "Estadual",
          "Estadual",
          null,
          "Estadual",
          "Nacional",
          "Estadual",
          "Nacional",
          "Nacional",
          null,
          "Estadual",
          "Nacional",
          "Estadual",
          "Estadual",
          "Nacional",
          "Estadual",
          "Nacional",
          "Estadual",
          "Estadual",
          "Estadual",
          "Estadual",
          "Nacional",
          "Estadual",
          null,
          "Estadual",
          "Nacional",
          null,
          "Estadual",
          "Nacional",
          "Estadual",
          null,
          "Estadual",
          "Estadual",
          "Estadual",
          "Nacional",
          null,
          "Nacional",
          null,
          "Estadual",
          "Nacional",
          "Regional",
          "Estadual",
          "Estadual",
          "Nacional",
          "Nacional",
          "Estadual",
          null,
          "Estadual",
          "Estadual",
          "Estadual",
          "Estadual",
          "Nacional",
          "Regional",
          "Estadual",
          "Nacional",
          "Estadual",
          null,
          "Estadual",
          null,
          "Estadual",
          "Estadual",
          "Nacional",
          null,
          "Estadual",
          null,
          "Estadual",
          "Regional",
          "Nacional",
          "Estadual",
          "Regional",
          "Estadual",
          null,
          "Estadual",
          "Nacional",
          "Regional",
          "Estadual",
          "Estadual",
          "Nacional",
          "Estadual",
          "Estadual",
          "Nacional",
          "Estadual",
          "Nacional",
          "Estadual",
          "Nacional",
          "Nacional",
          null,
          "Estadual",
          "Nacional",
          "Estadual",
          "Nacional",
          "Estadual",
          "Nacional",
          "Estadual",
          "Estadual",
          "Estadual",
          "Estadual",
          "Estadual",
          "Estadual",
          "Nacional",
          null,
          "Estadual",
          "Estadual",
          "Estadual",
          "Estadual",
          "Estadual",
          "Nacional",
          "Estadual",
          "Estadual",
          "Nacional",
          "Estadual",
          null,
          "Estadual",
          "Nacional",
          "Nacional",
          "Nacional",
          "Estadual",
          "Nacional",
          "Nacional",
          "Estadual",
          "Nacional",
          "Estadual",
          "Estadual",
          "Nacional",
          "Regional",
          "Estadual",
          "Estadual",
          "Nacional",
          "Nacional",
          "Estadual",
          "Estadual",
          "Estadual",
          "Nacional",
          "Estadual",
          "Nacional",
          "Estadual",
          null,
          "Estadual",
          "Estadual",
          "Estadual",
          "Estadual",
          "Nacional",
          "Estadual",
          "Nacional",
          "Nacional",
          "Estadual",
          "Estadual",
          "Nacional",
          "Estadual",
          "Nacional",
          "Nacional",
          "Estadual",
          "Nacional",
          "Estadual",
          "Estadual",
          "Estadual",
          "Estadual",
          "Estadual",
          "Estadual",
          "Estadual",
          "Nacional",
          "Estadual",
          "Nacional",
          null,
          "Estadual",
          "Estadual",
          "Nacional",
          "Estadual",
          "Nacional",
          "Estadual",
          "Nacional",
          "Estadual",
          "Nacional",
          "Estadual",
          "Nacional",
          "Estadual",
          null,
          null,
          "Estadual",
          "Nacional",
          "Estadual",
          "Nacional",
          "Estadual",
          "Estadual",
          "Estadual",
          "Nacional",
          "Regional",
          "Estadual",
          "Estadual",
          "Estadual",
          "Estadual",
          "Nacional",
          "Estadual",
          null,
          "Nacional",
          "Estadual",
          "Estadual",
          null,
          "Estadual",
          "Estadual",
          "Nacional",
          "Regional",
          "Estadual",
          "Estadual",
          "Nacional",
          "Estadual",
          "Estadual",
          "Estadual",
          null,
          "Estadual",
          "Nacional",
          "Nacional",
          "Nacional",
          null,
          "Estadual",
          "Nacional",
          "Estadual",
          null,
          "Estadual",
          "Estadual",
          "Nacional",
          null,
          "Estadual",
          "Estadual",
          "Estadual",
          "Estadual",
          "Estadual",
          "Nacional",
          null,
          "Estadual",
          null,
          "Estadual",
          "Nacional",
          "Estadual",
          "Estadual",
          "Nacional",
          "Estadual",
          "Nacional",
          "Estadual",
          "Nacional",
          "Regional",
          "Estadual",
          null,
          null,
          "Estadual",
          "Nacional",
          "Nacional",
          "Estadual",
          "Estadual",
          null,
          "Estadual",
          "Nacional",
          "Estadual",
          "Nacional",
          "Regional",
          "Estadual",
          "Nacional",
          "Estadual",
          "Estadual",
          "Nacional",
          "Estadual",
          "Estadual",
          null,
          "Estadual",
          "Estadual",
          null,
          null,
          "Estadual",
          null,
          "Estadual",
          "Estadual",
          "Nacional",
          "Estadual",
          "Estadual",
          "Estadual",
          "Nacional",
          "Estadual",
          "Nacional",
          "Estadual",
          "Estadual",
          "Nacional",
          null,
          "Estadual",
          "Nacional",
          "Nacional",
          "Nacional",
          "Estadual",
          "Nacional",
          "Estadual",
          "Nacional",
          "Estadual",
          "Estadual",
          "Estadual",
          "Estadual",
          null,
          "Estadual",
          "Estadual",
          "Estadual",
          "Estadual",
          "Estadual",
          "Estadual",
          "Nacional",
          null,
          "Estadual",
          "Nacional",
          "Estadual",
          null,
          "Estadual",
          null,
          "Estadual",
          "Nacional",
          null,
          "Estadual",
          "Nacional",
          "Regional",
          null,
          "Estadual",
          "Nacional",
          "Nacional",
          "Nacional",
          "Estadual",
          null,
          "Estadual",
          "Estadual",
          "Nacional",
          "Regional",
          "Estadual",
          null,
          "Estadual",
          "Regional",
          "Estadual",
          "Nacional",
          null,
          "Nacional",
          "Estadual",
          "Nacional",
          "Estadual",
          null,
          "Estadual",
          null,
          "Estadual",
          "Estadual",
          "Nacional",
          "Nacional",
          "Estadual",
          "Estadual",
          "Estadual",
          "Estadual",
          null,
          "Estadual",
          "Nacional",
          "Estadual",
          "Nacional",
          "Nacional",
          "Estadual",
          "Nacional",
          null,
          "Estadual",
          "Estadual",
          "Estadual",
          null,
          "Estadual",
          "Nacional",
          "Estadual",
          "Nacional",
          "Estadual",
          "Nacional",
          null,
          "Estadual",
          "Nacional",
          "Estadual",
          "Estadual",
          "Nacional",
          "Estadual",
          null,
          "Estadual",
          "Regional",
          "Estadual",
          "Estadual",
          "Estadual",
          "Nacional",
          "Estadual",
          null,
          null,
          "Estadual",
          "Nacional",
          "Nacional",
          "Estadual",
          "Estadual",
          null,
          "Estadual",
          "Nacional",
          "Estadual",
          "Nacional",
          "Regional",
          "Estadual",
          "Nacional",
          "Estadual",
          "Nacional",
          "Estadual",
          "Estadual",
          "Nacional",
          null,
          "Estadual",
          "Estadual",
          "Nacional",
          null,
          "Estadual",
          "Nacional",
          "Regional",
          "Estadual",
          "Nacional",
          "Estadual",
          "Estadual",
          "Estadual",
          "Estadual",
          "Nacional",
          "Estadual",
          "Estadual",
          "Estadual",
          "Estadual",
          "Nacional",
          "Nacional",
          "Estadual",
          "Nacional",
          "Estadual",
          "Estadual",
          "Estadual",
          "Estadual",
          "Estadual",
          "Estadual",
          "Estadual",
          "Estadual",
          "Nacional",
          "Estadual",
          "Nacional",
          null,
          "Estadual",
          "Estadual",
          "Estadual",
          "Estadual",
          "Nacional",
          "Estadual",
          "Nacional",
          null,
          "Estadual",
          "Estadual",
          "Nacional",
          "Estadual",
          null,
          "Estadual",
          "Nacional",
          "Nacional",
          "Estadual",
          "Estadual",
          "Estadual",
          "Estadual",
          "Estadual",
          "Nacional",
          "Regional",
          "Estadual",
          "Nacional",
          "Estadual",
          "Estadual",
          "Estadual",
          "Nacional",
          "Estadual",
          "Estadual",
          "Estadual",
          "Estadual",
          "Estadual",
          null,
          "Estadual",
          "Estadual",
          "Nacional",
          "Estadual",
          "Estadual",
          "Estadual",
          "Estadual",
          "Regional",
          "Estadual",
          null,
          "Estadual",
          "Nacional",
          "Estadual",
          "Estadual",
          "Nacional",
          "Estadual",
          "Estadual",
          "Nacional",
          "Estadual",
          "Nacional",
          "Estadual",
          "Nacional",
          "Estadual",
          "Nacional",
          "Estadual",
          "Estadual",
          "Nacional",
          "Estadual",
          "Nacional",
          null,
          "Estadual",
          "Estadual",
          "Estadual",
          "Estadual",
          "Nacional",
          "Estadual",
          "Nacional",
          "Estadual",
          "Estadual",
          "Regional",
          "Estadual",
          "Estadual",
          "Nacional",
          "Estadual",
          "Estadual",
          "Nacional",
          "Estadual",
          "Nacional",
          "Regional",
          "Estadual",
          "Estadual",
          "Estadual",
          "Nacional",
          "Estadual",
          "Estadual",
          "Nacional",
          "Estadual",
          null,
          "Nacional",
          "Estadual",
          null,
          "Estadual",
          "Estadual",
          "Nacional",
          "Regional",
          "Estadual",
          "Regional",
          "Estadual",
          "Estadual",
          "Estadual",
          "Estadual",
          "Estadual",
          "Nacional",
          "Nacional",
          "Estadual",
          "Nacional",
          "Estadual",
          "Nacional",
          "Estadual",
          "Estadual",
          "Estadual",
          "Nacional",
          "Nacional",
          "Estadual",
          "Nacional",
          null,
          "Estadual",
          null,
          "Estadual",
          "Nacional",
          "Estadual",
          "Nacional",
          "Estadual",
          "Estadual",
          "Nacional",
          "Regional",
          "Nacional",
          "Estadual",
          "Nacional",
          "Regional",
          "Nacional",
          "Estadual",
          "Nacional",
          "Estadual",
          "Nacional",
          "Estadual",
          "Nacional",
          "Regional",
          "Estadual",
          "Nacional",
          "Regional",
          "Estadual",
          null,
          "Estadual",
          "Estadual",
          "Estadual",
          "Estadual",
          "Regional",
          null,
          "Estadual",
          null,
          "Estadual",
          "Estadual",
          "Nacional",
          null,
          "Estadual",
          "Nacional",
          "Estadual",
          "Estadual",
          "Estadual",
          "Nacional",
          "Regional",
          "Estadual",
          "Estadual",
          "Nacional",
          "Nacional",
          "Nacional",
          "Estadual",
          "Nacional",
          "Nacional",
          null,
          "Estadual",
          "Estadual",
          "Estadual",
          "Estadual",
          "Estadual",
          "Nacional",
          null,
          "Estadual",
          "Nacional",
          null,
          "Estadual",
          "Estadual",
          "Nacional",
          "Estadual",
          "Regional",
          "Estadual",
          "Estadual",
          "Nacional",
          "Estadual",
          "Estadual",
          "Estadual",
          "Nacional",
          "Estadual",
          "Nacional",
          "Estadual",
          "Nacional",
          "Estadual",
          "Estadual",
          "Nacional",
          "Regional",
          "Estadual",
          "Nacional",
          "Estadual",
          "Estadual",
          "Estadual",
          "Estadual",
          "Nacional",
          "Estadual",
          null,
          "Nacional",
          "Estadual",
          null,
          "Estadual",
          "Estadual",
          "Nacional",
          "Regional",
          "Estadual",
          "Regional",
          "Estadual",
          "Estadual",
          "Estadual",
          "Nacional",
          "Estadual",
          "Estadual",
          "Nacional",
          "Nacional",
          "Estadual",
          "Nacional",
          "Estadual",
          "Nacional",
          "Regional",
          "Estadual",
          "Estadual",
          "Estadual",
          "Estadual",
          "Estadual",
          "Estadual",
          "Nacional",
          "Estadual",
          "Nacional",
          "Estadual",
          null,
          "Estadual",
          "Estadual",
          "Estadual",
          "Regional",
          "Nacional",
          "Estadual",
          "Estadual",
          "Nacional",
          "Nacional",
          "Estadual",
          "Nacional",
          "Estadual",
          "Estadual",
          "Estadual",
          "Estadual",
          "Estadual",
          "Nacional",
          "Regional",
          "Estadual",
          null,
          "Estadual",
          "Estadual",
          "Estadual",
          "Estadual",
          "Estadual",
          "Nacional",
          "Estadual",
          null,
          "Nacional",
          "Estadual",
          "Estadual"
         ],
         "yaxis": "y"
        }
       ],
       "layout": {
        "barmode": "relative",
        "height": 400,
        "legend": {
         "tracegroupgap": 0
        },
        "template": {
         "data": {
          "bar": [
           {
            "error_x": {
             "color": "#2a3f5f"
            },
            "error_y": {
             "color": "#2a3f5f"
            },
            "marker": {
             "line": {
              "color": "#E5ECF6",
              "width": 0.5
             },
             "pattern": {
              "fillmode": "overlay",
              "size": 10,
              "solidity": 0.2
             }
            },
            "type": "bar"
           }
          ],
          "barpolar": [
           {
            "marker": {
             "line": {
              "color": "#E5ECF6",
              "width": 0.5
             },
             "pattern": {
              "fillmode": "overlay",
              "size": 10,
              "solidity": 0.2
             }
            },
            "type": "barpolar"
           }
          ],
          "carpet": [
           {
            "aaxis": {
             "endlinecolor": "#2a3f5f",
             "gridcolor": "white",
             "linecolor": "white",
             "minorgridcolor": "white",
             "startlinecolor": "#2a3f5f"
            },
            "baxis": {
             "endlinecolor": "#2a3f5f",
             "gridcolor": "white",
             "linecolor": "white",
             "minorgridcolor": "white",
             "startlinecolor": "#2a3f5f"
            },
            "type": "carpet"
           }
          ],
          "choropleth": [
           {
            "colorbar": {
             "outlinewidth": 0,
             "ticks": ""
            },
            "type": "choropleth"
           }
          ],
          "contour": [
           {
            "colorbar": {
             "outlinewidth": 0,
             "ticks": ""
            },
            "colorscale": [
             [
              0,
              "#0d0887"
             ],
             [
              0.1111111111111111,
              "#46039f"
             ],
             [
              0.2222222222222222,
              "#7201a8"
             ],
             [
              0.3333333333333333,
              "#9c179e"
             ],
             [
              0.4444444444444444,
              "#bd3786"
             ],
             [
              0.5555555555555556,
              "#d8576b"
             ],
             [
              0.6666666666666666,
              "#ed7953"
             ],
             [
              0.7777777777777778,
              "#fb9f3a"
             ],
             [
              0.8888888888888888,
              "#fdca26"
             ],
             [
              1,
              "#f0f921"
             ]
            ],
            "type": "contour"
           }
          ],
          "contourcarpet": [
           {
            "colorbar": {
             "outlinewidth": 0,
             "ticks": ""
            },
            "type": "contourcarpet"
           }
          ],
          "heatmap": [
           {
            "colorbar": {
             "outlinewidth": 0,
             "ticks": ""
            },
            "colorscale": [
             [
              0,
              "#0d0887"
             ],
             [
              0.1111111111111111,
              "#46039f"
             ],
             [
              0.2222222222222222,
              "#7201a8"
             ],
             [
              0.3333333333333333,
              "#9c179e"
             ],
             [
              0.4444444444444444,
              "#bd3786"
             ],
             [
              0.5555555555555556,
              "#d8576b"
             ],
             [
              0.6666666666666666,
              "#ed7953"
             ],
             [
              0.7777777777777778,
              "#fb9f3a"
             ],
             [
              0.8888888888888888,
              "#fdca26"
             ],
             [
              1,
              "#f0f921"
             ]
            ],
            "type": "heatmap"
           }
          ],
          "heatmapgl": [
           {
            "colorbar": {
             "outlinewidth": 0,
             "ticks": ""
            },
            "colorscale": [
             [
              0,
              "#0d0887"
             ],
             [
              0.1111111111111111,
              "#46039f"
             ],
             [
              0.2222222222222222,
              "#7201a8"
             ],
             [
              0.3333333333333333,
              "#9c179e"
             ],
             [
              0.4444444444444444,
              "#bd3786"
             ],
             [
              0.5555555555555556,
              "#d8576b"
             ],
             [
              0.6666666666666666,
              "#ed7953"
             ],
             [
              0.7777777777777778,
              "#fb9f3a"
             ],
             [
              0.8888888888888888,
              "#fdca26"
             ],
             [
              1,
              "#f0f921"
             ]
            ],
            "type": "heatmapgl"
           }
          ],
          "histogram": [
           {
            "marker": {
             "pattern": {
              "fillmode": "overlay",
              "size": 10,
              "solidity": 0.2
             }
            },
            "type": "histogram"
           }
          ],
          "histogram2d": [
           {
            "colorbar": {
             "outlinewidth": 0,
             "ticks": ""
            },
            "colorscale": [
             [
              0,
              "#0d0887"
             ],
             [
              0.1111111111111111,
              "#46039f"
             ],
             [
              0.2222222222222222,
              "#7201a8"
             ],
             [
              0.3333333333333333,
              "#9c179e"
             ],
             [
              0.4444444444444444,
              "#bd3786"
             ],
             [
              0.5555555555555556,
              "#d8576b"
             ],
             [
              0.6666666666666666,
              "#ed7953"
             ],
             [
              0.7777777777777778,
              "#fb9f3a"
             ],
             [
              0.8888888888888888,
              "#fdca26"
             ],
             [
              1,
              "#f0f921"
             ]
            ],
            "type": "histogram2d"
           }
          ],
          "histogram2dcontour": [
           {
            "colorbar": {
             "outlinewidth": 0,
             "ticks": ""
            },
            "colorscale": [
             [
              0,
              "#0d0887"
             ],
             [
              0.1111111111111111,
              "#46039f"
             ],
             [
              0.2222222222222222,
              "#7201a8"
             ],
             [
              0.3333333333333333,
              "#9c179e"
             ],
             [
              0.4444444444444444,
              "#bd3786"
             ],
             [
              0.5555555555555556,
              "#d8576b"
             ],
             [
              0.6666666666666666,
              "#ed7953"
             ],
             [
              0.7777777777777778,
              "#fb9f3a"
             ],
             [
              0.8888888888888888,
              "#fdca26"
             ],
             [
              1,
              "#f0f921"
             ]
            ],
            "type": "histogram2dcontour"
           }
          ],
          "mesh3d": [
           {
            "colorbar": {
             "outlinewidth": 0,
             "ticks": ""
            },
            "type": "mesh3d"
           }
          ],
          "parcoords": [
           {
            "line": {
             "colorbar": {
              "outlinewidth": 0,
              "ticks": ""
             }
            },
            "type": "parcoords"
           }
          ],
          "pie": [
           {
            "automargin": true,
            "type": "pie"
           }
          ],
          "scatter": [
           {
            "fillpattern": {
             "fillmode": "overlay",
             "size": 10,
             "solidity": 0.2
            },
            "type": "scatter"
           }
          ],
          "scatter3d": [
           {
            "line": {
             "colorbar": {
              "outlinewidth": 0,
              "ticks": ""
             }
            },
            "marker": {
             "colorbar": {
              "outlinewidth": 0,
              "ticks": ""
             }
            },
            "type": "scatter3d"
           }
          ],
          "scattercarpet": [
           {
            "marker": {
             "colorbar": {
              "outlinewidth": 0,
              "ticks": ""
             }
            },
            "type": "scattercarpet"
           }
          ],
          "scattergeo": [
           {
            "marker": {
             "colorbar": {
              "outlinewidth": 0,
              "ticks": ""
             }
            },
            "type": "scattergeo"
           }
          ],
          "scattergl": [
           {
            "marker": {
             "colorbar": {
              "outlinewidth": 0,
              "ticks": ""
             }
            },
            "type": "scattergl"
           }
          ],
          "scattermapbox": [
           {
            "marker": {
             "colorbar": {
              "outlinewidth": 0,
              "ticks": ""
             }
            },
            "type": "scattermapbox"
           }
          ],
          "scatterpolar": [
           {
            "marker": {
             "colorbar": {
              "outlinewidth": 0,
              "ticks": ""
             }
            },
            "type": "scatterpolar"
           }
          ],
          "scatterpolargl": [
           {
            "marker": {
             "colorbar": {
              "outlinewidth": 0,
              "ticks": ""
             }
            },
            "type": "scatterpolargl"
           }
          ],
          "scatterternary": [
           {
            "marker": {
             "colorbar": {
              "outlinewidth": 0,
              "ticks": ""
             }
            },
            "type": "scatterternary"
           }
          ],
          "surface": [
           {
            "colorbar": {
             "outlinewidth": 0,
             "ticks": ""
            },
            "colorscale": [
             [
              0,
              "#0d0887"
             ],
             [
              0.1111111111111111,
              "#46039f"
             ],
             [
              0.2222222222222222,
              "#7201a8"
             ],
             [
              0.3333333333333333,
              "#9c179e"
             ],
             [
              0.4444444444444444,
              "#bd3786"
             ],
             [
              0.5555555555555556,
              "#d8576b"
             ],
             [
              0.6666666666666666,
              "#ed7953"
             ],
             [
              0.7777777777777778,
              "#fb9f3a"
             ],
             [
              0.8888888888888888,
              "#fdca26"
             ],
             [
              1,
              "#f0f921"
             ]
            ],
            "type": "surface"
           }
          ],
          "table": [
           {
            "cells": {
             "fill": {
              "color": "#EBF0F8"
             },
             "line": {
              "color": "white"
             }
            },
            "header": {
             "fill": {
              "color": "#C8D4E3"
             },
             "line": {
              "color": "white"
             }
            },
            "type": "table"
           }
          ]
         },
         "layout": {
          "annotationdefaults": {
           "arrowcolor": "#2a3f5f",
           "arrowhead": 0,
           "arrowwidth": 1
          },
          "autotypenumbers": "strict",
          "coloraxis": {
           "colorbar": {
            "outlinewidth": 0,
            "ticks": ""
           }
          },
          "colorscale": {
           "diverging": [
            [
             0,
             "#8e0152"
            ],
            [
             0.1,
             "#c51b7d"
            ],
            [
             0.2,
             "#de77ae"
            ],
            [
             0.3,
             "#f1b6da"
            ],
            [
             0.4,
             "#fde0ef"
            ],
            [
             0.5,
             "#f7f7f7"
            ],
            [
             0.6,
             "#e6f5d0"
            ],
            [
             0.7,
             "#b8e186"
            ],
            [
             0.8,
             "#7fbc41"
            ],
            [
             0.9,
             "#4d9221"
            ],
            [
             1,
             "#276419"
            ]
           ],
           "sequential": [
            [
             0,
             "#0d0887"
            ],
            [
             0.1111111111111111,
             "#46039f"
            ],
            [
             0.2222222222222222,
             "#7201a8"
            ],
            [
             0.3333333333333333,
             "#9c179e"
            ],
            [
             0.4444444444444444,
             "#bd3786"
            ],
            [
             0.5555555555555556,
             "#d8576b"
            ],
            [
             0.6666666666666666,
             "#ed7953"
            ],
            [
             0.7777777777777778,
             "#fb9f3a"
            ],
            [
             0.8888888888888888,
             "#fdca26"
            ],
            [
             1,
             "#f0f921"
            ]
           ],
           "sequentialminus": [
            [
             0,
             "#0d0887"
            ],
            [
             0.1111111111111111,
             "#46039f"
            ],
            [
             0.2222222222222222,
             "#7201a8"
            ],
            [
             0.3333333333333333,
             "#9c179e"
            ],
            [
             0.4444444444444444,
             "#bd3786"
            ],
            [
             0.5555555555555556,
             "#d8576b"
            ],
            [
             0.6666666666666666,
             "#ed7953"
            ],
            [
             0.7777777777777778,
             "#fb9f3a"
            ],
            [
             0.8888888888888888,
             "#fdca26"
            ],
            [
             1,
             "#f0f921"
            ]
           ]
          },
          "colorway": [
           "#636efa",
           "#EF553B",
           "#00cc96",
           "#ab63fa",
           "#FFA15A",
           "#19d3f3",
           "#FF6692",
           "#B6E880",
           "#FF97FF",
           "#FECB52"
          ],
          "font": {
           "color": "#2a3f5f"
          },
          "geo": {
           "bgcolor": "white",
           "lakecolor": "white",
           "landcolor": "#E5ECF6",
           "showlakes": true,
           "showland": true,
           "subunitcolor": "white"
          },
          "hoverlabel": {
           "align": "left"
          },
          "hovermode": "closest",
          "mapbox": {
           "style": "light"
          },
          "paper_bgcolor": "white",
          "plot_bgcolor": "#E5ECF6",
          "polar": {
           "angularaxis": {
            "gridcolor": "white",
            "linecolor": "white",
            "ticks": ""
           },
           "bgcolor": "#E5ECF6",
           "radialaxis": {
            "gridcolor": "white",
            "linecolor": "white",
            "ticks": ""
           }
          },
          "scene": {
           "xaxis": {
            "backgroundcolor": "#E5ECF6",
            "gridcolor": "white",
            "gridwidth": 2,
            "linecolor": "white",
            "showbackground": true,
            "ticks": "",
            "zerolinecolor": "white"
           },
           "yaxis": {
            "backgroundcolor": "#E5ECF6",
            "gridcolor": "white",
            "gridwidth": 2,
            "linecolor": "white",
            "showbackground": true,
            "ticks": "",
            "zerolinecolor": "white"
           },
           "zaxis": {
            "backgroundcolor": "#E5ECF6",
            "gridcolor": "white",
            "gridwidth": 2,
            "linecolor": "white",
            "showbackground": true,
            "ticks": "",
            "zerolinecolor": "white"
           }
          },
          "shapedefaults": {
           "line": {
            "color": "#2a3f5f"
           }
          },
          "ternary": {
           "aaxis": {
            "gridcolor": "white",
            "linecolor": "white",
            "ticks": ""
           },
           "baxis": {
            "gridcolor": "white",
            "linecolor": "white",
            "ticks": ""
           },
           "bgcolor": "#E5ECF6",
           "caxis": {
            "gridcolor": "white",
            "linecolor": "white",
            "ticks": ""
           }
          },
          "title": {
           "x": 0.05
          },
          "xaxis": {
           "automargin": true,
           "gridcolor": "white",
           "linecolor": "white",
           "ticks": "",
           "title": {
            "standoff": 15
           },
           "zerolinecolor": "white",
           "zerolinewidth": 2
          },
          "yaxis": {
           "automargin": true,
           "gridcolor": "white",
           "linecolor": "white",
           "ticks": "",
           "title": {
            "standoff": 15
           },
           "zerolinecolor": "white",
           "zerolinewidth": 2
          }
         }
        },
        "title": {
         "text": "Total de portes de arma por abrangência"
        },
        "xaxis": {
         "anchor": "y",
         "domain": [
          0,
          1
         ],
         "title": {
          "text": "TOTAL"
         }
        },
        "yaxis": {
         "anchor": "x",
         "domain": [
          0,
          1
         ],
         "title": {
          "text": "ABRANGENCIA"
         }
        }
       }
      },
      "text/html": [
       "<div>                            <div id=\"e3c27dcd-922e-48ab-adbc-01798f85abdd\" class=\"plotly-graph-div\" style=\"height:400px; width:100%;\"></div>            <script type=\"text/javascript\">                require([\"plotly\"], function(Plotly) {                    window.PLOTLYENV=window.PLOTLYENV || {};                                    if (document.getElementById(\"e3c27dcd-922e-48ab-adbc-01798f85abdd\")) {                    Plotly.newPlot(                        \"e3c27dcd-922e-48ab-adbc-01798f85abdd\",                        [{\"alignmentgroup\":\"True\",\"hovertemplate\":\"TOTAL=%{x}<br>ABRANGENCIA=%{y}<extra></extra>\",\"legendgroup\":\"\",\"marker\":{\"color\":\"#636efa\",\"pattern\":{\"shape\":\"\"}},\"name\":\"\",\"offsetgroup\":\"\",\"orientation\":\"h\",\"showlegend\":false,\"textposition\":\"auto\",\"x\":[15,3,1,12,1,1,55,1,1,9,2,1,2,30,19,60,3,5,18,2,19,5,7,1,44,8,22,1,19,9,3,10,2,38,17,7,1,1,4,1,12,1,40,5,6,12,12,3,68,29,3,131,5,7,32,1,1,32,4,1,1,16,4,1,28,3,22,1,22,56,3,41,4,2,59,1,27,25,1,68,1,2,11,3,135,4,32,3,14,2,35,13,1,151,1,5,3,14,11,1,1,1,9,2,1,65,41,3,12,112,3,5,1,37,91,6,7,67,8,18,2,2,5,36,490,13,88,8,2,10,1,25,6,1,20,1,3,1,2,1,2,2,6,8,1,30,87,38,8,134,1,38,2,6,9,17,1,22,17,7,5,11,8,1,10,1,16,5,1,3,1,1,1,6,24,1,31,3,4,5,3,1,1,10,1,3,123,14,5,18,24,1,4,6,3,38,8,581,4,2,2,4,11,33,8,1,27,8,4,3,36,36,5,5,1,27,1,7,1,4,1,2,95,6,3,10,1,26,6,3,4,2,1,14,1,1,1,5,2,180,146,1,42,1,7,15,10,2,91,5,7,6,25,7,23,1,335,4,6,2,5,4,5,26,2,2,4,9,2,7,6,13,1,40,46,2,4,1,39,2,10,1,22,12,2,1,1,2,5,123,26,2,3,18,30,3,1,6,9,1,3,2,13,7,2,68,7,1,52,1,2,2,3,3,1,5,141,4,7,8,1,17,1,2,2,17,1,27,236,27,1,1,8,1,11,1,5,2,12,1,14,6,4,36,1,5,29,26,37,17,34,1,17,2,23,16,1,24,1,5,80,22,3,6,11,4,36,4,2,16,1,2,1,6,6,1,11,3,1,2,22,3,2,2,3,3,2,105,8,4,51,3,9,1,56,2,1,1,10,1,541,6,1,20,5,16,1,2,2,24,4,39,4,53,94,11,80,19,62,1,1,15,24,2,1,5,1,13,2,23,5,48,4,2,57,5,1,3,1,9,1,22,1,5,5,2,1,1,21,7,8,3,3,2,1,1,96,8,5,30,1,13,2,29,160,8,1,1,2,2,4,12,1,1,8,2,1,8,1,6,1,6,7,7,38,29,4,41,2,32,14,7,2,2,74,8,9,2,1,1,49,7,2,64,8,2,30,2,1,3,13,3,22,2,26,1,44,1,2,1,38,86,4,4,4,4,16,5,4,1,14,34,303,1,13,9,4,5,7,5,2,17,4,3,14,2,30,59,27,46,9,9,29,5,2,4,2,1,177,2,16,4,4,15,2,46,8,5,3,11,1,1,1,1,18,1,4,18,1,31,4,1,87,5,4,14,11,1,1,8,18,1,208,3,2,3,10,5,19,3,1,110,1,1,30,2,50,23,29,4,54,3,34,3,34,6,1,1,1,9,2,2,8,7,13,1,40,1,3,7,2,2,7,14,4,1,1,9,1,2,4,2,2,1,134,16,12,22,2,4,3,17,315,1,6,3,9,3,24,1,1,3,1,1,6,3,1,3,3,58,59,25,6,20,2,1,1,16,92,5,2,19,1,2,21,4,14,17,1,5,7,1,1,16,2,23,10,1,2,5,1,4,4,1,83,10,7,1,2,11,2,61,27,1,286,1,10,56,1,1,30,5,1,24,1,10,19,2,2,157,46,60,22,2,13,44,2,1,3,19,35,4,2,32,1,39,2,16,36,11,3,4,1,5,2,8,5,15,4,18,5,6,7,2,78,4,8,5,5,5,10,1,19,44,2,435,4,2,1,4],\"xaxis\":\"x\",\"y\":[null,\"Estadual\",\"Regional\",\"Estadual\",\"Nacional\",\"Regional\",\"Estadual\",null,\"Estadual\",\"Estadual\",\"Estadual\",\"Nacional\",\"Regional\",\"Estadual\",\"Nacional\",\"Estadual\",\"Nacional\",\"Estadual\",\"Estadual\",\"Nacional\",\"Estadual\",\"Estadual\",\"Estadual\",\"Nacional\",\"Estadual\",\"Nacional\",\"Estadual\",\"Nacional\",null,\"Estadual\",\"Estadual\",\"Estadual\",\"Estadual\",\"Estadual\",\"Estadual\",\"Nacional\",\"Regional\",\"Estadual\",\"Estadual\",\"Estadual\",\"Estadual\",\"Nacional\",\"Estadual\",\"Nacional\",\"Estadual\",\"Estadual\",\"Nacional\",\"Estadual\",\"Estadual\",\"Estadual\",\"Nacional\",\"Estadual\",null,\"Estadual\",\"Estadual\",\"Nacional\",\"Regional\",\"Estadual\",\"Nacional\",\"Estadual\",\"Estadual\",\"Estadual\",\"Nacional\",\"Regional\",\"Estadual\",\"Estadual\",\"Estadual\",null,\"Estadual\",\"Nacional\",\"Estadual\",\"Nacional\",\"Nacional\",null,\"Estadual\",\"Nacional\",\"Estadual\",\"Estadual\",\"Nacional\",\"Estadual\",\"Nacional\",\"Estadual\",\"Estadual\",\"Estadual\",\"Estadual\",\"Nacional\",\"Estadual\",null,\"Estadual\",\"Nacional\",null,\"Estadual\",\"Nacional\",\"Estadual\",null,\"Estadual\",\"Estadual\",\"Estadual\",\"Nacional\",null,\"Nacional\",null,\"Estadual\",\"Nacional\",\"Regional\",\"Estadual\",\"Estadual\",\"Nacional\",\"Nacional\",\"Estadual\",null,\"Estadual\",\"Estadual\",\"Estadual\",\"Estadual\",\"Nacional\",\"Regional\",\"Estadual\",\"Nacional\",\"Estadual\",null,\"Estadual\",null,\"Estadual\",\"Estadual\",\"Nacional\",null,\"Estadual\",null,\"Estadual\",\"Regional\",\"Nacional\",\"Estadual\",\"Regional\",\"Estadual\",null,\"Estadual\",\"Nacional\",\"Regional\",\"Estadual\",\"Estadual\",\"Nacional\",\"Estadual\",\"Estadual\",\"Nacional\",\"Estadual\",\"Nacional\",\"Estadual\",\"Nacional\",\"Nacional\",null,\"Estadual\",\"Nacional\",\"Estadual\",\"Nacional\",\"Estadual\",\"Nacional\",\"Estadual\",\"Estadual\",\"Estadual\",\"Estadual\",\"Estadual\",\"Estadual\",\"Nacional\",null,\"Estadual\",\"Estadual\",\"Estadual\",\"Estadual\",\"Estadual\",\"Nacional\",\"Estadual\",\"Estadual\",\"Nacional\",\"Estadual\",null,\"Estadual\",\"Nacional\",\"Nacional\",\"Nacional\",\"Estadual\",\"Nacional\",\"Nacional\",\"Estadual\",\"Nacional\",\"Estadual\",\"Estadual\",\"Nacional\",\"Regional\",\"Estadual\",\"Estadual\",\"Nacional\",\"Nacional\",\"Estadual\",\"Estadual\",\"Estadual\",\"Nacional\",\"Estadual\",\"Nacional\",\"Estadual\",null,\"Estadual\",\"Estadual\",\"Estadual\",\"Estadual\",\"Nacional\",\"Estadual\",\"Nacional\",\"Nacional\",\"Estadual\",\"Estadual\",\"Nacional\",\"Estadual\",\"Nacional\",\"Nacional\",\"Estadual\",\"Nacional\",\"Estadual\",\"Estadual\",\"Estadual\",\"Estadual\",\"Estadual\",\"Estadual\",\"Estadual\",\"Nacional\",\"Estadual\",\"Nacional\",null,\"Estadual\",\"Estadual\",\"Nacional\",\"Estadual\",\"Nacional\",\"Estadual\",\"Nacional\",\"Estadual\",\"Nacional\",\"Estadual\",\"Nacional\",\"Estadual\",null,null,\"Estadual\",\"Nacional\",\"Estadual\",\"Nacional\",\"Estadual\",\"Estadual\",\"Estadual\",\"Nacional\",\"Regional\",\"Estadual\",\"Estadual\",\"Estadual\",\"Estadual\",\"Nacional\",\"Estadual\",null,\"Nacional\",\"Estadual\",\"Estadual\",null,\"Estadual\",\"Estadual\",\"Nacional\",\"Regional\",\"Estadual\",\"Estadual\",\"Nacional\",\"Estadual\",\"Estadual\",\"Estadual\",null,\"Estadual\",\"Nacional\",\"Nacional\",\"Nacional\",null,\"Estadual\",\"Nacional\",\"Estadual\",null,\"Estadual\",\"Estadual\",\"Nacional\",null,\"Estadual\",\"Estadual\",\"Estadual\",\"Estadual\",\"Estadual\",\"Nacional\",null,\"Estadual\",null,\"Estadual\",\"Nacional\",\"Estadual\",\"Estadual\",\"Nacional\",\"Estadual\",\"Nacional\",\"Estadual\",\"Nacional\",\"Regional\",\"Estadual\",null,null,\"Estadual\",\"Nacional\",\"Nacional\",\"Estadual\",\"Estadual\",null,\"Estadual\",\"Nacional\",\"Estadual\",\"Nacional\",\"Regional\",\"Estadual\",\"Nacional\",\"Estadual\",\"Estadual\",\"Nacional\",\"Estadual\",\"Estadual\",null,\"Estadual\",\"Estadual\",null,null,\"Estadual\",null,\"Estadual\",\"Estadual\",\"Nacional\",\"Estadual\",\"Estadual\",\"Estadual\",\"Nacional\",\"Estadual\",\"Nacional\",\"Estadual\",\"Estadual\",\"Nacional\",null,\"Estadual\",\"Nacional\",\"Nacional\",\"Nacional\",\"Estadual\",\"Nacional\",\"Estadual\",\"Nacional\",\"Estadual\",\"Estadual\",\"Estadual\",\"Estadual\",null,\"Estadual\",\"Estadual\",\"Estadual\",\"Estadual\",\"Estadual\",\"Estadual\",\"Nacional\",null,\"Estadual\",\"Nacional\",\"Estadual\",null,\"Estadual\",null,\"Estadual\",\"Nacional\",null,\"Estadual\",\"Nacional\",\"Regional\",null,\"Estadual\",\"Nacional\",\"Nacional\",\"Nacional\",\"Estadual\",null,\"Estadual\",\"Estadual\",\"Nacional\",\"Regional\",\"Estadual\",null,\"Estadual\",\"Regional\",\"Estadual\",\"Nacional\",null,\"Nacional\",\"Estadual\",\"Nacional\",\"Estadual\",null,\"Estadual\",null,\"Estadual\",\"Estadual\",\"Nacional\",\"Nacional\",\"Estadual\",\"Estadual\",\"Estadual\",\"Estadual\",null,\"Estadual\",\"Nacional\",\"Estadual\",\"Nacional\",\"Nacional\",\"Estadual\",\"Nacional\",null,\"Estadual\",\"Estadual\",\"Estadual\",null,\"Estadual\",\"Nacional\",\"Estadual\",\"Nacional\",\"Estadual\",\"Nacional\",null,\"Estadual\",\"Nacional\",\"Estadual\",\"Estadual\",\"Nacional\",\"Estadual\",null,\"Estadual\",\"Regional\",\"Estadual\",\"Estadual\",\"Estadual\",\"Nacional\",\"Estadual\",null,null,\"Estadual\",\"Nacional\",\"Nacional\",\"Estadual\",\"Estadual\",null,\"Estadual\",\"Nacional\",\"Estadual\",\"Nacional\",\"Regional\",\"Estadual\",\"Nacional\",\"Estadual\",\"Nacional\",\"Estadual\",\"Estadual\",\"Nacional\",null,\"Estadual\",\"Estadual\",\"Nacional\",null,\"Estadual\",\"Nacional\",\"Regional\",\"Estadual\",\"Nacional\",\"Estadual\",\"Estadual\",\"Estadual\",\"Estadual\",\"Nacional\",\"Estadual\",\"Estadual\",\"Estadual\",\"Estadual\",\"Nacional\",\"Nacional\",\"Estadual\",\"Nacional\",\"Estadual\",\"Estadual\",\"Estadual\",\"Estadual\",\"Estadual\",\"Estadual\",\"Estadual\",\"Estadual\",\"Nacional\",\"Estadual\",\"Nacional\",null,\"Estadual\",\"Estadual\",\"Estadual\",\"Estadual\",\"Nacional\",\"Estadual\",\"Nacional\",null,\"Estadual\",\"Estadual\",\"Nacional\",\"Estadual\",null,\"Estadual\",\"Nacional\",\"Nacional\",\"Estadual\",\"Estadual\",\"Estadual\",\"Estadual\",\"Estadual\",\"Nacional\",\"Regional\",\"Estadual\",\"Nacional\",\"Estadual\",\"Estadual\",\"Estadual\",\"Nacional\",\"Estadual\",\"Estadual\",\"Estadual\",\"Estadual\",\"Estadual\",null,\"Estadual\",\"Estadual\",\"Nacional\",\"Estadual\",\"Estadual\",\"Estadual\",\"Estadual\",\"Regional\",\"Estadual\",null,\"Estadual\",\"Nacional\",\"Estadual\",\"Estadual\",\"Nacional\",\"Estadual\",\"Estadual\",\"Nacional\",\"Estadual\",\"Nacional\",\"Estadual\",\"Nacional\",\"Estadual\",\"Nacional\",\"Estadual\",\"Estadual\",\"Nacional\",\"Estadual\",\"Nacional\",null,\"Estadual\",\"Estadual\",\"Estadual\",\"Estadual\",\"Nacional\",\"Estadual\",\"Nacional\",\"Estadual\",\"Estadual\",\"Regional\",\"Estadual\",\"Estadual\",\"Nacional\",\"Estadual\",\"Estadual\",\"Nacional\",\"Estadual\",\"Nacional\",\"Regional\",\"Estadual\",\"Estadual\",\"Estadual\",\"Nacional\",\"Estadual\",\"Estadual\",\"Nacional\",\"Estadual\",null,\"Nacional\",\"Estadual\",null,\"Estadual\",\"Estadual\",\"Nacional\",\"Regional\",\"Estadual\",\"Regional\",\"Estadual\",\"Estadual\",\"Estadual\",\"Estadual\",\"Estadual\",\"Nacional\",\"Nacional\",\"Estadual\",\"Nacional\",\"Estadual\",\"Nacional\",\"Estadual\",\"Estadual\",\"Estadual\",\"Nacional\",\"Nacional\",\"Estadual\",\"Nacional\",null,\"Estadual\",null,\"Estadual\",\"Nacional\",\"Estadual\",\"Nacional\",\"Estadual\",\"Estadual\",\"Nacional\",\"Regional\",\"Nacional\",\"Estadual\",\"Nacional\",\"Regional\",\"Nacional\",\"Estadual\",\"Nacional\",\"Estadual\",\"Nacional\",\"Estadual\",\"Nacional\",\"Regional\",\"Estadual\",\"Nacional\",\"Regional\",\"Estadual\",null,\"Estadual\",\"Estadual\",\"Estadual\",\"Estadual\",\"Regional\",null,\"Estadual\",null,\"Estadual\",\"Estadual\",\"Nacional\",null,\"Estadual\",\"Nacional\",\"Estadual\",\"Estadual\",\"Estadual\",\"Nacional\",\"Regional\",\"Estadual\",\"Estadual\",\"Nacional\",\"Nacional\",\"Nacional\",\"Estadual\",\"Nacional\",\"Nacional\",null,\"Estadual\",\"Estadual\",\"Estadual\",\"Estadual\",\"Estadual\",\"Nacional\",null,\"Estadual\",\"Nacional\",null,\"Estadual\",\"Estadual\",\"Nacional\",\"Estadual\",\"Regional\",\"Estadual\",\"Estadual\",\"Nacional\",\"Estadual\",\"Estadual\",\"Estadual\",\"Nacional\",\"Estadual\",\"Nacional\",\"Estadual\",\"Nacional\",\"Estadual\",\"Estadual\",\"Nacional\",\"Regional\",\"Estadual\",\"Nacional\",\"Estadual\",\"Estadual\",\"Estadual\",\"Estadual\",\"Nacional\",\"Estadual\",null,\"Nacional\",\"Estadual\",null,\"Estadual\",\"Estadual\",\"Nacional\",\"Regional\",\"Estadual\",\"Regional\",\"Estadual\",\"Estadual\",\"Estadual\",\"Nacional\",\"Estadual\",\"Estadual\",\"Nacional\",\"Nacional\",\"Estadual\",\"Nacional\",\"Estadual\",\"Nacional\",\"Regional\",\"Estadual\",\"Estadual\",\"Estadual\",\"Estadual\",\"Estadual\",\"Estadual\",\"Nacional\",\"Estadual\",\"Nacional\",\"Estadual\",null,\"Estadual\",\"Estadual\",\"Estadual\",\"Regional\",\"Nacional\",\"Estadual\",\"Estadual\",\"Nacional\",\"Nacional\",\"Estadual\",\"Nacional\",\"Estadual\",\"Estadual\",\"Estadual\",\"Estadual\",\"Estadual\",\"Nacional\",\"Regional\",\"Estadual\",null,\"Estadual\",\"Estadual\",\"Estadual\",\"Estadual\",\"Estadual\",\"Nacional\",\"Estadual\",null,\"Nacional\",\"Estadual\",\"Estadual\"],\"yaxis\":\"y\",\"type\":\"bar\"}],                        {\"template\":{\"data\":{\"histogram2dcontour\":[{\"type\":\"histogram2dcontour\",\"colorbar\":{\"outlinewidth\":0,\"ticks\":\"\"},\"colorscale\":[[0.0,\"#0d0887\"],[0.1111111111111111,\"#46039f\"],[0.2222222222222222,\"#7201a8\"],[0.3333333333333333,\"#9c179e\"],[0.4444444444444444,\"#bd3786\"],[0.5555555555555556,\"#d8576b\"],[0.6666666666666666,\"#ed7953\"],[0.7777777777777778,\"#fb9f3a\"],[0.8888888888888888,\"#fdca26\"],[1.0,\"#f0f921\"]]}],\"choropleth\":[{\"type\":\"choropleth\",\"colorbar\":{\"outlinewidth\":0,\"ticks\":\"\"}}],\"histogram2d\":[{\"type\":\"histogram2d\",\"colorbar\":{\"outlinewidth\":0,\"ticks\":\"\"},\"colorscale\":[[0.0,\"#0d0887\"],[0.1111111111111111,\"#46039f\"],[0.2222222222222222,\"#7201a8\"],[0.3333333333333333,\"#9c179e\"],[0.4444444444444444,\"#bd3786\"],[0.5555555555555556,\"#d8576b\"],[0.6666666666666666,\"#ed7953\"],[0.7777777777777778,\"#fb9f3a\"],[0.8888888888888888,\"#fdca26\"],[1.0,\"#f0f921\"]]}],\"heatmap\":[{\"type\":\"heatmap\",\"colorbar\":{\"outlinewidth\":0,\"ticks\":\"\"},\"colorscale\":[[0.0,\"#0d0887\"],[0.1111111111111111,\"#46039f\"],[0.2222222222222222,\"#7201a8\"],[0.3333333333333333,\"#9c179e\"],[0.4444444444444444,\"#bd3786\"],[0.5555555555555556,\"#d8576b\"],[0.6666666666666666,\"#ed7953\"],[0.7777777777777778,\"#fb9f3a\"],[0.8888888888888888,\"#fdca26\"],[1.0,\"#f0f921\"]]}],\"heatmapgl\":[{\"type\":\"heatmapgl\",\"colorbar\":{\"outlinewidth\":0,\"ticks\":\"\"},\"colorscale\":[[0.0,\"#0d0887\"],[0.1111111111111111,\"#46039f\"],[0.2222222222222222,\"#7201a8\"],[0.3333333333333333,\"#9c179e\"],[0.4444444444444444,\"#bd3786\"],[0.5555555555555556,\"#d8576b\"],[0.6666666666666666,\"#ed7953\"],[0.7777777777777778,\"#fb9f3a\"],[0.8888888888888888,\"#fdca26\"],[1.0,\"#f0f921\"]]}],\"contourcarpet\":[{\"type\":\"contourcarpet\",\"colorbar\":{\"outlinewidth\":0,\"ticks\":\"\"}}],\"contour\":[{\"type\":\"contour\",\"colorbar\":{\"outlinewidth\":0,\"ticks\":\"\"},\"colorscale\":[[0.0,\"#0d0887\"],[0.1111111111111111,\"#46039f\"],[0.2222222222222222,\"#7201a8\"],[0.3333333333333333,\"#9c179e\"],[0.4444444444444444,\"#bd3786\"],[0.5555555555555556,\"#d8576b\"],[0.6666666666666666,\"#ed7953\"],[0.7777777777777778,\"#fb9f3a\"],[0.8888888888888888,\"#fdca26\"],[1.0,\"#f0f921\"]]}],\"surface\":[{\"type\":\"surface\",\"colorbar\":{\"outlinewidth\":0,\"ticks\":\"\"},\"colorscale\":[[0.0,\"#0d0887\"],[0.1111111111111111,\"#46039f\"],[0.2222222222222222,\"#7201a8\"],[0.3333333333333333,\"#9c179e\"],[0.4444444444444444,\"#bd3786\"],[0.5555555555555556,\"#d8576b\"],[0.6666666666666666,\"#ed7953\"],[0.7777777777777778,\"#fb9f3a\"],[0.8888888888888888,\"#fdca26\"],[1.0,\"#f0f921\"]]}],\"mesh3d\":[{\"type\":\"mesh3d\",\"colorbar\":{\"outlinewidth\":0,\"ticks\":\"\"}}],\"scatter\":[{\"fillpattern\":{\"fillmode\":\"overlay\",\"size\":10,\"solidity\":0.2},\"type\":\"scatter\"}],\"parcoords\":[{\"type\":\"parcoords\",\"line\":{\"colorbar\":{\"outlinewidth\":0,\"ticks\":\"\"}}}],\"scatterpolargl\":[{\"type\":\"scatterpolargl\",\"marker\":{\"colorbar\":{\"outlinewidth\":0,\"ticks\":\"\"}}}],\"bar\":[{\"error_x\":{\"color\":\"#2a3f5f\"},\"error_y\":{\"color\":\"#2a3f5f\"},\"marker\":{\"line\":{\"color\":\"#E5ECF6\",\"width\":0.5},\"pattern\":{\"fillmode\":\"overlay\",\"size\":10,\"solidity\":0.2}},\"type\":\"bar\"}],\"scattergeo\":[{\"type\":\"scattergeo\",\"marker\":{\"colorbar\":{\"outlinewidth\":0,\"ticks\":\"\"}}}],\"scatterpolar\":[{\"type\":\"scatterpolar\",\"marker\":{\"colorbar\":{\"outlinewidth\":0,\"ticks\":\"\"}}}],\"histogram\":[{\"marker\":{\"pattern\":{\"fillmode\":\"overlay\",\"size\":10,\"solidity\":0.2}},\"type\":\"histogram\"}],\"scattergl\":[{\"type\":\"scattergl\",\"marker\":{\"colorbar\":{\"outlinewidth\":0,\"ticks\":\"\"}}}],\"scatter3d\":[{\"type\":\"scatter3d\",\"line\":{\"colorbar\":{\"outlinewidth\":0,\"ticks\":\"\"}},\"marker\":{\"colorbar\":{\"outlinewidth\":0,\"ticks\":\"\"}}}],\"scattermapbox\":[{\"type\":\"scattermapbox\",\"marker\":{\"colorbar\":{\"outlinewidth\":0,\"ticks\":\"\"}}}],\"scatterternary\":[{\"type\":\"scatterternary\",\"marker\":{\"colorbar\":{\"outlinewidth\":0,\"ticks\":\"\"}}}],\"scattercarpet\":[{\"type\":\"scattercarpet\",\"marker\":{\"colorbar\":{\"outlinewidth\":0,\"ticks\":\"\"}}}],\"carpet\":[{\"aaxis\":{\"endlinecolor\":\"#2a3f5f\",\"gridcolor\":\"white\",\"linecolor\":\"white\",\"minorgridcolor\":\"white\",\"startlinecolor\":\"#2a3f5f\"},\"baxis\":{\"endlinecolor\":\"#2a3f5f\",\"gridcolor\":\"white\",\"linecolor\":\"white\",\"minorgridcolor\":\"white\",\"startlinecolor\":\"#2a3f5f\"},\"type\":\"carpet\"}],\"table\":[{\"cells\":{\"fill\":{\"color\":\"#EBF0F8\"},\"line\":{\"color\":\"white\"}},\"header\":{\"fill\":{\"color\":\"#C8D4E3\"},\"line\":{\"color\":\"white\"}},\"type\":\"table\"}],\"barpolar\":[{\"marker\":{\"line\":{\"color\":\"#E5ECF6\",\"width\":0.5},\"pattern\":{\"fillmode\":\"overlay\",\"size\":10,\"solidity\":0.2}},\"type\":\"barpolar\"}],\"pie\":[{\"automargin\":true,\"type\":\"pie\"}]},\"layout\":{\"autotypenumbers\":\"strict\",\"colorway\":[\"#636efa\",\"#EF553B\",\"#00cc96\",\"#ab63fa\",\"#FFA15A\",\"#19d3f3\",\"#FF6692\",\"#B6E880\",\"#FF97FF\",\"#FECB52\"],\"font\":{\"color\":\"#2a3f5f\"},\"hovermode\":\"closest\",\"hoverlabel\":{\"align\":\"left\"},\"paper_bgcolor\":\"white\",\"plot_bgcolor\":\"#E5ECF6\",\"polar\":{\"bgcolor\":\"#E5ECF6\",\"angularaxis\":{\"gridcolor\":\"white\",\"linecolor\":\"white\",\"ticks\":\"\"},\"radialaxis\":{\"gridcolor\":\"white\",\"linecolor\":\"white\",\"ticks\":\"\"}},\"ternary\":{\"bgcolor\":\"#E5ECF6\",\"aaxis\":{\"gridcolor\":\"white\",\"linecolor\":\"white\",\"ticks\":\"\"},\"baxis\":{\"gridcolor\":\"white\",\"linecolor\":\"white\",\"ticks\":\"\"},\"caxis\":{\"gridcolor\":\"white\",\"linecolor\":\"white\",\"ticks\":\"\"}},\"coloraxis\":{\"colorbar\":{\"outlinewidth\":0,\"ticks\":\"\"}},\"colorscale\":{\"sequential\":[[0.0,\"#0d0887\"],[0.1111111111111111,\"#46039f\"],[0.2222222222222222,\"#7201a8\"],[0.3333333333333333,\"#9c179e\"],[0.4444444444444444,\"#bd3786\"],[0.5555555555555556,\"#d8576b\"],[0.6666666666666666,\"#ed7953\"],[0.7777777777777778,\"#fb9f3a\"],[0.8888888888888888,\"#fdca26\"],[1.0,\"#f0f921\"]],\"sequentialminus\":[[0.0,\"#0d0887\"],[0.1111111111111111,\"#46039f\"],[0.2222222222222222,\"#7201a8\"],[0.3333333333333333,\"#9c179e\"],[0.4444444444444444,\"#bd3786\"],[0.5555555555555556,\"#d8576b\"],[0.6666666666666666,\"#ed7953\"],[0.7777777777777778,\"#fb9f3a\"],[0.8888888888888888,\"#fdca26\"],[1.0,\"#f0f921\"]],\"diverging\":[[0,\"#8e0152\"],[0.1,\"#c51b7d\"],[0.2,\"#de77ae\"],[0.3,\"#f1b6da\"],[0.4,\"#fde0ef\"],[0.5,\"#f7f7f7\"],[0.6,\"#e6f5d0\"],[0.7,\"#b8e186\"],[0.8,\"#7fbc41\"],[0.9,\"#4d9221\"],[1,\"#276419\"]]},\"xaxis\":{\"gridcolor\":\"white\",\"linecolor\":\"white\",\"ticks\":\"\",\"title\":{\"standoff\":15},\"zerolinecolor\":\"white\",\"automargin\":true,\"zerolinewidth\":2},\"yaxis\":{\"gridcolor\":\"white\",\"linecolor\":\"white\",\"ticks\":\"\",\"title\":{\"standoff\":15},\"zerolinecolor\":\"white\",\"automargin\":true,\"zerolinewidth\":2},\"scene\":{\"xaxis\":{\"backgroundcolor\":\"#E5ECF6\",\"gridcolor\":\"white\",\"linecolor\":\"white\",\"showbackground\":true,\"ticks\":\"\",\"zerolinecolor\":\"white\",\"gridwidth\":2},\"yaxis\":{\"backgroundcolor\":\"#E5ECF6\",\"gridcolor\":\"white\",\"linecolor\":\"white\",\"showbackground\":true,\"ticks\":\"\",\"zerolinecolor\":\"white\",\"gridwidth\":2},\"zaxis\":{\"backgroundcolor\":\"#E5ECF6\",\"gridcolor\":\"white\",\"linecolor\":\"white\",\"showbackground\":true,\"ticks\":\"\",\"zerolinecolor\":\"white\",\"gridwidth\":2}},\"shapedefaults\":{\"line\":{\"color\":\"#2a3f5f\"}},\"annotationdefaults\":{\"arrowcolor\":\"#2a3f5f\",\"arrowhead\":0,\"arrowwidth\":1},\"geo\":{\"bgcolor\":\"white\",\"landcolor\":\"#E5ECF6\",\"subunitcolor\":\"white\",\"showland\":true,\"showlakes\":true,\"lakecolor\":\"white\"},\"title\":{\"x\":0.05},\"mapbox\":{\"style\":\"light\"}}},\"xaxis\":{\"anchor\":\"y\",\"domain\":[0.0,1.0],\"title\":{\"text\":\"TOTAL\"}},\"yaxis\":{\"anchor\":\"x\",\"domain\":[0.0,1.0],\"title\":{\"text\":\"ABRANGENCIA\"}},\"legend\":{\"tracegroupgap\":0},\"title\":{\"text\":\"Total de portes de arma por abrang\\u00eancia\"},\"barmode\":\"relative\",\"height\":400},                        {\"responsive\": true}                    ).then(function(){\n",
       "                            \n",
       "var gd = document.getElementById('e3c27dcd-922e-48ab-adbc-01798f85abdd');\n",
       "var x = new MutationObserver(function (mutations, observer) {{\n",
       "        var display = window.getComputedStyle(gd).display;\n",
       "        if (!display || display === 'none') {{\n",
       "            console.log([gd, 'removed!']);\n",
       "            Plotly.purge(gd);\n",
       "            observer.disconnect();\n",
       "        }}\n",
       "}});\n",
       "\n",
       "// Listen for the removal of the full notebook cells\n",
       "var notebookContainer = gd.closest('#notebook-container');\n",
       "if (notebookContainer) {{\n",
       "    x.observe(notebookContainer, {childList: true});\n",
       "}}\n",
       "\n",
       "// Listen for the clearing of the current output cell\n",
       "var outputEl = gd.closest('.output');\n",
       "if (outputEl) {{\n",
       "    x.observe(outputEl, {childList: true});\n",
       "}}\n",
       "\n",
       "                        })                };                });            </script>        </div>"
      ]
     },
     "metadata": {},
     "output_type": "display_data"
    }
   ],
   "source": [
    "fig = px.bar(df_porte, x='TOTAL', y='ABRANGENCIA', title='Total de portes de arma por abrangência', height=400)\n",
    "fig.show()"
   ]
  },
  {
   "cell_type": "markdown",
   "id": "a8c50b3d",
   "metadata": {},
   "source": [
    "## Usos"
   ]
  },
  {
   "cell_type": "markdown",
   "id": "759ed2a2",
   "metadata": {},
   "source": [
    "### Defesa Pessoal"
   ]
  },
  {
   "cell_type": "code",
   "execution_count": 26,
   "id": "55f5155a",
   "metadata": {},
   "outputs": [],
   "source": [
    "defesa_pessoal = df_porte.query('CATEGORIA == \"Defesa Pessoal\"')"
   ]
  },
  {
   "cell_type": "code",
   "execution_count": 27,
   "id": "f991ac44",
   "metadata": {},
   "outputs": [
    {
     "data": {
      "text/html": [
       "<div>\n",
       "<style scoped>\n",
       "    .dataframe tbody tr th:only-of-type {\n",
       "        vertical-align: middle;\n",
       "    }\n",
       "\n",
       "    .dataframe tbody tr th {\n",
       "        vertical-align: top;\n",
       "    }\n",
       "\n",
       "    .dataframe thead th {\n",
       "        text-align: right;\n",
       "    }\n",
       "</style>\n",
       "<table border=\"1\" class=\"dataframe\">\n",
       "  <thead>\n",
       "    <tr style=\"text-align: right;\">\n",
       "      <th></th>\n",
       "      <th>UF</th>\n",
       "      <th>CATEGORIA</th>\n",
       "      <th>ABRANGENCIA</th>\n",
       "      <th>TOTAL</th>\n",
       "    </tr>\n",
       "  </thead>\n",
       "  <tbody>\n",
       "    <tr>\n",
       "      <th>1</th>\n",
       "      <td>AC</td>\n",
       "      <td>Defesa Pessoal</td>\n",
       "      <td>Estadual</td>\n",
       "      <td>3</td>\n",
       "    </tr>\n",
       "    <tr>\n",
       "      <th>2</th>\n",
       "      <td>AC</td>\n",
       "      <td>Defesa Pessoal</td>\n",
       "      <td>Regional</td>\n",
       "      <td>1</td>\n",
       "    </tr>\n",
       "    <tr>\n",
       "      <th>3</th>\n",
       "      <td>AL</td>\n",
       "      <td>Defesa Pessoal</td>\n",
       "      <td>Estadual</td>\n",
       "      <td>12</td>\n",
       "    </tr>\n",
       "    <tr>\n",
       "      <th>4</th>\n",
       "      <td>AL</td>\n",
       "      <td>Defesa Pessoal</td>\n",
       "      <td>Nacional</td>\n",
       "      <td>1</td>\n",
       "    </tr>\n",
       "    <tr>\n",
       "      <th>5</th>\n",
       "      <td>AL</td>\n",
       "      <td>Defesa Pessoal</td>\n",
       "      <td>Regional</td>\n",
       "      <td>1</td>\n",
       "    </tr>\n",
       "    <tr>\n",
       "      <th>...</th>\n",
       "      <td>...</td>\n",
       "      <td>...</td>\n",
       "      <td>...</td>\n",
       "      <td>...</td>\n",
       "    </tr>\n",
       "    <tr>\n",
       "      <th>51</th>\n",
       "      <td>SC</td>\n",
       "      <td>Defesa Pessoal</td>\n",
       "      <td>Estadual</td>\n",
       "      <td>5</td>\n",
       "    </tr>\n",
       "    <tr>\n",
       "      <th>53</th>\n",
       "      <td>SE</td>\n",
       "      <td>Defesa Pessoal</td>\n",
       "      <td>Estadual</td>\n",
       "      <td>1</td>\n",
       "    </tr>\n",
       "    <tr>\n",
       "      <th>55</th>\n",
       "      <td>SP</td>\n",
       "      <td>Defesa Pessoal</td>\n",
       "      <td>Estadual</td>\n",
       "      <td>44</td>\n",
       "    </tr>\n",
       "    <tr>\n",
       "      <th>56</th>\n",
       "      <td>SP</td>\n",
       "      <td>Defesa Pessoal</td>\n",
       "      <td>Nacional</td>\n",
       "      <td>2</td>\n",
       "    </tr>\n",
       "    <tr>\n",
       "      <th>60</th>\n",
       "      <td>TO</td>\n",
       "      <td>Defesa Pessoal</td>\n",
       "      <td>Estadual</td>\n",
       "      <td>1</td>\n",
       "    </tr>\n",
       "  </tbody>\n",
       "</table>\n",
       "<p>443 rows × 4 columns</p>\n",
       "</div>"
      ],
      "text/plain": [
       "    UF       CATEGORIA ABRANGENCIA  TOTAL\n",
       "1   AC  Defesa Pessoal    Estadual      3\n",
       "2   AC  Defesa Pessoal    Regional      1\n",
       "3   AL  Defesa Pessoal    Estadual     12\n",
       "4   AL  Defesa Pessoal    Nacional      1\n",
       "5   AL  Defesa Pessoal    Regional      1\n",
       "..  ..             ...         ...    ...\n",
       "51  SC  Defesa Pessoal    Estadual      5\n",
       "53  SE  Defesa Pessoal    Estadual      1\n",
       "55  SP  Defesa Pessoal    Estadual     44\n",
       "56  SP  Defesa Pessoal    Nacional      2\n",
       "60  TO  Defesa Pessoal    Estadual      1\n",
       "\n",
       "[443 rows x 4 columns]"
      ]
     },
     "execution_count": 27,
     "metadata": {},
     "output_type": "execute_result"
    }
   ],
   "source": [
    "defesa_pessoal"
   ]
  },
  {
   "cell_type": "code",
   "execution_count": 39,
   "id": "cca92be2",
   "metadata": {},
   "outputs": [
    {
     "name": "stdout",
     "output_type": "stream",
     "text": [
      "Total de portes para Defesa Pessoal: 5473 .\n"
     ]
    }
   ],
   "source": [
    "print(\"Total de portes para Defesa Pessoal:\", defesa_pessoal['TOTAL'].sum(), '.')"
   ]
  },
  {
   "cell_type": "markdown",
   "id": "54f5fbda",
   "metadata": {},
   "source": [
    "### Caçador de Subsistência"
   ]
  },
  {
   "cell_type": "code",
   "execution_count": 28,
   "id": "1f55704b",
   "metadata": {},
   "outputs": [],
   "source": [
    "cacador = df_porte.query('CATEGORIA == \"Caçador de Subsistência\"')"
   ]
  },
  {
   "cell_type": "code",
   "execution_count": 29,
   "id": "c7f383eb",
   "metadata": {},
   "outputs": [
    {
     "data": {
      "text/html": [
       "<div>\n",
       "<style scoped>\n",
       "    .dataframe tbody tr th:only-of-type {\n",
       "        vertical-align: middle;\n",
       "    }\n",
       "\n",
       "    .dataframe tbody tr th {\n",
       "        vertical-align: top;\n",
       "    }\n",
       "\n",
       "    .dataframe thead th {\n",
       "        text-align: right;\n",
       "    }\n",
       "</style>\n",
       "<table border=\"1\" class=\"dataframe\">\n",
       "  <thead>\n",
       "    <tr style=\"text-align: right;\">\n",
       "      <th></th>\n",
       "      <th>UF</th>\n",
       "      <th>CATEGORIA</th>\n",
       "      <th>ABRANGENCIA</th>\n",
       "      <th>TOTAL</th>\n",
       "    </tr>\n",
       "  </thead>\n",
       "  <tbody>\n",
       "    <tr>\n",
       "      <th>0</th>\n",
       "      <td>AC</td>\n",
       "      <td>Caçador de Subsistência</td>\n",
       "      <td>None</td>\n",
       "      <td>15</td>\n",
       "    </tr>\n",
       "    <tr>\n",
       "      <th>7</th>\n",
       "      <td>AM</td>\n",
       "      <td>Caçador de Subsistência</td>\n",
       "      <td>None</td>\n",
       "      <td>1</td>\n",
       "    </tr>\n",
       "    <tr>\n",
       "      <th>28</th>\n",
       "      <td>PA</td>\n",
       "      <td>Caçador de Subsistência</td>\n",
       "      <td>None</td>\n",
       "      <td>19</td>\n",
       "    </tr>\n",
       "    <tr>\n",
       "      <th>0</th>\n",
       "      <td>AC</td>\n",
       "      <td>Caçador de Subsistência</td>\n",
       "      <td>None</td>\n",
       "      <td>5</td>\n",
       "    </tr>\n",
       "    <tr>\n",
       "      <th>15</th>\n",
       "      <td>DF</td>\n",
       "      <td>Caçador de Subsistência</td>\n",
       "      <td>None</td>\n",
       "      <td>1</td>\n",
       "    </tr>\n",
       "    <tr>\n",
       "      <th>...</th>\n",
       "      <td>...</td>\n",
       "      <td>...</td>\n",
       "      <td>...</td>\n",
       "      <td>...</td>\n",
       "    </tr>\n",
       "    <tr>\n",
       "      <th>27</th>\n",
       "      <td>MT</td>\n",
       "      <td>Caçador de Subsistência</td>\n",
       "      <td>None</td>\n",
       "      <td>2</td>\n",
       "    </tr>\n",
       "    <tr>\n",
       "      <th>30</th>\n",
       "      <td>PA</td>\n",
       "      <td>Caçador de Subsistência</td>\n",
       "      <td>None</td>\n",
       "      <td>14</td>\n",
       "    </tr>\n",
       "    <tr>\n",
       "      <th>0</th>\n",
       "      <td>AC</td>\n",
       "      <td>Caçador de Subsistência</td>\n",
       "      <td>None</td>\n",
       "      <td>1</td>\n",
       "    </tr>\n",
       "    <tr>\n",
       "      <th>30</th>\n",
       "      <td>PA</td>\n",
       "      <td>Caçador de Subsistência</td>\n",
       "      <td>None</td>\n",
       "      <td>36</td>\n",
       "    </tr>\n",
       "    <tr>\n",
       "      <th>50</th>\n",
       "      <td>SC</td>\n",
       "      <td>Caçador de Subsistência</td>\n",
       "      <td>None</td>\n",
       "      <td>5</td>\n",
       "    </tr>\n",
       "  </tbody>\n",
       "</table>\n",
       "<p>70 rows × 4 columns</p>\n",
       "</div>"
      ],
      "text/plain": [
       "    UF                CATEGORIA ABRANGENCIA  TOTAL\n",
       "0   AC  Caçador de Subsistência        None     15\n",
       "7   AM  Caçador de Subsistência        None      1\n",
       "28  PA  Caçador de Subsistência        None     19\n",
       "0   AC  Caçador de Subsistência        None      5\n",
       "15  DF  Caçador de Subsistência        None      1\n",
       "..  ..                      ...         ...    ...\n",
       "27  MT  Caçador de Subsistência        None      2\n",
       "30  PA  Caçador de Subsistência        None     14\n",
       "0   AC  Caçador de Subsistência        None      1\n",
       "30  PA  Caçador de Subsistência        None     36\n",
       "50  SC  Caçador de Subsistência        None      5\n",
       "\n",
       "[70 rows x 4 columns]"
      ]
     },
     "execution_count": 29,
     "metadata": {},
     "output_type": "execute_result"
    }
   ],
   "source": [
    "cacador"
   ]
  },
  {
   "cell_type": "code",
   "execution_count": 42,
   "id": "297db8c7",
   "metadata": {},
   "outputs": [
    {
     "name": "stdout",
     "output_type": "stream",
     "text": [
      "Total de portes para uso como Caçador de Subsistência: 526 .\n"
     ]
    }
   ],
   "source": [
    "print(\"Total de portes para uso como Caçador de Subsistência:\", cacador['TOTAL'].sum(), '.')"
   ]
  },
  {
   "cell_type": "markdown",
   "id": "8ca494b7",
   "metadata": {},
   "source": [
    "### Funcional"
   ]
  },
  {
   "cell_type": "code",
   "execution_count": 30,
   "id": "d540b9c4",
   "metadata": {},
   "outputs": [],
   "source": [
    "funcional = df_porte.query('CATEGORIA == \"Funcional\"')"
   ]
  },
  {
   "cell_type": "code",
   "execution_count": 31,
   "id": "7046087a",
   "metadata": {},
   "outputs": [
    {
     "data": {
      "text/html": [
       "<div>\n",
       "<style scoped>\n",
       "    .dataframe tbody tr th:only-of-type {\n",
       "        vertical-align: middle;\n",
       "    }\n",
       "\n",
       "    .dataframe tbody tr th {\n",
       "        vertical-align: top;\n",
       "    }\n",
       "\n",
       "    .dataframe thead th {\n",
       "        text-align: right;\n",
       "    }\n",
       "</style>\n",
       "<table border=\"1\" class=\"dataframe\">\n",
       "  <thead>\n",
       "    <tr style=\"text-align: right;\">\n",
       "      <th></th>\n",
       "      <th>UF</th>\n",
       "      <th>CATEGORIA</th>\n",
       "      <th>ABRANGENCIA</th>\n",
       "      <th>TOTAL</th>\n",
       "    </tr>\n",
       "  </thead>\n",
       "  <tbody>\n",
       "    <tr>\n",
       "      <th>6</th>\n",
       "      <td>AL</td>\n",
       "      <td>Funcional</td>\n",
       "      <td>Estadual</td>\n",
       "      <td>55</td>\n",
       "    </tr>\n",
       "    <tr>\n",
       "      <th>9</th>\n",
       "      <td>BA</td>\n",
       "      <td>Funcional</td>\n",
       "      <td>Estadual</td>\n",
       "      <td>9</td>\n",
       "    </tr>\n",
       "    <tr>\n",
       "      <th>17</th>\n",
       "      <td>ES</td>\n",
       "      <td>Funcional</td>\n",
       "      <td>Estadual</td>\n",
       "      <td>5</td>\n",
       "    </tr>\n",
       "    <tr>\n",
       "      <th>20</th>\n",
       "      <td>GO</td>\n",
       "      <td>Funcional</td>\n",
       "      <td>Estadual</td>\n",
       "      <td>19</td>\n",
       "    </tr>\n",
       "    <tr>\n",
       "      <th>23</th>\n",
       "      <td>MG</td>\n",
       "      <td>Funcional</td>\n",
       "      <td>Nacional</td>\n",
       "      <td>1</td>\n",
       "    </tr>\n",
       "    <tr>\n",
       "      <th>...</th>\n",
       "      <td>...</td>\n",
       "      <td>...</td>\n",
       "      <td>...</td>\n",
       "      <td>...</td>\n",
       "    </tr>\n",
       "    <tr>\n",
       "      <th>52</th>\n",
       "      <td>SC</td>\n",
       "      <td>Funcional</td>\n",
       "      <td>Estadual</td>\n",
       "      <td>10</td>\n",
       "    </tr>\n",
       "    <tr>\n",
       "      <th>54</th>\n",
       "      <td>SE</td>\n",
       "      <td>Funcional</td>\n",
       "      <td>Estadual</td>\n",
       "      <td>19</td>\n",
       "    </tr>\n",
       "    <tr>\n",
       "      <th>57</th>\n",
       "      <td>SP</td>\n",
       "      <td>Funcional</td>\n",
       "      <td>Estadual</td>\n",
       "      <td>435</td>\n",
       "    </tr>\n",
       "    <tr>\n",
       "      <th>58</th>\n",
       "      <td>SP</td>\n",
       "      <td>Funcional</td>\n",
       "      <td>None</td>\n",
       "      <td>4</td>\n",
       "    </tr>\n",
       "    <tr>\n",
       "      <th>61</th>\n",
       "      <td>TO</td>\n",
       "      <td>Funcional</td>\n",
       "      <td>Estadual</td>\n",
       "      <td>4</td>\n",
       "    </tr>\n",
       "  </tbody>\n",
       "</table>\n",
       "<p>241 rows × 4 columns</p>\n",
       "</div>"
      ],
      "text/plain": [
       "    UF  CATEGORIA ABRANGENCIA  TOTAL\n",
       "6   AL  Funcional    Estadual     55\n",
       "9   BA  Funcional    Estadual      9\n",
       "17  ES  Funcional    Estadual      5\n",
       "20  GO  Funcional    Estadual     19\n",
       "23  MG  Funcional    Nacional      1\n",
       "..  ..        ...         ...    ...\n",
       "52  SC  Funcional    Estadual     10\n",
       "54  SE  Funcional    Estadual     19\n",
       "57  SP  Funcional    Estadual    435\n",
       "58  SP  Funcional        None      4\n",
       "61  TO  Funcional    Estadual      4\n",
       "\n",
       "[241 rows x 4 columns]"
      ]
     },
     "execution_count": 31,
     "metadata": {},
     "output_type": "execute_result"
    }
   ],
   "source": [
    "funcional"
   ]
  },
  {
   "cell_type": "code",
   "execution_count": 41,
   "id": "f790ba0e",
   "metadata": {},
   "outputs": [
    {
     "name": "stdout",
     "output_type": "stream",
     "text": [
      "Total de portes para uso Funcional: 8722 .\n"
     ]
    }
   ],
   "source": [
    "print(\"Total de portes para uso Funcional:\", funcional['TOTAL'].sum(), '.')"
   ]
  },
  {
   "cell_type": "markdown",
   "id": "716090c3",
   "metadata": {},
   "source": [
    "### Segurança Dignitário"
   ]
  },
  {
   "cell_type": "code",
   "execution_count": 35,
   "id": "cac14e70",
   "metadata": {},
   "outputs": [],
   "source": [
    "seguranca = df_porte.query('CATEGORIA == \"Segurança Dignitario\"')"
   ]
  },
  {
   "cell_type": "code",
   "execution_count": 36,
   "id": "e74f4972",
   "metadata": {},
   "outputs": [
    {
     "data": {
      "text/html": [
       "<div>\n",
       "<style scoped>\n",
       "    .dataframe tbody tr th:only-of-type {\n",
       "        vertical-align: middle;\n",
       "    }\n",
       "\n",
       "    .dataframe tbody tr th {\n",
       "        vertical-align: top;\n",
       "    }\n",
       "\n",
       "    .dataframe thead th {\n",
       "        text-align: right;\n",
       "    }\n",
       "</style>\n",
       "<table border=\"1\" class=\"dataframe\">\n",
       "  <thead>\n",
       "    <tr style=\"text-align: right;\">\n",
       "      <th></th>\n",
       "      <th>UF</th>\n",
       "      <th>CATEGORIA</th>\n",
       "      <th>ABRANGENCIA</th>\n",
       "      <th>TOTAL</th>\n",
       "    </tr>\n",
       "  </thead>\n",
       "  <tbody>\n",
       "    <tr>\n",
       "      <th>20</th>\n",
       "      <td>DF</td>\n",
       "      <td>Segurança Dignitario</td>\n",
       "      <td>Nacional</td>\n",
       "      <td>4</td>\n",
       "    </tr>\n",
       "    <tr>\n",
       "      <th>56</th>\n",
       "      <td>RJ</td>\n",
       "      <td>Segurança Dignitario</td>\n",
       "      <td>Nacional</td>\n",
       "      <td>12</td>\n",
       "    </tr>\n",
       "    <tr>\n",
       "      <th>21</th>\n",
       "      <td>DF</td>\n",
       "      <td>Segurança Dignitario</td>\n",
       "      <td>Nacional</td>\n",
       "      <td>134</td>\n",
       "    </tr>\n",
       "    <tr>\n",
       "      <th>51</th>\n",
       "      <td>RJ</td>\n",
       "      <td>Segurança Dignitario</td>\n",
       "      <td>Nacional</td>\n",
       "      <td>5</td>\n",
       "    </tr>\n",
       "    <tr>\n",
       "      <th>70</th>\n",
       "      <td>SP</td>\n",
       "      <td>Segurança Dignitario</td>\n",
       "      <td>Nacional</td>\n",
       "      <td>4</td>\n",
       "    </tr>\n",
       "    <tr>\n",
       "      <th>8</th>\n",
       "      <td>BA</td>\n",
       "      <td>Segurança Dignitario</td>\n",
       "      <td>Nacional</td>\n",
       "      <td>4</td>\n",
       "    </tr>\n",
       "    <tr>\n",
       "      <th>14</th>\n",
       "      <td>DF</td>\n",
       "      <td>Segurança Dignitario</td>\n",
       "      <td>Nacional</td>\n",
       "      <td>1</td>\n",
       "    </tr>\n",
       "    <tr>\n",
       "      <th>47</th>\n",
       "      <td>RR</td>\n",
       "      <td>Segurança Dignitario</td>\n",
       "      <td>Estadual</td>\n",
       "      <td>2</td>\n",
       "    </tr>\n",
       "    <tr>\n",
       "      <th>58</th>\n",
       "      <td>SP</td>\n",
       "      <td>Segurança Dignitario</td>\n",
       "      <td>Nacional</td>\n",
       "      <td>6</td>\n",
       "    </tr>\n",
       "    <tr>\n",
       "      <th>15</th>\n",
       "      <td>DF</td>\n",
       "      <td>Segurança Dignitario</td>\n",
       "      <td>Nacional</td>\n",
       "      <td>4</td>\n",
       "    </tr>\n",
       "    <tr>\n",
       "      <th>17</th>\n",
       "      <td>DF</td>\n",
       "      <td>Segurança Dignitario</td>\n",
       "      <td>Nacional</td>\n",
       "      <td>17</td>\n",
       "    </tr>\n",
       "    <tr>\n",
       "      <th>31</th>\n",
       "      <td>MS</td>\n",
       "      <td>Segurança Dignitario</td>\n",
       "      <td>Estadual</td>\n",
       "      <td>6</td>\n",
       "    </tr>\n",
       "    <tr>\n",
       "      <th>51</th>\n",
       "      <td>RJ</td>\n",
       "      <td>Segurança Dignitario</td>\n",
       "      <td>Nacional</td>\n",
       "      <td>2</td>\n",
       "    </tr>\n",
       "    <tr>\n",
       "      <th>14</th>\n",
       "      <td>DF</td>\n",
       "      <td>Segurança Dignitario</td>\n",
       "      <td>Nacional</td>\n",
       "      <td>19</td>\n",
       "    </tr>\n",
       "    <tr>\n",
       "      <th>47</th>\n",
       "      <td>RJ</td>\n",
       "      <td>Segurança Dignitario</td>\n",
       "      <td>Nacional</td>\n",
       "      <td>8</td>\n",
       "    </tr>\n",
       "    <tr>\n",
       "      <th>57</th>\n",
       "      <td>RS</td>\n",
       "      <td>Segurança Dignitario</td>\n",
       "      <td>Nacional</td>\n",
       "      <td>1</td>\n",
       "    </tr>\n",
       "    <tr>\n",
       "      <th>16</th>\n",
       "      <td>DF</td>\n",
       "      <td>Segurança Dignitario</td>\n",
       "      <td>Nacional</td>\n",
       "      <td>4</td>\n",
       "    </tr>\n",
       "    <tr>\n",
       "      <th>59</th>\n",
       "      <td>SP</td>\n",
       "      <td>Segurança Dignitario</td>\n",
       "      <td>Nacional</td>\n",
       "      <td>2</td>\n",
       "    </tr>\n",
       "    <tr>\n",
       "      <th>6</th>\n",
       "      <td>AM</td>\n",
       "      <td>Segurança Dignitario</td>\n",
       "      <td>Nacional</td>\n",
       "      <td>1</td>\n",
       "    </tr>\n",
       "    <tr>\n",
       "      <th>16</th>\n",
       "      <td>DF</td>\n",
       "      <td>Segurança Dignitario</td>\n",
       "      <td>Nacional</td>\n",
       "      <td>6</td>\n",
       "    </tr>\n",
       "    <tr>\n",
       "      <th>60</th>\n",
       "      <td>SP</td>\n",
       "      <td>Segurança Dignitario</td>\n",
       "      <td>Nacional</td>\n",
       "      <td>10</td>\n",
       "    </tr>\n",
       "    <tr>\n",
       "      <th>15</th>\n",
       "      <td>DF</td>\n",
       "      <td>Segurança Dignitario</td>\n",
       "      <td>Estadual</td>\n",
       "      <td>2</td>\n",
       "    </tr>\n",
       "    <tr>\n",
       "      <th>16</th>\n",
       "      <td>DF</td>\n",
       "      <td>Segurança Dignitario</td>\n",
       "      <td>Nacional</td>\n",
       "      <td>13</td>\n",
       "    </tr>\n",
       "    <tr>\n",
       "      <th>35</th>\n",
       "      <td>PE</td>\n",
       "      <td>Segurança Dignitario</td>\n",
       "      <td>Nacional</td>\n",
       "      <td>5</td>\n",
       "    </tr>\n",
       "    <tr>\n",
       "      <th>41</th>\n",
       "      <td>RJ</td>\n",
       "      <td>Segurança Dignitario</td>\n",
       "      <td>Nacional</td>\n",
       "      <td>18</td>\n",
       "    </tr>\n",
       "    <tr>\n",
       "      <th>59</th>\n",
       "      <td>SP</td>\n",
       "      <td>Segurança Dignitario</td>\n",
       "      <td>Nacional</td>\n",
       "      <td>2</td>\n",
       "    </tr>\n",
       "  </tbody>\n",
       "</table>\n",
       "</div>"
      ],
      "text/plain": [
       "    UF             CATEGORIA ABRANGENCIA  TOTAL\n",
       "20  DF  Segurança Dignitario    Nacional      4\n",
       "56  RJ  Segurança Dignitario    Nacional     12\n",
       "21  DF  Segurança Dignitario    Nacional    134\n",
       "51  RJ  Segurança Dignitario    Nacional      5\n",
       "70  SP  Segurança Dignitario    Nacional      4\n",
       "8   BA  Segurança Dignitario    Nacional      4\n",
       "14  DF  Segurança Dignitario    Nacional      1\n",
       "47  RR  Segurança Dignitario    Estadual      2\n",
       "58  SP  Segurança Dignitario    Nacional      6\n",
       "15  DF  Segurança Dignitario    Nacional      4\n",
       "17  DF  Segurança Dignitario    Nacional     17\n",
       "31  MS  Segurança Dignitario    Estadual      6\n",
       "51  RJ  Segurança Dignitario    Nacional      2\n",
       "14  DF  Segurança Dignitario    Nacional     19\n",
       "47  RJ  Segurança Dignitario    Nacional      8\n",
       "57  RS  Segurança Dignitario    Nacional      1\n",
       "16  DF  Segurança Dignitario    Nacional      4\n",
       "59  SP  Segurança Dignitario    Nacional      2\n",
       "6   AM  Segurança Dignitario    Nacional      1\n",
       "16  DF  Segurança Dignitario    Nacional      6\n",
       "60  SP  Segurança Dignitario    Nacional     10\n",
       "15  DF  Segurança Dignitario    Estadual      2\n",
       "16  DF  Segurança Dignitario    Nacional     13\n",
       "35  PE  Segurança Dignitario    Nacional      5\n",
       "41  RJ  Segurança Dignitario    Nacional     18\n",
       "59  SP  Segurança Dignitario    Nacional      2"
      ]
     },
     "execution_count": 36,
     "metadata": {},
     "output_type": "execute_result"
    }
   ],
   "source": [
    "seguranca"
   ]
  },
  {
   "cell_type": "code",
   "execution_count": 40,
   "id": "f6685c3f",
   "metadata": {},
   "outputs": [
    {
     "name": "stdout",
     "output_type": "stream",
     "text": [
      "Total de portes para Segurança Dignitario: 292 .\n"
     ]
    }
   ],
   "source": [
    "print(\"Total de portes para Segurança Dignitario:\", seguranca['TOTAL'].sum(), '.')"
   ]
  },
  {
   "cell_type": "markdown",
   "id": "3803d93d",
   "metadata": {},
   "source": [
    "-> próximo passo: colcar o mês em cada arquivo"
   ]
  }
 ],
 "metadata": {
  "kernelspec": {
   "display_name": "Python 3 (ipykernel)",
   "language": "python",
   "name": "python3"
  },
  "language_info": {
   "codemirror_mode": {
    "name": "ipython",
    "version": 3
   },
   "file_extension": ".py",
   "mimetype": "text/x-python",
   "name": "python",
   "nbconvert_exporter": "python",
   "pygments_lexer": "ipython3",
   "version": "3.10.8"
  }
 },
 "nbformat": 4,
 "nbformat_minor": 5
}
