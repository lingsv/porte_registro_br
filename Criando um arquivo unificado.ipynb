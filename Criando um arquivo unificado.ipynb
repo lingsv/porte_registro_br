{
 "cells": [
  {
   "cell_type": "markdown",
   "id": "c21e623c-04d4-49b0-a819-735efad94452",
   "metadata": {},
   "source": [
    "## Importações"
   ]
  },
  {
   "cell_type": "code",
   "execution_count": 3,
   "id": "c829d6f6",
   "metadata": {},
   "outputs": [],
   "source": [
    "import pandas as pd\n",
    "import glob"
   ]
  },
  {
   "cell_type": "markdown",
   "id": "1b250733-b7ad-4a9b-9acd-3069e7271b8f",
   "metadata": {},
   "source": [
    "## Pré-tratamento"
   ]
  },
  {
   "cell_type": "code",
   "execution_count": 4,
   "id": "79ef27c9",
   "metadata": {},
   "outputs": [],
   "source": [
    "jan_22 = pd.read_csv('armas/porte_armas_2022/SINARM_PORTES_ARMA_EXPEDIDOS_2022_01.csv',sep=';', encoding='latin-1')\n",
    "jan_22['mes'] = 'jan'\n",
    "jan_22.to_csv('armas/porte_armas_2022/SINARM_PORTES_ARMA_EXPEDIDOS_2022_01.csv',sep=';', encoding='latin-1', index=None)"
   ]
  },
  {
   "cell_type": "code",
   "execution_count": 5,
   "id": "5d307446",
   "metadata": {},
   "outputs": [],
   "source": [
    "fev_22 = pd.read_csv('armas/porte_armas_2022/SINARM_PORTES_ARMA_EXPEDIDOS_2022_02.csv',sep=';', encoding='latin-1')\n",
    "\n",
    "fev_22['mes'] = 'fev'\n",
    "fev_22.to_csv('armas/porte_armas_2022/SINARM_PORTES_ARMA_EXPEDIDOS_2022_02.csv',sep=';', encoding='latin-1', index=None)\n"
   ]
  },
  {
   "cell_type": "code",
   "execution_count": 6,
   "id": "2bead724",
   "metadata": {},
   "outputs": [],
   "source": [
    "mar_22 =  pd.read_csv('armas/porte_armas_2022/SINARM_PORTES_ARMA_EXPEDIDOS_2022_03.csv',sep=';', encoding='latin-1')\n",
    "\n",
    "mar_22['mes'] = 'mar'\n",
    "mar_22.to_csv('armas/porte_armas_2022/SINARM_PORTES_ARMA_EXPEDIDOS_2022_03.csv',sep=';', encoding='latin-1', index=None)"
   ]
  },
  {
   "cell_type": "code",
   "execution_count": 7,
   "id": "516029ff",
   "metadata": {},
   "outputs": [],
   "source": [
    "abri_22 =  pd.read_csv('armas/porte_armas_2022/SINARM_PORTES_ARMA_EXPEDIDOS_2022_04.csv',sep=';', encoding='latin-1')\n",
    "\n",
    "abri_22['mes'] = 'abril'\n",
    "abri_22.to_csv('armas/porte_armas_2022/SINARM_PORTES_ARMA_EXPEDIDOS_2022_04.csv',sep=';', encoding='latin-1', index=None)"
   ]
  },
  {
   "cell_type": "code",
   "execution_count": 8,
   "id": "20eef78d",
   "metadata": {},
   "outputs": [],
   "source": [
    "mai_22 =  pd.read_csv('armas/porte_armas_2022/SINARM_PORTES_ARMA_EXPEDIDOS_2022_05.csv',sep=';', encoding='latin-1')\n",
    "\n",
    "mai_22['mes'] = 'mai'\n",
    "mai_22.to_csv('armas/porte_armas_2022/SINARM_PORTES_ARMA_EXPEDIDOS_2022_05.csv',sep=';', encoding='latin-1', index=None)"
   ]
  },
  {
   "cell_type": "code",
   "execution_count": 9,
   "id": "4f71c54f",
   "metadata": {},
   "outputs": [],
   "source": [
    "jun_22 =  pd.read_csv('armas/porte_armas_2022/SINARM_PORTES_ARMA_EXPEDIDOS_2022_06.csv',sep=';', encoding='latin-1')\n",
    "\n",
    "jun_22['mes'] = 'jun'\n",
    "jun_22.to_csv('armas/porte_armas_2022/SINARM_PORTES_ARMA_EXPEDIDOS_2022_06.csv',sep=';', encoding='latin-1', index=None)"
   ]
  },
  {
   "cell_type": "code",
   "execution_count": 10,
   "id": "cfe187b6",
   "metadata": {},
   "outputs": [],
   "source": [
    "jul_22 =  pd.read_csv('armas/porte_armas_2022/SINARM_PORTES_ARMA_EXPEDIDOS_2022_07.csv',sep=';', encoding='latin-1')\n",
    "\n",
    "jul_22['mes'] = 'jul'\n",
    "jul_22.to_csv('armas/porte_armas_2022/SINARM_PORTES_ARMA_EXPEDIDOS_2022_07.csv',sep=';', encoding='latin-1', index=None)"
   ]
  },
  {
   "cell_type": "code",
   "execution_count": 11,
   "id": "6a518266",
   "metadata": {},
   "outputs": [],
   "source": [
    "ago_22 =  pd.read_csv('armas/porte_armas_2022/SINARM_PORTES_ARMA_EXPEDIDOS_2022_08.csv',sep=';', encoding='latin-1')\n",
    "\n",
    "ago_22['mes'] = 'ago'\n",
    "ago_22.to_csv('armas/porte_armas_2022/SINARM_PORTES_ARMA_EXPEDIDOS_2022_08.csv',sep=';', encoding='latin-1', index=None)"
   ]
  },
  {
   "cell_type": "code",
   "execution_count": 12,
   "id": "10c8cd99",
   "metadata": {},
   "outputs": [],
   "source": [
    "set_22 =  pd.read_csv('armas/porte_armas_2022/SINARM_PORTES_ARMA_EXPEDIDOS_2022_09.csv',sep=';', encoding='latin-1')\n",
    "\n",
    "set_22['mes'] = 'set'\n",
    "set_22.to_csv('armas/porte_armas_2022/SINARM_PORTES_ARMA_EXPEDIDOS_2022_09.csv',sep=';', encoding='latin-1', index=None)"
   ]
  },
  {
   "cell_type": "code",
   "execution_count": 13,
   "id": "6721433d",
   "metadata": {},
   "outputs": [],
   "source": [
    "out_22 =  pd.read_csv('armas/porte_armas_2022/SINARM_PORTES_ARMA_EXPEDIDOS_2022_10.csv',sep=';', encoding='latin-1')\n",
    "\n",
    "out_22['mes'] = 'out'\n",
    "out_22.to_csv('armas/porte_armas_2022/SINARM_PORTES_ARMA_EXPEDIDOS_2022_10.csv',sep=';', encoding='latin-1', index=None)"
   ]
  },
  {
   "cell_type": "code",
   "execution_count": 14,
   "id": "cdb4379a",
   "metadata": {},
   "outputs": [],
   "source": [
    "nov_22 =  pd.read_csv('armas/porte_armas_2022/SINARM_PORTES_ARMA_EXPEDIDOS_2022_11.csv',sep=';', encoding='latin-1')\n",
    "\n",
    "nov_22['mes'] = 'nov'\n",
    "nov_22.to_csv('armas/porte_armas_2022/SINARM_PORTES_ARMA_EXPEDIDOS_2022_11.csv',sep=';', encoding='latin-1', index=None)"
   ]
  },
  {
   "cell_type": "code",
   "execution_count": 15,
   "id": "17a5112f",
   "metadata": {},
   "outputs": [],
   "source": [
    "dez_22 =  pd.read_csv('armas/porte_armas_2022/SINARM_PORTES_ARMA_EXPEDIDOS_2022_12.csv',sep=';', encoding='latin-1')\n",
    "\n",
    "dez_22['mes'] = 'dez'\n",
    "dez_22.to_csv('armas/porte_armas_2022/SINARM_PORTES_ARMA_EXPEDIDOS_2022_12.csv',sep=';', encoding='latin-1', index=None)"
   ]
  },
  {
   "cell_type": "markdown",
   "id": "95d53c71-b461-4117-a5bd-308a604d50a6",
   "metadata": {},
   "source": [
    "## Transformação em parquet"
   ]
  },
  {
   "cell_type": "code",
   "execution_count": 16,
   "id": "39c0e933",
   "metadata": {},
   "outputs": [],
   "source": [
    "files = glob.glob('armas/porte_armas_2022/*.csv')\n",
    "port_br = pd.concat([pd.read_csv(fp, encoding='latin-1', sep=';') for fp in files])"
   ]
  },
  {
   "cell_type": "code",
   "execution_count": 19,
   "id": "fd98673f",
   "metadata": {},
   "outputs": [],
   "source": [
    "port_br.to_parquet('armas/porte_de_armas_porcategoria_br_2022.parquet')"
   ]
  },
  {
   "cell_type": "code",
   "execution_count": 20,
   "id": "de3d3398",
   "metadata": {},
   "outputs": [
    {
     "data": {
      "text/html": [
       "<div>\n",
       "<style scoped>\n",
       "    .dataframe tbody tr th:only-of-type {\n",
       "        vertical-align: middle;\n",
       "    }\n",
       "\n",
       "    .dataframe tbody tr th {\n",
       "        vertical-align: top;\n",
       "    }\n",
       "\n",
       "    .dataframe thead th {\n",
       "        text-align: right;\n",
       "    }\n",
       "</style>\n",
       "<table border=\"1\" class=\"dataframe\">\n",
       "  <thead>\n",
       "    <tr style=\"text-align: right;\">\n",
       "      <th></th>\n",
       "      <th>UF</th>\n",
       "      <th>CATEGORIA</th>\n",
       "      <th>ABRANGENCIA</th>\n",
       "      <th>TOTAL</th>\n",
       "      <th>mes</th>\n",
       "    </tr>\n",
       "  </thead>\n",
       "  <tbody>\n",
       "    <tr>\n",
       "      <th>0</th>\n",
       "      <td>AC</td>\n",
       "      <td>Caçador de Subsistência</td>\n",
       "      <td>NaN</td>\n",
       "      <td>2</td>\n",
       "      <td>out</td>\n",
       "    </tr>\n",
       "    <tr>\n",
       "      <th>1</th>\n",
       "      <td>AC</td>\n",
       "      <td>Defesa Pessoal</td>\n",
       "      <td>Estadual</td>\n",
       "      <td>4</td>\n",
       "      <td>out</td>\n",
       "    </tr>\n",
       "    <tr>\n",
       "      <th>2</th>\n",
       "      <td>AL</td>\n",
       "      <td>Defesa Pessoal</td>\n",
       "      <td>Estadual</td>\n",
       "      <td>11</td>\n",
       "      <td>out</td>\n",
       "    </tr>\n",
       "    <tr>\n",
       "      <th>3</th>\n",
       "      <td>AM</td>\n",
       "      <td>Funcional</td>\n",
       "      <td>Estadual</td>\n",
       "      <td>33</td>\n",
       "      <td>out</td>\n",
       "    </tr>\n",
       "    <tr>\n",
       "      <th>4</th>\n",
       "      <td>BA</td>\n",
       "      <td>Defesa Pessoal</td>\n",
       "      <td>Estadual</td>\n",
       "      <td>8</td>\n",
       "      <td>out</td>\n",
       "    </tr>\n",
       "    <tr>\n",
       "      <th>...</th>\n",
       "      <td>...</td>\n",
       "      <td>...</td>\n",
       "      <td>...</td>\n",
       "      <td>...</td>\n",
       "      <td>...</td>\n",
       "    </tr>\n",
       "    <tr>\n",
       "      <th>57</th>\n",
       "      <td>SP</td>\n",
       "      <td>Funcional</td>\n",
       "      <td>Estadual</td>\n",
       "      <td>435</td>\n",
       "      <td>mar</td>\n",
       "    </tr>\n",
       "    <tr>\n",
       "      <th>58</th>\n",
       "      <td>SP</td>\n",
       "      <td>Funcional</td>\n",
       "      <td>NaN</td>\n",
       "      <td>4</td>\n",
       "      <td>mar</td>\n",
       "    </tr>\n",
       "    <tr>\n",
       "      <th>59</th>\n",
       "      <td>SP</td>\n",
       "      <td>Segurança Dignitario</td>\n",
       "      <td>Nacional</td>\n",
       "      <td>2</td>\n",
       "      <td>mar</td>\n",
       "    </tr>\n",
       "    <tr>\n",
       "      <th>60</th>\n",
       "      <td>TO</td>\n",
       "      <td>Defesa Pessoal</td>\n",
       "      <td>Estadual</td>\n",
       "      <td>1</td>\n",
       "      <td>mar</td>\n",
       "    </tr>\n",
       "    <tr>\n",
       "      <th>61</th>\n",
       "      <td>TO</td>\n",
       "      <td>Funcional</td>\n",
       "      <td>Estadual</td>\n",
       "      <td>4</td>\n",
       "      <td>mar</td>\n",
       "    </tr>\n",
       "  </tbody>\n",
       "</table>\n",
       "<p>780 rows × 5 columns</p>\n",
       "</div>"
      ],
      "text/plain": [
       "    UF                CATEGORIA ABRANGENCIA  TOTAL  mes\n",
       "0   AC  Caçador de Subsistência         NaN      2  out\n",
       "1   AC           Defesa Pessoal    Estadual      4  out\n",
       "2   AL           Defesa Pessoal    Estadual     11  out\n",
       "3   AM                Funcional    Estadual     33  out\n",
       "4   BA           Defesa Pessoal    Estadual      8  out\n",
       "..  ..                      ...         ...    ...  ...\n",
       "57  SP                Funcional    Estadual    435  mar\n",
       "58  SP                Funcional         NaN      4  mar\n",
       "59  SP     Segurança Dignitario    Nacional      2  mar\n",
       "60  TO           Defesa Pessoal    Estadual      1  mar\n",
       "61  TO                Funcional    Estadual      4  mar\n",
       "\n",
       "[780 rows x 5 columns]"
      ]
     },
     "execution_count": 20,
     "metadata": {},
     "output_type": "execute_result"
    }
   ],
   "source": [
    "port_br"
   ]
  },
  {
   "cell_type": "code",
   "execution_count": null,
   "id": "24e288fa",
   "metadata": {},
   "outputs": [],
   "source": []
  }
 ],
 "metadata": {
  "kernelspec": {
   "display_name": "Python 3 (ipykernel)",
   "language": "python",
   "name": "python3"
  },
  "language_info": {
   "codemirror_mode": {
    "name": "ipython",
    "version": 3
   },
   "file_extension": ".py",
   "mimetype": "text/x-python",
   "name": "python",
   "nbconvert_exporter": "python",
   "pygments_lexer": "ipython3",
   "version": "3.9.19"
  }
 },
 "nbformat": 4,
 "nbformat_minor": 5
}
