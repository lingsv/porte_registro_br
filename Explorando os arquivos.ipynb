{
 "cells": [
  {
   "cell_type": "code",
   "execution_count": 3,
   "id": "35b8505a",
   "metadata": {},
   "outputs": [],
   "source": [
    "import pandas as pd\n",
    "import plotly.express as px"
   ]
  },
  {
   "cell_type": "markdown",
   "id": "81c49a0c",
   "metadata": {},
   "source": [
    "## Tipos de porte"
   ]
  },
  {
   "cell_type": "code",
   "execution_count": 4,
   "id": "8addb31a",
   "metadata": {},
   "outputs": [],
   "source": [
    "df_porte = pd.read_parquet('porte_de_armas_porcategoria_br_2022.parquet')"
   ]
  },
  {
   "cell_type": "code",
   "execution_count": 12,
   "id": "bdc947d2",
   "metadata": {},
   "outputs": [],
   "source": [
    "df_porte.columns = ['UF', 'CATEGORIA', 'ABRANGENCIA', 'TOTAL', 'MES']"
   ]
  },
  {
   "cell_type": "code",
   "execution_count": 13,
   "id": "58a14b6a",
   "metadata": {},
   "outputs": [
    {
     "name": "stdout",
     "output_type": "stream",
     "text": [
      "Tipos de porte: ['Caçador de Subsistência' 'Defesa Pessoal' 'Funcional'\n",
      " 'Segurança Dignitario']\n"
     ]
    }
   ],
   "source": [
    "print('Tipos de porte:', df_porte['CATEGORIA'].unique())"
   ]
  },
  {
   "cell_type": "code",
   "execution_count": 6,
   "id": "3637d654",
   "metadata": {},
   "outputs": [
    {
     "data": {
      "text/plain": [
       "array(['AC', 'AL', 'AM', 'AP', 'BA', 'CE', 'DF', 'ES', 'GO', 'MA', 'MG',\n",
       "       'MS', 'MT', 'PA', 'PB', 'PE', 'PI', 'PR', 'RJ', 'RN', 'RO', 'RS',\n",
       "       'SC', 'SE', 'SP', 'RR', 'TO'], dtype=object)"
      ]
     },
     "execution_count": 6,
     "metadata": {},
     "output_type": "execute_result"
    }
   ],
   "source": [
    "df_porte['UF'].unique()"
   ]
  },
  {
   "cell_type": "code",
   "execution_count": 127,
   "id": "40978913",
   "metadata": {},
   "outputs": [
    {
     "data": {
      "application/vnd.plotly.v1+json": {
       "config": {
        "plotlyServerURL": "https://plot.ly"
       },
       "data": [
        {
         "alignmentgroup": "True",
         "hovertemplate": "TOTAL=%{x}<br>UF=%{y}<extra></extra>",
         "legendgroup": "",
         "marker": {
          "color": "#440154",
          "pattern": {
           "shape": ""
          }
         },
         "name": "",
         "offsetgroup": "",
         "orientation": "h",
         "showlegend": false,
         "textposition": "auto",
         "type": "bar",
         "x": [
          15,
          3,
          1,
          12,
          1,
          1,
          55,
          1,
          1,
          9,
          2,
          1,
          2,
          30,
          19,
          60,
          3,
          5,
          18,
          2,
          19,
          5,
          7,
          1,
          44,
          8,
          22,
          1,
          19,
          9,
          3,
          10,
          2,
          38,
          17,
          7,
          1,
          1,
          4,
          1,
          12,
          1,
          40,
          5,
          6,
          12,
          12,
          3,
          68,
          29,
          3,
          131,
          5,
          7,
          32,
          1,
          1,
          32,
          4,
          1,
          1,
          16,
          4,
          1,
          28,
          3,
          22,
          1,
          22,
          56,
          3,
          41,
          4,
          2,
          59,
          1,
          27,
          25,
          1,
          68,
          1,
          2,
          11,
          3,
          135,
          4,
          32,
          3,
          14,
          2,
          35,
          13,
          1,
          151,
          1,
          5,
          3,
          14,
          11,
          1,
          1,
          1,
          9,
          2,
          1,
          65,
          41,
          3,
          12,
          112,
          3,
          5,
          1,
          37,
          91,
          6,
          7,
          67,
          8,
          18,
          2,
          2,
          5,
          36,
          490,
          13,
          88,
          8,
          2,
          10,
          1,
          25,
          6,
          1,
          20,
          1,
          3,
          1,
          2,
          1,
          2,
          2,
          6,
          8,
          1,
          30,
          87,
          38,
          8,
          134,
          1,
          38,
          2,
          6,
          9,
          17,
          1,
          22,
          17,
          7,
          5,
          11,
          8,
          1,
          10,
          1,
          16,
          5,
          1,
          3,
          1,
          1,
          1,
          6,
          24,
          1,
          31,
          3,
          4,
          5,
          3,
          1,
          1,
          10,
          1,
          3,
          123,
          14,
          5,
          18,
          24,
          1,
          4,
          6,
          3,
          38,
          8,
          581,
          4,
          2,
          2,
          4,
          11,
          33,
          8,
          1,
          27,
          8,
          4,
          3,
          36,
          36,
          5,
          5,
          1,
          27,
          1,
          7,
          1,
          4,
          1,
          2,
          95,
          6,
          3,
          10,
          1,
          26,
          6,
          3,
          4,
          2,
          1,
          14,
          1,
          1,
          1,
          5,
          2,
          180,
          146,
          1,
          42,
          1,
          7,
          15,
          10,
          2,
          91,
          5,
          7,
          6,
          25,
          7,
          23,
          1,
          335,
          4,
          6,
          2,
          5,
          4,
          5,
          26,
          2,
          2,
          4,
          9,
          2,
          7,
          6,
          13,
          1,
          40,
          46,
          2,
          4,
          1,
          39,
          2,
          10,
          1,
          22,
          12,
          2,
          1,
          1,
          2,
          5,
          123,
          26,
          2,
          3,
          18,
          30,
          3,
          1,
          6,
          9,
          1,
          3,
          2,
          13,
          7,
          2,
          68,
          7,
          1,
          52,
          1,
          2,
          2,
          3,
          3,
          1,
          5,
          141,
          4,
          7,
          8,
          1,
          17,
          1,
          2,
          2,
          17,
          1,
          27,
          236,
          27,
          1,
          1,
          8,
          1,
          11,
          1,
          5,
          2,
          12,
          1,
          14,
          6,
          4,
          36,
          1,
          5,
          29,
          26,
          37,
          17,
          34,
          1,
          17,
          2,
          23,
          16,
          1,
          24,
          1,
          5,
          80,
          22,
          3,
          6,
          11,
          4,
          36,
          4,
          2,
          16,
          1,
          2,
          1,
          6,
          6,
          1,
          11,
          3,
          1,
          2,
          22,
          3,
          2,
          2,
          3,
          3,
          2,
          105,
          8,
          4,
          51,
          3,
          9,
          1,
          56,
          2,
          1,
          1,
          10,
          1,
          541,
          6,
          1,
          20,
          5,
          16,
          1,
          2,
          2,
          24,
          4,
          39,
          4,
          53,
          94,
          11,
          80,
          19,
          62,
          1,
          1,
          15,
          24,
          2,
          1,
          5,
          1,
          13,
          2,
          23,
          5,
          48,
          4,
          2,
          57,
          5,
          1,
          3,
          1,
          9,
          1,
          22,
          1,
          5,
          5,
          2,
          1,
          1,
          21,
          7,
          8,
          3,
          3,
          2,
          1,
          1,
          96,
          8,
          5,
          30,
          1,
          13,
          2,
          29,
          160,
          8,
          1,
          1,
          2,
          2,
          4,
          12,
          1,
          1,
          8,
          2,
          1,
          8,
          1,
          6,
          1,
          6,
          7,
          7,
          38,
          29,
          4,
          41,
          2,
          32,
          14,
          7,
          2,
          2,
          74,
          8,
          9,
          2,
          1,
          1,
          49,
          7,
          2,
          64,
          8,
          2,
          30,
          2,
          1,
          3,
          13,
          3,
          22,
          2,
          26,
          1,
          44,
          1,
          2,
          1,
          38,
          86,
          4,
          4,
          4,
          4,
          16,
          5,
          4,
          1,
          14,
          34,
          303,
          1,
          13,
          9,
          4,
          5,
          7,
          5,
          2,
          17,
          4,
          3,
          14,
          2,
          30,
          59,
          27,
          46,
          9,
          9,
          29,
          5,
          2,
          4,
          2,
          1,
          177,
          2,
          16,
          4,
          4,
          15,
          2,
          46,
          8,
          5,
          3,
          11,
          1,
          1,
          1,
          1,
          18,
          1,
          4,
          18,
          1,
          31,
          4,
          1,
          87,
          5,
          4,
          14,
          11,
          1,
          1,
          8,
          18,
          1,
          208,
          3,
          2,
          3,
          10,
          5,
          19,
          3,
          1,
          110,
          1,
          1,
          30,
          2,
          50,
          23,
          29,
          4,
          54,
          3,
          34,
          3,
          34,
          6,
          1,
          1,
          1,
          9,
          2,
          2,
          8,
          7,
          13,
          1,
          40,
          1,
          3,
          7,
          2,
          2,
          7,
          14,
          4,
          1,
          1,
          9,
          1,
          2,
          4,
          2,
          2,
          1,
          134,
          16,
          12,
          22,
          2,
          4,
          3,
          17,
          315,
          1,
          6,
          3,
          9,
          3,
          24,
          1,
          1,
          3,
          1,
          1,
          6,
          3,
          1,
          3,
          3,
          58,
          59,
          25,
          6,
          20,
          2,
          1,
          1,
          16,
          92,
          5,
          2,
          19,
          1,
          2,
          21,
          4,
          14,
          17,
          1,
          5,
          7,
          1,
          1,
          16,
          2,
          23,
          10,
          1,
          2,
          5,
          1,
          4,
          4,
          1,
          83,
          10,
          7,
          1,
          2,
          11,
          2,
          61,
          27,
          1,
          286,
          1,
          10,
          56,
          1,
          1,
          30,
          5,
          1,
          24,
          1,
          10,
          19,
          2,
          2,
          157,
          46,
          60,
          22,
          2,
          13,
          44,
          2,
          1,
          3,
          19,
          35,
          4,
          2,
          32,
          1,
          39,
          2,
          16,
          36,
          11,
          3,
          4,
          1,
          5,
          2,
          8,
          5,
          15,
          4,
          18,
          5,
          6,
          7,
          2,
          78,
          4,
          8,
          5,
          5,
          5,
          10,
          1,
          19,
          44,
          2,
          435,
          4,
          2,
          1,
          4
         ],
         "xaxis": "x",
         "y": [
          "AC",
          "AC",
          "AC",
          "AL",
          "AL",
          "AL",
          "AL",
          "AM",
          "AP",
          "BA",
          "CE",
          "CE",
          "CE",
          "DF",
          "DF",
          "ES",
          "ES",
          "ES",
          "GO",
          "GO",
          "GO",
          "MA",
          "MG",
          "MG",
          "MS",
          "MS",
          "MT",
          "MT",
          "PA",
          "PA",
          "PB",
          "PE",
          "PI",
          "PI",
          "PR",
          "PR",
          "PR",
          "PR",
          "RJ",
          "RN",
          "RO",
          "RO",
          "RS",
          "RS",
          "RS",
          "SC",
          "SC",
          "SE",
          "SE",
          "SP",
          "SP",
          "SP",
          "AC",
          "AC",
          "AL",
          "AL",
          "AL",
          "AL",
          "AL",
          "AM",
          "AP",
          "BA",
          "BA",
          "BA",
          "BA",
          "CE",
          "CE",
          "DF",
          "DF",
          "DF",
          "DF",
          "DF",
          "DF",
          "ES",
          "ES",
          "ES",
          "ES",
          "GO",
          "GO",
          "GO",
          "GO",
          "MA",
          "MA",
          "MG",
          "MG",
          "MG",
          "MS",
          "MT",
          "MT",
          "MT",
          "PA",
          "PA",
          "PA",
          "PA",
          "PB",
          "PB",
          "PE",
          "PE",
          "PE",
          "PI",
          "PI",
          "PR",
          "PR",
          "PR",
          "PR",
          "PR",
          "RJ",
          "RJ",
          "RJ",
          "RN",
          "RO",
          "RO",
          "RR",
          "RR",
          "RS",
          "RS",
          "RS",
          "RS",
          "RS",
          "SC",
          "SE",
          "SE",
          "SP",
          "SP",
          "SP",
          "SP",
          "SP",
          "TO",
          "AC",
          "AC",
          "AC",
          "AC",
          "AL",
          "AL",
          "AL",
          "AM",
          "AM",
          "AM",
          "AM",
          "AP",
          "BA",
          "BA",
          "CE",
          "CE",
          "CE",
          "DF",
          "DF",
          "DF",
          "DF",
          "DF",
          "ES",
          "ES",
          "ES",
          "ES",
          "ES",
          "GO",
          "GO",
          "GO",
          "MA",
          "MG",
          "MG",
          "MS",
          "MT",
          "MT",
          "PA",
          "PA",
          "PA",
          "PB",
          "PB",
          "PE",
          "PE",
          "PI",
          "PR",
          "PR",
          "PR",
          "PR",
          "RJ",
          "RJ",
          "RJ",
          "RJ",
          "RN",
          "RN",
          "RN",
          "RO",
          "RO",
          "RR",
          "RS",
          "RS",
          "RS",
          "RS",
          "SC",
          "SC",
          "SC",
          "SE",
          "SE",
          "SP",
          "SP",
          "SP",
          "SP",
          "TO",
          "AC",
          "AC",
          "AL",
          "AM",
          "BA",
          "BA",
          "BA",
          "BA",
          "BA",
          "CE",
          "DF",
          "DF",
          "DF",
          "DF",
          "DF",
          "ES",
          "ES",
          "GO",
          "GO",
          "MA",
          "MA",
          "MG",
          "MG",
          "MS",
          "MS",
          "MT",
          "MT",
          "PA",
          "PA",
          "PA",
          "PA",
          "PB",
          "PB",
          "PE",
          "PE",
          "PI",
          "PI",
          "PR",
          "PR",
          "PR",
          "PR",
          "RJ",
          "RJ",
          "RJ",
          "RJ",
          "RJ",
          "RO",
          "RR",
          "RS",
          "RS",
          "RS",
          "RS",
          "SC",
          "SE",
          "SP",
          "SP",
          "SP",
          "SP",
          "SP",
          "TO",
          "TO",
          "AC",
          "AC",
          "AL",
          "AL",
          "AL",
          "AP",
          "BA",
          "BA",
          "BA",
          "CE",
          "CE",
          "DF",
          "DF",
          "DF",
          "DF",
          "DF",
          "ES",
          "ES",
          "ES",
          "ES",
          "GO",
          "GO",
          "GO",
          "GO",
          "MA",
          "MA",
          "MA",
          "MG",
          "MG",
          "MS",
          "MS",
          "MT",
          "MT",
          "PA",
          "PA",
          "PA",
          "PA",
          "PE",
          "PE",
          "PI",
          "PI",
          "PR",
          "PR",
          "PR",
          "PR",
          "PR",
          "RJ",
          "RJ",
          "RJ",
          "RJ",
          "RN",
          "RN",
          "RO",
          "RO",
          "RO",
          "RS",
          "RS",
          "RS",
          "RS",
          "RS",
          "SC",
          "SC",
          "SC",
          "SE",
          "SE",
          "SP",
          "SP",
          "SP",
          "SP",
          "TO",
          "TO",
          "AC",
          "AC",
          "AL",
          "AL",
          "AL",
          "AM",
          "BA",
          "BA",
          "BA",
          "BA",
          "CE",
          "CE",
          "CE",
          "DF",
          "DF",
          "DF",
          "DF",
          "DF",
          "ES",
          "ES",
          "ES",
          "ES",
          "GO",
          "GO",
          "MA",
          "MA",
          "MG",
          "MG",
          "MG",
          "MS",
          "MS",
          "MS",
          "MT",
          "MT",
          "PA",
          "PA",
          "PA",
          "PA",
          "PB",
          "PB",
          "PE",
          "PE",
          "PE",
          "PI",
          "PR",
          "PR",
          "PR",
          "RJ",
          "RJ",
          "RJ",
          "RJ",
          "RJ",
          "RN",
          "RO",
          "RO",
          "RS",
          "RS",
          "RS",
          "RS",
          "SC",
          "SC",
          "SC",
          "SC",
          "SC",
          "SE",
          "SE",
          "SP",
          "SP",
          "SP",
          "SP",
          "TO",
          "AC",
          "AC",
          "AL",
          "AL",
          "AL",
          "BA",
          "BA",
          "CE",
          "CE",
          "DF",
          "DF",
          "DF",
          "DF",
          "DF",
          "DF",
          "ES",
          "ES",
          "GO",
          "GO",
          "GO",
          "MA",
          "MG",
          "MG",
          "MG",
          "MS",
          "MS",
          "MT",
          "MT",
          "PA",
          "PA",
          "PA",
          "PA",
          "PB",
          "PB",
          "PB",
          "PE",
          "PE",
          "PE",
          "PE",
          "PI",
          "PR",
          "PR",
          "PR",
          "PR",
          "RJ",
          "RJ",
          "RJ",
          "RJ",
          "RN",
          "RO",
          "RR",
          "RR",
          "RR",
          "RS",
          "RS",
          "RS",
          "RS",
          "RS",
          "SC",
          "SE",
          "SP",
          "SP",
          "SP",
          "TO",
          "TO",
          "TO",
          "TO",
          "AC",
          "AC",
          "AC",
          "AC",
          "AL",
          "AL",
          "AM",
          "AM",
          "AP",
          "BA",
          "BA",
          "BA",
          "CE",
          "CE",
          "DF",
          "DF",
          "DF",
          "ES",
          "ES",
          "ES",
          "GO",
          "GO",
          "MA",
          "MG",
          "MG",
          "MS",
          "MT",
          "MT",
          "MT",
          "MT",
          "PA",
          "PA",
          "PA",
          "PB",
          "PE",
          "PE",
          "PE",
          "PE",
          "PI",
          "PI",
          "PR",
          "PR",
          "PR",
          "PR",
          "RJ",
          "RJ",
          "RJ",
          "RN",
          "RO",
          "RR",
          "RR",
          "RS",
          "RS",
          "RS",
          "RS",
          "RS",
          "SC",
          "SC",
          "SE",
          "SE",
          "SE",
          "SP",
          "SP",
          "TO",
          "TO",
          "AC",
          "AC",
          "AL",
          "AL",
          "AP",
          "BA",
          "BA",
          "CE",
          "CE",
          "CE",
          "DF",
          "DF",
          "DF",
          "DF",
          "ES",
          "ES",
          "GO",
          "GO",
          "GO",
          "MA",
          "MA",
          "MG",
          "MG",
          "MG",
          "MG",
          "MS",
          "MS",
          "MS",
          "MT",
          "MT",
          "PA",
          "PA",
          "PB",
          "PB",
          "PE",
          "PE",
          "PI",
          "PI",
          "PI",
          "PR",
          "PR",
          "PR",
          "RJ",
          "RJ",
          "RN",
          "RO",
          "RO",
          "RS",
          "RS",
          "RS",
          "RS",
          "SC",
          "SE",
          "SE",
          "SE",
          "SP",
          "SP",
          "SP",
          "SP",
          "SP",
          "TO",
          "AC",
          "AC",
          "AL",
          "AL",
          "AL",
          "AL",
          "AM",
          "BA",
          "BA",
          "CE",
          "CE",
          "DF",
          "DF",
          "DF",
          "ES",
          "ES",
          "GO",
          "GO",
          "GO",
          "MA",
          "MG",
          "MG",
          "MG",
          "MS",
          "MS",
          "MT",
          "MT",
          "PA",
          "PA",
          "PA",
          "PA",
          "PA",
          "PB",
          "PE",
          "PE",
          "PE",
          "PE",
          "PR",
          "PR",
          "PR",
          "PR",
          "RJ",
          "RJ",
          "RJ",
          "RJ",
          "RO",
          "RO",
          "RR",
          "RS",
          "RS",
          "RS",
          "RS",
          "SC",
          "SC",
          "SE",
          "SP",
          "SP",
          "SP",
          "SP",
          "TO",
          "AC",
          "AC",
          "AL",
          "AL",
          "AM",
          "AM",
          "AM",
          "AP",
          "BA",
          "CE",
          "CE",
          "CE",
          "CE",
          "DF",
          "DF",
          "DF",
          "DF",
          "ES",
          "ES",
          "ES",
          "GO",
          "GO",
          "GO",
          "MA",
          "MG",
          "MS",
          "MS",
          "MT",
          "MT",
          "MT",
          "PA",
          "PA",
          "PB",
          "PB",
          "PE",
          "PE",
          "PI",
          "PR",
          "PR",
          "PR",
          "RJ",
          "RJ",
          "RJ",
          "RN",
          "RN",
          "RO",
          "RO",
          "RR",
          "RS",
          "RS",
          "RS",
          "RS",
          "RS",
          "SC",
          "SE",
          "SE",
          "SP",
          "SP",
          "SP",
          "SP",
          "SP",
          "TO",
          "AC",
          "AC",
          "AL",
          "AL",
          "AL",
          "AL",
          "AM",
          "AP",
          "BA",
          "CE",
          "CE",
          "CE",
          "DF",
          "DF",
          "DF",
          "DF",
          "DF",
          "ES",
          "ES",
          "ES",
          "ES",
          "GO",
          "GO",
          "MA",
          "MG",
          "MG",
          "MG",
          "MS",
          "MS",
          "MT",
          "PA",
          "PA",
          "PB",
          "PE",
          "PE",
          "PE",
          "PI",
          "PR",
          "PR",
          "PR",
          "RJ",
          "RJ",
          "RN",
          "RN",
          "RO",
          "RR",
          "RS",
          "RS",
          "RS",
          "RS",
          "SC",
          "SC",
          "SC",
          "SE",
          "SE",
          "SP",
          "SP",
          "SP",
          "SP",
          "SP",
          "TO",
          "TO"
         ],
         "yaxis": "y"
        }
       ],
       "layout": {
        "barmode": "relative",
        "height": 800,
        "legend": {
         "tracegroupgap": 0
        },
        "template": {
         "data": {
          "bar": [
           {
            "error_x": {
             "color": "#2a3f5f"
            },
            "error_y": {
             "color": "#2a3f5f"
            },
            "marker": {
             "line": {
              "color": "#E5ECF6",
              "width": 0.5
             },
             "pattern": {
              "fillmode": "overlay",
              "size": 10,
              "solidity": 0.2
             }
            },
            "type": "bar"
           }
          ],
          "barpolar": [
           {
            "marker": {
             "line": {
              "color": "#E5ECF6",
              "width": 0.5
             },
             "pattern": {
              "fillmode": "overlay",
              "size": 10,
              "solidity": 0.2
             }
            },
            "type": "barpolar"
           }
          ],
          "carpet": [
           {
            "aaxis": {
             "endlinecolor": "#2a3f5f",
             "gridcolor": "white",
             "linecolor": "white",
             "minorgridcolor": "white",
             "startlinecolor": "#2a3f5f"
            },
            "baxis": {
             "endlinecolor": "#2a3f5f",
             "gridcolor": "white",
             "linecolor": "white",
             "minorgridcolor": "white",
             "startlinecolor": "#2a3f5f"
            },
            "type": "carpet"
           }
          ],
          "choropleth": [
           {
            "colorbar": {
             "outlinewidth": 0,
             "ticks": ""
            },
            "type": "choropleth"
           }
          ],
          "contour": [
           {
            "colorbar": {
             "outlinewidth": 0,
             "ticks": ""
            },
            "colorscale": [
             [
              0,
              "#0d0887"
             ],
             [
              0.1111111111111111,
              "#46039f"
             ],
             [
              0.2222222222222222,
              "#7201a8"
             ],
             [
              0.3333333333333333,
              "#9c179e"
             ],
             [
              0.4444444444444444,
              "#bd3786"
             ],
             [
              0.5555555555555556,
              "#d8576b"
             ],
             [
              0.6666666666666666,
              "#ed7953"
             ],
             [
              0.7777777777777778,
              "#fb9f3a"
             ],
             [
              0.8888888888888888,
              "#fdca26"
             ],
             [
              1,
              "#f0f921"
             ]
            ],
            "type": "contour"
           }
          ],
          "contourcarpet": [
           {
            "colorbar": {
             "outlinewidth": 0,
             "ticks": ""
            },
            "type": "contourcarpet"
           }
          ],
          "heatmap": [
           {
            "colorbar": {
             "outlinewidth": 0,
             "ticks": ""
            },
            "colorscale": [
             [
              0,
              "#0d0887"
             ],
             [
              0.1111111111111111,
              "#46039f"
             ],
             [
              0.2222222222222222,
              "#7201a8"
             ],
             [
              0.3333333333333333,
              "#9c179e"
             ],
             [
              0.4444444444444444,
              "#bd3786"
             ],
             [
              0.5555555555555556,
              "#d8576b"
             ],
             [
              0.6666666666666666,
              "#ed7953"
             ],
             [
              0.7777777777777778,
              "#fb9f3a"
             ],
             [
              0.8888888888888888,
              "#fdca26"
             ],
             [
              1,
              "#f0f921"
             ]
            ],
            "type": "heatmap"
           }
          ],
          "heatmapgl": [
           {
            "colorbar": {
             "outlinewidth": 0,
             "ticks": ""
            },
            "colorscale": [
             [
              0,
              "#0d0887"
             ],
             [
              0.1111111111111111,
              "#46039f"
             ],
             [
              0.2222222222222222,
              "#7201a8"
             ],
             [
              0.3333333333333333,
              "#9c179e"
             ],
             [
              0.4444444444444444,
              "#bd3786"
             ],
             [
              0.5555555555555556,
              "#d8576b"
             ],
             [
              0.6666666666666666,
              "#ed7953"
             ],
             [
              0.7777777777777778,
              "#fb9f3a"
             ],
             [
              0.8888888888888888,
              "#fdca26"
             ],
             [
              1,
              "#f0f921"
             ]
            ],
            "type": "heatmapgl"
           }
          ],
          "histogram": [
           {
            "marker": {
             "pattern": {
              "fillmode": "overlay",
              "size": 10,
              "solidity": 0.2
             }
            },
            "type": "histogram"
           }
          ],
          "histogram2d": [
           {
            "colorbar": {
             "outlinewidth": 0,
             "ticks": ""
            },
            "colorscale": [
             [
              0,
              "#0d0887"
             ],
             [
              0.1111111111111111,
              "#46039f"
             ],
             [
              0.2222222222222222,
              "#7201a8"
             ],
             [
              0.3333333333333333,
              "#9c179e"
             ],
             [
              0.4444444444444444,
              "#bd3786"
             ],
             [
              0.5555555555555556,
              "#d8576b"
             ],
             [
              0.6666666666666666,
              "#ed7953"
             ],
             [
              0.7777777777777778,
              "#fb9f3a"
             ],
             [
              0.8888888888888888,
              "#fdca26"
             ],
             [
              1,
              "#f0f921"
             ]
            ],
            "type": "histogram2d"
           }
          ],
          "histogram2dcontour": [
           {
            "colorbar": {
             "outlinewidth": 0,
             "ticks": ""
            },
            "colorscale": [
             [
              0,
              "#0d0887"
             ],
             [
              0.1111111111111111,
              "#46039f"
             ],
             [
              0.2222222222222222,
              "#7201a8"
             ],
             [
              0.3333333333333333,
              "#9c179e"
             ],
             [
              0.4444444444444444,
              "#bd3786"
             ],
             [
              0.5555555555555556,
              "#d8576b"
             ],
             [
              0.6666666666666666,
              "#ed7953"
             ],
             [
              0.7777777777777778,
              "#fb9f3a"
             ],
             [
              0.8888888888888888,
              "#fdca26"
             ],
             [
              1,
              "#f0f921"
             ]
            ],
            "type": "histogram2dcontour"
           }
          ],
          "mesh3d": [
           {
            "colorbar": {
             "outlinewidth": 0,
             "ticks": ""
            },
            "type": "mesh3d"
           }
          ],
          "parcoords": [
           {
            "line": {
             "colorbar": {
              "outlinewidth": 0,
              "ticks": ""
             }
            },
            "type": "parcoords"
           }
          ],
          "pie": [
           {
            "automargin": true,
            "type": "pie"
           }
          ],
          "scatter": [
           {
            "fillpattern": {
             "fillmode": "overlay",
             "size": 10,
             "solidity": 0.2
            },
            "type": "scatter"
           }
          ],
          "scatter3d": [
           {
            "line": {
             "colorbar": {
              "outlinewidth": 0,
              "ticks": ""
             }
            },
            "marker": {
             "colorbar": {
              "outlinewidth": 0,
              "ticks": ""
             }
            },
            "type": "scatter3d"
           }
          ],
          "scattercarpet": [
           {
            "marker": {
             "colorbar": {
              "outlinewidth": 0,
              "ticks": ""
             }
            },
            "type": "scattercarpet"
           }
          ],
          "scattergeo": [
           {
            "marker": {
             "colorbar": {
              "outlinewidth": 0,
              "ticks": ""
             }
            },
            "type": "scattergeo"
           }
          ],
          "scattergl": [
           {
            "marker": {
             "colorbar": {
              "outlinewidth": 0,
              "ticks": ""
             }
            },
            "type": "scattergl"
           }
          ],
          "scattermapbox": [
           {
            "marker": {
             "colorbar": {
              "outlinewidth": 0,
              "ticks": ""
             }
            },
            "type": "scattermapbox"
           }
          ],
          "scatterpolar": [
           {
            "marker": {
             "colorbar": {
              "outlinewidth": 0,
              "ticks": ""
             }
            },
            "type": "scatterpolar"
           }
          ],
          "scatterpolargl": [
           {
            "marker": {
             "colorbar": {
              "outlinewidth": 0,
              "ticks": ""
             }
            },
            "type": "scatterpolargl"
           }
          ],
          "scatterternary": [
           {
            "marker": {
             "colorbar": {
              "outlinewidth": 0,
              "ticks": ""
             }
            },
            "type": "scatterternary"
           }
          ],
          "surface": [
           {
            "colorbar": {
             "outlinewidth": 0,
             "ticks": ""
            },
            "colorscale": [
             [
              0,
              "#0d0887"
             ],
             [
              0.1111111111111111,
              "#46039f"
             ],
             [
              0.2222222222222222,
              "#7201a8"
             ],
             [
              0.3333333333333333,
              "#9c179e"
             ],
             [
              0.4444444444444444,
              "#bd3786"
             ],
             [
              0.5555555555555556,
              "#d8576b"
             ],
             [
              0.6666666666666666,
              "#ed7953"
             ],
             [
              0.7777777777777778,
              "#fb9f3a"
             ],
             [
              0.8888888888888888,
              "#fdca26"
             ],
             [
              1,
              "#f0f921"
             ]
            ],
            "type": "surface"
           }
          ],
          "table": [
           {
            "cells": {
             "fill": {
              "color": "#EBF0F8"
             },
             "line": {
              "color": "white"
             }
            },
            "header": {
             "fill": {
              "color": "#C8D4E3"
             },
             "line": {
              "color": "white"
             }
            },
            "type": "table"
           }
          ]
         },
         "layout": {
          "annotationdefaults": {
           "arrowcolor": "#2a3f5f",
           "arrowhead": 0,
           "arrowwidth": 1
          },
          "autotypenumbers": "strict",
          "coloraxis": {
           "colorbar": {
            "outlinewidth": 0,
            "ticks": ""
           }
          },
          "colorscale": {
           "diverging": [
            [
             0,
             "#8e0152"
            ],
            [
             0.1,
             "#c51b7d"
            ],
            [
             0.2,
             "#de77ae"
            ],
            [
             0.3,
             "#f1b6da"
            ],
            [
             0.4,
             "#fde0ef"
            ],
            [
             0.5,
             "#f7f7f7"
            ],
            [
             0.6,
             "#e6f5d0"
            ],
            [
             0.7,
             "#b8e186"
            ],
            [
             0.8,
             "#7fbc41"
            ],
            [
             0.9,
             "#4d9221"
            ],
            [
             1,
             "#276419"
            ]
           ],
           "sequential": [
            [
             0,
             "#0d0887"
            ],
            [
             0.1111111111111111,
             "#46039f"
            ],
            [
             0.2222222222222222,
             "#7201a8"
            ],
            [
             0.3333333333333333,
             "#9c179e"
            ],
            [
             0.4444444444444444,
             "#bd3786"
            ],
            [
             0.5555555555555556,
             "#d8576b"
            ],
            [
             0.6666666666666666,
             "#ed7953"
            ],
            [
             0.7777777777777778,
             "#fb9f3a"
            ],
            [
             0.8888888888888888,
             "#fdca26"
            ],
            [
             1,
             "#f0f921"
            ]
           ],
           "sequentialminus": [
            [
             0,
             "#0d0887"
            ],
            [
             0.1111111111111111,
             "#46039f"
            ],
            [
             0.2222222222222222,
             "#7201a8"
            ],
            [
             0.3333333333333333,
             "#9c179e"
            ],
            [
             0.4444444444444444,
             "#bd3786"
            ],
            [
             0.5555555555555556,
             "#d8576b"
            ],
            [
             0.6666666666666666,
             "#ed7953"
            ],
            [
             0.7777777777777778,
             "#fb9f3a"
            ],
            [
             0.8888888888888888,
             "#fdca26"
            ],
            [
             1,
             "#f0f921"
            ]
           ]
          },
          "colorway": [
           "#636efa",
           "#EF553B",
           "#00cc96",
           "#ab63fa",
           "#FFA15A",
           "#19d3f3",
           "#FF6692",
           "#B6E880",
           "#FF97FF",
           "#FECB52"
          ],
          "font": {
           "color": "#2a3f5f"
          },
          "geo": {
           "bgcolor": "white",
           "lakecolor": "white",
           "landcolor": "#E5ECF6",
           "showlakes": true,
           "showland": true,
           "subunitcolor": "white"
          },
          "hoverlabel": {
           "align": "left"
          },
          "hovermode": "closest",
          "mapbox": {
           "style": "light"
          },
          "paper_bgcolor": "white",
          "plot_bgcolor": "#E5ECF6",
          "polar": {
           "angularaxis": {
            "gridcolor": "white",
            "linecolor": "white",
            "ticks": ""
           },
           "bgcolor": "#E5ECF6",
           "radialaxis": {
            "gridcolor": "white",
            "linecolor": "white",
            "ticks": ""
           }
          },
          "scene": {
           "xaxis": {
            "backgroundcolor": "#E5ECF6",
            "gridcolor": "white",
            "gridwidth": 2,
            "linecolor": "white",
            "showbackground": true,
            "ticks": "",
            "zerolinecolor": "white"
           },
           "yaxis": {
            "backgroundcolor": "#E5ECF6",
            "gridcolor": "white",
            "gridwidth": 2,
            "linecolor": "white",
            "showbackground": true,
            "ticks": "",
            "zerolinecolor": "white"
           },
           "zaxis": {
            "backgroundcolor": "#E5ECF6",
            "gridcolor": "white",
            "gridwidth": 2,
            "linecolor": "white",
            "showbackground": true,
            "ticks": "",
            "zerolinecolor": "white"
           }
          },
          "shapedefaults": {
           "line": {
            "color": "#2a3f5f"
           }
          },
          "ternary": {
           "aaxis": {
            "gridcolor": "white",
            "linecolor": "white",
            "ticks": ""
           },
           "baxis": {
            "gridcolor": "white",
            "linecolor": "white",
            "ticks": ""
           },
           "bgcolor": "#E5ECF6",
           "caxis": {
            "gridcolor": "white",
            "linecolor": "white",
            "ticks": ""
           }
          },
          "title": {
           "x": 0.05
          },
          "xaxis": {
           "automargin": true,
           "gridcolor": "white",
           "linecolor": "white",
           "ticks": "",
           "title": {
            "standoff": 15
           },
           "zerolinecolor": "white",
           "zerolinewidth": 2
          },
          "yaxis": {
           "automargin": true,
           "gridcolor": "white",
           "linecolor": "white",
           "ticks": "",
           "title": {
            "standoff": 15
           },
           "zerolinecolor": "white",
           "zerolinewidth": 2
          }
         }
        },
        "title": {
         "text": "Total de portes de arma por estado"
        },
        "xaxis": {
         "anchor": "y",
         "domain": [
          0,
          1
         ],
         "title": {
          "text": "TOTAL"
         }
        },
        "yaxis": {
         "anchor": "x",
         "domain": [
          0,
          1
         ],
         "title": {
          "text": "UF"
         }
        }
       }
      },
      "text/html": [
       "<div>                            <div id=\"b4cb1aa4-c5e5-443c-b308-d440a6514485\" class=\"plotly-graph-div\" style=\"height:800px; width:100%;\"></div>            <script type=\"text/javascript\">                require([\"plotly\"], function(Plotly) {                    window.PLOTLYENV=window.PLOTLYENV || {};                                    if (document.getElementById(\"b4cb1aa4-c5e5-443c-b308-d440a6514485\")) {                    Plotly.newPlot(                        \"b4cb1aa4-c5e5-443c-b308-d440a6514485\",                        [{\"alignmentgroup\":\"True\",\"hovertemplate\":\"TOTAL=%{x}<br>UF=%{y}<extra></extra>\",\"legendgroup\":\"\",\"marker\":{\"color\":\"#440154\",\"pattern\":{\"shape\":\"\"}},\"name\":\"\",\"offsetgroup\":\"\",\"orientation\":\"h\",\"showlegend\":false,\"textposition\":\"auto\",\"x\":[15,3,1,12,1,1,55,1,1,9,2,1,2,30,19,60,3,5,18,2,19,5,7,1,44,8,22,1,19,9,3,10,2,38,17,7,1,1,4,1,12,1,40,5,6,12,12,3,68,29,3,131,5,7,32,1,1,32,4,1,1,16,4,1,28,3,22,1,22,56,3,41,4,2,59,1,27,25,1,68,1,2,11,3,135,4,32,3,14,2,35,13,1,151,1,5,3,14,11,1,1,1,9,2,1,65,41,3,12,112,3,5,1,37,91,6,7,67,8,18,2,2,5,36,490,13,88,8,2,10,1,25,6,1,20,1,3,1,2,1,2,2,6,8,1,30,87,38,8,134,1,38,2,6,9,17,1,22,17,7,5,11,8,1,10,1,16,5,1,3,1,1,1,6,24,1,31,3,4,5,3,1,1,10,1,3,123,14,5,18,24,1,4,6,3,38,8,581,4,2,2,4,11,33,8,1,27,8,4,3,36,36,5,5,1,27,1,7,1,4,1,2,95,6,3,10,1,26,6,3,4,2,1,14,1,1,1,5,2,180,146,1,42,1,7,15,10,2,91,5,7,6,25,7,23,1,335,4,6,2,5,4,5,26,2,2,4,9,2,7,6,13,1,40,46,2,4,1,39,2,10,1,22,12,2,1,1,2,5,123,26,2,3,18,30,3,1,6,9,1,3,2,13,7,2,68,7,1,52,1,2,2,3,3,1,5,141,4,7,8,1,17,1,2,2,17,1,27,236,27,1,1,8,1,11,1,5,2,12,1,14,6,4,36,1,5,29,26,37,17,34,1,17,2,23,16,1,24,1,5,80,22,3,6,11,4,36,4,2,16,1,2,1,6,6,1,11,3,1,2,22,3,2,2,3,3,2,105,8,4,51,3,9,1,56,2,1,1,10,1,541,6,1,20,5,16,1,2,2,24,4,39,4,53,94,11,80,19,62,1,1,15,24,2,1,5,1,13,2,23,5,48,4,2,57,5,1,3,1,9,1,22,1,5,5,2,1,1,21,7,8,3,3,2,1,1,96,8,5,30,1,13,2,29,160,8,1,1,2,2,4,12,1,1,8,2,1,8,1,6,1,6,7,7,38,29,4,41,2,32,14,7,2,2,74,8,9,2,1,1,49,7,2,64,8,2,30,2,1,3,13,3,22,2,26,1,44,1,2,1,38,86,4,4,4,4,16,5,4,1,14,34,303,1,13,9,4,5,7,5,2,17,4,3,14,2,30,59,27,46,9,9,29,5,2,4,2,1,177,2,16,4,4,15,2,46,8,5,3,11,1,1,1,1,18,1,4,18,1,31,4,1,87,5,4,14,11,1,1,8,18,1,208,3,2,3,10,5,19,3,1,110,1,1,30,2,50,23,29,4,54,3,34,3,34,6,1,1,1,9,2,2,8,7,13,1,40,1,3,7,2,2,7,14,4,1,1,9,1,2,4,2,2,1,134,16,12,22,2,4,3,17,315,1,6,3,9,3,24,1,1,3,1,1,6,3,1,3,3,58,59,25,6,20,2,1,1,16,92,5,2,19,1,2,21,4,14,17,1,5,7,1,1,16,2,23,10,1,2,5,1,4,4,1,83,10,7,1,2,11,2,61,27,1,286,1,10,56,1,1,30,5,1,24,1,10,19,2,2,157,46,60,22,2,13,44,2,1,3,19,35,4,2,32,1,39,2,16,36,11,3,4,1,5,2,8,5,15,4,18,5,6,7,2,78,4,8,5,5,5,10,1,19,44,2,435,4,2,1,4],\"xaxis\":\"x\",\"y\":[\"AC\",\"AC\",\"AC\",\"AL\",\"AL\",\"AL\",\"AL\",\"AM\",\"AP\",\"BA\",\"CE\",\"CE\",\"CE\",\"DF\",\"DF\",\"ES\",\"ES\",\"ES\",\"GO\",\"GO\",\"GO\",\"MA\",\"MG\",\"MG\",\"MS\",\"MS\",\"MT\",\"MT\",\"PA\",\"PA\",\"PB\",\"PE\",\"PI\",\"PI\",\"PR\",\"PR\",\"PR\",\"PR\",\"RJ\",\"RN\",\"RO\",\"RO\",\"RS\",\"RS\",\"RS\",\"SC\",\"SC\",\"SE\",\"SE\",\"SP\",\"SP\",\"SP\",\"AC\",\"AC\",\"AL\",\"AL\",\"AL\",\"AL\",\"AL\",\"AM\",\"AP\",\"BA\",\"BA\",\"BA\",\"BA\",\"CE\",\"CE\",\"DF\",\"DF\",\"DF\",\"DF\",\"DF\",\"DF\",\"ES\",\"ES\",\"ES\",\"ES\",\"GO\",\"GO\",\"GO\",\"GO\",\"MA\",\"MA\",\"MG\",\"MG\",\"MG\",\"MS\",\"MT\",\"MT\",\"MT\",\"PA\",\"PA\",\"PA\",\"PA\",\"PB\",\"PB\",\"PE\",\"PE\",\"PE\",\"PI\",\"PI\",\"PR\",\"PR\",\"PR\",\"PR\",\"PR\",\"RJ\",\"RJ\",\"RJ\",\"RN\",\"RO\",\"RO\",\"RR\",\"RR\",\"RS\",\"RS\",\"RS\",\"RS\",\"RS\",\"SC\",\"SE\",\"SE\",\"SP\",\"SP\",\"SP\",\"SP\",\"SP\",\"TO\",\"AC\",\"AC\",\"AC\",\"AC\",\"AL\",\"AL\",\"AL\",\"AM\",\"AM\",\"AM\",\"AM\",\"AP\",\"BA\",\"BA\",\"CE\",\"CE\",\"CE\",\"DF\",\"DF\",\"DF\",\"DF\",\"DF\",\"ES\",\"ES\",\"ES\",\"ES\",\"ES\",\"GO\",\"GO\",\"GO\",\"MA\",\"MG\",\"MG\",\"MS\",\"MT\",\"MT\",\"PA\",\"PA\",\"PA\",\"PB\",\"PB\",\"PE\",\"PE\",\"PI\",\"PR\",\"PR\",\"PR\",\"PR\",\"RJ\",\"RJ\",\"RJ\",\"RJ\",\"RN\",\"RN\",\"RN\",\"RO\",\"RO\",\"RR\",\"RS\",\"RS\",\"RS\",\"RS\",\"SC\",\"SC\",\"SC\",\"SE\",\"SE\",\"SP\",\"SP\",\"SP\",\"SP\",\"TO\",\"AC\",\"AC\",\"AL\",\"AM\",\"BA\",\"BA\",\"BA\",\"BA\",\"BA\",\"CE\",\"DF\",\"DF\",\"DF\",\"DF\",\"DF\",\"ES\",\"ES\",\"GO\",\"GO\",\"MA\",\"MA\",\"MG\",\"MG\",\"MS\",\"MS\",\"MT\",\"MT\",\"PA\",\"PA\",\"PA\",\"PA\",\"PB\",\"PB\",\"PE\",\"PE\",\"PI\",\"PI\",\"PR\",\"PR\",\"PR\",\"PR\",\"RJ\",\"RJ\",\"RJ\",\"RJ\",\"RJ\",\"RO\",\"RR\",\"RS\",\"RS\",\"RS\",\"RS\",\"SC\",\"SE\",\"SP\",\"SP\",\"SP\",\"SP\",\"SP\",\"TO\",\"TO\",\"AC\",\"AC\",\"AL\",\"AL\",\"AL\",\"AP\",\"BA\",\"BA\",\"BA\",\"CE\",\"CE\",\"DF\",\"DF\",\"DF\",\"DF\",\"DF\",\"ES\",\"ES\",\"ES\",\"ES\",\"GO\",\"GO\",\"GO\",\"GO\",\"MA\",\"MA\",\"MA\",\"MG\",\"MG\",\"MS\",\"MS\",\"MT\",\"MT\",\"PA\",\"PA\",\"PA\",\"PA\",\"PE\",\"PE\",\"PI\",\"PI\",\"PR\",\"PR\",\"PR\",\"PR\",\"PR\",\"RJ\",\"RJ\",\"RJ\",\"RJ\",\"RN\",\"RN\",\"RO\",\"RO\",\"RO\",\"RS\",\"RS\",\"RS\",\"RS\",\"RS\",\"SC\",\"SC\",\"SC\",\"SE\",\"SE\",\"SP\",\"SP\",\"SP\",\"SP\",\"TO\",\"TO\",\"AC\",\"AC\",\"AL\",\"AL\",\"AL\",\"AM\",\"BA\",\"BA\",\"BA\",\"BA\",\"CE\",\"CE\",\"CE\",\"DF\",\"DF\",\"DF\",\"DF\",\"DF\",\"ES\",\"ES\",\"ES\",\"ES\",\"GO\",\"GO\",\"MA\",\"MA\",\"MG\",\"MG\",\"MG\",\"MS\",\"MS\",\"MS\",\"MT\",\"MT\",\"PA\",\"PA\",\"PA\",\"PA\",\"PB\",\"PB\",\"PE\",\"PE\",\"PE\",\"PI\",\"PR\",\"PR\",\"PR\",\"RJ\",\"RJ\",\"RJ\",\"RJ\",\"RJ\",\"RN\",\"RO\",\"RO\",\"RS\",\"RS\",\"RS\",\"RS\",\"SC\",\"SC\",\"SC\",\"SC\",\"SC\",\"SE\",\"SE\",\"SP\",\"SP\",\"SP\",\"SP\",\"TO\",\"AC\",\"AC\",\"AL\",\"AL\",\"AL\",\"BA\",\"BA\",\"CE\",\"CE\",\"DF\",\"DF\",\"DF\",\"DF\",\"DF\",\"DF\",\"ES\",\"ES\",\"GO\",\"GO\",\"GO\",\"MA\",\"MG\",\"MG\",\"MG\",\"MS\",\"MS\",\"MT\",\"MT\",\"PA\",\"PA\",\"PA\",\"PA\",\"PB\",\"PB\",\"PB\",\"PE\",\"PE\",\"PE\",\"PE\",\"PI\",\"PR\",\"PR\",\"PR\",\"PR\",\"RJ\",\"RJ\",\"RJ\",\"RJ\",\"RN\",\"RO\",\"RR\",\"RR\",\"RR\",\"RS\",\"RS\",\"RS\",\"RS\",\"RS\",\"SC\",\"SE\",\"SP\",\"SP\",\"SP\",\"TO\",\"TO\",\"TO\",\"TO\",\"AC\",\"AC\",\"AC\",\"AC\",\"AL\",\"AL\",\"AM\",\"AM\",\"AP\",\"BA\",\"BA\",\"BA\",\"CE\",\"CE\",\"DF\",\"DF\",\"DF\",\"ES\",\"ES\",\"ES\",\"GO\",\"GO\",\"MA\",\"MG\",\"MG\",\"MS\",\"MT\",\"MT\",\"MT\",\"MT\",\"PA\",\"PA\",\"PA\",\"PB\",\"PE\",\"PE\",\"PE\",\"PE\",\"PI\",\"PI\",\"PR\",\"PR\",\"PR\",\"PR\",\"RJ\",\"RJ\",\"RJ\",\"RN\",\"RO\",\"RR\",\"RR\",\"RS\",\"RS\",\"RS\",\"RS\",\"RS\",\"SC\",\"SC\",\"SE\",\"SE\",\"SE\",\"SP\",\"SP\",\"TO\",\"TO\",\"AC\",\"AC\",\"AL\",\"AL\",\"AP\",\"BA\",\"BA\",\"CE\",\"CE\",\"CE\",\"DF\",\"DF\",\"DF\",\"DF\",\"ES\",\"ES\",\"GO\",\"GO\",\"GO\",\"MA\",\"MA\",\"MG\",\"MG\",\"MG\",\"MG\",\"MS\",\"MS\",\"MS\",\"MT\",\"MT\",\"PA\",\"PA\",\"PB\",\"PB\",\"PE\",\"PE\",\"PI\",\"PI\",\"PI\",\"PR\",\"PR\",\"PR\",\"RJ\",\"RJ\",\"RN\",\"RO\",\"RO\",\"RS\",\"RS\",\"RS\",\"RS\",\"SC\",\"SE\",\"SE\",\"SE\",\"SP\",\"SP\",\"SP\",\"SP\",\"SP\",\"TO\",\"AC\",\"AC\",\"AL\",\"AL\",\"AL\",\"AL\",\"AM\",\"BA\",\"BA\",\"CE\",\"CE\",\"DF\",\"DF\",\"DF\",\"ES\",\"ES\",\"GO\",\"GO\",\"GO\",\"MA\",\"MG\",\"MG\",\"MG\",\"MS\",\"MS\",\"MT\",\"MT\",\"PA\",\"PA\",\"PA\",\"PA\",\"PA\",\"PB\",\"PE\",\"PE\",\"PE\",\"PE\",\"PR\",\"PR\",\"PR\",\"PR\",\"RJ\",\"RJ\",\"RJ\",\"RJ\",\"RO\",\"RO\",\"RR\",\"RS\",\"RS\",\"RS\",\"RS\",\"SC\",\"SC\",\"SE\",\"SP\",\"SP\",\"SP\",\"SP\",\"TO\",\"AC\",\"AC\",\"AL\",\"AL\",\"AM\",\"AM\",\"AM\",\"AP\",\"BA\",\"CE\",\"CE\",\"CE\",\"CE\",\"DF\",\"DF\",\"DF\",\"DF\",\"ES\",\"ES\",\"ES\",\"GO\",\"GO\",\"GO\",\"MA\",\"MG\",\"MS\",\"MS\",\"MT\",\"MT\",\"MT\",\"PA\",\"PA\",\"PB\",\"PB\",\"PE\",\"PE\",\"PI\",\"PR\",\"PR\",\"PR\",\"RJ\",\"RJ\",\"RJ\",\"RN\",\"RN\",\"RO\",\"RO\",\"RR\",\"RS\",\"RS\",\"RS\",\"RS\",\"RS\",\"SC\",\"SE\",\"SE\",\"SP\",\"SP\",\"SP\",\"SP\",\"SP\",\"TO\",\"AC\",\"AC\",\"AL\",\"AL\",\"AL\",\"AL\",\"AM\",\"AP\",\"BA\",\"CE\",\"CE\",\"CE\",\"DF\",\"DF\",\"DF\",\"DF\",\"DF\",\"ES\",\"ES\",\"ES\",\"ES\",\"GO\",\"GO\",\"MA\",\"MG\",\"MG\",\"MG\",\"MS\",\"MS\",\"MT\",\"PA\",\"PA\",\"PB\",\"PE\",\"PE\",\"PE\",\"PI\",\"PR\",\"PR\",\"PR\",\"RJ\",\"RJ\",\"RN\",\"RN\",\"RO\",\"RR\",\"RS\",\"RS\",\"RS\",\"RS\",\"SC\",\"SC\",\"SC\",\"SE\",\"SE\",\"SP\",\"SP\",\"SP\",\"SP\",\"SP\",\"TO\",\"TO\"],\"yaxis\":\"y\",\"type\":\"bar\"}],                        {\"template\":{\"data\":{\"histogram2dcontour\":[{\"type\":\"histogram2dcontour\",\"colorbar\":{\"outlinewidth\":0,\"ticks\":\"\"},\"colorscale\":[[0.0,\"#0d0887\"],[0.1111111111111111,\"#46039f\"],[0.2222222222222222,\"#7201a8\"],[0.3333333333333333,\"#9c179e\"],[0.4444444444444444,\"#bd3786\"],[0.5555555555555556,\"#d8576b\"],[0.6666666666666666,\"#ed7953\"],[0.7777777777777778,\"#fb9f3a\"],[0.8888888888888888,\"#fdca26\"],[1.0,\"#f0f921\"]]}],\"choropleth\":[{\"type\":\"choropleth\",\"colorbar\":{\"outlinewidth\":0,\"ticks\":\"\"}}],\"histogram2d\":[{\"type\":\"histogram2d\",\"colorbar\":{\"outlinewidth\":0,\"ticks\":\"\"},\"colorscale\":[[0.0,\"#0d0887\"],[0.1111111111111111,\"#46039f\"],[0.2222222222222222,\"#7201a8\"],[0.3333333333333333,\"#9c179e\"],[0.4444444444444444,\"#bd3786\"],[0.5555555555555556,\"#d8576b\"],[0.6666666666666666,\"#ed7953\"],[0.7777777777777778,\"#fb9f3a\"],[0.8888888888888888,\"#fdca26\"],[1.0,\"#f0f921\"]]}],\"heatmap\":[{\"type\":\"heatmap\",\"colorbar\":{\"outlinewidth\":0,\"ticks\":\"\"},\"colorscale\":[[0.0,\"#0d0887\"],[0.1111111111111111,\"#46039f\"],[0.2222222222222222,\"#7201a8\"],[0.3333333333333333,\"#9c179e\"],[0.4444444444444444,\"#bd3786\"],[0.5555555555555556,\"#d8576b\"],[0.6666666666666666,\"#ed7953\"],[0.7777777777777778,\"#fb9f3a\"],[0.8888888888888888,\"#fdca26\"],[1.0,\"#f0f921\"]]}],\"heatmapgl\":[{\"type\":\"heatmapgl\",\"colorbar\":{\"outlinewidth\":0,\"ticks\":\"\"},\"colorscale\":[[0.0,\"#0d0887\"],[0.1111111111111111,\"#46039f\"],[0.2222222222222222,\"#7201a8\"],[0.3333333333333333,\"#9c179e\"],[0.4444444444444444,\"#bd3786\"],[0.5555555555555556,\"#d8576b\"],[0.6666666666666666,\"#ed7953\"],[0.7777777777777778,\"#fb9f3a\"],[0.8888888888888888,\"#fdca26\"],[1.0,\"#f0f921\"]]}],\"contourcarpet\":[{\"type\":\"contourcarpet\",\"colorbar\":{\"outlinewidth\":0,\"ticks\":\"\"}}],\"contour\":[{\"type\":\"contour\",\"colorbar\":{\"outlinewidth\":0,\"ticks\":\"\"},\"colorscale\":[[0.0,\"#0d0887\"],[0.1111111111111111,\"#46039f\"],[0.2222222222222222,\"#7201a8\"],[0.3333333333333333,\"#9c179e\"],[0.4444444444444444,\"#bd3786\"],[0.5555555555555556,\"#d8576b\"],[0.6666666666666666,\"#ed7953\"],[0.7777777777777778,\"#fb9f3a\"],[0.8888888888888888,\"#fdca26\"],[1.0,\"#f0f921\"]]}],\"surface\":[{\"type\":\"surface\",\"colorbar\":{\"outlinewidth\":0,\"ticks\":\"\"},\"colorscale\":[[0.0,\"#0d0887\"],[0.1111111111111111,\"#46039f\"],[0.2222222222222222,\"#7201a8\"],[0.3333333333333333,\"#9c179e\"],[0.4444444444444444,\"#bd3786\"],[0.5555555555555556,\"#d8576b\"],[0.6666666666666666,\"#ed7953\"],[0.7777777777777778,\"#fb9f3a\"],[0.8888888888888888,\"#fdca26\"],[1.0,\"#f0f921\"]]}],\"mesh3d\":[{\"type\":\"mesh3d\",\"colorbar\":{\"outlinewidth\":0,\"ticks\":\"\"}}],\"scatter\":[{\"fillpattern\":{\"fillmode\":\"overlay\",\"size\":10,\"solidity\":0.2},\"type\":\"scatter\"}],\"parcoords\":[{\"type\":\"parcoords\",\"line\":{\"colorbar\":{\"outlinewidth\":0,\"ticks\":\"\"}}}],\"scatterpolargl\":[{\"type\":\"scatterpolargl\",\"marker\":{\"colorbar\":{\"outlinewidth\":0,\"ticks\":\"\"}}}],\"bar\":[{\"error_x\":{\"color\":\"#2a3f5f\"},\"error_y\":{\"color\":\"#2a3f5f\"},\"marker\":{\"line\":{\"color\":\"#E5ECF6\",\"width\":0.5},\"pattern\":{\"fillmode\":\"overlay\",\"size\":10,\"solidity\":0.2}},\"type\":\"bar\"}],\"scattergeo\":[{\"type\":\"scattergeo\",\"marker\":{\"colorbar\":{\"outlinewidth\":0,\"ticks\":\"\"}}}],\"scatterpolar\":[{\"type\":\"scatterpolar\",\"marker\":{\"colorbar\":{\"outlinewidth\":0,\"ticks\":\"\"}}}],\"histogram\":[{\"marker\":{\"pattern\":{\"fillmode\":\"overlay\",\"size\":10,\"solidity\":0.2}},\"type\":\"histogram\"}],\"scattergl\":[{\"type\":\"scattergl\",\"marker\":{\"colorbar\":{\"outlinewidth\":0,\"ticks\":\"\"}}}],\"scatter3d\":[{\"type\":\"scatter3d\",\"line\":{\"colorbar\":{\"outlinewidth\":0,\"ticks\":\"\"}},\"marker\":{\"colorbar\":{\"outlinewidth\":0,\"ticks\":\"\"}}}],\"scattermapbox\":[{\"type\":\"scattermapbox\",\"marker\":{\"colorbar\":{\"outlinewidth\":0,\"ticks\":\"\"}}}],\"scatterternary\":[{\"type\":\"scatterternary\",\"marker\":{\"colorbar\":{\"outlinewidth\":0,\"ticks\":\"\"}}}],\"scattercarpet\":[{\"type\":\"scattercarpet\",\"marker\":{\"colorbar\":{\"outlinewidth\":0,\"ticks\":\"\"}}}],\"carpet\":[{\"aaxis\":{\"endlinecolor\":\"#2a3f5f\",\"gridcolor\":\"white\",\"linecolor\":\"white\",\"minorgridcolor\":\"white\",\"startlinecolor\":\"#2a3f5f\"},\"baxis\":{\"endlinecolor\":\"#2a3f5f\",\"gridcolor\":\"white\",\"linecolor\":\"white\",\"minorgridcolor\":\"white\",\"startlinecolor\":\"#2a3f5f\"},\"type\":\"carpet\"}],\"table\":[{\"cells\":{\"fill\":{\"color\":\"#EBF0F8\"},\"line\":{\"color\":\"white\"}},\"header\":{\"fill\":{\"color\":\"#C8D4E3\"},\"line\":{\"color\":\"white\"}},\"type\":\"table\"}],\"barpolar\":[{\"marker\":{\"line\":{\"color\":\"#E5ECF6\",\"width\":0.5},\"pattern\":{\"fillmode\":\"overlay\",\"size\":10,\"solidity\":0.2}},\"type\":\"barpolar\"}],\"pie\":[{\"automargin\":true,\"type\":\"pie\"}]},\"layout\":{\"autotypenumbers\":\"strict\",\"colorway\":[\"#636efa\",\"#EF553B\",\"#00cc96\",\"#ab63fa\",\"#FFA15A\",\"#19d3f3\",\"#FF6692\",\"#B6E880\",\"#FF97FF\",\"#FECB52\"],\"font\":{\"color\":\"#2a3f5f\"},\"hovermode\":\"closest\",\"hoverlabel\":{\"align\":\"left\"},\"paper_bgcolor\":\"white\",\"plot_bgcolor\":\"#E5ECF6\",\"polar\":{\"bgcolor\":\"#E5ECF6\",\"angularaxis\":{\"gridcolor\":\"white\",\"linecolor\":\"white\",\"ticks\":\"\"},\"radialaxis\":{\"gridcolor\":\"white\",\"linecolor\":\"white\",\"ticks\":\"\"}},\"ternary\":{\"bgcolor\":\"#E5ECF6\",\"aaxis\":{\"gridcolor\":\"white\",\"linecolor\":\"white\",\"ticks\":\"\"},\"baxis\":{\"gridcolor\":\"white\",\"linecolor\":\"white\",\"ticks\":\"\"},\"caxis\":{\"gridcolor\":\"white\",\"linecolor\":\"white\",\"ticks\":\"\"}},\"coloraxis\":{\"colorbar\":{\"outlinewidth\":0,\"ticks\":\"\"}},\"colorscale\":{\"sequential\":[[0.0,\"#0d0887\"],[0.1111111111111111,\"#46039f\"],[0.2222222222222222,\"#7201a8\"],[0.3333333333333333,\"#9c179e\"],[0.4444444444444444,\"#bd3786\"],[0.5555555555555556,\"#d8576b\"],[0.6666666666666666,\"#ed7953\"],[0.7777777777777778,\"#fb9f3a\"],[0.8888888888888888,\"#fdca26\"],[1.0,\"#f0f921\"]],\"sequentialminus\":[[0.0,\"#0d0887\"],[0.1111111111111111,\"#46039f\"],[0.2222222222222222,\"#7201a8\"],[0.3333333333333333,\"#9c179e\"],[0.4444444444444444,\"#bd3786\"],[0.5555555555555556,\"#d8576b\"],[0.6666666666666666,\"#ed7953\"],[0.7777777777777778,\"#fb9f3a\"],[0.8888888888888888,\"#fdca26\"],[1.0,\"#f0f921\"]],\"diverging\":[[0,\"#8e0152\"],[0.1,\"#c51b7d\"],[0.2,\"#de77ae\"],[0.3,\"#f1b6da\"],[0.4,\"#fde0ef\"],[0.5,\"#f7f7f7\"],[0.6,\"#e6f5d0\"],[0.7,\"#b8e186\"],[0.8,\"#7fbc41\"],[0.9,\"#4d9221\"],[1,\"#276419\"]]},\"xaxis\":{\"gridcolor\":\"white\",\"linecolor\":\"white\",\"ticks\":\"\",\"title\":{\"standoff\":15},\"zerolinecolor\":\"white\",\"automargin\":true,\"zerolinewidth\":2},\"yaxis\":{\"gridcolor\":\"white\",\"linecolor\":\"white\",\"ticks\":\"\",\"title\":{\"standoff\":15},\"zerolinecolor\":\"white\",\"automargin\":true,\"zerolinewidth\":2},\"scene\":{\"xaxis\":{\"backgroundcolor\":\"#E5ECF6\",\"gridcolor\":\"white\",\"linecolor\":\"white\",\"showbackground\":true,\"ticks\":\"\",\"zerolinecolor\":\"white\",\"gridwidth\":2},\"yaxis\":{\"backgroundcolor\":\"#E5ECF6\",\"gridcolor\":\"white\",\"linecolor\":\"white\",\"showbackground\":true,\"ticks\":\"\",\"zerolinecolor\":\"white\",\"gridwidth\":2},\"zaxis\":{\"backgroundcolor\":\"#E5ECF6\",\"gridcolor\":\"white\",\"linecolor\":\"white\",\"showbackground\":true,\"ticks\":\"\",\"zerolinecolor\":\"white\",\"gridwidth\":2}},\"shapedefaults\":{\"line\":{\"color\":\"#2a3f5f\"}},\"annotationdefaults\":{\"arrowcolor\":\"#2a3f5f\",\"arrowhead\":0,\"arrowwidth\":1},\"geo\":{\"bgcolor\":\"white\",\"landcolor\":\"#E5ECF6\",\"subunitcolor\":\"white\",\"showland\":true,\"showlakes\":true,\"lakecolor\":\"white\"},\"title\":{\"x\":0.05},\"mapbox\":{\"style\":\"light\"}}},\"xaxis\":{\"anchor\":\"y\",\"domain\":[0.0,1.0],\"title\":{\"text\":\"TOTAL\"}},\"yaxis\":{\"anchor\":\"x\",\"domain\":[0.0,1.0],\"title\":{\"text\":\"UF\"}},\"legend\":{\"tracegroupgap\":0},\"title\":{\"text\":\"Total de portes de arma por estado\"},\"barmode\":\"relative\",\"height\":800},                        {\"responsive\": true}                    ).then(function(){\n",
       "                            \n",
       "var gd = document.getElementById('b4cb1aa4-c5e5-443c-b308-d440a6514485');\n",
       "var x = new MutationObserver(function (mutations, observer) {{\n",
       "        var display = window.getComputedStyle(gd).display;\n",
       "        if (!display || display === 'none') {{\n",
       "            console.log([gd, 'removed!']);\n",
       "            Plotly.purge(gd);\n",
       "            observer.disconnect();\n",
       "        }}\n",
       "}});\n",
       "\n",
       "// Listen for the removal of the full notebook cells\n",
       "var notebookContainer = gd.closest('#notebook-container');\n",
       "if (notebookContainer) {{\n",
       "    x.observe(notebookContainer, {childList: true});\n",
       "}}\n",
       "\n",
       "// Listen for the clearing of the current output cell\n",
       "var outputEl = gd.closest('.output');\n",
       "if (outputEl) {{\n",
       "    x.observe(outputEl, {childList: true});\n",
       "}}\n",
       "\n",
       "                        })                };                });            </script>        </div>"
      ]
     },
     "metadata": {},
     "output_type": "display_data"
    }
   ],
   "source": [
    "fig = px.bar(df_porte, x='TOTAL', y='UF', \n",
    "             title='Total de portes de arma por estado', \n",
    "             height=800,\n",
    "             color_discrete_sequence=px.colors.sequential.Viridis)\n",
    "fig.show()"
   ]
  },
  {
   "cell_type": "code",
   "execution_count": 114,
   "id": "6a3520f5",
   "metadata": {},
   "outputs": [
    {
     "data": {
      "application/vnd.plotly.v1+json": {
       "config": {
        "plotlyServerURL": "https://plot.ly"
       },
       "data": [
        {
         "alignmentgroup": "True",
         "hovertemplate": "TOTAL=%{x}<br>CATEGORIA=%{y}<extra></extra>",
         "legendgroup": "",
         "marker": {
          "color": "#313131",
          "pattern": {
           "shape": ""
          }
         },
         "name": "",
         "offsetgroup": "",
         "orientation": "h",
         "showlegend": false,
         "textposition": "auto",
         "type": "bar",
         "x": [
          15,
          3,
          1,
          12,
          1,
          1,
          55,
          1,
          1,
          9,
          2,
          1,
          2,
          30,
          19,
          60,
          3,
          5,
          18,
          2,
          19,
          5,
          7,
          1,
          44,
          8,
          22,
          1,
          19,
          9,
          3,
          10,
          2,
          38,
          17,
          7,
          1,
          1,
          4,
          1,
          12,
          1,
          40,
          5,
          6,
          12,
          12,
          3,
          68,
          29,
          3,
          131,
          5,
          7,
          32,
          1,
          1,
          32,
          4,
          1,
          1,
          16,
          4,
          1,
          28,
          3,
          22,
          1,
          22,
          56,
          3,
          41,
          4,
          2,
          59,
          1,
          27,
          25,
          1,
          68,
          1,
          2,
          11,
          3,
          135,
          4,
          32,
          3,
          14,
          2,
          35,
          13,
          1,
          151,
          1,
          5,
          3,
          14,
          11,
          1,
          1,
          1,
          9,
          2,
          1,
          65,
          41,
          3,
          12,
          112,
          3,
          5,
          1,
          37,
          91,
          6,
          7,
          67,
          8,
          18,
          2,
          2,
          5,
          36,
          490,
          13,
          88,
          8,
          2,
          10,
          1,
          25,
          6,
          1,
          20,
          1,
          3,
          1,
          2,
          1,
          2,
          2,
          6,
          8,
          1,
          30,
          87,
          38,
          8,
          134,
          1,
          38,
          2,
          6,
          9,
          17,
          1,
          22,
          17,
          7,
          5,
          11,
          8,
          1,
          10,
          1,
          16,
          5,
          1,
          3,
          1,
          1,
          1,
          6,
          24,
          1,
          31,
          3,
          4,
          5,
          3,
          1,
          1,
          10,
          1,
          3,
          123,
          14,
          5,
          18,
          24,
          1,
          4,
          6,
          3,
          38,
          8,
          581,
          4,
          2,
          2,
          4,
          11,
          33,
          8,
          1,
          27,
          8,
          4,
          3,
          36,
          36,
          5,
          5,
          1,
          27,
          1,
          7,
          1,
          4,
          1,
          2,
          95,
          6,
          3,
          10,
          1,
          26,
          6,
          3,
          4,
          2,
          1,
          14,
          1,
          1,
          1,
          5,
          2,
          180,
          146,
          1,
          42,
          1,
          7,
          15,
          10,
          2,
          91,
          5,
          7,
          6,
          25,
          7,
          23,
          1,
          335,
          4,
          6,
          2,
          5,
          4,
          5,
          26,
          2,
          2,
          4,
          9,
          2,
          7,
          6,
          13,
          1,
          40,
          46,
          2,
          4,
          1,
          39,
          2,
          10,
          1,
          22,
          12,
          2,
          1,
          1,
          2,
          5,
          123,
          26,
          2,
          3,
          18,
          30,
          3,
          1,
          6,
          9,
          1,
          3,
          2,
          13,
          7,
          2,
          68,
          7,
          1,
          52,
          1,
          2,
          2,
          3,
          3,
          1,
          5,
          141,
          4,
          7,
          8,
          1,
          17,
          1,
          2,
          2,
          17,
          1,
          27,
          236,
          27,
          1,
          1,
          8,
          1,
          11,
          1,
          5,
          2,
          12,
          1,
          14,
          6,
          4,
          36,
          1,
          5,
          29,
          26,
          37,
          17,
          34,
          1,
          17,
          2,
          23,
          16,
          1,
          24,
          1,
          5,
          80,
          22,
          3,
          6,
          11,
          4,
          36,
          4,
          2,
          16,
          1,
          2,
          1,
          6,
          6,
          1,
          11,
          3,
          1,
          2,
          22,
          3,
          2,
          2,
          3,
          3,
          2,
          105,
          8,
          4,
          51,
          3,
          9,
          1,
          56,
          2,
          1,
          1,
          10,
          1,
          541,
          6,
          1,
          20,
          5,
          16,
          1,
          2,
          2,
          24,
          4,
          39,
          4,
          53,
          94,
          11,
          80,
          19,
          62,
          1,
          1,
          15,
          24,
          2,
          1,
          5,
          1,
          13,
          2,
          23,
          5,
          48,
          4,
          2,
          57,
          5,
          1,
          3,
          1,
          9,
          1,
          22,
          1,
          5,
          5,
          2,
          1,
          1,
          21,
          7,
          8,
          3,
          3,
          2,
          1,
          1,
          96,
          8,
          5,
          30,
          1,
          13,
          2,
          29,
          160,
          8,
          1,
          1,
          2,
          2,
          4,
          12,
          1,
          1,
          8,
          2,
          1,
          8,
          1,
          6,
          1,
          6,
          7,
          7,
          38,
          29,
          4,
          41,
          2,
          32,
          14,
          7,
          2,
          2,
          74,
          8,
          9,
          2,
          1,
          1,
          49,
          7,
          2,
          64,
          8,
          2,
          30,
          2,
          1,
          3,
          13,
          3,
          22,
          2,
          26,
          1,
          44,
          1,
          2,
          1,
          38,
          86,
          4,
          4,
          4,
          4,
          16,
          5,
          4,
          1,
          14,
          34,
          303,
          1,
          13,
          9,
          4,
          5,
          7,
          5,
          2,
          17,
          4,
          3,
          14,
          2,
          30,
          59,
          27,
          46,
          9,
          9,
          29,
          5,
          2,
          4,
          2,
          1,
          177,
          2,
          16,
          4,
          4,
          15,
          2,
          46,
          8,
          5,
          3,
          11,
          1,
          1,
          1,
          1,
          18,
          1,
          4,
          18,
          1,
          31,
          4,
          1,
          87,
          5,
          4,
          14,
          11,
          1,
          1,
          8,
          18,
          1,
          208,
          3,
          2,
          3,
          10,
          5,
          19,
          3,
          1,
          110,
          1,
          1,
          30,
          2,
          50,
          23,
          29,
          4,
          54,
          3,
          34,
          3,
          34,
          6,
          1,
          1,
          1,
          9,
          2,
          2,
          8,
          7,
          13,
          1,
          40,
          1,
          3,
          7,
          2,
          2,
          7,
          14,
          4,
          1,
          1,
          9,
          1,
          2,
          4,
          2,
          2,
          1,
          134,
          16,
          12,
          22,
          2,
          4,
          3,
          17,
          315,
          1,
          6,
          3,
          9,
          3,
          24,
          1,
          1,
          3,
          1,
          1,
          6,
          3,
          1,
          3,
          3,
          58,
          59,
          25,
          6,
          20,
          2,
          1,
          1,
          16,
          92,
          5,
          2,
          19,
          1,
          2,
          21,
          4,
          14,
          17,
          1,
          5,
          7,
          1,
          1,
          16,
          2,
          23,
          10,
          1,
          2,
          5,
          1,
          4,
          4,
          1,
          83,
          10,
          7,
          1,
          2,
          11,
          2,
          61,
          27,
          1,
          286,
          1,
          10,
          56,
          1,
          1,
          30,
          5,
          1,
          24,
          1,
          10,
          19,
          2,
          2,
          157,
          46,
          60,
          22,
          2,
          13,
          44,
          2,
          1,
          3,
          19,
          35,
          4,
          2,
          32,
          1,
          39,
          2,
          16,
          36,
          11,
          3,
          4,
          1,
          5,
          2,
          8,
          5,
          15,
          4,
          18,
          5,
          6,
          7,
          2,
          78,
          4,
          8,
          5,
          5,
          5,
          10,
          1,
          19,
          44,
          2,
          435,
          4,
          2,
          1,
          4
         ],
         "xaxis": "x",
         "y": [
          "Caçador de Subsistência",
          "Defesa Pessoal",
          "Defesa Pessoal",
          "Defesa Pessoal",
          "Defesa Pessoal",
          "Defesa Pessoal",
          "Funcional",
          "Caçador de Subsistência",
          "Defesa Pessoal",
          "Funcional",
          "Defesa Pessoal",
          "Defesa Pessoal",
          "Defesa Pessoal",
          "Defesa Pessoal",
          "Defesa Pessoal",
          "Defesa Pessoal",
          "Defesa Pessoal",
          "Funcional",
          "Defesa Pessoal",
          "Defesa Pessoal",
          "Funcional",
          "Defesa Pessoal",
          "Defesa Pessoal",
          "Funcional",
          "Defesa Pessoal",
          "Defesa Pessoal",
          "Defesa Pessoal",
          "Defesa Pessoal",
          "Caçador de Subsistência",
          "Defesa Pessoal",
          "Defesa Pessoal",
          "Defesa Pessoal",
          "Defesa Pessoal",
          "Funcional",
          "Defesa Pessoal",
          "Defesa Pessoal",
          "Defesa Pessoal",
          "Funcional",
          "Defesa Pessoal",
          "Defesa Pessoal",
          "Defesa Pessoal",
          "Funcional",
          "Defesa Pessoal",
          "Defesa Pessoal",
          "Funcional",
          "Defesa Pessoal",
          "Funcional",
          "Defesa Pessoal",
          "Funcional",
          "Defesa Pessoal",
          "Defesa Pessoal",
          "Funcional",
          "Caçador de Subsistência",
          "Defesa Pessoal",
          "Defesa Pessoal",
          "Defesa Pessoal",
          "Defesa Pessoal",
          "Funcional",
          "Funcional",
          "Defesa Pessoal",
          "Defesa Pessoal",
          "Defesa Pessoal",
          "Defesa Pessoal",
          "Defesa Pessoal",
          "Funcional",
          "Defesa Pessoal",
          "Funcional",
          "Caçador de Subsistência",
          "Defesa Pessoal",
          "Defesa Pessoal",
          "Funcional",
          "Funcional",
          "Segurança Dignitario",
          "Caçador de Subsistência",
          "Defesa Pessoal",
          "Defesa Pessoal",
          "Funcional",
          "Defesa Pessoal",
          "Defesa Pessoal",
          "Funcional",
          "Funcional",
          "Defesa Pessoal",
          "Funcional",
          "Defesa Pessoal",
          "Funcional",
          "Funcional",
          "Defesa Pessoal",
          "Caçador de Subsistência",
          "Defesa Pessoal",
          "Defesa Pessoal",
          "Caçador de Subsistência",
          "Defesa Pessoal",
          "Defesa Pessoal",
          "Funcional",
          "Caçador de Subsistência",
          "Defesa Pessoal",
          "Defesa Pessoal",
          "Funcional",
          "Funcional",
          "Caçador de Subsistência",
          "Funcional",
          "Caçador de Subsistência",
          "Defesa Pessoal",
          "Defesa Pessoal",
          "Defesa Pessoal",
          "Funcional",
          "Defesa Pessoal",
          "Defesa Pessoal",
          "Segurança Dignitario",
          "Funcional",
          "Caçador de Subsistência",
          "Defesa Pessoal",
          "Defesa Pessoal",
          "Funcional",
          "Defesa Pessoal",
          "Defesa Pessoal",
          "Defesa Pessoal",
          "Funcional",
          "Funcional",
          "Defesa Pessoal",
          "Caçador de Subsistência",
          "Defesa Pessoal",
          "Caçador de Subsistência",
          "Defesa Pessoal",
          "Funcional",
          "Funcional",
          "Funcional",
          "Funcional",
          "Caçador de Subsistência",
          "Defesa Pessoal",
          "Defesa Pessoal",
          "Funcional",
          "Defesa Pessoal",
          "Defesa Pessoal",
          "Funcional",
          "Caçador de Subsistência",
          "Defesa Pessoal",
          "Defesa Pessoal",
          "Defesa Pessoal",
          "Defesa Pessoal",
          "Defesa Pessoal",
          "Defesa Pessoal",
          "Defesa Pessoal",
          "Funcional",
          "Funcional",
          "Defesa Pessoal",
          "Defesa Pessoal",
          "Funcional",
          "Funcional",
          "Segurança Dignitario",
          "Caçador de Subsistência",
          "Defesa Pessoal",
          "Defesa Pessoal",
          "Funcional",
          "Funcional",
          "Defesa Pessoal",
          "Defesa Pessoal",
          "Funcional",
          "Funcional",
          "Defesa Pessoal",
          "Funcional",
          "Defesa Pessoal",
          "Defesa Pessoal",
          "Defesa Pessoal",
          "Caçador de Subsistência",
          "Defesa Pessoal",
          "Funcional",
          "Defesa Pessoal",
          "Funcional",
          "Defesa Pessoal",
          "Defesa Pessoal",
          "Defesa Pessoal",
          "Defesa Pessoal",
          "Defesa Pessoal",
          "Funcional",
          "Funcional",
          "Defesa Pessoal",
          "Defesa Pessoal",
          "Funcional",
          "Segurança Dignitario",
          "Defesa Pessoal",
          "Defesa Pessoal",
          "Funcional",
          "Defesa Pessoal",
          "Defesa Pessoal",
          "Funcional",
          "Defesa Pessoal",
          "Defesa Pessoal",
          "Defesa Pessoal",
          "Funcional",
          "Defesa Pessoal",
          "Defesa Pessoal",
          "Funcional",
          "Defesa Pessoal",
          "Funcional",
          "Defesa Pessoal",
          "Defesa Pessoal",
          "Funcional",
          "Segurança Dignitario",
          "Defesa Pessoal",
          "Caçador de Subsistência",
          "Defesa Pessoal",
          "Defesa Pessoal",
          "Funcional",
          "Defesa Pessoal",
          "Defesa Pessoal",
          "Funcional",
          "Funcional",
          "Segurança Dignitario",
          "Defesa Pessoal",
          "Defesa Pessoal",
          "Defesa Pessoal",
          "Funcional",
          "Funcional",
          "Segurança Dignitario",
          "Defesa Pessoal",
          "Defesa Pessoal",
          "Defesa Pessoal",
          "Funcional",
          "Defesa Pessoal",
          "Funcional",
          "Defesa Pessoal",
          "Funcional",
          "Defesa Pessoal",
          "Funcional",
          "Defesa Pessoal",
          "Defesa Pessoal",
          "Caçador de Subsistência",
          "Defesa Pessoal",
          "Funcional",
          "Funcional",
          "Defesa Pessoal",
          "Funcional",
          "Defesa Pessoal",
          "Defesa Pessoal",
          "Defesa Pessoal",
          "Defesa Pessoal",
          "Defesa Pessoal",
          "Defesa Pessoal",
          "Funcional",
          "Funcional",
          "Caçador de Subsistência",
          "Defesa Pessoal",
          "Defesa Pessoal",
          "Funcional",
          "Funcional",
          "Defesa Pessoal",
          "Segurança Dignitario",
          "Defesa Pessoal",
          "Defesa Pessoal",
          "Defesa Pessoal",
          "Funcional",
          "Defesa Pessoal",
          "Defesa Pessoal",
          "Defesa Pessoal",
          "Defesa Pessoal",
          "Funcional",
          "Funcional",
          "Segurança Dignitario",
          "Defesa Pessoal",
          "Funcional",
          "Caçador de Subsistência",
          "Defesa Pessoal",
          "Defesa Pessoal",
          "Defesa Pessoal",
          "Defesa Pessoal",
          "Funcional",
          "Defesa Pessoal",
          "Defesa Pessoal",
          "Funcional",
          "Defesa Pessoal",
          "Funcional",
          "Caçador de Subsistência",
          "Defesa Pessoal",
          "Defesa Pessoal",
          "Funcional",
          "Segurança Dignitario",
          "Caçador de Subsistência",
          "Defesa Pessoal",
          "Defesa Pessoal",
          "Funcional",
          "Caçador de Subsistência",
          "Defesa Pessoal",
          "Funcional",
          "Funcional",
          "Caçador de Subsistência",
          "Defesa Pessoal",
          "Funcional",
          "Defesa Pessoal",
          "Funcional",
          "Defesa Pessoal",
          "Defesa Pessoal",
          "Caçador de Subsistência",
          "Defesa Pessoal",
          "Caçador de Subsistência",
          "Defesa Pessoal",
          "Defesa Pessoal",
          "Funcional",
          "Defesa Pessoal",
          "Defesa Pessoal",
          "Defesa Pessoal",
          "Defesa Pessoal",
          "Defesa Pessoal",
          "Defesa Pessoal",
          "Defesa Pessoal",
          "Funcional",
          "Funcional",
          "Caçador de Subsistência",
          "Defesa Pessoal",
          "Defesa Pessoal",
          "Funcional",
          "Defesa Pessoal",
          "Funcional",
          "Caçador de Subsistência",
          "Defesa Pessoal",
          "Funcional",
          "Defesa Pessoal",
          "Defesa Pessoal",
          "Defesa Pessoal",
          "Funcional",
          "Funcional",
          "Defesa Pessoal",
          "Funcional",
          "Funcional",
          "Defesa Pessoal",
          "Funcional",
          "Caçador de Subsistência",
          "Defesa Pessoal",
          "Funcional",
          "Funcional",
          "Caçador de Subsistência",
          "Defesa Pessoal",
          "Caçador de Subsistência",
          "Defesa Pessoal",
          "Defesa Pessoal",
          "Defesa Pessoal",
          "Funcional",
          "Defesa Pessoal",
          "Defesa Pessoal",
          "Defesa Pessoal",
          "Funcional",
          "Funcional",
          "Defesa Pessoal",
          "Funcional",
          "Funcional",
          "Caçador de Subsistência",
          "Defesa Pessoal",
          "Defesa Pessoal",
          "Funcional",
          "Segurança Dignitario",
          "Defesa Pessoal",
          "Defesa Pessoal",
          "Funcional",
          "Funcional",
          "Defesa Pessoal",
          "Funcional",
          "Defesa Pessoal",
          "Funcional",
          "Caçador de Subsistência",
          "Defesa Pessoal",
          "Funcional",
          "Defesa Pessoal",
          "Funcional",
          "Segurança Dignitario",
          "Defesa Pessoal",
          "Funcional",
          "Caçador de Subsistência",
          "Defesa Pessoal",
          "Defesa Pessoal",
          "Funcional",
          "Caçador de Subsistência",
          "Defesa Pessoal",
          "Caçador de Subsistência",
          "Defesa Pessoal",
          "Funcional",
          "Caçador de Subsistência",
          "Defesa Pessoal",
          "Defesa Pessoal",
          "Defesa Pessoal",
          "Caçador de Subsistência",
          "Defesa Pessoal",
          "Defesa Pessoal",
          "Funcional",
          "Segurança Dignitario",
          "Defesa Pessoal",
          "Caçador de Subsistência",
          "Defesa Pessoal",
          "Defesa Pessoal",
          "Defesa Pessoal",
          "Defesa Pessoal",
          "Funcional",
          "Caçador de Subsistência",
          "Defesa Pessoal",
          "Defesa Pessoal",
          "Funcional",
          "Funcional",
          "Caçador de Subsistência",
          "Defesa Pessoal",
          "Defesa Pessoal",
          "Defesa Pessoal",
          "Funcional",
          "Funcional",
          "Funcional",
          "Caçador de Subsistência",
          "Defesa Pessoal",
          "Defesa Pessoal",
          "Defesa Pessoal",
          "Funcional",
          "Defesa Pessoal",
          "Funcional",
          "Defesa Pessoal",
          "Funcional",
          "Caçador de Subsistência",
          "Defesa Pessoal",
          "Defesa Pessoal",
          "Funcional",
          "Funcional",
          "Segurança Dignitario",
          "Defesa Pessoal",
          "Defesa Pessoal",
          "Caçador de Subsistência",
          "Defesa Pessoal",
          "Funcional",
          "Defesa Pessoal",
          "Caçador de Subsistência",
          "Funcional",
          "Funcional",
          "Defesa Pessoal",
          "Defesa Pessoal",
          "Defesa Pessoal",
          "Defesa Pessoal",
          "Caçador de Subsistência",
          "Defesa Pessoal",
          "Defesa Pessoal",
          "Funcional",
          "Defesa Pessoal",
          "Defesa Pessoal",
          "Funcional",
          "Caçador de Subsistência",
          "Defesa Pessoal",
          "Defesa Pessoal",
          "Funcional",
          "Defesa Pessoal",
          "Defesa Pessoal",
          "Defesa Pessoal",
          "Funcional",
          "Funcional",
          "Caçador de Subsistência",
          "Defesa Pessoal",
          "Funcional",
          "Segurança Dignitario",
          "Defesa Pessoal",
          "Defesa Pessoal",
          "Caçador de Subsistência",
          "Defesa Pessoal",
          "Defesa Pessoal",
          "Defesa Pessoal",
          "Defesa Pessoal",
          "Defesa Pessoal",
          "Funcional",
          "Segurança Dignitario",
          "Defesa Pessoal",
          "Defesa Pessoal",
          "Defesa Pessoal",
          "Funcional",
          "Funcional",
          "Caçador de Subsistência",
          "Defesa Pessoal",
          "Funcional",
          "Funcional",
          "Caçador de Subsistência",
          "Defesa Pessoal",
          "Defesa Pessoal",
          "Defesa Pessoal",
          "Defesa Pessoal",
          "Defesa Pessoal",
          "Defesa Pessoal",
          "Funcional",
          "Funcional",
          "Defesa Pessoal",
          "Defesa Pessoal",
          "Funcional",
          "Defesa Pessoal",
          "Funcional",
          "Defesa Pessoal",
          "Defesa Pessoal",
          "Segurança Dignitario",
          "Defesa Pessoal",
          "Defesa Pessoal",
          "Funcional",
          "Defesa Pessoal",
          "Funcional",
          "Defesa Pessoal",
          "Defesa Pessoal",
          "Funcional",
          "Defesa Pessoal",
          "Defesa Pessoal",
          "Defesa Pessoal",
          "Funcional",
          "Funcional",
          "Caçador de Subsistência",
          "Defesa Pessoal",
          "Funcional",
          "Funcional",
          "Defesa Pessoal",
          "Defesa Pessoal",
          "Funcional",
          "Funcional",
          "Caçador de Subsistência",
          "Defesa Pessoal",
          "Defesa Pessoal",
          "Defesa Pessoal",
          "Funcional",
          "Funcional",
          "Defesa Pessoal",
          "Defesa Pessoal",
          "Funcional",
          "Defesa Pessoal",
          "Defesa Pessoal",
          "Defesa Pessoal",
          "Funcional",
          "Defesa Pessoal",
          "Defesa Pessoal",
          "Defesa Pessoal",
          "Funcional",
          "Funcional",
          "Defesa Pessoal",
          "Funcional",
          "Defesa Pessoal",
          "Defesa Pessoal",
          "Funcional",
          "Defesa Pessoal",
          "Funcional",
          "Defesa Pessoal",
          "Funcional",
          "Caçador de Subsistência",
          "Defesa Pessoal",
          "Defesa Pessoal",
          "Funcional",
          "Funcional",
          "Defesa Pessoal",
          "Funcional",
          "Defesa Pessoal",
          "Defesa Pessoal",
          "Funcional",
          "Caçador de Subsistência",
          "Defesa Pessoal",
          "Defesa Pessoal",
          "Funcional",
          "Defesa Pessoal",
          "Funcional",
          "Defesa Pessoal",
          "Funcional",
          "Funcional",
          "Defesa Pessoal",
          "Funcional",
          "Defesa Pessoal",
          "Defesa Pessoal",
          "Funcional",
          "Funcional",
          "Defesa Pessoal",
          "Funcional",
          "Funcional",
          "Defesa Pessoal",
          "Defesa Pessoal",
          "Caçador de Subsistência",
          "Defesa Pessoal",
          "Defesa Pessoal",
          "Funcional",
          "Defesa Pessoal",
          "Funcional",
          "Defesa Pessoal",
          "Defesa Pessoal",
          "Funcional",
          "Defesa Pessoal",
          "Defesa Pessoal",
          "Funcional",
          "Defesa Pessoal",
          "Defesa Pessoal",
          "Funcional",
          "Defesa Pessoal",
          "Funcional",
          "Defesa Pessoal",
          "Defesa Pessoal",
          "Defesa Pessoal",
          "Funcional",
          "Defesa Pessoal",
          "Defesa Pessoal",
          "Defesa Pessoal",
          "Funcional",
          "Defesa Pessoal",
          "Defesa Pessoal",
          "Funcional",
          "Funcional",
          "Segurança Dignitario",
          "Funcional",
          "Caçador de Subsistência",
          "Defesa Pessoal",
          "Defesa Pessoal",
          "Defesa Pessoal",
          "Defesa Pessoal",
          "Funcional",
          "Defesa Pessoal",
          "Defesa Pessoal",
          "Funcional",
          "Defesa Pessoal",
          "Funcional",
          "Defesa Pessoal",
          "Defesa Pessoal",
          "Funcional",
          "Defesa Pessoal",
          "Defesa Pessoal",
          "Defesa Pessoal",
          "Defesa Pessoal",
          "Funcional",
          "Defesa Pessoal",
          "Defesa Pessoal",
          "Defesa Pessoal",
          "Funcional",
          "Defesa Pessoal",
          "Defesa Pessoal",
          "Caçador de Subsistência",
          "Defesa Pessoal",
          "Caçador de Subsistência",
          "Defesa Pessoal",
          "Defesa Pessoal",
          "Funcional",
          "Funcional",
          "Defesa Pessoal",
          "Defesa Pessoal",
          "Defesa Pessoal",
          "Defesa Pessoal",
          "Funcional",
          "Defesa Pessoal",
          "Defesa Pessoal",
          "Defesa Pessoal",
          "Funcional",
          "Defesa Pessoal",
          "Defesa Pessoal",
          "Funcional",
          "Funcional",
          "Defesa Pessoal",
          "Funcional",
          "Defesa Pessoal",
          "Defesa Pessoal",
          "Defesa Pessoal",
          "Defesa Pessoal",
          "Funcional",
          "Caçador de Subsistência",
          "Defesa Pessoal",
          "Funcional",
          "Defesa Pessoal",
          "Funcional",
          "Funcional",
          "Funcional",
          "Defesa Pessoal",
          "Caçador de Subsistência",
          "Defesa Pessoal",
          "Defesa Pessoal",
          "Defesa Pessoal",
          "Caçador de Subsistência",
          "Defesa Pessoal",
          "Segurança Dignitario",
          "Defesa Pessoal",
          "Funcional",
          "Defesa Pessoal",
          "Defesa Pessoal",
          "Defesa Pessoal",
          "Funcional",
          "Defesa Pessoal",
          "Defesa Pessoal",
          "Funcional",
          "Segurança Dignitario",
          "Defesa Pessoal",
          "Defesa Pessoal",
          "Funcional",
          "Caçador de Subsistência",
          "Defesa Pessoal",
          "Funcional",
          "Defesa Pessoal",
          "Defesa Pessoal",
          "Defesa Pessoal",
          "Defesa Pessoal",
          "Caçador de Subsistência",
          "Defesa Pessoal",
          "Funcional",
          "Caçador de Subsistência",
          "Defesa Pessoal",
          "Defesa Pessoal",
          "Funcional",
          "Defesa Pessoal",
          "Defesa Pessoal",
          "Defesa Pessoal",
          "Defesa Pessoal",
          "Defesa Pessoal",
          "Funcional",
          "Defesa Pessoal",
          "Funcional",
          "Funcional",
          "Defesa Pessoal",
          "Defesa Pessoal",
          "Defesa Pessoal",
          "Funcional",
          "Defesa Pessoal",
          "Defesa Pessoal",
          "Defesa Pessoal",
          "Defesa Pessoal",
          "Funcional",
          "Funcional",
          "Defesa Pessoal",
          "Defesa Pessoal",
          "Funcional",
          "Defesa Pessoal",
          "Defesa Pessoal",
          "Funcional",
          "Funcional",
          "Segurança Dignitario",
          "Funcional",
          "Caçador de Subsistência",
          "Defesa Pessoal",
          "Defesa Pessoal",
          "Defesa Pessoal",
          "Defesa Pessoal",
          "Funcional",
          "Defesa Pessoal",
          "Funcional",
          "Funcional",
          "Defesa Pessoal",
          "Defesa Pessoal",
          "Funcional",
          "Defesa Pessoal",
          "Defesa Pessoal",
          "Funcional",
          "Segurança Dignitario",
          "Segurança Dignitario",
          "Defesa Pessoal",
          "Defesa Pessoal",
          "Defesa Pessoal",
          "Funcional",
          "Defesa Pessoal",
          "Funcional",
          "Defesa Pessoal",
          "Defesa Pessoal",
          "Funcional",
          "Funcional",
          "Defesa Pessoal",
          "Defesa Pessoal",
          "Defesa Pessoal",
          "Caçador de Subsistência",
          "Defesa Pessoal",
          "Defesa Pessoal",
          "Defesa Pessoal",
          "Defesa Pessoal",
          "Segurança Dignitario",
          "Defesa Pessoal",
          "Defesa Pessoal",
          "Defesa Pessoal",
          "Funcional",
          "Defesa Pessoal",
          "Segurança Dignitario",
          "Defesa Pessoal",
          "Funcional",
          "Defesa Pessoal",
          "Defesa Pessoal",
          "Defesa Pessoal",
          "Defesa Pessoal",
          "Defesa Pessoal",
          "Funcional",
          "Caçador de Subsistência",
          "Defesa Pessoal",
          "Funcional",
          "Defesa Pessoal",
          "Funcional",
          "Defesa Pessoal",
          "Defesa Pessoal",
          "Funcional",
          "Funcional",
          "Segurança Dignitario",
          "Defesa Pessoal",
          "Funcional"
         ],
         "yaxis": "y"
        }
       ],
       "layout": {
        "barmode": "relative",
        "height": 400,
        "legend": {
         "tracegroupgap": 0
        },
        "template": {
         "data": {
          "bar": [
           {
            "error_x": {
             "color": "#2a3f5f"
            },
            "error_y": {
             "color": "#2a3f5f"
            },
            "marker": {
             "line": {
              "color": "#E5ECF6",
              "width": 0.5
             },
             "pattern": {
              "fillmode": "overlay",
              "size": 10,
              "solidity": 0.2
             }
            },
            "type": "bar"
           }
          ],
          "barpolar": [
           {
            "marker": {
             "line": {
              "color": "#E5ECF6",
              "width": 0.5
             },
             "pattern": {
              "fillmode": "overlay",
              "size": 10,
              "solidity": 0.2
             }
            },
            "type": "barpolar"
           }
          ],
          "carpet": [
           {
            "aaxis": {
             "endlinecolor": "#2a3f5f",
             "gridcolor": "white",
             "linecolor": "white",
             "minorgridcolor": "white",
             "startlinecolor": "#2a3f5f"
            },
            "baxis": {
             "endlinecolor": "#2a3f5f",
             "gridcolor": "white",
             "linecolor": "white",
             "minorgridcolor": "white",
             "startlinecolor": "#2a3f5f"
            },
            "type": "carpet"
           }
          ],
          "choropleth": [
           {
            "colorbar": {
             "outlinewidth": 0,
             "ticks": ""
            },
            "type": "choropleth"
           }
          ],
          "contour": [
           {
            "colorbar": {
             "outlinewidth": 0,
             "ticks": ""
            },
            "colorscale": [
             [
              0,
              "#0d0887"
             ],
             [
              0.1111111111111111,
              "#46039f"
             ],
             [
              0.2222222222222222,
              "#7201a8"
             ],
             [
              0.3333333333333333,
              "#9c179e"
             ],
             [
              0.4444444444444444,
              "#bd3786"
             ],
             [
              0.5555555555555556,
              "#d8576b"
             ],
             [
              0.6666666666666666,
              "#ed7953"
             ],
             [
              0.7777777777777778,
              "#fb9f3a"
             ],
             [
              0.8888888888888888,
              "#fdca26"
             ],
             [
              1,
              "#f0f921"
             ]
            ],
            "type": "contour"
           }
          ],
          "contourcarpet": [
           {
            "colorbar": {
             "outlinewidth": 0,
             "ticks": ""
            },
            "type": "contourcarpet"
           }
          ],
          "heatmap": [
           {
            "colorbar": {
             "outlinewidth": 0,
             "ticks": ""
            },
            "colorscale": [
             [
              0,
              "#0d0887"
             ],
             [
              0.1111111111111111,
              "#46039f"
             ],
             [
              0.2222222222222222,
              "#7201a8"
             ],
             [
              0.3333333333333333,
              "#9c179e"
             ],
             [
              0.4444444444444444,
              "#bd3786"
             ],
             [
              0.5555555555555556,
              "#d8576b"
             ],
             [
              0.6666666666666666,
              "#ed7953"
             ],
             [
              0.7777777777777778,
              "#fb9f3a"
             ],
             [
              0.8888888888888888,
              "#fdca26"
             ],
             [
              1,
              "#f0f921"
             ]
            ],
            "type": "heatmap"
           }
          ],
          "heatmapgl": [
           {
            "colorbar": {
             "outlinewidth": 0,
             "ticks": ""
            },
            "colorscale": [
             [
              0,
              "#0d0887"
             ],
             [
              0.1111111111111111,
              "#46039f"
             ],
             [
              0.2222222222222222,
              "#7201a8"
             ],
             [
              0.3333333333333333,
              "#9c179e"
             ],
             [
              0.4444444444444444,
              "#bd3786"
             ],
             [
              0.5555555555555556,
              "#d8576b"
             ],
             [
              0.6666666666666666,
              "#ed7953"
             ],
             [
              0.7777777777777778,
              "#fb9f3a"
             ],
             [
              0.8888888888888888,
              "#fdca26"
             ],
             [
              1,
              "#f0f921"
             ]
            ],
            "type": "heatmapgl"
           }
          ],
          "histogram": [
           {
            "marker": {
             "pattern": {
              "fillmode": "overlay",
              "size": 10,
              "solidity": 0.2
             }
            },
            "type": "histogram"
           }
          ],
          "histogram2d": [
           {
            "colorbar": {
             "outlinewidth": 0,
             "ticks": ""
            },
            "colorscale": [
             [
              0,
              "#0d0887"
             ],
             [
              0.1111111111111111,
              "#46039f"
             ],
             [
              0.2222222222222222,
              "#7201a8"
             ],
             [
              0.3333333333333333,
              "#9c179e"
             ],
             [
              0.4444444444444444,
              "#bd3786"
             ],
             [
              0.5555555555555556,
              "#d8576b"
             ],
             [
              0.6666666666666666,
              "#ed7953"
             ],
             [
              0.7777777777777778,
              "#fb9f3a"
             ],
             [
              0.8888888888888888,
              "#fdca26"
             ],
             [
              1,
              "#f0f921"
             ]
            ],
            "type": "histogram2d"
           }
          ],
          "histogram2dcontour": [
           {
            "colorbar": {
             "outlinewidth": 0,
             "ticks": ""
            },
            "colorscale": [
             [
              0,
              "#0d0887"
             ],
             [
              0.1111111111111111,
              "#46039f"
             ],
             [
              0.2222222222222222,
              "#7201a8"
             ],
             [
              0.3333333333333333,
              "#9c179e"
             ],
             [
              0.4444444444444444,
              "#bd3786"
             ],
             [
              0.5555555555555556,
              "#d8576b"
             ],
             [
              0.6666666666666666,
              "#ed7953"
             ],
             [
              0.7777777777777778,
              "#fb9f3a"
             ],
             [
              0.8888888888888888,
              "#fdca26"
             ],
             [
              1,
              "#f0f921"
             ]
            ],
            "type": "histogram2dcontour"
           }
          ],
          "mesh3d": [
           {
            "colorbar": {
             "outlinewidth": 0,
             "ticks": ""
            },
            "type": "mesh3d"
           }
          ],
          "parcoords": [
           {
            "line": {
             "colorbar": {
              "outlinewidth": 0,
              "ticks": ""
             }
            },
            "type": "parcoords"
           }
          ],
          "pie": [
           {
            "automargin": true,
            "type": "pie"
           }
          ],
          "scatter": [
           {
            "fillpattern": {
             "fillmode": "overlay",
             "size": 10,
             "solidity": 0.2
            },
            "type": "scatter"
           }
          ],
          "scatter3d": [
           {
            "line": {
             "colorbar": {
              "outlinewidth": 0,
              "ticks": ""
             }
            },
            "marker": {
             "colorbar": {
              "outlinewidth": 0,
              "ticks": ""
             }
            },
            "type": "scatter3d"
           }
          ],
          "scattercarpet": [
           {
            "marker": {
             "colorbar": {
              "outlinewidth": 0,
              "ticks": ""
             }
            },
            "type": "scattercarpet"
           }
          ],
          "scattergeo": [
           {
            "marker": {
             "colorbar": {
              "outlinewidth": 0,
              "ticks": ""
             }
            },
            "type": "scattergeo"
           }
          ],
          "scattergl": [
           {
            "marker": {
             "colorbar": {
              "outlinewidth": 0,
              "ticks": ""
             }
            },
            "type": "scattergl"
           }
          ],
          "scattermapbox": [
           {
            "marker": {
             "colorbar": {
              "outlinewidth": 0,
              "ticks": ""
             }
            },
            "type": "scattermapbox"
           }
          ],
          "scatterpolar": [
           {
            "marker": {
             "colorbar": {
              "outlinewidth": 0,
              "ticks": ""
             }
            },
            "type": "scatterpolar"
           }
          ],
          "scatterpolargl": [
           {
            "marker": {
             "colorbar": {
              "outlinewidth": 0,
              "ticks": ""
             }
            },
            "type": "scatterpolargl"
           }
          ],
          "scatterternary": [
           {
            "marker": {
             "colorbar": {
              "outlinewidth": 0,
              "ticks": ""
             }
            },
            "type": "scatterternary"
           }
          ],
          "surface": [
           {
            "colorbar": {
             "outlinewidth": 0,
             "ticks": ""
            },
            "colorscale": [
             [
              0,
              "#0d0887"
             ],
             [
              0.1111111111111111,
              "#46039f"
             ],
             [
              0.2222222222222222,
              "#7201a8"
             ],
             [
              0.3333333333333333,
              "#9c179e"
             ],
             [
              0.4444444444444444,
              "#bd3786"
             ],
             [
              0.5555555555555556,
              "#d8576b"
             ],
             [
              0.6666666666666666,
              "#ed7953"
             ],
             [
              0.7777777777777778,
              "#fb9f3a"
             ],
             [
              0.8888888888888888,
              "#fdca26"
             ],
             [
              1,
              "#f0f921"
             ]
            ],
            "type": "surface"
           }
          ],
          "table": [
           {
            "cells": {
             "fill": {
              "color": "#EBF0F8"
             },
             "line": {
              "color": "white"
             }
            },
            "header": {
             "fill": {
              "color": "#C8D4E3"
             },
             "line": {
              "color": "white"
             }
            },
            "type": "table"
           }
          ]
         },
         "layout": {
          "annotationdefaults": {
           "arrowcolor": "#2a3f5f",
           "arrowhead": 0,
           "arrowwidth": 1
          },
          "autotypenumbers": "strict",
          "coloraxis": {
           "colorbar": {
            "outlinewidth": 0,
            "ticks": ""
           }
          },
          "colorscale": {
           "diverging": [
            [
             0,
             "#8e0152"
            ],
            [
             0.1,
             "#c51b7d"
            ],
            [
             0.2,
             "#de77ae"
            ],
            [
             0.3,
             "#f1b6da"
            ],
            [
             0.4,
             "#fde0ef"
            ],
            [
             0.5,
             "#f7f7f7"
            ],
            [
             0.6,
             "#e6f5d0"
            ],
            [
             0.7,
             "#b8e186"
            ],
            [
             0.8,
             "#7fbc41"
            ],
            [
             0.9,
             "#4d9221"
            ],
            [
             1,
             "#276419"
            ]
           ],
           "sequential": [
            [
             0,
             "#0d0887"
            ],
            [
             0.1111111111111111,
             "#46039f"
            ],
            [
             0.2222222222222222,
             "#7201a8"
            ],
            [
             0.3333333333333333,
             "#9c179e"
            ],
            [
             0.4444444444444444,
             "#bd3786"
            ],
            [
             0.5555555555555556,
             "#d8576b"
            ],
            [
             0.6666666666666666,
             "#ed7953"
            ],
            [
             0.7777777777777778,
             "#fb9f3a"
            ],
            [
             0.8888888888888888,
             "#fdca26"
            ],
            [
             1,
             "#f0f921"
            ]
           ],
           "sequentialminus": [
            [
             0,
             "#0d0887"
            ],
            [
             0.1111111111111111,
             "#46039f"
            ],
            [
             0.2222222222222222,
             "#7201a8"
            ],
            [
             0.3333333333333333,
             "#9c179e"
            ],
            [
             0.4444444444444444,
             "#bd3786"
            ],
            [
             0.5555555555555556,
             "#d8576b"
            ],
            [
             0.6666666666666666,
             "#ed7953"
            ],
            [
             0.7777777777777778,
             "#fb9f3a"
            ],
            [
             0.8888888888888888,
             "#fdca26"
            ],
            [
             1,
             "#f0f921"
            ]
           ]
          },
          "colorway": [
           "#636efa",
           "#EF553B",
           "#00cc96",
           "#ab63fa",
           "#FFA15A",
           "#19d3f3",
           "#FF6692",
           "#B6E880",
           "#FF97FF",
           "#FECB52"
          ],
          "font": {
           "color": "#2a3f5f"
          },
          "geo": {
           "bgcolor": "white",
           "lakecolor": "white",
           "landcolor": "#E5ECF6",
           "showlakes": true,
           "showland": true,
           "subunitcolor": "white"
          },
          "hoverlabel": {
           "align": "left"
          },
          "hovermode": "closest",
          "mapbox": {
           "style": "light"
          },
          "paper_bgcolor": "white",
          "plot_bgcolor": "#E5ECF6",
          "polar": {
           "angularaxis": {
            "gridcolor": "white",
            "linecolor": "white",
            "ticks": ""
           },
           "bgcolor": "#E5ECF6",
           "radialaxis": {
            "gridcolor": "white",
            "linecolor": "white",
            "ticks": ""
           }
          },
          "scene": {
           "xaxis": {
            "backgroundcolor": "#E5ECF6",
            "gridcolor": "white",
            "gridwidth": 2,
            "linecolor": "white",
            "showbackground": true,
            "ticks": "",
            "zerolinecolor": "white"
           },
           "yaxis": {
            "backgroundcolor": "#E5ECF6",
            "gridcolor": "white",
            "gridwidth": 2,
            "linecolor": "white",
            "showbackground": true,
            "ticks": "",
            "zerolinecolor": "white"
           },
           "zaxis": {
            "backgroundcolor": "#E5ECF6",
            "gridcolor": "white",
            "gridwidth": 2,
            "linecolor": "white",
            "showbackground": true,
            "ticks": "",
            "zerolinecolor": "white"
           }
          },
          "shapedefaults": {
           "line": {
            "color": "#2a3f5f"
           }
          },
          "ternary": {
           "aaxis": {
            "gridcolor": "white",
            "linecolor": "white",
            "ticks": ""
           },
           "baxis": {
            "gridcolor": "white",
            "linecolor": "white",
            "ticks": ""
           },
           "bgcolor": "#E5ECF6",
           "caxis": {
            "gridcolor": "white",
            "linecolor": "white",
            "ticks": ""
           }
          },
          "title": {
           "x": 0.05
          },
          "xaxis": {
           "automargin": true,
           "gridcolor": "white",
           "linecolor": "white",
           "ticks": "",
           "title": {
            "standoff": 15
           },
           "zerolinecolor": "white",
           "zerolinewidth": 2
          },
          "yaxis": {
           "automargin": true,
           "gridcolor": "white",
           "linecolor": "white",
           "ticks": "",
           "title": {
            "standoff": 15
           },
           "zerolinecolor": "white",
           "zerolinewidth": 2
          }
         }
        },
        "title": {
         "text": "Total de portes de arma por categoria"
        },
        "xaxis": {
         "anchor": "y",
         "domain": [
          0,
          1
         ],
         "title": {
          "text": "TOTAL"
         }
        },
        "yaxis": {
         "anchor": "x",
         "domain": [
          0,
          1
         ],
         "title": {
          "text": "CATEGORIA"
         }
        }
       }
      },
      "text/html": [
       "<div>                            <div id=\"65552db3-c5d0-4810-927d-5c83e8b673da\" class=\"plotly-graph-div\" style=\"height:400px; width:100%;\"></div>            <script type=\"text/javascript\">                require([\"plotly\"], function(Plotly) {                    window.PLOTLYENV=window.PLOTLYENV || {};                                    if (document.getElementById(\"65552db3-c5d0-4810-927d-5c83e8b673da\")) {                    Plotly.newPlot(                        \"65552db3-c5d0-4810-927d-5c83e8b673da\",                        [{\"alignmentgroup\":\"True\",\"hovertemplate\":\"TOTAL=%{x}<br>CATEGORIA=%{y}<extra></extra>\",\"legendgroup\":\"\",\"marker\":{\"color\":\"#313131\",\"pattern\":{\"shape\":\"\"}},\"name\":\"\",\"offsetgroup\":\"\",\"orientation\":\"h\",\"showlegend\":false,\"textposition\":\"auto\",\"x\":[15,3,1,12,1,1,55,1,1,9,2,1,2,30,19,60,3,5,18,2,19,5,7,1,44,8,22,1,19,9,3,10,2,38,17,7,1,1,4,1,12,1,40,5,6,12,12,3,68,29,3,131,5,7,32,1,1,32,4,1,1,16,4,1,28,3,22,1,22,56,3,41,4,2,59,1,27,25,1,68,1,2,11,3,135,4,32,3,14,2,35,13,1,151,1,5,3,14,11,1,1,1,9,2,1,65,41,3,12,112,3,5,1,37,91,6,7,67,8,18,2,2,5,36,490,13,88,8,2,10,1,25,6,1,20,1,3,1,2,1,2,2,6,8,1,30,87,38,8,134,1,38,2,6,9,17,1,22,17,7,5,11,8,1,10,1,16,5,1,3,1,1,1,6,24,1,31,3,4,5,3,1,1,10,1,3,123,14,5,18,24,1,4,6,3,38,8,581,4,2,2,4,11,33,8,1,27,8,4,3,36,36,5,5,1,27,1,7,1,4,1,2,95,6,3,10,1,26,6,3,4,2,1,14,1,1,1,5,2,180,146,1,42,1,7,15,10,2,91,5,7,6,25,7,23,1,335,4,6,2,5,4,5,26,2,2,4,9,2,7,6,13,1,40,46,2,4,1,39,2,10,1,22,12,2,1,1,2,5,123,26,2,3,18,30,3,1,6,9,1,3,2,13,7,2,68,7,1,52,1,2,2,3,3,1,5,141,4,7,8,1,17,1,2,2,17,1,27,236,27,1,1,8,1,11,1,5,2,12,1,14,6,4,36,1,5,29,26,37,17,34,1,17,2,23,16,1,24,1,5,80,22,3,6,11,4,36,4,2,16,1,2,1,6,6,1,11,3,1,2,22,3,2,2,3,3,2,105,8,4,51,3,9,1,56,2,1,1,10,1,541,6,1,20,5,16,1,2,2,24,4,39,4,53,94,11,80,19,62,1,1,15,24,2,1,5,1,13,2,23,5,48,4,2,57,5,1,3,1,9,1,22,1,5,5,2,1,1,21,7,8,3,3,2,1,1,96,8,5,30,1,13,2,29,160,8,1,1,2,2,4,12,1,1,8,2,1,8,1,6,1,6,7,7,38,29,4,41,2,32,14,7,2,2,74,8,9,2,1,1,49,7,2,64,8,2,30,2,1,3,13,3,22,2,26,1,44,1,2,1,38,86,4,4,4,4,16,5,4,1,14,34,303,1,13,9,4,5,7,5,2,17,4,3,14,2,30,59,27,46,9,9,29,5,2,4,2,1,177,2,16,4,4,15,2,46,8,5,3,11,1,1,1,1,18,1,4,18,1,31,4,1,87,5,4,14,11,1,1,8,18,1,208,3,2,3,10,5,19,3,1,110,1,1,30,2,50,23,29,4,54,3,34,3,34,6,1,1,1,9,2,2,8,7,13,1,40,1,3,7,2,2,7,14,4,1,1,9,1,2,4,2,2,1,134,16,12,22,2,4,3,17,315,1,6,3,9,3,24,1,1,3,1,1,6,3,1,3,3,58,59,25,6,20,2,1,1,16,92,5,2,19,1,2,21,4,14,17,1,5,7,1,1,16,2,23,10,1,2,5,1,4,4,1,83,10,7,1,2,11,2,61,27,1,286,1,10,56,1,1,30,5,1,24,1,10,19,2,2,157,46,60,22,2,13,44,2,1,3,19,35,4,2,32,1,39,2,16,36,11,3,4,1,5,2,8,5,15,4,18,5,6,7,2,78,4,8,5,5,5,10,1,19,44,2,435,4,2,1,4],\"xaxis\":\"x\",\"y\":[\"Ca\\u00e7ador de Subsist\\u00eancia\",\"Defesa Pessoal\",\"Defesa Pessoal\",\"Defesa Pessoal\",\"Defesa Pessoal\",\"Defesa Pessoal\",\"Funcional\",\"Ca\\u00e7ador de Subsist\\u00eancia\",\"Defesa Pessoal\",\"Funcional\",\"Defesa Pessoal\",\"Defesa Pessoal\",\"Defesa Pessoal\",\"Defesa Pessoal\",\"Defesa Pessoal\",\"Defesa Pessoal\",\"Defesa Pessoal\",\"Funcional\",\"Defesa Pessoal\",\"Defesa Pessoal\",\"Funcional\",\"Defesa Pessoal\",\"Defesa Pessoal\",\"Funcional\",\"Defesa Pessoal\",\"Defesa Pessoal\",\"Defesa Pessoal\",\"Defesa Pessoal\",\"Ca\\u00e7ador de Subsist\\u00eancia\",\"Defesa Pessoal\",\"Defesa Pessoal\",\"Defesa Pessoal\",\"Defesa Pessoal\",\"Funcional\",\"Defesa Pessoal\",\"Defesa Pessoal\",\"Defesa Pessoal\",\"Funcional\",\"Defesa Pessoal\",\"Defesa Pessoal\",\"Defesa Pessoal\",\"Funcional\",\"Defesa Pessoal\",\"Defesa Pessoal\",\"Funcional\",\"Defesa Pessoal\",\"Funcional\",\"Defesa Pessoal\",\"Funcional\",\"Defesa Pessoal\",\"Defesa Pessoal\",\"Funcional\",\"Ca\\u00e7ador de Subsist\\u00eancia\",\"Defesa Pessoal\",\"Defesa Pessoal\",\"Defesa Pessoal\",\"Defesa Pessoal\",\"Funcional\",\"Funcional\",\"Defesa Pessoal\",\"Defesa Pessoal\",\"Defesa Pessoal\",\"Defesa Pessoal\",\"Defesa Pessoal\",\"Funcional\",\"Defesa Pessoal\",\"Funcional\",\"Ca\\u00e7ador de Subsist\\u00eancia\",\"Defesa Pessoal\",\"Defesa Pessoal\",\"Funcional\",\"Funcional\",\"Seguran\\u00e7a Dignitario\",\"Ca\\u00e7ador de Subsist\\u00eancia\",\"Defesa Pessoal\",\"Defesa Pessoal\",\"Funcional\",\"Defesa Pessoal\",\"Defesa Pessoal\",\"Funcional\",\"Funcional\",\"Defesa Pessoal\",\"Funcional\",\"Defesa Pessoal\",\"Funcional\",\"Funcional\",\"Defesa Pessoal\",\"Ca\\u00e7ador de Subsist\\u00eancia\",\"Defesa Pessoal\",\"Defesa Pessoal\",\"Ca\\u00e7ador de Subsist\\u00eancia\",\"Defesa Pessoal\",\"Defesa Pessoal\",\"Funcional\",\"Ca\\u00e7ador de Subsist\\u00eancia\",\"Defesa Pessoal\",\"Defesa Pessoal\",\"Funcional\",\"Funcional\",\"Ca\\u00e7ador de Subsist\\u00eancia\",\"Funcional\",\"Ca\\u00e7ador de Subsist\\u00eancia\",\"Defesa Pessoal\",\"Defesa Pessoal\",\"Defesa Pessoal\",\"Funcional\",\"Defesa Pessoal\",\"Defesa Pessoal\",\"Seguran\\u00e7a Dignitario\",\"Funcional\",\"Ca\\u00e7ador de Subsist\\u00eancia\",\"Defesa Pessoal\",\"Defesa Pessoal\",\"Funcional\",\"Defesa Pessoal\",\"Defesa Pessoal\",\"Defesa Pessoal\",\"Funcional\",\"Funcional\",\"Defesa Pessoal\",\"Ca\\u00e7ador de Subsist\\u00eancia\",\"Defesa Pessoal\",\"Ca\\u00e7ador de Subsist\\u00eancia\",\"Defesa Pessoal\",\"Funcional\",\"Funcional\",\"Funcional\",\"Funcional\",\"Ca\\u00e7ador de Subsist\\u00eancia\",\"Defesa Pessoal\",\"Defesa Pessoal\",\"Funcional\",\"Defesa Pessoal\",\"Defesa Pessoal\",\"Funcional\",\"Ca\\u00e7ador de Subsist\\u00eancia\",\"Defesa Pessoal\",\"Defesa Pessoal\",\"Defesa Pessoal\",\"Defesa Pessoal\",\"Defesa Pessoal\",\"Defesa Pessoal\",\"Defesa Pessoal\",\"Funcional\",\"Funcional\",\"Defesa Pessoal\",\"Defesa Pessoal\",\"Funcional\",\"Funcional\",\"Seguran\\u00e7a Dignitario\",\"Ca\\u00e7ador de Subsist\\u00eancia\",\"Defesa Pessoal\",\"Defesa Pessoal\",\"Funcional\",\"Funcional\",\"Defesa Pessoal\",\"Defesa Pessoal\",\"Funcional\",\"Funcional\",\"Defesa Pessoal\",\"Funcional\",\"Defesa Pessoal\",\"Defesa Pessoal\",\"Defesa Pessoal\",\"Ca\\u00e7ador de Subsist\\u00eancia\",\"Defesa Pessoal\",\"Funcional\",\"Defesa Pessoal\",\"Funcional\",\"Defesa Pessoal\",\"Defesa Pessoal\",\"Defesa Pessoal\",\"Defesa Pessoal\",\"Defesa Pessoal\",\"Funcional\",\"Funcional\",\"Defesa Pessoal\",\"Defesa Pessoal\",\"Funcional\",\"Seguran\\u00e7a Dignitario\",\"Defesa Pessoal\",\"Defesa Pessoal\",\"Funcional\",\"Defesa Pessoal\",\"Defesa Pessoal\",\"Funcional\",\"Defesa Pessoal\",\"Defesa Pessoal\",\"Defesa Pessoal\",\"Funcional\",\"Defesa Pessoal\",\"Defesa Pessoal\",\"Funcional\",\"Defesa Pessoal\",\"Funcional\",\"Defesa Pessoal\",\"Defesa Pessoal\",\"Funcional\",\"Seguran\\u00e7a Dignitario\",\"Defesa Pessoal\",\"Ca\\u00e7ador de Subsist\\u00eancia\",\"Defesa Pessoal\",\"Defesa Pessoal\",\"Funcional\",\"Defesa Pessoal\",\"Defesa Pessoal\",\"Funcional\",\"Funcional\",\"Seguran\\u00e7a Dignitario\",\"Defesa Pessoal\",\"Defesa Pessoal\",\"Defesa Pessoal\",\"Funcional\",\"Funcional\",\"Seguran\\u00e7a Dignitario\",\"Defesa Pessoal\",\"Defesa Pessoal\",\"Defesa Pessoal\",\"Funcional\",\"Defesa Pessoal\",\"Funcional\",\"Defesa Pessoal\",\"Funcional\",\"Defesa Pessoal\",\"Funcional\",\"Defesa Pessoal\",\"Defesa Pessoal\",\"Ca\\u00e7ador de Subsist\\u00eancia\",\"Defesa Pessoal\",\"Funcional\",\"Funcional\",\"Defesa Pessoal\",\"Funcional\",\"Defesa Pessoal\",\"Defesa Pessoal\",\"Defesa Pessoal\",\"Defesa Pessoal\",\"Defesa Pessoal\",\"Defesa Pessoal\",\"Funcional\",\"Funcional\",\"Ca\\u00e7ador de Subsist\\u00eancia\",\"Defesa Pessoal\",\"Defesa Pessoal\",\"Funcional\",\"Funcional\",\"Defesa Pessoal\",\"Seguran\\u00e7a Dignitario\",\"Defesa Pessoal\",\"Defesa Pessoal\",\"Defesa Pessoal\",\"Funcional\",\"Defesa Pessoal\",\"Defesa Pessoal\",\"Defesa Pessoal\",\"Defesa Pessoal\",\"Funcional\",\"Funcional\",\"Seguran\\u00e7a Dignitario\",\"Defesa Pessoal\",\"Funcional\",\"Ca\\u00e7ador de Subsist\\u00eancia\",\"Defesa Pessoal\",\"Defesa Pessoal\",\"Defesa Pessoal\",\"Defesa Pessoal\",\"Funcional\",\"Defesa Pessoal\",\"Defesa Pessoal\",\"Funcional\",\"Defesa Pessoal\",\"Funcional\",\"Ca\\u00e7ador de Subsist\\u00eancia\",\"Defesa Pessoal\",\"Defesa Pessoal\",\"Funcional\",\"Seguran\\u00e7a Dignitario\",\"Ca\\u00e7ador de Subsist\\u00eancia\",\"Defesa Pessoal\",\"Defesa Pessoal\",\"Funcional\",\"Ca\\u00e7ador de Subsist\\u00eancia\",\"Defesa Pessoal\",\"Funcional\",\"Funcional\",\"Ca\\u00e7ador de Subsist\\u00eancia\",\"Defesa Pessoal\",\"Funcional\",\"Defesa Pessoal\",\"Funcional\",\"Defesa Pessoal\",\"Defesa Pessoal\",\"Ca\\u00e7ador de Subsist\\u00eancia\",\"Defesa Pessoal\",\"Ca\\u00e7ador de Subsist\\u00eancia\",\"Defesa Pessoal\",\"Defesa Pessoal\",\"Funcional\",\"Defesa Pessoal\",\"Defesa Pessoal\",\"Defesa Pessoal\",\"Defesa Pessoal\",\"Defesa Pessoal\",\"Defesa Pessoal\",\"Defesa Pessoal\",\"Funcional\",\"Funcional\",\"Ca\\u00e7ador de Subsist\\u00eancia\",\"Defesa Pessoal\",\"Defesa Pessoal\",\"Funcional\",\"Defesa Pessoal\",\"Funcional\",\"Ca\\u00e7ador de Subsist\\u00eancia\",\"Defesa Pessoal\",\"Funcional\",\"Defesa Pessoal\",\"Defesa Pessoal\",\"Defesa Pessoal\",\"Funcional\",\"Funcional\",\"Defesa Pessoal\",\"Funcional\",\"Funcional\",\"Defesa Pessoal\",\"Funcional\",\"Ca\\u00e7ador de Subsist\\u00eancia\",\"Defesa Pessoal\",\"Funcional\",\"Funcional\",\"Ca\\u00e7ador de Subsist\\u00eancia\",\"Defesa Pessoal\",\"Ca\\u00e7ador de Subsist\\u00eancia\",\"Defesa Pessoal\",\"Defesa Pessoal\",\"Defesa Pessoal\",\"Funcional\",\"Defesa Pessoal\",\"Defesa Pessoal\",\"Defesa Pessoal\",\"Funcional\",\"Funcional\",\"Defesa Pessoal\",\"Funcional\",\"Funcional\",\"Ca\\u00e7ador de Subsist\\u00eancia\",\"Defesa Pessoal\",\"Defesa Pessoal\",\"Funcional\",\"Seguran\\u00e7a Dignitario\",\"Defesa Pessoal\",\"Defesa Pessoal\",\"Funcional\",\"Funcional\",\"Defesa Pessoal\",\"Funcional\",\"Defesa Pessoal\",\"Funcional\",\"Ca\\u00e7ador de Subsist\\u00eancia\",\"Defesa Pessoal\",\"Funcional\",\"Defesa Pessoal\",\"Funcional\",\"Seguran\\u00e7a Dignitario\",\"Defesa Pessoal\",\"Funcional\",\"Ca\\u00e7ador de Subsist\\u00eancia\",\"Defesa Pessoal\",\"Defesa Pessoal\",\"Funcional\",\"Ca\\u00e7ador de Subsist\\u00eancia\",\"Defesa Pessoal\",\"Ca\\u00e7ador de Subsist\\u00eancia\",\"Defesa Pessoal\",\"Funcional\",\"Ca\\u00e7ador de Subsist\\u00eancia\",\"Defesa Pessoal\",\"Defesa Pessoal\",\"Defesa Pessoal\",\"Ca\\u00e7ador de Subsist\\u00eancia\",\"Defesa Pessoal\",\"Defesa Pessoal\",\"Funcional\",\"Seguran\\u00e7a Dignitario\",\"Defesa Pessoal\",\"Ca\\u00e7ador de Subsist\\u00eancia\",\"Defesa Pessoal\",\"Defesa Pessoal\",\"Defesa Pessoal\",\"Defesa Pessoal\",\"Funcional\",\"Ca\\u00e7ador de Subsist\\u00eancia\",\"Defesa Pessoal\",\"Defesa Pessoal\",\"Funcional\",\"Funcional\",\"Ca\\u00e7ador de Subsist\\u00eancia\",\"Defesa Pessoal\",\"Defesa Pessoal\",\"Defesa Pessoal\",\"Funcional\",\"Funcional\",\"Funcional\",\"Ca\\u00e7ador de Subsist\\u00eancia\",\"Defesa Pessoal\",\"Defesa Pessoal\",\"Defesa Pessoal\",\"Funcional\",\"Defesa Pessoal\",\"Funcional\",\"Defesa Pessoal\",\"Funcional\",\"Ca\\u00e7ador de Subsist\\u00eancia\",\"Defesa Pessoal\",\"Defesa Pessoal\",\"Funcional\",\"Funcional\",\"Seguran\\u00e7a Dignitario\",\"Defesa Pessoal\",\"Defesa Pessoal\",\"Ca\\u00e7ador de Subsist\\u00eancia\",\"Defesa Pessoal\",\"Funcional\",\"Defesa Pessoal\",\"Ca\\u00e7ador de Subsist\\u00eancia\",\"Funcional\",\"Funcional\",\"Defesa Pessoal\",\"Defesa Pessoal\",\"Defesa Pessoal\",\"Defesa Pessoal\",\"Ca\\u00e7ador de Subsist\\u00eancia\",\"Defesa Pessoal\",\"Defesa Pessoal\",\"Funcional\",\"Defesa Pessoal\",\"Defesa Pessoal\",\"Funcional\",\"Ca\\u00e7ador de Subsist\\u00eancia\",\"Defesa Pessoal\",\"Defesa Pessoal\",\"Funcional\",\"Defesa Pessoal\",\"Defesa Pessoal\",\"Defesa Pessoal\",\"Funcional\",\"Funcional\",\"Ca\\u00e7ador de Subsist\\u00eancia\",\"Defesa Pessoal\",\"Funcional\",\"Seguran\\u00e7a Dignitario\",\"Defesa Pessoal\",\"Defesa Pessoal\",\"Ca\\u00e7ador de Subsist\\u00eancia\",\"Defesa Pessoal\",\"Defesa Pessoal\",\"Defesa Pessoal\",\"Defesa Pessoal\",\"Defesa Pessoal\",\"Funcional\",\"Seguran\\u00e7a Dignitario\",\"Defesa Pessoal\",\"Defesa Pessoal\",\"Defesa Pessoal\",\"Funcional\",\"Funcional\",\"Ca\\u00e7ador de Subsist\\u00eancia\",\"Defesa Pessoal\",\"Funcional\",\"Funcional\",\"Ca\\u00e7ador de Subsist\\u00eancia\",\"Defesa Pessoal\",\"Defesa Pessoal\",\"Defesa Pessoal\",\"Defesa Pessoal\",\"Defesa Pessoal\",\"Defesa Pessoal\",\"Funcional\",\"Funcional\",\"Defesa Pessoal\",\"Defesa Pessoal\",\"Funcional\",\"Defesa Pessoal\",\"Funcional\",\"Defesa Pessoal\",\"Defesa Pessoal\",\"Seguran\\u00e7a Dignitario\",\"Defesa Pessoal\",\"Defesa Pessoal\",\"Funcional\",\"Defesa Pessoal\",\"Funcional\",\"Defesa Pessoal\",\"Defesa Pessoal\",\"Funcional\",\"Defesa Pessoal\",\"Defesa Pessoal\",\"Defesa Pessoal\",\"Funcional\",\"Funcional\",\"Ca\\u00e7ador de Subsist\\u00eancia\",\"Defesa Pessoal\",\"Funcional\",\"Funcional\",\"Defesa Pessoal\",\"Defesa Pessoal\",\"Funcional\",\"Funcional\",\"Ca\\u00e7ador de Subsist\\u00eancia\",\"Defesa Pessoal\",\"Defesa Pessoal\",\"Defesa Pessoal\",\"Funcional\",\"Funcional\",\"Defesa Pessoal\",\"Defesa Pessoal\",\"Funcional\",\"Defesa Pessoal\",\"Defesa Pessoal\",\"Defesa Pessoal\",\"Funcional\",\"Defesa Pessoal\",\"Defesa Pessoal\",\"Defesa Pessoal\",\"Funcional\",\"Funcional\",\"Defesa Pessoal\",\"Funcional\",\"Defesa Pessoal\",\"Defesa Pessoal\",\"Funcional\",\"Defesa Pessoal\",\"Funcional\",\"Defesa Pessoal\",\"Funcional\",\"Ca\\u00e7ador de Subsist\\u00eancia\",\"Defesa Pessoal\",\"Defesa Pessoal\",\"Funcional\",\"Funcional\",\"Defesa Pessoal\",\"Funcional\",\"Defesa Pessoal\",\"Defesa Pessoal\",\"Funcional\",\"Ca\\u00e7ador de Subsist\\u00eancia\",\"Defesa Pessoal\",\"Defesa Pessoal\",\"Funcional\",\"Defesa Pessoal\",\"Funcional\",\"Defesa Pessoal\",\"Funcional\",\"Funcional\",\"Defesa Pessoal\",\"Funcional\",\"Defesa Pessoal\",\"Defesa Pessoal\",\"Funcional\",\"Funcional\",\"Defesa Pessoal\",\"Funcional\",\"Funcional\",\"Defesa Pessoal\",\"Defesa Pessoal\",\"Ca\\u00e7ador de Subsist\\u00eancia\",\"Defesa Pessoal\",\"Defesa Pessoal\",\"Funcional\",\"Defesa Pessoal\",\"Funcional\",\"Defesa Pessoal\",\"Defesa Pessoal\",\"Funcional\",\"Defesa Pessoal\",\"Defesa Pessoal\",\"Funcional\",\"Defesa Pessoal\",\"Defesa Pessoal\",\"Funcional\",\"Defesa Pessoal\",\"Funcional\",\"Defesa Pessoal\",\"Defesa Pessoal\",\"Defesa Pessoal\",\"Funcional\",\"Defesa Pessoal\",\"Defesa Pessoal\",\"Defesa Pessoal\",\"Funcional\",\"Defesa Pessoal\",\"Defesa Pessoal\",\"Funcional\",\"Funcional\",\"Seguran\\u00e7a Dignitario\",\"Funcional\",\"Ca\\u00e7ador de Subsist\\u00eancia\",\"Defesa Pessoal\",\"Defesa Pessoal\",\"Defesa Pessoal\",\"Defesa Pessoal\",\"Funcional\",\"Defesa Pessoal\",\"Defesa Pessoal\",\"Funcional\",\"Defesa Pessoal\",\"Funcional\",\"Defesa Pessoal\",\"Defesa Pessoal\",\"Funcional\",\"Defesa Pessoal\",\"Defesa Pessoal\",\"Defesa Pessoal\",\"Defesa Pessoal\",\"Funcional\",\"Defesa Pessoal\",\"Defesa Pessoal\",\"Defesa Pessoal\",\"Funcional\",\"Defesa Pessoal\",\"Defesa Pessoal\",\"Ca\\u00e7ador de Subsist\\u00eancia\",\"Defesa Pessoal\",\"Ca\\u00e7ador de Subsist\\u00eancia\",\"Defesa Pessoal\",\"Defesa Pessoal\",\"Funcional\",\"Funcional\",\"Defesa Pessoal\",\"Defesa Pessoal\",\"Defesa Pessoal\",\"Defesa Pessoal\",\"Funcional\",\"Defesa Pessoal\",\"Defesa Pessoal\",\"Defesa Pessoal\",\"Funcional\",\"Defesa Pessoal\",\"Defesa Pessoal\",\"Funcional\",\"Funcional\",\"Defesa Pessoal\",\"Funcional\",\"Defesa Pessoal\",\"Defesa Pessoal\",\"Defesa Pessoal\",\"Defesa Pessoal\",\"Funcional\",\"Ca\\u00e7ador de Subsist\\u00eancia\",\"Defesa Pessoal\",\"Funcional\",\"Defesa Pessoal\",\"Funcional\",\"Funcional\",\"Funcional\",\"Defesa Pessoal\",\"Ca\\u00e7ador de Subsist\\u00eancia\",\"Defesa Pessoal\",\"Defesa Pessoal\",\"Defesa Pessoal\",\"Ca\\u00e7ador de Subsist\\u00eancia\",\"Defesa Pessoal\",\"Seguran\\u00e7a Dignitario\",\"Defesa Pessoal\",\"Funcional\",\"Defesa Pessoal\",\"Defesa Pessoal\",\"Defesa Pessoal\",\"Funcional\",\"Defesa Pessoal\",\"Defesa Pessoal\",\"Funcional\",\"Seguran\\u00e7a Dignitario\",\"Defesa Pessoal\",\"Defesa Pessoal\",\"Funcional\",\"Ca\\u00e7ador de Subsist\\u00eancia\",\"Defesa Pessoal\",\"Funcional\",\"Defesa Pessoal\",\"Defesa Pessoal\",\"Defesa Pessoal\",\"Defesa Pessoal\",\"Ca\\u00e7ador de Subsist\\u00eancia\",\"Defesa Pessoal\",\"Funcional\",\"Ca\\u00e7ador de Subsist\\u00eancia\",\"Defesa Pessoal\",\"Defesa Pessoal\",\"Funcional\",\"Defesa Pessoal\",\"Defesa Pessoal\",\"Defesa Pessoal\",\"Defesa Pessoal\",\"Defesa Pessoal\",\"Funcional\",\"Defesa Pessoal\",\"Funcional\",\"Funcional\",\"Defesa Pessoal\",\"Defesa Pessoal\",\"Defesa Pessoal\",\"Funcional\",\"Defesa Pessoal\",\"Defesa Pessoal\",\"Defesa Pessoal\",\"Defesa Pessoal\",\"Funcional\",\"Funcional\",\"Defesa Pessoal\",\"Defesa Pessoal\",\"Funcional\",\"Defesa Pessoal\",\"Defesa Pessoal\",\"Funcional\",\"Funcional\",\"Seguran\\u00e7a Dignitario\",\"Funcional\",\"Ca\\u00e7ador de Subsist\\u00eancia\",\"Defesa Pessoal\",\"Defesa Pessoal\",\"Defesa Pessoal\",\"Defesa Pessoal\",\"Funcional\",\"Defesa Pessoal\",\"Funcional\",\"Funcional\",\"Defesa Pessoal\",\"Defesa Pessoal\",\"Funcional\",\"Defesa Pessoal\",\"Defesa Pessoal\",\"Funcional\",\"Seguran\\u00e7a Dignitario\",\"Seguran\\u00e7a Dignitario\",\"Defesa Pessoal\",\"Defesa Pessoal\",\"Defesa Pessoal\",\"Funcional\",\"Defesa Pessoal\",\"Funcional\",\"Defesa Pessoal\",\"Defesa Pessoal\",\"Funcional\",\"Funcional\",\"Defesa Pessoal\",\"Defesa Pessoal\",\"Defesa Pessoal\",\"Ca\\u00e7ador de Subsist\\u00eancia\",\"Defesa Pessoal\",\"Defesa Pessoal\",\"Defesa Pessoal\",\"Defesa Pessoal\",\"Seguran\\u00e7a Dignitario\",\"Defesa Pessoal\",\"Defesa Pessoal\",\"Defesa Pessoal\",\"Funcional\",\"Defesa Pessoal\",\"Seguran\\u00e7a Dignitario\",\"Defesa Pessoal\",\"Funcional\",\"Defesa Pessoal\",\"Defesa Pessoal\",\"Defesa Pessoal\",\"Defesa Pessoal\",\"Defesa Pessoal\",\"Funcional\",\"Ca\\u00e7ador de Subsist\\u00eancia\",\"Defesa Pessoal\",\"Funcional\",\"Defesa Pessoal\",\"Funcional\",\"Defesa Pessoal\",\"Defesa Pessoal\",\"Funcional\",\"Funcional\",\"Seguran\\u00e7a Dignitario\",\"Defesa Pessoal\",\"Funcional\"],\"yaxis\":\"y\",\"type\":\"bar\"}],                        {\"template\":{\"data\":{\"histogram2dcontour\":[{\"type\":\"histogram2dcontour\",\"colorbar\":{\"outlinewidth\":0,\"ticks\":\"\"},\"colorscale\":[[0.0,\"#0d0887\"],[0.1111111111111111,\"#46039f\"],[0.2222222222222222,\"#7201a8\"],[0.3333333333333333,\"#9c179e\"],[0.4444444444444444,\"#bd3786\"],[0.5555555555555556,\"#d8576b\"],[0.6666666666666666,\"#ed7953\"],[0.7777777777777778,\"#fb9f3a\"],[0.8888888888888888,\"#fdca26\"],[1.0,\"#f0f921\"]]}],\"choropleth\":[{\"type\":\"choropleth\",\"colorbar\":{\"outlinewidth\":0,\"ticks\":\"\"}}],\"histogram2d\":[{\"type\":\"histogram2d\",\"colorbar\":{\"outlinewidth\":0,\"ticks\":\"\"},\"colorscale\":[[0.0,\"#0d0887\"],[0.1111111111111111,\"#46039f\"],[0.2222222222222222,\"#7201a8\"],[0.3333333333333333,\"#9c179e\"],[0.4444444444444444,\"#bd3786\"],[0.5555555555555556,\"#d8576b\"],[0.6666666666666666,\"#ed7953\"],[0.7777777777777778,\"#fb9f3a\"],[0.8888888888888888,\"#fdca26\"],[1.0,\"#f0f921\"]]}],\"heatmap\":[{\"type\":\"heatmap\",\"colorbar\":{\"outlinewidth\":0,\"ticks\":\"\"},\"colorscale\":[[0.0,\"#0d0887\"],[0.1111111111111111,\"#46039f\"],[0.2222222222222222,\"#7201a8\"],[0.3333333333333333,\"#9c179e\"],[0.4444444444444444,\"#bd3786\"],[0.5555555555555556,\"#d8576b\"],[0.6666666666666666,\"#ed7953\"],[0.7777777777777778,\"#fb9f3a\"],[0.8888888888888888,\"#fdca26\"],[1.0,\"#f0f921\"]]}],\"heatmapgl\":[{\"type\":\"heatmapgl\",\"colorbar\":{\"outlinewidth\":0,\"ticks\":\"\"},\"colorscale\":[[0.0,\"#0d0887\"],[0.1111111111111111,\"#46039f\"],[0.2222222222222222,\"#7201a8\"],[0.3333333333333333,\"#9c179e\"],[0.4444444444444444,\"#bd3786\"],[0.5555555555555556,\"#d8576b\"],[0.6666666666666666,\"#ed7953\"],[0.7777777777777778,\"#fb9f3a\"],[0.8888888888888888,\"#fdca26\"],[1.0,\"#f0f921\"]]}],\"contourcarpet\":[{\"type\":\"contourcarpet\",\"colorbar\":{\"outlinewidth\":0,\"ticks\":\"\"}}],\"contour\":[{\"type\":\"contour\",\"colorbar\":{\"outlinewidth\":0,\"ticks\":\"\"},\"colorscale\":[[0.0,\"#0d0887\"],[0.1111111111111111,\"#46039f\"],[0.2222222222222222,\"#7201a8\"],[0.3333333333333333,\"#9c179e\"],[0.4444444444444444,\"#bd3786\"],[0.5555555555555556,\"#d8576b\"],[0.6666666666666666,\"#ed7953\"],[0.7777777777777778,\"#fb9f3a\"],[0.8888888888888888,\"#fdca26\"],[1.0,\"#f0f921\"]]}],\"surface\":[{\"type\":\"surface\",\"colorbar\":{\"outlinewidth\":0,\"ticks\":\"\"},\"colorscale\":[[0.0,\"#0d0887\"],[0.1111111111111111,\"#46039f\"],[0.2222222222222222,\"#7201a8\"],[0.3333333333333333,\"#9c179e\"],[0.4444444444444444,\"#bd3786\"],[0.5555555555555556,\"#d8576b\"],[0.6666666666666666,\"#ed7953\"],[0.7777777777777778,\"#fb9f3a\"],[0.8888888888888888,\"#fdca26\"],[1.0,\"#f0f921\"]]}],\"mesh3d\":[{\"type\":\"mesh3d\",\"colorbar\":{\"outlinewidth\":0,\"ticks\":\"\"}}],\"scatter\":[{\"fillpattern\":{\"fillmode\":\"overlay\",\"size\":10,\"solidity\":0.2},\"type\":\"scatter\"}],\"parcoords\":[{\"type\":\"parcoords\",\"line\":{\"colorbar\":{\"outlinewidth\":0,\"ticks\":\"\"}}}],\"scatterpolargl\":[{\"type\":\"scatterpolargl\",\"marker\":{\"colorbar\":{\"outlinewidth\":0,\"ticks\":\"\"}}}],\"bar\":[{\"error_x\":{\"color\":\"#2a3f5f\"},\"error_y\":{\"color\":\"#2a3f5f\"},\"marker\":{\"line\":{\"color\":\"#E5ECF6\",\"width\":0.5},\"pattern\":{\"fillmode\":\"overlay\",\"size\":10,\"solidity\":0.2}},\"type\":\"bar\"}],\"scattergeo\":[{\"type\":\"scattergeo\",\"marker\":{\"colorbar\":{\"outlinewidth\":0,\"ticks\":\"\"}}}],\"scatterpolar\":[{\"type\":\"scatterpolar\",\"marker\":{\"colorbar\":{\"outlinewidth\":0,\"ticks\":\"\"}}}],\"histogram\":[{\"marker\":{\"pattern\":{\"fillmode\":\"overlay\",\"size\":10,\"solidity\":0.2}},\"type\":\"histogram\"}],\"scattergl\":[{\"type\":\"scattergl\",\"marker\":{\"colorbar\":{\"outlinewidth\":0,\"ticks\":\"\"}}}],\"scatter3d\":[{\"type\":\"scatter3d\",\"line\":{\"colorbar\":{\"outlinewidth\":0,\"ticks\":\"\"}},\"marker\":{\"colorbar\":{\"outlinewidth\":0,\"ticks\":\"\"}}}],\"scattermapbox\":[{\"type\":\"scattermapbox\",\"marker\":{\"colorbar\":{\"outlinewidth\":0,\"ticks\":\"\"}}}],\"scatterternary\":[{\"type\":\"scatterternary\",\"marker\":{\"colorbar\":{\"outlinewidth\":0,\"ticks\":\"\"}}}],\"scattercarpet\":[{\"type\":\"scattercarpet\",\"marker\":{\"colorbar\":{\"outlinewidth\":0,\"ticks\":\"\"}}}],\"carpet\":[{\"aaxis\":{\"endlinecolor\":\"#2a3f5f\",\"gridcolor\":\"white\",\"linecolor\":\"white\",\"minorgridcolor\":\"white\",\"startlinecolor\":\"#2a3f5f\"},\"baxis\":{\"endlinecolor\":\"#2a3f5f\",\"gridcolor\":\"white\",\"linecolor\":\"white\",\"minorgridcolor\":\"white\",\"startlinecolor\":\"#2a3f5f\"},\"type\":\"carpet\"}],\"table\":[{\"cells\":{\"fill\":{\"color\":\"#EBF0F8\"},\"line\":{\"color\":\"white\"}},\"header\":{\"fill\":{\"color\":\"#C8D4E3\"},\"line\":{\"color\":\"white\"}},\"type\":\"table\"}],\"barpolar\":[{\"marker\":{\"line\":{\"color\":\"#E5ECF6\",\"width\":0.5},\"pattern\":{\"fillmode\":\"overlay\",\"size\":10,\"solidity\":0.2}},\"type\":\"barpolar\"}],\"pie\":[{\"automargin\":true,\"type\":\"pie\"}]},\"layout\":{\"autotypenumbers\":\"strict\",\"colorway\":[\"#636efa\",\"#EF553B\",\"#00cc96\",\"#ab63fa\",\"#FFA15A\",\"#19d3f3\",\"#FF6692\",\"#B6E880\",\"#FF97FF\",\"#FECB52\"],\"font\":{\"color\":\"#2a3f5f\"},\"hovermode\":\"closest\",\"hoverlabel\":{\"align\":\"left\"},\"paper_bgcolor\":\"white\",\"plot_bgcolor\":\"#E5ECF6\",\"polar\":{\"bgcolor\":\"#E5ECF6\",\"angularaxis\":{\"gridcolor\":\"white\",\"linecolor\":\"white\",\"ticks\":\"\"},\"radialaxis\":{\"gridcolor\":\"white\",\"linecolor\":\"white\",\"ticks\":\"\"}},\"ternary\":{\"bgcolor\":\"#E5ECF6\",\"aaxis\":{\"gridcolor\":\"white\",\"linecolor\":\"white\",\"ticks\":\"\"},\"baxis\":{\"gridcolor\":\"white\",\"linecolor\":\"white\",\"ticks\":\"\"},\"caxis\":{\"gridcolor\":\"white\",\"linecolor\":\"white\",\"ticks\":\"\"}},\"coloraxis\":{\"colorbar\":{\"outlinewidth\":0,\"ticks\":\"\"}},\"colorscale\":{\"sequential\":[[0.0,\"#0d0887\"],[0.1111111111111111,\"#46039f\"],[0.2222222222222222,\"#7201a8\"],[0.3333333333333333,\"#9c179e\"],[0.4444444444444444,\"#bd3786\"],[0.5555555555555556,\"#d8576b\"],[0.6666666666666666,\"#ed7953\"],[0.7777777777777778,\"#fb9f3a\"],[0.8888888888888888,\"#fdca26\"],[1.0,\"#f0f921\"]],\"sequentialminus\":[[0.0,\"#0d0887\"],[0.1111111111111111,\"#46039f\"],[0.2222222222222222,\"#7201a8\"],[0.3333333333333333,\"#9c179e\"],[0.4444444444444444,\"#bd3786\"],[0.5555555555555556,\"#d8576b\"],[0.6666666666666666,\"#ed7953\"],[0.7777777777777778,\"#fb9f3a\"],[0.8888888888888888,\"#fdca26\"],[1.0,\"#f0f921\"]],\"diverging\":[[0,\"#8e0152\"],[0.1,\"#c51b7d\"],[0.2,\"#de77ae\"],[0.3,\"#f1b6da\"],[0.4,\"#fde0ef\"],[0.5,\"#f7f7f7\"],[0.6,\"#e6f5d0\"],[0.7,\"#b8e186\"],[0.8,\"#7fbc41\"],[0.9,\"#4d9221\"],[1,\"#276419\"]]},\"xaxis\":{\"gridcolor\":\"white\",\"linecolor\":\"white\",\"ticks\":\"\",\"title\":{\"standoff\":15},\"zerolinecolor\":\"white\",\"automargin\":true,\"zerolinewidth\":2},\"yaxis\":{\"gridcolor\":\"white\",\"linecolor\":\"white\",\"ticks\":\"\",\"title\":{\"standoff\":15},\"zerolinecolor\":\"white\",\"automargin\":true,\"zerolinewidth\":2},\"scene\":{\"xaxis\":{\"backgroundcolor\":\"#E5ECF6\",\"gridcolor\":\"white\",\"linecolor\":\"white\",\"showbackground\":true,\"ticks\":\"\",\"zerolinecolor\":\"white\",\"gridwidth\":2},\"yaxis\":{\"backgroundcolor\":\"#E5ECF6\",\"gridcolor\":\"white\",\"linecolor\":\"white\",\"showbackground\":true,\"ticks\":\"\",\"zerolinecolor\":\"white\",\"gridwidth\":2},\"zaxis\":{\"backgroundcolor\":\"#E5ECF6\",\"gridcolor\":\"white\",\"linecolor\":\"white\",\"showbackground\":true,\"ticks\":\"\",\"zerolinecolor\":\"white\",\"gridwidth\":2}},\"shapedefaults\":{\"line\":{\"color\":\"#2a3f5f\"}},\"annotationdefaults\":{\"arrowcolor\":\"#2a3f5f\",\"arrowhead\":0,\"arrowwidth\":1},\"geo\":{\"bgcolor\":\"white\",\"landcolor\":\"#E5ECF6\",\"subunitcolor\":\"white\",\"showland\":true,\"showlakes\":true,\"lakecolor\":\"white\"},\"title\":{\"x\":0.05},\"mapbox\":{\"style\":\"light\"}}},\"xaxis\":{\"anchor\":\"y\",\"domain\":[0.0,1.0],\"title\":{\"text\":\"TOTAL\"}},\"yaxis\":{\"anchor\":\"x\",\"domain\":[0.0,1.0],\"title\":{\"text\":\"CATEGORIA\"}},\"legend\":{\"tracegroupgap\":0},\"title\":{\"text\":\"Total de portes de arma por categoria\"},\"barmode\":\"relative\",\"height\":400},                        {\"responsive\": true}                    ).then(function(){\n",
       "                            \n",
       "var gd = document.getElementById('65552db3-c5d0-4810-927d-5c83e8b673da');\n",
       "var x = new MutationObserver(function (mutations, observer) {{\n",
       "        var display = window.getComputedStyle(gd).display;\n",
       "        if (!display || display === 'none') {{\n",
       "            console.log([gd, 'removed!']);\n",
       "            Plotly.purge(gd);\n",
       "            observer.disconnect();\n",
       "        }}\n",
       "}});\n",
       "\n",
       "// Listen for the removal of the full notebook cells\n",
       "var notebookContainer = gd.closest('#notebook-container');\n",
       "if (notebookContainer) {{\n",
       "    x.observe(notebookContainer, {childList: true});\n",
       "}}\n",
       "\n",
       "// Listen for the clearing of the current output cell\n",
       "var outputEl = gd.closest('.output');\n",
       "if (outputEl) {{\n",
       "    x.observe(outputEl, {childList: true});\n",
       "}}\n",
       "\n",
       "                        })                };                });            </script>        </div>"
      ]
     },
     "metadata": {},
     "output_type": "display_data"
    }
   ],
   "source": [
    "fig = px.bar(df_porte, x='TOTAL', y='CATEGORIA', \n",
    "             title='Total de portes de arma por categoria', \n",
    "             height=400,\n",
    "             color_discrete_sequence=px.colors.cyclical.Edge)\n",
    "fig.show()"
   ]
  },
  {
   "cell_type": "code",
   "execution_count": 111,
   "id": "2633645e",
   "metadata": {},
   "outputs": [
    {
     "data": {
      "application/vnd.plotly.v1+json": {
       "config": {
        "plotlyServerURL": "https://plot.ly"
       },
       "data": [
        {
         "alignmentgroup": "True",
         "hovertemplate": "TOTAL=%{x}<br>ABRANGENCIA=%{y}<extra></extra>",
         "legendgroup": "",
         "marker": {
          "color": "rgb(18, 63, 90)",
          "pattern": {
           "shape": ""
          }
         },
         "name": "",
         "offsetgroup": "",
         "orientation": "h",
         "showlegend": false,
         "textposition": "auto",
         "type": "bar",
         "x": [
          15,
          3,
          1,
          12,
          1,
          1,
          55,
          1,
          1,
          9,
          2,
          1,
          2,
          30,
          19,
          60,
          3,
          5,
          18,
          2,
          19,
          5,
          7,
          1,
          44,
          8,
          22,
          1,
          19,
          9,
          3,
          10,
          2,
          38,
          17,
          7,
          1,
          1,
          4,
          1,
          12,
          1,
          40,
          5,
          6,
          12,
          12,
          3,
          68,
          29,
          3,
          131,
          5,
          7,
          32,
          1,
          1,
          32,
          4,
          1,
          1,
          16,
          4,
          1,
          28,
          3,
          22,
          1,
          22,
          56,
          3,
          41,
          4,
          2,
          59,
          1,
          27,
          25,
          1,
          68,
          1,
          2,
          11,
          3,
          135,
          4,
          32,
          3,
          14,
          2,
          35,
          13,
          1,
          151,
          1,
          5,
          3,
          14,
          11,
          1,
          1,
          1,
          9,
          2,
          1,
          65,
          41,
          3,
          12,
          112,
          3,
          5,
          1,
          37,
          91,
          6,
          7,
          67,
          8,
          18,
          2,
          2,
          5,
          36,
          490,
          13,
          88,
          8,
          2,
          10,
          1,
          25,
          6,
          1,
          20,
          1,
          3,
          1,
          2,
          1,
          2,
          2,
          6,
          8,
          1,
          30,
          87,
          38,
          8,
          134,
          1,
          38,
          2,
          6,
          9,
          17,
          1,
          22,
          17,
          7,
          5,
          11,
          8,
          1,
          10,
          1,
          16,
          5,
          1,
          3,
          1,
          1,
          1,
          6,
          24,
          1,
          31,
          3,
          4,
          5,
          3,
          1,
          1,
          10,
          1,
          3,
          123,
          14,
          5,
          18,
          24,
          1,
          4,
          6,
          3,
          38,
          8,
          581,
          4,
          2,
          2,
          4,
          11,
          33,
          8,
          1,
          27,
          8,
          4,
          3,
          36,
          36,
          5,
          5,
          1,
          27,
          1,
          7,
          1,
          4,
          1,
          2,
          95,
          6,
          3,
          10,
          1,
          26,
          6,
          3,
          4,
          2,
          1,
          14,
          1,
          1,
          1,
          5,
          2,
          180,
          146,
          1,
          42,
          1,
          7,
          15,
          10,
          2,
          91,
          5,
          7,
          6,
          25,
          7,
          23,
          1,
          335,
          4,
          6,
          2,
          5,
          4,
          5,
          26,
          2,
          2,
          4,
          9,
          2,
          7,
          6,
          13,
          1,
          40,
          46,
          2,
          4,
          1,
          39,
          2,
          10,
          1,
          22,
          12,
          2,
          1,
          1,
          2,
          5,
          123,
          26,
          2,
          3,
          18,
          30,
          3,
          1,
          6,
          9,
          1,
          3,
          2,
          13,
          7,
          2,
          68,
          7,
          1,
          52,
          1,
          2,
          2,
          3,
          3,
          1,
          5,
          141,
          4,
          7,
          8,
          1,
          17,
          1,
          2,
          2,
          17,
          1,
          27,
          236,
          27,
          1,
          1,
          8,
          1,
          11,
          1,
          5,
          2,
          12,
          1,
          14,
          6,
          4,
          36,
          1,
          5,
          29,
          26,
          37,
          17,
          34,
          1,
          17,
          2,
          23,
          16,
          1,
          24,
          1,
          5,
          80,
          22,
          3,
          6,
          11,
          4,
          36,
          4,
          2,
          16,
          1,
          2,
          1,
          6,
          6,
          1,
          11,
          3,
          1,
          2,
          22,
          3,
          2,
          2,
          3,
          3,
          2,
          105,
          8,
          4,
          51,
          3,
          9,
          1,
          56,
          2,
          1,
          1,
          10,
          1,
          541,
          6,
          1,
          20,
          5,
          16,
          1,
          2,
          2,
          24,
          4,
          39,
          4,
          53,
          94,
          11,
          80,
          19,
          62,
          1,
          1,
          15,
          24,
          2,
          1,
          5,
          1,
          13,
          2,
          23,
          5,
          48,
          4,
          2,
          57,
          5,
          1,
          3,
          1,
          9,
          1,
          22,
          1,
          5,
          5,
          2,
          1,
          1,
          21,
          7,
          8,
          3,
          3,
          2,
          1,
          1,
          96,
          8,
          5,
          30,
          1,
          13,
          2,
          29,
          160,
          8,
          1,
          1,
          2,
          2,
          4,
          12,
          1,
          1,
          8,
          2,
          1,
          8,
          1,
          6,
          1,
          6,
          7,
          7,
          38,
          29,
          4,
          41,
          2,
          32,
          14,
          7,
          2,
          2,
          74,
          8,
          9,
          2,
          1,
          1,
          49,
          7,
          2,
          64,
          8,
          2,
          30,
          2,
          1,
          3,
          13,
          3,
          22,
          2,
          26,
          1,
          44,
          1,
          2,
          1,
          38,
          86,
          4,
          4,
          4,
          4,
          16,
          5,
          4,
          1,
          14,
          34,
          303,
          1,
          13,
          9,
          4,
          5,
          7,
          5,
          2,
          17,
          4,
          3,
          14,
          2,
          30,
          59,
          27,
          46,
          9,
          9,
          29,
          5,
          2,
          4,
          2,
          1,
          177,
          2,
          16,
          4,
          4,
          15,
          2,
          46,
          8,
          5,
          3,
          11,
          1,
          1,
          1,
          1,
          18,
          1,
          4,
          18,
          1,
          31,
          4,
          1,
          87,
          5,
          4,
          14,
          11,
          1,
          1,
          8,
          18,
          1,
          208,
          3,
          2,
          3,
          10,
          5,
          19,
          3,
          1,
          110,
          1,
          1,
          30,
          2,
          50,
          23,
          29,
          4,
          54,
          3,
          34,
          3,
          34,
          6,
          1,
          1,
          1,
          9,
          2,
          2,
          8,
          7,
          13,
          1,
          40,
          1,
          3,
          7,
          2,
          2,
          7,
          14,
          4,
          1,
          1,
          9,
          1,
          2,
          4,
          2,
          2,
          1,
          134,
          16,
          12,
          22,
          2,
          4,
          3,
          17,
          315,
          1,
          6,
          3,
          9,
          3,
          24,
          1,
          1,
          3,
          1,
          1,
          6,
          3,
          1,
          3,
          3,
          58,
          59,
          25,
          6,
          20,
          2,
          1,
          1,
          16,
          92,
          5,
          2,
          19,
          1,
          2,
          21,
          4,
          14,
          17,
          1,
          5,
          7,
          1,
          1,
          16,
          2,
          23,
          10,
          1,
          2,
          5,
          1,
          4,
          4,
          1,
          83,
          10,
          7,
          1,
          2,
          11,
          2,
          61,
          27,
          1,
          286,
          1,
          10,
          56,
          1,
          1,
          30,
          5,
          1,
          24,
          1,
          10,
          19,
          2,
          2,
          157,
          46,
          60,
          22,
          2,
          13,
          44,
          2,
          1,
          3,
          19,
          35,
          4,
          2,
          32,
          1,
          39,
          2,
          16,
          36,
          11,
          3,
          4,
          1,
          5,
          2,
          8,
          5,
          15,
          4,
          18,
          5,
          6,
          7,
          2,
          78,
          4,
          8,
          5,
          5,
          5,
          10,
          1,
          19,
          44,
          2,
          435,
          4,
          2,
          1,
          4
         ],
         "xaxis": "x",
         "y": [
          null,
          "Estadual",
          "Regional",
          "Estadual",
          "Nacional",
          "Regional",
          "Estadual",
          null,
          "Estadual",
          "Estadual",
          "Estadual",
          "Nacional",
          "Regional",
          "Estadual",
          "Nacional",
          "Estadual",
          "Nacional",
          "Estadual",
          "Estadual",
          "Nacional",
          "Estadual",
          "Estadual",
          "Estadual",
          "Nacional",
          "Estadual",
          "Nacional",
          "Estadual",
          "Nacional",
          null,
          "Estadual",
          "Estadual",
          "Estadual",
          "Estadual",
          "Estadual",
          "Estadual",
          "Nacional",
          "Regional",
          "Estadual",
          "Estadual",
          "Estadual",
          "Estadual",
          "Nacional",
          "Estadual",
          "Nacional",
          "Estadual",
          "Estadual",
          "Nacional",
          "Estadual",
          "Estadual",
          "Estadual",
          "Nacional",
          "Estadual",
          null,
          "Estadual",
          "Estadual",
          "Nacional",
          "Regional",
          "Estadual",
          "Nacional",
          "Estadual",
          "Estadual",
          "Estadual",
          "Nacional",
          "Regional",
          "Estadual",
          "Estadual",
          "Estadual",
          null,
          "Estadual",
          "Nacional",
          "Estadual",
          "Nacional",
          "Nacional",
          null,
          "Estadual",
          "Nacional",
          "Estadual",
          "Estadual",
          "Nacional",
          "Estadual",
          "Nacional",
          "Estadual",
          "Estadual",
          "Estadual",
          "Estadual",
          "Nacional",
          "Estadual",
          null,
          "Estadual",
          "Nacional",
          null,
          "Estadual",
          "Nacional",
          "Estadual",
          null,
          "Estadual",
          "Estadual",
          "Estadual",
          "Nacional",
          null,
          "Nacional",
          null,
          "Estadual",
          "Nacional",
          "Regional",
          "Estadual",
          "Estadual",
          "Nacional",
          "Nacional",
          "Estadual",
          null,
          "Estadual",
          "Estadual",
          "Estadual",
          "Estadual",
          "Nacional",
          "Regional",
          "Estadual",
          "Nacional",
          "Estadual",
          null,
          "Estadual",
          null,
          "Estadual",
          "Estadual",
          "Nacional",
          null,
          "Estadual",
          null,
          "Estadual",
          "Regional",
          "Nacional",
          "Estadual",
          "Regional",
          "Estadual",
          null,
          "Estadual",
          "Nacional",
          "Regional",
          "Estadual",
          "Estadual",
          "Nacional",
          "Estadual",
          "Estadual",
          "Nacional",
          "Estadual",
          "Nacional",
          "Estadual",
          "Nacional",
          "Nacional",
          null,
          "Estadual",
          "Nacional",
          "Estadual",
          "Nacional",
          "Estadual",
          "Nacional",
          "Estadual",
          "Estadual",
          "Estadual",
          "Estadual",
          "Estadual",
          "Estadual",
          "Nacional",
          null,
          "Estadual",
          "Estadual",
          "Estadual",
          "Estadual",
          "Estadual",
          "Nacional",
          "Estadual",
          "Estadual",
          "Nacional",
          "Estadual",
          null,
          "Estadual",
          "Nacional",
          "Nacional",
          "Nacional",
          "Estadual",
          "Nacional",
          "Nacional",
          "Estadual",
          "Nacional",
          "Estadual",
          "Estadual",
          "Nacional",
          "Regional",
          "Estadual",
          "Estadual",
          "Nacional",
          "Nacional",
          "Estadual",
          "Estadual",
          "Estadual",
          "Nacional",
          "Estadual",
          "Nacional",
          "Estadual",
          null,
          "Estadual",
          "Estadual",
          "Estadual",
          "Estadual",
          "Nacional",
          "Estadual",
          "Nacional",
          "Nacional",
          "Estadual",
          "Estadual",
          "Nacional",
          "Estadual",
          "Nacional",
          "Nacional",
          "Estadual",
          "Nacional",
          "Estadual",
          "Estadual",
          "Estadual",
          "Estadual",
          "Estadual",
          "Estadual",
          "Estadual",
          "Nacional",
          "Estadual",
          "Nacional",
          null,
          "Estadual",
          "Estadual",
          "Nacional",
          "Estadual",
          "Nacional",
          "Estadual",
          "Nacional",
          "Estadual",
          "Nacional",
          "Estadual",
          "Nacional",
          "Estadual",
          null,
          null,
          "Estadual",
          "Nacional",
          "Estadual",
          "Nacional",
          "Estadual",
          "Estadual",
          "Estadual",
          "Nacional",
          "Regional",
          "Estadual",
          "Estadual",
          "Estadual",
          "Estadual",
          "Nacional",
          "Estadual",
          null,
          "Nacional",
          "Estadual",
          "Estadual",
          null,
          "Estadual",
          "Estadual",
          "Nacional",
          "Regional",
          "Estadual",
          "Estadual",
          "Nacional",
          "Estadual",
          "Estadual",
          "Estadual",
          null,
          "Estadual",
          "Nacional",
          "Nacional",
          "Nacional",
          null,
          "Estadual",
          "Nacional",
          "Estadual",
          null,
          "Estadual",
          "Estadual",
          "Nacional",
          null,
          "Estadual",
          "Estadual",
          "Estadual",
          "Estadual",
          "Estadual",
          "Nacional",
          null,
          "Estadual",
          null,
          "Estadual",
          "Nacional",
          "Estadual",
          "Estadual",
          "Nacional",
          "Estadual",
          "Nacional",
          "Estadual",
          "Nacional",
          "Regional",
          "Estadual",
          null,
          null,
          "Estadual",
          "Nacional",
          "Nacional",
          "Estadual",
          "Estadual",
          null,
          "Estadual",
          "Nacional",
          "Estadual",
          "Nacional",
          "Regional",
          "Estadual",
          "Nacional",
          "Estadual",
          "Estadual",
          "Nacional",
          "Estadual",
          "Estadual",
          null,
          "Estadual",
          "Estadual",
          null,
          null,
          "Estadual",
          null,
          "Estadual",
          "Estadual",
          "Nacional",
          "Estadual",
          "Estadual",
          "Estadual",
          "Nacional",
          "Estadual",
          "Nacional",
          "Estadual",
          "Estadual",
          "Nacional",
          null,
          "Estadual",
          "Nacional",
          "Nacional",
          "Nacional",
          "Estadual",
          "Nacional",
          "Estadual",
          "Nacional",
          "Estadual",
          "Estadual",
          "Estadual",
          "Estadual",
          null,
          "Estadual",
          "Estadual",
          "Estadual",
          "Estadual",
          "Estadual",
          "Estadual",
          "Nacional",
          null,
          "Estadual",
          "Nacional",
          "Estadual",
          null,
          "Estadual",
          null,
          "Estadual",
          "Nacional",
          null,
          "Estadual",
          "Nacional",
          "Regional",
          null,
          "Estadual",
          "Nacional",
          "Nacional",
          "Nacional",
          "Estadual",
          null,
          "Estadual",
          "Estadual",
          "Nacional",
          "Regional",
          "Estadual",
          null,
          "Estadual",
          "Regional",
          "Estadual",
          "Nacional",
          null,
          "Nacional",
          "Estadual",
          "Nacional",
          "Estadual",
          null,
          "Estadual",
          null,
          "Estadual",
          "Estadual",
          "Nacional",
          "Nacional",
          "Estadual",
          "Estadual",
          "Estadual",
          "Estadual",
          null,
          "Estadual",
          "Nacional",
          "Estadual",
          "Nacional",
          "Nacional",
          "Estadual",
          "Nacional",
          null,
          "Estadual",
          "Estadual",
          "Estadual",
          null,
          "Estadual",
          "Nacional",
          "Estadual",
          "Nacional",
          "Estadual",
          "Nacional",
          null,
          "Estadual",
          "Nacional",
          "Estadual",
          "Estadual",
          "Nacional",
          "Estadual",
          null,
          "Estadual",
          "Regional",
          "Estadual",
          "Estadual",
          "Estadual",
          "Nacional",
          "Estadual",
          null,
          null,
          "Estadual",
          "Nacional",
          "Nacional",
          "Estadual",
          "Estadual",
          null,
          "Estadual",
          "Nacional",
          "Estadual",
          "Nacional",
          "Regional",
          "Estadual",
          "Nacional",
          "Estadual",
          "Nacional",
          "Estadual",
          "Estadual",
          "Nacional",
          null,
          "Estadual",
          "Estadual",
          "Nacional",
          null,
          "Estadual",
          "Nacional",
          "Regional",
          "Estadual",
          "Nacional",
          "Estadual",
          "Estadual",
          "Estadual",
          "Estadual",
          "Nacional",
          "Estadual",
          "Estadual",
          "Estadual",
          "Estadual",
          "Nacional",
          "Nacional",
          "Estadual",
          "Nacional",
          "Estadual",
          "Estadual",
          "Estadual",
          "Estadual",
          "Estadual",
          "Estadual",
          "Estadual",
          "Estadual",
          "Nacional",
          "Estadual",
          "Nacional",
          null,
          "Estadual",
          "Estadual",
          "Estadual",
          "Estadual",
          "Nacional",
          "Estadual",
          "Nacional",
          null,
          "Estadual",
          "Estadual",
          "Nacional",
          "Estadual",
          null,
          "Estadual",
          "Nacional",
          "Nacional",
          "Estadual",
          "Estadual",
          "Estadual",
          "Estadual",
          "Estadual",
          "Nacional",
          "Regional",
          "Estadual",
          "Nacional",
          "Estadual",
          "Estadual",
          "Estadual",
          "Nacional",
          "Estadual",
          "Estadual",
          "Estadual",
          "Estadual",
          "Estadual",
          null,
          "Estadual",
          "Estadual",
          "Nacional",
          "Estadual",
          "Estadual",
          "Estadual",
          "Estadual",
          "Regional",
          "Estadual",
          null,
          "Estadual",
          "Nacional",
          "Estadual",
          "Estadual",
          "Nacional",
          "Estadual",
          "Estadual",
          "Nacional",
          "Estadual",
          "Nacional",
          "Estadual",
          "Nacional",
          "Estadual",
          "Nacional",
          "Estadual",
          "Estadual",
          "Nacional",
          "Estadual",
          "Nacional",
          null,
          "Estadual",
          "Estadual",
          "Estadual",
          "Estadual",
          "Nacional",
          "Estadual",
          "Nacional",
          "Estadual",
          "Estadual",
          "Regional",
          "Estadual",
          "Estadual",
          "Nacional",
          "Estadual",
          "Estadual",
          "Nacional",
          "Estadual",
          "Nacional",
          "Regional",
          "Estadual",
          "Estadual",
          "Estadual",
          "Nacional",
          "Estadual",
          "Estadual",
          "Nacional",
          "Estadual",
          null,
          "Nacional",
          "Estadual",
          null,
          "Estadual",
          "Estadual",
          "Nacional",
          "Regional",
          "Estadual",
          "Regional",
          "Estadual",
          "Estadual",
          "Estadual",
          "Estadual",
          "Estadual",
          "Nacional",
          "Nacional",
          "Estadual",
          "Nacional",
          "Estadual",
          "Nacional",
          "Estadual",
          "Estadual",
          "Estadual",
          "Nacional",
          "Nacional",
          "Estadual",
          "Nacional",
          null,
          "Estadual",
          null,
          "Estadual",
          "Nacional",
          "Estadual",
          "Nacional",
          "Estadual",
          "Estadual",
          "Nacional",
          "Regional",
          "Nacional",
          "Estadual",
          "Nacional",
          "Regional",
          "Nacional",
          "Estadual",
          "Nacional",
          "Estadual",
          "Nacional",
          "Estadual",
          "Nacional",
          "Regional",
          "Estadual",
          "Nacional",
          "Regional",
          "Estadual",
          null,
          "Estadual",
          "Estadual",
          "Estadual",
          "Estadual",
          "Regional",
          null,
          "Estadual",
          null,
          "Estadual",
          "Estadual",
          "Nacional",
          null,
          "Estadual",
          "Nacional",
          "Estadual",
          "Estadual",
          "Estadual",
          "Nacional",
          "Regional",
          "Estadual",
          "Estadual",
          "Nacional",
          "Nacional",
          "Nacional",
          "Estadual",
          "Nacional",
          "Nacional",
          null,
          "Estadual",
          "Estadual",
          "Estadual",
          "Estadual",
          "Estadual",
          "Nacional",
          null,
          "Estadual",
          "Nacional",
          null,
          "Estadual",
          "Estadual",
          "Nacional",
          "Estadual",
          "Regional",
          "Estadual",
          "Estadual",
          "Nacional",
          "Estadual",
          "Estadual",
          "Estadual",
          "Nacional",
          "Estadual",
          "Nacional",
          "Estadual",
          "Nacional",
          "Estadual",
          "Estadual",
          "Nacional",
          "Regional",
          "Estadual",
          "Nacional",
          "Estadual",
          "Estadual",
          "Estadual",
          "Estadual",
          "Nacional",
          "Estadual",
          null,
          "Nacional",
          "Estadual",
          null,
          "Estadual",
          "Estadual",
          "Nacional",
          "Regional",
          "Estadual",
          "Regional",
          "Estadual",
          "Estadual",
          "Estadual",
          "Nacional",
          "Estadual",
          "Estadual",
          "Nacional",
          "Nacional",
          "Estadual",
          "Nacional",
          "Estadual",
          "Nacional",
          "Regional",
          "Estadual",
          "Estadual",
          "Estadual",
          "Estadual",
          "Estadual",
          "Estadual",
          "Nacional",
          "Estadual",
          "Nacional",
          "Estadual",
          null,
          "Estadual",
          "Estadual",
          "Estadual",
          "Regional",
          "Nacional",
          "Estadual",
          "Estadual",
          "Nacional",
          "Nacional",
          "Estadual",
          "Nacional",
          "Estadual",
          "Estadual",
          "Estadual",
          "Estadual",
          "Estadual",
          "Nacional",
          "Regional",
          "Estadual",
          null,
          "Estadual",
          "Estadual",
          "Estadual",
          "Estadual",
          "Estadual",
          "Nacional",
          "Estadual",
          null,
          "Nacional",
          "Estadual",
          "Estadual"
         ],
         "yaxis": "y"
        }
       ],
       "layout": {
        "barmode": "relative",
        "height": 400,
        "legend": {
         "tracegroupgap": 0
        },
        "template": {
         "data": {
          "bar": [
           {
            "error_x": {
             "color": "#2a3f5f"
            },
            "error_y": {
             "color": "#2a3f5f"
            },
            "marker": {
             "line": {
              "color": "#E5ECF6",
              "width": 0.5
             },
             "pattern": {
              "fillmode": "overlay",
              "size": 10,
              "solidity": 0.2
             }
            },
            "type": "bar"
           }
          ],
          "barpolar": [
           {
            "marker": {
             "line": {
              "color": "#E5ECF6",
              "width": 0.5
             },
             "pattern": {
              "fillmode": "overlay",
              "size": 10,
              "solidity": 0.2
             }
            },
            "type": "barpolar"
           }
          ],
          "carpet": [
           {
            "aaxis": {
             "endlinecolor": "#2a3f5f",
             "gridcolor": "white",
             "linecolor": "white",
             "minorgridcolor": "white",
             "startlinecolor": "#2a3f5f"
            },
            "baxis": {
             "endlinecolor": "#2a3f5f",
             "gridcolor": "white",
             "linecolor": "white",
             "minorgridcolor": "white",
             "startlinecolor": "#2a3f5f"
            },
            "type": "carpet"
           }
          ],
          "choropleth": [
           {
            "colorbar": {
             "outlinewidth": 0,
             "ticks": ""
            },
            "type": "choropleth"
           }
          ],
          "contour": [
           {
            "colorbar": {
             "outlinewidth": 0,
             "ticks": ""
            },
            "colorscale": [
             [
              0,
              "#0d0887"
             ],
             [
              0.1111111111111111,
              "#46039f"
             ],
             [
              0.2222222222222222,
              "#7201a8"
             ],
             [
              0.3333333333333333,
              "#9c179e"
             ],
             [
              0.4444444444444444,
              "#bd3786"
             ],
             [
              0.5555555555555556,
              "#d8576b"
             ],
             [
              0.6666666666666666,
              "#ed7953"
             ],
             [
              0.7777777777777778,
              "#fb9f3a"
             ],
             [
              0.8888888888888888,
              "#fdca26"
             ],
             [
              1,
              "#f0f921"
             ]
            ],
            "type": "contour"
           }
          ],
          "contourcarpet": [
           {
            "colorbar": {
             "outlinewidth": 0,
             "ticks": ""
            },
            "type": "contourcarpet"
           }
          ],
          "heatmap": [
           {
            "colorbar": {
             "outlinewidth": 0,
             "ticks": ""
            },
            "colorscale": [
             [
              0,
              "#0d0887"
             ],
             [
              0.1111111111111111,
              "#46039f"
             ],
             [
              0.2222222222222222,
              "#7201a8"
             ],
             [
              0.3333333333333333,
              "#9c179e"
             ],
             [
              0.4444444444444444,
              "#bd3786"
             ],
             [
              0.5555555555555556,
              "#d8576b"
             ],
             [
              0.6666666666666666,
              "#ed7953"
             ],
             [
              0.7777777777777778,
              "#fb9f3a"
             ],
             [
              0.8888888888888888,
              "#fdca26"
             ],
             [
              1,
              "#f0f921"
             ]
            ],
            "type": "heatmap"
           }
          ],
          "heatmapgl": [
           {
            "colorbar": {
             "outlinewidth": 0,
             "ticks": ""
            },
            "colorscale": [
             [
              0,
              "#0d0887"
             ],
             [
              0.1111111111111111,
              "#46039f"
             ],
             [
              0.2222222222222222,
              "#7201a8"
             ],
             [
              0.3333333333333333,
              "#9c179e"
             ],
             [
              0.4444444444444444,
              "#bd3786"
             ],
             [
              0.5555555555555556,
              "#d8576b"
             ],
             [
              0.6666666666666666,
              "#ed7953"
             ],
             [
              0.7777777777777778,
              "#fb9f3a"
             ],
             [
              0.8888888888888888,
              "#fdca26"
             ],
             [
              1,
              "#f0f921"
             ]
            ],
            "type": "heatmapgl"
           }
          ],
          "histogram": [
           {
            "marker": {
             "pattern": {
              "fillmode": "overlay",
              "size": 10,
              "solidity": 0.2
             }
            },
            "type": "histogram"
           }
          ],
          "histogram2d": [
           {
            "colorbar": {
             "outlinewidth": 0,
             "ticks": ""
            },
            "colorscale": [
             [
              0,
              "#0d0887"
             ],
             [
              0.1111111111111111,
              "#46039f"
             ],
             [
              0.2222222222222222,
              "#7201a8"
             ],
             [
              0.3333333333333333,
              "#9c179e"
             ],
             [
              0.4444444444444444,
              "#bd3786"
             ],
             [
              0.5555555555555556,
              "#d8576b"
             ],
             [
              0.6666666666666666,
              "#ed7953"
             ],
             [
              0.7777777777777778,
              "#fb9f3a"
             ],
             [
              0.8888888888888888,
              "#fdca26"
             ],
             [
              1,
              "#f0f921"
             ]
            ],
            "type": "histogram2d"
           }
          ],
          "histogram2dcontour": [
           {
            "colorbar": {
             "outlinewidth": 0,
             "ticks": ""
            },
            "colorscale": [
             [
              0,
              "#0d0887"
             ],
             [
              0.1111111111111111,
              "#46039f"
             ],
             [
              0.2222222222222222,
              "#7201a8"
             ],
             [
              0.3333333333333333,
              "#9c179e"
             ],
             [
              0.4444444444444444,
              "#bd3786"
             ],
             [
              0.5555555555555556,
              "#d8576b"
             ],
             [
              0.6666666666666666,
              "#ed7953"
             ],
             [
              0.7777777777777778,
              "#fb9f3a"
             ],
             [
              0.8888888888888888,
              "#fdca26"
             ],
             [
              1,
              "#f0f921"
             ]
            ],
            "type": "histogram2dcontour"
           }
          ],
          "mesh3d": [
           {
            "colorbar": {
             "outlinewidth": 0,
             "ticks": ""
            },
            "type": "mesh3d"
           }
          ],
          "parcoords": [
           {
            "line": {
             "colorbar": {
              "outlinewidth": 0,
              "ticks": ""
             }
            },
            "type": "parcoords"
           }
          ],
          "pie": [
           {
            "automargin": true,
            "type": "pie"
           }
          ],
          "scatter": [
           {
            "fillpattern": {
             "fillmode": "overlay",
             "size": 10,
             "solidity": 0.2
            },
            "type": "scatter"
           }
          ],
          "scatter3d": [
           {
            "line": {
             "colorbar": {
              "outlinewidth": 0,
              "ticks": ""
             }
            },
            "marker": {
             "colorbar": {
              "outlinewidth": 0,
              "ticks": ""
             }
            },
            "type": "scatter3d"
           }
          ],
          "scattercarpet": [
           {
            "marker": {
             "colorbar": {
              "outlinewidth": 0,
              "ticks": ""
             }
            },
            "type": "scattercarpet"
           }
          ],
          "scattergeo": [
           {
            "marker": {
             "colorbar": {
              "outlinewidth": 0,
              "ticks": ""
             }
            },
            "type": "scattergeo"
           }
          ],
          "scattergl": [
           {
            "marker": {
             "colorbar": {
              "outlinewidth": 0,
              "ticks": ""
             }
            },
            "type": "scattergl"
           }
          ],
          "scattermapbox": [
           {
            "marker": {
             "colorbar": {
              "outlinewidth": 0,
              "ticks": ""
             }
            },
            "type": "scattermapbox"
           }
          ],
          "scatterpolar": [
           {
            "marker": {
             "colorbar": {
              "outlinewidth": 0,
              "ticks": ""
             }
            },
            "type": "scatterpolar"
           }
          ],
          "scatterpolargl": [
           {
            "marker": {
             "colorbar": {
              "outlinewidth": 0,
              "ticks": ""
             }
            },
            "type": "scatterpolargl"
           }
          ],
          "scatterternary": [
           {
            "marker": {
             "colorbar": {
              "outlinewidth": 0,
              "ticks": ""
             }
            },
            "type": "scatterternary"
           }
          ],
          "surface": [
           {
            "colorbar": {
             "outlinewidth": 0,
             "ticks": ""
            },
            "colorscale": [
             [
              0,
              "#0d0887"
             ],
             [
              0.1111111111111111,
              "#46039f"
             ],
             [
              0.2222222222222222,
              "#7201a8"
             ],
             [
              0.3333333333333333,
              "#9c179e"
             ],
             [
              0.4444444444444444,
              "#bd3786"
             ],
             [
              0.5555555555555556,
              "#d8576b"
             ],
             [
              0.6666666666666666,
              "#ed7953"
             ],
             [
              0.7777777777777778,
              "#fb9f3a"
             ],
             [
              0.8888888888888888,
              "#fdca26"
             ],
             [
              1,
              "#f0f921"
             ]
            ],
            "type": "surface"
           }
          ],
          "table": [
           {
            "cells": {
             "fill": {
              "color": "#EBF0F8"
             },
             "line": {
              "color": "white"
             }
            },
            "header": {
             "fill": {
              "color": "#C8D4E3"
             },
             "line": {
              "color": "white"
             }
            },
            "type": "table"
           }
          ]
         },
         "layout": {
          "annotationdefaults": {
           "arrowcolor": "#2a3f5f",
           "arrowhead": 0,
           "arrowwidth": 1
          },
          "autotypenumbers": "strict",
          "coloraxis": {
           "colorbar": {
            "outlinewidth": 0,
            "ticks": ""
           }
          },
          "colorscale": {
           "diverging": [
            [
             0,
             "#8e0152"
            ],
            [
             0.1,
             "#c51b7d"
            ],
            [
             0.2,
             "#de77ae"
            ],
            [
             0.3,
             "#f1b6da"
            ],
            [
             0.4,
             "#fde0ef"
            ],
            [
             0.5,
             "#f7f7f7"
            ],
            [
             0.6,
             "#e6f5d0"
            ],
            [
             0.7,
             "#b8e186"
            ],
            [
             0.8,
             "#7fbc41"
            ],
            [
             0.9,
             "#4d9221"
            ],
            [
             1,
             "#276419"
            ]
           ],
           "sequential": [
            [
             0,
             "#0d0887"
            ],
            [
             0.1111111111111111,
             "#46039f"
            ],
            [
             0.2222222222222222,
             "#7201a8"
            ],
            [
             0.3333333333333333,
             "#9c179e"
            ],
            [
             0.4444444444444444,
             "#bd3786"
            ],
            [
             0.5555555555555556,
             "#d8576b"
            ],
            [
             0.6666666666666666,
             "#ed7953"
            ],
            [
             0.7777777777777778,
             "#fb9f3a"
            ],
            [
             0.8888888888888888,
             "#fdca26"
            ],
            [
             1,
             "#f0f921"
            ]
           ],
           "sequentialminus": [
            [
             0,
             "#0d0887"
            ],
            [
             0.1111111111111111,
             "#46039f"
            ],
            [
             0.2222222222222222,
             "#7201a8"
            ],
            [
             0.3333333333333333,
             "#9c179e"
            ],
            [
             0.4444444444444444,
             "#bd3786"
            ],
            [
             0.5555555555555556,
             "#d8576b"
            ],
            [
             0.6666666666666666,
             "#ed7953"
            ],
            [
             0.7777777777777778,
             "#fb9f3a"
            ],
            [
             0.8888888888888888,
             "#fdca26"
            ],
            [
             1,
             "#f0f921"
            ]
           ]
          },
          "colorway": [
           "#636efa",
           "#EF553B",
           "#00cc96",
           "#ab63fa",
           "#FFA15A",
           "#19d3f3",
           "#FF6692",
           "#B6E880",
           "#FF97FF",
           "#FECB52"
          ],
          "font": {
           "color": "#2a3f5f"
          },
          "geo": {
           "bgcolor": "white",
           "lakecolor": "white",
           "landcolor": "#E5ECF6",
           "showlakes": true,
           "showland": true,
           "subunitcolor": "white"
          },
          "hoverlabel": {
           "align": "left"
          },
          "hovermode": "closest",
          "mapbox": {
           "style": "light"
          },
          "paper_bgcolor": "white",
          "plot_bgcolor": "#E5ECF6",
          "polar": {
           "angularaxis": {
            "gridcolor": "white",
            "linecolor": "white",
            "ticks": ""
           },
           "bgcolor": "#E5ECF6",
           "radialaxis": {
            "gridcolor": "white",
            "linecolor": "white",
            "ticks": ""
           }
          },
          "scene": {
           "xaxis": {
            "backgroundcolor": "#E5ECF6",
            "gridcolor": "white",
            "gridwidth": 2,
            "linecolor": "white",
            "showbackground": true,
            "ticks": "",
            "zerolinecolor": "white"
           },
           "yaxis": {
            "backgroundcolor": "#E5ECF6",
            "gridcolor": "white",
            "gridwidth": 2,
            "linecolor": "white",
            "showbackground": true,
            "ticks": "",
            "zerolinecolor": "white"
           },
           "zaxis": {
            "backgroundcolor": "#E5ECF6",
            "gridcolor": "white",
            "gridwidth": 2,
            "linecolor": "white",
            "showbackground": true,
            "ticks": "",
            "zerolinecolor": "white"
           }
          },
          "shapedefaults": {
           "line": {
            "color": "#2a3f5f"
           }
          },
          "ternary": {
           "aaxis": {
            "gridcolor": "white",
            "linecolor": "white",
            "ticks": ""
           },
           "baxis": {
            "gridcolor": "white",
            "linecolor": "white",
            "ticks": ""
           },
           "bgcolor": "#E5ECF6",
           "caxis": {
            "gridcolor": "white",
            "linecolor": "white",
            "ticks": ""
           }
          },
          "title": {
           "x": 0.05
          },
          "xaxis": {
           "automargin": true,
           "gridcolor": "white",
           "linecolor": "white",
           "ticks": "",
           "title": {
            "standoff": 15
           },
           "zerolinecolor": "white",
           "zerolinewidth": 2
          },
          "yaxis": {
           "automargin": true,
           "gridcolor": "white",
           "linecolor": "white",
           "ticks": "",
           "title": {
            "standoff": 15
           },
           "zerolinecolor": "white",
           "zerolinewidth": 2
          }
         }
        },
        "title": {
         "text": "Total de portes de arma por abrangência"
        },
        "xaxis": {
         "anchor": "y",
         "domain": [
          0,
          1
         ],
         "title": {
          "text": "TOTAL"
         }
        },
        "yaxis": {
         "anchor": "x",
         "domain": [
          0,
          1
         ],
         "title": {
          "text": "ABRANGENCIA"
         }
        }
       }
      },
      "text/html": [
       "<div>                            <div id=\"b231ee8f-f7b7-488c-a713-d92e26131ece\" class=\"plotly-graph-div\" style=\"height:400px; width:100%;\"></div>            <script type=\"text/javascript\">                require([\"plotly\"], function(Plotly) {                    window.PLOTLYENV=window.PLOTLYENV || {};                                    if (document.getElementById(\"b231ee8f-f7b7-488c-a713-d92e26131ece\")) {                    Plotly.newPlot(                        \"b231ee8f-f7b7-488c-a713-d92e26131ece\",                        [{\"alignmentgroup\":\"True\",\"hovertemplate\":\"TOTAL=%{x}<br>ABRANGENCIA=%{y}<extra></extra>\",\"legendgroup\":\"\",\"marker\":{\"color\":\"rgb(18, 63, 90)\",\"pattern\":{\"shape\":\"\"}},\"name\":\"\",\"offsetgroup\":\"\",\"orientation\":\"h\",\"showlegend\":false,\"textposition\":\"auto\",\"x\":[15,3,1,12,1,1,55,1,1,9,2,1,2,30,19,60,3,5,18,2,19,5,7,1,44,8,22,1,19,9,3,10,2,38,17,7,1,1,4,1,12,1,40,5,6,12,12,3,68,29,3,131,5,7,32,1,1,32,4,1,1,16,4,1,28,3,22,1,22,56,3,41,4,2,59,1,27,25,1,68,1,2,11,3,135,4,32,3,14,2,35,13,1,151,1,5,3,14,11,1,1,1,9,2,1,65,41,3,12,112,3,5,1,37,91,6,7,67,8,18,2,2,5,36,490,13,88,8,2,10,1,25,6,1,20,1,3,1,2,1,2,2,6,8,1,30,87,38,8,134,1,38,2,6,9,17,1,22,17,7,5,11,8,1,10,1,16,5,1,3,1,1,1,6,24,1,31,3,4,5,3,1,1,10,1,3,123,14,5,18,24,1,4,6,3,38,8,581,4,2,2,4,11,33,8,1,27,8,4,3,36,36,5,5,1,27,1,7,1,4,1,2,95,6,3,10,1,26,6,3,4,2,1,14,1,1,1,5,2,180,146,1,42,1,7,15,10,2,91,5,7,6,25,7,23,1,335,4,6,2,5,4,5,26,2,2,4,9,2,7,6,13,1,40,46,2,4,1,39,2,10,1,22,12,2,1,1,2,5,123,26,2,3,18,30,3,1,6,9,1,3,2,13,7,2,68,7,1,52,1,2,2,3,3,1,5,141,4,7,8,1,17,1,2,2,17,1,27,236,27,1,1,8,1,11,1,5,2,12,1,14,6,4,36,1,5,29,26,37,17,34,1,17,2,23,16,1,24,1,5,80,22,3,6,11,4,36,4,2,16,1,2,1,6,6,1,11,3,1,2,22,3,2,2,3,3,2,105,8,4,51,3,9,1,56,2,1,1,10,1,541,6,1,20,5,16,1,2,2,24,4,39,4,53,94,11,80,19,62,1,1,15,24,2,1,5,1,13,2,23,5,48,4,2,57,5,1,3,1,9,1,22,1,5,5,2,1,1,21,7,8,3,3,2,1,1,96,8,5,30,1,13,2,29,160,8,1,1,2,2,4,12,1,1,8,2,1,8,1,6,1,6,7,7,38,29,4,41,2,32,14,7,2,2,74,8,9,2,1,1,49,7,2,64,8,2,30,2,1,3,13,3,22,2,26,1,44,1,2,1,38,86,4,4,4,4,16,5,4,1,14,34,303,1,13,9,4,5,7,5,2,17,4,3,14,2,30,59,27,46,9,9,29,5,2,4,2,1,177,2,16,4,4,15,2,46,8,5,3,11,1,1,1,1,18,1,4,18,1,31,4,1,87,5,4,14,11,1,1,8,18,1,208,3,2,3,10,5,19,3,1,110,1,1,30,2,50,23,29,4,54,3,34,3,34,6,1,1,1,9,2,2,8,7,13,1,40,1,3,7,2,2,7,14,4,1,1,9,1,2,4,2,2,1,134,16,12,22,2,4,3,17,315,1,6,3,9,3,24,1,1,3,1,1,6,3,1,3,3,58,59,25,6,20,2,1,1,16,92,5,2,19,1,2,21,4,14,17,1,5,7,1,1,16,2,23,10,1,2,5,1,4,4,1,83,10,7,1,2,11,2,61,27,1,286,1,10,56,1,1,30,5,1,24,1,10,19,2,2,157,46,60,22,2,13,44,2,1,3,19,35,4,2,32,1,39,2,16,36,11,3,4,1,5,2,8,5,15,4,18,5,6,7,2,78,4,8,5,5,5,10,1,19,44,2,435,4,2,1,4],\"xaxis\":\"x\",\"y\":[null,\"Estadual\",\"Regional\",\"Estadual\",\"Nacional\",\"Regional\",\"Estadual\",null,\"Estadual\",\"Estadual\",\"Estadual\",\"Nacional\",\"Regional\",\"Estadual\",\"Nacional\",\"Estadual\",\"Nacional\",\"Estadual\",\"Estadual\",\"Nacional\",\"Estadual\",\"Estadual\",\"Estadual\",\"Nacional\",\"Estadual\",\"Nacional\",\"Estadual\",\"Nacional\",null,\"Estadual\",\"Estadual\",\"Estadual\",\"Estadual\",\"Estadual\",\"Estadual\",\"Nacional\",\"Regional\",\"Estadual\",\"Estadual\",\"Estadual\",\"Estadual\",\"Nacional\",\"Estadual\",\"Nacional\",\"Estadual\",\"Estadual\",\"Nacional\",\"Estadual\",\"Estadual\",\"Estadual\",\"Nacional\",\"Estadual\",null,\"Estadual\",\"Estadual\",\"Nacional\",\"Regional\",\"Estadual\",\"Nacional\",\"Estadual\",\"Estadual\",\"Estadual\",\"Nacional\",\"Regional\",\"Estadual\",\"Estadual\",\"Estadual\",null,\"Estadual\",\"Nacional\",\"Estadual\",\"Nacional\",\"Nacional\",null,\"Estadual\",\"Nacional\",\"Estadual\",\"Estadual\",\"Nacional\",\"Estadual\",\"Nacional\",\"Estadual\",\"Estadual\",\"Estadual\",\"Estadual\",\"Nacional\",\"Estadual\",null,\"Estadual\",\"Nacional\",null,\"Estadual\",\"Nacional\",\"Estadual\",null,\"Estadual\",\"Estadual\",\"Estadual\",\"Nacional\",null,\"Nacional\",null,\"Estadual\",\"Nacional\",\"Regional\",\"Estadual\",\"Estadual\",\"Nacional\",\"Nacional\",\"Estadual\",null,\"Estadual\",\"Estadual\",\"Estadual\",\"Estadual\",\"Nacional\",\"Regional\",\"Estadual\",\"Nacional\",\"Estadual\",null,\"Estadual\",null,\"Estadual\",\"Estadual\",\"Nacional\",null,\"Estadual\",null,\"Estadual\",\"Regional\",\"Nacional\",\"Estadual\",\"Regional\",\"Estadual\",null,\"Estadual\",\"Nacional\",\"Regional\",\"Estadual\",\"Estadual\",\"Nacional\",\"Estadual\",\"Estadual\",\"Nacional\",\"Estadual\",\"Nacional\",\"Estadual\",\"Nacional\",\"Nacional\",null,\"Estadual\",\"Nacional\",\"Estadual\",\"Nacional\",\"Estadual\",\"Nacional\",\"Estadual\",\"Estadual\",\"Estadual\",\"Estadual\",\"Estadual\",\"Estadual\",\"Nacional\",null,\"Estadual\",\"Estadual\",\"Estadual\",\"Estadual\",\"Estadual\",\"Nacional\",\"Estadual\",\"Estadual\",\"Nacional\",\"Estadual\",null,\"Estadual\",\"Nacional\",\"Nacional\",\"Nacional\",\"Estadual\",\"Nacional\",\"Nacional\",\"Estadual\",\"Nacional\",\"Estadual\",\"Estadual\",\"Nacional\",\"Regional\",\"Estadual\",\"Estadual\",\"Nacional\",\"Nacional\",\"Estadual\",\"Estadual\",\"Estadual\",\"Nacional\",\"Estadual\",\"Nacional\",\"Estadual\",null,\"Estadual\",\"Estadual\",\"Estadual\",\"Estadual\",\"Nacional\",\"Estadual\",\"Nacional\",\"Nacional\",\"Estadual\",\"Estadual\",\"Nacional\",\"Estadual\",\"Nacional\",\"Nacional\",\"Estadual\",\"Nacional\",\"Estadual\",\"Estadual\",\"Estadual\",\"Estadual\",\"Estadual\",\"Estadual\",\"Estadual\",\"Nacional\",\"Estadual\",\"Nacional\",null,\"Estadual\",\"Estadual\",\"Nacional\",\"Estadual\",\"Nacional\",\"Estadual\",\"Nacional\",\"Estadual\",\"Nacional\",\"Estadual\",\"Nacional\",\"Estadual\",null,null,\"Estadual\",\"Nacional\",\"Estadual\",\"Nacional\",\"Estadual\",\"Estadual\",\"Estadual\",\"Nacional\",\"Regional\",\"Estadual\",\"Estadual\",\"Estadual\",\"Estadual\",\"Nacional\",\"Estadual\",null,\"Nacional\",\"Estadual\",\"Estadual\",null,\"Estadual\",\"Estadual\",\"Nacional\",\"Regional\",\"Estadual\",\"Estadual\",\"Nacional\",\"Estadual\",\"Estadual\",\"Estadual\",null,\"Estadual\",\"Nacional\",\"Nacional\",\"Nacional\",null,\"Estadual\",\"Nacional\",\"Estadual\",null,\"Estadual\",\"Estadual\",\"Nacional\",null,\"Estadual\",\"Estadual\",\"Estadual\",\"Estadual\",\"Estadual\",\"Nacional\",null,\"Estadual\",null,\"Estadual\",\"Nacional\",\"Estadual\",\"Estadual\",\"Nacional\",\"Estadual\",\"Nacional\",\"Estadual\",\"Nacional\",\"Regional\",\"Estadual\",null,null,\"Estadual\",\"Nacional\",\"Nacional\",\"Estadual\",\"Estadual\",null,\"Estadual\",\"Nacional\",\"Estadual\",\"Nacional\",\"Regional\",\"Estadual\",\"Nacional\",\"Estadual\",\"Estadual\",\"Nacional\",\"Estadual\",\"Estadual\",null,\"Estadual\",\"Estadual\",null,null,\"Estadual\",null,\"Estadual\",\"Estadual\",\"Nacional\",\"Estadual\",\"Estadual\",\"Estadual\",\"Nacional\",\"Estadual\",\"Nacional\",\"Estadual\",\"Estadual\",\"Nacional\",null,\"Estadual\",\"Nacional\",\"Nacional\",\"Nacional\",\"Estadual\",\"Nacional\",\"Estadual\",\"Nacional\",\"Estadual\",\"Estadual\",\"Estadual\",\"Estadual\",null,\"Estadual\",\"Estadual\",\"Estadual\",\"Estadual\",\"Estadual\",\"Estadual\",\"Nacional\",null,\"Estadual\",\"Nacional\",\"Estadual\",null,\"Estadual\",null,\"Estadual\",\"Nacional\",null,\"Estadual\",\"Nacional\",\"Regional\",null,\"Estadual\",\"Nacional\",\"Nacional\",\"Nacional\",\"Estadual\",null,\"Estadual\",\"Estadual\",\"Nacional\",\"Regional\",\"Estadual\",null,\"Estadual\",\"Regional\",\"Estadual\",\"Nacional\",null,\"Nacional\",\"Estadual\",\"Nacional\",\"Estadual\",null,\"Estadual\",null,\"Estadual\",\"Estadual\",\"Nacional\",\"Nacional\",\"Estadual\",\"Estadual\",\"Estadual\",\"Estadual\",null,\"Estadual\",\"Nacional\",\"Estadual\",\"Nacional\",\"Nacional\",\"Estadual\",\"Nacional\",null,\"Estadual\",\"Estadual\",\"Estadual\",null,\"Estadual\",\"Nacional\",\"Estadual\",\"Nacional\",\"Estadual\",\"Nacional\",null,\"Estadual\",\"Nacional\",\"Estadual\",\"Estadual\",\"Nacional\",\"Estadual\",null,\"Estadual\",\"Regional\",\"Estadual\",\"Estadual\",\"Estadual\",\"Nacional\",\"Estadual\",null,null,\"Estadual\",\"Nacional\",\"Nacional\",\"Estadual\",\"Estadual\",null,\"Estadual\",\"Nacional\",\"Estadual\",\"Nacional\",\"Regional\",\"Estadual\",\"Nacional\",\"Estadual\",\"Nacional\",\"Estadual\",\"Estadual\",\"Nacional\",null,\"Estadual\",\"Estadual\",\"Nacional\",null,\"Estadual\",\"Nacional\",\"Regional\",\"Estadual\",\"Nacional\",\"Estadual\",\"Estadual\",\"Estadual\",\"Estadual\",\"Nacional\",\"Estadual\",\"Estadual\",\"Estadual\",\"Estadual\",\"Nacional\",\"Nacional\",\"Estadual\",\"Nacional\",\"Estadual\",\"Estadual\",\"Estadual\",\"Estadual\",\"Estadual\",\"Estadual\",\"Estadual\",\"Estadual\",\"Nacional\",\"Estadual\",\"Nacional\",null,\"Estadual\",\"Estadual\",\"Estadual\",\"Estadual\",\"Nacional\",\"Estadual\",\"Nacional\",null,\"Estadual\",\"Estadual\",\"Nacional\",\"Estadual\",null,\"Estadual\",\"Nacional\",\"Nacional\",\"Estadual\",\"Estadual\",\"Estadual\",\"Estadual\",\"Estadual\",\"Nacional\",\"Regional\",\"Estadual\",\"Nacional\",\"Estadual\",\"Estadual\",\"Estadual\",\"Nacional\",\"Estadual\",\"Estadual\",\"Estadual\",\"Estadual\",\"Estadual\",null,\"Estadual\",\"Estadual\",\"Nacional\",\"Estadual\",\"Estadual\",\"Estadual\",\"Estadual\",\"Regional\",\"Estadual\",null,\"Estadual\",\"Nacional\",\"Estadual\",\"Estadual\",\"Nacional\",\"Estadual\",\"Estadual\",\"Nacional\",\"Estadual\",\"Nacional\",\"Estadual\",\"Nacional\",\"Estadual\",\"Nacional\",\"Estadual\",\"Estadual\",\"Nacional\",\"Estadual\",\"Nacional\",null,\"Estadual\",\"Estadual\",\"Estadual\",\"Estadual\",\"Nacional\",\"Estadual\",\"Nacional\",\"Estadual\",\"Estadual\",\"Regional\",\"Estadual\",\"Estadual\",\"Nacional\",\"Estadual\",\"Estadual\",\"Nacional\",\"Estadual\",\"Nacional\",\"Regional\",\"Estadual\",\"Estadual\",\"Estadual\",\"Nacional\",\"Estadual\",\"Estadual\",\"Nacional\",\"Estadual\",null,\"Nacional\",\"Estadual\",null,\"Estadual\",\"Estadual\",\"Nacional\",\"Regional\",\"Estadual\",\"Regional\",\"Estadual\",\"Estadual\",\"Estadual\",\"Estadual\",\"Estadual\",\"Nacional\",\"Nacional\",\"Estadual\",\"Nacional\",\"Estadual\",\"Nacional\",\"Estadual\",\"Estadual\",\"Estadual\",\"Nacional\",\"Nacional\",\"Estadual\",\"Nacional\",null,\"Estadual\",null,\"Estadual\",\"Nacional\",\"Estadual\",\"Nacional\",\"Estadual\",\"Estadual\",\"Nacional\",\"Regional\",\"Nacional\",\"Estadual\",\"Nacional\",\"Regional\",\"Nacional\",\"Estadual\",\"Nacional\",\"Estadual\",\"Nacional\",\"Estadual\",\"Nacional\",\"Regional\",\"Estadual\",\"Nacional\",\"Regional\",\"Estadual\",null,\"Estadual\",\"Estadual\",\"Estadual\",\"Estadual\",\"Regional\",null,\"Estadual\",null,\"Estadual\",\"Estadual\",\"Nacional\",null,\"Estadual\",\"Nacional\",\"Estadual\",\"Estadual\",\"Estadual\",\"Nacional\",\"Regional\",\"Estadual\",\"Estadual\",\"Nacional\",\"Nacional\",\"Nacional\",\"Estadual\",\"Nacional\",\"Nacional\",null,\"Estadual\",\"Estadual\",\"Estadual\",\"Estadual\",\"Estadual\",\"Nacional\",null,\"Estadual\",\"Nacional\",null,\"Estadual\",\"Estadual\",\"Nacional\",\"Estadual\",\"Regional\",\"Estadual\",\"Estadual\",\"Nacional\",\"Estadual\",\"Estadual\",\"Estadual\",\"Nacional\",\"Estadual\",\"Nacional\",\"Estadual\",\"Nacional\",\"Estadual\",\"Estadual\",\"Nacional\",\"Regional\",\"Estadual\",\"Nacional\",\"Estadual\",\"Estadual\",\"Estadual\",\"Estadual\",\"Nacional\",\"Estadual\",null,\"Nacional\",\"Estadual\",null,\"Estadual\",\"Estadual\",\"Nacional\",\"Regional\",\"Estadual\",\"Regional\",\"Estadual\",\"Estadual\",\"Estadual\",\"Nacional\",\"Estadual\",\"Estadual\",\"Nacional\",\"Nacional\",\"Estadual\",\"Nacional\",\"Estadual\",\"Nacional\",\"Regional\",\"Estadual\",\"Estadual\",\"Estadual\",\"Estadual\",\"Estadual\",\"Estadual\",\"Nacional\",\"Estadual\",\"Nacional\",\"Estadual\",null,\"Estadual\",\"Estadual\",\"Estadual\",\"Regional\",\"Nacional\",\"Estadual\",\"Estadual\",\"Nacional\",\"Nacional\",\"Estadual\",\"Nacional\",\"Estadual\",\"Estadual\",\"Estadual\",\"Estadual\",\"Estadual\",\"Nacional\",\"Regional\",\"Estadual\",null,\"Estadual\",\"Estadual\",\"Estadual\",\"Estadual\",\"Estadual\",\"Nacional\",\"Estadual\",null,\"Nacional\",\"Estadual\",\"Estadual\"],\"yaxis\":\"y\",\"type\":\"bar\"}],                        {\"template\":{\"data\":{\"histogram2dcontour\":[{\"type\":\"histogram2dcontour\",\"colorbar\":{\"outlinewidth\":0,\"ticks\":\"\"},\"colorscale\":[[0.0,\"#0d0887\"],[0.1111111111111111,\"#46039f\"],[0.2222222222222222,\"#7201a8\"],[0.3333333333333333,\"#9c179e\"],[0.4444444444444444,\"#bd3786\"],[0.5555555555555556,\"#d8576b\"],[0.6666666666666666,\"#ed7953\"],[0.7777777777777778,\"#fb9f3a\"],[0.8888888888888888,\"#fdca26\"],[1.0,\"#f0f921\"]]}],\"choropleth\":[{\"type\":\"choropleth\",\"colorbar\":{\"outlinewidth\":0,\"ticks\":\"\"}}],\"histogram2d\":[{\"type\":\"histogram2d\",\"colorbar\":{\"outlinewidth\":0,\"ticks\":\"\"},\"colorscale\":[[0.0,\"#0d0887\"],[0.1111111111111111,\"#46039f\"],[0.2222222222222222,\"#7201a8\"],[0.3333333333333333,\"#9c179e\"],[0.4444444444444444,\"#bd3786\"],[0.5555555555555556,\"#d8576b\"],[0.6666666666666666,\"#ed7953\"],[0.7777777777777778,\"#fb9f3a\"],[0.8888888888888888,\"#fdca26\"],[1.0,\"#f0f921\"]]}],\"heatmap\":[{\"type\":\"heatmap\",\"colorbar\":{\"outlinewidth\":0,\"ticks\":\"\"},\"colorscale\":[[0.0,\"#0d0887\"],[0.1111111111111111,\"#46039f\"],[0.2222222222222222,\"#7201a8\"],[0.3333333333333333,\"#9c179e\"],[0.4444444444444444,\"#bd3786\"],[0.5555555555555556,\"#d8576b\"],[0.6666666666666666,\"#ed7953\"],[0.7777777777777778,\"#fb9f3a\"],[0.8888888888888888,\"#fdca26\"],[1.0,\"#f0f921\"]]}],\"heatmapgl\":[{\"type\":\"heatmapgl\",\"colorbar\":{\"outlinewidth\":0,\"ticks\":\"\"},\"colorscale\":[[0.0,\"#0d0887\"],[0.1111111111111111,\"#46039f\"],[0.2222222222222222,\"#7201a8\"],[0.3333333333333333,\"#9c179e\"],[0.4444444444444444,\"#bd3786\"],[0.5555555555555556,\"#d8576b\"],[0.6666666666666666,\"#ed7953\"],[0.7777777777777778,\"#fb9f3a\"],[0.8888888888888888,\"#fdca26\"],[1.0,\"#f0f921\"]]}],\"contourcarpet\":[{\"type\":\"contourcarpet\",\"colorbar\":{\"outlinewidth\":0,\"ticks\":\"\"}}],\"contour\":[{\"type\":\"contour\",\"colorbar\":{\"outlinewidth\":0,\"ticks\":\"\"},\"colorscale\":[[0.0,\"#0d0887\"],[0.1111111111111111,\"#46039f\"],[0.2222222222222222,\"#7201a8\"],[0.3333333333333333,\"#9c179e\"],[0.4444444444444444,\"#bd3786\"],[0.5555555555555556,\"#d8576b\"],[0.6666666666666666,\"#ed7953\"],[0.7777777777777778,\"#fb9f3a\"],[0.8888888888888888,\"#fdca26\"],[1.0,\"#f0f921\"]]}],\"surface\":[{\"type\":\"surface\",\"colorbar\":{\"outlinewidth\":0,\"ticks\":\"\"},\"colorscale\":[[0.0,\"#0d0887\"],[0.1111111111111111,\"#46039f\"],[0.2222222222222222,\"#7201a8\"],[0.3333333333333333,\"#9c179e\"],[0.4444444444444444,\"#bd3786\"],[0.5555555555555556,\"#d8576b\"],[0.6666666666666666,\"#ed7953\"],[0.7777777777777778,\"#fb9f3a\"],[0.8888888888888888,\"#fdca26\"],[1.0,\"#f0f921\"]]}],\"mesh3d\":[{\"type\":\"mesh3d\",\"colorbar\":{\"outlinewidth\":0,\"ticks\":\"\"}}],\"scatter\":[{\"fillpattern\":{\"fillmode\":\"overlay\",\"size\":10,\"solidity\":0.2},\"type\":\"scatter\"}],\"parcoords\":[{\"type\":\"parcoords\",\"line\":{\"colorbar\":{\"outlinewidth\":0,\"ticks\":\"\"}}}],\"scatterpolargl\":[{\"type\":\"scatterpolargl\",\"marker\":{\"colorbar\":{\"outlinewidth\":0,\"ticks\":\"\"}}}],\"bar\":[{\"error_x\":{\"color\":\"#2a3f5f\"},\"error_y\":{\"color\":\"#2a3f5f\"},\"marker\":{\"line\":{\"color\":\"#E5ECF6\",\"width\":0.5},\"pattern\":{\"fillmode\":\"overlay\",\"size\":10,\"solidity\":0.2}},\"type\":\"bar\"}],\"scattergeo\":[{\"type\":\"scattergeo\",\"marker\":{\"colorbar\":{\"outlinewidth\":0,\"ticks\":\"\"}}}],\"scatterpolar\":[{\"type\":\"scatterpolar\",\"marker\":{\"colorbar\":{\"outlinewidth\":0,\"ticks\":\"\"}}}],\"histogram\":[{\"marker\":{\"pattern\":{\"fillmode\":\"overlay\",\"size\":10,\"solidity\":0.2}},\"type\":\"histogram\"}],\"scattergl\":[{\"type\":\"scattergl\",\"marker\":{\"colorbar\":{\"outlinewidth\":0,\"ticks\":\"\"}}}],\"scatter3d\":[{\"type\":\"scatter3d\",\"line\":{\"colorbar\":{\"outlinewidth\":0,\"ticks\":\"\"}},\"marker\":{\"colorbar\":{\"outlinewidth\":0,\"ticks\":\"\"}}}],\"scattermapbox\":[{\"type\":\"scattermapbox\",\"marker\":{\"colorbar\":{\"outlinewidth\":0,\"ticks\":\"\"}}}],\"scatterternary\":[{\"type\":\"scatterternary\",\"marker\":{\"colorbar\":{\"outlinewidth\":0,\"ticks\":\"\"}}}],\"scattercarpet\":[{\"type\":\"scattercarpet\",\"marker\":{\"colorbar\":{\"outlinewidth\":0,\"ticks\":\"\"}}}],\"carpet\":[{\"aaxis\":{\"endlinecolor\":\"#2a3f5f\",\"gridcolor\":\"white\",\"linecolor\":\"white\",\"minorgridcolor\":\"white\",\"startlinecolor\":\"#2a3f5f\"},\"baxis\":{\"endlinecolor\":\"#2a3f5f\",\"gridcolor\":\"white\",\"linecolor\":\"white\",\"minorgridcolor\":\"white\",\"startlinecolor\":\"#2a3f5f\"},\"type\":\"carpet\"}],\"table\":[{\"cells\":{\"fill\":{\"color\":\"#EBF0F8\"},\"line\":{\"color\":\"white\"}},\"header\":{\"fill\":{\"color\":\"#C8D4E3\"},\"line\":{\"color\":\"white\"}},\"type\":\"table\"}],\"barpolar\":[{\"marker\":{\"line\":{\"color\":\"#E5ECF6\",\"width\":0.5},\"pattern\":{\"fillmode\":\"overlay\",\"size\":10,\"solidity\":0.2}},\"type\":\"barpolar\"}],\"pie\":[{\"automargin\":true,\"type\":\"pie\"}]},\"layout\":{\"autotypenumbers\":\"strict\",\"colorway\":[\"#636efa\",\"#EF553B\",\"#00cc96\",\"#ab63fa\",\"#FFA15A\",\"#19d3f3\",\"#FF6692\",\"#B6E880\",\"#FF97FF\",\"#FECB52\"],\"font\":{\"color\":\"#2a3f5f\"},\"hovermode\":\"closest\",\"hoverlabel\":{\"align\":\"left\"},\"paper_bgcolor\":\"white\",\"plot_bgcolor\":\"#E5ECF6\",\"polar\":{\"bgcolor\":\"#E5ECF6\",\"angularaxis\":{\"gridcolor\":\"white\",\"linecolor\":\"white\",\"ticks\":\"\"},\"radialaxis\":{\"gridcolor\":\"white\",\"linecolor\":\"white\",\"ticks\":\"\"}},\"ternary\":{\"bgcolor\":\"#E5ECF6\",\"aaxis\":{\"gridcolor\":\"white\",\"linecolor\":\"white\",\"ticks\":\"\"},\"baxis\":{\"gridcolor\":\"white\",\"linecolor\":\"white\",\"ticks\":\"\"},\"caxis\":{\"gridcolor\":\"white\",\"linecolor\":\"white\",\"ticks\":\"\"}},\"coloraxis\":{\"colorbar\":{\"outlinewidth\":0,\"ticks\":\"\"}},\"colorscale\":{\"sequential\":[[0.0,\"#0d0887\"],[0.1111111111111111,\"#46039f\"],[0.2222222222222222,\"#7201a8\"],[0.3333333333333333,\"#9c179e\"],[0.4444444444444444,\"#bd3786\"],[0.5555555555555556,\"#d8576b\"],[0.6666666666666666,\"#ed7953\"],[0.7777777777777778,\"#fb9f3a\"],[0.8888888888888888,\"#fdca26\"],[1.0,\"#f0f921\"]],\"sequentialminus\":[[0.0,\"#0d0887\"],[0.1111111111111111,\"#46039f\"],[0.2222222222222222,\"#7201a8\"],[0.3333333333333333,\"#9c179e\"],[0.4444444444444444,\"#bd3786\"],[0.5555555555555556,\"#d8576b\"],[0.6666666666666666,\"#ed7953\"],[0.7777777777777778,\"#fb9f3a\"],[0.8888888888888888,\"#fdca26\"],[1.0,\"#f0f921\"]],\"diverging\":[[0,\"#8e0152\"],[0.1,\"#c51b7d\"],[0.2,\"#de77ae\"],[0.3,\"#f1b6da\"],[0.4,\"#fde0ef\"],[0.5,\"#f7f7f7\"],[0.6,\"#e6f5d0\"],[0.7,\"#b8e186\"],[0.8,\"#7fbc41\"],[0.9,\"#4d9221\"],[1,\"#276419\"]]},\"xaxis\":{\"gridcolor\":\"white\",\"linecolor\":\"white\",\"ticks\":\"\",\"title\":{\"standoff\":15},\"zerolinecolor\":\"white\",\"automargin\":true,\"zerolinewidth\":2},\"yaxis\":{\"gridcolor\":\"white\",\"linecolor\":\"white\",\"ticks\":\"\",\"title\":{\"standoff\":15},\"zerolinecolor\":\"white\",\"automargin\":true,\"zerolinewidth\":2},\"scene\":{\"xaxis\":{\"backgroundcolor\":\"#E5ECF6\",\"gridcolor\":\"white\",\"linecolor\":\"white\",\"showbackground\":true,\"ticks\":\"\",\"zerolinecolor\":\"white\",\"gridwidth\":2},\"yaxis\":{\"backgroundcolor\":\"#E5ECF6\",\"gridcolor\":\"white\",\"linecolor\":\"white\",\"showbackground\":true,\"ticks\":\"\",\"zerolinecolor\":\"white\",\"gridwidth\":2},\"zaxis\":{\"backgroundcolor\":\"#E5ECF6\",\"gridcolor\":\"white\",\"linecolor\":\"white\",\"showbackground\":true,\"ticks\":\"\",\"zerolinecolor\":\"white\",\"gridwidth\":2}},\"shapedefaults\":{\"line\":{\"color\":\"#2a3f5f\"}},\"annotationdefaults\":{\"arrowcolor\":\"#2a3f5f\",\"arrowhead\":0,\"arrowwidth\":1},\"geo\":{\"bgcolor\":\"white\",\"landcolor\":\"#E5ECF6\",\"subunitcolor\":\"white\",\"showland\":true,\"showlakes\":true,\"lakecolor\":\"white\"},\"title\":{\"x\":0.05},\"mapbox\":{\"style\":\"light\"}}},\"xaxis\":{\"anchor\":\"y\",\"domain\":[0.0,1.0],\"title\":{\"text\":\"TOTAL\"}},\"yaxis\":{\"anchor\":\"x\",\"domain\":[0.0,1.0],\"title\":{\"text\":\"ABRANGENCIA\"}},\"legend\":{\"tracegroupgap\":0},\"title\":{\"text\":\"Total de portes de arma por abrang\\u00eancia\"},\"barmode\":\"relative\",\"height\":400},                        {\"responsive\": true}                    ).then(function(){\n",
       "                            \n",
       "var gd = document.getElementById('b231ee8f-f7b7-488c-a713-d92e26131ece');\n",
       "var x = new MutationObserver(function (mutations, observer) {{\n",
       "        var display = window.getComputedStyle(gd).display;\n",
       "        if (!display || display === 'none') {{\n",
       "            console.log([gd, 'removed!']);\n",
       "            Plotly.purge(gd);\n",
       "            observer.disconnect();\n",
       "        }}\n",
       "}});\n",
       "\n",
       "// Listen for the removal of the full notebook cells\n",
       "var notebookContainer = gd.closest('#notebook-container');\n",
       "if (notebookContainer) {{\n",
       "    x.observe(notebookContainer, {childList: true});\n",
       "}}\n",
       "\n",
       "// Listen for the clearing of the current output cell\n",
       "var outputEl = gd.closest('.output');\n",
       "if (outputEl) {{\n",
       "    x.observe(outputEl, {childList: true});\n",
       "}}\n",
       "\n",
       "                        })                };                });            </script>        </div>"
      ]
     },
     "metadata": {},
     "output_type": "display_data"
    }
   ],
   "source": [
    "fig = px.bar(df_porte, x='TOTAL', y='ABRANGENCIA', \n",
    "             title='Total de portes de arma por abrangência', \n",
    "             height=400,\n",
    "             color_discrete_sequence=px.colors.sequential.Darkmint_r)\n",
    "fig.show()"
   ]
  },
  {
   "cell_type": "code",
   "execution_count": 105,
   "id": "d3acbe85",
   "metadata": {},
   "outputs": [
    {
     "data": {
      "application/vnd.plotly.v1+json": {
       "config": {
        "plotlyServerURL": "https://plot.ly"
       },
       "data": [
        {
         "alignmentgroup": "True",
         "hovertemplate": "ABRANGENCIA=Estadual<br>TOTAL=%{x}<br>MES=%{y}<extra></extra>",
         "legendgroup": "Estadual",
         "marker": {
          "color": "#9ebbc9",
          "pattern": {
           "shape": ""
          }
         },
         "name": "Estadual",
         "offsetgroup": "Estadual",
         "orientation": "h",
         "showlegend": true,
         "textposition": "auto",
         "type": "bar",
         "x": [
          3,
          12,
          55,
          1,
          9,
          2,
          30,
          60,
          5,
          18,
          19,
          5,
          7,
          44,
          22,
          9,
          3,
          10,
          2,
          38,
          17,
          1,
          4,
          1,
          12,
          40,
          6,
          12,
          3,
          68,
          29,
          131,
          7,
          32,
          32,
          1,
          1,
          16,
          28,
          3,
          22,
          22,
          3,
          59,
          27,
          25,
          68,
          2,
          11,
          3,
          135,
          32,
          14,
          13,
          151,
          5,
          3,
          14,
          9,
          65,
          41,
          112,
          5,
          1,
          37,
          91,
          67,
          18,
          2,
          36,
          490,
          8,
          10,
          6,
          20,
          3,
          1,
          2,
          6,
          8,
          30,
          38,
          38,
          6,
          17,
          22,
          17,
          7,
          5,
          11,
          8,
          1,
          16,
          5,
          1,
          3,
          1,
          1,
          24,
          31,
          3,
          10,
          3,
          123,
          18,
          24,
          6,
          3,
          38,
          581,
          2,
          4,
          11,
          33,
          8,
          27,
          3,
          36,
          5,
          27,
          7,
          1,
          4,
          1,
          2,
          95,
          6,
          10,
          6,
          3,
          2,
          14,
          1,
          5,
          180,
          42,
          7,
          10,
          2,
          91,
          6,
          25,
          7,
          23,
          335,
          2,
          5,
          5,
          26,
          4,
          9,
          7,
          6,
          13,
          40,
          39,
          10,
          22,
          12,
          1,
          2,
          5,
          123,
          26,
          18,
          3,
          6,
          9,
          3,
          13,
          68,
          52,
          2,
          3,
          1,
          141,
          8,
          17,
          1,
          2,
          17,
          27,
          236,
          1,
          1,
          11,
          5,
          2,
          12,
          14,
          4,
          36,
          29,
          34,
          17,
          23,
          16,
          1,
          24,
          5,
          80,
          22,
          3,
          6,
          11,
          4,
          16,
          2,
          6,
          11,
          22,
          3,
          2,
          105,
          51,
          9,
          56,
          10,
          541,
          1,
          5,
          16,
          2,
          24,
          4,
          39,
          53,
          11,
          62,
          15,
          24,
          2,
          5,
          13,
          23,
          4,
          57,
          5,
          3,
          9,
          22,
          1,
          5,
          2,
          21,
          3,
          3,
          1,
          96,
          30,
          13,
          29,
          160,
          1,
          2,
          12,
          8,
          1,
          8,
          1,
          6,
          6,
          7,
          7,
          38,
          41,
          32,
          14,
          7,
          2,
          2,
          74,
          8,
          9,
          1,
          7,
          2,
          64,
          8,
          30,
          3,
          13,
          22,
          26,
          1,
          2,
          1,
          38,
          86,
          4,
          16,
          5,
          4,
          14,
          34,
          303,
          1,
          13,
          4,
          5,
          5,
          2,
          17,
          4,
          14,
          30,
          27,
          46,
          9,
          29,
          2,
          2,
          177,
          16,
          4,
          15,
          8,
          5,
          3,
          11,
          1,
          1,
          18,
          4,
          18,
          31,
          4,
          87,
          14,
          11,
          1,
          8,
          18,
          208,
          3,
          5,
          19,
          110,
          1,
          30,
          2,
          50,
          23,
          54,
          34,
          34,
          6,
          1,
          9,
          8,
          13,
          40,
          3,
          7,
          14,
          9,
          2,
          2,
          134,
          22,
          4,
          3,
          17,
          315,
          3,
          3,
          24,
          3,
          1,
          6,
          3,
          3,
          58,
          20,
          16,
          92,
          5,
          2,
          19,
          21,
          17,
          1,
          7,
          1,
          16,
          23,
          10,
          1,
          5,
          4,
          1,
          83,
          1,
          11,
          2,
          61,
          27,
          286,
          56,
          1,
          30,
          24,
          10,
          19,
          2,
          157,
          46,
          2,
          44,
          3,
          19,
          35,
          4,
          2,
          32,
          39,
          16,
          11,
          3,
          4,
          2,
          8,
          4,
          5,
          6,
          7,
          2,
          78,
          5,
          5,
          10,
          1,
          19,
          44,
          435,
          1,
          4
         ],
         "xaxis": "x",
         "y": [
          "jan",
          "jan",
          "jan",
          "jan",
          "jan",
          "jan",
          "jan",
          "jan",
          "jan",
          "jan",
          "jan",
          "jan",
          "jan",
          "jan",
          "jan",
          "jan",
          "jan",
          "jan",
          "jan",
          "jan",
          "jan",
          "jan",
          "jan",
          "jan",
          "jan",
          "jan",
          "jan",
          "jan",
          "jan",
          "jan",
          "jan",
          "jan",
          "ago",
          "ago",
          "ago",
          "ago",
          "ago",
          "ago",
          "ago",
          "ago",
          "ago",
          "ago",
          "ago",
          "ago",
          "ago",
          "ago",
          "ago",
          "ago",
          "ago",
          "ago",
          "ago",
          "ago",
          "ago",
          "ago",
          "ago",
          "ago",
          "ago",
          "ago",
          "ago",
          "ago",
          "ago",
          "ago",
          "ago",
          "ago",
          "ago",
          "ago",
          "ago",
          "ago",
          "ago",
          "ago",
          "ago",
          "ago",
          "dez",
          "dez",
          "dez",
          "dez",
          "dez",
          "dez",
          "dez",
          "dez",
          "dez",
          "dez",
          "dez",
          "dez",
          "dez",
          "dez",
          "dez",
          "dez",
          "dez",
          "dez",
          "dez",
          "dez",
          "dez",
          "dez",
          "dez",
          "dez",
          "dez",
          "dez",
          "dez",
          "dez",
          "dez",
          "dez",
          "dez",
          "dez",
          "dez",
          "dez",
          "dez",
          "dez",
          "dez",
          "dez",
          "dez",
          "out",
          "out",
          "out",
          "out",
          "out",
          "out",
          "out",
          "out",
          "out",
          "out",
          "out",
          "out",
          "out",
          "out",
          "out",
          "out",
          "out",
          "out",
          "out",
          "out",
          "out",
          "out",
          "out",
          "out",
          "out",
          "out",
          "out",
          "out",
          "out",
          "out",
          "out",
          "out",
          "out",
          "out",
          "out",
          "out",
          "set",
          "set",
          "set",
          "set",
          "set",
          "set",
          "set",
          "set",
          "set",
          "set",
          "set",
          "set",
          "set",
          "set",
          "set",
          "set",
          "set",
          "set",
          "set",
          "set",
          "set",
          "set",
          "set",
          "set",
          "set",
          "set",
          "set",
          "set",
          "set",
          "set",
          "set",
          "set",
          "set",
          "set",
          "set",
          "set",
          "set",
          "jul",
          "jul",
          "jul",
          "jul",
          "jul",
          "jul",
          "jul",
          "jul",
          "jul",
          "jul",
          "jul",
          "jul",
          "jul",
          "jul",
          "jul",
          "jul",
          "jul",
          "jul",
          "jul",
          "jul",
          "jul",
          "jul",
          "jul",
          "jul",
          "jul",
          "jul",
          "jul",
          "jul",
          "jul",
          "jul",
          "jul",
          "jul",
          "jul",
          "jul",
          "jul",
          "jul",
          "jun",
          "jun",
          "jun",
          "jun",
          "jun",
          "jun",
          "jun",
          "jun",
          "jun",
          "jun",
          "jun",
          "jun",
          "jun",
          "jun",
          "jun",
          "jun",
          "jun",
          "jun",
          "jun",
          "jun",
          "jun",
          "jun",
          "jun",
          "jun",
          "jun",
          "jun",
          "jun",
          "jun",
          "jun",
          "jun",
          "jun",
          "jun",
          "jun",
          "jun",
          "jun",
          "nov",
          "nov",
          "nov",
          "nov",
          "nov",
          "nov",
          "nov",
          "nov",
          "nov",
          "nov",
          "nov",
          "nov",
          "nov",
          "nov",
          "nov",
          "nov",
          "nov",
          "nov",
          "nov",
          "nov",
          "nov",
          "nov",
          "nov",
          "nov",
          "nov",
          "nov",
          "nov",
          "nov",
          "nov",
          "nov",
          "nov",
          "nov",
          "nov",
          "nov",
          "nov",
          "nov",
          "nov",
          "nov",
          "nov",
          "nov",
          "nov",
          "nov",
          "nov",
          "mai",
          "mai",
          "mai",
          "mai",
          "mai",
          "mai",
          "mai",
          "mai",
          "mai",
          "mai",
          "mai",
          "mai",
          "mai",
          "mai",
          "mai",
          "mai",
          "mai",
          "mai",
          "mai",
          "mai",
          "mai",
          "mai",
          "mai",
          "mai",
          "mai",
          "mai",
          "mai",
          "mai",
          "mai",
          "mai",
          "mai",
          "mai",
          "mai",
          "mai",
          "mai",
          "mai",
          "mai",
          "fev",
          "fev",
          "fev",
          "fev",
          "fev",
          "fev",
          "fev",
          "fev",
          "fev",
          "fev",
          "fev",
          "fev",
          "fev",
          "fev",
          "fev",
          "fev",
          "fev",
          "fev",
          "fev",
          "fev",
          "fev",
          "fev",
          "fev",
          "fev",
          "fev",
          "fev",
          "fev",
          "fev",
          "fev",
          "fev",
          "abril",
          "abril",
          "abril",
          "abril",
          "abril",
          "abril",
          "abril",
          "abril",
          "abril",
          "abril",
          "abril",
          "abril",
          "abril",
          "abril",
          "abril",
          "abril",
          "abril",
          "abril",
          "abril",
          "abril",
          "abril",
          "abril",
          "abril",
          "abril",
          "abril",
          "abril",
          "abril",
          "abril",
          "abril",
          "abril",
          "abril",
          "abril",
          "abril",
          "abril",
          "mar",
          "mar",
          "mar",
          "mar",
          "mar",
          "mar",
          "mar",
          "mar",
          "mar",
          "mar",
          "mar",
          "mar",
          "mar",
          "mar",
          "mar",
          "mar",
          "mar",
          "mar",
          "mar",
          "mar",
          "mar",
          "mar",
          "mar",
          "mar",
          "mar",
          "mar",
          "mar",
          "mar",
          "mar",
          "mar",
          "mar",
          "mar",
          "mar",
          "mar",
          "mar",
          "mar",
          "mar",
          "mar"
         ],
         "yaxis": "y"
        },
        {
         "alignmentgroup": "True",
         "hovertemplate": "ABRANGENCIA=Regional<br>TOTAL=%{x}<br>MES=%{y}<extra></extra>",
         "legendgroup": "Regional",
         "marker": {
          "color": "#6785be",
          "pattern": {
           "shape": ""
          }
         },
         "name": "Regional",
         "offsetgroup": "Regional",
         "orientation": "h",
         "showlegend": true,
         "textposition": "auto",
         "type": "bar",
         "x": [
          1,
          1,
          2,
          1,
          1,
          1,
          1,
          7,
          1,
          1,
          2,
          5,
          7,
          2,
          2,
          7,
          1,
          4,
          1,
          1,
          5,
          1,
          4,
          3,
          1,
          4,
          1,
          1,
          2,
          1,
          1,
          12,
          1,
          3,
          1,
          7,
          1,
          1,
          1,
          1,
          8
         ],
         "xaxis": "x",
         "y": [
          "jan",
          "jan",
          "jan",
          "jan",
          "ago",
          "ago",
          "ago",
          "ago",
          "dez",
          "dez",
          "dez",
          "dez",
          "out",
          "set",
          "set",
          "set",
          "jul",
          "jul",
          "jul",
          "jun",
          "jun",
          "nov",
          "nov",
          "mai",
          "mai",
          "mai",
          "fev",
          "fev",
          "fev",
          "fev",
          "fev",
          "fev",
          "fev",
          "abril",
          "abril",
          "abril",
          "mar",
          "mar",
          "mar",
          "mar",
          "mar"
         ],
         "yaxis": "y"
        },
        {
         "alignmentgroup": "True",
         "hovertemplate": "ABRANGENCIA=Nacional<br>TOTAL=%{x}<br>MES=%{y}<extra></extra>",
         "legendgroup": "Nacional",
         "marker": {
          "color": "#5e43a5",
          "pattern": {
           "shape": ""
          }
         },
         "name": "Nacional",
         "offsetgroup": "Nacional",
         "orientation": "h",
         "showlegend": true,
         "textposition": "auto",
         "type": "bar",
         "x": [
          1,
          1,
          19,
          3,
          2,
          1,
          8,
          1,
          7,
          1,
          5,
          12,
          3,
          1,
          4,
          4,
          56,
          41,
          4,
          1,
          1,
          1,
          4,
          2,
          1,
          11,
          1,
          2,
          3,
          12,
          6,
          8,
          13,
          25,
          1,
          2,
          1,
          87,
          8,
          134,
          2,
          9,
          1,
          1,
          1,
          6,
          3,
          4,
          5,
          1,
          1,
          1,
          14,
          1,
          4,
          8,
          4,
          1,
          8,
          4,
          36,
          5,
          1,
          1,
          3,
          1,
          4,
          1,
          1,
          1,
          2,
          1,
          15,
          5,
          1,
          6,
          2,
          2,
          46,
          2,
          4,
          2,
          2,
          2,
          1,
          1,
          2,
          7,
          1,
          2,
          5,
          4,
          1,
          2,
          1,
          1,
          6,
          1,
          26,
          37,
          17,
          1,
          2,
          4,
          2,
          6,
          3,
          3,
          2,
          2,
          8,
          2,
          1,
          1,
          1,
          2,
          94,
          80,
          19,
          1,
          1,
          2,
          5,
          2,
          1,
          5,
          7,
          8,
          1,
          8,
          1,
          2,
          8,
          2,
          1,
          2,
          1,
          29,
          4,
          2,
          2,
          1,
          2,
          2,
          3,
          1,
          44,
          4,
          4,
          1,
          7,
          59,
          9,
          5,
          4,
          1,
          2,
          4,
          2,
          1,
          1,
          1,
          1,
          5,
          1,
          1,
          2,
          3,
          29,
          4,
          3,
          3,
          1,
          1,
          2,
          1,
          1,
          2,
          7,
          4,
          1,
          1,
          4,
          2,
          16,
          1,
          1,
          1,
          59,
          25,
          6,
          2,
          1,
          1,
          4,
          5,
          2,
          2,
          1,
          4,
          10,
          2,
          1,
          10,
          5,
          2,
          60,
          22,
          13,
          2,
          1,
          2,
          5,
          5,
          15,
          18,
          4,
          2,
          2
         ],
         "xaxis": "x",
         "y": [
          "jan",
          "jan",
          "jan",
          "jan",
          "jan",
          "jan",
          "jan",
          "jan",
          "jan",
          "jan",
          "jan",
          "jan",
          "jan",
          "ago",
          "ago",
          "ago",
          "ago",
          "ago",
          "ago",
          "ago",
          "ago",
          "ago",
          "ago",
          "ago",
          "ago",
          "ago",
          "ago",
          "ago",
          "ago",
          "ago",
          "ago",
          "ago",
          "ago",
          "dez",
          "dez",
          "dez",
          "dez",
          "dez",
          "dez",
          "dez",
          "dez",
          "dez",
          "dez",
          "dez",
          "dez",
          "dez",
          "dez",
          "dez",
          "dez",
          "dez",
          "dez",
          "dez",
          "dez",
          "dez",
          "dez",
          "dez",
          "dez",
          "out",
          "out",
          "out",
          "out",
          "out",
          "out",
          "out",
          "out",
          "out",
          "out",
          "out",
          "out",
          "out",
          "out",
          "out",
          "out",
          "out",
          "out",
          "out",
          "set",
          "set",
          "set",
          "set",
          "set",
          "set",
          "set",
          "set",
          "set",
          "set",
          "set",
          "set",
          "set",
          "set",
          "set",
          "set",
          "set",
          "set",
          "jul",
          "jul",
          "jul",
          "jul",
          "jul",
          "jul",
          "jul",
          "jul",
          "jul",
          "jul",
          "jul",
          "jul",
          "jul",
          "jul",
          "jul",
          "jul",
          "jul",
          "jul",
          "jul",
          "jul",
          "jun",
          "jun",
          "jun",
          "jun",
          "jun",
          "jun",
          "jun",
          "jun",
          "jun",
          "jun",
          "jun",
          "jun",
          "jun",
          "jun",
          "jun",
          "jun",
          "jun",
          "jun",
          "jun",
          "jun",
          "nov",
          "nov",
          "nov",
          "nov",
          "nov",
          "nov",
          "nov",
          "nov",
          "nov",
          "nov",
          "nov",
          "nov",
          "nov",
          "nov",
          "nov",
          "nov",
          "mai",
          "mai",
          "mai",
          "mai",
          "mai",
          "mai",
          "mai",
          "mai",
          "mai",
          "mai",
          "mai",
          "mai",
          "mai",
          "mai",
          "mai",
          "mai",
          "mai",
          "fev",
          "fev",
          "fev",
          "fev",
          "fev",
          "fev",
          "fev",
          "fev",
          "fev",
          "fev",
          "fev",
          "fev",
          "fev",
          "fev",
          "fev",
          "fev",
          "fev",
          "fev",
          "abril",
          "abril",
          "abril",
          "abril",
          "abril",
          "abril",
          "abril",
          "abril",
          "abril",
          "abril",
          "abril",
          "abril",
          "abril",
          "abril",
          "abril",
          "abril",
          "abril",
          "abril",
          "abril",
          "mar",
          "mar",
          "mar",
          "mar",
          "mar",
          "mar",
          "mar",
          "mar",
          "mar",
          "mar",
          "mar",
          "mar",
          "mar",
          "mar",
          "mar"
         ],
         "yaxis": "y"
        }
       ],
       "layout": {
        "barmode": "relative",
        "height": 700,
        "legend": {
         "title": {
          "text": "ABRANGENCIA"
         },
         "tracegroupgap": 0
        },
        "template": {
         "data": {
          "bar": [
           {
            "error_x": {
             "color": "#2a3f5f"
            },
            "error_y": {
             "color": "#2a3f5f"
            },
            "marker": {
             "line": {
              "color": "#E5ECF6",
              "width": 0.5
             },
             "pattern": {
              "fillmode": "overlay",
              "size": 10,
              "solidity": 0.2
             }
            },
            "type": "bar"
           }
          ],
          "barpolar": [
           {
            "marker": {
             "line": {
              "color": "#E5ECF6",
              "width": 0.5
             },
             "pattern": {
              "fillmode": "overlay",
              "size": 10,
              "solidity": 0.2
             }
            },
            "type": "barpolar"
           }
          ],
          "carpet": [
           {
            "aaxis": {
             "endlinecolor": "#2a3f5f",
             "gridcolor": "white",
             "linecolor": "white",
             "minorgridcolor": "white",
             "startlinecolor": "#2a3f5f"
            },
            "baxis": {
             "endlinecolor": "#2a3f5f",
             "gridcolor": "white",
             "linecolor": "white",
             "minorgridcolor": "white",
             "startlinecolor": "#2a3f5f"
            },
            "type": "carpet"
           }
          ],
          "choropleth": [
           {
            "colorbar": {
             "outlinewidth": 0,
             "ticks": ""
            },
            "type": "choropleth"
           }
          ],
          "contour": [
           {
            "colorbar": {
             "outlinewidth": 0,
             "ticks": ""
            },
            "colorscale": [
             [
              0,
              "#0d0887"
             ],
             [
              0.1111111111111111,
              "#46039f"
             ],
             [
              0.2222222222222222,
              "#7201a8"
             ],
             [
              0.3333333333333333,
              "#9c179e"
             ],
             [
              0.4444444444444444,
              "#bd3786"
             ],
             [
              0.5555555555555556,
              "#d8576b"
             ],
             [
              0.6666666666666666,
              "#ed7953"
             ],
             [
              0.7777777777777778,
              "#fb9f3a"
             ],
             [
              0.8888888888888888,
              "#fdca26"
             ],
             [
              1,
              "#f0f921"
             ]
            ],
            "type": "contour"
           }
          ],
          "contourcarpet": [
           {
            "colorbar": {
             "outlinewidth": 0,
             "ticks": ""
            },
            "type": "contourcarpet"
           }
          ],
          "heatmap": [
           {
            "colorbar": {
             "outlinewidth": 0,
             "ticks": ""
            },
            "colorscale": [
             [
              0,
              "#0d0887"
             ],
             [
              0.1111111111111111,
              "#46039f"
             ],
             [
              0.2222222222222222,
              "#7201a8"
             ],
             [
              0.3333333333333333,
              "#9c179e"
             ],
             [
              0.4444444444444444,
              "#bd3786"
             ],
             [
              0.5555555555555556,
              "#d8576b"
             ],
             [
              0.6666666666666666,
              "#ed7953"
             ],
             [
              0.7777777777777778,
              "#fb9f3a"
             ],
             [
              0.8888888888888888,
              "#fdca26"
             ],
             [
              1,
              "#f0f921"
             ]
            ],
            "type": "heatmap"
           }
          ],
          "heatmapgl": [
           {
            "colorbar": {
             "outlinewidth": 0,
             "ticks": ""
            },
            "colorscale": [
             [
              0,
              "#0d0887"
             ],
             [
              0.1111111111111111,
              "#46039f"
             ],
             [
              0.2222222222222222,
              "#7201a8"
             ],
             [
              0.3333333333333333,
              "#9c179e"
             ],
             [
              0.4444444444444444,
              "#bd3786"
             ],
             [
              0.5555555555555556,
              "#d8576b"
             ],
             [
              0.6666666666666666,
              "#ed7953"
             ],
             [
              0.7777777777777778,
              "#fb9f3a"
             ],
             [
              0.8888888888888888,
              "#fdca26"
             ],
             [
              1,
              "#f0f921"
             ]
            ],
            "type": "heatmapgl"
           }
          ],
          "histogram": [
           {
            "marker": {
             "pattern": {
              "fillmode": "overlay",
              "size": 10,
              "solidity": 0.2
             }
            },
            "type": "histogram"
           }
          ],
          "histogram2d": [
           {
            "colorbar": {
             "outlinewidth": 0,
             "ticks": ""
            },
            "colorscale": [
             [
              0,
              "#0d0887"
             ],
             [
              0.1111111111111111,
              "#46039f"
             ],
             [
              0.2222222222222222,
              "#7201a8"
             ],
             [
              0.3333333333333333,
              "#9c179e"
             ],
             [
              0.4444444444444444,
              "#bd3786"
             ],
             [
              0.5555555555555556,
              "#d8576b"
             ],
             [
              0.6666666666666666,
              "#ed7953"
             ],
             [
              0.7777777777777778,
              "#fb9f3a"
             ],
             [
              0.8888888888888888,
              "#fdca26"
             ],
             [
              1,
              "#f0f921"
             ]
            ],
            "type": "histogram2d"
           }
          ],
          "histogram2dcontour": [
           {
            "colorbar": {
             "outlinewidth": 0,
             "ticks": ""
            },
            "colorscale": [
             [
              0,
              "#0d0887"
             ],
             [
              0.1111111111111111,
              "#46039f"
             ],
             [
              0.2222222222222222,
              "#7201a8"
             ],
             [
              0.3333333333333333,
              "#9c179e"
             ],
             [
              0.4444444444444444,
              "#bd3786"
             ],
             [
              0.5555555555555556,
              "#d8576b"
             ],
             [
              0.6666666666666666,
              "#ed7953"
             ],
             [
              0.7777777777777778,
              "#fb9f3a"
             ],
             [
              0.8888888888888888,
              "#fdca26"
             ],
             [
              1,
              "#f0f921"
             ]
            ],
            "type": "histogram2dcontour"
           }
          ],
          "mesh3d": [
           {
            "colorbar": {
             "outlinewidth": 0,
             "ticks": ""
            },
            "type": "mesh3d"
           }
          ],
          "parcoords": [
           {
            "line": {
             "colorbar": {
              "outlinewidth": 0,
              "ticks": ""
             }
            },
            "type": "parcoords"
           }
          ],
          "pie": [
           {
            "automargin": true,
            "type": "pie"
           }
          ],
          "scatter": [
           {
            "fillpattern": {
             "fillmode": "overlay",
             "size": 10,
             "solidity": 0.2
            },
            "type": "scatter"
           }
          ],
          "scatter3d": [
           {
            "line": {
             "colorbar": {
              "outlinewidth": 0,
              "ticks": ""
             }
            },
            "marker": {
             "colorbar": {
              "outlinewidth": 0,
              "ticks": ""
             }
            },
            "type": "scatter3d"
           }
          ],
          "scattercarpet": [
           {
            "marker": {
             "colorbar": {
              "outlinewidth": 0,
              "ticks": ""
             }
            },
            "type": "scattercarpet"
           }
          ],
          "scattergeo": [
           {
            "marker": {
             "colorbar": {
              "outlinewidth": 0,
              "ticks": ""
             }
            },
            "type": "scattergeo"
           }
          ],
          "scattergl": [
           {
            "marker": {
             "colorbar": {
              "outlinewidth": 0,
              "ticks": ""
             }
            },
            "type": "scattergl"
           }
          ],
          "scattermapbox": [
           {
            "marker": {
             "colorbar": {
              "outlinewidth": 0,
              "ticks": ""
             }
            },
            "type": "scattermapbox"
           }
          ],
          "scatterpolar": [
           {
            "marker": {
             "colorbar": {
              "outlinewidth": 0,
              "ticks": ""
             }
            },
            "type": "scatterpolar"
           }
          ],
          "scatterpolargl": [
           {
            "marker": {
             "colorbar": {
              "outlinewidth": 0,
              "ticks": ""
             }
            },
            "type": "scatterpolargl"
           }
          ],
          "scatterternary": [
           {
            "marker": {
             "colorbar": {
              "outlinewidth": 0,
              "ticks": ""
             }
            },
            "type": "scatterternary"
           }
          ],
          "surface": [
           {
            "colorbar": {
             "outlinewidth": 0,
             "ticks": ""
            },
            "colorscale": [
             [
              0,
              "#0d0887"
             ],
             [
              0.1111111111111111,
              "#46039f"
             ],
             [
              0.2222222222222222,
              "#7201a8"
             ],
             [
              0.3333333333333333,
              "#9c179e"
             ],
             [
              0.4444444444444444,
              "#bd3786"
             ],
             [
              0.5555555555555556,
              "#d8576b"
             ],
             [
              0.6666666666666666,
              "#ed7953"
             ],
             [
              0.7777777777777778,
              "#fb9f3a"
             ],
             [
              0.8888888888888888,
              "#fdca26"
             ],
             [
              1,
              "#f0f921"
             ]
            ],
            "type": "surface"
           }
          ],
          "table": [
           {
            "cells": {
             "fill": {
              "color": "#EBF0F8"
             },
             "line": {
              "color": "white"
             }
            },
            "header": {
             "fill": {
              "color": "#C8D4E3"
             },
             "line": {
              "color": "white"
             }
            },
            "type": "table"
           }
          ]
         },
         "layout": {
          "annotationdefaults": {
           "arrowcolor": "#2a3f5f",
           "arrowhead": 0,
           "arrowwidth": 1
          },
          "autotypenumbers": "strict",
          "coloraxis": {
           "colorbar": {
            "outlinewidth": 0,
            "ticks": ""
           }
          },
          "colorscale": {
           "diverging": [
            [
             0,
             "#8e0152"
            ],
            [
             0.1,
             "#c51b7d"
            ],
            [
             0.2,
             "#de77ae"
            ],
            [
             0.3,
             "#f1b6da"
            ],
            [
             0.4,
             "#fde0ef"
            ],
            [
             0.5,
             "#f7f7f7"
            ],
            [
             0.6,
             "#e6f5d0"
            ],
            [
             0.7,
             "#b8e186"
            ],
            [
             0.8,
             "#7fbc41"
            ],
            [
             0.9,
             "#4d9221"
            ],
            [
             1,
             "#276419"
            ]
           ],
           "sequential": [
            [
             0,
             "#0d0887"
            ],
            [
             0.1111111111111111,
             "#46039f"
            ],
            [
             0.2222222222222222,
             "#7201a8"
            ],
            [
             0.3333333333333333,
             "#9c179e"
            ],
            [
             0.4444444444444444,
             "#bd3786"
            ],
            [
             0.5555555555555556,
             "#d8576b"
            ],
            [
             0.6666666666666666,
             "#ed7953"
            ],
            [
             0.7777777777777778,
             "#fb9f3a"
            ],
            [
             0.8888888888888888,
             "#fdca26"
            ],
            [
             1,
             "#f0f921"
            ]
           ],
           "sequentialminus": [
            [
             0,
             "#0d0887"
            ],
            [
             0.1111111111111111,
             "#46039f"
            ],
            [
             0.2222222222222222,
             "#7201a8"
            ],
            [
             0.3333333333333333,
             "#9c179e"
            ],
            [
             0.4444444444444444,
             "#bd3786"
            ],
            [
             0.5555555555555556,
             "#d8576b"
            ],
            [
             0.6666666666666666,
             "#ed7953"
            ],
            [
             0.7777777777777778,
             "#fb9f3a"
            ],
            [
             0.8888888888888888,
             "#fdca26"
            ],
            [
             1,
             "#f0f921"
            ]
           ]
          },
          "colorway": [
           "#636efa",
           "#EF553B",
           "#00cc96",
           "#ab63fa",
           "#FFA15A",
           "#19d3f3",
           "#FF6692",
           "#B6E880",
           "#FF97FF",
           "#FECB52"
          ],
          "font": {
           "color": "#2a3f5f"
          },
          "geo": {
           "bgcolor": "white",
           "lakecolor": "white",
           "landcolor": "#E5ECF6",
           "showlakes": true,
           "showland": true,
           "subunitcolor": "white"
          },
          "hoverlabel": {
           "align": "left"
          },
          "hovermode": "closest",
          "mapbox": {
           "style": "light"
          },
          "paper_bgcolor": "white",
          "plot_bgcolor": "#E5ECF6",
          "polar": {
           "angularaxis": {
            "gridcolor": "white",
            "linecolor": "white",
            "ticks": ""
           },
           "bgcolor": "#E5ECF6",
           "radialaxis": {
            "gridcolor": "white",
            "linecolor": "white",
            "ticks": ""
           }
          },
          "scene": {
           "xaxis": {
            "backgroundcolor": "#E5ECF6",
            "gridcolor": "white",
            "gridwidth": 2,
            "linecolor": "white",
            "showbackground": true,
            "ticks": "",
            "zerolinecolor": "white"
           },
           "yaxis": {
            "backgroundcolor": "#E5ECF6",
            "gridcolor": "white",
            "gridwidth": 2,
            "linecolor": "white",
            "showbackground": true,
            "ticks": "",
            "zerolinecolor": "white"
           },
           "zaxis": {
            "backgroundcolor": "#E5ECF6",
            "gridcolor": "white",
            "gridwidth": 2,
            "linecolor": "white",
            "showbackground": true,
            "ticks": "",
            "zerolinecolor": "white"
           }
          },
          "shapedefaults": {
           "line": {
            "color": "#2a3f5f"
           }
          },
          "ternary": {
           "aaxis": {
            "gridcolor": "white",
            "linecolor": "white",
            "ticks": ""
           },
           "baxis": {
            "gridcolor": "white",
            "linecolor": "white",
            "ticks": ""
           },
           "bgcolor": "#E5ECF6",
           "caxis": {
            "gridcolor": "white",
            "linecolor": "white",
            "ticks": ""
           }
          },
          "title": {
           "x": 0.05
          },
          "xaxis": {
           "automargin": true,
           "gridcolor": "white",
           "linecolor": "white",
           "ticks": "",
           "title": {
            "standoff": 15
           },
           "zerolinecolor": "white",
           "zerolinewidth": 2
          },
          "yaxis": {
           "automargin": true,
           "gridcolor": "white",
           "linecolor": "white",
           "ticks": "",
           "title": {
            "standoff": 15
           },
           "zerolinecolor": "white",
           "zerolinewidth": 2
          }
         }
        },
        "title": {
         "text": "Total de portes de arma por mês, por abrangência"
        },
        "xaxis": {
         "anchor": "y",
         "domain": [
          0,
          1
         ],
         "title": {
          "text": "TOTAL"
         }
        },
        "yaxis": {
         "anchor": "x",
         "domain": [
          0,
          1
         ],
         "title": {
          "text": "MES"
         }
        }
       }
      },
      "text/html": [
       "<div>                            <div id=\"fa4ba741-6728-4a99-a255-e21738d07ec0\" class=\"plotly-graph-div\" style=\"height:700px; width:100%;\"></div>            <script type=\"text/javascript\">                require([\"plotly\"], function(Plotly) {                    window.PLOTLYENV=window.PLOTLYENV || {};                                    if (document.getElementById(\"fa4ba741-6728-4a99-a255-e21738d07ec0\")) {                    Plotly.newPlot(                        \"fa4ba741-6728-4a99-a255-e21738d07ec0\",                        [{\"alignmentgroup\":\"True\",\"hovertemplate\":\"ABRANGENCIA=Estadual<br>TOTAL=%{x}<br>MES=%{y}<extra></extra>\",\"legendgroup\":\"Estadual\",\"marker\":{\"color\":\"#9ebbc9\",\"pattern\":{\"shape\":\"\"}},\"name\":\"Estadual\",\"offsetgroup\":\"Estadual\",\"orientation\":\"h\",\"showlegend\":true,\"textposition\":\"auto\",\"x\":[3,12,55,1,9,2,30,60,5,18,19,5,7,44,22,9,3,10,2,38,17,1,4,1,12,40,6,12,3,68,29,131,7,32,32,1,1,16,28,3,22,22,3,59,27,25,68,2,11,3,135,32,14,13,151,5,3,14,9,65,41,112,5,1,37,91,67,18,2,36,490,8,10,6,20,3,1,2,6,8,30,38,38,6,17,22,17,7,5,11,8,1,16,5,1,3,1,1,24,31,3,10,3,123,18,24,6,3,38,581,2,4,11,33,8,27,3,36,5,27,7,1,4,1,2,95,6,10,6,3,2,14,1,5,180,42,7,10,2,91,6,25,7,23,335,2,5,5,26,4,9,7,6,13,40,39,10,22,12,1,2,5,123,26,18,3,6,9,3,13,68,52,2,3,1,141,8,17,1,2,17,27,236,1,1,11,5,2,12,14,4,36,29,34,17,23,16,1,24,5,80,22,3,6,11,4,16,2,6,11,22,3,2,105,51,9,56,10,541,1,5,16,2,24,4,39,53,11,62,15,24,2,5,13,23,4,57,5,3,9,22,1,5,2,21,3,3,1,96,30,13,29,160,1,2,12,8,1,8,1,6,6,7,7,38,41,32,14,7,2,2,74,8,9,1,7,2,64,8,30,3,13,22,26,1,2,1,38,86,4,16,5,4,14,34,303,1,13,4,5,5,2,17,4,14,30,27,46,9,29,2,2,177,16,4,15,8,5,3,11,1,1,18,4,18,31,4,87,14,11,1,8,18,208,3,5,19,110,1,30,2,50,23,54,34,34,6,1,9,8,13,40,3,7,14,9,2,2,134,22,4,3,17,315,3,3,24,3,1,6,3,3,58,20,16,92,5,2,19,21,17,1,7,1,16,23,10,1,5,4,1,83,1,11,2,61,27,286,56,1,30,24,10,19,2,157,46,2,44,3,19,35,4,2,32,39,16,11,3,4,2,8,4,5,6,7,2,78,5,5,10,1,19,44,435,1,4],\"xaxis\":\"x\",\"y\":[\"jan\",\"jan\",\"jan\",\"jan\",\"jan\",\"jan\",\"jan\",\"jan\",\"jan\",\"jan\",\"jan\",\"jan\",\"jan\",\"jan\",\"jan\",\"jan\",\"jan\",\"jan\",\"jan\",\"jan\",\"jan\",\"jan\",\"jan\",\"jan\",\"jan\",\"jan\",\"jan\",\"jan\",\"jan\",\"jan\",\"jan\",\"jan\",\"ago\",\"ago\",\"ago\",\"ago\",\"ago\",\"ago\",\"ago\",\"ago\",\"ago\",\"ago\",\"ago\",\"ago\",\"ago\",\"ago\",\"ago\",\"ago\",\"ago\",\"ago\",\"ago\",\"ago\",\"ago\",\"ago\",\"ago\",\"ago\",\"ago\",\"ago\",\"ago\",\"ago\",\"ago\",\"ago\",\"ago\",\"ago\",\"ago\",\"ago\",\"ago\",\"ago\",\"ago\",\"ago\",\"ago\",\"ago\",\"dez\",\"dez\",\"dez\",\"dez\",\"dez\",\"dez\",\"dez\",\"dez\",\"dez\",\"dez\",\"dez\",\"dez\",\"dez\",\"dez\",\"dez\",\"dez\",\"dez\",\"dez\",\"dez\",\"dez\",\"dez\",\"dez\",\"dez\",\"dez\",\"dez\",\"dez\",\"dez\",\"dez\",\"dez\",\"dez\",\"dez\",\"dez\",\"dez\",\"dez\",\"dez\",\"dez\",\"dez\",\"dez\",\"dez\",\"out\",\"out\",\"out\",\"out\",\"out\",\"out\",\"out\",\"out\",\"out\",\"out\",\"out\",\"out\",\"out\",\"out\",\"out\",\"out\",\"out\",\"out\",\"out\",\"out\",\"out\",\"out\",\"out\",\"out\",\"out\",\"out\",\"out\",\"out\",\"out\",\"out\",\"out\",\"out\",\"out\",\"out\",\"out\",\"out\",\"set\",\"set\",\"set\",\"set\",\"set\",\"set\",\"set\",\"set\",\"set\",\"set\",\"set\",\"set\",\"set\",\"set\",\"set\",\"set\",\"set\",\"set\",\"set\",\"set\",\"set\",\"set\",\"set\",\"set\",\"set\",\"set\",\"set\",\"set\",\"set\",\"set\",\"set\",\"set\",\"set\",\"set\",\"set\",\"set\",\"set\",\"jul\",\"jul\",\"jul\",\"jul\",\"jul\",\"jul\",\"jul\",\"jul\",\"jul\",\"jul\",\"jul\",\"jul\",\"jul\",\"jul\",\"jul\",\"jul\",\"jul\",\"jul\",\"jul\",\"jul\",\"jul\",\"jul\",\"jul\",\"jul\",\"jul\",\"jul\",\"jul\",\"jul\",\"jul\",\"jul\",\"jul\",\"jul\",\"jul\",\"jul\",\"jul\",\"jul\",\"jun\",\"jun\",\"jun\",\"jun\",\"jun\",\"jun\",\"jun\",\"jun\",\"jun\",\"jun\",\"jun\",\"jun\",\"jun\",\"jun\",\"jun\",\"jun\",\"jun\",\"jun\",\"jun\",\"jun\",\"jun\",\"jun\",\"jun\",\"jun\",\"jun\",\"jun\",\"jun\",\"jun\",\"jun\",\"jun\",\"jun\",\"jun\",\"jun\",\"jun\",\"jun\",\"nov\",\"nov\",\"nov\",\"nov\",\"nov\",\"nov\",\"nov\",\"nov\",\"nov\",\"nov\",\"nov\",\"nov\",\"nov\",\"nov\",\"nov\",\"nov\",\"nov\",\"nov\",\"nov\",\"nov\",\"nov\",\"nov\",\"nov\",\"nov\",\"nov\",\"nov\",\"nov\",\"nov\",\"nov\",\"nov\",\"nov\",\"nov\",\"nov\",\"nov\",\"nov\",\"nov\",\"nov\",\"nov\",\"nov\",\"nov\",\"nov\",\"nov\",\"nov\",\"mai\",\"mai\",\"mai\",\"mai\",\"mai\",\"mai\",\"mai\",\"mai\",\"mai\",\"mai\",\"mai\",\"mai\",\"mai\",\"mai\",\"mai\",\"mai\",\"mai\",\"mai\",\"mai\",\"mai\",\"mai\",\"mai\",\"mai\",\"mai\",\"mai\",\"mai\",\"mai\",\"mai\",\"mai\",\"mai\",\"mai\",\"mai\",\"mai\",\"mai\",\"mai\",\"mai\",\"mai\",\"fev\",\"fev\",\"fev\",\"fev\",\"fev\",\"fev\",\"fev\",\"fev\",\"fev\",\"fev\",\"fev\",\"fev\",\"fev\",\"fev\",\"fev\",\"fev\",\"fev\",\"fev\",\"fev\",\"fev\",\"fev\",\"fev\",\"fev\",\"fev\",\"fev\",\"fev\",\"fev\",\"fev\",\"fev\",\"fev\",\"abril\",\"abril\",\"abril\",\"abril\",\"abril\",\"abril\",\"abril\",\"abril\",\"abril\",\"abril\",\"abril\",\"abril\",\"abril\",\"abril\",\"abril\",\"abril\",\"abril\",\"abril\",\"abril\",\"abril\",\"abril\",\"abril\",\"abril\",\"abril\",\"abril\",\"abril\",\"abril\",\"abril\",\"abril\",\"abril\",\"abril\",\"abril\",\"abril\",\"abril\",\"mar\",\"mar\",\"mar\",\"mar\",\"mar\",\"mar\",\"mar\",\"mar\",\"mar\",\"mar\",\"mar\",\"mar\",\"mar\",\"mar\",\"mar\",\"mar\",\"mar\",\"mar\",\"mar\",\"mar\",\"mar\",\"mar\",\"mar\",\"mar\",\"mar\",\"mar\",\"mar\",\"mar\",\"mar\",\"mar\",\"mar\",\"mar\",\"mar\",\"mar\",\"mar\",\"mar\",\"mar\",\"mar\"],\"yaxis\":\"y\",\"type\":\"bar\"},{\"alignmentgroup\":\"True\",\"hovertemplate\":\"ABRANGENCIA=Regional<br>TOTAL=%{x}<br>MES=%{y}<extra></extra>\",\"legendgroup\":\"Regional\",\"marker\":{\"color\":\"#6785be\",\"pattern\":{\"shape\":\"\"}},\"name\":\"Regional\",\"offsetgroup\":\"Regional\",\"orientation\":\"h\",\"showlegend\":true,\"textposition\":\"auto\",\"x\":[1,1,2,1,1,1,1,7,1,1,2,5,7,2,2,7,1,4,1,1,5,1,4,3,1,4,1,1,2,1,1,12,1,3,1,7,1,1,1,1,8],\"xaxis\":\"x\",\"y\":[\"jan\",\"jan\",\"jan\",\"jan\",\"ago\",\"ago\",\"ago\",\"ago\",\"dez\",\"dez\",\"dez\",\"dez\",\"out\",\"set\",\"set\",\"set\",\"jul\",\"jul\",\"jul\",\"jun\",\"jun\",\"nov\",\"nov\",\"mai\",\"mai\",\"mai\",\"fev\",\"fev\",\"fev\",\"fev\",\"fev\",\"fev\",\"fev\",\"abril\",\"abril\",\"abril\",\"mar\",\"mar\",\"mar\",\"mar\",\"mar\"],\"yaxis\":\"y\",\"type\":\"bar\"},{\"alignmentgroup\":\"True\",\"hovertemplate\":\"ABRANGENCIA=Nacional<br>TOTAL=%{x}<br>MES=%{y}<extra></extra>\",\"legendgroup\":\"Nacional\",\"marker\":{\"color\":\"#5e43a5\",\"pattern\":{\"shape\":\"\"}},\"name\":\"Nacional\",\"offsetgroup\":\"Nacional\",\"orientation\":\"h\",\"showlegend\":true,\"textposition\":\"auto\",\"x\":[1,1,19,3,2,1,8,1,7,1,5,12,3,1,4,4,56,41,4,1,1,1,4,2,1,11,1,2,3,12,6,8,13,25,1,2,1,87,8,134,2,9,1,1,1,6,3,4,5,1,1,1,14,1,4,8,4,1,8,4,36,5,1,1,3,1,4,1,1,1,2,1,15,5,1,6,2,2,46,2,4,2,2,2,1,1,2,7,1,2,5,4,1,2,1,1,6,1,26,37,17,1,2,4,2,6,3,3,2,2,8,2,1,1,1,2,94,80,19,1,1,2,5,2,1,5,7,8,1,8,1,2,8,2,1,2,1,29,4,2,2,1,2,2,3,1,44,4,4,1,7,59,9,5,4,1,2,4,2,1,1,1,1,5,1,1,2,3,29,4,3,3,1,1,2,1,1,2,7,4,1,1,4,2,16,1,1,1,59,25,6,2,1,1,4,5,2,2,1,4,10,2,1,10,5,2,60,22,13,2,1,2,5,5,15,18,4,2,2],\"xaxis\":\"x\",\"y\":[\"jan\",\"jan\",\"jan\",\"jan\",\"jan\",\"jan\",\"jan\",\"jan\",\"jan\",\"jan\",\"jan\",\"jan\",\"jan\",\"ago\",\"ago\",\"ago\",\"ago\",\"ago\",\"ago\",\"ago\",\"ago\",\"ago\",\"ago\",\"ago\",\"ago\",\"ago\",\"ago\",\"ago\",\"ago\",\"ago\",\"ago\",\"ago\",\"ago\",\"dez\",\"dez\",\"dez\",\"dez\",\"dez\",\"dez\",\"dez\",\"dez\",\"dez\",\"dez\",\"dez\",\"dez\",\"dez\",\"dez\",\"dez\",\"dez\",\"dez\",\"dez\",\"dez\",\"dez\",\"dez\",\"dez\",\"dez\",\"dez\",\"out\",\"out\",\"out\",\"out\",\"out\",\"out\",\"out\",\"out\",\"out\",\"out\",\"out\",\"out\",\"out\",\"out\",\"out\",\"out\",\"out\",\"out\",\"out\",\"set\",\"set\",\"set\",\"set\",\"set\",\"set\",\"set\",\"set\",\"set\",\"set\",\"set\",\"set\",\"set\",\"set\",\"set\",\"set\",\"set\",\"set\",\"jul\",\"jul\",\"jul\",\"jul\",\"jul\",\"jul\",\"jul\",\"jul\",\"jul\",\"jul\",\"jul\",\"jul\",\"jul\",\"jul\",\"jul\",\"jul\",\"jul\",\"jul\",\"jul\",\"jul\",\"jun\",\"jun\",\"jun\",\"jun\",\"jun\",\"jun\",\"jun\",\"jun\",\"jun\",\"jun\",\"jun\",\"jun\",\"jun\",\"jun\",\"jun\",\"jun\",\"jun\",\"jun\",\"jun\",\"jun\",\"nov\",\"nov\",\"nov\",\"nov\",\"nov\",\"nov\",\"nov\",\"nov\",\"nov\",\"nov\",\"nov\",\"nov\",\"nov\",\"nov\",\"nov\",\"nov\",\"mai\",\"mai\",\"mai\",\"mai\",\"mai\",\"mai\",\"mai\",\"mai\",\"mai\",\"mai\",\"mai\",\"mai\",\"mai\",\"mai\",\"mai\",\"mai\",\"mai\",\"fev\",\"fev\",\"fev\",\"fev\",\"fev\",\"fev\",\"fev\",\"fev\",\"fev\",\"fev\",\"fev\",\"fev\",\"fev\",\"fev\",\"fev\",\"fev\",\"fev\",\"fev\",\"abril\",\"abril\",\"abril\",\"abril\",\"abril\",\"abril\",\"abril\",\"abril\",\"abril\",\"abril\",\"abril\",\"abril\",\"abril\",\"abril\",\"abril\",\"abril\",\"abril\",\"abril\",\"abril\",\"mar\",\"mar\",\"mar\",\"mar\",\"mar\",\"mar\",\"mar\",\"mar\",\"mar\",\"mar\",\"mar\",\"mar\",\"mar\",\"mar\",\"mar\"],\"yaxis\":\"y\",\"type\":\"bar\"}],                        {\"template\":{\"data\":{\"histogram2dcontour\":[{\"type\":\"histogram2dcontour\",\"colorbar\":{\"outlinewidth\":0,\"ticks\":\"\"},\"colorscale\":[[0.0,\"#0d0887\"],[0.1111111111111111,\"#46039f\"],[0.2222222222222222,\"#7201a8\"],[0.3333333333333333,\"#9c179e\"],[0.4444444444444444,\"#bd3786\"],[0.5555555555555556,\"#d8576b\"],[0.6666666666666666,\"#ed7953\"],[0.7777777777777778,\"#fb9f3a\"],[0.8888888888888888,\"#fdca26\"],[1.0,\"#f0f921\"]]}],\"choropleth\":[{\"type\":\"choropleth\",\"colorbar\":{\"outlinewidth\":0,\"ticks\":\"\"}}],\"histogram2d\":[{\"type\":\"histogram2d\",\"colorbar\":{\"outlinewidth\":0,\"ticks\":\"\"},\"colorscale\":[[0.0,\"#0d0887\"],[0.1111111111111111,\"#46039f\"],[0.2222222222222222,\"#7201a8\"],[0.3333333333333333,\"#9c179e\"],[0.4444444444444444,\"#bd3786\"],[0.5555555555555556,\"#d8576b\"],[0.6666666666666666,\"#ed7953\"],[0.7777777777777778,\"#fb9f3a\"],[0.8888888888888888,\"#fdca26\"],[1.0,\"#f0f921\"]]}],\"heatmap\":[{\"type\":\"heatmap\",\"colorbar\":{\"outlinewidth\":0,\"ticks\":\"\"},\"colorscale\":[[0.0,\"#0d0887\"],[0.1111111111111111,\"#46039f\"],[0.2222222222222222,\"#7201a8\"],[0.3333333333333333,\"#9c179e\"],[0.4444444444444444,\"#bd3786\"],[0.5555555555555556,\"#d8576b\"],[0.6666666666666666,\"#ed7953\"],[0.7777777777777778,\"#fb9f3a\"],[0.8888888888888888,\"#fdca26\"],[1.0,\"#f0f921\"]]}],\"heatmapgl\":[{\"type\":\"heatmapgl\",\"colorbar\":{\"outlinewidth\":0,\"ticks\":\"\"},\"colorscale\":[[0.0,\"#0d0887\"],[0.1111111111111111,\"#46039f\"],[0.2222222222222222,\"#7201a8\"],[0.3333333333333333,\"#9c179e\"],[0.4444444444444444,\"#bd3786\"],[0.5555555555555556,\"#d8576b\"],[0.6666666666666666,\"#ed7953\"],[0.7777777777777778,\"#fb9f3a\"],[0.8888888888888888,\"#fdca26\"],[1.0,\"#f0f921\"]]}],\"contourcarpet\":[{\"type\":\"contourcarpet\",\"colorbar\":{\"outlinewidth\":0,\"ticks\":\"\"}}],\"contour\":[{\"type\":\"contour\",\"colorbar\":{\"outlinewidth\":0,\"ticks\":\"\"},\"colorscale\":[[0.0,\"#0d0887\"],[0.1111111111111111,\"#46039f\"],[0.2222222222222222,\"#7201a8\"],[0.3333333333333333,\"#9c179e\"],[0.4444444444444444,\"#bd3786\"],[0.5555555555555556,\"#d8576b\"],[0.6666666666666666,\"#ed7953\"],[0.7777777777777778,\"#fb9f3a\"],[0.8888888888888888,\"#fdca26\"],[1.0,\"#f0f921\"]]}],\"surface\":[{\"type\":\"surface\",\"colorbar\":{\"outlinewidth\":0,\"ticks\":\"\"},\"colorscale\":[[0.0,\"#0d0887\"],[0.1111111111111111,\"#46039f\"],[0.2222222222222222,\"#7201a8\"],[0.3333333333333333,\"#9c179e\"],[0.4444444444444444,\"#bd3786\"],[0.5555555555555556,\"#d8576b\"],[0.6666666666666666,\"#ed7953\"],[0.7777777777777778,\"#fb9f3a\"],[0.8888888888888888,\"#fdca26\"],[1.0,\"#f0f921\"]]}],\"mesh3d\":[{\"type\":\"mesh3d\",\"colorbar\":{\"outlinewidth\":0,\"ticks\":\"\"}}],\"scatter\":[{\"fillpattern\":{\"fillmode\":\"overlay\",\"size\":10,\"solidity\":0.2},\"type\":\"scatter\"}],\"parcoords\":[{\"type\":\"parcoords\",\"line\":{\"colorbar\":{\"outlinewidth\":0,\"ticks\":\"\"}}}],\"scatterpolargl\":[{\"type\":\"scatterpolargl\",\"marker\":{\"colorbar\":{\"outlinewidth\":0,\"ticks\":\"\"}}}],\"bar\":[{\"error_x\":{\"color\":\"#2a3f5f\"},\"error_y\":{\"color\":\"#2a3f5f\"},\"marker\":{\"line\":{\"color\":\"#E5ECF6\",\"width\":0.5},\"pattern\":{\"fillmode\":\"overlay\",\"size\":10,\"solidity\":0.2}},\"type\":\"bar\"}],\"scattergeo\":[{\"type\":\"scattergeo\",\"marker\":{\"colorbar\":{\"outlinewidth\":0,\"ticks\":\"\"}}}],\"scatterpolar\":[{\"type\":\"scatterpolar\",\"marker\":{\"colorbar\":{\"outlinewidth\":0,\"ticks\":\"\"}}}],\"histogram\":[{\"marker\":{\"pattern\":{\"fillmode\":\"overlay\",\"size\":10,\"solidity\":0.2}},\"type\":\"histogram\"}],\"scattergl\":[{\"type\":\"scattergl\",\"marker\":{\"colorbar\":{\"outlinewidth\":0,\"ticks\":\"\"}}}],\"scatter3d\":[{\"type\":\"scatter3d\",\"line\":{\"colorbar\":{\"outlinewidth\":0,\"ticks\":\"\"}},\"marker\":{\"colorbar\":{\"outlinewidth\":0,\"ticks\":\"\"}}}],\"scattermapbox\":[{\"type\":\"scattermapbox\",\"marker\":{\"colorbar\":{\"outlinewidth\":0,\"ticks\":\"\"}}}],\"scatterternary\":[{\"type\":\"scatterternary\",\"marker\":{\"colorbar\":{\"outlinewidth\":0,\"ticks\":\"\"}}}],\"scattercarpet\":[{\"type\":\"scattercarpet\",\"marker\":{\"colorbar\":{\"outlinewidth\":0,\"ticks\":\"\"}}}],\"carpet\":[{\"aaxis\":{\"endlinecolor\":\"#2a3f5f\",\"gridcolor\":\"white\",\"linecolor\":\"white\",\"minorgridcolor\":\"white\",\"startlinecolor\":\"#2a3f5f\"},\"baxis\":{\"endlinecolor\":\"#2a3f5f\",\"gridcolor\":\"white\",\"linecolor\":\"white\",\"minorgridcolor\":\"white\",\"startlinecolor\":\"#2a3f5f\"},\"type\":\"carpet\"}],\"table\":[{\"cells\":{\"fill\":{\"color\":\"#EBF0F8\"},\"line\":{\"color\":\"white\"}},\"header\":{\"fill\":{\"color\":\"#C8D4E3\"},\"line\":{\"color\":\"white\"}},\"type\":\"table\"}],\"barpolar\":[{\"marker\":{\"line\":{\"color\":\"#E5ECF6\",\"width\":0.5},\"pattern\":{\"fillmode\":\"overlay\",\"size\":10,\"solidity\":0.2}},\"type\":\"barpolar\"}],\"pie\":[{\"automargin\":true,\"type\":\"pie\"}]},\"layout\":{\"autotypenumbers\":\"strict\",\"colorway\":[\"#636efa\",\"#EF553B\",\"#00cc96\",\"#ab63fa\",\"#FFA15A\",\"#19d3f3\",\"#FF6692\",\"#B6E880\",\"#FF97FF\",\"#FECB52\"],\"font\":{\"color\":\"#2a3f5f\"},\"hovermode\":\"closest\",\"hoverlabel\":{\"align\":\"left\"},\"paper_bgcolor\":\"white\",\"plot_bgcolor\":\"#E5ECF6\",\"polar\":{\"bgcolor\":\"#E5ECF6\",\"angularaxis\":{\"gridcolor\":\"white\",\"linecolor\":\"white\",\"ticks\":\"\"},\"radialaxis\":{\"gridcolor\":\"white\",\"linecolor\":\"white\",\"ticks\":\"\"}},\"ternary\":{\"bgcolor\":\"#E5ECF6\",\"aaxis\":{\"gridcolor\":\"white\",\"linecolor\":\"white\",\"ticks\":\"\"},\"baxis\":{\"gridcolor\":\"white\",\"linecolor\":\"white\",\"ticks\":\"\"},\"caxis\":{\"gridcolor\":\"white\",\"linecolor\":\"white\",\"ticks\":\"\"}},\"coloraxis\":{\"colorbar\":{\"outlinewidth\":0,\"ticks\":\"\"}},\"colorscale\":{\"sequential\":[[0.0,\"#0d0887\"],[0.1111111111111111,\"#46039f\"],[0.2222222222222222,\"#7201a8\"],[0.3333333333333333,\"#9c179e\"],[0.4444444444444444,\"#bd3786\"],[0.5555555555555556,\"#d8576b\"],[0.6666666666666666,\"#ed7953\"],[0.7777777777777778,\"#fb9f3a\"],[0.8888888888888888,\"#fdca26\"],[1.0,\"#f0f921\"]],\"sequentialminus\":[[0.0,\"#0d0887\"],[0.1111111111111111,\"#46039f\"],[0.2222222222222222,\"#7201a8\"],[0.3333333333333333,\"#9c179e\"],[0.4444444444444444,\"#bd3786\"],[0.5555555555555556,\"#d8576b\"],[0.6666666666666666,\"#ed7953\"],[0.7777777777777778,\"#fb9f3a\"],[0.8888888888888888,\"#fdca26\"],[1.0,\"#f0f921\"]],\"diverging\":[[0,\"#8e0152\"],[0.1,\"#c51b7d\"],[0.2,\"#de77ae\"],[0.3,\"#f1b6da\"],[0.4,\"#fde0ef\"],[0.5,\"#f7f7f7\"],[0.6,\"#e6f5d0\"],[0.7,\"#b8e186\"],[0.8,\"#7fbc41\"],[0.9,\"#4d9221\"],[1,\"#276419\"]]},\"xaxis\":{\"gridcolor\":\"white\",\"linecolor\":\"white\",\"ticks\":\"\",\"title\":{\"standoff\":15},\"zerolinecolor\":\"white\",\"automargin\":true,\"zerolinewidth\":2},\"yaxis\":{\"gridcolor\":\"white\",\"linecolor\":\"white\",\"ticks\":\"\",\"title\":{\"standoff\":15},\"zerolinecolor\":\"white\",\"automargin\":true,\"zerolinewidth\":2},\"scene\":{\"xaxis\":{\"backgroundcolor\":\"#E5ECF6\",\"gridcolor\":\"white\",\"linecolor\":\"white\",\"showbackground\":true,\"ticks\":\"\",\"zerolinecolor\":\"white\",\"gridwidth\":2},\"yaxis\":{\"backgroundcolor\":\"#E5ECF6\",\"gridcolor\":\"white\",\"linecolor\":\"white\",\"showbackground\":true,\"ticks\":\"\",\"zerolinecolor\":\"white\",\"gridwidth\":2},\"zaxis\":{\"backgroundcolor\":\"#E5ECF6\",\"gridcolor\":\"white\",\"linecolor\":\"white\",\"showbackground\":true,\"ticks\":\"\",\"zerolinecolor\":\"white\",\"gridwidth\":2}},\"shapedefaults\":{\"line\":{\"color\":\"#2a3f5f\"}},\"annotationdefaults\":{\"arrowcolor\":\"#2a3f5f\",\"arrowhead\":0,\"arrowwidth\":1},\"geo\":{\"bgcolor\":\"white\",\"landcolor\":\"#E5ECF6\",\"subunitcolor\":\"white\",\"showland\":true,\"showlakes\":true,\"lakecolor\":\"white\"},\"title\":{\"x\":0.05},\"mapbox\":{\"style\":\"light\"}}},\"xaxis\":{\"anchor\":\"y\",\"domain\":[0.0,1.0],\"title\":{\"text\":\"TOTAL\"}},\"yaxis\":{\"anchor\":\"x\",\"domain\":[0.0,1.0],\"title\":{\"text\":\"MES\"}},\"legend\":{\"title\":{\"text\":\"ABRANGENCIA\"},\"tracegroupgap\":0},\"title\":{\"text\":\"Total de portes de arma por m\\u00eas, por abrang\\u00eancia\"},\"barmode\":\"relative\",\"height\":700},                        {\"responsive\": true}                    ).then(function(){\n",
       "                            \n",
       "var gd = document.getElementById('fa4ba741-6728-4a99-a255-e21738d07ec0');\n",
       "var x = new MutationObserver(function (mutations, observer) {{\n",
       "        var display = window.getComputedStyle(gd).display;\n",
       "        if (!display || display === 'none') {{\n",
       "            console.log([gd, 'removed!']);\n",
       "            Plotly.purge(gd);\n",
       "            observer.disconnect();\n",
       "        }}\n",
       "}});\n",
       "\n",
       "// Listen for the removal of the full notebook cells\n",
       "var notebookContainer = gd.closest('#notebook-container');\n",
       "if (notebookContainer) {{\n",
       "    x.observe(notebookContainer, {childList: true});\n",
       "}}\n",
       "\n",
       "// Listen for the clearing of the current output cell\n",
       "var outputEl = gd.closest('.output');\n",
       "if (outputEl) {{\n",
       "    x.observe(outputEl, {childList: true});\n",
       "}}\n",
       "\n",
       "                        })                };                });            </script>        </div>"
      ]
     },
     "metadata": {},
     "output_type": "display_data"
    }
   ],
   "source": [
    "fig = px.bar(df_porte, x='TOTAL', y='MES', \n",
    "             title='Total de portes de arma por mês, por abrangência', \n",
    "             height=700, color='ABRANGENCIA',\n",
    "             color_discrete_sequence=px.colors.cyclical.Twilight)\n",
    "fig.show()"
   ]
  },
  {
   "cell_type": "code",
   "execution_count": 87,
   "id": "658b604a",
   "metadata": {},
   "outputs": [
    {
     "data": {
      "application/vnd.plotly.v1+json": {
       "config": {
        "plotlyServerURL": "https://plot.ly"
       },
       "data": [
        {
         "alignmentgroup": "True",
         "hovertemplate": "TOTAL=%{x}<br>MES=%{y}<extra></extra>",
         "legendgroup": "",
         "marker": {
          "color": "rgb(60, 9, 17)",
          "pattern": {
           "shape": ""
          }
         },
         "name": "",
         "offsetgroup": "",
         "orientation": "h",
         "showlegend": false,
         "textposition": "auto",
         "type": "bar",
         "x": [
          15,
          3,
          1,
          12,
          1,
          1,
          55,
          1,
          1,
          9,
          2,
          1,
          2,
          30,
          19,
          60,
          3,
          5,
          18,
          2,
          19,
          5,
          7,
          1,
          44,
          8,
          22,
          1,
          19,
          9,
          3,
          10,
          2,
          38,
          17,
          7,
          1,
          1,
          4,
          1,
          12,
          1,
          40,
          5,
          6,
          12,
          12,
          3,
          68,
          29,
          3,
          131,
          5,
          7,
          32,
          1,
          1,
          32,
          4,
          1,
          1,
          16,
          4,
          1,
          28,
          3,
          22,
          1,
          22,
          56,
          3,
          41,
          4,
          2,
          59,
          1,
          27,
          25,
          1,
          68,
          1,
          2,
          11,
          3,
          135,
          4,
          32,
          3,
          14,
          2,
          35,
          13,
          1,
          151,
          1,
          5,
          3,
          14,
          11,
          1,
          1,
          1,
          9,
          2,
          1,
          65,
          41,
          3,
          12,
          112,
          3,
          5,
          1,
          37,
          91,
          6,
          7,
          67,
          8,
          18,
          2,
          2,
          5,
          36,
          490,
          13,
          88,
          8,
          2,
          10,
          1,
          25,
          6,
          1,
          20,
          1,
          3,
          1,
          2,
          1,
          2,
          2,
          6,
          8,
          1,
          30,
          87,
          38,
          8,
          134,
          1,
          38,
          2,
          6,
          9,
          17,
          1,
          22,
          17,
          7,
          5,
          11,
          8,
          1,
          10,
          1,
          16,
          5,
          1,
          3,
          1,
          1,
          1,
          6,
          24,
          1,
          31,
          3,
          4,
          5,
          3,
          1,
          1,
          10,
          1,
          3,
          123,
          14,
          5,
          18,
          24,
          1,
          4,
          6,
          3,
          38,
          8,
          581,
          4,
          2,
          2,
          4,
          11,
          33,
          8,
          1,
          27,
          8,
          4,
          3,
          36,
          36,
          5,
          5,
          1,
          27,
          1,
          7,
          1,
          4,
          1,
          2,
          95,
          6,
          3,
          10,
          1,
          26,
          6,
          3,
          4,
          2,
          1,
          14,
          1,
          1,
          1,
          5,
          2,
          180,
          146,
          1,
          42,
          1,
          7,
          15,
          10,
          2,
          91,
          5,
          7,
          6,
          25,
          7,
          23,
          1,
          335,
          4,
          6,
          2,
          5,
          4,
          5,
          26,
          2,
          2,
          4,
          9,
          2,
          7,
          6,
          13,
          1,
          40,
          46,
          2,
          4,
          1,
          39,
          2,
          10,
          1,
          22,
          12,
          2,
          1,
          1,
          2,
          5,
          123,
          26,
          2,
          3,
          18,
          30,
          3,
          1,
          6,
          9,
          1,
          3,
          2,
          13,
          7,
          2,
          68,
          7,
          1,
          52,
          1,
          2,
          2,
          3,
          3,
          1,
          5,
          141,
          4,
          7,
          8,
          1,
          17,
          1,
          2,
          2,
          17,
          1,
          27,
          236,
          27,
          1,
          1,
          8,
          1,
          11,
          1,
          5,
          2,
          12,
          1,
          14,
          6,
          4,
          36,
          1,
          5,
          29,
          26,
          37,
          17,
          34,
          1,
          17,
          2,
          23,
          16,
          1,
          24,
          1,
          5,
          80,
          22,
          3,
          6,
          11,
          4,
          36,
          4,
          2,
          16,
          1,
          2,
          1,
          6,
          6,
          1,
          11,
          3,
          1,
          2,
          22,
          3,
          2,
          2,
          3,
          3,
          2,
          105,
          8,
          4,
          51,
          3,
          9,
          1,
          56,
          2,
          1,
          1,
          10,
          1,
          541,
          6,
          1,
          20,
          5,
          16,
          1,
          2,
          2,
          24,
          4,
          39,
          4,
          53,
          94,
          11,
          80,
          19,
          62,
          1,
          1,
          15,
          24,
          2,
          1,
          5,
          1,
          13,
          2,
          23,
          5,
          48,
          4,
          2,
          57,
          5,
          1,
          3,
          1,
          9,
          1,
          22,
          1,
          5,
          5,
          2,
          1,
          1,
          21,
          7,
          8,
          3,
          3,
          2,
          1,
          1,
          96,
          8,
          5,
          30,
          1,
          13,
          2,
          29,
          160,
          8,
          1,
          1,
          2,
          2,
          4,
          12,
          1,
          1,
          8,
          2,
          1,
          8,
          1,
          6,
          1,
          6,
          7,
          7,
          38,
          29,
          4,
          41,
          2,
          32,
          14,
          7,
          2,
          2,
          74,
          8,
          9,
          2,
          1,
          1,
          49,
          7,
          2,
          64,
          8,
          2,
          30,
          2,
          1,
          3,
          13,
          3,
          22,
          2,
          26,
          1,
          44,
          1,
          2,
          1,
          38,
          86,
          4,
          4,
          4,
          4,
          16,
          5,
          4,
          1,
          14,
          34,
          303,
          1,
          13,
          9,
          4,
          5,
          7,
          5,
          2,
          17,
          4,
          3,
          14,
          2,
          30,
          59,
          27,
          46,
          9,
          9,
          29,
          5,
          2,
          4,
          2,
          1,
          177,
          2,
          16,
          4,
          4,
          15,
          2,
          46,
          8,
          5,
          3,
          11,
          1,
          1,
          1,
          1,
          18,
          1,
          4,
          18,
          1,
          31,
          4,
          1,
          87,
          5,
          4,
          14,
          11,
          1,
          1,
          8,
          18,
          1,
          208,
          3,
          2,
          3,
          10,
          5,
          19,
          3,
          1,
          110,
          1,
          1,
          30,
          2,
          50,
          23,
          29,
          4,
          54,
          3,
          34,
          3,
          34,
          6,
          1,
          1,
          1,
          9,
          2,
          2,
          8,
          7,
          13,
          1,
          40,
          1,
          3,
          7,
          2,
          2,
          7,
          14,
          4,
          1,
          1,
          9,
          1,
          2,
          4,
          2,
          2,
          1,
          134,
          16,
          12,
          22,
          2,
          4,
          3,
          17,
          315,
          1,
          6,
          3,
          9,
          3,
          24,
          1,
          1,
          3,
          1,
          1,
          6,
          3,
          1,
          3,
          3,
          58,
          59,
          25,
          6,
          20,
          2,
          1,
          1,
          16,
          92,
          5,
          2,
          19,
          1,
          2,
          21,
          4,
          14,
          17,
          1,
          5,
          7,
          1,
          1,
          16,
          2,
          23,
          10,
          1,
          2,
          5,
          1,
          4,
          4,
          1,
          83,
          10,
          7,
          1,
          2,
          11,
          2,
          61,
          27,
          1,
          286,
          1,
          10,
          56,
          1,
          1,
          30,
          5,
          1,
          24,
          1,
          10,
          19,
          2,
          2,
          157,
          46,
          60,
          22,
          2,
          13,
          44,
          2,
          1,
          3,
          19,
          35,
          4,
          2,
          32,
          1,
          39,
          2,
          16,
          36,
          11,
          3,
          4,
          1,
          5,
          2,
          8,
          5,
          15,
          4,
          18,
          5,
          6,
          7,
          2,
          78,
          4,
          8,
          5,
          5,
          5,
          10,
          1,
          19,
          44,
          2,
          435,
          4,
          2,
          1,
          4
         ],
         "xaxis": "x",
         "y": [
          "jan",
          "jan",
          "jan",
          "jan",
          "jan",
          "jan",
          "jan",
          "jan",
          "jan",
          "jan",
          "jan",
          "jan",
          "jan",
          "jan",
          "jan",
          "jan",
          "jan",
          "jan",
          "jan",
          "jan",
          "jan",
          "jan",
          "jan",
          "jan",
          "jan",
          "jan",
          "jan",
          "jan",
          "jan",
          "jan",
          "jan",
          "jan",
          "jan",
          "jan",
          "jan",
          "jan",
          "jan",
          "jan",
          "jan",
          "jan",
          "jan",
          "jan",
          "jan",
          "jan",
          "jan",
          "jan",
          "jan",
          "jan",
          "jan",
          "jan",
          "jan",
          "jan",
          "ago",
          "ago",
          "ago",
          "ago",
          "ago",
          "ago",
          "ago",
          "ago",
          "ago",
          "ago",
          "ago",
          "ago",
          "ago",
          "ago",
          "ago",
          "ago",
          "ago",
          "ago",
          "ago",
          "ago",
          "ago",
          "ago",
          "ago",
          "ago",
          "ago",
          "ago",
          "ago",
          "ago",
          "ago",
          "ago",
          "ago",
          "ago",
          "ago",
          "ago",
          "ago",
          "ago",
          "ago",
          "ago",
          "ago",
          "ago",
          "ago",
          "ago",
          "ago",
          "ago",
          "ago",
          "ago",
          "ago",
          "ago",
          "ago",
          "ago",
          "ago",
          "ago",
          "ago",
          "ago",
          "ago",
          "ago",
          "ago",
          "ago",
          "ago",
          "ago",
          "ago",
          "ago",
          "ago",
          "ago",
          "ago",
          "ago",
          "ago",
          "ago",
          "ago",
          "ago",
          "ago",
          "ago",
          "ago",
          "ago",
          "ago",
          "ago",
          "dez",
          "dez",
          "dez",
          "dez",
          "dez",
          "dez",
          "dez",
          "dez",
          "dez",
          "dez",
          "dez",
          "dez",
          "dez",
          "dez",
          "dez",
          "dez",
          "dez",
          "dez",
          "dez",
          "dez",
          "dez",
          "dez",
          "dez",
          "dez",
          "dez",
          "dez",
          "dez",
          "dez",
          "dez",
          "dez",
          "dez",
          "dez",
          "dez",
          "dez",
          "dez",
          "dez",
          "dez",
          "dez",
          "dez",
          "dez",
          "dez",
          "dez",
          "dez",
          "dez",
          "dez",
          "dez",
          "dez",
          "dez",
          "dez",
          "dez",
          "dez",
          "dez",
          "dez",
          "dez",
          "dez",
          "dez",
          "dez",
          "dez",
          "dez",
          "dez",
          "dez",
          "dez",
          "dez",
          "dez",
          "dez",
          "dez",
          "dez",
          "dez",
          "dez",
          "dez",
          "dez",
          "dez",
          "out",
          "out",
          "out",
          "out",
          "out",
          "out",
          "out",
          "out",
          "out",
          "out",
          "out",
          "out",
          "out",
          "out",
          "out",
          "out",
          "out",
          "out",
          "out",
          "out",
          "out",
          "out",
          "out",
          "out",
          "out",
          "out",
          "out",
          "out",
          "out",
          "out",
          "out",
          "out",
          "out",
          "out",
          "out",
          "out",
          "out",
          "out",
          "out",
          "out",
          "out",
          "out",
          "out",
          "out",
          "out",
          "out",
          "out",
          "out",
          "out",
          "out",
          "out",
          "out",
          "out",
          "out",
          "out",
          "out",
          "out",
          "out",
          "out",
          "out",
          "out",
          "set",
          "set",
          "set",
          "set",
          "set",
          "set",
          "set",
          "set",
          "set",
          "set",
          "set",
          "set",
          "set",
          "set",
          "set",
          "set",
          "set",
          "set",
          "set",
          "set",
          "set",
          "set",
          "set",
          "set",
          "set",
          "set",
          "set",
          "set",
          "set",
          "set",
          "set",
          "set",
          "set",
          "set",
          "set",
          "set",
          "set",
          "set",
          "set",
          "set",
          "set",
          "set",
          "set",
          "set",
          "set",
          "set",
          "set",
          "set",
          "set",
          "set",
          "set",
          "set",
          "set",
          "set",
          "set",
          "set",
          "set",
          "set",
          "set",
          "set",
          "set",
          "set",
          "set",
          "set",
          "set",
          "set",
          "set",
          "set",
          "set",
          "set",
          "set",
          "jul",
          "jul",
          "jul",
          "jul",
          "jul",
          "jul",
          "jul",
          "jul",
          "jul",
          "jul",
          "jul",
          "jul",
          "jul",
          "jul",
          "jul",
          "jul",
          "jul",
          "jul",
          "jul",
          "jul",
          "jul",
          "jul",
          "jul",
          "jul",
          "jul",
          "jul",
          "jul",
          "jul",
          "jul",
          "jul",
          "jul",
          "jul",
          "jul",
          "jul",
          "jul",
          "jul",
          "jul",
          "jul",
          "jul",
          "jul",
          "jul",
          "jul",
          "jul",
          "jul",
          "jul",
          "jul",
          "jul",
          "jul",
          "jul",
          "jul",
          "jul",
          "jul",
          "jul",
          "jul",
          "jul",
          "jul",
          "jul",
          "jul",
          "jul",
          "jul",
          "jul",
          "jul",
          "jul",
          "jul",
          "jul",
          "jul",
          "jul",
          "jul",
          "jul",
          "jul",
          "jul",
          "jun",
          "jun",
          "jun",
          "jun",
          "jun",
          "jun",
          "jun",
          "jun",
          "jun",
          "jun",
          "jun",
          "jun",
          "jun",
          "jun",
          "jun",
          "jun",
          "jun",
          "jun",
          "jun",
          "jun",
          "jun",
          "jun",
          "jun",
          "jun",
          "jun",
          "jun",
          "jun",
          "jun",
          "jun",
          "jun",
          "jun",
          "jun",
          "jun",
          "jun",
          "jun",
          "jun",
          "jun",
          "jun",
          "jun",
          "jun",
          "jun",
          "jun",
          "jun",
          "jun",
          "jun",
          "jun",
          "jun",
          "jun",
          "jun",
          "jun",
          "jun",
          "jun",
          "jun",
          "jun",
          "jun",
          "jun",
          "jun",
          "jun",
          "jun",
          "jun",
          "jun",
          "jun",
          "jun",
          "jun",
          "jun",
          "jun",
          "jun",
          "nov",
          "nov",
          "nov",
          "nov",
          "nov",
          "nov",
          "nov",
          "nov",
          "nov",
          "nov",
          "nov",
          "nov",
          "nov",
          "nov",
          "nov",
          "nov",
          "nov",
          "nov",
          "nov",
          "nov",
          "nov",
          "nov",
          "nov",
          "nov",
          "nov",
          "nov",
          "nov",
          "nov",
          "nov",
          "nov",
          "nov",
          "nov",
          "nov",
          "nov",
          "nov",
          "nov",
          "nov",
          "nov",
          "nov",
          "nov",
          "nov",
          "nov",
          "nov",
          "nov",
          "nov",
          "nov",
          "nov",
          "nov",
          "nov",
          "nov",
          "nov",
          "nov",
          "nov",
          "nov",
          "nov",
          "nov",
          "nov",
          "nov",
          "nov",
          "nov",
          "nov",
          "nov",
          "nov",
          "nov",
          "nov",
          "mai",
          "mai",
          "mai",
          "mai",
          "mai",
          "mai",
          "mai",
          "mai",
          "mai",
          "mai",
          "mai",
          "mai",
          "mai",
          "mai",
          "mai",
          "mai",
          "mai",
          "mai",
          "mai",
          "mai",
          "mai",
          "mai",
          "mai",
          "mai",
          "mai",
          "mai",
          "mai",
          "mai",
          "mai",
          "mai",
          "mai",
          "mai",
          "mai",
          "mai",
          "mai",
          "mai",
          "mai",
          "mai",
          "mai",
          "mai",
          "mai",
          "mai",
          "mai",
          "mai",
          "mai",
          "mai",
          "mai",
          "mai",
          "mai",
          "mai",
          "mai",
          "mai",
          "mai",
          "mai",
          "mai",
          "mai",
          "mai",
          "mai",
          "mai",
          "mai",
          "mai",
          "fev",
          "fev",
          "fev",
          "fev",
          "fev",
          "fev",
          "fev",
          "fev",
          "fev",
          "fev",
          "fev",
          "fev",
          "fev",
          "fev",
          "fev",
          "fev",
          "fev",
          "fev",
          "fev",
          "fev",
          "fev",
          "fev",
          "fev",
          "fev",
          "fev",
          "fev",
          "fev",
          "fev",
          "fev",
          "fev",
          "fev",
          "fev",
          "fev",
          "fev",
          "fev",
          "fev",
          "fev",
          "fev",
          "fev",
          "fev",
          "fev",
          "fev",
          "fev",
          "fev",
          "fev",
          "fev",
          "fev",
          "fev",
          "fev",
          "fev",
          "fev",
          "fev",
          "fev",
          "fev",
          "fev",
          "fev",
          "fev",
          "fev",
          "fev",
          "fev",
          "abril",
          "abril",
          "abril",
          "abril",
          "abril",
          "abril",
          "abril",
          "abril",
          "abril",
          "abril",
          "abril",
          "abril",
          "abril",
          "abril",
          "abril",
          "abril",
          "abril",
          "abril",
          "abril",
          "abril",
          "abril",
          "abril",
          "abril",
          "abril",
          "abril",
          "abril",
          "abril",
          "abril",
          "abril",
          "abril",
          "abril",
          "abril",
          "abril",
          "abril",
          "abril",
          "abril",
          "abril",
          "abril",
          "abril",
          "abril",
          "abril",
          "abril",
          "abril",
          "abril",
          "abril",
          "abril",
          "abril",
          "abril",
          "abril",
          "abril",
          "abril",
          "abril",
          "abril",
          "abril",
          "abril",
          "abril",
          "abril",
          "abril",
          "abril",
          "abril",
          "abril",
          "abril",
          "mar",
          "mar",
          "mar",
          "mar",
          "mar",
          "mar",
          "mar",
          "mar",
          "mar",
          "mar",
          "mar",
          "mar",
          "mar",
          "mar",
          "mar",
          "mar",
          "mar",
          "mar",
          "mar",
          "mar",
          "mar",
          "mar",
          "mar",
          "mar",
          "mar",
          "mar",
          "mar",
          "mar",
          "mar",
          "mar",
          "mar",
          "mar",
          "mar",
          "mar",
          "mar",
          "mar",
          "mar",
          "mar",
          "mar",
          "mar",
          "mar",
          "mar",
          "mar",
          "mar",
          "mar",
          "mar",
          "mar",
          "mar",
          "mar",
          "mar",
          "mar",
          "mar",
          "mar",
          "mar",
          "mar",
          "mar",
          "mar",
          "mar",
          "mar",
          "mar",
          "mar",
          "mar"
         ],
         "yaxis": "y"
        }
       ],
       "layout": {
        "barmode": "relative",
        "height": 500,
        "legend": {
         "tracegroupgap": 0
        },
        "template": {
         "data": {
          "bar": [
           {
            "error_x": {
             "color": "#2a3f5f"
            },
            "error_y": {
             "color": "#2a3f5f"
            },
            "marker": {
             "line": {
              "color": "#E5ECF6",
              "width": 0.5
             },
             "pattern": {
              "fillmode": "overlay",
              "size": 10,
              "solidity": 0.2
             }
            },
            "type": "bar"
           }
          ],
          "barpolar": [
           {
            "marker": {
             "line": {
              "color": "#E5ECF6",
              "width": 0.5
             },
             "pattern": {
              "fillmode": "overlay",
              "size": 10,
              "solidity": 0.2
             }
            },
            "type": "barpolar"
           }
          ],
          "carpet": [
           {
            "aaxis": {
             "endlinecolor": "#2a3f5f",
             "gridcolor": "white",
             "linecolor": "white",
             "minorgridcolor": "white",
             "startlinecolor": "#2a3f5f"
            },
            "baxis": {
             "endlinecolor": "#2a3f5f",
             "gridcolor": "white",
             "linecolor": "white",
             "minorgridcolor": "white",
             "startlinecolor": "#2a3f5f"
            },
            "type": "carpet"
           }
          ],
          "choropleth": [
           {
            "colorbar": {
             "outlinewidth": 0,
             "ticks": ""
            },
            "type": "choropleth"
           }
          ],
          "contour": [
           {
            "colorbar": {
             "outlinewidth": 0,
             "ticks": ""
            },
            "colorscale": [
             [
              0,
              "#0d0887"
             ],
             [
              0.1111111111111111,
              "#46039f"
             ],
             [
              0.2222222222222222,
              "#7201a8"
             ],
             [
              0.3333333333333333,
              "#9c179e"
             ],
             [
              0.4444444444444444,
              "#bd3786"
             ],
             [
              0.5555555555555556,
              "#d8576b"
             ],
             [
              0.6666666666666666,
              "#ed7953"
             ],
             [
              0.7777777777777778,
              "#fb9f3a"
             ],
             [
              0.8888888888888888,
              "#fdca26"
             ],
             [
              1,
              "#f0f921"
             ]
            ],
            "type": "contour"
           }
          ],
          "contourcarpet": [
           {
            "colorbar": {
             "outlinewidth": 0,
             "ticks": ""
            },
            "type": "contourcarpet"
           }
          ],
          "heatmap": [
           {
            "colorbar": {
             "outlinewidth": 0,
             "ticks": ""
            },
            "colorscale": [
             [
              0,
              "#0d0887"
             ],
             [
              0.1111111111111111,
              "#46039f"
             ],
             [
              0.2222222222222222,
              "#7201a8"
             ],
             [
              0.3333333333333333,
              "#9c179e"
             ],
             [
              0.4444444444444444,
              "#bd3786"
             ],
             [
              0.5555555555555556,
              "#d8576b"
             ],
             [
              0.6666666666666666,
              "#ed7953"
             ],
             [
              0.7777777777777778,
              "#fb9f3a"
             ],
             [
              0.8888888888888888,
              "#fdca26"
             ],
             [
              1,
              "#f0f921"
             ]
            ],
            "type": "heatmap"
           }
          ],
          "heatmapgl": [
           {
            "colorbar": {
             "outlinewidth": 0,
             "ticks": ""
            },
            "colorscale": [
             [
              0,
              "#0d0887"
             ],
             [
              0.1111111111111111,
              "#46039f"
             ],
             [
              0.2222222222222222,
              "#7201a8"
             ],
             [
              0.3333333333333333,
              "#9c179e"
             ],
             [
              0.4444444444444444,
              "#bd3786"
             ],
             [
              0.5555555555555556,
              "#d8576b"
             ],
             [
              0.6666666666666666,
              "#ed7953"
             ],
             [
              0.7777777777777778,
              "#fb9f3a"
             ],
             [
              0.8888888888888888,
              "#fdca26"
             ],
             [
              1,
              "#f0f921"
             ]
            ],
            "type": "heatmapgl"
           }
          ],
          "histogram": [
           {
            "marker": {
             "pattern": {
              "fillmode": "overlay",
              "size": 10,
              "solidity": 0.2
             }
            },
            "type": "histogram"
           }
          ],
          "histogram2d": [
           {
            "colorbar": {
             "outlinewidth": 0,
             "ticks": ""
            },
            "colorscale": [
             [
              0,
              "#0d0887"
             ],
             [
              0.1111111111111111,
              "#46039f"
             ],
             [
              0.2222222222222222,
              "#7201a8"
             ],
             [
              0.3333333333333333,
              "#9c179e"
             ],
             [
              0.4444444444444444,
              "#bd3786"
             ],
             [
              0.5555555555555556,
              "#d8576b"
             ],
             [
              0.6666666666666666,
              "#ed7953"
             ],
             [
              0.7777777777777778,
              "#fb9f3a"
             ],
             [
              0.8888888888888888,
              "#fdca26"
             ],
             [
              1,
              "#f0f921"
             ]
            ],
            "type": "histogram2d"
           }
          ],
          "histogram2dcontour": [
           {
            "colorbar": {
             "outlinewidth": 0,
             "ticks": ""
            },
            "colorscale": [
             [
              0,
              "#0d0887"
             ],
             [
              0.1111111111111111,
              "#46039f"
             ],
             [
              0.2222222222222222,
              "#7201a8"
             ],
             [
              0.3333333333333333,
              "#9c179e"
             ],
             [
              0.4444444444444444,
              "#bd3786"
             ],
             [
              0.5555555555555556,
              "#d8576b"
             ],
             [
              0.6666666666666666,
              "#ed7953"
             ],
             [
              0.7777777777777778,
              "#fb9f3a"
             ],
             [
              0.8888888888888888,
              "#fdca26"
             ],
             [
              1,
              "#f0f921"
             ]
            ],
            "type": "histogram2dcontour"
           }
          ],
          "mesh3d": [
           {
            "colorbar": {
             "outlinewidth": 0,
             "ticks": ""
            },
            "type": "mesh3d"
           }
          ],
          "parcoords": [
           {
            "line": {
             "colorbar": {
              "outlinewidth": 0,
              "ticks": ""
             }
            },
            "type": "parcoords"
           }
          ],
          "pie": [
           {
            "automargin": true,
            "type": "pie"
           }
          ],
          "scatter": [
           {
            "fillpattern": {
             "fillmode": "overlay",
             "size": 10,
             "solidity": 0.2
            },
            "type": "scatter"
           }
          ],
          "scatter3d": [
           {
            "line": {
             "colorbar": {
              "outlinewidth": 0,
              "ticks": ""
             }
            },
            "marker": {
             "colorbar": {
              "outlinewidth": 0,
              "ticks": ""
             }
            },
            "type": "scatter3d"
           }
          ],
          "scattercarpet": [
           {
            "marker": {
             "colorbar": {
              "outlinewidth": 0,
              "ticks": ""
             }
            },
            "type": "scattercarpet"
           }
          ],
          "scattergeo": [
           {
            "marker": {
             "colorbar": {
              "outlinewidth": 0,
              "ticks": ""
             }
            },
            "type": "scattergeo"
           }
          ],
          "scattergl": [
           {
            "marker": {
             "colorbar": {
              "outlinewidth": 0,
              "ticks": ""
             }
            },
            "type": "scattergl"
           }
          ],
          "scattermapbox": [
           {
            "marker": {
             "colorbar": {
              "outlinewidth": 0,
              "ticks": ""
             }
            },
            "type": "scattermapbox"
           }
          ],
          "scatterpolar": [
           {
            "marker": {
             "colorbar": {
              "outlinewidth": 0,
              "ticks": ""
             }
            },
            "type": "scatterpolar"
           }
          ],
          "scatterpolargl": [
           {
            "marker": {
             "colorbar": {
              "outlinewidth": 0,
              "ticks": ""
             }
            },
            "type": "scatterpolargl"
           }
          ],
          "scatterternary": [
           {
            "marker": {
             "colorbar": {
              "outlinewidth": 0,
              "ticks": ""
             }
            },
            "type": "scatterternary"
           }
          ],
          "surface": [
           {
            "colorbar": {
             "outlinewidth": 0,
             "ticks": ""
            },
            "colorscale": [
             [
              0,
              "#0d0887"
             ],
             [
              0.1111111111111111,
              "#46039f"
             ],
             [
              0.2222222222222222,
              "#7201a8"
             ],
             [
              0.3333333333333333,
              "#9c179e"
             ],
             [
              0.4444444444444444,
              "#bd3786"
             ],
             [
              0.5555555555555556,
              "#d8576b"
             ],
             [
              0.6666666666666666,
              "#ed7953"
             ],
             [
              0.7777777777777778,
              "#fb9f3a"
             ],
             [
              0.8888888888888888,
              "#fdca26"
             ],
             [
              1,
              "#f0f921"
             ]
            ],
            "type": "surface"
           }
          ],
          "table": [
           {
            "cells": {
             "fill": {
              "color": "#EBF0F8"
             },
             "line": {
              "color": "white"
             }
            },
            "header": {
             "fill": {
              "color": "#C8D4E3"
             },
             "line": {
              "color": "white"
             }
            },
            "type": "table"
           }
          ]
         },
         "layout": {
          "annotationdefaults": {
           "arrowcolor": "#2a3f5f",
           "arrowhead": 0,
           "arrowwidth": 1
          },
          "autotypenumbers": "strict",
          "coloraxis": {
           "colorbar": {
            "outlinewidth": 0,
            "ticks": ""
           }
          },
          "colorscale": {
           "diverging": [
            [
             0,
             "#8e0152"
            ],
            [
             0.1,
             "#c51b7d"
            ],
            [
             0.2,
             "#de77ae"
            ],
            [
             0.3,
             "#f1b6da"
            ],
            [
             0.4,
             "#fde0ef"
            ],
            [
             0.5,
             "#f7f7f7"
            ],
            [
             0.6,
             "#e6f5d0"
            ],
            [
             0.7,
             "#b8e186"
            ],
            [
             0.8,
             "#7fbc41"
            ],
            [
             0.9,
             "#4d9221"
            ],
            [
             1,
             "#276419"
            ]
           ],
           "sequential": [
            [
             0,
             "#0d0887"
            ],
            [
             0.1111111111111111,
             "#46039f"
            ],
            [
             0.2222222222222222,
             "#7201a8"
            ],
            [
             0.3333333333333333,
             "#9c179e"
            ],
            [
             0.4444444444444444,
             "#bd3786"
            ],
            [
             0.5555555555555556,
             "#d8576b"
            ],
            [
             0.6666666666666666,
             "#ed7953"
            ],
            [
             0.7777777777777778,
             "#fb9f3a"
            ],
            [
             0.8888888888888888,
             "#fdca26"
            ],
            [
             1,
             "#f0f921"
            ]
           ],
           "sequentialminus": [
            [
             0,
             "#0d0887"
            ],
            [
             0.1111111111111111,
             "#46039f"
            ],
            [
             0.2222222222222222,
             "#7201a8"
            ],
            [
             0.3333333333333333,
             "#9c179e"
            ],
            [
             0.4444444444444444,
             "#bd3786"
            ],
            [
             0.5555555555555556,
             "#d8576b"
            ],
            [
             0.6666666666666666,
             "#ed7953"
            ],
            [
             0.7777777777777778,
             "#fb9f3a"
            ],
            [
             0.8888888888888888,
             "#fdca26"
            ],
            [
             1,
             "#f0f921"
            ]
           ]
          },
          "colorway": [
           "#636efa",
           "#EF553B",
           "#00cc96",
           "#ab63fa",
           "#FFA15A",
           "#19d3f3",
           "#FF6692",
           "#B6E880",
           "#FF97FF",
           "#FECB52"
          ],
          "font": {
           "color": "#2a3f5f"
          },
          "geo": {
           "bgcolor": "white",
           "lakecolor": "white",
           "landcolor": "#E5ECF6",
           "showlakes": true,
           "showland": true,
           "subunitcolor": "white"
          },
          "hoverlabel": {
           "align": "left"
          },
          "hovermode": "closest",
          "mapbox": {
           "style": "light"
          },
          "paper_bgcolor": "white",
          "plot_bgcolor": "#E5ECF6",
          "polar": {
           "angularaxis": {
            "gridcolor": "white",
            "linecolor": "white",
            "ticks": ""
           },
           "bgcolor": "#E5ECF6",
           "radialaxis": {
            "gridcolor": "white",
            "linecolor": "white",
            "ticks": ""
           }
          },
          "scene": {
           "xaxis": {
            "backgroundcolor": "#E5ECF6",
            "gridcolor": "white",
            "gridwidth": 2,
            "linecolor": "white",
            "showbackground": true,
            "ticks": "",
            "zerolinecolor": "white"
           },
           "yaxis": {
            "backgroundcolor": "#E5ECF6",
            "gridcolor": "white",
            "gridwidth": 2,
            "linecolor": "white",
            "showbackground": true,
            "ticks": "",
            "zerolinecolor": "white"
           },
           "zaxis": {
            "backgroundcolor": "#E5ECF6",
            "gridcolor": "white",
            "gridwidth": 2,
            "linecolor": "white",
            "showbackground": true,
            "ticks": "",
            "zerolinecolor": "white"
           }
          },
          "shapedefaults": {
           "line": {
            "color": "#2a3f5f"
           }
          },
          "ternary": {
           "aaxis": {
            "gridcolor": "white",
            "linecolor": "white",
            "ticks": ""
           },
           "baxis": {
            "gridcolor": "white",
            "linecolor": "white",
            "ticks": ""
           },
           "bgcolor": "#E5ECF6",
           "caxis": {
            "gridcolor": "white",
            "linecolor": "white",
            "ticks": ""
           }
          },
          "title": {
           "x": 0.05
          },
          "xaxis": {
           "automargin": true,
           "gridcolor": "white",
           "linecolor": "white",
           "ticks": "",
           "title": {
            "standoff": 15
           },
           "zerolinecolor": "white",
           "zerolinewidth": 2
          },
          "yaxis": {
           "automargin": true,
           "gridcolor": "white",
           "linecolor": "white",
           "ticks": "",
           "title": {
            "standoff": 15
           },
           "zerolinecolor": "white",
           "zerolinewidth": 2
          }
         }
        },
        "title": {
         "text": "Total de portes de arma por mês"
        },
        "xaxis": {
         "anchor": "y",
         "domain": [
          0,
          1
         ],
         "title": {
          "text": "TOTAL"
         }
        },
        "yaxis": {
         "anchor": "x",
         "domain": [
          0,
          1
         ],
         "title": {
          "text": "MES"
         }
        }
       }
      },
      "text/html": [
       "<div>                            <div id=\"6d3bb80e-8791-4de5-bc5c-273cb4020253\" class=\"plotly-graph-div\" style=\"height:500px; width:100%;\"></div>            <script type=\"text/javascript\">                require([\"plotly\"], function(Plotly) {                    window.PLOTLYENV=window.PLOTLYENV || {};                                    if (document.getElementById(\"6d3bb80e-8791-4de5-bc5c-273cb4020253\")) {                    Plotly.newPlot(                        \"6d3bb80e-8791-4de5-bc5c-273cb4020253\",                        [{\"alignmentgroup\":\"True\",\"hovertemplate\":\"TOTAL=%{x}<br>MES=%{y}<extra></extra>\",\"legendgroup\":\"\",\"marker\":{\"color\":\"rgb(60, 9, 17)\",\"pattern\":{\"shape\":\"\"}},\"name\":\"\",\"offsetgroup\":\"\",\"orientation\":\"h\",\"showlegend\":false,\"textposition\":\"auto\",\"x\":[15,3,1,12,1,1,55,1,1,9,2,1,2,30,19,60,3,5,18,2,19,5,7,1,44,8,22,1,19,9,3,10,2,38,17,7,1,1,4,1,12,1,40,5,6,12,12,3,68,29,3,131,5,7,32,1,1,32,4,1,1,16,4,1,28,3,22,1,22,56,3,41,4,2,59,1,27,25,1,68,1,2,11,3,135,4,32,3,14,2,35,13,1,151,1,5,3,14,11,1,1,1,9,2,1,65,41,3,12,112,3,5,1,37,91,6,7,67,8,18,2,2,5,36,490,13,88,8,2,10,1,25,6,1,20,1,3,1,2,1,2,2,6,8,1,30,87,38,8,134,1,38,2,6,9,17,1,22,17,7,5,11,8,1,10,1,16,5,1,3,1,1,1,6,24,1,31,3,4,5,3,1,1,10,1,3,123,14,5,18,24,1,4,6,3,38,8,581,4,2,2,4,11,33,8,1,27,8,4,3,36,36,5,5,1,27,1,7,1,4,1,2,95,6,3,10,1,26,6,3,4,2,1,14,1,1,1,5,2,180,146,1,42,1,7,15,10,2,91,5,7,6,25,7,23,1,335,4,6,2,5,4,5,26,2,2,4,9,2,7,6,13,1,40,46,2,4,1,39,2,10,1,22,12,2,1,1,2,5,123,26,2,3,18,30,3,1,6,9,1,3,2,13,7,2,68,7,1,52,1,2,2,3,3,1,5,141,4,7,8,1,17,1,2,2,17,1,27,236,27,1,1,8,1,11,1,5,2,12,1,14,6,4,36,1,5,29,26,37,17,34,1,17,2,23,16,1,24,1,5,80,22,3,6,11,4,36,4,2,16,1,2,1,6,6,1,11,3,1,2,22,3,2,2,3,3,2,105,8,4,51,3,9,1,56,2,1,1,10,1,541,6,1,20,5,16,1,2,2,24,4,39,4,53,94,11,80,19,62,1,1,15,24,2,1,5,1,13,2,23,5,48,4,2,57,5,1,3,1,9,1,22,1,5,5,2,1,1,21,7,8,3,3,2,1,1,96,8,5,30,1,13,2,29,160,8,1,1,2,2,4,12,1,1,8,2,1,8,1,6,1,6,7,7,38,29,4,41,2,32,14,7,2,2,74,8,9,2,1,1,49,7,2,64,8,2,30,2,1,3,13,3,22,2,26,1,44,1,2,1,38,86,4,4,4,4,16,5,4,1,14,34,303,1,13,9,4,5,7,5,2,17,4,3,14,2,30,59,27,46,9,9,29,5,2,4,2,1,177,2,16,4,4,15,2,46,8,5,3,11,1,1,1,1,18,1,4,18,1,31,4,1,87,5,4,14,11,1,1,8,18,1,208,3,2,3,10,5,19,3,1,110,1,1,30,2,50,23,29,4,54,3,34,3,34,6,1,1,1,9,2,2,8,7,13,1,40,1,3,7,2,2,7,14,4,1,1,9,1,2,4,2,2,1,134,16,12,22,2,4,3,17,315,1,6,3,9,3,24,1,1,3,1,1,6,3,1,3,3,58,59,25,6,20,2,1,1,16,92,5,2,19,1,2,21,4,14,17,1,5,7,1,1,16,2,23,10,1,2,5,1,4,4,1,83,10,7,1,2,11,2,61,27,1,286,1,10,56,1,1,30,5,1,24,1,10,19,2,2,157,46,60,22,2,13,44,2,1,3,19,35,4,2,32,1,39,2,16,36,11,3,4,1,5,2,8,5,15,4,18,5,6,7,2,78,4,8,5,5,5,10,1,19,44,2,435,4,2,1,4],\"xaxis\":\"x\",\"y\":[\"jan\",\"jan\",\"jan\",\"jan\",\"jan\",\"jan\",\"jan\",\"jan\",\"jan\",\"jan\",\"jan\",\"jan\",\"jan\",\"jan\",\"jan\",\"jan\",\"jan\",\"jan\",\"jan\",\"jan\",\"jan\",\"jan\",\"jan\",\"jan\",\"jan\",\"jan\",\"jan\",\"jan\",\"jan\",\"jan\",\"jan\",\"jan\",\"jan\",\"jan\",\"jan\",\"jan\",\"jan\",\"jan\",\"jan\",\"jan\",\"jan\",\"jan\",\"jan\",\"jan\",\"jan\",\"jan\",\"jan\",\"jan\",\"jan\",\"jan\",\"jan\",\"jan\",\"ago\",\"ago\",\"ago\",\"ago\",\"ago\",\"ago\",\"ago\",\"ago\",\"ago\",\"ago\",\"ago\",\"ago\",\"ago\",\"ago\",\"ago\",\"ago\",\"ago\",\"ago\",\"ago\",\"ago\",\"ago\",\"ago\",\"ago\",\"ago\",\"ago\",\"ago\",\"ago\",\"ago\",\"ago\",\"ago\",\"ago\",\"ago\",\"ago\",\"ago\",\"ago\",\"ago\",\"ago\",\"ago\",\"ago\",\"ago\",\"ago\",\"ago\",\"ago\",\"ago\",\"ago\",\"ago\",\"ago\",\"ago\",\"ago\",\"ago\",\"ago\",\"ago\",\"ago\",\"ago\",\"ago\",\"ago\",\"ago\",\"ago\",\"ago\",\"ago\",\"ago\",\"ago\",\"ago\",\"ago\",\"ago\",\"ago\",\"ago\",\"ago\",\"ago\",\"ago\",\"ago\",\"ago\",\"ago\",\"ago\",\"ago\",\"ago\",\"dez\",\"dez\",\"dez\",\"dez\",\"dez\",\"dez\",\"dez\",\"dez\",\"dez\",\"dez\",\"dez\",\"dez\",\"dez\",\"dez\",\"dez\",\"dez\",\"dez\",\"dez\",\"dez\",\"dez\",\"dez\",\"dez\",\"dez\",\"dez\",\"dez\",\"dez\",\"dez\",\"dez\",\"dez\",\"dez\",\"dez\",\"dez\",\"dez\",\"dez\",\"dez\",\"dez\",\"dez\",\"dez\",\"dez\",\"dez\",\"dez\",\"dez\",\"dez\",\"dez\",\"dez\",\"dez\",\"dez\",\"dez\",\"dez\",\"dez\",\"dez\",\"dez\",\"dez\",\"dez\",\"dez\",\"dez\",\"dez\",\"dez\",\"dez\",\"dez\",\"dez\",\"dez\",\"dez\",\"dez\",\"dez\",\"dez\",\"dez\",\"dez\",\"dez\",\"dez\",\"dez\",\"dez\",\"out\",\"out\",\"out\",\"out\",\"out\",\"out\",\"out\",\"out\",\"out\",\"out\",\"out\",\"out\",\"out\",\"out\",\"out\",\"out\",\"out\",\"out\",\"out\",\"out\",\"out\",\"out\",\"out\",\"out\",\"out\",\"out\",\"out\",\"out\",\"out\",\"out\",\"out\",\"out\",\"out\",\"out\",\"out\",\"out\",\"out\",\"out\",\"out\",\"out\",\"out\",\"out\",\"out\",\"out\",\"out\",\"out\",\"out\",\"out\",\"out\",\"out\",\"out\",\"out\",\"out\",\"out\",\"out\",\"out\",\"out\",\"out\",\"out\",\"out\",\"out\",\"set\",\"set\",\"set\",\"set\",\"set\",\"set\",\"set\",\"set\",\"set\",\"set\",\"set\",\"set\",\"set\",\"set\",\"set\",\"set\",\"set\",\"set\",\"set\",\"set\",\"set\",\"set\",\"set\",\"set\",\"set\",\"set\",\"set\",\"set\",\"set\",\"set\",\"set\",\"set\",\"set\",\"set\",\"set\",\"set\",\"set\",\"set\",\"set\",\"set\",\"set\",\"set\",\"set\",\"set\",\"set\",\"set\",\"set\",\"set\",\"set\",\"set\",\"set\",\"set\",\"set\",\"set\",\"set\",\"set\",\"set\",\"set\",\"set\",\"set\",\"set\",\"set\",\"set\",\"set\",\"set\",\"set\",\"set\",\"set\",\"set\",\"set\",\"set\",\"jul\",\"jul\",\"jul\",\"jul\",\"jul\",\"jul\",\"jul\",\"jul\",\"jul\",\"jul\",\"jul\",\"jul\",\"jul\",\"jul\",\"jul\",\"jul\",\"jul\",\"jul\",\"jul\",\"jul\",\"jul\",\"jul\",\"jul\",\"jul\",\"jul\",\"jul\",\"jul\",\"jul\",\"jul\",\"jul\",\"jul\",\"jul\",\"jul\",\"jul\",\"jul\",\"jul\",\"jul\",\"jul\",\"jul\",\"jul\",\"jul\",\"jul\",\"jul\",\"jul\",\"jul\",\"jul\",\"jul\",\"jul\",\"jul\",\"jul\",\"jul\",\"jul\",\"jul\",\"jul\",\"jul\",\"jul\",\"jul\",\"jul\",\"jul\",\"jul\",\"jul\",\"jul\",\"jul\",\"jul\",\"jul\",\"jul\",\"jul\",\"jul\",\"jul\",\"jul\",\"jul\",\"jun\",\"jun\",\"jun\",\"jun\",\"jun\",\"jun\",\"jun\",\"jun\",\"jun\",\"jun\",\"jun\",\"jun\",\"jun\",\"jun\",\"jun\",\"jun\",\"jun\",\"jun\",\"jun\",\"jun\",\"jun\",\"jun\",\"jun\",\"jun\",\"jun\",\"jun\",\"jun\",\"jun\",\"jun\",\"jun\",\"jun\",\"jun\",\"jun\",\"jun\",\"jun\",\"jun\",\"jun\",\"jun\",\"jun\",\"jun\",\"jun\",\"jun\",\"jun\",\"jun\",\"jun\",\"jun\",\"jun\",\"jun\",\"jun\",\"jun\",\"jun\",\"jun\",\"jun\",\"jun\",\"jun\",\"jun\",\"jun\",\"jun\",\"jun\",\"jun\",\"jun\",\"jun\",\"jun\",\"jun\",\"jun\",\"jun\",\"jun\",\"nov\",\"nov\",\"nov\",\"nov\",\"nov\",\"nov\",\"nov\",\"nov\",\"nov\",\"nov\",\"nov\",\"nov\",\"nov\",\"nov\",\"nov\",\"nov\",\"nov\",\"nov\",\"nov\",\"nov\",\"nov\",\"nov\",\"nov\",\"nov\",\"nov\",\"nov\",\"nov\",\"nov\",\"nov\",\"nov\",\"nov\",\"nov\",\"nov\",\"nov\",\"nov\",\"nov\",\"nov\",\"nov\",\"nov\",\"nov\",\"nov\",\"nov\",\"nov\",\"nov\",\"nov\",\"nov\",\"nov\",\"nov\",\"nov\",\"nov\",\"nov\",\"nov\",\"nov\",\"nov\",\"nov\",\"nov\",\"nov\",\"nov\",\"nov\",\"nov\",\"nov\",\"nov\",\"nov\",\"nov\",\"nov\",\"mai\",\"mai\",\"mai\",\"mai\",\"mai\",\"mai\",\"mai\",\"mai\",\"mai\",\"mai\",\"mai\",\"mai\",\"mai\",\"mai\",\"mai\",\"mai\",\"mai\",\"mai\",\"mai\",\"mai\",\"mai\",\"mai\",\"mai\",\"mai\",\"mai\",\"mai\",\"mai\",\"mai\",\"mai\",\"mai\",\"mai\",\"mai\",\"mai\",\"mai\",\"mai\",\"mai\",\"mai\",\"mai\",\"mai\",\"mai\",\"mai\",\"mai\",\"mai\",\"mai\",\"mai\",\"mai\",\"mai\",\"mai\",\"mai\",\"mai\",\"mai\",\"mai\",\"mai\",\"mai\",\"mai\",\"mai\",\"mai\",\"mai\",\"mai\",\"mai\",\"mai\",\"fev\",\"fev\",\"fev\",\"fev\",\"fev\",\"fev\",\"fev\",\"fev\",\"fev\",\"fev\",\"fev\",\"fev\",\"fev\",\"fev\",\"fev\",\"fev\",\"fev\",\"fev\",\"fev\",\"fev\",\"fev\",\"fev\",\"fev\",\"fev\",\"fev\",\"fev\",\"fev\",\"fev\",\"fev\",\"fev\",\"fev\",\"fev\",\"fev\",\"fev\",\"fev\",\"fev\",\"fev\",\"fev\",\"fev\",\"fev\",\"fev\",\"fev\",\"fev\",\"fev\",\"fev\",\"fev\",\"fev\",\"fev\",\"fev\",\"fev\",\"fev\",\"fev\",\"fev\",\"fev\",\"fev\",\"fev\",\"fev\",\"fev\",\"fev\",\"fev\",\"abril\",\"abril\",\"abril\",\"abril\",\"abril\",\"abril\",\"abril\",\"abril\",\"abril\",\"abril\",\"abril\",\"abril\",\"abril\",\"abril\",\"abril\",\"abril\",\"abril\",\"abril\",\"abril\",\"abril\",\"abril\",\"abril\",\"abril\",\"abril\",\"abril\",\"abril\",\"abril\",\"abril\",\"abril\",\"abril\",\"abril\",\"abril\",\"abril\",\"abril\",\"abril\",\"abril\",\"abril\",\"abril\",\"abril\",\"abril\",\"abril\",\"abril\",\"abril\",\"abril\",\"abril\",\"abril\",\"abril\",\"abril\",\"abril\",\"abril\",\"abril\",\"abril\",\"abril\",\"abril\",\"abril\",\"abril\",\"abril\",\"abril\",\"abril\",\"abril\",\"abril\",\"abril\",\"mar\",\"mar\",\"mar\",\"mar\",\"mar\",\"mar\",\"mar\",\"mar\",\"mar\",\"mar\",\"mar\",\"mar\",\"mar\",\"mar\",\"mar\",\"mar\",\"mar\",\"mar\",\"mar\",\"mar\",\"mar\",\"mar\",\"mar\",\"mar\",\"mar\",\"mar\",\"mar\",\"mar\",\"mar\",\"mar\",\"mar\",\"mar\",\"mar\",\"mar\",\"mar\",\"mar\",\"mar\",\"mar\",\"mar\",\"mar\",\"mar\",\"mar\",\"mar\",\"mar\",\"mar\",\"mar\",\"mar\",\"mar\",\"mar\",\"mar\",\"mar\",\"mar\",\"mar\",\"mar\",\"mar\",\"mar\",\"mar\",\"mar\",\"mar\",\"mar\",\"mar\",\"mar\"],\"yaxis\":\"y\",\"type\":\"bar\"}],                        {\"template\":{\"data\":{\"histogram2dcontour\":[{\"type\":\"histogram2dcontour\",\"colorbar\":{\"outlinewidth\":0,\"ticks\":\"\"},\"colorscale\":[[0.0,\"#0d0887\"],[0.1111111111111111,\"#46039f\"],[0.2222222222222222,\"#7201a8\"],[0.3333333333333333,\"#9c179e\"],[0.4444444444444444,\"#bd3786\"],[0.5555555555555556,\"#d8576b\"],[0.6666666666666666,\"#ed7953\"],[0.7777777777777778,\"#fb9f3a\"],[0.8888888888888888,\"#fdca26\"],[1.0,\"#f0f921\"]]}],\"choropleth\":[{\"type\":\"choropleth\",\"colorbar\":{\"outlinewidth\":0,\"ticks\":\"\"}}],\"histogram2d\":[{\"type\":\"histogram2d\",\"colorbar\":{\"outlinewidth\":0,\"ticks\":\"\"},\"colorscale\":[[0.0,\"#0d0887\"],[0.1111111111111111,\"#46039f\"],[0.2222222222222222,\"#7201a8\"],[0.3333333333333333,\"#9c179e\"],[0.4444444444444444,\"#bd3786\"],[0.5555555555555556,\"#d8576b\"],[0.6666666666666666,\"#ed7953\"],[0.7777777777777778,\"#fb9f3a\"],[0.8888888888888888,\"#fdca26\"],[1.0,\"#f0f921\"]]}],\"heatmap\":[{\"type\":\"heatmap\",\"colorbar\":{\"outlinewidth\":0,\"ticks\":\"\"},\"colorscale\":[[0.0,\"#0d0887\"],[0.1111111111111111,\"#46039f\"],[0.2222222222222222,\"#7201a8\"],[0.3333333333333333,\"#9c179e\"],[0.4444444444444444,\"#bd3786\"],[0.5555555555555556,\"#d8576b\"],[0.6666666666666666,\"#ed7953\"],[0.7777777777777778,\"#fb9f3a\"],[0.8888888888888888,\"#fdca26\"],[1.0,\"#f0f921\"]]}],\"heatmapgl\":[{\"type\":\"heatmapgl\",\"colorbar\":{\"outlinewidth\":0,\"ticks\":\"\"},\"colorscale\":[[0.0,\"#0d0887\"],[0.1111111111111111,\"#46039f\"],[0.2222222222222222,\"#7201a8\"],[0.3333333333333333,\"#9c179e\"],[0.4444444444444444,\"#bd3786\"],[0.5555555555555556,\"#d8576b\"],[0.6666666666666666,\"#ed7953\"],[0.7777777777777778,\"#fb9f3a\"],[0.8888888888888888,\"#fdca26\"],[1.0,\"#f0f921\"]]}],\"contourcarpet\":[{\"type\":\"contourcarpet\",\"colorbar\":{\"outlinewidth\":0,\"ticks\":\"\"}}],\"contour\":[{\"type\":\"contour\",\"colorbar\":{\"outlinewidth\":0,\"ticks\":\"\"},\"colorscale\":[[0.0,\"#0d0887\"],[0.1111111111111111,\"#46039f\"],[0.2222222222222222,\"#7201a8\"],[0.3333333333333333,\"#9c179e\"],[0.4444444444444444,\"#bd3786\"],[0.5555555555555556,\"#d8576b\"],[0.6666666666666666,\"#ed7953\"],[0.7777777777777778,\"#fb9f3a\"],[0.8888888888888888,\"#fdca26\"],[1.0,\"#f0f921\"]]}],\"surface\":[{\"type\":\"surface\",\"colorbar\":{\"outlinewidth\":0,\"ticks\":\"\"},\"colorscale\":[[0.0,\"#0d0887\"],[0.1111111111111111,\"#46039f\"],[0.2222222222222222,\"#7201a8\"],[0.3333333333333333,\"#9c179e\"],[0.4444444444444444,\"#bd3786\"],[0.5555555555555556,\"#d8576b\"],[0.6666666666666666,\"#ed7953\"],[0.7777777777777778,\"#fb9f3a\"],[0.8888888888888888,\"#fdca26\"],[1.0,\"#f0f921\"]]}],\"mesh3d\":[{\"type\":\"mesh3d\",\"colorbar\":{\"outlinewidth\":0,\"ticks\":\"\"}}],\"scatter\":[{\"fillpattern\":{\"fillmode\":\"overlay\",\"size\":10,\"solidity\":0.2},\"type\":\"scatter\"}],\"parcoords\":[{\"type\":\"parcoords\",\"line\":{\"colorbar\":{\"outlinewidth\":0,\"ticks\":\"\"}}}],\"scatterpolargl\":[{\"type\":\"scatterpolargl\",\"marker\":{\"colorbar\":{\"outlinewidth\":0,\"ticks\":\"\"}}}],\"bar\":[{\"error_x\":{\"color\":\"#2a3f5f\"},\"error_y\":{\"color\":\"#2a3f5f\"},\"marker\":{\"line\":{\"color\":\"#E5ECF6\",\"width\":0.5},\"pattern\":{\"fillmode\":\"overlay\",\"size\":10,\"solidity\":0.2}},\"type\":\"bar\"}],\"scattergeo\":[{\"type\":\"scattergeo\",\"marker\":{\"colorbar\":{\"outlinewidth\":0,\"ticks\":\"\"}}}],\"scatterpolar\":[{\"type\":\"scatterpolar\",\"marker\":{\"colorbar\":{\"outlinewidth\":0,\"ticks\":\"\"}}}],\"histogram\":[{\"marker\":{\"pattern\":{\"fillmode\":\"overlay\",\"size\":10,\"solidity\":0.2}},\"type\":\"histogram\"}],\"scattergl\":[{\"type\":\"scattergl\",\"marker\":{\"colorbar\":{\"outlinewidth\":0,\"ticks\":\"\"}}}],\"scatter3d\":[{\"type\":\"scatter3d\",\"line\":{\"colorbar\":{\"outlinewidth\":0,\"ticks\":\"\"}},\"marker\":{\"colorbar\":{\"outlinewidth\":0,\"ticks\":\"\"}}}],\"scattermapbox\":[{\"type\":\"scattermapbox\",\"marker\":{\"colorbar\":{\"outlinewidth\":0,\"ticks\":\"\"}}}],\"scatterternary\":[{\"type\":\"scatterternary\",\"marker\":{\"colorbar\":{\"outlinewidth\":0,\"ticks\":\"\"}}}],\"scattercarpet\":[{\"type\":\"scattercarpet\",\"marker\":{\"colorbar\":{\"outlinewidth\":0,\"ticks\":\"\"}}}],\"carpet\":[{\"aaxis\":{\"endlinecolor\":\"#2a3f5f\",\"gridcolor\":\"white\",\"linecolor\":\"white\",\"minorgridcolor\":\"white\",\"startlinecolor\":\"#2a3f5f\"},\"baxis\":{\"endlinecolor\":\"#2a3f5f\",\"gridcolor\":\"white\",\"linecolor\":\"white\",\"minorgridcolor\":\"white\",\"startlinecolor\":\"#2a3f5f\"},\"type\":\"carpet\"}],\"table\":[{\"cells\":{\"fill\":{\"color\":\"#EBF0F8\"},\"line\":{\"color\":\"white\"}},\"header\":{\"fill\":{\"color\":\"#C8D4E3\"},\"line\":{\"color\":\"white\"}},\"type\":\"table\"}],\"barpolar\":[{\"marker\":{\"line\":{\"color\":\"#E5ECF6\",\"width\":0.5},\"pattern\":{\"fillmode\":\"overlay\",\"size\":10,\"solidity\":0.2}},\"type\":\"barpolar\"}],\"pie\":[{\"automargin\":true,\"type\":\"pie\"}]},\"layout\":{\"autotypenumbers\":\"strict\",\"colorway\":[\"#636efa\",\"#EF553B\",\"#00cc96\",\"#ab63fa\",\"#FFA15A\",\"#19d3f3\",\"#FF6692\",\"#B6E880\",\"#FF97FF\",\"#FECB52\"],\"font\":{\"color\":\"#2a3f5f\"},\"hovermode\":\"closest\",\"hoverlabel\":{\"align\":\"left\"},\"paper_bgcolor\":\"white\",\"plot_bgcolor\":\"#E5ECF6\",\"polar\":{\"bgcolor\":\"#E5ECF6\",\"angularaxis\":{\"gridcolor\":\"white\",\"linecolor\":\"white\",\"ticks\":\"\"},\"radialaxis\":{\"gridcolor\":\"white\",\"linecolor\":\"white\",\"ticks\":\"\"}},\"ternary\":{\"bgcolor\":\"#E5ECF6\",\"aaxis\":{\"gridcolor\":\"white\",\"linecolor\":\"white\",\"ticks\":\"\"},\"baxis\":{\"gridcolor\":\"white\",\"linecolor\":\"white\",\"ticks\":\"\"},\"caxis\":{\"gridcolor\":\"white\",\"linecolor\":\"white\",\"ticks\":\"\"}},\"coloraxis\":{\"colorbar\":{\"outlinewidth\":0,\"ticks\":\"\"}},\"colorscale\":{\"sequential\":[[0.0,\"#0d0887\"],[0.1111111111111111,\"#46039f\"],[0.2222222222222222,\"#7201a8\"],[0.3333333333333333,\"#9c179e\"],[0.4444444444444444,\"#bd3786\"],[0.5555555555555556,\"#d8576b\"],[0.6666666666666666,\"#ed7953\"],[0.7777777777777778,\"#fb9f3a\"],[0.8888888888888888,\"#fdca26\"],[1.0,\"#f0f921\"]],\"sequentialminus\":[[0.0,\"#0d0887\"],[0.1111111111111111,\"#46039f\"],[0.2222222222222222,\"#7201a8\"],[0.3333333333333333,\"#9c179e\"],[0.4444444444444444,\"#bd3786\"],[0.5555555555555556,\"#d8576b\"],[0.6666666666666666,\"#ed7953\"],[0.7777777777777778,\"#fb9f3a\"],[0.8888888888888888,\"#fdca26\"],[1.0,\"#f0f921\"]],\"diverging\":[[0,\"#8e0152\"],[0.1,\"#c51b7d\"],[0.2,\"#de77ae\"],[0.3,\"#f1b6da\"],[0.4,\"#fde0ef\"],[0.5,\"#f7f7f7\"],[0.6,\"#e6f5d0\"],[0.7,\"#b8e186\"],[0.8,\"#7fbc41\"],[0.9,\"#4d9221\"],[1,\"#276419\"]]},\"xaxis\":{\"gridcolor\":\"white\",\"linecolor\":\"white\",\"ticks\":\"\",\"title\":{\"standoff\":15},\"zerolinecolor\":\"white\",\"automargin\":true,\"zerolinewidth\":2},\"yaxis\":{\"gridcolor\":\"white\",\"linecolor\":\"white\",\"ticks\":\"\",\"title\":{\"standoff\":15},\"zerolinecolor\":\"white\",\"automargin\":true,\"zerolinewidth\":2},\"scene\":{\"xaxis\":{\"backgroundcolor\":\"#E5ECF6\",\"gridcolor\":\"white\",\"linecolor\":\"white\",\"showbackground\":true,\"ticks\":\"\",\"zerolinecolor\":\"white\",\"gridwidth\":2},\"yaxis\":{\"backgroundcolor\":\"#E5ECF6\",\"gridcolor\":\"white\",\"linecolor\":\"white\",\"showbackground\":true,\"ticks\":\"\",\"zerolinecolor\":\"white\",\"gridwidth\":2},\"zaxis\":{\"backgroundcolor\":\"#E5ECF6\",\"gridcolor\":\"white\",\"linecolor\":\"white\",\"showbackground\":true,\"ticks\":\"\",\"zerolinecolor\":\"white\",\"gridwidth\":2}},\"shapedefaults\":{\"line\":{\"color\":\"#2a3f5f\"}},\"annotationdefaults\":{\"arrowcolor\":\"#2a3f5f\",\"arrowhead\":0,\"arrowwidth\":1},\"geo\":{\"bgcolor\":\"white\",\"landcolor\":\"#E5ECF6\",\"subunitcolor\":\"white\",\"showland\":true,\"showlakes\":true,\"lakecolor\":\"white\"},\"title\":{\"x\":0.05},\"mapbox\":{\"style\":\"light\"}}},\"xaxis\":{\"anchor\":\"y\",\"domain\":[0.0,1.0],\"title\":{\"text\":\"TOTAL\"}},\"yaxis\":{\"anchor\":\"x\",\"domain\":[0.0,1.0],\"title\":{\"text\":\"MES\"}},\"legend\":{\"tracegroupgap\":0},\"title\":{\"text\":\"Total de portes de arma por m\\u00eas\"},\"barmode\":\"relative\",\"height\":500},                        {\"responsive\": true}                    ).then(function(){\n",
       "                            \n",
       "var gd = document.getElementById('6d3bb80e-8791-4de5-bc5c-273cb4020253');\n",
       "var x = new MutationObserver(function (mutations, observer) {{\n",
       "        var display = window.getComputedStyle(gd).display;\n",
       "        if (!display || display === 'none') {{\n",
       "            console.log([gd, 'removed!']);\n",
       "            Plotly.purge(gd);\n",
       "            observer.disconnect();\n",
       "        }}\n",
       "}});\n",
       "\n",
       "// Listen for the removal of the full notebook cells\n",
       "var notebookContainer = gd.closest('#notebook-container');\n",
       "if (notebookContainer) {{\n",
       "    x.observe(notebookContainer, {childList: true});\n",
       "}}\n",
       "\n",
       "// Listen for the clearing of the current output cell\n",
       "var outputEl = gd.closest('.output');\n",
       "if (outputEl) {{\n",
       "    x.observe(outputEl, {childList: true});\n",
       "}}\n",
       "\n",
       "                        })                };                });            </script>        </div>"
      ]
     },
     "metadata": {},
     "output_type": "display_data"
    }
   ],
   "source": [
    "fig = px.bar(df_porte, x='TOTAL', y='MES', title='Total de portes de arma por mês', \n",
    "             height=500,\n",
    "             color_discrete_sequence=px.colors.cmocean.balance_r)\n",
    "fig.show()"
   ]
  },
  {
   "cell_type": "code",
   "execution_count": 80,
   "id": "93a87a1b",
   "metadata": {},
   "outputs": [
    {
     "data": {
      "application/vnd.plotly.v1+json": {
       "config": {
        "plotlyServerURL": "https://plot.ly"
       },
       "data": [
        {
         "alignmentgroup": "True",
         "hovertemplate": "CATEGORIA=Caçador de Subsistência<br>TOTAL=%{x}<br>MES=%{y}<extra></extra>",
         "legendgroup": "Caçador de Subsistência",
         "marker": {
          "color": "#e2d9e2",
          "pattern": {
           "shape": ""
          }
         },
         "name": "Caçador de Subsistência",
         "offsetgroup": "Caçador de Subsistência",
         "orientation": "h",
         "showlegend": true,
         "textposition": "auto",
         "type": "bar",
         "x": [
          15,
          1,
          19,
          5,
          1,
          2,
          3,
          35,
          1,
          1,
          1,
          3,
          2,
          5,
          2,
          1,
          1,
          10,
          2,
          26,
          1,
          4,
          1,
          1,
          1,
          1,
          3,
          30,
          1,
          3,
          1,
          1,
          8,
          5,
          1,
          36,
          1,
          1,
          1,
          2,
          3,
          3,
          1,
          20,
          4,
          1,
          1,
          48,
          1,
          1,
          2,
          1,
          4,
          49,
          1,
          9,
          2,
          46,
          10,
          2,
          7,
          2,
          9,
          1,
          1,
          2,
          14,
          1,
          36,
          5
         ],
         "xaxis": "x",
         "y": [
          "jan",
          "jan",
          "jan",
          "ago",
          "ago",
          "ago",
          "ago",
          "ago",
          "ago",
          "ago",
          "ago",
          "ago",
          "ago",
          "ago",
          "dez",
          "dez",
          "dez",
          "dez",
          "out",
          "out",
          "out",
          "set",
          "set",
          "set",
          "set",
          "set",
          "set",
          "set",
          "set",
          "set",
          "set",
          "set",
          "jul",
          "jul",
          "jul",
          "jul",
          "jul",
          "jul",
          "jul",
          "jul",
          "jul",
          "jul",
          "jul",
          "jun",
          "jun",
          "jun",
          "jun",
          "jun",
          "jun",
          "jun",
          "jun",
          "jun",
          "nov",
          "nov",
          "nov",
          "mai",
          "mai",
          "mai",
          "fev",
          "fev",
          "fev",
          "fev",
          "abril",
          "abril",
          "abril",
          "abril",
          "abril",
          "mar",
          "mar",
          "mar"
         ],
         "yaxis": "y"
        },
        {
         "alignmentgroup": "True",
         "hovertemplate": "CATEGORIA=Defesa Pessoal<br>TOTAL=%{x}<br>MES=%{y}<extra></extra>",
         "legendgroup": "Defesa Pessoal",
         "marker": {
          "color": "#9ebbc9",
          "pattern": {
           "shape": ""
          }
         },
         "name": "Defesa Pessoal",
         "offsetgroup": "Defesa Pessoal",
         "orientation": "h",
         "showlegend": true,
         "textposition": "auto",
         "type": "bar",
         "x": [
          3,
          1,
          12,
          1,
          1,
          1,
          2,
          1,
          2,
          30,
          19,
          60,
          3,
          18,
          2,
          5,
          7,
          44,
          8,
          22,
          1,
          9,
          3,
          10,
          2,
          17,
          7,
          1,
          4,
          1,
          12,
          40,
          5,
          12,
          3,
          29,
          3,
          7,
          32,
          1,
          1,
          1,
          1,
          16,
          4,
          1,
          3,
          22,
          56,
          59,
          1,
          25,
          1,
          2,
          3,
          32,
          14,
          2,
          13,
          1,
          5,
          3,
          9,
          2,
          1,
          41,
          3,
          5,
          1,
          91,
          6,
          7,
          18,
          2,
          36,
          10,
          1,
          6,
          1,
          3,
          1,
          2,
          1,
          2,
          2,
          6,
          30,
          87,
          38,
          2,
          17,
          1,
          7,
          11,
          8,
          1,
          1,
          5,
          3,
          1,
          1,
          1,
          6,
          31,
          3,
          3,
          1,
          10,
          1,
          123,
          14,
          5,
          24,
          1,
          6,
          38,
          8,
          2,
          4,
          11,
          8,
          1,
          3,
          36,
          36,
          27,
          1,
          7,
          4,
          2,
          6,
          10,
          1,
          6,
          2,
          14,
          1,
          1,
          1,
          5,
          2,
          42,
          1,
          10,
          91,
          5,
          7,
          25,
          7,
          23,
          1,
          2,
          5,
          26,
          2,
          2,
          9,
          2,
          6,
          40,
          46,
          39,
          2,
          22,
          1,
          5,
          26,
          2,
          18,
          3,
          1,
          9,
          1,
          3,
          2,
          13,
          7,
          2,
          52,
          1,
          2,
          1,
          141,
          4,
          7,
          17,
          2,
          27,
          1,
          1,
          11,
          1,
          2,
          12,
          1,
          4,
          29,
          26,
          34,
          1,
          23,
          1,
          5,
          22,
          11,
          4,
          2,
          2,
          6,
          11,
          3,
          1,
          22,
          3,
          3,
          2,
          105,
          8,
          4,
          9,
          1,
          1,
          10,
          1,
          5,
          16,
          1,
          2,
          4,
          53,
          94,
          62,
          1,
          15,
          2,
          13,
          2,
          23,
          5,
          4,
          2,
          5,
          1,
          9,
          1,
          1,
          5,
          5,
          21,
          3,
          3,
          1,
          1,
          96,
          8,
          5,
          13,
          2,
          29,
          1,
          12,
          1,
          1,
          8,
          2,
          1,
          6,
          1,
          7,
          38,
          29,
          41,
          2,
          14,
          2,
          2,
          8,
          9,
          2,
          7,
          8,
          2,
          3,
          13,
          3,
          26,
          1,
          1,
          2,
          1,
          86,
          4,
          4,
          16,
          4,
          1,
          34,
          1,
          4,
          5,
          2,
          4,
          3,
          30,
          59,
          46,
          9,
          2,
          2,
          1,
          16,
          15,
          2,
          8,
          5,
          11,
          1,
          1,
          18,
          1,
          18,
          1,
          4,
          87,
          5,
          4,
          11,
          1,
          1,
          18,
          1,
          5,
          19,
          3,
          1,
          1,
          1,
          2,
          23,
          29,
          54,
          3,
          34,
          3,
          6,
          1,
          1,
          9,
          2,
          8,
          13,
          1,
          3,
          7,
          2,
          2,
          14,
          4,
          1,
          9,
          1,
          2,
          1,
          134,
          16,
          12,
          4,
          17,
          3,
          3,
          24,
          1,
          3,
          1,
          3,
          1,
          3,
          58,
          59,
          20,
          2,
          16,
          5,
          2,
          19,
          1,
          21,
          17,
          1,
          7,
          1,
          1,
          16,
          2,
          10,
          5,
          1,
          4,
          1,
          83,
          10,
          7,
          11,
          2,
          27,
          1,
          1,
          30,
          5,
          1,
          1,
          2,
          2,
          46,
          60,
          44,
          2,
          1,
          19,
          4,
          2,
          39,
          2,
          16,
          11,
          3,
          4,
          1,
          2,
          8,
          5,
          4,
          5,
          7,
          2,
          78,
          4,
          8,
          5,
          1,
          44,
          2,
          1
         ],
         "xaxis": "x",
         "y": [
          "jan",
          "jan",
          "jan",
          "jan",
          "jan",
          "jan",
          "jan",
          "jan",
          "jan",
          "jan",
          "jan",
          "jan",
          "jan",
          "jan",
          "jan",
          "jan",
          "jan",
          "jan",
          "jan",
          "jan",
          "jan",
          "jan",
          "jan",
          "jan",
          "jan",
          "jan",
          "jan",
          "jan",
          "jan",
          "jan",
          "jan",
          "jan",
          "jan",
          "jan",
          "jan",
          "jan",
          "jan",
          "ago",
          "ago",
          "ago",
          "ago",
          "ago",
          "ago",
          "ago",
          "ago",
          "ago",
          "ago",
          "ago",
          "ago",
          "ago",
          "ago",
          "ago",
          "ago",
          "ago",
          "ago",
          "ago",
          "ago",
          "ago",
          "ago",
          "ago",
          "ago",
          "ago",
          "ago",
          "ago",
          "ago",
          "ago",
          "ago",
          "ago",
          "ago",
          "ago",
          "ago",
          "ago",
          "ago",
          "ago",
          "ago",
          "dez",
          "dez",
          "dez",
          "dez",
          "dez",
          "dez",
          "dez",
          "dez",
          "dez",
          "dez",
          "dez",
          "dez",
          "dez",
          "dez",
          "dez",
          "dez",
          "dez",
          "dez",
          "dez",
          "dez",
          "dez",
          "dez",
          "dez",
          "dez",
          "dez",
          "dez",
          "dez",
          "dez",
          "dez",
          "dez",
          "dez",
          "dez",
          "dez",
          "dez",
          "dez",
          "dez",
          "dez",
          "dez",
          "dez",
          "dez",
          "dez",
          "dez",
          "dez",
          "out",
          "out",
          "out",
          "out",
          "out",
          "out",
          "out",
          "out",
          "out",
          "out",
          "out",
          "out",
          "out",
          "out",
          "out",
          "out",
          "out",
          "out",
          "out",
          "out",
          "out",
          "out",
          "out",
          "out",
          "out",
          "out",
          "out",
          "out",
          "out",
          "out",
          "out",
          "out",
          "out",
          "out",
          "set",
          "set",
          "set",
          "set",
          "set",
          "set",
          "set",
          "set",
          "set",
          "set",
          "set",
          "set",
          "set",
          "set",
          "set",
          "set",
          "set",
          "set",
          "set",
          "set",
          "set",
          "set",
          "set",
          "set",
          "set",
          "set",
          "set",
          "set",
          "set",
          "set",
          "set",
          "set",
          "set",
          "set",
          "set",
          "set",
          "set",
          "jul",
          "jul",
          "jul",
          "jul",
          "jul",
          "jul",
          "jul",
          "jul",
          "jul",
          "jul",
          "jul",
          "jul",
          "jul",
          "jul",
          "jul",
          "jul",
          "jul",
          "jul",
          "jul",
          "jul",
          "jul",
          "jul",
          "jul",
          "jul",
          "jul",
          "jul",
          "jul",
          "jul",
          "jul",
          "jul",
          "jul",
          "jul",
          "jul",
          "jul",
          "jul",
          "jun",
          "jun",
          "jun",
          "jun",
          "jun",
          "jun",
          "jun",
          "jun",
          "jun",
          "jun",
          "jun",
          "jun",
          "jun",
          "jun",
          "jun",
          "jun",
          "jun",
          "jun",
          "jun",
          "jun",
          "jun",
          "jun",
          "jun",
          "jun",
          "jun",
          "jun",
          "jun",
          "jun",
          "jun",
          "jun",
          "jun",
          "jun",
          "jun",
          "jun",
          "jun",
          "jun",
          "nov",
          "nov",
          "nov",
          "nov",
          "nov",
          "nov",
          "nov",
          "nov",
          "nov",
          "nov",
          "nov",
          "nov",
          "nov",
          "nov",
          "nov",
          "nov",
          "nov",
          "nov",
          "nov",
          "nov",
          "nov",
          "nov",
          "nov",
          "nov",
          "nov",
          "nov",
          "nov",
          "nov",
          "nov",
          "nov",
          "nov",
          "nov",
          "nov",
          "nov",
          "nov",
          "nov",
          "nov",
          "nov",
          "mai",
          "mai",
          "mai",
          "mai",
          "mai",
          "mai",
          "mai",
          "mai",
          "mai",
          "mai",
          "mai",
          "mai",
          "mai",
          "mai",
          "mai",
          "mai",
          "mai",
          "mai",
          "mai",
          "mai",
          "mai",
          "mai",
          "mai",
          "mai",
          "mai",
          "mai",
          "mai",
          "mai",
          "mai",
          "mai",
          "mai",
          "mai",
          "mai",
          "fev",
          "fev",
          "fev",
          "fev",
          "fev",
          "fev",
          "fev",
          "fev",
          "fev",
          "fev",
          "fev",
          "fev",
          "fev",
          "fev",
          "fev",
          "fev",
          "fev",
          "fev",
          "fev",
          "fev",
          "fev",
          "fev",
          "fev",
          "fev",
          "fev",
          "fev",
          "fev",
          "fev",
          "fev",
          "fev",
          "fev",
          "fev",
          "fev",
          "fev",
          "fev",
          "fev",
          "fev",
          "fev",
          "abril",
          "abril",
          "abril",
          "abril",
          "abril",
          "abril",
          "abril",
          "abril",
          "abril",
          "abril",
          "abril",
          "abril",
          "abril",
          "abril",
          "abril",
          "abril",
          "abril",
          "abril",
          "abril",
          "abril",
          "abril",
          "abril",
          "abril",
          "abril",
          "abril",
          "abril",
          "abril",
          "abril",
          "abril",
          "abril",
          "abril",
          "abril",
          "abril",
          "abril",
          "abril",
          "abril",
          "abril",
          "mar",
          "mar",
          "mar",
          "mar",
          "mar",
          "mar",
          "mar",
          "mar",
          "mar",
          "mar",
          "mar",
          "mar",
          "mar",
          "mar",
          "mar",
          "mar",
          "mar",
          "mar",
          "mar",
          "mar",
          "mar",
          "mar",
          "mar",
          "mar",
          "mar",
          "mar",
          "mar",
          "mar",
          "mar",
          "mar",
          "mar",
          "mar",
          "mar",
          "mar",
          "mar",
          "mar",
          "mar"
         ],
         "yaxis": "y"
        },
        {
         "alignmentgroup": "True",
         "hovertemplate": "CATEGORIA=Funcional<br>TOTAL=%{x}<br>MES=%{y}<extra></extra>",
         "legendgroup": "Funcional",
         "marker": {
          "color": "#6785be",
          "pattern": {
           "shape": ""
          }
         },
         "name": "Funcional",
         "offsetgroup": "Funcional",
         "orientation": "h",
         "showlegend": true,
         "textposition": "auto",
         "type": "bar",
         "x": [
          55,
          9,
          5,
          19,
          1,
          38,
          1,
          1,
          6,
          12,
          68,
          131,
          32,
          4,
          28,
          22,
          3,
          41,
          27,
          68,
          1,
          11,
          135,
          4,
          151,
          14,
          11,
          1,
          65,
          112,
          37,
          67,
          8,
          490,
          13,
          88,
          8,
          25,
          20,
          8,
          1,
          38,
          8,
          6,
          9,
          22,
          17,
          5,
          16,
          1,
          24,
          1,
          4,
          1,
          3,
          18,
          4,
          3,
          581,
          33,
          27,
          8,
          5,
          5,
          1,
          1,
          95,
          3,
          3,
          4,
          1,
          180,
          146,
          7,
          15,
          6,
          335,
          4,
          5,
          4,
          7,
          13,
          2,
          10,
          12,
          2,
          2,
          123,
          6,
          68,
          7,
          2,
          3,
          5,
          8,
          1,
          1,
          2,
          17,
          236,
          27,
          5,
          14,
          6,
          36,
          1,
          37,
          17,
          2,
          16,
          24,
          80,
          3,
          4,
          16,
          6,
          2,
          51,
          56,
          2,
          541,
          6,
          1,
          2,
          24,
          39,
          11,
          80,
          24,
          5,
          1,
          57,
          3,
          22,
          2,
          1,
          7,
          30,
          160,
          8,
          2,
          2,
          8,
          1,
          6,
          7,
          32,
          7,
          74,
          1,
          1,
          2,
          64,
          30,
          2,
          22,
          2,
          44,
          38,
          4,
          4,
          5,
          14,
          303,
          13,
          7,
          5,
          17,
          14,
          27,
          9,
          29,
          5,
          4,
          177,
          2,
          4,
          4,
          3,
          1,
          1,
          4,
          31,
          1,
          14,
          8,
          208,
          3,
          3,
          110,
          30,
          50,
          4,
          34,
          1,
          40,
          1,
          7,
          1,
          2,
          4,
          2,
          22,
          3,
          315,
          1,
          6,
          6,
          3,
          25,
          1,
          92,
          4,
          5,
          23,
          1,
          2,
          4,
          1,
          2,
          61,
          286,
          1,
          56,
          24,
          10,
          19,
          157,
          22,
          3,
          35,
          32,
          1,
          15,
          6,
          5,
          10,
          19,
          435,
          4,
          4
         ],
         "xaxis": "x",
         "y": [
          "jan",
          "jan",
          "jan",
          "jan",
          "jan",
          "jan",
          "jan",
          "jan",
          "jan",
          "jan",
          "jan",
          "jan",
          "ago",
          "ago",
          "ago",
          "ago",
          "ago",
          "ago",
          "ago",
          "ago",
          "ago",
          "ago",
          "ago",
          "ago",
          "ago",
          "ago",
          "ago",
          "ago",
          "ago",
          "ago",
          "ago",
          "ago",
          "ago",
          "ago",
          "ago",
          "ago",
          "ago",
          "dez",
          "dez",
          "dez",
          "dez",
          "dez",
          "dez",
          "dez",
          "dez",
          "dez",
          "dez",
          "dez",
          "dez",
          "dez",
          "dez",
          "dez",
          "dez",
          "dez",
          "dez",
          "dez",
          "dez",
          "dez",
          "dez",
          "out",
          "out",
          "out",
          "out",
          "out",
          "out",
          "out",
          "out",
          "out",
          "out",
          "out",
          "out",
          "out",
          "out",
          "out",
          "out",
          "out",
          "out",
          "out",
          "out",
          "set",
          "set",
          "set",
          "set",
          "set",
          "set",
          "set",
          "set",
          "set",
          "set",
          "set",
          "set",
          "set",
          "set",
          "set",
          "set",
          "set",
          "set",
          "set",
          "set",
          "set",
          "set",
          "jul",
          "jul",
          "jul",
          "jul",
          "jul",
          "jul",
          "jul",
          "jul",
          "jul",
          "jul",
          "jul",
          "jul",
          "jul",
          "jul",
          "jul",
          "jul",
          "jul",
          "jul",
          "jul",
          "jul",
          "jul",
          "jul",
          "jun",
          "jun",
          "jun",
          "jun",
          "jun",
          "jun",
          "jun",
          "jun",
          "jun",
          "jun",
          "jun",
          "jun",
          "jun",
          "jun",
          "jun",
          "jun",
          "jun",
          "jun",
          "jun",
          "nov",
          "nov",
          "nov",
          "nov",
          "nov",
          "nov",
          "nov",
          "nov",
          "nov",
          "nov",
          "nov",
          "nov",
          "nov",
          "nov",
          "nov",
          "nov",
          "nov",
          "nov",
          "nov",
          "nov",
          "nov",
          "nov",
          "nov",
          "mai",
          "mai",
          "mai",
          "mai",
          "mai",
          "mai",
          "mai",
          "mai",
          "mai",
          "mai",
          "mai",
          "mai",
          "mai",
          "mai",
          "mai",
          "mai",
          "mai",
          "mai",
          "mai",
          "mai",
          "mai",
          "mai",
          "mai",
          "mai",
          "fev",
          "fev",
          "fev",
          "fev",
          "fev",
          "fev",
          "fev",
          "fev",
          "fev",
          "fev",
          "fev",
          "fev",
          "fev",
          "fev",
          "fev",
          "fev",
          "fev",
          "fev",
          "abril",
          "abril",
          "abril",
          "abril",
          "abril",
          "abril",
          "abril",
          "abril",
          "abril",
          "abril",
          "abril",
          "abril",
          "abril",
          "abril",
          "abril",
          "abril",
          "abril",
          "mar",
          "mar",
          "mar",
          "mar",
          "mar",
          "mar",
          "mar",
          "mar",
          "mar",
          "mar",
          "mar",
          "mar",
          "mar",
          "mar",
          "mar",
          "mar",
          "mar"
         ],
         "yaxis": "y"
        },
        {
         "alignmentgroup": "True",
         "hovertemplate": "CATEGORIA=Segurança Dignitario<br>TOTAL=%{x}<br>MES=%{y}<extra></extra>",
         "legendgroup": "Segurança Dignitario",
         "marker": {
          "color": "#5e43a5",
          "pattern": {
           "shape": ""
          }
         },
         "name": "Segurança Dignitario",
         "offsetgroup": "Segurança Dignitario",
         "orientation": "h",
         "showlegend": true,
         "textposition": "auto",
         "type": "bar",
         "x": [
          4,
          12,
          134,
          5,
          4,
          4,
          1,
          2,
          6,
          4,
          17,
          6,
          2,
          19,
          8,
          1,
          4,
          2,
          1,
          6,
          10,
          2,
          13,
          5,
          18,
          2
         ],
         "xaxis": "x",
         "y": [
          "ago",
          "ago",
          "dez",
          "dez",
          "dez",
          "out",
          "out",
          "out",
          "out",
          "set",
          "jul",
          "jul",
          "jul",
          "jun",
          "jun",
          "jun",
          "nov",
          "mai",
          "abril",
          "abril",
          "abril",
          "mar",
          "mar",
          "mar",
          "mar",
          "mar"
         ],
         "yaxis": "y"
        }
       ],
       "layout": {
        "barmode": "relative",
        "height": 500,
        "legend": {
         "title": {
          "text": "CATEGORIA"
         },
         "tracegroupgap": 0
        },
        "template": {
         "data": {
          "bar": [
           {
            "error_x": {
             "color": "#2a3f5f"
            },
            "error_y": {
             "color": "#2a3f5f"
            },
            "marker": {
             "line": {
              "color": "#E5ECF6",
              "width": 0.5
             },
             "pattern": {
              "fillmode": "overlay",
              "size": 10,
              "solidity": 0.2
             }
            },
            "type": "bar"
           }
          ],
          "barpolar": [
           {
            "marker": {
             "line": {
              "color": "#E5ECF6",
              "width": 0.5
             },
             "pattern": {
              "fillmode": "overlay",
              "size": 10,
              "solidity": 0.2
             }
            },
            "type": "barpolar"
           }
          ],
          "carpet": [
           {
            "aaxis": {
             "endlinecolor": "#2a3f5f",
             "gridcolor": "white",
             "linecolor": "white",
             "minorgridcolor": "white",
             "startlinecolor": "#2a3f5f"
            },
            "baxis": {
             "endlinecolor": "#2a3f5f",
             "gridcolor": "white",
             "linecolor": "white",
             "minorgridcolor": "white",
             "startlinecolor": "#2a3f5f"
            },
            "type": "carpet"
           }
          ],
          "choropleth": [
           {
            "colorbar": {
             "outlinewidth": 0,
             "ticks": ""
            },
            "type": "choropleth"
           }
          ],
          "contour": [
           {
            "colorbar": {
             "outlinewidth": 0,
             "ticks": ""
            },
            "colorscale": [
             [
              0,
              "#0d0887"
             ],
             [
              0.1111111111111111,
              "#46039f"
             ],
             [
              0.2222222222222222,
              "#7201a8"
             ],
             [
              0.3333333333333333,
              "#9c179e"
             ],
             [
              0.4444444444444444,
              "#bd3786"
             ],
             [
              0.5555555555555556,
              "#d8576b"
             ],
             [
              0.6666666666666666,
              "#ed7953"
             ],
             [
              0.7777777777777778,
              "#fb9f3a"
             ],
             [
              0.8888888888888888,
              "#fdca26"
             ],
             [
              1,
              "#f0f921"
             ]
            ],
            "type": "contour"
           }
          ],
          "contourcarpet": [
           {
            "colorbar": {
             "outlinewidth": 0,
             "ticks": ""
            },
            "type": "contourcarpet"
           }
          ],
          "heatmap": [
           {
            "colorbar": {
             "outlinewidth": 0,
             "ticks": ""
            },
            "colorscale": [
             [
              0,
              "#0d0887"
             ],
             [
              0.1111111111111111,
              "#46039f"
             ],
             [
              0.2222222222222222,
              "#7201a8"
             ],
             [
              0.3333333333333333,
              "#9c179e"
             ],
             [
              0.4444444444444444,
              "#bd3786"
             ],
             [
              0.5555555555555556,
              "#d8576b"
             ],
             [
              0.6666666666666666,
              "#ed7953"
             ],
             [
              0.7777777777777778,
              "#fb9f3a"
             ],
             [
              0.8888888888888888,
              "#fdca26"
             ],
             [
              1,
              "#f0f921"
             ]
            ],
            "type": "heatmap"
           }
          ],
          "heatmapgl": [
           {
            "colorbar": {
             "outlinewidth": 0,
             "ticks": ""
            },
            "colorscale": [
             [
              0,
              "#0d0887"
             ],
             [
              0.1111111111111111,
              "#46039f"
             ],
             [
              0.2222222222222222,
              "#7201a8"
             ],
             [
              0.3333333333333333,
              "#9c179e"
             ],
             [
              0.4444444444444444,
              "#bd3786"
             ],
             [
              0.5555555555555556,
              "#d8576b"
             ],
             [
              0.6666666666666666,
              "#ed7953"
             ],
             [
              0.7777777777777778,
              "#fb9f3a"
             ],
             [
              0.8888888888888888,
              "#fdca26"
             ],
             [
              1,
              "#f0f921"
             ]
            ],
            "type": "heatmapgl"
           }
          ],
          "histogram": [
           {
            "marker": {
             "pattern": {
              "fillmode": "overlay",
              "size": 10,
              "solidity": 0.2
             }
            },
            "type": "histogram"
           }
          ],
          "histogram2d": [
           {
            "colorbar": {
             "outlinewidth": 0,
             "ticks": ""
            },
            "colorscale": [
             [
              0,
              "#0d0887"
             ],
             [
              0.1111111111111111,
              "#46039f"
             ],
             [
              0.2222222222222222,
              "#7201a8"
             ],
             [
              0.3333333333333333,
              "#9c179e"
             ],
             [
              0.4444444444444444,
              "#bd3786"
             ],
             [
              0.5555555555555556,
              "#d8576b"
             ],
             [
              0.6666666666666666,
              "#ed7953"
             ],
             [
              0.7777777777777778,
              "#fb9f3a"
             ],
             [
              0.8888888888888888,
              "#fdca26"
             ],
             [
              1,
              "#f0f921"
             ]
            ],
            "type": "histogram2d"
           }
          ],
          "histogram2dcontour": [
           {
            "colorbar": {
             "outlinewidth": 0,
             "ticks": ""
            },
            "colorscale": [
             [
              0,
              "#0d0887"
             ],
             [
              0.1111111111111111,
              "#46039f"
             ],
             [
              0.2222222222222222,
              "#7201a8"
             ],
             [
              0.3333333333333333,
              "#9c179e"
             ],
             [
              0.4444444444444444,
              "#bd3786"
             ],
             [
              0.5555555555555556,
              "#d8576b"
             ],
             [
              0.6666666666666666,
              "#ed7953"
             ],
             [
              0.7777777777777778,
              "#fb9f3a"
             ],
             [
              0.8888888888888888,
              "#fdca26"
             ],
             [
              1,
              "#f0f921"
             ]
            ],
            "type": "histogram2dcontour"
           }
          ],
          "mesh3d": [
           {
            "colorbar": {
             "outlinewidth": 0,
             "ticks": ""
            },
            "type": "mesh3d"
           }
          ],
          "parcoords": [
           {
            "line": {
             "colorbar": {
              "outlinewidth": 0,
              "ticks": ""
             }
            },
            "type": "parcoords"
           }
          ],
          "pie": [
           {
            "automargin": true,
            "type": "pie"
           }
          ],
          "scatter": [
           {
            "fillpattern": {
             "fillmode": "overlay",
             "size": 10,
             "solidity": 0.2
            },
            "type": "scatter"
           }
          ],
          "scatter3d": [
           {
            "line": {
             "colorbar": {
              "outlinewidth": 0,
              "ticks": ""
             }
            },
            "marker": {
             "colorbar": {
              "outlinewidth": 0,
              "ticks": ""
             }
            },
            "type": "scatter3d"
           }
          ],
          "scattercarpet": [
           {
            "marker": {
             "colorbar": {
              "outlinewidth": 0,
              "ticks": ""
             }
            },
            "type": "scattercarpet"
           }
          ],
          "scattergeo": [
           {
            "marker": {
             "colorbar": {
              "outlinewidth": 0,
              "ticks": ""
             }
            },
            "type": "scattergeo"
           }
          ],
          "scattergl": [
           {
            "marker": {
             "colorbar": {
              "outlinewidth": 0,
              "ticks": ""
             }
            },
            "type": "scattergl"
           }
          ],
          "scattermapbox": [
           {
            "marker": {
             "colorbar": {
              "outlinewidth": 0,
              "ticks": ""
             }
            },
            "type": "scattermapbox"
           }
          ],
          "scatterpolar": [
           {
            "marker": {
             "colorbar": {
              "outlinewidth": 0,
              "ticks": ""
             }
            },
            "type": "scatterpolar"
           }
          ],
          "scatterpolargl": [
           {
            "marker": {
             "colorbar": {
              "outlinewidth": 0,
              "ticks": ""
             }
            },
            "type": "scatterpolargl"
           }
          ],
          "scatterternary": [
           {
            "marker": {
             "colorbar": {
              "outlinewidth": 0,
              "ticks": ""
             }
            },
            "type": "scatterternary"
           }
          ],
          "surface": [
           {
            "colorbar": {
             "outlinewidth": 0,
             "ticks": ""
            },
            "colorscale": [
             [
              0,
              "#0d0887"
             ],
             [
              0.1111111111111111,
              "#46039f"
             ],
             [
              0.2222222222222222,
              "#7201a8"
             ],
             [
              0.3333333333333333,
              "#9c179e"
             ],
             [
              0.4444444444444444,
              "#bd3786"
             ],
             [
              0.5555555555555556,
              "#d8576b"
             ],
             [
              0.6666666666666666,
              "#ed7953"
             ],
             [
              0.7777777777777778,
              "#fb9f3a"
             ],
             [
              0.8888888888888888,
              "#fdca26"
             ],
             [
              1,
              "#f0f921"
             ]
            ],
            "type": "surface"
           }
          ],
          "table": [
           {
            "cells": {
             "fill": {
              "color": "#EBF0F8"
             },
             "line": {
              "color": "white"
             }
            },
            "header": {
             "fill": {
              "color": "#C8D4E3"
             },
             "line": {
              "color": "white"
             }
            },
            "type": "table"
           }
          ]
         },
         "layout": {
          "annotationdefaults": {
           "arrowcolor": "#2a3f5f",
           "arrowhead": 0,
           "arrowwidth": 1
          },
          "autotypenumbers": "strict",
          "coloraxis": {
           "colorbar": {
            "outlinewidth": 0,
            "ticks": ""
           }
          },
          "colorscale": {
           "diverging": [
            [
             0,
             "#8e0152"
            ],
            [
             0.1,
             "#c51b7d"
            ],
            [
             0.2,
             "#de77ae"
            ],
            [
             0.3,
             "#f1b6da"
            ],
            [
             0.4,
             "#fde0ef"
            ],
            [
             0.5,
             "#f7f7f7"
            ],
            [
             0.6,
             "#e6f5d0"
            ],
            [
             0.7,
             "#b8e186"
            ],
            [
             0.8,
             "#7fbc41"
            ],
            [
             0.9,
             "#4d9221"
            ],
            [
             1,
             "#276419"
            ]
           ],
           "sequential": [
            [
             0,
             "#0d0887"
            ],
            [
             0.1111111111111111,
             "#46039f"
            ],
            [
             0.2222222222222222,
             "#7201a8"
            ],
            [
             0.3333333333333333,
             "#9c179e"
            ],
            [
             0.4444444444444444,
             "#bd3786"
            ],
            [
             0.5555555555555556,
             "#d8576b"
            ],
            [
             0.6666666666666666,
             "#ed7953"
            ],
            [
             0.7777777777777778,
             "#fb9f3a"
            ],
            [
             0.8888888888888888,
             "#fdca26"
            ],
            [
             1,
             "#f0f921"
            ]
           ],
           "sequentialminus": [
            [
             0,
             "#0d0887"
            ],
            [
             0.1111111111111111,
             "#46039f"
            ],
            [
             0.2222222222222222,
             "#7201a8"
            ],
            [
             0.3333333333333333,
             "#9c179e"
            ],
            [
             0.4444444444444444,
             "#bd3786"
            ],
            [
             0.5555555555555556,
             "#d8576b"
            ],
            [
             0.6666666666666666,
             "#ed7953"
            ],
            [
             0.7777777777777778,
             "#fb9f3a"
            ],
            [
             0.8888888888888888,
             "#fdca26"
            ],
            [
             1,
             "#f0f921"
            ]
           ]
          },
          "colorway": [
           "#636efa",
           "#EF553B",
           "#00cc96",
           "#ab63fa",
           "#FFA15A",
           "#19d3f3",
           "#FF6692",
           "#B6E880",
           "#FF97FF",
           "#FECB52"
          ],
          "font": {
           "color": "#2a3f5f"
          },
          "geo": {
           "bgcolor": "white",
           "lakecolor": "white",
           "landcolor": "#E5ECF6",
           "showlakes": true,
           "showland": true,
           "subunitcolor": "white"
          },
          "hoverlabel": {
           "align": "left"
          },
          "hovermode": "closest",
          "mapbox": {
           "style": "light"
          },
          "paper_bgcolor": "white",
          "plot_bgcolor": "#E5ECF6",
          "polar": {
           "angularaxis": {
            "gridcolor": "white",
            "linecolor": "white",
            "ticks": ""
           },
           "bgcolor": "#E5ECF6",
           "radialaxis": {
            "gridcolor": "white",
            "linecolor": "white",
            "ticks": ""
           }
          },
          "scene": {
           "xaxis": {
            "backgroundcolor": "#E5ECF6",
            "gridcolor": "white",
            "gridwidth": 2,
            "linecolor": "white",
            "showbackground": true,
            "ticks": "",
            "zerolinecolor": "white"
           },
           "yaxis": {
            "backgroundcolor": "#E5ECF6",
            "gridcolor": "white",
            "gridwidth": 2,
            "linecolor": "white",
            "showbackground": true,
            "ticks": "",
            "zerolinecolor": "white"
           },
           "zaxis": {
            "backgroundcolor": "#E5ECF6",
            "gridcolor": "white",
            "gridwidth": 2,
            "linecolor": "white",
            "showbackground": true,
            "ticks": "",
            "zerolinecolor": "white"
           }
          },
          "shapedefaults": {
           "line": {
            "color": "#2a3f5f"
           }
          },
          "ternary": {
           "aaxis": {
            "gridcolor": "white",
            "linecolor": "white",
            "ticks": ""
           },
           "baxis": {
            "gridcolor": "white",
            "linecolor": "white",
            "ticks": ""
           },
           "bgcolor": "#E5ECF6",
           "caxis": {
            "gridcolor": "white",
            "linecolor": "white",
            "ticks": ""
           }
          },
          "title": {
           "x": 0.05
          },
          "xaxis": {
           "automargin": true,
           "gridcolor": "white",
           "linecolor": "white",
           "ticks": "",
           "title": {
            "standoff": 15
           },
           "zerolinecolor": "white",
           "zerolinewidth": 2
          },
          "yaxis": {
           "automargin": true,
           "gridcolor": "white",
           "linecolor": "white",
           "ticks": "",
           "title": {
            "standoff": 15
           },
           "zerolinecolor": "white",
           "zerolinewidth": 2
          }
         }
        },
        "title": {
         "text": "Total de portes de arma por mês, por categoria"
        },
        "xaxis": {
         "anchor": "y",
         "domain": [
          0,
          1
         ],
         "title": {
          "text": "TOTAL"
         }
        },
        "yaxis": {
         "anchor": "x",
         "domain": [
          0,
          1
         ],
         "title": {
          "text": "MES"
         }
        }
       }
      },
      "text/html": [
       "<div>                            <div id=\"2a67fa59-e980-46a4-9286-9cde4811ec51\" class=\"plotly-graph-div\" style=\"height:500px; width:100%;\"></div>            <script type=\"text/javascript\">                require([\"plotly\"], function(Plotly) {                    window.PLOTLYENV=window.PLOTLYENV || {};                                    if (document.getElementById(\"2a67fa59-e980-46a4-9286-9cde4811ec51\")) {                    Plotly.newPlot(                        \"2a67fa59-e980-46a4-9286-9cde4811ec51\",                        [{\"alignmentgroup\":\"True\",\"hovertemplate\":\"CATEGORIA=Ca\\u00e7ador de Subsist\\u00eancia<br>TOTAL=%{x}<br>MES=%{y}<extra></extra>\",\"legendgroup\":\"Ca\\u00e7ador de Subsist\\u00eancia\",\"marker\":{\"color\":\"#e2d9e2\",\"pattern\":{\"shape\":\"\"}},\"name\":\"Ca\\u00e7ador de Subsist\\u00eancia\",\"offsetgroup\":\"Ca\\u00e7ador de Subsist\\u00eancia\",\"orientation\":\"h\",\"showlegend\":true,\"textposition\":\"auto\",\"x\":[15,1,19,5,1,2,3,35,1,1,1,3,2,5,2,1,1,10,2,26,1,4,1,1,1,1,3,30,1,3,1,1,8,5,1,36,1,1,1,2,3,3,1,20,4,1,1,48,1,1,2,1,4,49,1,9,2,46,10,2,7,2,9,1,1,2,14,1,36,5],\"xaxis\":\"x\",\"y\":[\"jan\",\"jan\",\"jan\",\"ago\",\"ago\",\"ago\",\"ago\",\"ago\",\"ago\",\"ago\",\"ago\",\"ago\",\"ago\",\"ago\",\"dez\",\"dez\",\"dez\",\"dez\",\"out\",\"out\",\"out\",\"set\",\"set\",\"set\",\"set\",\"set\",\"set\",\"set\",\"set\",\"set\",\"set\",\"set\",\"jul\",\"jul\",\"jul\",\"jul\",\"jul\",\"jul\",\"jul\",\"jul\",\"jul\",\"jul\",\"jul\",\"jun\",\"jun\",\"jun\",\"jun\",\"jun\",\"jun\",\"jun\",\"jun\",\"jun\",\"nov\",\"nov\",\"nov\",\"mai\",\"mai\",\"mai\",\"fev\",\"fev\",\"fev\",\"fev\",\"abril\",\"abril\",\"abril\",\"abril\",\"abril\",\"mar\",\"mar\",\"mar\"],\"yaxis\":\"y\",\"type\":\"bar\"},{\"alignmentgroup\":\"True\",\"hovertemplate\":\"CATEGORIA=Defesa Pessoal<br>TOTAL=%{x}<br>MES=%{y}<extra></extra>\",\"legendgroup\":\"Defesa Pessoal\",\"marker\":{\"color\":\"#9ebbc9\",\"pattern\":{\"shape\":\"\"}},\"name\":\"Defesa Pessoal\",\"offsetgroup\":\"Defesa Pessoal\",\"orientation\":\"h\",\"showlegend\":true,\"textposition\":\"auto\",\"x\":[3,1,12,1,1,1,2,1,2,30,19,60,3,18,2,5,7,44,8,22,1,9,3,10,2,17,7,1,4,1,12,40,5,12,3,29,3,7,32,1,1,1,1,16,4,1,3,22,56,59,1,25,1,2,3,32,14,2,13,1,5,3,9,2,1,41,3,5,1,91,6,7,18,2,36,10,1,6,1,3,1,2,1,2,2,6,30,87,38,2,17,1,7,11,8,1,1,5,3,1,1,1,6,31,3,3,1,10,1,123,14,5,24,1,6,38,8,2,4,11,8,1,3,36,36,27,1,7,4,2,6,10,1,6,2,14,1,1,1,5,2,42,1,10,91,5,7,25,7,23,1,2,5,26,2,2,9,2,6,40,46,39,2,22,1,5,26,2,18,3,1,9,1,3,2,13,7,2,52,1,2,1,141,4,7,17,2,27,1,1,11,1,2,12,1,4,29,26,34,1,23,1,5,22,11,4,2,2,6,11,3,1,22,3,3,2,105,8,4,9,1,1,10,1,5,16,1,2,4,53,94,62,1,15,2,13,2,23,5,4,2,5,1,9,1,1,5,5,21,3,3,1,1,96,8,5,13,2,29,1,12,1,1,8,2,1,6,1,7,38,29,41,2,14,2,2,8,9,2,7,8,2,3,13,3,26,1,1,2,1,86,4,4,16,4,1,34,1,4,5,2,4,3,30,59,46,9,2,2,1,16,15,2,8,5,11,1,1,18,1,18,1,4,87,5,4,11,1,1,18,1,5,19,3,1,1,1,2,23,29,54,3,34,3,6,1,1,9,2,8,13,1,3,7,2,2,14,4,1,9,1,2,1,134,16,12,4,17,3,3,24,1,3,1,3,1,3,58,59,20,2,16,5,2,19,1,21,17,1,7,1,1,16,2,10,5,1,4,1,83,10,7,11,2,27,1,1,30,5,1,1,2,2,46,60,44,2,1,19,4,2,39,2,16,11,3,4,1,2,8,5,4,5,7,2,78,4,8,5,1,44,2,1],\"xaxis\":\"x\",\"y\":[\"jan\",\"jan\",\"jan\",\"jan\",\"jan\",\"jan\",\"jan\",\"jan\",\"jan\",\"jan\",\"jan\",\"jan\",\"jan\",\"jan\",\"jan\",\"jan\",\"jan\",\"jan\",\"jan\",\"jan\",\"jan\",\"jan\",\"jan\",\"jan\",\"jan\",\"jan\",\"jan\",\"jan\",\"jan\",\"jan\",\"jan\",\"jan\",\"jan\",\"jan\",\"jan\",\"jan\",\"jan\",\"ago\",\"ago\",\"ago\",\"ago\",\"ago\",\"ago\",\"ago\",\"ago\",\"ago\",\"ago\",\"ago\",\"ago\",\"ago\",\"ago\",\"ago\",\"ago\",\"ago\",\"ago\",\"ago\",\"ago\",\"ago\",\"ago\",\"ago\",\"ago\",\"ago\",\"ago\",\"ago\",\"ago\",\"ago\",\"ago\",\"ago\",\"ago\",\"ago\",\"ago\",\"ago\",\"ago\",\"ago\",\"ago\",\"dez\",\"dez\",\"dez\",\"dez\",\"dez\",\"dez\",\"dez\",\"dez\",\"dez\",\"dez\",\"dez\",\"dez\",\"dez\",\"dez\",\"dez\",\"dez\",\"dez\",\"dez\",\"dez\",\"dez\",\"dez\",\"dez\",\"dez\",\"dez\",\"dez\",\"dez\",\"dez\",\"dez\",\"dez\",\"dez\",\"dez\",\"dez\",\"dez\",\"dez\",\"dez\",\"dez\",\"dez\",\"dez\",\"dez\",\"dez\",\"dez\",\"dez\",\"dez\",\"out\",\"out\",\"out\",\"out\",\"out\",\"out\",\"out\",\"out\",\"out\",\"out\",\"out\",\"out\",\"out\",\"out\",\"out\",\"out\",\"out\",\"out\",\"out\",\"out\",\"out\",\"out\",\"out\",\"out\",\"out\",\"out\",\"out\",\"out\",\"out\",\"out\",\"out\",\"out\",\"out\",\"out\",\"set\",\"set\",\"set\",\"set\",\"set\",\"set\",\"set\",\"set\",\"set\",\"set\",\"set\",\"set\",\"set\",\"set\",\"set\",\"set\",\"set\",\"set\",\"set\",\"set\",\"set\",\"set\",\"set\",\"set\",\"set\",\"set\",\"set\",\"set\",\"set\",\"set\",\"set\",\"set\",\"set\",\"set\",\"set\",\"set\",\"set\",\"jul\",\"jul\",\"jul\",\"jul\",\"jul\",\"jul\",\"jul\",\"jul\",\"jul\",\"jul\",\"jul\",\"jul\",\"jul\",\"jul\",\"jul\",\"jul\",\"jul\",\"jul\",\"jul\",\"jul\",\"jul\",\"jul\",\"jul\",\"jul\",\"jul\",\"jul\",\"jul\",\"jul\",\"jul\",\"jul\",\"jul\",\"jul\",\"jul\",\"jul\",\"jul\",\"jun\",\"jun\",\"jun\",\"jun\",\"jun\",\"jun\",\"jun\",\"jun\",\"jun\",\"jun\",\"jun\",\"jun\",\"jun\",\"jun\",\"jun\",\"jun\",\"jun\",\"jun\",\"jun\",\"jun\",\"jun\",\"jun\",\"jun\",\"jun\",\"jun\",\"jun\",\"jun\",\"jun\",\"jun\",\"jun\",\"jun\",\"jun\",\"jun\",\"jun\",\"jun\",\"jun\",\"nov\",\"nov\",\"nov\",\"nov\",\"nov\",\"nov\",\"nov\",\"nov\",\"nov\",\"nov\",\"nov\",\"nov\",\"nov\",\"nov\",\"nov\",\"nov\",\"nov\",\"nov\",\"nov\",\"nov\",\"nov\",\"nov\",\"nov\",\"nov\",\"nov\",\"nov\",\"nov\",\"nov\",\"nov\",\"nov\",\"nov\",\"nov\",\"nov\",\"nov\",\"nov\",\"nov\",\"nov\",\"nov\",\"mai\",\"mai\",\"mai\",\"mai\",\"mai\",\"mai\",\"mai\",\"mai\",\"mai\",\"mai\",\"mai\",\"mai\",\"mai\",\"mai\",\"mai\",\"mai\",\"mai\",\"mai\",\"mai\",\"mai\",\"mai\",\"mai\",\"mai\",\"mai\",\"mai\",\"mai\",\"mai\",\"mai\",\"mai\",\"mai\",\"mai\",\"mai\",\"mai\",\"fev\",\"fev\",\"fev\",\"fev\",\"fev\",\"fev\",\"fev\",\"fev\",\"fev\",\"fev\",\"fev\",\"fev\",\"fev\",\"fev\",\"fev\",\"fev\",\"fev\",\"fev\",\"fev\",\"fev\",\"fev\",\"fev\",\"fev\",\"fev\",\"fev\",\"fev\",\"fev\",\"fev\",\"fev\",\"fev\",\"fev\",\"fev\",\"fev\",\"fev\",\"fev\",\"fev\",\"fev\",\"fev\",\"abril\",\"abril\",\"abril\",\"abril\",\"abril\",\"abril\",\"abril\",\"abril\",\"abril\",\"abril\",\"abril\",\"abril\",\"abril\",\"abril\",\"abril\",\"abril\",\"abril\",\"abril\",\"abril\",\"abril\",\"abril\",\"abril\",\"abril\",\"abril\",\"abril\",\"abril\",\"abril\",\"abril\",\"abril\",\"abril\",\"abril\",\"abril\",\"abril\",\"abril\",\"abril\",\"abril\",\"abril\",\"mar\",\"mar\",\"mar\",\"mar\",\"mar\",\"mar\",\"mar\",\"mar\",\"mar\",\"mar\",\"mar\",\"mar\",\"mar\",\"mar\",\"mar\",\"mar\",\"mar\",\"mar\",\"mar\",\"mar\",\"mar\",\"mar\",\"mar\",\"mar\",\"mar\",\"mar\",\"mar\",\"mar\",\"mar\",\"mar\",\"mar\",\"mar\",\"mar\",\"mar\",\"mar\",\"mar\",\"mar\"],\"yaxis\":\"y\",\"type\":\"bar\"},{\"alignmentgroup\":\"True\",\"hovertemplate\":\"CATEGORIA=Funcional<br>TOTAL=%{x}<br>MES=%{y}<extra></extra>\",\"legendgroup\":\"Funcional\",\"marker\":{\"color\":\"#6785be\",\"pattern\":{\"shape\":\"\"}},\"name\":\"Funcional\",\"offsetgroup\":\"Funcional\",\"orientation\":\"h\",\"showlegend\":true,\"textposition\":\"auto\",\"x\":[55,9,5,19,1,38,1,1,6,12,68,131,32,4,28,22,3,41,27,68,1,11,135,4,151,14,11,1,65,112,37,67,8,490,13,88,8,25,20,8,1,38,8,6,9,22,17,5,16,1,24,1,4,1,3,18,4,3,581,33,27,8,5,5,1,1,95,3,3,4,1,180,146,7,15,6,335,4,5,4,7,13,2,10,12,2,2,123,6,68,7,2,3,5,8,1,1,2,17,236,27,5,14,6,36,1,37,17,2,16,24,80,3,4,16,6,2,51,56,2,541,6,1,2,24,39,11,80,24,5,1,57,3,22,2,1,7,30,160,8,2,2,8,1,6,7,32,7,74,1,1,2,64,30,2,22,2,44,38,4,4,5,14,303,13,7,5,17,14,27,9,29,5,4,177,2,4,4,3,1,1,4,31,1,14,8,208,3,3,110,30,50,4,34,1,40,1,7,1,2,4,2,22,3,315,1,6,6,3,25,1,92,4,5,23,1,2,4,1,2,61,286,1,56,24,10,19,157,22,3,35,32,1,15,6,5,10,19,435,4,4],\"xaxis\":\"x\",\"y\":[\"jan\",\"jan\",\"jan\",\"jan\",\"jan\",\"jan\",\"jan\",\"jan\",\"jan\",\"jan\",\"jan\",\"jan\",\"ago\",\"ago\",\"ago\",\"ago\",\"ago\",\"ago\",\"ago\",\"ago\",\"ago\",\"ago\",\"ago\",\"ago\",\"ago\",\"ago\",\"ago\",\"ago\",\"ago\",\"ago\",\"ago\",\"ago\",\"ago\",\"ago\",\"ago\",\"ago\",\"ago\",\"dez\",\"dez\",\"dez\",\"dez\",\"dez\",\"dez\",\"dez\",\"dez\",\"dez\",\"dez\",\"dez\",\"dez\",\"dez\",\"dez\",\"dez\",\"dez\",\"dez\",\"dez\",\"dez\",\"dez\",\"dez\",\"dez\",\"out\",\"out\",\"out\",\"out\",\"out\",\"out\",\"out\",\"out\",\"out\",\"out\",\"out\",\"out\",\"out\",\"out\",\"out\",\"out\",\"out\",\"out\",\"out\",\"out\",\"set\",\"set\",\"set\",\"set\",\"set\",\"set\",\"set\",\"set\",\"set\",\"set\",\"set\",\"set\",\"set\",\"set\",\"set\",\"set\",\"set\",\"set\",\"set\",\"set\",\"set\",\"set\",\"jul\",\"jul\",\"jul\",\"jul\",\"jul\",\"jul\",\"jul\",\"jul\",\"jul\",\"jul\",\"jul\",\"jul\",\"jul\",\"jul\",\"jul\",\"jul\",\"jul\",\"jul\",\"jul\",\"jul\",\"jul\",\"jul\",\"jun\",\"jun\",\"jun\",\"jun\",\"jun\",\"jun\",\"jun\",\"jun\",\"jun\",\"jun\",\"jun\",\"jun\",\"jun\",\"jun\",\"jun\",\"jun\",\"jun\",\"jun\",\"jun\",\"nov\",\"nov\",\"nov\",\"nov\",\"nov\",\"nov\",\"nov\",\"nov\",\"nov\",\"nov\",\"nov\",\"nov\",\"nov\",\"nov\",\"nov\",\"nov\",\"nov\",\"nov\",\"nov\",\"nov\",\"nov\",\"nov\",\"nov\",\"mai\",\"mai\",\"mai\",\"mai\",\"mai\",\"mai\",\"mai\",\"mai\",\"mai\",\"mai\",\"mai\",\"mai\",\"mai\",\"mai\",\"mai\",\"mai\",\"mai\",\"mai\",\"mai\",\"mai\",\"mai\",\"mai\",\"mai\",\"mai\",\"fev\",\"fev\",\"fev\",\"fev\",\"fev\",\"fev\",\"fev\",\"fev\",\"fev\",\"fev\",\"fev\",\"fev\",\"fev\",\"fev\",\"fev\",\"fev\",\"fev\",\"fev\",\"abril\",\"abril\",\"abril\",\"abril\",\"abril\",\"abril\",\"abril\",\"abril\",\"abril\",\"abril\",\"abril\",\"abril\",\"abril\",\"abril\",\"abril\",\"abril\",\"abril\",\"mar\",\"mar\",\"mar\",\"mar\",\"mar\",\"mar\",\"mar\",\"mar\",\"mar\",\"mar\",\"mar\",\"mar\",\"mar\",\"mar\",\"mar\",\"mar\",\"mar\"],\"yaxis\":\"y\",\"type\":\"bar\"},{\"alignmentgroup\":\"True\",\"hovertemplate\":\"CATEGORIA=Seguran\\u00e7a Dignitario<br>TOTAL=%{x}<br>MES=%{y}<extra></extra>\",\"legendgroup\":\"Seguran\\u00e7a Dignitario\",\"marker\":{\"color\":\"#5e43a5\",\"pattern\":{\"shape\":\"\"}},\"name\":\"Seguran\\u00e7a Dignitario\",\"offsetgroup\":\"Seguran\\u00e7a Dignitario\",\"orientation\":\"h\",\"showlegend\":true,\"textposition\":\"auto\",\"x\":[4,12,134,5,4,4,1,2,6,4,17,6,2,19,8,1,4,2,1,6,10,2,13,5,18,2],\"xaxis\":\"x\",\"y\":[\"ago\",\"ago\",\"dez\",\"dez\",\"dez\",\"out\",\"out\",\"out\",\"out\",\"set\",\"jul\",\"jul\",\"jul\",\"jun\",\"jun\",\"jun\",\"nov\",\"mai\",\"abril\",\"abril\",\"abril\",\"mar\",\"mar\",\"mar\",\"mar\",\"mar\"],\"yaxis\":\"y\",\"type\":\"bar\"}],                        {\"template\":{\"data\":{\"histogram2dcontour\":[{\"type\":\"histogram2dcontour\",\"colorbar\":{\"outlinewidth\":0,\"ticks\":\"\"},\"colorscale\":[[0.0,\"#0d0887\"],[0.1111111111111111,\"#46039f\"],[0.2222222222222222,\"#7201a8\"],[0.3333333333333333,\"#9c179e\"],[0.4444444444444444,\"#bd3786\"],[0.5555555555555556,\"#d8576b\"],[0.6666666666666666,\"#ed7953\"],[0.7777777777777778,\"#fb9f3a\"],[0.8888888888888888,\"#fdca26\"],[1.0,\"#f0f921\"]]}],\"choropleth\":[{\"type\":\"choropleth\",\"colorbar\":{\"outlinewidth\":0,\"ticks\":\"\"}}],\"histogram2d\":[{\"type\":\"histogram2d\",\"colorbar\":{\"outlinewidth\":0,\"ticks\":\"\"},\"colorscale\":[[0.0,\"#0d0887\"],[0.1111111111111111,\"#46039f\"],[0.2222222222222222,\"#7201a8\"],[0.3333333333333333,\"#9c179e\"],[0.4444444444444444,\"#bd3786\"],[0.5555555555555556,\"#d8576b\"],[0.6666666666666666,\"#ed7953\"],[0.7777777777777778,\"#fb9f3a\"],[0.8888888888888888,\"#fdca26\"],[1.0,\"#f0f921\"]]}],\"heatmap\":[{\"type\":\"heatmap\",\"colorbar\":{\"outlinewidth\":0,\"ticks\":\"\"},\"colorscale\":[[0.0,\"#0d0887\"],[0.1111111111111111,\"#46039f\"],[0.2222222222222222,\"#7201a8\"],[0.3333333333333333,\"#9c179e\"],[0.4444444444444444,\"#bd3786\"],[0.5555555555555556,\"#d8576b\"],[0.6666666666666666,\"#ed7953\"],[0.7777777777777778,\"#fb9f3a\"],[0.8888888888888888,\"#fdca26\"],[1.0,\"#f0f921\"]]}],\"heatmapgl\":[{\"type\":\"heatmapgl\",\"colorbar\":{\"outlinewidth\":0,\"ticks\":\"\"},\"colorscale\":[[0.0,\"#0d0887\"],[0.1111111111111111,\"#46039f\"],[0.2222222222222222,\"#7201a8\"],[0.3333333333333333,\"#9c179e\"],[0.4444444444444444,\"#bd3786\"],[0.5555555555555556,\"#d8576b\"],[0.6666666666666666,\"#ed7953\"],[0.7777777777777778,\"#fb9f3a\"],[0.8888888888888888,\"#fdca26\"],[1.0,\"#f0f921\"]]}],\"contourcarpet\":[{\"type\":\"contourcarpet\",\"colorbar\":{\"outlinewidth\":0,\"ticks\":\"\"}}],\"contour\":[{\"type\":\"contour\",\"colorbar\":{\"outlinewidth\":0,\"ticks\":\"\"},\"colorscale\":[[0.0,\"#0d0887\"],[0.1111111111111111,\"#46039f\"],[0.2222222222222222,\"#7201a8\"],[0.3333333333333333,\"#9c179e\"],[0.4444444444444444,\"#bd3786\"],[0.5555555555555556,\"#d8576b\"],[0.6666666666666666,\"#ed7953\"],[0.7777777777777778,\"#fb9f3a\"],[0.8888888888888888,\"#fdca26\"],[1.0,\"#f0f921\"]]}],\"surface\":[{\"type\":\"surface\",\"colorbar\":{\"outlinewidth\":0,\"ticks\":\"\"},\"colorscale\":[[0.0,\"#0d0887\"],[0.1111111111111111,\"#46039f\"],[0.2222222222222222,\"#7201a8\"],[0.3333333333333333,\"#9c179e\"],[0.4444444444444444,\"#bd3786\"],[0.5555555555555556,\"#d8576b\"],[0.6666666666666666,\"#ed7953\"],[0.7777777777777778,\"#fb9f3a\"],[0.8888888888888888,\"#fdca26\"],[1.0,\"#f0f921\"]]}],\"mesh3d\":[{\"type\":\"mesh3d\",\"colorbar\":{\"outlinewidth\":0,\"ticks\":\"\"}}],\"scatter\":[{\"fillpattern\":{\"fillmode\":\"overlay\",\"size\":10,\"solidity\":0.2},\"type\":\"scatter\"}],\"parcoords\":[{\"type\":\"parcoords\",\"line\":{\"colorbar\":{\"outlinewidth\":0,\"ticks\":\"\"}}}],\"scatterpolargl\":[{\"type\":\"scatterpolargl\",\"marker\":{\"colorbar\":{\"outlinewidth\":0,\"ticks\":\"\"}}}],\"bar\":[{\"error_x\":{\"color\":\"#2a3f5f\"},\"error_y\":{\"color\":\"#2a3f5f\"},\"marker\":{\"line\":{\"color\":\"#E5ECF6\",\"width\":0.5},\"pattern\":{\"fillmode\":\"overlay\",\"size\":10,\"solidity\":0.2}},\"type\":\"bar\"}],\"scattergeo\":[{\"type\":\"scattergeo\",\"marker\":{\"colorbar\":{\"outlinewidth\":0,\"ticks\":\"\"}}}],\"scatterpolar\":[{\"type\":\"scatterpolar\",\"marker\":{\"colorbar\":{\"outlinewidth\":0,\"ticks\":\"\"}}}],\"histogram\":[{\"marker\":{\"pattern\":{\"fillmode\":\"overlay\",\"size\":10,\"solidity\":0.2}},\"type\":\"histogram\"}],\"scattergl\":[{\"type\":\"scattergl\",\"marker\":{\"colorbar\":{\"outlinewidth\":0,\"ticks\":\"\"}}}],\"scatter3d\":[{\"type\":\"scatter3d\",\"line\":{\"colorbar\":{\"outlinewidth\":0,\"ticks\":\"\"}},\"marker\":{\"colorbar\":{\"outlinewidth\":0,\"ticks\":\"\"}}}],\"scattermapbox\":[{\"type\":\"scattermapbox\",\"marker\":{\"colorbar\":{\"outlinewidth\":0,\"ticks\":\"\"}}}],\"scatterternary\":[{\"type\":\"scatterternary\",\"marker\":{\"colorbar\":{\"outlinewidth\":0,\"ticks\":\"\"}}}],\"scattercarpet\":[{\"type\":\"scattercarpet\",\"marker\":{\"colorbar\":{\"outlinewidth\":0,\"ticks\":\"\"}}}],\"carpet\":[{\"aaxis\":{\"endlinecolor\":\"#2a3f5f\",\"gridcolor\":\"white\",\"linecolor\":\"white\",\"minorgridcolor\":\"white\",\"startlinecolor\":\"#2a3f5f\"},\"baxis\":{\"endlinecolor\":\"#2a3f5f\",\"gridcolor\":\"white\",\"linecolor\":\"white\",\"minorgridcolor\":\"white\",\"startlinecolor\":\"#2a3f5f\"},\"type\":\"carpet\"}],\"table\":[{\"cells\":{\"fill\":{\"color\":\"#EBF0F8\"},\"line\":{\"color\":\"white\"}},\"header\":{\"fill\":{\"color\":\"#C8D4E3\"},\"line\":{\"color\":\"white\"}},\"type\":\"table\"}],\"barpolar\":[{\"marker\":{\"line\":{\"color\":\"#E5ECF6\",\"width\":0.5},\"pattern\":{\"fillmode\":\"overlay\",\"size\":10,\"solidity\":0.2}},\"type\":\"barpolar\"}],\"pie\":[{\"automargin\":true,\"type\":\"pie\"}]},\"layout\":{\"autotypenumbers\":\"strict\",\"colorway\":[\"#636efa\",\"#EF553B\",\"#00cc96\",\"#ab63fa\",\"#FFA15A\",\"#19d3f3\",\"#FF6692\",\"#B6E880\",\"#FF97FF\",\"#FECB52\"],\"font\":{\"color\":\"#2a3f5f\"},\"hovermode\":\"closest\",\"hoverlabel\":{\"align\":\"left\"},\"paper_bgcolor\":\"white\",\"plot_bgcolor\":\"#E5ECF6\",\"polar\":{\"bgcolor\":\"#E5ECF6\",\"angularaxis\":{\"gridcolor\":\"white\",\"linecolor\":\"white\",\"ticks\":\"\"},\"radialaxis\":{\"gridcolor\":\"white\",\"linecolor\":\"white\",\"ticks\":\"\"}},\"ternary\":{\"bgcolor\":\"#E5ECF6\",\"aaxis\":{\"gridcolor\":\"white\",\"linecolor\":\"white\",\"ticks\":\"\"},\"baxis\":{\"gridcolor\":\"white\",\"linecolor\":\"white\",\"ticks\":\"\"},\"caxis\":{\"gridcolor\":\"white\",\"linecolor\":\"white\",\"ticks\":\"\"}},\"coloraxis\":{\"colorbar\":{\"outlinewidth\":0,\"ticks\":\"\"}},\"colorscale\":{\"sequential\":[[0.0,\"#0d0887\"],[0.1111111111111111,\"#46039f\"],[0.2222222222222222,\"#7201a8\"],[0.3333333333333333,\"#9c179e\"],[0.4444444444444444,\"#bd3786\"],[0.5555555555555556,\"#d8576b\"],[0.6666666666666666,\"#ed7953\"],[0.7777777777777778,\"#fb9f3a\"],[0.8888888888888888,\"#fdca26\"],[1.0,\"#f0f921\"]],\"sequentialminus\":[[0.0,\"#0d0887\"],[0.1111111111111111,\"#46039f\"],[0.2222222222222222,\"#7201a8\"],[0.3333333333333333,\"#9c179e\"],[0.4444444444444444,\"#bd3786\"],[0.5555555555555556,\"#d8576b\"],[0.6666666666666666,\"#ed7953\"],[0.7777777777777778,\"#fb9f3a\"],[0.8888888888888888,\"#fdca26\"],[1.0,\"#f0f921\"]],\"diverging\":[[0,\"#8e0152\"],[0.1,\"#c51b7d\"],[0.2,\"#de77ae\"],[0.3,\"#f1b6da\"],[0.4,\"#fde0ef\"],[0.5,\"#f7f7f7\"],[0.6,\"#e6f5d0\"],[0.7,\"#b8e186\"],[0.8,\"#7fbc41\"],[0.9,\"#4d9221\"],[1,\"#276419\"]]},\"xaxis\":{\"gridcolor\":\"white\",\"linecolor\":\"white\",\"ticks\":\"\",\"title\":{\"standoff\":15},\"zerolinecolor\":\"white\",\"automargin\":true,\"zerolinewidth\":2},\"yaxis\":{\"gridcolor\":\"white\",\"linecolor\":\"white\",\"ticks\":\"\",\"title\":{\"standoff\":15},\"zerolinecolor\":\"white\",\"automargin\":true,\"zerolinewidth\":2},\"scene\":{\"xaxis\":{\"backgroundcolor\":\"#E5ECF6\",\"gridcolor\":\"white\",\"linecolor\":\"white\",\"showbackground\":true,\"ticks\":\"\",\"zerolinecolor\":\"white\",\"gridwidth\":2},\"yaxis\":{\"backgroundcolor\":\"#E5ECF6\",\"gridcolor\":\"white\",\"linecolor\":\"white\",\"showbackground\":true,\"ticks\":\"\",\"zerolinecolor\":\"white\",\"gridwidth\":2},\"zaxis\":{\"backgroundcolor\":\"#E5ECF6\",\"gridcolor\":\"white\",\"linecolor\":\"white\",\"showbackground\":true,\"ticks\":\"\",\"zerolinecolor\":\"white\",\"gridwidth\":2}},\"shapedefaults\":{\"line\":{\"color\":\"#2a3f5f\"}},\"annotationdefaults\":{\"arrowcolor\":\"#2a3f5f\",\"arrowhead\":0,\"arrowwidth\":1},\"geo\":{\"bgcolor\":\"white\",\"landcolor\":\"#E5ECF6\",\"subunitcolor\":\"white\",\"showland\":true,\"showlakes\":true,\"lakecolor\":\"white\"},\"title\":{\"x\":0.05},\"mapbox\":{\"style\":\"light\"}}},\"xaxis\":{\"anchor\":\"y\",\"domain\":[0.0,1.0],\"title\":{\"text\":\"TOTAL\"}},\"yaxis\":{\"anchor\":\"x\",\"domain\":[0.0,1.0],\"title\":{\"text\":\"MES\"}},\"legend\":{\"title\":{\"text\":\"CATEGORIA\"},\"tracegroupgap\":0},\"title\":{\"text\":\"Total de portes de arma por m\\u00eas, por categoria\"},\"barmode\":\"relative\",\"height\":500},                        {\"responsive\": true}                    ).then(function(){\n",
       "                            \n",
       "var gd = document.getElementById('2a67fa59-e980-46a4-9286-9cde4811ec51');\n",
       "var x = new MutationObserver(function (mutations, observer) {{\n",
       "        var display = window.getComputedStyle(gd).display;\n",
       "        if (!display || display === 'none') {{\n",
       "            console.log([gd, 'removed!']);\n",
       "            Plotly.purge(gd);\n",
       "            observer.disconnect();\n",
       "        }}\n",
       "}});\n",
       "\n",
       "// Listen for the removal of the full notebook cells\n",
       "var notebookContainer = gd.closest('#notebook-container');\n",
       "if (notebookContainer) {{\n",
       "    x.observe(notebookContainer, {childList: true});\n",
       "}}\n",
       "\n",
       "// Listen for the clearing of the current output cell\n",
       "var outputEl = gd.closest('.output');\n",
       "if (outputEl) {{\n",
       "    x.observe(outputEl, {childList: true});\n",
       "}}\n",
       "\n",
       "                        })                };                });            </script>        </div>"
      ]
     },
     "metadata": {},
     "output_type": "display_data"
    }
   ],
   "source": [
    "fig = px.bar(df_porte, x='TOTAL', y='MES', title='Total de portes de arma por mês, por categoria', \n",
    "             height=500, color='CATEGORIA', \n",
    "             color_discrete_sequence=px.colors.cyclical.Twilight)\n",
    "fig.show()"
   ]
  },
  {
   "cell_type": "markdown",
   "id": "a8c50b3d",
   "metadata": {},
   "source": [
    "## Usos"
   ]
  },
  {
   "cell_type": "markdown",
   "id": "759ed2a2",
   "metadata": {},
   "source": [
    "### Defesa Pessoal"
   ]
  },
  {
   "cell_type": "code",
   "execution_count": 30,
   "id": "55f5155a",
   "metadata": {},
   "outputs": [],
   "source": [
    "defesa_pessoal = df_porte.query('CATEGORIA == \"Defesa Pessoal\"')"
   ]
  },
  {
   "cell_type": "code",
   "execution_count": 31,
   "id": "f991ac44",
   "metadata": {},
   "outputs": [
    {
     "data": {
      "text/html": [
       "<div>\n",
       "<style scoped>\n",
       "    .dataframe tbody tr th:only-of-type {\n",
       "        vertical-align: middle;\n",
       "    }\n",
       "\n",
       "    .dataframe tbody tr th {\n",
       "        vertical-align: top;\n",
       "    }\n",
       "\n",
       "    .dataframe thead th {\n",
       "        text-align: right;\n",
       "    }\n",
       "</style>\n",
       "<table border=\"1\" class=\"dataframe\">\n",
       "  <thead>\n",
       "    <tr style=\"text-align: right;\">\n",
       "      <th></th>\n",
       "      <th>UF</th>\n",
       "      <th>CATEGORIA</th>\n",
       "      <th>ABRANGENCIA</th>\n",
       "      <th>TOTAL</th>\n",
       "      <th>MES</th>\n",
       "    </tr>\n",
       "  </thead>\n",
       "  <tbody>\n",
       "    <tr>\n",
       "      <th>1</th>\n",
       "      <td>AC</td>\n",
       "      <td>Defesa Pessoal</td>\n",
       "      <td>Estadual</td>\n",
       "      <td>3</td>\n",
       "      <td>jan</td>\n",
       "    </tr>\n",
       "    <tr>\n",
       "      <th>2</th>\n",
       "      <td>AC</td>\n",
       "      <td>Defesa Pessoal</td>\n",
       "      <td>Regional</td>\n",
       "      <td>1</td>\n",
       "      <td>jan</td>\n",
       "    </tr>\n",
       "    <tr>\n",
       "      <th>3</th>\n",
       "      <td>AL</td>\n",
       "      <td>Defesa Pessoal</td>\n",
       "      <td>Estadual</td>\n",
       "      <td>12</td>\n",
       "      <td>jan</td>\n",
       "    </tr>\n",
       "    <tr>\n",
       "      <th>4</th>\n",
       "      <td>AL</td>\n",
       "      <td>Defesa Pessoal</td>\n",
       "      <td>Nacional</td>\n",
       "      <td>1</td>\n",
       "      <td>jan</td>\n",
       "    </tr>\n",
       "    <tr>\n",
       "      <th>5</th>\n",
       "      <td>AL</td>\n",
       "      <td>Defesa Pessoal</td>\n",
       "      <td>Regional</td>\n",
       "      <td>1</td>\n",
       "      <td>jan</td>\n",
       "    </tr>\n",
       "    <tr>\n",
       "      <th>...</th>\n",
       "      <td>...</td>\n",
       "      <td>...</td>\n",
       "      <td>...</td>\n",
       "      <td>...</td>\n",
       "      <td>...</td>\n",
       "    </tr>\n",
       "    <tr>\n",
       "      <th>51</th>\n",
       "      <td>SC</td>\n",
       "      <td>Defesa Pessoal</td>\n",
       "      <td>Estadual</td>\n",
       "      <td>5</td>\n",
       "      <td>mar</td>\n",
       "    </tr>\n",
       "    <tr>\n",
       "      <th>53</th>\n",
       "      <td>SE</td>\n",
       "      <td>Defesa Pessoal</td>\n",
       "      <td>Estadual</td>\n",
       "      <td>1</td>\n",
       "      <td>mar</td>\n",
       "    </tr>\n",
       "    <tr>\n",
       "      <th>55</th>\n",
       "      <td>SP</td>\n",
       "      <td>Defesa Pessoal</td>\n",
       "      <td>Estadual</td>\n",
       "      <td>44</td>\n",
       "      <td>mar</td>\n",
       "    </tr>\n",
       "    <tr>\n",
       "      <th>56</th>\n",
       "      <td>SP</td>\n",
       "      <td>Defesa Pessoal</td>\n",
       "      <td>Nacional</td>\n",
       "      <td>2</td>\n",
       "      <td>mar</td>\n",
       "    </tr>\n",
       "    <tr>\n",
       "      <th>60</th>\n",
       "      <td>TO</td>\n",
       "      <td>Defesa Pessoal</td>\n",
       "      <td>Estadual</td>\n",
       "      <td>1</td>\n",
       "      <td>mar</td>\n",
       "    </tr>\n",
       "  </tbody>\n",
       "</table>\n",
       "<p>443 rows × 5 columns</p>\n",
       "</div>"
      ],
      "text/plain": [
       "    UF       CATEGORIA ABRANGENCIA  TOTAL  MES\n",
       "1   AC  Defesa Pessoal    Estadual      3  jan\n",
       "2   AC  Defesa Pessoal    Regional      1  jan\n",
       "3   AL  Defesa Pessoal    Estadual     12  jan\n",
       "4   AL  Defesa Pessoal    Nacional      1  jan\n",
       "5   AL  Defesa Pessoal    Regional      1  jan\n",
       "..  ..             ...         ...    ...  ...\n",
       "51  SC  Defesa Pessoal    Estadual      5  mar\n",
       "53  SE  Defesa Pessoal    Estadual      1  mar\n",
       "55  SP  Defesa Pessoal    Estadual     44  mar\n",
       "56  SP  Defesa Pessoal    Nacional      2  mar\n",
       "60  TO  Defesa Pessoal    Estadual      1  mar\n",
       "\n",
       "[443 rows x 5 columns]"
      ]
     },
     "execution_count": 31,
     "metadata": {},
     "output_type": "execute_result"
    }
   ],
   "source": [
    "defesa_pessoal"
   ]
  },
  {
   "cell_type": "code",
   "execution_count": 32,
   "id": "cca92be2",
   "metadata": {
    "scrolled": true
   },
   "outputs": [
    {
     "name": "stdout",
     "output_type": "stream",
     "text": [
      "Total de portes para Defesa Pessoal: 5473 .\n"
     ]
    }
   ],
   "source": [
    "print(\"Total de portes para Defesa Pessoal:\", defesa_pessoal['TOTAL'].sum(), '.')a"
   ]
  },
  {
   "cell_type": "code",
   "execution_count": 76,
   "id": "e0c35af1",
   "metadata": {},
   "outputs": [
    {
     "data": {
      "application/vnd.plotly.v1+json": {
       "config": {
        "plotlyServerURL": "https://plot.ly"
       },
       "data": [
        {
         "alignmentgroup": "True",
         "hovertemplate": "TOTAL=%{x}<br>MES=%{y}<extra></extra>",
         "legendgroup": "",
         "marker": {
          "color": "#1F77B4",
          "pattern": {
           "shape": ""
          }
         },
         "name": "",
         "offsetgroup": "",
         "orientation": "h",
         "showlegend": false,
         "textposition": "auto",
         "type": "bar",
         "x": [
          3,
          1,
          12,
          1,
          1,
          1,
          2,
          1,
          2,
          30,
          19,
          60,
          3,
          18,
          2,
          5,
          7,
          44,
          8,
          22,
          1,
          9,
          3,
          10,
          2,
          17,
          7,
          1,
          4,
          1,
          12,
          40,
          5,
          12,
          3,
          29,
          3,
          7,
          32,
          1,
          1,
          1,
          1,
          16,
          4,
          1,
          3,
          22,
          56,
          59,
          1,
          25,
          1,
          2,
          3,
          32,
          14,
          2,
          13,
          1,
          5,
          3,
          9,
          2,
          1,
          41,
          3,
          5,
          1,
          91,
          6,
          7,
          18,
          2,
          36,
          10,
          1,
          6,
          1,
          3,
          1,
          2,
          1,
          2,
          2,
          6,
          30,
          87,
          38,
          2,
          17,
          1,
          7,
          11,
          8,
          1,
          1,
          5,
          3,
          1,
          1,
          1,
          6,
          31,
          3,
          3,
          1,
          10,
          1,
          123,
          14,
          5,
          24,
          1,
          6,
          38,
          8,
          2,
          4,
          11,
          8,
          1,
          3,
          36,
          36,
          27,
          1,
          7,
          4,
          2,
          6,
          10,
          1,
          6,
          2,
          14,
          1,
          1,
          1,
          5,
          2,
          42,
          1,
          10,
          91,
          5,
          7,
          25,
          7,
          23,
          1,
          2,
          5,
          26,
          2,
          2,
          9,
          2,
          6,
          40,
          46,
          39,
          2,
          22,
          1,
          5,
          26,
          2,
          18,
          3,
          1,
          9,
          1,
          3,
          2,
          13,
          7,
          2,
          52,
          1,
          2,
          1,
          141,
          4,
          7,
          17,
          2,
          27,
          1,
          1,
          11,
          1,
          2,
          12,
          1,
          4,
          29,
          26,
          34,
          1,
          23,
          1,
          5,
          22,
          11,
          4,
          2,
          2,
          6,
          11,
          3,
          1,
          22,
          3,
          3,
          2,
          105,
          8,
          4,
          9,
          1,
          1,
          10,
          1,
          5,
          16,
          1,
          2,
          4,
          53,
          94,
          62,
          1,
          15,
          2,
          13,
          2,
          23,
          5,
          4,
          2,
          5,
          1,
          9,
          1,
          1,
          5,
          5,
          21,
          3,
          3,
          1,
          1,
          96,
          8,
          5,
          13,
          2,
          29,
          1,
          12,
          1,
          1,
          8,
          2,
          1,
          6,
          1,
          7,
          38,
          29,
          41,
          2,
          14,
          2,
          2,
          8,
          9,
          2,
          7,
          8,
          2,
          3,
          13,
          3,
          26,
          1,
          1,
          2,
          1,
          86,
          4,
          4,
          16,
          4,
          1,
          34,
          1,
          4,
          5,
          2,
          4,
          3,
          30,
          59,
          46,
          9,
          2,
          2,
          1,
          16,
          15,
          2,
          8,
          5,
          11,
          1,
          1,
          18,
          1,
          18,
          1,
          4,
          87,
          5,
          4,
          11,
          1,
          1,
          18,
          1,
          5,
          19,
          3,
          1,
          1,
          1,
          2,
          23,
          29,
          54,
          3,
          34,
          3,
          6,
          1,
          1,
          9,
          2,
          8,
          13,
          1,
          3,
          7,
          2,
          2,
          14,
          4,
          1,
          9,
          1,
          2,
          1,
          134,
          16,
          12,
          4,
          17,
          3,
          3,
          24,
          1,
          3,
          1,
          3,
          1,
          3,
          58,
          59,
          20,
          2,
          16,
          5,
          2,
          19,
          1,
          21,
          17,
          1,
          7,
          1,
          1,
          16,
          2,
          10,
          5,
          1,
          4,
          1,
          83,
          10,
          7,
          11,
          2,
          27,
          1,
          1,
          30,
          5,
          1,
          1,
          2,
          2,
          46,
          60,
          44,
          2,
          1,
          19,
          4,
          2,
          39,
          2,
          16,
          11,
          3,
          4,
          1,
          2,
          8,
          5,
          4,
          5,
          7,
          2,
          78,
          4,
          8,
          5,
          1,
          44,
          2,
          1
         ],
         "xaxis": "x",
         "y": [
          "jan",
          "jan",
          "jan",
          "jan",
          "jan",
          "jan",
          "jan",
          "jan",
          "jan",
          "jan",
          "jan",
          "jan",
          "jan",
          "jan",
          "jan",
          "jan",
          "jan",
          "jan",
          "jan",
          "jan",
          "jan",
          "jan",
          "jan",
          "jan",
          "jan",
          "jan",
          "jan",
          "jan",
          "jan",
          "jan",
          "jan",
          "jan",
          "jan",
          "jan",
          "jan",
          "jan",
          "jan",
          "ago",
          "ago",
          "ago",
          "ago",
          "ago",
          "ago",
          "ago",
          "ago",
          "ago",
          "ago",
          "ago",
          "ago",
          "ago",
          "ago",
          "ago",
          "ago",
          "ago",
          "ago",
          "ago",
          "ago",
          "ago",
          "ago",
          "ago",
          "ago",
          "ago",
          "ago",
          "ago",
          "ago",
          "ago",
          "ago",
          "ago",
          "ago",
          "ago",
          "ago",
          "ago",
          "ago",
          "ago",
          "ago",
          "dez",
          "dez",
          "dez",
          "dez",
          "dez",
          "dez",
          "dez",
          "dez",
          "dez",
          "dez",
          "dez",
          "dez",
          "dez",
          "dez",
          "dez",
          "dez",
          "dez",
          "dez",
          "dez",
          "dez",
          "dez",
          "dez",
          "dez",
          "dez",
          "dez",
          "dez",
          "dez",
          "dez",
          "dez",
          "dez",
          "dez",
          "dez",
          "dez",
          "dez",
          "dez",
          "dez",
          "dez",
          "dez",
          "dez",
          "dez",
          "dez",
          "dez",
          "dez",
          "out",
          "out",
          "out",
          "out",
          "out",
          "out",
          "out",
          "out",
          "out",
          "out",
          "out",
          "out",
          "out",
          "out",
          "out",
          "out",
          "out",
          "out",
          "out",
          "out",
          "out",
          "out",
          "out",
          "out",
          "out",
          "out",
          "out",
          "out",
          "out",
          "out",
          "out",
          "out",
          "out",
          "out",
          "set",
          "set",
          "set",
          "set",
          "set",
          "set",
          "set",
          "set",
          "set",
          "set",
          "set",
          "set",
          "set",
          "set",
          "set",
          "set",
          "set",
          "set",
          "set",
          "set",
          "set",
          "set",
          "set",
          "set",
          "set",
          "set",
          "set",
          "set",
          "set",
          "set",
          "set",
          "set",
          "set",
          "set",
          "set",
          "set",
          "set",
          "jul",
          "jul",
          "jul",
          "jul",
          "jul",
          "jul",
          "jul",
          "jul",
          "jul",
          "jul",
          "jul",
          "jul",
          "jul",
          "jul",
          "jul",
          "jul",
          "jul",
          "jul",
          "jul",
          "jul",
          "jul",
          "jul",
          "jul",
          "jul",
          "jul",
          "jul",
          "jul",
          "jul",
          "jul",
          "jul",
          "jul",
          "jul",
          "jul",
          "jul",
          "jul",
          "jun",
          "jun",
          "jun",
          "jun",
          "jun",
          "jun",
          "jun",
          "jun",
          "jun",
          "jun",
          "jun",
          "jun",
          "jun",
          "jun",
          "jun",
          "jun",
          "jun",
          "jun",
          "jun",
          "jun",
          "jun",
          "jun",
          "jun",
          "jun",
          "jun",
          "jun",
          "jun",
          "jun",
          "jun",
          "jun",
          "jun",
          "jun",
          "jun",
          "jun",
          "jun",
          "jun",
          "nov",
          "nov",
          "nov",
          "nov",
          "nov",
          "nov",
          "nov",
          "nov",
          "nov",
          "nov",
          "nov",
          "nov",
          "nov",
          "nov",
          "nov",
          "nov",
          "nov",
          "nov",
          "nov",
          "nov",
          "nov",
          "nov",
          "nov",
          "nov",
          "nov",
          "nov",
          "nov",
          "nov",
          "nov",
          "nov",
          "nov",
          "nov",
          "nov",
          "nov",
          "nov",
          "nov",
          "nov",
          "nov",
          "mai",
          "mai",
          "mai",
          "mai",
          "mai",
          "mai",
          "mai",
          "mai",
          "mai",
          "mai",
          "mai",
          "mai",
          "mai",
          "mai",
          "mai",
          "mai",
          "mai",
          "mai",
          "mai",
          "mai",
          "mai",
          "mai",
          "mai",
          "mai",
          "mai",
          "mai",
          "mai",
          "mai",
          "mai",
          "mai",
          "mai",
          "mai",
          "mai",
          "fev",
          "fev",
          "fev",
          "fev",
          "fev",
          "fev",
          "fev",
          "fev",
          "fev",
          "fev",
          "fev",
          "fev",
          "fev",
          "fev",
          "fev",
          "fev",
          "fev",
          "fev",
          "fev",
          "fev",
          "fev",
          "fev",
          "fev",
          "fev",
          "fev",
          "fev",
          "fev",
          "fev",
          "fev",
          "fev",
          "fev",
          "fev",
          "fev",
          "fev",
          "fev",
          "fev",
          "fev",
          "fev",
          "abril",
          "abril",
          "abril",
          "abril",
          "abril",
          "abril",
          "abril",
          "abril",
          "abril",
          "abril",
          "abril",
          "abril",
          "abril",
          "abril",
          "abril",
          "abril",
          "abril",
          "abril",
          "abril",
          "abril",
          "abril",
          "abril",
          "abril",
          "abril",
          "abril",
          "abril",
          "abril",
          "abril",
          "abril",
          "abril",
          "abril",
          "abril",
          "abril",
          "abril",
          "abril",
          "abril",
          "abril",
          "mar",
          "mar",
          "mar",
          "mar",
          "mar",
          "mar",
          "mar",
          "mar",
          "mar",
          "mar",
          "mar",
          "mar",
          "mar",
          "mar",
          "mar",
          "mar",
          "mar",
          "mar",
          "mar",
          "mar",
          "mar",
          "mar",
          "mar",
          "mar",
          "mar",
          "mar",
          "mar",
          "mar",
          "mar",
          "mar",
          "mar",
          "mar",
          "mar",
          "mar",
          "mar",
          "mar",
          "mar"
         ],
         "yaxis": "y"
        }
       ],
       "layout": {
        "barmode": "relative",
        "height": 500,
        "legend": {
         "tracegroupgap": 0
        },
        "template": {
         "data": {
          "bar": [
           {
            "error_x": {
             "color": "#2a3f5f"
            },
            "error_y": {
             "color": "#2a3f5f"
            },
            "marker": {
             "line": {
              "color": "#E5ECF6",
              "width": 0.5
             },
             "pattern": {
              "fillmode": "overlay",
              "size": 10,
              "solidity": 0.2
             }
            },
            "type": "bar"
           }
          ],
          "barpolar": [
           {
            "marker": {
             "line": {
              "color": "#E5ECF6",
              "width": 0.5
             },
             "pattern": {
              "fillmode": "overlay",
              "size": 10,
              "solidity": 0.2
             }
            },
            "type": "barpolar"
           }
          ],
          "carpet": [
           {
            "aaxis": {
             "endlinecolor": "#2a3f5f",
             "gridcolor": "white",
             "linecolor": "white",
             "minorgridcolor": "white",
             "startlinecolor": "#2a3f5f"
            },
            "baxis": {
             "endlinecolor": "#2a3f5f",
             "gridcolor": "white",
             "linecolor": "white",
             "minorgridcolor": "white",
             "startlinecolor": "#2a3f5f"
            },
            "type": "carpet"
           }
          ],
          "choropleth": [
           {
            "colorbar": {
             "outlinewidth": 0,
             "ticks": ""
            },
            "type": "choropleth"
           }
          ],
          "contour": [
           {
            "colorbar": {
             "outlinewidth": 0,
             "ticks": ""
            },
            "colorscale": [
             [
              0,
              "#0d0887"
             ],
             [
              0.1111111111111111,
              "#46039f"
             ],
             [
              0.2222222222222222,
              "#7201a8"
             ],
             [
              0.3333333333333333,
              "#9c179e"
             ],
             [
              0.4444444444444444,
              "#bd3786"
             ],
             [
              0.5555555555555556,
              "#d8576b"
             ],
             [
              0.6666666666666666,
              "#ed7953"
             ],
             [
              0.7777777777777778,
              "#fb9f3a"
             ],
             [
              0.8888888888888888,
              "#fdca26"
             ],
             [
              1,
              "#f0f921"
             ]
            ],
            "type": "contour"
           }
          ],
          "contourcarpet": [
           {
            "colorbar": {
             "outlinewidth": 0,
             "ticks": ""
            },
            "type": "contourcarpet"
           }
          ],
          "heatmap": [
           {
            "colorbar": {
             "outlinewidth": 0,
             "ticks": ""
            },
            "colorscale": [
             [
              0,
              "#0d0887"
             ],
             [
              0.1111111111111111,
              "#46039f"
             ],
             [
              0.2222222222222222,
              "#7201a8"
             ],
             [
              0.3333333333333333,
              "#9c179e"
             ],
             [
              0.4444444444444444,
              "#bd3786"
             ],
             [
              0.5555555555555556,
              "#d8576b"
             ],
             [
              0.6666666666666666,
              "#ed7953"
             ],
             [
              0.7777777777777778,
              "#fb9f3a"
             ],
             [
              0.8888888888888888,
              "#fdca26"
             ],
             [
              1,
              "#f0f921"
             ]
            ],
            "type": "heatmap"
           }
          ],
          "heatmapgl": [
           {
            "colorbar": {
             "outlinewidth": 0,
             "ticks": ""
            },
            "colorscale": [
             [
              0,
              "#0d0887"
             ],
             [
              0.1111111111111111,
              "#46039f"
             ],
             [
              0.2222222222222222,
              "#7201a8"
             ],
             [
              0.3333333333333333,
              "#9c179e"
             ],
             [
              0.4444444444444444,
              "#bd3786"
             ],
             [
              0.5555555555555556,
              "#d8576b"
             ],
             [
              0.6666666666666666,
              "#ed7953"
             ],
             [
              0.7777777777777778,
              "#fb9f3a"
             ],
             [
              0.8888888888888888,
              "#fdca26"
             ],
             [
              1,
              "#f0f921"
             ]
            ],
            "type": "heatmapgl"
           }
          ],
          "histogram": [
           {
            "marker": {
             "pattern": {
              "fillmode": "overlay",
              "size": 10,
              "solidity": 0.2
             }
            },
            "type": "histogram"
           }
          ],
          "histogram2d": [
           {
            "colorbar": {
             "outlinewidth": 0,
             "ticks": ""
            },
            "colorscale": [
             [
              0,
              "#0d0887"
             ],
             [
              0.1111111111111111,
              "#46039f"
             ],
             [
              0.2222222222222222,
              "#7201a8"
             ],
             [
              0.3333333333333333,
              "#9c179e"
             ],
             [
              0.4444444444444444,
              "#bd3786"
             ],
             [
              0.5555555555555556,
              "#d8576b"
             ],
             [
              0.6666666666666666,
              "#ed7953"
             ],
             [
              0.7777777777777778,
              "#fb9f3a"
             ],
             [
              0.8888888888888888,
              "#fdca26"
             ],
             [
              1,
              "#f0f921"
             ]
            ],
            "type": "histogram2d"
           }
          ],
          "histogram2dcontour": [
           {
            "colorbar": {
             "outlinewidth": 0,
             "ticks": ""
            },
            "colorscale": [
             [
              0,
              "#0d0887"
             ],
             [
              0.1111111111111111,
              "#46039f"
             ],
             [
              0.2222222222222222,
              "#7201a8"
             ],
             [
              0.3333333333333333,
              "#9c179e"
             ],
             [
              0.4444444444444444,
              "#bd3786"
             ],
             [
              0.5555555555555556,
              "#d8576b"
             ],
             [
              0.6666666666666666,
              "#ed7953"
             ],
             [
              0.7777777777777778,
              "#fb9f3a"
             ],
             [
              0.8888888888888888,
              "#fdca26"
             ],
             [
              1,
              "#f0f921"
             ]
            ],
            "type": "histogram2dcontour"
           }
          ],
          "mesh3d": [
           {
            "colorbar": {
             "outlinewidth": 0,
             "ticks": ""
            },
            "type": "mesh3d"
           }
          ],
          "parcoords": [
           {
            "line": {
             "colorbar": {
              "outlinewidth": 0,
              "ticks": ""
             }
            },
            "type": "parcoords"
           }
          ],
          "pie": [
           {
            "automargin": true,
            "type": "pie"
           }
          ],
          "scatter": [
           {
            "fillpattern": {
             "fillmode": "overlay",
             "size": 10,
             "solidity": 0.2
            },
            "type": "scatter"
           }
          ],
          "scatter3d": [
           {
            "line": {
             "colorbar": {
              "outlinewidth": 0,
              "ticks": ""
             }
            },
            "marker": {
             "colorbar": {
              "outlinewidth": 0,
              "ticks": ""
             }
            },
            "type": "scatter3d"
           }
          ],
          "scattercarpet": [
           {
            "marker": {
             "colorbar": {
              "outlinewidth": 0,
              "ticks": ""
             }
            },
            "type": "scattercarpet"
           }
          ],
          "scattergeo": [
           {
            "marker": {
             "colorbar": {
              "outlinewidth": 0,
              "ticks": ""
             }
            },
            "type": "scattergeo"
           }
          ],
          "scattergl": [
           {
            "marker": {
             "colorbar": {
              "outlinewidth": 0,
              "ticks": ""
             }
            },
            "type": "scattergl"
           }
          ],
          "scattermapbox": [
           {
            "marker": {
             "colorbar": {
              "outlinewidth": 0,
              "ticks": ""
             }
            },
            "type": "scattermapbox"
           }
          ],
          "scatterpolar": [
           {
            "marker": {
             "colorbar": {
              "outlinewidth": 0,
              "ticks": ""
             }
            },
            "type": "scatterpolar"
           }
          ],
          "scatterpolargl": [
           {
            "marker": {
             "colorbar": {
              "outlinewidth": 0,
              "ticks": ""
             }
            },
            "type": "scatterpolargl"
           }
          ],
          "scatterternary": [
           {
            "marker": {
             "colorbar": {
              "outlinewidth": 0,
              "ticks": ""
             }
            },
            "type": "scatterternary"
           }
          ],
          "surface": [
           {
            "colorbar": {
             "outlinewidth": 0,
             "ticks": ""
            },
            "colorscale": [
             [
              0,
              "#0d0887"
             ],
             [
              0.1111111111111111,
              "#46039f"
             ],
             [
              0.2222222222222222,
              "#7201a8"
             ],
             [
              0.3333333333333333,
              "#9c179e"
             ],
             [
              0.4444444444444444,
              "#bd3786"
             ],
             [
              0.5555555555555556,
              "#d8576b"
             ],
             [
              0.6666666666666666,
              "#ed7953"
             ],
             [
              0.7777777777777778,
              "#fb9f3a"
             ],
             [
              0.8888888888888888,
              "#fdca26"
             ],
             [
              1,
              "#f0f921"
             ]
            ],
            "type": "surface"
           }
          ],
          "table": [
           {
            "cells": {
             "fill": {
              "color": "#EBF0F8"
             },
             "line": {
              "color": "white"
             }
            },
            "header": {
             "fill": {
              "color": "#C8D4E3"
             },
             "line": {
              "color": "white"
             }
            },
            "type": "table"
           }
          ]
         },
         "layout": {
          "annotationdefaults": {
           "arrowcolor": "#2a3f5f",
           "arrowhead": 0,
           "arrowwidth": 1
          },
          "autotypenumbers": "strict",
          "coloraxis": {
           "colorbar": {
            "outlinewidth": 0,
            "ticks": ""
           }
          },
          "colorscale": {
           "diverging": [
            [
             0,
             "#8e0152"
            ],
            [
             0.1,
             "#c51b7d"
            ],
            [
             0.2,
             "#de77ae"
            ],
            [
             0.3,
             "#f1b6da"
            ],
            [
             0.4,
             "#fde0ef"
            ],
            [
             0.5,
             "#f7f7f7"
            ],
            [
             0.6,
             "#e6f5d0"
            ],
            [
             0.7,
             "#b8e186"
            ],
            [
             0.8,
             "#7fbc41"
            ],
            [
             0.9,
             "#4d9221"
            ],
            [
             1,
             "#276419"
            ]
           ],
           "sequential": [
            [
             0,
             "#0d0887"
            ],
            [
             0.1111111111111111,
             "#46039f"
            ],
            [
             0.2222222222222222,
             "#7201a8"
            ],
            [
             0.3333333333333333,
             "#9c179e"
            ],
            [
             0.4444444444444444,
             "#bd3786"
            ],
            [
             0.5555555555555556,
             "#d8576b"
            ],
            [
             0.6666666666666666,
             "#ed7953"
            ],
            [
             0.7777777777777778,
             "#fb9f3a"
            ],
            [
             0.8888888888888888,
             "#fdca26"
            ],
            [
             1,
             "#f0f921"
            ]
           ],
           "sequentialminus": [
            [
             0,
             "#0d0887"
            ],
            [
             0.1111111111111111,
             "#46039f"
            ],
            [
             0.2222222222222222,
             "#7201a8"
            ],
            [
             0.3333333333333333,
             "#9c179e"
            ],
            [
             0.4444444444444444,
             "#bd3786"
            ],
            [
             0.5555555555555556,
             "#d8576b"
            ],
            [
             0.6666666666666666,
             "#ed7953"
            ],
            [
             0.7777777777777778,
             "#fb9f3a"
            ],
            [
             0.8888888888888888,
             "#fdca26"
            ],
            [
             1,
             "#f0f921"
            ]
           ]
          },
          "colorway": [
           "#636efa",
           "#EF553B",
           "#00cc96",
           "#ab63fa",
           "#FFA15A",
           "#19d3f3",
           "#FF6692",
           "#B6E880",
           "#FF97FF",
           "#FECB52"
          ],
          "font": {
           "color": "#2a3f5f"
          },
          "geo": {
           "bgcolor": "white",
           "lakecolor": "white",
           "landcolor": "#E5ECF6",
           "showlakes": true,
           "showland": true,
           "subunitcolor": "white"
          },
          "hoverlabel": {
           "align": "left"
          },
          "hovermode": "closest",
          "mapbox": {
           "style": "light"
          },
          "paper_bgcolor": "white",
          "plot_bgcolor": "#E5ECF6",
          "polar": {
           "angularaxis": {
            "gridcolor": "white",
            "linecolor": "white",
            "ticks": ""
           },
           "bgcolor": "#E5ECF6",
           "radialaxis": {
            "gridcolor": "white",
            "linecolor": "white",
            "ticks": ""
           }
          },
          "scene": {
           "xaxis": {
            "backgroundcolor": "#E5ECF6",
            "gridcolor": "white",
            "gridwidth": 2,
            "linecolor": "white",
            "showbackground": true,
            "ticks": "",
            "zerolinecolor": "white"
           },
           "yaxis": {
            "backgroundcolor": "#E5ECF6",
            "gridcolor": "white",
            "gridwidth": 2,
            "linecolor": "white",
            "showbackground": true,
            "ticks": "",
            "zerolinecolor": "white"
           },
           "zaxis": {
            "backgroundcolor": "#E5ECF6",
            "gridcolor": "white",
            "gridwidth": 2,
            "linecolor": "white",
            "showbackground": true,
            "ticks": "",
            "zerolinecolor": "white"
           }
          },
          "shapedefaults": {
           "line": {
            "color": "#2a3f5f"
           }
          },
          "ternary": {
           "aaxis": {
            "gridcolor": "white",
            "linecolor": "white",
            "ticks": ""
           },
           "baxis": {
            "gridcolor": "white",
            "linecolor": "white",
            "ticks": ""
           },
           "bgcolor": "#E5ECF6",
           "caxis": {
            "gridcolor": "white",
            "linecolor": "white",
            "ticks": ""
           }
          },
          "title": {
           "x": 0.05
          },
          "xaxis": {
           "automargin": true,
           "gridcolor": "white",
           "linecolor": "white",
           "ticks": "",
           "title": {
            "standoff": 15
           },
           "zerolinecolor": "white",
           "zerolinewidth": 2
          },
          "yaxis": {
           "automargin": true,
           "gridcolor": "white",
           "linecolor": "white",
           "ticks": "",
           "title": {
            "standoff": 15
           },
           "zerolinecolor": "white",
           "zerolinewidth": 2
          }
         }
        },
        "title": {
         "text": "Total de portes de arma por mês na categoria Defesa Pessoal"
        },
        "xaxis": {
         "anchor": "y",
         "domain": [
          0,
          1
         ],
         "title": {
          "text": "TOTAL"
         }
        },
        "yaxis": {
         "anchor": "x",
         "domain": [
          0,
          1
         ],
         "title": {
          "text": "MES"
         }
        }
       }
      },
      "text/html": [
       "<div>                            <div id=\"97643aff-ebfa-4fa3-ad00-820b1afb9206\" class=\"plotly-graph-div\" style=\"height:500px; width:100%;\"></div>            <script type=\"text/javascript\">                require([\"plotly\"], function(Plotly) {                    window.PLOTLYENV=window.PLOTLYENV || {};                                    if (document.getElementById(\"97643aff-ebfa-4fa3-ad00-820b1afb9206\")) {                    Plotly.newPlot(                        \"97643aff-ebfa-4fa3-ad00-820b1afb9206\",                        [{\"alignmentgroup\":\"True\",\"hovertemplate\":\"TOTAL=%{x}<br>MES=%{y}<extra></extra>\",\"legendgroup\":\"\",\"marker\":{\"color\":\"#1F77B4\",\"pattern\":{\"shape\":\"\"}},\"name\":\"\",\"offsetgroup\":\"\",\"orientation\":\"h\",\"showlegend\":false,\"textposition\":\"auto\",\"x\":[3,1,12,1,1,1,2,1,2,30,19,60,3,18,2,5,7,44,8,22,1,9,3,10,2,17,7,1,4,1,12,40,5,12,3,29,3,7,32,1,1,1,1,16,4,1,3,22,56,59,1,25,1,2,3,32,14,2,13,1,5,3,9,2,1,41,3,5,1,91,6,7,18,2,36,10,1,6,1,3,1,2,1,2,2,6,30,87,38,2,17,1,7,11,8,1,1,5,3,1,1,1,6,31,3,3,1,10,1,123,14,5,24,1,6,38,8,2,4,11,8,1,3,36,36,27,1,7,4,2,6,10,1,6,2,14,1,1,1,5,2,42,1,10,91,5,7,25,7,23,1,2,5,26,2,2,9,2,6,40,46,39,2,22,1,5,26,2,18,3,1,9,1,3,2,13,7,2,52,1,2,1,141,4,7,17,2,27,1,1,11,1,2,12,1,4,29,26,34,1,23,1,5,22,11,4,2,2,6,11,3,1,22,3,3,2,105,8,4,9,1,1,10,1,5,16,1,2,4,53,94,62,1,15,2,13,2,23,5,4,2,5,1,9,1,1,5,5,21,3,3,1,1,96,8,5,13,2,29,1,12,1,1,8,2,1,6,1,7,38,29,41,2,14,2,2,8,9,2,7,8,2,3,13,3,26,1,1,2,1,86,4,4,16,4,1,34,1,4,5,2,4,3,30,59,46,9,2,2,1,16,15,2,8,5,11,1,1,18,1,18,1,4,87,5,4,11,1,1,18,1,5,19,3,1,1,1,2,23,29,54,3,34,3,6,1,1,9,2,8,13,1,3,7,2,2,14,4,1,9,1,2,1,134,16,12,4,17,3,3,24,1,3,1,3,1,3,58,59,20,2,16,5,2,19,1,21,17,1,7,1,1,16,2,10,5,1,4,1,83,10,7,11,2,27,1,1,30,5,1,1,2,2,46,60,44,2,1,19,4,2,39,2,16,11,3,4,1,2,8,5,4,5,7,2,78,4,8,5,1,44,2,1],\"xaxis\":\"x\",\"y\":[\"jan\",\"jan\",\"jan\",\"jan\",\"jan\",\"jan\",\"jan\",\"jan\",\"jan\",\"jan\",\"jan\",\"jan\",\"jan\",\"jan\",\"jan\",\"jan\",\"jan\",\"jan\",\"jan\",\"jan\",\"jan\",\"jan\",\"jan\",\"jan\",\"jan\",\"jan\",\"jan\",\"jan\",\"jan\",\"jan\",\"jan\",\"jan\",\"jan\",\"jan\",\"jan\",\"jan\",\"jan\",\"ago\",\"ago\",\"ago\",\"ago\",\"ago\",\"ago\",\"ago\",\"ago\",\"ago\",\"ago\",\"ago\",\"ago\",\"ago\",\"ago\",\"ago\",\"ago\",\"ago\",\"ago\",\"ago\",\"ago\",\"ago\",\"ago\",\"ago\",\"ago\",\"ago\",\"ago\",\"ago\",\"ago\",\"ago\",\"ago\",\"ago\",\"ago\",\"ago\",\"ago\",\"ago\",\"ago\",\"ago\",\"ago\",\"dez\",\"dez\",\"dez\",\"dez\",\"dez\",\"dez\",\"dez\",\"dez\",\"dez\",\"dez\",\"dez\",\"dez\",\"dez\",\"dez\",\"dez\",\"dez\",\"dez\",\"dez\",\"dez\",\"dez\",\"dez\",\"dez\",\"dez\",\"dez\",\"dez\",\"dez\",\"dez\",\"dez\",\"dez\",\"dez\",\"dez\",\"dez\",\"dez\",\"dez\",\"dez\",\"dez\",\"dez\",\"dez\",\"dez\",\"dez\",\"dez\",\"dez\",\"dez\",\"out\",\"out\",\"out\",\"out\",\"out\",\"out\",\"out\",\"out\",\"out\",\"out\",\"out\",\"out\",\"out\",\"out\",\"out\",\"out\",\"out\",\"out\",\"out\",\"out\",\"out\",\"out\",\"out\",\"out\",\"out\",\"out\",\"out\",\"out\",\"out\",\"out\",\"out\",\"out\",\"out\",\"out\",\"set\",\"set\",\"set\",\"set\",\"set\",\"set\",\"set\",\"set\",\"set\",\"set\",\"set\",\"set\",\"set\",\"set\",\"set\",\"set\",\"set\",\"set\",\"set\",\"set\",\"set\",\"set\",\"set\",\"set\",\"set\",\"set\",\"set\",\"set\",\"set\",\"set\",\"set\",\"set\",\"set\",\"set\",\"set\",\"set\",\"set\",\"jul\",\"jul\",\"jul\",\"jul\",\"jul\",\"jul\",\"jul\",\"jul\",\"jul\",\"jul\",\"jul\",\"jul\",\"jul\",\"jul\",\"jul\",\"jul\",\"jul\",\"jul\",\"jul\",\"jul\",\"jul\",\"jul\",\"jul\",\"jul\",\"jul\",\"jul\",\"jul\",\"jul\",\"jul\",\"jul\",\"jul\",\"jul\",\"jul\",\"jul\",\"jul\",\"jun\",\"jun\",\"jun\",\"jun\",\"jun\",\"jun\",\"jun\",\"jun\",\"jun\",\"jun\",\"jun\",\"jun\",\"jun\",\"jun\",\"jun\",\"jun\",\"jun\",\"jun\",\"jun\",\"jun\",\"jun\",\"jun\",\"jun\",\"jun\",\"jun\",\"jun\",\"jun\",\"jun\",\"jun\",\"jun\",\"jun\",\"jun\",\"jun\",\"jun\",\"jun\",\"jun\",\"nov\",\"nov\",\"nov\",\"nov\",\"nov\",\"nov\",\"nov\",\"nov\",\"nov\",\"nov\",\"nov\",\"nov\",\"nov\",\"nov\",\"nov\",\"nov\",\"nov\",\"nov\",\"nov\",\"nov\",\"nov\",\"nov\",\"nov\",\"nov\",\"nov\",\"nov\",\"nov\",\"nov\",\"nov\",\"nov\",\"nov\",\"nov\",\"nov\",\"nov\",\"nov\",\"nov\",\"nov\",\"nov\",\"mai\",\"mai\",\"mai\",\"mai\",\"mai\",\"mai\",\"mai\",\"mai\",\"mai\",\"mai\",\"mai\",\"mai\",\"mai\",\"mai\",\"mai\",\"mai\",\"mai\",\"mai\",\"mai\",\"mai\",\"mai\",\"mai\",\"mai\",\"mai\",\"mai\",\"mai\",\"mai\",\"mai\",\"mai\",\"mai\",\"mai\",\"mai\",\"mai\",\"fev\",\"fev\",\"fev\",\"fev\",\"fev\",\"fev\",\"fev\",\"fev\",\"fev\",\"fev\",\"fev\",\"fev\",\"fev\",\"fev\",\"fev\",\"fev\",\"fev\",\"fev\",\"fev\",\"fev\",\"fev\",\"fev\",\"fev\",\"fev\",\"fev\",\"fev\",\"fev\",\"fev\",\"fev\",\"fev\",\"fev\",\"fev\",\"fev\",\"fev\",\"fev\",\"fev\",\"fev\",\"fev\",\"abril\",\"abril\",\"abril\",\"abril\",\"abril\",\"abril\",\"abril\",\"abril\",\"abril\",\"abril\",\"abril\",\"abril\",\"abril\",\"abril\",\"abril\",\"abril\",\"abril\",\"abril\",\"abril\",\"abril\",\"abril\",\"abril\",\"abril\",\"abril\",\"abril\",\"abril\",\"abril\",\"abril\",\"abril\",\"abril\",\"abril\",\"abril\",\"abril\",\"abril\",\"abril\",\"abril\",\"abril\",\"mar\",\"mar\",\"mar\",\"mar\",\"mar\",\"mar\",\"mar\",\"mar\",\"mar\",\"mar\",\"mar\",\"mar\",\"mar\",\"mar\",\"mar\",\"mar\",\"mar\",\"mar\",\"mar\",\"mar\",\"mar\",\"mar\",\"mar\",\"mar\",\"mar\",\"mar\",\"mar\",\"mar\",\"mar\",\"mar\",\"mar\",\"mar\",\"mar\",\"mar\",\"mar\",\"mar\",\"mar\"],\"yaxis\":\"y\",\"type\":\"bar\"}],                        {\"template\":{\"data\":{\"histogram2dcontour\":[{\"type\":\"histogram2dcontour\",\"colorbar\":{\"outlinewidth\":0,\"ticks\":\"\"},\"colorscale\":[[0.0,\"#0d0887\"],[0.1111111111111111,\"#46039f\"],[0.2222222222222222,\"#7201a8\"],[0.3333333333333333,\"#9c179e\"],[0.4444444444444444,\"#bd3786\"],[0.5555555555555556,\"#d8576b\"],[0.6666666666666666,\"#ed7953\"],[0.7777777777777778,\"#fb9f3a\"],[0.8888888888888888,\"#fdca26\"],[1.0,\"#f0f921\"]]}],\"choropleth\":[{\"type\":\"choropleth\",\"colorbar\":{\"outlinewidth\":0,\"ticks\":\"\"}}],\"histogram2d\":[{\"type\":\"histogram2d\",\"colorbar\":{\"outlinewidth\":0,\"ticks\":\"\"},\"colorscale\":[[0.0,\"#0d0887\"],[0.1111111111111111,\"#46039f\"],[0.2222222222222222,\"#7201a8\"],[0.3333333333333333,\"#9c179e\"],[0.4444444444444444,\"#bd3786\"],[0.5555555555555556,\"#d8576b\"],[0.6666666666666666,\"#ed7953\"],[0.7777777777777778,\"#fb9f3a\"],[0.8888888888888888,\"#fdca26\"],[1.0,\"#f0f921\"]]}],\"heatmap\":[{\"type\":\"heatmap\",\"colorbar\":{\"outlinewidth\":0,\"ticks\":\"\"},\"colorscale\":[[0.0,\"#0d0887\"],[0.1111111111111111,\"#46039f\"],[0.2222222222222222,\"#7201a8\"],[0.3333333333333333,\"#9c179e\"],[0.4444444444444444,\"#bd3786\"],[0.5555555555555556,\"#d8576b\"],[0.6666666666666666,\"#ed7953\"],[0.7777777777777778,\"#fb9f3a\"],[0.8888888888888888,\"#fdca26\"],[1.0,\"#f0f921\"]]}],\"heatmapgl\":[{\"type\":\"heatmapgl\",\"colorbar\":{\"outlinewidth\":0,\"ticks\":\"\"},\"colorscale\":[[0.0,\"#0d0887\"],[0.1111111111111111,\"#46039f\"],[0.2222222222222222,\"#7201a8\"],[0.3333333333333333,\"#9c179e\"],[0.4444444444444444,\"#bd3786\"],[0.5555555555555556,\"#d8576b\"],[0.6666666666666666,\"#ed7953\"],[0.7777777777777778,\"#fb9f3a\"],[0.8888888888888888,\"#fdca26\"],[1.0,\"#f0f921\"]]}],\"contourcarpet\":[{\"type\":\"contourcarpet\",\"colorbar\":{\"outlinewidth\":0,\"ticks\":\"\"}}],\"contour\":[{\"type\":\"contour\",\"colorbar\":{\"outlinewidth\":0,\"ticks\":\"\"},\"colorscale\":[[0.0,\"#0d0887\"],[0.1111111111111111,\"#46039f\"],[0.2222222222222222,\"#7201a8\"],[0.3333333333333333,\"#9c179e\"],[0.4444444444444444,\"#bd3786\"],[0.5555555555555556,\"#d8576b\"],[0.6666666666666666,\"#ed7953\"],[0.7777777777777778,\"#fb9f3a\"],[0.8888888888888888,\"#fdca26\"],[1.0,\"#f0f921\"]]}],\"surface\":[{\"type\":\"surface\",\"colorbar\":{\"outlinewidth\":0,\"ticks\":\"\"},\"colorscale\":[[0.0,\"#0d0887\"],[0.1111111111111111,\"#46039f\"],[0.2222222222222222,\"#7201a8\"],[0.3333333333333333,\"#9c179e\"],[0.4444444444444444,\"#bd3786\"],[0.5555555555555556,\"#d8576b\"],[0.6666666666666666,\"#ed7953\"],[0.7777777777777778,\"#fb9f3a\"],[0.8888888888888888,\"#fdca26\"],[1.0,\"#f0f921\"]]}],\"mesh3d\":[{\"type\":\"mesh3d\",\"colorbar\":{\"outlinewidth\":0,\"ticks\":\"\"}}],\"scatter\":[{\"fillpattern\":{\"fillmode\":\"overlay\",\"size\":10,\"solidity\":0.2},\"type\":\"scatter\"}],\"parcoords\":[{\"type\":\"parcoords\",\"line\":{\"colorbar\":{\"outlinewidth\":0,\"ticks\":\"\"}}}],\"scatterpolargl\":[{\"type\":\"scatterpolargl\",\"marker\":{\"colorbar\":{\"outlinewidth\":0,\"ticks\":\"\"}}}],\"bar\":[{\"error_x\":{\"color\":\"#2a3f5f\"},\"error_y\":{\"color\":\"#2a3f5f\"},\"marker\":{\"line\":{\"color\":\"#E5ECF6\",\"width\":0.5},\"pattern\":{\"fillmode\":\"overlay\",\"size\":10,\"solidity\":0.2}},\"type\":\"bar\"}],\"scattergeo\":[{\"type\":\"scattergeo\",\"marker\":{\"colorbar\":{\"outlinewidth\":0,\"ticks\":\"\"}}}],\"scatterpolar\":[{\"type\":\"scatterpolar\",\"marker\":{\"colorbar\":{\"outlinewidth\":0,\"ticks\":\"\"}}}],\"histogram\":[{\"marker\":{\"pattern\":{\"fillmode\":\"overlay\",\"size\":10,\"solidity\":0.2}},\"type\":\"histogram\"}],\"scattergl\":[{\"type\":\"scattergl\",\"marker\":{\"colorbar\":{\"outlinewidth\":0,\"ticks\":\"\"}}}],\"scatter3d\":[{\"type\":\"scatter3d\",\"line\":{\"colorbar\":{\"outlinewidth\":0,\"ticks\":\"\"}},\"marker\":{\"colorbar\":{\"outlinewidth\":0,\"ticks\":\"\"}}}],\"scattermapbox\":[{\"type\":\"scattermapbox\",\"marker\":{\"colorbar\":{\"outlinewidth\":0,\"ticks\":\"\"}}}],\"scatterternary\":[{\"type\":\"scatterternary\",\"marker\":{\"colorbar\":{\"outlinewidth\":0,\"ticks\":\"\"}}}],\"scattercarpet\":[{\"type\":\"scattercarpet\",\"marker\":{\"colorbar\":{\"outlinewidth\":0,\"ticks\":\"\"}}}],\"carpet\":[{\"aaxis\":{\"endlinecolor\":\"#2a3f5f\",\"gridcolor\":\"white\",\"linecolor\":\"white\",\"minorgridcolor\":\"white\",\"startlinecolor\":\"#2a3f5f\"},\"baxis\":{\"endlinecolor\":\"#2a3f5f\",\"gridcolor\":\"white\",\"linecolor\":\"white\",\"minorgridcolor\":\"white\",\"startlinecolor\":\"#2a3f5f\"},\"type\":\"carpet\"}],\"table\":[{\"cells\":{\"fill\":{\"color\":\"#EBF0F8\"},\"line\":{\"color\":\"white\"}},\"header\":{\"fill\":{\"color\":\"#C8D4E3\"},\"line\":{\"color\":\"white\"}},\"type\":\"table\"}],\"barpolar\":[{\"marker\":{\"line\":{\"color\":\"#E5ECF6\",\"width\":0.5},\"pattern\":{\"fillmode\":\"overlay\",\"size\":10,\"solidity\":0.2}},\"type\":\"barpolar\"}],\"pie\":[{\"automargin\":true,\"type\":\"pie\"}]},\"layout\":{\"autotypenumbers\":\"strict\",\"colorway\":[\"#636efa\",\"#EF553B\",\"#00cc96\",\"#ab63fa\",\"#FFA15A\",\"#19d3f3\",\"#FF6692\",\"#B6E880\",\"#FF97FF\",\"#FECB52\"],\"font\":{\"color\":\"#2a3f5f\"},\"hovermode\":\"closest\",\"hoverlabel\":{\"align\":\"left\"},\"paper_bgcolor\":\"white\",\"plot_bgcolor\":\"#E5ECF6\",\"polar\":{\"bgcolor\":\"#E5ECF6\",\"angularaxis\":{\"gridcolor\":\"white\",\"linecolor\":\"white\",\"ticks\":\"\"},\"radialaxis\":{\"gridcolor\":\"white\",\"linecolor\":\"white\",\"ticks\":\"\"}},\"ternary\":{\"bgcolor\":\"#E5ECF6\",\"aaxis\":{\"gridcolor\":\"white\",\"linecolor\":\"white\",\"ticks\":\"\"},\"baxis\":{\"gridcolor\":\"white\",\"linecolor\":\"white\",\"ticks\":\"\"},\"caxis\":{\"gridcolor\":\"white\",\"linecolor\":\"white\",\"ticks\":\"\"}},\"coloraxis\":{\"colorbar\":{\"outlinewidth\":0,\"ticks\":\"\"}},\"colorscale\":{\"sequential\":[[0.0,\"#0d0887\"],[0.1111111111111111,\"#46039f\"],[0.2222222222222222,\"#7201a8\"],[0.3333333333333333,\"#9c179e\"],[0.4444444444444444,\"#bd3786\"],[0.5555555555555556,\"#d8576b\"],[0.6666666666666666,\"#ed7953\"],[0.7777777777777778,\"#fb9f3a\"],[0.8888888888888888,\"#fdca26\"],[1.0,\"#f0f921\"]],\"sequentialminus\":[[0.0,\"#0d0887\"],[0.1111111111111111,\"#46039f\"],[0.2222222222222222,\"#7201a8\"],[0.3333333333333333,\"#9c179e\"],[0.4444444444444444,\"#bd3786\"],[0.5555555555555556,\"#d8576b\"],[0.6666666666666666,\"#ed7953\"],[0.7777777777777778,\"#fb9f3a\"],[0.8888888888888888,\"#fdca26\"],[1.0,\"#f0f921\"]],\"diverging\":[[0,\"#8e0152\"],[0.1,\"#c51b7d\"],[0.2,\"#de77ae\"],[0.3,\"#f1b6da\"],[0.4,\"#fde0ef\"],[0.5,\"#f7f7f7\"],[0.6,\"#e6f5d0\"],[0.7,\"#b8e186\"],[0.8,\"#7fbc41\"],[0.9,\"#4d9221\"],[1,\"#276419\"]]},\"xaxis\":{\"gridcolor\":\"white\",\"linecolor\":\"white\",\"ticks\":\"\",\"title\":{\"standoff\":15},\"zerolinecolor\":\"white\",\"automargin\":true,\"zerolinewidth\":2},\"yaxis\":{\"gridcolor\":\"white\",\"linecolor\":\"white\",\"ticks\":\"\",\"title\":{\"standoff\":15},\"zerolinecolor\":\"white\",\"automargin\":true,\"zerolinewidth\":2},\"scene\":{\"xaxis\":{\"backgroundcolor\":\"#E5ECF6\",\"gridcolor\":\"white\",\"linecolor\":\"white\",\"showbackground\":true,\"ticks\":\"\",\"zerolinecolor\":\"white\",\"gridwidth\":2},\"yaxis\":{\"backgroundcolor\":\"#E5ECF6\",\"gridcolor\":\"white\",\"linecolor\":\"white\",\"showbackground\":true,\"ticks\":\"\",\"zerolinecolor\":\"white\",\"gridwidth\":2},\"zaxis\":{\"backgroundcolor\":\"#E5ECF6\",\"gridcolor\":\"white\",\"linecolor\":\"white\",\"showbackground\":true,\"ticks\":\"\",\"zerolinecolor\":\"white\",\"gridwidth\":2}},\"shapedefaults\":{\"line\":{\"color\":\"#2a3f5f\"}},\"annotationdefaults\":{\"arrowcolor\":\"#2a3f5f\",\"arrowhead\":0,\"arrowwidth\":1},\"geo\":{\"bgcolor\":\"white\",\"landcolor\":\"#E5ECF6\",\"subunitcolor\":\"white\",\"showland\":true,\"showlakes\":true,\"lakecolor\":\"white\"},\"title\":{\"x\":0.05},\"mapbox\":{\"style\":\"light\"}}},\"xaxis\":{\"anchor\":\"y\",\"domain\":[0.0,1.0],\"title\":{\"text\":\"TOTAL\"}},\"yaxis\":{\"anchor\":\"x\",\"domain\":[0.0,1.0],\"title\":{\"text\":\"MES\"}},\"legend\":{\"tracegroupgap\":0},\"title\":{\"text\":\"Total de portes de arma por m\\u00eas na categoria Defesa Pessoal\"},\"barmode\":\"relative\",\"height\":500},                        {\"responsive\": true}                    ).then(function(){\n",
       "                            \n",
       "var gd = document.getElementById('97643aff-ebfa-4fa3-ad00-820b1afb9206');\n",
       "var x = new MutationObserver(function (mutations, observer) {{\n",
       "        var display = window.getComputedStyle(gd).display;\n",
       "        if (!display || display === 'none') {{\n",
       "            console.log([gd, 'removed!']);\n",
       "            Plotly.purge(gd);\n",
       "            observer.disconnect();\n",
       "        }}\n",
       "}});\n",
       "\n",
       "// Listen for the removal of the full notebook cells\n",
       "var notebookContainer = gd.closest('#notebook-container');\n",
       "if (notebookContainer) {{\n",
       "    x.observe(notebookContainer, {childList: true});\n",
       "}}\n",
       "\n",
       "// Listen for the clearing of the current output cell\n",
       "var outputEl = gd.closest('.output');\n",
       "if (outputEl) {{\n",
       "    x.observe(outputEl, {childList: true});\n",
       "}}\n",
       "\n",
       "                        })                };                });            </script>        </div>"
      ]
     },
     "metadata": {},
     "output_type": "display_data"
    }
   ],
   "source": [
    "fig = px.bar(defesa_pessoal, x='TOTAL', y='MES', \n",
    "             title='Total de portes de arma por mês na categoria Defesa Pessoal',  \n",
    "             height=500, color_discrete_sequence=px.colors.qualitative.D3)\n",
    "fig.show()"
   ]
  },
  {
   "cell_type": "code",
   "execution_count": 68,
   "id": "aa7c232d",
   "metadata": {},
   "outputs": [
    {
     "data": {
      "application/vnd.plotly.v1+json": {
       "config": {
        "plotlyServerURL": "https://plot.ly"
       },
       "data": [
        {
         "alignmentgroup": "True",
         "hovertemplate": "TOTAL=%{x}<br>ABRANGENCIA=%{y}<extra></extra>",
         "legendgroup": "",
         "marker": {
          "color": "#3366CC",
          "pattern": {
           "shape": ""
          }
         },
         "name": "",
         "offsetgroup": "",
         "orientation": "h",
         "showlegend": false,
         "textposition": "auto",
         "type": "bar",
         "x": [
          3,
          1,
          12,
          1,
          1,
          1,
          2,
          1,
          2,
          30,
          19,
          60,
          3,
          18,
          2,
          5,
          7,
          44,
          8,
          22,
          1,
          9,
          3,
          10,
          2,
          17,
          7,
          1,
          4,
          1,
          12,
          40,
          5,
          12,
          3,
          29,
          3,
          7,
          32,
          1,
          1,
          1,
          1,
          16,
          4,
          1,
          3,
          22,
          56,
          59,
          1,
          25,
          1,
          2,
          3,
          32,
          14,
          2,
          13,
          1,
          5,
          3,
          9,
          2,
          1,
          41,
          3,
          5,
          1,
          91,
          6,
          7,
          18,
          2,
          36,
          10,
          1,
          6,
          1,
          3,
          1,
          2,
          1,
          2,
          2,
          6,
          30,
          87,
          38,
          2,
          17,
          1,
          7,
          11,
          8,
          1,
          1,
          5,
          3,
          1,
          1,
          1,
          6,
          31,
          3,
          3,
          1,
          10,
          1,
          123,
          14,
          5,
          24,
          1,
          6,
          38,
          8,
          2,
          4,
          11,
          8,
          1,
          3,
          36,
          36,
          27,
          1,
          7,
          4,
          2,
          6,
          10,
          1,
          6,
          2,
          14,
          1,
          1,
          1,
          5,
          2,
          42,
          1,
          10,
          91,
          5,
          7,
          25,
          7,
          23,
          1,
          2,
          5,
          26,
          2,
          2,
          9,
          2,
          6,
          40,
          46,
          39,
          2,
          22,
          1,
          5,
          26,
          2,
          18,
          3,
          1,
          9,
          1,
          3,
          2,
          13,
          7,
          2,
          52,
          1,
          2,
          1,
          141,
          4,
          7,
          17,
          2,
          27,
          1,
          1,
          11,
          1,
          2,
          12,
          1,
          4,
          29,
          26,
          34,
          1,
          23,
          1,
          5,
          22,
          11,
          4,
          2,
          2,
          6,
          11,
          3,
          1,
          22,
          3,
          3,
          2,
          105,
          8,
          4,
          9,
          1,
          1,
          10,
          1,
          5,
          16,
          1,
          2,
          4,
          53,
          94,
          62,
          1,
          15,
          2,
          13,
          2,
          23,
          5,
          4,
          2,
          5,
          1,
          9,
          1,
          1,
          5,
          5,
          21,
          3,
          3,
          1,
          1,
          96,
          8,
          5,
          13,
          2,
          29,
          1,
          12,
          1,
          1,
          8,
          2,
          1,
          6,
          1,
          7,
          38,
          29,
          41,
          2,
          14,
          2,
          2,
          8,
          9,
          2,
          7,
          8,
          2,
          3,
          13,
          3,
          26,
          1,
          1,
          2,
          1,
          86,
          4,
          4,
          16,
          4,
          1,
          34,
          1,
          4,
          5,
          2,
          4,
          3,
          30,
          59,
          46,
          9,
          2,
          2,
          1,
          16,
          15,
          2,
          8,
          5,
          11,
          1,
          1,
          18,
          1,
          18,
          1,
          4,
          87,
          5,
          4,
          11,
          1,
          1,
          18,
          1,
          5,
          19,
          3,
          1,
          1,
          1,
          2,
          23,
          29,
          54,
          3,
          34,
          3,
          6,
          1,
          1,
          9,
          2,
          8,
          13,
          1,
          3,
          7,
          2,
          2,
          14,
          4,
          1,
          9,
          1,
          2,
          1,
          134,
          16,
          12,
          4,
          17,
          3,
          3,
          24,
          1,
          3,
          1,
          3,
          1,
          3,
          58,
          59,
          20,
          2,
          16,
          5,
          2,
          19,
          1,
          21,
          17,
          1,
          7,
          1,
          1,
          16,
          2,
          10,
          5,
          1,
          4,
          1,
          83,
          10,
          7,
          11,
          2,
          27,
          1,
          1,
          30,
          5,
          1,
          1,
          2,
          2,
          46,
          60,
          44,
          2,
          1,
          19,
          4,
          2,
          39,
          2,
          16,
          11,
          3,
          4,
          1,
          2,
          8,
          5,
          4,
          5,
          7,
          2,
          78,
          4,
          8,
          5,
          1,
          44,
          2,
          1
         ],
         "xaxis": "x",
         "y": [
          "Estadual",
          "Regional",
          "Estadual",
          "Nacional",
          "Regional",
          "Estadual",
          "Estadual",
          "Nacional",
          "Regional",
          "Estadual",
          "Nacional",
          "Estadual",
          "Nacional",
          "Estadual",
          "Nacional",
          "Estadual",
          "Estadual",
          "Estadual",
          "Nacional",
          "Estadual",
          "Nacional",
          "Estadual",
          "Estadual",
          "Estadual",
          "Estadual",
          "Estadual",
          "Nacional",
          "Regional",
          "Estadual",
          "Estadual",
          "Estadual",
          "Estadual",
          "Nacional",
          "Estadual",
          "Estadual",
          "Estadual",
          "Nacional",
          "Estadual",
          "Estadual",
          "Nacional",
          "Regional",
          "Estadual",
          "Estadual",
          "Estadual",
          "Nacional",
          "Regional",
          "Estadual",
          "Estadual",
          "Nacional",
          "Estadual",
          "Nacional",
          "Estadual",
          "Nacional",
          "Estadual",
          "Estadual",
          "Estadual",
          "Estadual",
          "Nacional",
          "Estadual",
          "Nacional",
          "Estadual",
          "Estadual",
          "Estadual",
          "Nacional",
          "Regional",
          "Estadual",
          "Nacional",
          "Estadual",
          "Estadual",
          "Estadual",
          "Nacional",
          "Regional",
          "Estadual",
          "Estadual",
          "Estadual",
          "Estadual",
          "Regional",
          "Estadual",
          "Regional",
          "Estadual",
          "Nacional",
          "Regional",
          "Estadual",
          "Estadual",
          "Nacional",
          "Estadual",
          "Estadual",
          "Nacional",
          "Estadual",
          "Nacional",
          "Estadual",
          "Nacional",
          "Estadual",
          "Estadual",
          "Estadual",
          "Nacional",
          "Estadual",
          "Estadual",
          "Estadual",
          "Nacional",
          "Estadual",
          "Estadual",
          "Nacional",
          "Estadual",
          "Nacional",
          "Estadual",
          "Nacional",
          "Estadual",
          "Nacional",
          "Estadual",
          "Nacional",
          "Regional",
          "Estadual",
          "Nacional",
          "Estadual",
          "Estadual",
          "Nacional",
          "Estadual",
          "Estadual",
          "Estadual",
          "Estadual",
          "Nacional",
          "Estadual",
          "Estadual",
          "Nacional",
          "Estadual",
          "Nacional",
          "Estadual",
          "Estadual",
          "Estadual",
          "Estadual",
          "Estadual",
          "Nacional",
          "Estadual",
          "Estadual",
          "Estadual",
          "Nacional",
          "Estadual",
          "Nacional",
          "Estadual",
          "Nacional",
          "Estadual",
          "Nacional",
          "Estadual",
          "Estadual",
          "Nacional",
          "Regional",
          "Estadual",
          "Estadual",
          "Estadual",
          "Nacional",
          "Estadual",
          "Estadual",
          "Estadual",
          "Nacional",
          "Regional",
          "Estadual",
          "Nacional",
          "Estadual",
          "Estadual",
          "Nacional",
          "Estadual",
          "Nacional",
          "Estadual",
          "Estadual",
          "Estadual",
          "Estadual",
          "Nacional",
          "Estadual",
          "Estadual",
          "Nacional",
          "Estadual",
          "Nacional",
          "Estadual",
          "Nacional",
          "Estadual",
          "Nacional",
          "Regional",
          "Estadual",
          "Nacional",
          "Estadual",
          "Estadual",
          "Estadual",
          "Nacional",
          "Regional",
          "Estadual",
          "Estadual",
          "Estadual",
          "Estadual",
          "Estadual",
          "Estadual",
          "Nacional",
          "Estadual",
          "Estadual",
          "Nacional",
          "Estadual",
          "Estadual",
          "Nacional",
          "Estadual",
          "Nacional",
          "Estadual",
          "Estadual",
          "Estadual",
          "Estadual",
          "Estadual",
          "Estadual",
          "Nacional",
          "Estadual",
          "Estadual",
          "Estadual",
          "Nacional",
          "Regional",
          "Estadual",
          "Nacional",
          "Estadual",
          "Estadual",
          "Estadual",
          "Nacional",
          "Regional",
          "Estadual",
          "Regional",
          "Nacional",
          "Estadual",
          "Nacional",
          "Estadual",
          "Estadual",
          "Nacional",
          "Estadual",
          "Estadual",
          "Estadual",
          "Nacional",
          "Estadual",
          "Nacional",
          "Estadual",
          "Estadual",
          "Estadual",
          "Nacional",
          "Estadual",
          "Nacional",
          "Estadual",
          "Nacional",
          "Estadual",
          "Nacional",
          "Estadual",
          "Regional",
          "Estadual",
          "Estadual",
          "Nacional",
          "Estadual",
          "Estadual",
          "Estadual",
          "Estadual",
          "Nacional",
          "Estadual",
          "Nacional",
          "Regional",
          "Estadual",
          "Nacional",
          "Estadual",
          "Estadual",
          "Estadual",
          "Nacional",
          "Regional",
          "Estadual",
          "Nacional",
          "Estadual",
          "Estadual",
          "Nacional",
          "Estadual",
          "Estadual",
          "Nacional",
          "Estadual",
          "Nacional",
          "Estadual",
          "Estadual",
          "Estadual",
          "Estadual",
          "Estadual",
          "Nacional",
          "Estadual",
          "Estadual",
          "Nacional",
          "Estadual",
          "Estadual",
          "Nacional",
          "Estadual",
          "Nacional",
          "Estadual",
          "Estadual",
          "Estadual",
          "Estadual",
          "Nacional",
          "Regional",
          "Estadual",
          "Estadual",
          "Nacional",
          "Estadual",
          "Estadual",
          "Estadual",
          "Estadual",
          "Estadual",
          "Estadual",
          "Regional",
          "Estadual",
          "Nacional",
          "Estadual",
          "Estadual",
          "Estadual",
          "Estadual",
          "Nacional",
          "Estadual",
          "Estadual",
          "Nacional",
          "Estadual",
          "Estadual",
          "Estadual",
          "Estadual",
          "Nacional",
          "Estadual",
          "Regional",
          "Estadual",
          "Nacional",
          "Estadual",
          "Estadual",
          "Nacional",
          "Regional",
          "Estadual",
          "Estadual",
          "Nacional",
          "Estadual",
          "Nacional",
          "Estadual",
          "Estadual",
          "Nacional",
          "Regional",
          "Regional",
          "Estadual",
          "Estadual",
          "Estadual",
          "Nacional",
          "Estadual",
          "Nacional",
          "Estadual",
          "Nacional",
          "Estadual",
          "Estadual",
          "Nacional",
          "Estadual",
          "Nacional",
          "Estadual",
          "Estadual",
          "Nacional",
          "Estadual",
          "Estadual",
          "Nacional",
          "Regional",
          "Estadual",
          "Nacional",
          "Regional",
          "Estadual",
          "Nacional",
          "Estadual",
          "Regional",
          "Estadual",
          "Nacional",
          "Regional",
          "Estadual",
          "Estadual",
          "Estadual",
          "Estadual",
          "Estadual",
          "Nacional",
          "Estadual",
          "Estadual",
          "Estadual",
          "Nacional",
          "Regional",
          "Estadual",
          "Nacional",
          "Estadual",
          "Nacional",
          "Estadual",
          "Estadual",
          "Estadual",
          "Estadual",
          "Nacional",
          "Estadual",
          "Estadual",
          "Estadual",
          "Estadual",
          "Regional",
          "Estadual",
          "Estadual",
          "Nacional",
          "Estadual",
          "Estadual",
          "Nacional",
          "Estadual",
          "Estadual",
          "Estadual",
          "Nacional",
          "Regional",
          "Estadual",
          "Estadual",
          "Estadual",
          "Nacional",
          "Estadual",
          "Estadual",
          "Nacional",
          "Regional",
          "Regional",
          "Estadual",
          "Nacional",
          "Estadual",
          "Nacional",
          "Estadual",
          "Nacional",
          "Regional",
          "Estadual",
          "Estadual",
          "Estadual",
          "Estadual",
          "Nacional",
          "Estadual",
          "Estadual",
          "Estadual",
          "Estadual",
          "Regional",
          "Estadual",
          "Estadual",
          "Nacional",
          "Estadual",
          "Estadual",
          "Estadual",
          "Estadual",
          "Estadual",
          "Nacional",
          "Regional",
          "Estadual",
          "Estadual",
          "Estadual",
          "Nacional",
          "Estadual"
         ],
         "yaxis": "y"
        }
       ],
       "layout": {
        "barmode": "relative",
        "height": 500,
        "legend": {
         "tracegroupgap": 0
        },
        "template": {
         "data": {
          "bar": [
           {
            "error_x": {
             "color": "#2a3f5f"
            },
            "error_y": {
             "color": "#2a3f5f"
            },
            "marker": {
             "line": {
              "color": "#E5ECF6",
              "width": 0.5
             },
             "pattern": {
              "fillmode": "overlay",
              "size": 10,
              "solidity": 0.2
             }
            },
            "type": "bar"
           }
          ],
          "barpolar": [
           {
            "marker": {
             "line": {
              "color": "#E5ECF6",
              "width": 0.5
             },
             "pattern": {
              "fillmode": "overlay",
              "size": 10,
              "solidity": 0.2
             }
            },
            "type": "barpolar"
           }
          ],
          "carpet": [
           {
            "aaxis": {
             "endlinecolor": "#2a3f5f",
             "gridcolor": "white",
             "linecolor": "white",
             "minorgridcolor": "white",
             "startlinecolor": "#2a3f5f"
            },
            "baxis": {
             "endlinecolor": "#2a3f5f",
             "gridcolor": "white",
             "linecolor": "white",
             "minorgridcolor": "white",
             "startlinecolor": "#2a3f5f"
            },
            "type": "carpet"
           }
          ],
          "choropleth": [
           {
            "colorbar": {
             "outlinewidth": 0,
             "ticks": ""
            },
            "type": "choropleth"
           }
          ],
          "contour": [
           {
            "colorbar": {
             "outlinewidth": 0,
             "ticks": ""
            },
            "colorscale": [
             [
              0,
              "#0d0887"
             ],
             [
              0.1111111111111111,
              "#46039f"
             ],
             [
              0.2222222222222222,
              "#7201a8"
             ],
             [
              0.3333333333333333,
              "#9c179e"
             ],
             [
              0.4444444444444444,
              "#bd3786"
             ],
             [
              0.5555555555555556,
              "#d8576b"
             ],
             [
              0.6666666666666666,
              "#ed7953"
             ],
             [
              0.7777777777777778,
              "#fb9f3a"
             ],
             [
              0.8888888888888888,
              "#fdca26"
             ],
             [
              1,
              "#f0f921"
             ]
            ],
            "type": "contour"
           }
          ],
          "contourcarpet": [
           {
            "colorbar": {
             "outlinewidth": 0,
             "ticks": ""
            },
            "type": "contourcarpet"
           }
          ],
          "heatmap": [
           {
            "colorbar": {
             "outlinewidth": 0,
             "ticks": ""
            },
            "colorscale": [
             [
              0,
              "#0d0887"
             ],
             [
              0.1111111111111111,
              "#46039f"
             ],
             [
              0.2222222222222222,
              "#7201a8"
             ],
             [
              0.3333333333333333,
              "#9c179e"
             ],
             [
              0.4444444444444444,
              "#bd3786"
             ],
             [
              0.5555555555555556,
              "#d8576b"
             ],
             [
              0.6666666666666666,
              "#ed7953"
             ],
             [
              0.7777777777777778,
              "#fb9f3a"
             ],
             [
              0.8888888888888888,
              "#fdca26"
             ],
             [
              1,
              "#f0f921"
             ]
            ],
            "type": "heatmap"
           }
          ],
          "heatmapgl": [
           {
            "colorbar": {
             "outlinewidth": 0,
             "ticks": ""
            },
            "colorscale": [
             [
              0,
              "#0d0887"
             ],
             [
              0.1111111111111111,
              "#46039f"
             ],
             [
              0.2222222222222222,
              "#7201a8"
             ],
             [
              0.3333333333333333,
              "#9c179e"
             ],
             [
              0.4444444444444444,
              "#bd3786"
             ],
             [
              0.5555555555555556,
              "#d8576b"
             ],
             [
              0.6666666666666666,
              "#ed7953"
             ],
             [
              0.7777777777777778,
              "#fb9f3a"
             ],
             [
              0.8888888888888888,
              "#fdca26"
             ],
             [
              1,
              "#f0f921"
             ]
            ],
            "type": "heatmapgl"
           }
          ],
          "histogram": [
           {
            "marker": {
             "pattern": {
              "fillmode": "overlay",
              "size": 10,
              "solidity": 0.2
             }
            },
            "type": "histogram"
           }
          ],
          "histogram2d": [
           {
            "colorbar": {
             "outlinewidth": 0,
             "ticks": ""
            },
            "colorscale": [
             [
              0,
              "#0d0887"
             ],
             [
              0.1111111111111111,
              "#46039f"
             ],
             [
              0.2222222222222222,
              "#7201a8"
             ],
             [
              0.3333333333333333,
              "#9c179e"
             ],
             [
              0.4444444444444444,
              "#bd3786"
             ],
             [
              0.5555555555555556,
              "#d8576b"
             ],
             [
              0.6666666666666666,
              "#ed7953"
             ],
             [
              0.7777777777777778,
              "#fb9f3a"
             ],
             [
              0.8888888888888888,
              "#fdca26"
             ],
             [
              1,
              "#f0f921"
             ]
            ],
            "type": "histogram2d"
           }
          ],
          "histogram2dcontour": [
           {
            "colorbar": {
             "outlinewidth": 0,
             "ticks": ""
            },
            "colorscale": [
             [
              0,
              "#0d0887"
             ],
             [
              0.1111111111111111,
              "#46039f"
             ],
             [
              0.2222222222222222,
              "#7201a8"
             ],
             [
              0.3333333333333333,
              "#9c179e"
             ],
             [
              0.4444444444444444,
              "#bd3786"
             ],
             [
              0.5555555555555556,
              "#d8576b"
             ],
             [
              0.6666666666666666,
              "#ed7953"
             ],
             [
              0.7777777777777778,
              "#fb9f3a"
             ],
             [
              0.8888888888888888,
              "#fdca26"
             ],
             [
              1,
              "#f0f921"
             ]
            ],
            "type": "histogram2dcontour"
           }
          ],
          "mesh3d": [
           {
            "colorbar": {
             "outlinewidth": 0,
             "ticks": ""
            },
            "type": "mesh3d"
           }
          ],
          "parcoords": [
           {
            "line": {
             "colorbar": {
              "outlinewidth": 0,
              "ticks": ""
             }
            },
            "type": "parcoords"
           }
          ],
          "pie": [
           {
            "automargin": true,
            "type": "pie"
           }
          ],
          "scatter": [
           {
            "fillpattern": {
             "fillmode": "overlay",
             "size": 10,
             "solidity": 0.2
            },
            "type": "scatter"
           }
          ],
          "scatter3d": [
           {
            "line": {
             "colorbar": {
              "outlinewidth": 0,
              "ticks": ""
             }
            },
            "marker": {
             "colorbar": {
              "outlinewidth": 0,
              "ticks": ""
             }
            },
            "type": "scatter3d"
           }
          ],
          "scattercarpet": [
           {
            "marker": {
             "colorbar": {
              "outlinewidth": 0,
              "ticks": ""
             }
            },
            "type": "scattercarpet"
           }
          ],
          "scattergeo": [
           {
            "marker": {
             "colorbar": {
              "outlinewidth": 0,
              "ticks": ""
             }
            },
            "type": "scattergeo"
           }
          ],
          "scattergl": [
           {
            "marker": {
             "colorbar": {
              "outlinewidth": 0,
              "ticks": ""
             }
            },
            "type": "scattergl"
           }
          ],
          "scattermapbox": [
           {
            "marker": {
             "colorbar": {
              "outlinewidth": 0,
              "ticks": ""
             }
            },
            "type": "scattermapbox"
           }
          ],
          "scatterpolar": [
           {
            "marker": {
             "colorbar": {
              "outlinewidth": 0,
              "ticks": ""
             }
            },
            "type": "scatterpolar"
           }
          ],
          "scatterpolargl": [
           {
            "marker": {
             "colorbar": {
              "outlinewidth": 0,
              "ticks": ""
             }
            },
            "type": "scatterpolargl"
           }
          ],
          "scatterternary": [
           {
            "marker": {
             "colorbar": {
              "outlinewidth": 0,
              "ticks": ""
             }
            },
            "type": "scatterternary"
           }
          ],
          "surface": [
           {
            "colorbar": {
             "outlinewidth": 0,
             "ticks": ""
            },
            "colorscale": [
             [
              0,
              "#0d0887"
             ],
             [
              0.1111111111111111,
              "#46039f"
             ],
             [
              0.2222222222222222,
              "#7201a8"
             ],
             [
              0.3333333333333333,
              "#9c179e"
             ],
             [
              0.4444444444444444,
              "#bd3786"
             ],
             [
              0.5555555555555556,
              "#d8576b"
             ],
             [
              0.6666666666666666,
              "#ed7953"
             ],
             [
              0.7777777777777778,
              "#fb9f3a"
             ],
             [
              0.8888888888888888,
              "#fdca26"
             ],
             [
              1,
              "#f0f921"
             ]
            ],
            "type": "surface"
           }
          ],
          "table": [
           {
            "cells": {
             "fill": {
              "color": "#EBF0F8"
             },
             "line": {
              "color": "white"
             }
            },
            "header": {
             "fill": {
              "color": "#C8D4E3"
             },
             "line": {
              "color": "white"
             }
            },
            "type": "table"
           }
          ]
         },
         "layout": {
          "annotationdefaults": {
           "arrowcolor": "#2a3f5f",
           "arrowhead": 0,
           "arrowwidth": 1
          },
          "autotypenumbers": "strict",
          "coloraxis": {
           "colorbar": {
            "outlinewidth": 0,
            "ticks": ""
           }
          },
          "colorscale": {
           "diverging": [
            [
             0,
             "#8e0152"
            ],
            [
             0.1,
             "#c51b7d"
            ],
            [
             0.2,
             "#de77ae"
            ],
            [
             0.3,
             "#f1b6da"
            ],
            [
             0.4,
             "#fde0ef"
            ],
            [
             0.5,
             "#f7f7f7"
            ],
            [
             0.6,
             "#e6f5d0"
            ],
            [
             0.7,
             "#b8e186"
            ],
            [
             0.8,
             "#7fbc41"
            ],
            [
             0.9,
             "#4d9221"
            ],
            [
             1,
             "#276419"
            ]
           ],
           "sequential": [
            [
             0,
             "#0d0887"
            ],
            [
             0.1111111111111111,
             "#46039f"
            ],
            [
             0.2222222222222222,
             "#7201a8"
            ],
            [
             0.3333333333333333,
             "#9c179e"
            ],
            [
             0.4444444444444444,
             "#bd3786"
            ],
            [
             0.5555555555555556,
             "#d8576b"
            ],
            [
             0.6666666666666666,
             "#ed7953"
            ],
            [
             0.7777777777777778,
             "#fb9f3a"
            ],
            [
             0.8888888888888888,
             "#fdca26"
            ],
            [
             1,
             "#f0f921"
            ]
           ],
           "sequentialminus": [
            [
             0,
             "#0d0887"
            ],
            [
             0.1111111111111111,
             "#46039f"
            ],
            [
             0.2222222222222222,
             "#7201a8"
            ],
            [
             0.3333333333333333,
             "#9c179e"
            ],
            [
             0.4444444444444444,
             "#bd3786"
            ],
            [
             0.5555555555555556,
             "#d8576b"
            ],
            [
             0.6666666666666666,
             "#ed7953"
            ],
            [
             0.7777777777777778,
             "#fb9f3a"
            ],
            [
             0.8888888888888888,
             "#fdca26"
            ],
            [
             1,
             "#f0f921"
            ]
           ]
          },
          "colorway": [
           "#636efa",
           "#EF553B",
           "#00cc96",
           "#ab63fa",
           "#FFA15A",
           "#19d3f3",
           "#FF6692",
           "#B6E880",
           "#FF97FF",
           "#FECB52"
          ],
          "font": {
           "color": "#2a3f5f"
          },
          "geo": {
           "bgcolor": "white",
           "lakecolor": "white",
           "landcolor": "#E5ECF6",
           "showlakes": true,
           "showland": true,
           "subunitcolor": "white"
          },
          "hoverlabel": {
           "align": "left"
          },
          "hovermode": "closest",
          "mapbox": {
           "style": "light"
          },
          "paper_bgcolor": "white",
          "plot_bgcolor": "#E5ECF6",
          "polar": {
           "angularaxis": {
            "gridcolor": "white",
            "linecolor": "white",
            "ticks": ""
           },
           "bgcolor": "#E5ECF6",
           "radialaxis": {
            "gridcolor": "white",
            "linecolor": "white",
            "ticks": ""
           }
          },
          "scene": {
           "xaxis": {
            "backgroundcolor": "#E5ECF6",
            "gridcolor": "white",
            "gridwidth": 2,
            "linecolor": "white",
            "showbackground": true,
            "ticks": "",
            "zerolinecolor": "white"
           },
           "yaxis": {
            "backgroundcolor": "#E5ECF6",
            "gridcolor": "white",
            "gridwidth": 2,
            "linecolor": "white",
            "showbackground": true,
            "ticks": "",
            "zerolinecolor": "white"
           },
           "zaxis": {
            "backgroundcolor": "#E5ECF6",
            "gridcolor": "white",
            "gridwidth": 2,
            "linecolor": "white",
            "showbackground": true,
            "ticks": "",
            "zerolinecolor": "white"
           }
          },
          "shapedefaults": {
           "line": {
            "color": "#2a3f5f"
           }
          },
          "ternary": {
           "aaxis": {
            "gridcolor": "white",
            "linecolor": "white",
            "ticks": ""
           },
           "baxis": {
            "gridcolor": "white",
            "linecolor": "white",
            "ticks": ""
           },
           "bgcolor": "#E5ECF6",
           "caxis": {
            "gridcolor": "white",
            "linecolor": "white",
            "ticks": ""
           }
          },
          "title": {
           "x": 0.05
          },
          "xaxis": {
           "automargin": true,
           "gridcolor": "white",
           "linecolor": "white",
           "ticks": "",
           "title": {
            "standoff": 15
           },
           "zerolinecolor": "white",
           "zerolinewidth": 2
          },
          "yaxis": {
           "automargin": true,
           "gridcolor": "white",
           "linecolor": "white",
           "ticks": "",
           "title": {
            "standoff": 15
           },
           "zerolinecolor": "white",
           "zerolinewidth": 2
          }
         }
        },
        "title": {
         "text": "Total de portes de arma por abrangência na categoria Defesa Pessoal"
        },
        "xaxis": {
         "anchor": "y",
         "domain": [
          0,
          1
         ],
         "title": {
          "text": "TOTAL"
         }
        },
        "yaxis": {
         "anchor": "x",
         "domain": [
          0,
          1
         ],
         "title": {
          "text": "ABRANGENCIA"
         }
        }
       }
      },
      "text/html": [
       "<div>                            <div id=\"89f7e6e3-c7bb-4afd-8a87-19f2aac2925c\" class=\"plotly-graph-div\" style=\"height:500px; width:100%;\"></div>            <script type=\"text/javascript\">                require([\"plotly\"], function(Plotly) {                    window.PLOTLYENV=window.PLOTLYENV || {};                                    if (document.getElementById(\"89f7e6e3-c7bb-4afd-8a87-19f2aac2925c\")) {                    Plotly.newPlot(                        \"89f7e6e3-c7bb-4afd-8a87-19f2aac2925c\",                        [{\"alignmentgroup\":\"True\",\"hovertemplate\":\"TOTAL=%{x}<br>ABRANGENCIA=%{y}<extra></extra>\",\"legendgroup\":\"\",\"marker\":{\"color\":\"#3366CC\",\"pattern\":{\"shape\":\"\"}},\"name\":\"\",\"offsetgroup\":\"\",\"orientation\":\"h\",\"showlegend\":false,\"textposition\":\"auto\",\"x\":[3,1,12,1,1,1,2,1,2,30,19,60,3,18,2,5,7,44,8,22,1,9,3,10,2,17,7,1,4,1,12,40,5,12,3,29,3,7,32,1,1,1,1,16,4,1,3,22,56,59,1,25,1,2,3,32,14,2,13,1,5,3,9,2,1,41,3,5,1,91,6,7,18,2,36,10,1,6,1,3,1,2,1,2,2,6,30,87,38,2,17,1,7,11,8,1,1,5,3,1,1,1,6,31,3,3,1,10,1,123,14,5,24,1,6,38,8,2,4,11,8,1,3,36,36,27,1,7,4,2,6,10,1,6,2,14,1,1,1,5,2,42,1,10,91,5,7,25,7,23,1,2,5,26,2,2,9,2,6,40,46,39,2,22,1,5,26,2,18,3,1,9,1,3,2,13,7,2,52,1,2,1,141,4,7,17,2,27,1,1,11,1,2,12,1,4,29,26,34,1,23,1,5,22,11,4,2,2,6,11,3,1,22,3,3,2,105,8,4,9,1,1,10,1,5,16,1,2,4,53,94,62,1,15,2,13,2,23,5,4,2,5,1,9,1,1,5,5,21,3,3,1,1,96,8,5,13,2,29,1,12,1,1,8,2,1,6,1,7,38,29,41,2,14,2,2,8,9,2,7,8,2,3,13,3,26,1,1,2,1,86,4,4,16,4,1,34,1,4,5,2,4,3,30,59,46,9,2,2,1,16,15,2,8,5,11,1,1,18,1,18,1,4,87,5,4,11,1,1,18,1,5,19,3,1,1,1,2,23,29,54,3,34,3,6,1,1,9,2,8,13,1,3,7,2,2,14,4,1,9,1,2,1,134,16,12,4,17,3,3,24,1,3,1,3,1,3,58,59,20,2,16,5,2,19,1,21,17,1,7,1,1,16,2,10,5,1,4,1,83,10,7,11,2,27,1,1,30,5,1,1,2,2,46,60,44,2,1,19,4,2,39,2,16,11,3,4,1,2,8,5,4,5,7,2,78,4,8,5,1,44,2,1],\"xaxis\":\"x\",\"y\":[\"Estadual\",\"Regional\",\"Estadual\",\"Nacional\",\"Regional\",\"Estadual\",\"Estadual\",\"Nacional\",\"Regional\",\"Estadual\",\"Nacional\",\"Estadual\",\"Nacional\",\"Estadual\",\"Nacional\",\"Estadual\",\"Estadual\",\"Estadual\",\"Nacional\",\"Estadual\",\"Nacional\",\"Estadual\",\"Estadual\",\"Estadual\",\"Estadual\",\"Estadual\",\"Nacional\",\"Regional\",\"Estadual\",\"Estadual\",\"Estadual\",\"Estadual\",\"Nacional\",\"Estadual\",\"Estadual\",\"Estadual\",\"Nacional\",\"Estadual\",\"Estadual\",\"Nacional\",\"Regional\",\"Estadual\",\"Estadual\",\"Estadual\",\"Nacional\",\"Regional\",\"Estadual\",\"Estadual\",\"Nacional\",\"Estadual\",\"Nacional\",\"Estadual\",\"Nacional\",\"Estadual\",\"Estadual\",\"Estadual\",\"Estadual\",\"Nacional\",\"Estadual\",\"Nacional\",\"Estadual\",\"Estadual\",\"Estadual\",\"Nacional\",\"Regional\",\"Estadual\",\"Nacional\",\"Estadual\",\"Estadual\",\"Estadual\",\"Nacional\",\"Regional\",\"Estadual\",\"Estadual\",\"Estadual\",\"Estadual\",\"Regional\",\"Estadual\",\"Regional\",\"Estadual\",\"Nacional\",\"Regional\",\"Estadual\",\"Estadual\",\"Nacional\",\"Estadual\",\"Estadual\",\"Nacional\",\"Estadual\",\"Nacional\",\"Estadual\",\"Nacional\",\"Estadual\",\"Estadual\",\"Estadual\",\"Nacional\",\"Estadual\",\"Estadual\",\"Estadual\",\"Nacional\",\"Estadual\",\"Estadual\",\"Nacional\",\"Estadual\",\"Nacional\",\"Estadual\",\"Nacional\",\"Estadual\",\"Nacional\",\"Estadual\",\"Nacional\",\"Regional\",\"Estadual\",\"Nacional\",\"Estadual\",\"Estadual\",\"Nacional\",\"Estadual\",\"Estadual\",\"Estadual\",\"Estadual\",\"Nacional\",\"Estadual\",\"Estadual\",\"Nacional\",\"Estadual\",\"Nacional\",\"Estadual\",\"Estadual\",\"Estadual\",\"Estadual\",\"Estadual\",\"Nacional\",\"Estadual\",\"Estadual\",\"Estadual\",\"Nacional\",\"Estadual\",\"Nacional\",\"Estadual\",\"Nacional\",\"Estadual\",\"Nacional\",\"Estadual\",\"Estadual\",\"Nacional\",\"Regional\",\"Estadual\",\"Estadual\",\"Estadual\",\"Nacional\",\"Estadual\",\"Estadual\",\"Estadual\",\"Nacional\",\"Regional\",\"Estadual\",\"Nacional\",\"Estadual\",\"Estadual\",\"Nacional\",\"Estadual\",\"Nacional\",\"Estadual\",\"Estadual\",\"Estadual\",\"Estadual\",\"Nacional\",\"Estadual\",\"Estadual\",\"Nacional\",\"Estadual\",\"Nacional\",\"Estadual\",\"Nacional\",\"Estadual\",\"Nacional\",\"Regional\",\"Estadual\",\"Nacional\",\"Estadual\",\"Estadual\",\"Estadual\",\"Nacional\",\"Regional\",\"Estadual\",\"Estadual\",\"Estadual\",\"Estadual\",\"Estadual\",\"Estadual\",\"Nacional\",\"Estadual\",\"Estadual\",\"Nacional\",\"Estadual\",\"Estadual\",\"Nacional\",\"Estadual\",\"Nacional\",\"Estadual\",\"Estadual\",\"Estadual\",\"Estadual\",\"Estadual\",\"Estadual\",\"Nacional\",\"Estadual\",\"Estadual\",\"Estadual\",\"Nacional\",\"Regional\",\"Estadual\",\"Nacional\",\"Estadual\",\"Estadual\",\"Estadual\",\"Nacional\",\"Regional\",\"Estadual\",\"Regional\",\"Nacional\",\"Estadual\",\"Nacional\",\"Estadual\",\"Estadual\",\"Nacional\",\"Estadual\",\"Estadual\",\"Estadual\",\"Nacional\",\"Estadual\",\"Nacional\",\"Estadual\",\"Estadual\",\"Estadual\",\"Nacional\",\"Estadual\",\"Nacional\",\"Estadual\",\"Nacional\",\"Estadual\",\"Nacional\",\"Estadual\",\"Regional\",\"Estadual\",\"Estadual\",\"Nacional\",\"Estadual\",\"Estadual\",\"Estadual\",\"Estadual\",\"Nacional\",\"Estadual\",\"Nacional\",\"Regional\",\"Estadual\",\"Nacional\",\"Estadual\",\"Estadual\",\"Estadual\",\"Nacional\",\"Regional\",\"Estadual\",\"Nacional\",\"Estadual\",\"Estadual\",\"Nacional\",\"Estadual\",\"Estadual\",\"Nacional\",\"Estadual\",\"Nacional\",\"Estadual\",\"Estadual\",\"Estadual\",\"Estadual\",\"Estadual\",\"Nacional\",\"Estadual\",\"Estadual\",\"Nacional\",\"Estadual\",\"Estadual\",\"Nacional\",\"Estadual\",\"Nacional\",\"Estadual\",\"Estadual\",\"Estadual\",\"Estadual\",\"Nacional\",\"Regional\",\"Estadual\",\"Estadual\",\"Nacional\",\"Estadual\",\"Estadual\",\"Estadual\",\"Estadual\",\"Estadual\",\"Estadual\",\"Regional\",\"Estadual\",\"Nacional\",\"Estadual\",\"Estadual\",\"Estadual\",\"Estadual\",\"Nacional\",\"Estadual\",\"Estadual\",\"Nacional\",\"Estadual\",\"Estadual\",\"Estadual\",\"Estadual\",\"Nacional\",\"Estadual\",\"Regional\",\"Estadual\",\"Nacional\",\"Estadual\",\"Estadual\",\"Nacional\",\"Regional\",\"Estadual\",\"Estadual\",\"Nacional\",\"Estadual\",\"Nacional\",\"Estadual\",\"Estadual\",\"Nacional\",\"Regional\",\"Regional\",\"Estadual\",\"Estadual\",\"Estadual\",\"Nacional\",\"Estadual\",\"Nacional\",\"Estadual\",\"Nacional\",\"Estadual\",\"Estadual\",\"Nacional\",\"Estadual\",\"Nacional\",\"Estadual\",\"Estadual\",\"Nacional\",\"Estadual\",\"Estadual\",\"Nacional\",\"Regional\",\"Estadual\",\"Nacional\",\"Regional\",\"Estadual\",\"Nacional\",\"Estadual\",\"Regional\",\"Estadual\",\"Nacional\",\"Regional\",\"Estadual\",\"Estadual\",\"Estadual\",\"Estadual\",\"Estadual\",\"Nacional\",\"Estadual\",\"Estadual\",\"Estadual\",\"Nacional\",\"Regional\",\"Estadual\",\"Nacional\",\"Estadual\",\"Nacional\",\"Estadual\",\"Estadual\",\"Estadual\",\"Estadual\",\"Nacional\",\"Estadual\",\"Estadual\",\"Estadual\",\"Estadual\",\"Regional\",\"Estadual\",\"Estadual\",\"Nacional\",\"Estadual\",\"Estadual\",\"Nacional\",\"Estadual\",\"Estadual\",\"Estadual\",\"Nacional\",\"Regional\",\"Estadual\",\"Estadual\",\"Estadual\",\"Nacional\",\"Estadual\",\"Estadual\",\"Nacional\",\"Regional\",\"Regional\",\"Estadual\",\"Nacional\",\"Estadual\",\"Nacional\",\"Estadual\",\"Nacional\",\"Regional\",\"Estadual\",\"Estadual\",\"Estadual\",\"Estadual\",\"Nacional\",\"Estadual\",\"Estadual\",\"Estadual\",\"Estadual\",\"Regional\",\"Estadual\",\"Estadual\",\"Nacional\",\"Estadual\",\"Estadual\",\"Estadual\",\"Estadual\",\"Estadual\",\"Nacional\",\"Regional\",\"Estadual\",\"Estadual\",\"Estadual\",\"Nacional\",\"Estadual\"],\"yaxis\":\"y\",\"type\":\"bar\"}],                        {\"template\":{\"data\":{\"histogram2dcontour\":[{\"type\":\"histogram2dcontour\",\"colorbar\":{\"outlinewidth\":0,\"ticks\":\"\"},\"colorscale\":[[0.0,\"#0d0887\"],[0.1111111111111111,\"#46039f\"],[0.2222222222222222,\"#7201a8\"],[0.3333333333333333,\"#9c179e\"],[0.4444444444444444,\"#bd3786\"],[0.5555555555555556,\"#d8576b\"],[0.6666666666666666,\"#ed7953\"],[0.7777777777777778,\"#fb9f3a\"],[0.8888888888888888,\"#fdca26\"],[1.0,\"#f0f921\"]]}],\"choropleth\":[{\"type\":\"choropleth\",\"colorbar\":{\"outlinewidth\":0,\"ticks\":\"\"}}],\"histogram2d\":[{\"type\":\"histogram2d\",\"colorbar\":{\"outlinewidth\":0,\"ticks\":\"\"},\"colorscale\":[[0.0,\"#0d0887\"],[0.1111111111111111,\"#46039f\"],[0.2222222222222222,\"#7201a8\"],[0.3333333333333333,\"#9c179e\"],[0.4444444444444444,\"#bd3786\"],[0.5555555555555556,\"#d8576b\"],[0.6666666666666666,\"#ed7953\"],[0.7777777777777778,\"#fb9f3a\"],[0.8888888888888888,\"#fdca26\"],[1.0,\"#f0f921\"]]}],\"heatmap\":[{\"type\":\"heatmap\",\"colorbar\":{\"outlinewidth\":0,\"ticks\":\"\"},\"colorscale\":[[0.0,\"#0d0887\"],[0.1111111111111111,\"#46039f\"],[0.2222222222222222,\"#7201a8\"],[0.3333333333333333,\"#9c179e\"],[0.4444444444444444,\"#bd3786\"],[0.5555555555555556,\"#d8576b\"],[0.6666666666666666,\"#ed7953\"],[0.7777777777777778,\"#fb9f3a\"],[0.8888888888888888,\"#fdca26\"],[1.0,\"#f0f921\"]]}],\"heatmapgl\":[{\"type\":\"heatmapgl\",\"colorbar\":{\"outlinewidth\":0,\"ticks\":\"\"},\"colorscale\":[[0.0,\"#0d0887\"],[0.1111111111111111,\"#46039f\"],[0.2222222222222222,\"#7201a8\"],[0.3333333333333333,\"#9c179e\"],[0.4444444444444444,\"#bd3786\"],[0.5555555555555556,\"#d8576b\"],[0.6666666666666666,\"#ed7953\"],[0.7777777777777778,\"#fb9f3a\"],[0.8888888888888888,\"#fdca26\"],[1.0,\"#f0f921\"]]}],\"contourcarpet\":[{\"type\":\"contourcarpet\",\"colorbar\":{\"outlinewidth\":0,\"ticks\":\"\"}}],\"contour\":[{\"type\":\"contour\",\"colorbar\":{\"outlinewidth\":0,\"ticks\":\"\"},\"colorscale\":[[0.0,\"#0d0887\"],[0.1111111111111111,\"#46039f\"],[0.2222222222222222,\"#7201a8\"],[0.3333333333333333,\"#9c179e\"],[0.4444444444444444,\"#bd3786\"],[0.5555555555555556,\"#d8576b\"],[0.6666666666666666,\"#ed7953\"],[0.7777777777777778,\"#fb9f3a\"],[0.8888888888888888,\"#fdca26\"],[1.0,\"#f0f921\"]]}],\"surface\":[{\"type\":\"surface\",\"colorbar\":{\"outlinewidth\":0,\"ticks\":\"\"},\"colorscale\":[[0.0,\"#0d0887\"],[0.1111111111111111,\"#46039f\"],[0.2222222222222222,\"#7201a8\"],[0.3333333333333333,\"#9c179e\"],[0.4444444444444444,\"#bd3786\"],[0.5555555555555556,\"#d8576b\"],[0.6666666666666666,\"#ed7953\"],[0.7777777777777778,\"#fb9f3a\"],[0.8888888888888888,\"#fdca26\"],[1.0,\"#f0f921\"]]}],\"mesh3d\":[{\"type\":\"mesh3d\",\"colorbar\":{\"outlinewidth\":0,\"ticks\":\"\"}}],\"scatter\":[{\"fillpattern\":{\"fillmode\":\"overlay\",\"size\":10,\"solidity\":0.2},\"type\":\"scatter\"}],\"parcoords\":[{\"type\":\"parcoords\",\"line\":{\"colorbar\":{\"outlinewidth\":0,\"ticks\":\"\"}}}],\"scatterpolargl\":[{\"type\":\"scatterpolargl\",\"marker\":{\"colorbar\":{\"outlinewidth\":0,\"ticks\":\"\"}}}],\"bar\":[{\"error_x\":{\"color\":\"#2a3f5f\"},\"error_y\":{\"color\":\"#2a3f5f\"},\"marker\":{\"line\":{\"color\":\"#E5ECF6\",\"width\":0.5},\"pattern\":{\"fillmode\":\"overlay\",\"size\":10,\"solidity\":0.2}},\"type\":\"bar\"}],\"scattergeo\":[{\"type\":\"scattergeo\",\"marker\":{\"colorbar\":{\"outlinewidth\":0,\"ticks\":\"\"}}}],\"scatterpolar\":[{\"type\":\"scatterpolar\",\"marker\":{\"colorbar\":{\"outlinewidth\":0,\"ticks\":\"\"}}}],\"histogram\":[{\"marker\":{\"pattern\":{\"fillmode\":\"overlay\",\"size\":10,\"solidity\":0.2}},\"type\":\"histogram\"}],\"scattergl\":[{\"type\":\"scattergl\",\"marker\":{\"colorbar\":{\"outlinewidth\":0,\"ticks\":\"\"}}}],\"scatter3d\":[{\"type\":\"scatter3d\",\"line\":{\"colorbar\":{\"outlinewidth\":0,\"ticks\":\"\"}},\"marker\":{\"colorbar\":{\"outlinewidth\":0,\"ticks\":\"\"}}}],\"scattermapbox\":[{\"type\":\"scattermapbox\",\"marker\":{\"colorbar\":{\"outlinewidth\":0,\"ticks\":\"\"}}}],\"scatterternary\":[{\"type\":\"scatterternary\",\"marker\":{\"colorbar\":{\"outlinewidth\":0,\"ticks\":\"\"}}}],\"scattercarpet\":[{\"type\":\"scattercarpet\",\"marker\":{\"colorbar\":{\"outlinewidth\":0,\"ticks\":\"\"}}}],\"carpet\":[{\"aaxis\":{\"endlinecolor\":\"#2a3f5f\",\"gridcolor\":\"white\",\"linecolor\":\"white\",\"minorgridcolor\":\"white\",\"startlinecolor\":\"#2a3f5f\"},\"baxis\":{\"endlinecolor\":\"#2a3f5f\",\"gridcolor\":\"white\",\"linecolor\":\"white\",\"minorgridcolor\":\"white\",\"startlinecolor\":\"#2a3f5f\"},\"type\":\"carpet\"}],\"table\":[{\"cells\":{\"fill\":{\"color\":\"#EBF0F8\"},\"line\":{\"color\":\"white\"}},\"header\":{\"fill\":{\"color\":\"#C8D4E3\"},\"line\":{\"color\":\"white\"}},\"type\":\"table\"}],\"barpolar\":[{\"marker\":{\"line\":{\"color\":\"#E5ECF6\",\"width\":0.5},\"pattern\":{\"fillmode\":\"overlay\",\"size\":10,\"solidity\":0.2}},\"type\":\"barpolar\"}],\"pie\":[{\"automargin\":true,\"type\":\"pie\"}]},\"layout\":{\"autotypenumbers\":\"strict\",\"colorway\":[\"#636efa\",\"#EF553B\",\"#00cc96\",\"#ab63fa\",\"#FFA15A\",\"#19d3f3\",\"#FF6692\",\"#B6E880\",\"#FF97FF\",\"#FECB52\"],\"font\":{\"color\":\"#2a3f5f\"},\"hovermode\":\"closest\",\"hoverlabel\":{\"align\":\"left\"},\"paper_bgcolor\":\"white\",\"plot_bgcolor\":\"#E5ECF6\",\"polar\":{\"bgcolor\":\"#E5ECF6\",\"angularaxis\":{\"gridcolor\":\"white\",\"linecolor\":\"white\",\"ticks\":\"\"},\"radialaxis\":{\"gridcolor\":\"white\",\"linecolor\":\"white\",\"ticks\":\"\"}},\"ternary\":{\"bgcolor\":\"#E5ECF6\",\"aaxis\":{\"gridcolor\":\"white\",\"linecolor\":\"white\",\"ticks\":\"\"},\"baxis\":{\"gridcolor\":\"white\",\"linecolor\":\"white\",\"ticks\":\"\"},\"caxis\":{\"gridcolor\":\"white\",\"linecolor\":\"white\",\"ticks\":\"\"}},\"coloraxis\":{\"colorbar\":{\"outlinewidth\":0,\"ticks\":\"\"}},\"colorscale\":{\"sequential\":[[0.0,\"#0d0887\"],[0.1111111111111111,\"#46039f\"],[0.2222222222222222,\"#7201a8\"],[0.3333333333333333,\"#9c179e\"],[0.4444444444444444,\"#bd3786\"],[0.5555555555555556,\"#d8576b\"],[0.6666666666666666,\"#ed7953\"],[0.7777777777777778,\"#fb9f3a\"],[0.8888888888888888,\"#fdca26\"],[1.0,\"#f0f921\"]],\"sequentialminus\":[[0.0,\"#0d0887\"],[0.1111111111111111,\"#46039f\"],[0.2222222222222222,\"#7201a8\"],[0.3333333333333333,\"#9c179e\"],[0.4444444444444444,\"#bd3786\"],[0.5555555555555556,\"#d8576b\"],[0.6666666666666666,\"#ed7953\"],[0.7777777777777778,\"#fb9f3a\"],[0.8888888888888888,\"#fdca26\"],[1.0,\"#f0f921\"]],\"diverging\":[[0,\"#8e0152\"],[0.1,\"#c51b7d\"],[0.2,\"#de77ae\"],[0.3,\"#f1b6da\"],[0.4,\"#fde0ef\"],[0.5,\"#f7f7f7\"],[0.6,\"#e6f5d0\"],[0.7,\"#b8e186\"],[0.8,\"#7fbc41\"],[0.9,\"#4d9221\"],[1,\"#276419\"]]},\"xaxis\":{\"gridcolor\":\"white\",\"linecolor\":\"white\",\"ticks\":\"\",\"title\":{\"standoff\":15},\"zerolinecolor\":\"white\",\"automargin\":true,\"zerolinewidth\":2},\"yaxis\":{\"gridcolor\":\"white\",\"linecolor\":\"white\",\"ticks\":\"\",\"title\":{\"standoff\":15},\"zerolinecolor\":\"white\",\"automargin\":true,\"zerolinewidth\":2},\"scene\":{\"xaxis\":{\"backgroundcolor\":\"#E5ECF6\",\"gridcolor\":\"white\",\"linecolor\":\"white\",\"showbackground\":true,\"ticks\":\"\",\"zerolinecolor\":\"white\",\"gridwidth\":2},\"yaxis\":{\"backgroundcolor\":\"#E5ECF6\",\"gridcolor\":\"white\",\"linecolor\":\"white\",\"showbackground\":true,\"ticks\":\"\",\"zerolinecolor\":\"white\",\"gridwidth\":2},\"zaxis\":{\"backgroundcolor\":\"#E5ECF6\",\"gridcolor\":\"white\",\"linecolor\":\"white\",\"showbackground\":true,\"ticks\":\"\",\"zerolinecolor\":\"white\",\"gridwidth\":2}},\"shapedefaults\":{\"line\":{\"color\":\"#2a3f5f\"}},\"annotationdefaults\":{\"arrowcolor\":\"#2a3f5f\",\"arrowhead\":0,\"arrowwidth\":1},\"geo\":{\"bgcolor\":\"white\",\"landcolor\":\"#E5ECF6\",\"subunitcolor\":\"white\",\"showland\":true,\"showlakes\":true,\"lakecolor\":\"white\"},\"title\":{\"x\":0.05},\"mapbox\":{\"style\":\"light\"}}},\"xaxis\":{\"anchor\":\"y\",\"domain\":[0.0,1.0],\"title\":{\"text\":\"TOTAL\"}},\"yaxis\":{\"anchor\":\"x\",\"domain\":[0.0,1.0],\"title\":{\"text\":\"ABRANGENCIA\"}},\"legend\":{\"tracegroupgap\":0},\"title\":{\"text\":\"Total de portes de arma por abrang\\u00eancia na categoria Defesa Pessoal\"},\"barmode\":\"relative\",\"height\":500},                        {\"responsive\": true}                    ).then(function(){\n",
       "                            \n",
       "var gd = document.getElementById('89f7e6e3-c7bb-4afd-8a87-19f2aac2925c');\n",
       "var x = new MutationObserver(function (mutations, observer) {{\n",
       "        var display = window.getComputedStyle(gd).display;\n",
       "        if (!display || display === 'none') {{\n",
       "            console.log([gd, 'removed!']);\n",
       "            Plotly.purge(gd);\n",
       "            observer.disconnect();\n",
       "        }}\n",
       "}});\n",
       "\n",
       "// Listen for the removal of the full notebook cells\n",
       "var notebookContainer = gd.closest('#notebook-container');\n",
       "if (notebookContainer) {{\n",
       "    x.observe(notebookContainer, {childList: true});\n",
       "}}\n",
       "\n",
       "// Listen for the clearing of the current output cell\n",
       "var outputEl = gd.closest('.output');\n",
       "if (outputEl) {{\n",
       "    x.observe(outputEl, {childList: true});\n",
       "}}\n",
       "\n",
       "                        })                };                });            </script>        </div>"
      ]
     },
     "metadata": {},
     "output_type": "display_data"
    }
   ],
   "source": [
    "fig = px.bar(defesa_pessoal, x='TOTAL', y='ABRANGENCIA', \n",
    "             title='Total de portes de arma por abrangência na categoria Defesa Pessoal',  \n",
    "             height=500, color_discrete_sequence=px.colors.qualitative.G10)\n",
    "fig.show()"
   ]
  },
  {
   "cell_type": "markdown",
   "id": "54f5fbda",
   "metadata": {},
   "source": [
    "### Caçador de Subsistência"
   ]
  },
  {
   "cell_type": "code",
   "execution_count": 33,
   "id": "1f55704b",
   "metadata": {},
   "outputs": [],
   "source": [
    "cacador = df_porte.query('CATEGORIA == \"Caçador de Subsistência\"')"
   ]
  },
  {
   "cell_type": "code",
   "execution_count": 34,
   "id": "c7f383eb",
   "metadata": {},
   "outputs": [
    {
     "data": {
      "text/html": [
       "<div>\n",
       "<style scoped>\n",
       "    .dataframe tbody tr th:only-of-type {\n",
       "        vertical-align: middle;\n",
       "    }\n",
       "\n",
       "    .dataframe tbody tr th {\n",
       "        vertical-align: top;\n",
       "    }\n",
       "\n",
       "    .dataframe thead th {\n",
       "        text-align: right;\n",
       "    }\n",
       "</style>\n",
       "<table border=\"1\" class=\"dataframe\">\n",
       "  <thead>\n",
       "    <tr style=\"text-align: right;\">\n",
       "      <th></th>\n",
       "      <th>UF</th>\n",
       "      <th>CATEGORIA</th>\n",
       "      <th>ABRANGENCIA</th>\n",
       "      <th>TOTAL</th>\n",
       "      <th>MES</th>\n",
       "    </tr>\n",
       "  </thead>\n",
       "  <tbody>\n",
       "    <tr>\n",
       "      <th>0</th>\n",
       "      <td>AC</td>\n",
       "      <td>Caçador de Subsistência</td>\n",
       "      <td>None</td>\n",
       "      <td>15</td>\n",
       "      <td>jan</td>\n",
       "    </tr>\n",
       "    <tr>\n",
       "      <th>7</th>\n",
       "      <td>AM</td>\n",
       "      <td>Caçador de Subsistência</td>\n",
       "      <td>None</td>\n",
       "      <td>1</td>\n",
       "      <td>jan</td>\n",
       "    </tr>\n",
       "    <tr>\n",
       "      <th>28</th>\n",
       "      <td>PA</td>\n",
       "      <td>Caçador de Subsistência</td>\n",
       "      <td>None</td>\n",
       "      <td>19</td>\n",
       "      <td>jan</td>\n",
       "    </tr>\n",
       "    <tr>\n",
       "      <th>0</th>\n",
       "      <td>AC</td>\n",
       "      <td>Caçador de Subsistência</td>\n",
       "      <td>None</td>\n",
       "      <td>5</td>\n",
       "      <td>ago</td>\n",
       "    </tr>\n",
       "    <tr>\n",
       "      <th>15</th>\n",
       "      <td>DF</td>\n",
       "      <td>Caçador de Subsistência</td>\n",
       "      <td>None</td>\n",
       "      <td>1</td>\n",
       "      <td>ago</td>\n",
       "    </tr>\n",
       "    <tr>\n",
       "      <th>...</th>\n",
       "      <td>...</td>\n",
       "      <td>...</td>\n",
       "      <td>...</td>\n",
       "      <td>...</td>\n",
       "      <td>...</td>\n",
       "    </tr>\n",
       "    <tr>\n",
       "      <th>27</th>\n",
       "      <td>MT</td>\n",
       "      <td>Caçador de Subsistência</td>\n",
       "      <td>None</td>\n",
       "      <td>2</td>\n",
       "      <td>abril</td>\n",
       "    </tr>\n",
       "    <tr>\n",
       "      <th>30</th>\n",
       "      <td>PA</td>\n",
       "      <td>Caçador de Subsistência</td>\n",
       "      <td>None</td>\n",
       "      <td>14</td>\n",
       "      <td>abril</td>\n",
       "    </tr>\n",
       "    <tr>\n",
       "      <th>0</th>\n",
       "      <td>AC</td>\n",
       "      <td>Caçador de Subsistência</td>\n",
       "      <td>None</td>\n",
       "      <td>1</td>\n",
       "      <td>mar</td>\n",
       "    </tr>\n",
       "    <tr>\n",
       "      <th>30</th>\n",
       "      <td>PA</td>\n",
       "      <td>Caçador de Subsistência</td>\n",
       "      <td>None</td>\n",
       "      <td>36</td>\n",
       "      <td>mar</td>\n",
       "    </tr>\n",
       "    <tr>\n",
       "      <th>50</th>\n",
       "      <td>SC</td>\n",
       "      <td>Caçador de Subsistência</td>\n",
       "      <td>None</td>\n",
       "      <td>5</td>\n",
       "      <td>mar</td>\n",
       "    </tr>\n",
       "  </tbody>\n",
       "</table>\n",
       "<p>70 rows × 5 columns</p>\n",
       "</div>"
      ],
      "text/plain": [
       "    UF                CATEGORIA ABRANGENCIA  TOTAL    MES\n",
       "0   AC  Caçador de Subsistência        None     15    jan\n",
       "7   AM  Caçador de Subsistência        None      1    jan\n",
       "28  PA  Caçador de Subsistência        None     19    jan\n",
       "0   AC  Caçador de Subsistência        None      5    ago\n",
       "15  DF  Caçador de Subsistência        None      1    ago\n",
       "..  ..                      ...         ...    ...    ...\n",
       "27  MT  Caçador de Subsistência        None      2  abril\n",
       "30  PA  Caçador de Subsistência        None     14  abril\n",
       "0   AC  Caçador de Subsistência        None      1    mar\n",
       "30  PA  Caçador de Subsistência        None     36    mar\n",
       "50  SC  Caçador de Subsistência        None      5    mar\n",
       "\n",
       "[70 rows x 5 columns]"
      ]
     },
     "execution_count": 34,
     "metadata": {},
     "output_type": "execute_result"
    }
   ],
   "source": [
    "cacador"
   ]
  },
  {
   "cell_type": "code",
   "execution_count": 35,
   "id": "297db8c7",
   "metadata": {},
   "outputs": [
    {
     "name": "stdout",
     "output_type": "stream",
     "text": [
      "Total de portes para uso como Caçador de Subsistência: 526 .\n"
     ]
    }
   ],
   "source": [
    "print(\"Total de portes para uso como Caçador de Subsistência:\", cacador['TOTAL'].sum(), '.')"
   ]
  },
  {
   "cell_type": "code",
   "execution_count": 69,
   "id": "b64fc813",
   "metadata": {},
   "outputs": [
    {
     "data": {
      "application/vnd.plotly.v1+json": {
       "config": {
        "plotlyServerURL": "https://plot.ly"
       },
       "data": [
        {
         "alignmentgroup": "True",
         "hovertemplate": "TOTAL=%{x}<br>MES=%{y}<extra></extra>",
         "legendgroup": "",
         "marker": {
          "color": "#316395",
          "pattern": {
           "shape": ""
          }
         },
         "name": "",
         "offsetgroup": "",
         "orientation": "h",
         "showlegend": false,
         "textposition": "auto",
         "type": "bar",
         "x": [
          15,
          1,
          19,
          5,
          1,
          2,
          3,
          35,
          1,
          1,
          1,
          3,
          2,
          5,
          2,
          1,
          1,
          10,
          2,
          26,
          1,
          4,
          1,
          1,
          1,
          1,
          3,
          30,
          1,
          3,
          1,
          1,
          8,
          5,
          1,
          36,
          1,
          1,
          1,
          2,
          3,
          3,
          1,
          20,
          4,
          1,
          1,
          48,
          1,
          1,
          2,
          1,
          4,
          49,
          1,
          9,
          2,
          46,
          10,
          2,
          7,
          2,
          9,
          1,
          1,
          2,
          14,
          1,
          36,
          5
         ],
         "xaxis": "x",
         "y": [
          "jan",
          "jan",
          "jan",
          "ago",
          "ago",
          "ago",
          "ago",
          "ago",
          "ago",
          "ago",
          "ago",
          "ago",
          "ago",
          "ago",
          "dez",
          "dez",
          "dez",
          "dez",
          "out",
          "out",
          "out",
          "set",
          "set",
          "set",
          "set",
          "set",
          "set",
          "set",
          "set",
          "set",
          "set",
          "set",
          "jul",
          "jul",
          "jul",
          "jul",
          "jul",
          "jul",
          "jul",
          "jul",
          "jul",
          "jul",
          "jul",
          "jun",
          "jun",
          "jun",
          "jun",
          "jun",
          "jun",
          "jun",
          "jun",
          "jun",
          "nov",
          "nov",
          "nov",
          "mai",
          "mai",
          "mai",
          "fev",
          "fev",
          "fev",
          "fev",
          "abril",
          "abril",
          "abril",
          "abril",
          "abril",
          "mar",
          "mar",
          "mar"
         ],
         "yaxis": "y"
        }
       ],
       "layout": {
        "barmode": "relative",
        "height": 500,
        "legend": {
         "tracegroupgap": 0
        },
        "template": {
         "data": {
          "bar": [
           {
            "error_x": {
             "color": "#2a3f5f"
            },
            "error_y": {
             "color": "#2a3f5f"
            },
            "marker": {
             "line": {
              "color": "#E5ECF6",
              "width": 0.5
             },
             "pattern": {
              "fillmode": "overlay",
              "size": 10,
              "solidity": 0.2
             }
            },
            "type": "bar"
           }
          ],
          "barpolar": [
           {
            "marker": {
             "line": {
              "color": "#E5ECF6",
              "width": 0.5
             },
             "pattern": {
              "fillmode": "overlay",
              "size": 10,
              "solidity": 0.2
             }
            },
            "type": "barpolar"
           }
          ],
          "carpet": [
           {
            "aaxis": {
             "endlinecolor": "#2a3f5f",
             "gridcolor": "white",
             "linecolor": "white",
             "minorgridcolor": "white",
             "startlinecolor": "#2a3f5f"
            },
            "baxis": {
             "endlinecolor": "#2a3f5f",
             "gridcolor": "white",
             "linecolor": "white",
             "minorgridcolor": "white",
             "startlinecolor": "#2a3f5f"
            },
            "type": "carpet"
           }
          ],
          "choropleth": [
           {
            "colorbar": {
             "outlinewidth": 0,
             "ticks": ""
            },
            "type": "choropleth"
           }
          ],
          "contour": [
           {
            "colorbar": {
             "outlinewidth": 0,
             "ticks": ""
            },
            "colorscale": [
             [
              0,
              "#0d0887"
             ],
             [
              0.1111111111111111,
              "#46039f"
             ],
             [
              0.2222222222222222,
              "#7201a8"
             ],
             [
              0.3333333333333333,
              "#9c179e"
             ],
             [
              0.4444444444444444,
              "#bd3786"
             ],
             [
              0.5555555555555556,
              "#d8576b"
             ],
             [
              0.6666666666666666,
              "#ed7953"
             ],
             [
              0.7777777777777778,
              "#fb9f3a"
             ],
             [
              0.8888888888888888,
              "#fdca26"
             ],
             [
              1,
              "#f0f921"
             ]
            ],
            "type": "contour"
           }
          ],
          "contourcarpet": [
           {
            "colorbar": {
             "outlinewidth": 0,
             "ticks": ""
            },
            "type": "contourcarpet"
           }
          ],
          "heatmap": [
           {
            "colorbar": {
             "outlinewidth": 0,
             "ticks": ""
            },
            "colorscale": [
             [
              0,
              "#0d0887"
             ],
             [
              0.1111111111111111,
              "#46039f"
             ],
             [
              0.2222222222222222,
              "#7201a8"
             ],
             [
              0.3333333333333333,
              "#9c179e"
             ],
             [
              0.4444444444444444,
              "#bd3786"
             ],
             [
              0.5555555555555556,
              "#d8576b"
             ],
             [
              0.6666666666666666,
              "#ed7953"
             ],
             [
              0.7777777777777778,
              "#fb9f3a"
             ],
             [
              0.8888888888888888,
              "#fdca26"
             ],
             [
              1,
              "#f0f921"
             ]
            ],
            "type": "heatmap"
           }
          ],
          "heatmapgl": [
           {
            "colorbar": {
             "outlinewidth": 0,
             "ticks": ""
            },
            "colorscale": [
             [
              0,
              "#0d0887"
             ],
             [
              0.1111111111111111,
              "#46039f"
             ],
             [
              0.2222222222222222,
              "#7201a8"
             ],
             [
              0.3333333333333333,
              "#9c179e"
             ],
             [
              0.4444444444444444,
              "#bd3786"
             ],
             [
              0.5555555555555556,
              "#d8576b"
             ],
             [
              0.6666666666666666,
              "#ed7953"
             ],
             [
              0.7777777777777778,
              "#fb9f3a"
             ],
             [
              0.8888888888888888,
              "#fdca26"
             ],
             [
              1,
              "#f0f921"
             ]
            ],
            "type": "heatmapgl"
           }
          ],
          "histogram": [
           {
            "marker": {
             "pattern": {
              "fillmode": "overlay",
              "size": 10,
              "solidity": 0.2
             }
            },
            "type": "histogram"
           }
          ],
          "histogram2d": [
           {
            "colorbar": {
             "outlinewidth": 0,
             "ticks": ""
            },
            "colorscale": [
             [
              0,
              "#0d0887"
             ],
             [
              0.1111111111111111,
              "#46039f"
             ],
             [
              0.2222222222222222,
              "#7201a8"
             ],
             [
              0.3333333333333333,
              "#9c179e"
             ],
             [
              0.4444444444444444,
              "#bd3786"
             ],
             [
              0.5555555555555556,
              "#d8576b"
             ],
             [
              0.6666666666666666,
              "#ed7953"
             ],
             [
              0.7777777777777778,
              "#fb9f3a"
             ],
             [
              0.8888888888888888,
              "#fdca26"
             ],
             [
              1,
              "#f0f921"
             ]
            ],
            "type": "histogram2d"
           }
          ],
          "histogram2dcontour": [
           {
            "colorbar": {
             "outlinewidth": 0,
             "ticks": ""
            },
            "colorscale": [
             [
              0,
              "#0d0887"
             ],
             [
              0.1111111111111111,
              "#46039f"
             ],
             [
              0.2222222222222222,
              "#7201a8"
             ],
             [
              0.3333333333333333,
              "#9c179e"
             ],
             [
              0.4444444444444444,
              "#bd3786"
             ],
             [
              0.5555555555555556,
              "#d8576b"
             ],
             [
              0.6666666666666666,
              "#ed7953"
             ],
             [
              0.7777777777777778,
              "#fb9f3a"
             ],
             [
              0.8888888888888888,
              "#fdca26"
             ],
             [
              1,
              "#f0f921"
             ]
            ],
            "type": "histogram2dcontour"
           }
          ],
          "mesh3d": [
           {
            "colorbar": {
             "outlinewidth": 0,
             "ticks": ""
            },
            "type": "mesh3d"
           }
          ],
          "parcoords": [
           {
            "line": {
             "colorbar": {
              "outlinewidth": 0,
              "ticks": ""
             }
            },
            "type": "parcoords"
           }
          ],
          "pie": [
           {
            "automargin": true,
            "type": "pie"
           }
          ],
          "scatter": [
           {
            "fillpattern": {
             "fillmode": "overlay",
             "size": 10,
             "solidity": 0.2
            },
            "type": "scatter"
           }
          ],
          "scatter3d": [
           {
            "line": {
             "colorbar": {
              "outlinewidth": 0,
              "ticks": ""
             }
            },
            "marker": {
             "colorbar": {
              "outlinewidth": 0,
              "ticks": ""
             }
            },
            "type": "scatter3d"
           }
          ],
          "scattercarpet": [
           {
            "marker": {
             "colorbar": {
              "outlinewidth": 0,
              "ticks": ""
             }
            },
            "type": "scattercarpet"
           }
          ],
          "scattergeo": [
           {
            "marker": {
             "colorbar": {
              "outlinewidth": 0,
              "ticks": ""
             }
            },
            "type": "scattergeo"
           }
          ],
          "scattergl": [
           {
            "marker": {
             "colorbar": {
              "outlinewidth": 0,
              "ticks": ""
             }
            },
            "type": "scattergl"
           }
          ],
          "scattermapbox": [
           {
            "marker": {
             "colorbar": {
              "outlinewidth": 0,
              "ticks": ""
             }
            },
            "type": "scattermapbox"
           }
          ],
          "scatterpolar": [
           {
            "marker": {
             "colorbar": {
              "outlinewidth": 0,
              "ticks": ""
             }
            },
            "type": "scatterpolar"
           }
          ],
          "scatterpolargl": [
           {
            "marker": {
             "colorbar": {
              "outlinewidth": 0,
              "ticks": ""
             }
            },
            "type": "scatterpolargl"
           }
          ],
          "scatterternary": [
           {
            "marker": {
             "colorbar": {
              "outlinewidth": 0,
              "ticks": ""
             }
            },
            "type": "scatterternary"
           }
          ],
          "surface": [
           {
            "colorbar": {
             "outlinewidth": 0,
             "ticks": ""
            },
            "colorscale": [
             [
              0,
              "#0d0887"
             ],
             [
              0.1111111111111111,
              "#46039f"
             ],
             [
              0.2222222222222222,
              "#7201a8"
             ],
             [
              0.3333333333333333,
              "#9c179e"
             ],
             [
              0.4444444444444444,
              "#bd3786"
             ],
             [
              0.5555555555555556,
              "#d8576b"
             ],
             [
              0.6666666666666666,
              "#ed7953"
             ],
             [
              0.7777777777777778,
              "#fb9f3a"
             ],
             [
              0.8888888888888888,
              "#fdca26"
             ],
             [
              1,
              "#f0f921"
             ]
            ],
            "type": "surface"
           }
          ],
          "table": [
           {
            "cells": {
             "fill": {
              "color": "#EBF0F8"
             },
             "line": {
              "color": "white"
             }
            },
            "header": {
             "fill": {
              "color": "#C8D4E3"
             },
             "line": {
              "color": "white"
             }
            },
            "type": "table"
           }
          ]
         },
         "layout": {
          "annotationdefaults": {
           "arrowcolor": "#2a3f5f",
           "arrowhead": 0,
           "arrowwidth": 1
          },
          "autotypenumbers": "strict",
          "coloraxis": {
           "colorbar": {
            "outlinewidth": 0,
            "ticks": ""
           }
          },
          "colorscale": {
           "diverging": [
            [
             0,
             "#8e0152"
            ],
            [
             0.1,
             "#c51b7d"
            ],
            [
             0.2,
             "#de77ae"
            ],
            [
             0.3,
             "#f1b6da"
            ],
            [
             0.4,
             "#fde0ef"
            ],
            [
             0.5,
             "#f7f7f7"
            ],
            [
             0.6,
             "#e6f5d0"
            ],
            [
             0.7,
             "#b8e186"
            ],
            [
             0.8,
             "#7fbc41"
            ],
            [
             0.9,
             "#4d9221"
            ],
            [
             1,
             "#276419"
            ]
           ],
           "sequential": [
            [
             0,
             "#0d0887"
            ],
            [
             0.1111111111111111,
             "#46039f"
            ],
            [
             0.2222222222222222,
             "#7201a8"
            ],
            [
             0.3333333333333333,
             "#9c179e"
            ],
            [
             0.4444444444444444,
             "#bd3786"
            ],
            [
             0.5555555555555556,
             "#d8576b"
            ],
            [
             0.6666666666666666,
             "#ed7953"
            ],
            [
             0.7777777777777778,
             "#fb9f3a"
            ],
            [
             0.8888888888888888,
             "#fdca26"
            ],
            [
             1,
             "#f0f921"
            ]
           ],
           "sequentialminus": [
            [
             0,
             "#0d0887"
            ],
            [
             0.1111111111111111,
             "#46039f"
            ],
            [
             0.2222222222222222,
             "#7201a8"
            ],
            [
             0.3333333333333333,
             "#9c179e"
            ],
            [
             0.4444444444444444,
             "#bd3786"
            ],
            [
             0.5555555555555556,
             "#d8576b"
            ],
            [
             0.6666666666666666,
             "#ed7953"
            ],
            [
             0.7777777777777778,
             "#fb9f3a"
            ],
            [
             0.8888888888888888,
             "#fdca26"
            ],
            [
             1,
             "#f0f921"
            ]
           ]
          },
          "colorway": [
           "#636efa",
           "#EF553B",
           "#00cc96",
           "#ab63fa",
           "#FFA15A",
           "#19d3f3",
           "#FF6692",
           "#B6E880",
           "#FF97FF",
           "#FECB52"
          ],
          "font": {
           "color": "#2a3f5f"
          },
          "geo": {
           "bgcolor": "white",
           "lakecolor": "white",
           "landcolor": "#E5ECF6",
           "showlakes": true,
           "showland": true,
           "subunitcolor": "white"
          },
          "hoverlabel": {
           "align": "left"
          },
          "hovermode": "closest",
          "mapbox": {
           "style": "light"
          },
          "paper_bgcolor": "white",
          "plot_bgcolor": "#E5ECF6",
          "polar": {
           "angularaxis": {
            "gridcolor": "white",
            "linecolor": "white",
            "ticks": ""
           },
           "bgcolor": "#E5ECF6",
           "radialaxis": {
            "gridcolor": "white",
            "linecolor": "white",
            "ticks": ""
           }
          },
          "scene": {
           "xaxis": {
            "backgroundcolor": "#E5ECF6",
            "gridcolor": "white",
            "gridwidth": 2,
            "linecolor": "white",
            "showbackground": true,
            "ticks": "",
            "zerolinecolor": "white"
           },
           "yaxis": {
            "backgroundcolor": "#E5ECF6",
            "gridcolor": "white",
            "gridwidth": 2,
            "linecolor": "white",
            "showbackground": true,
            "ticks": "",
            "zerolinecolor": "white"
           },
           "zaxis": {
            "backgroundcolor": "#E5ECF6",
            "gridcolor": "white",
            "gridwidth": 2,
            "linecolor": "white",
            "showbackground": true,
            "ticks": "",
            "zerolinecolor": "white"
           }
          },
          "shapedefaults": {
           "line": {
            "color": "#2a3f5f"
           }
          },
          "ternary": {
           "aaxis": {
            "gridcolor": "white",
            "linecolor": "white",
            "ticks": ""
           },
           "baxis": {
            "gridcolor": "white",
            "linecolor": "white",
            "ticks": ""
           },
           "bgcolor": "#E5ECF6",
           "caxis": {
            "gridcolor": "white",
            "linecolor": "white",
            "ticks": ""
           }
          },
          "title": {
           "x": 0.05
          },
          "xaxis": {
           "automargin": true,
           "gridcolor": "white",
           "linecolor": "white",
           "ticks": "",
           "title": {
            "standoff": 15
           },
           "zerolinecolor": "white",
           "zerolinewidth": 2
          },
          "yaxis": {
           "automargin": true,
           "gridcolor": "white",
           "linecolor": "white",
           "ticks": "",
           "title": {
            "standoff": 15
           },
           "zerolinecolor": "white",
           "zerolinewidth": 2
          }
         }
        },
        "title": {
         "text": "Total de portes de arma por mês na categoria Caçador de Subsistência"
        },
        "xaxis": {
         "anchor": "y",
         "domain": [
          0,
          1
         ],
         "title": {
          "text": "TOTAL"
         }
        },
        "yaxis": {
         "anchor": "x",
         "domain": [
          0,
          1
         ],
         "title": {
          "text": "MES"
         }
        }
       }
      },
      "text/html": [
       "<div>                            <div id=\"dbd80630-f3f5-42de-939f-d1e7f2f2f459\" class=\"plotly-graph-div\" style=\"height:500px; width:100%;\"></div>            <script type=\"text/javascript\">                require([\"plotly\"], function(Plotly) {                    window.PLOTLYENV=window.PLOTLYENV || {};                                    if (document.getElementById(\"dbd80630-f3f5-42de-939f-d1e7f2f2f459\")) {                    Plotly.newPlot(                        \"dbd80630-f3f5-42de-939f-d1e7f2f2f459\",                        [{\"alignmentgroup\":\"True\",\"hovertemplate\":\"TOTAL=%{x}<br>MES=%{y}<extra></extra>\",\"legendgroup\":\"\",\"marker\":{\"color\":\"#316395\",\"pattern\":{\"shape\":\"\"}},\"name\":\"\",\"offsetgroup\":\"\",\"orientation\":\"h\",\"showlegend\":false,\"textposition\":\"auto\",\"x\":[15,1,19,5,1,2,3,35,1,1,1,3,2,5,2,1,1,10,2,26,1,4,1,1,1,1,3,30,1,3,1,1,8,5,1,36,1,1,1,2,3,3,1,20,4,1,1,48,1,1,2,1,4,49,1,9,2,46,10,2,7,2,9,1,1,2,14,1,36,5],\"xaxis\":\"x\",\"y\":[\"jan\",\"jan\",\"jan\",\"ago\",\"ago\",\"ago\",\"ago\",\"ago\",\"ago\",\"ago\",\"ago\",\"ago\",\"ago\",\"ago\",\"dez\",\"dez\",\"dez\",\"dez\",\"out\",\"out\",\"out\",\"set\",\"set\",\"set\",\"set\",\"set\",\"set\",\"set\",\"set\",\"set\",\"set\",\"set\",\"jul\",\"jul\",\"jul\",\"jul\",\"jul\",\"jul\",\"jul\",\"jul\",\"jul\",\"jul\",\"jul\",\"jun\",\"jun\",\"jun\",\"jun\",\"jun\",\"jun\",\"jun\",\"jun\",\"jun\",\"nov\",\"nov\",\"nov\",\"mai\",\"mai\",\"mai\",\"fev\",\"fev\",\"fev\",\"fev\",\"abril\",\"abril\",\"abril\",\"abril\",\"abril\",\"mar\",\"mar\",\"mar\"],\"yaxis\":\"y\",\"type\":\"bar\"}],                        {\"template\":{\"data\":{\"histogram2dcontour\":[{\"type\":\"histogram2dcontour\",\"colorbar\":{\"outlinewidth\":0,\"ticks\":\"\"},\"colorscale\":[[0.0,\"#0d0887\"],[0.1111111111111111,\"#46039f\"],[0.2222222222222222,\"#7201a8\"],[0.3333333333333333,\"#9c179e\"],[0.4444444444444444,\"#bd3786\"],[0.5555555555555556,\"#d8576b\"],[0.6666666666666666,\"#ed7953\"],[0.7777777777777778,\"#fb9f3a\"],[0.8888888888888888,\"#fdca26\"],[1.0,\"#f0f921\"]]}],\"choropleth\":[{\"type\":\"choropleth\",\"colorbar\":{\"outlinewidth\":0,\"ticks\":\"\"}}],\"histogram2d\":[{\"type\":\"histogram2d\",\"colorbar\":{\"outlinewidth\":0,\"ticks\":\"\"},\"colorscale\":[[0.0,\"#0d0887\"],[0.1111111111111111,\"#46039f\"],[0.2222222222222222,\"#7201a8\"],[0.3333333333333333,\"#9c179e\"],[0.4444444444444444,\"#bd3786\"],[0.5555555555555556,\"#d8576b\"],[0.6666666666666666,\"#ed7953\"],[0.7777777777777778,\"#fb9f3a\"],[0.8888888888888888,\"#fdca26\"],[1.0,\"#f0f921\"]]}],\"heatmap\":[{\"type\":\"heatmap\",\"colorbar\":{\"outlinewidth\":0,\"ticks\":\"\"},\"colorscale\":[[0.0,\"#0d0887\"],[0.1111111111111111,\"#46039f\"],[0.2222222222222222,\"#7201a8\"],[0.3333333333333333,\"#9c179e\"],[0.4444444444444444,\"#bd3786\"],[0.5555555555555556,\"#d8576b\"],[0.6666666666666666,\"#ed7953\"],[0.7777777777777778,\"#fb9f3a\"],[0.8888888888888888,\"#fdca26\"],[1.0,\"#f0f921\"]]}],\"heatmapgl\":[{\"type\":\"heatmapgl\",\"colorbar\":{\"outlinewidth\":0,\"ticks\":\"\"},\"colorscale\":[[0.0,\"#0d0887\"],[0.1111111111111111,\"#46039f\"],[0.2222222222222222,\"#7201a8\"],[0.3333333333333333,\"#9c179e\"],[0.4444444444444444,\"#bd3786\"],[0.5555555555555556,\"#d8576b\"],[0.6666666666666666,\"#ed7953\"],[0.7777777777777778,\"#fb9f3a\"],[0.8888888888888888,\"#fdca26\"],[1.0,\"#f0f921\"]]}],\"contourcarpet\":[{\"type\":\"contourcarpet\",\"colorbar\":{\"outlinewidth\":0,\"ticks\":\"\"}}],\"contour\":[{\"type\":\"contour\",\"colorbar\":{\"outlinewidth\":0,\"ticks\":\"\"},\"colorscale\":[[0.0,\"#0d0887\"],[0.1111111111111111,\"#46039f\"],[0.2222222222222222,\"#7201a8\"],[0.3333333333333333,\"#9c179e\"],[0.4444444444444444,\"#bd3786\"],[0.5555555555555556,\"#d8576b\"],[0.6666666666666666,\"#ed7953\"],[0.7777777777777778,\"#fb9f3a\"],[0.8888888888888888,\"#fdca26\"],[1.0,\"#f0f921\"]]}],\"surface\":[{\"type\":\"surface\",\"colorbar\":{\"outlinewidth\":0,\"ticks\":\"\"},\"colorscale\":[[0.0,\"#0d0887\"],[0.1111111111111111,\"#46039f\"],[0.2222222222222222,\"#7201a8\"],[0.3333333333333333,\"#9c179e\"],[0.4444444444444444,\"#bd3786\"],[0.5555555555555556,\"#d8576b\"],[0.6666666666666666,\"#ed7953\"],[0.7777777777777778,\"#fb9f3a\"],[0.8888888888888888,\"#fdca26\"],[1.0,\"#f0f921\"]]}],\"mesh3d\":[{\"type\":\"mesh3d\",\"colorbar\":{\"outlinewidth\":0,\"ticks\":\"\"}}],\"scatter\":[{\"fillpattern\":{\"fillmode\":\"overlay\",\"size\":10,\"solidity\":0.2},\"type\":\"scatter\"}],\"parcoords\":[{\"type\":\"parcoords\",\"line\":{\"colorbar\":{\"outlinewidth\":0,\"ticks\":\"\"}}}],\"scatterpolargl\":[{\"type\":\"scatterpolargl\",\"marker\":{\"colorbar\":{\"outlinewidth\":0,\"ticks\":\"\"}}}],\"bar\":[{\"error_x\":{\"color\":\"#2a3f5f\"},\"error_y\":{\"color\":\"#2a3f5f\"},\"marker\":{\"line\":{\"color\":\"#E5ECF6\",\"width\":0.5},\"pattern\":{\"fillmode\":\"overlay\",\"size\":10,\"solidity\":0.2}},\"type\":\"bar\"}],\"scattergeo\":[{\"type\":\"scattergeo\",\"marker\":{\"colorbar\":{\"outlinewidth\":0,\"ticks\":\"\"}}}],\"scatterpolar\":[{\"type\":\"scatterpolar\",\"marker\":{\"colorbar\":{\"outlinewidth\":0,\"ticks\":\"\"}}}],\"histogram\":[{\"marker\":{\"pattern\":{\"fillmode\":\"overlay\",\"size\":10,\"solidity\":0.2}},\"type\":\"histogram\"}],\"scattergl\":[{\"type\":\"scattergl\",\"marker\":{\"colorbar\":{\"outlinewidth\":0,\"ticks\":\"\"}}}],\"scatter3d\":[{\"type\":\"scatter3d\",\"line\":{\"colorbar\":{\"outlinewidth\":0,\"ticks\":\"\"}},\"marker\":{\"colorbar\":{\"outlinewidth\":0,\"ticks\":\"\"}}}],\"scattermapbox\":[{\"type\":\"scattermapbox\",\"marker\":{\"colorbar\":{\"outlinewidth\":0,\"ticks\":\"\"}}}],\"scatterternary\":[{\"type\":\"scatterternary\",\"marker\":{\"colorbar\":{\"outlinewidth\":0,\"ticks\":\"\"}}}],\"scattercarpet\":[{\"type\":\"scattercarpet\",\"marker\":{\"colorbar\":{\"outlinewidth\":0,\"ticks\":\"\"}}}],\"carpet\":[{\"aaxis\":{\"endlinecolor\":\"#2a3f5f\",\"gridcolor\":\"white\",\"linecolor\":\"white\",\"minorgridcolor\":\"white\",\"startlinecolor\":\"#2a3f5f\"},\"baxis\":{\"endlinecolor\":\"#2a3f5f\",\"gridcolor\":\"white\",\"linecolor\":\"white\",\"minorgridcolor\":\"white\",\"startlinecolor\":\"#2a3f5f\"},\"type\":\"carpet\"}],\"table\":[{\"cells\":{\"fill\":{\"color\":\"#EBF0F8\"},\"line\":{\"color\":\"white\"}},\"header\":{\"fill\":{\"color\":\"#C8D4E3\"},\"line\":{\"color\":\"white\"}},\"type\":\"table\"}],\"barpolar\":[{\"marker\":{\"line\":{\"color\":\"#E5ECF6\",\"width\":0.5},\"pattern\":{\"fillmode\":\"overlay\",\"size\":10,\"solidity\":0.2}},\"type\":\"barpolar\"}],\"pie\":[{\"automargin\":true,\"type\":\"pie\"}]},\"layout\":{\"autotypenumbers\":\"strict\",\"colorway\":[\"#636efa\",\"#EF553B\",\"#00cc96\",\"#ab63fa\",\"#FFA15A\",\"#19d3f3\",\"#FF6692\",\"#B6E880\",\"#FF97FF\",\"#FECB52\"],\"font\":{\"color\":\"#2a3f5f\"},\"hovermode\":\"closest\",\"hoverlabel\":{\"align\":\"left\"},\"paper_bgcolor\":\"white\",\"plot_bgcolor\":\"#E5ECF6\",\"polar\":{\"bgcolor\":\"#E5ECF6\",\"angularaxis\":{\"gridcolor\":\"white\",\"linecolor\":\"white\",\"ticks\":\"\"},\"radialaxis\":{\"gridcolor\":\"white\",\"linecolor\":\"white\",\"ticks\":\"\"}},\"ternary\":{\"bgcolor\":\"#E5ECF6\",\"aaxis\":{\"gridcolor\":\"white\",\"linecolor\":\"white\",\"ticks\":\"\"},\"baxis\":{\"gridcolor\":\"white\",\"linecolor\":\"white\",\"ticks\":\"\"},\"caxis\":{\"gridcolor\":\"white\",\"linecolor\":\"white\",\"ticks\":\"\"}},\"coloraxis\":{\"colorbar\":{\"outlinewidth\":0,\"ticks\":\"\"}},\"colorscale\":{\"sequential\":[[0.0,\"#0d0887\"],[0.1111111111111111,\"#46039f\"],[0.2222222222222222,\"#7201a8\"],[0.3333333333333333,\"#9c179e\"],[0.4444444444444444,\"#bd3786\"],[0.5555555555555556,\"#d8576b\"],[0.6666666666666666,\"#ed7953\"],[0.7777777777777778,\"#fb9f3a\"],[0.8888888888888888,\"#fdca26\"],[1.0,\"#f0f921\"]],\"sequentialminus\":[[0.0,\"#0d0887\"],[0.1111111111111111,\"#46039f\"],[0.2222222222222222,\"#7201a8\"],[0.3333333333333333,\"#9c179e\"],[0.4444444444444444,\"#bd3786\"],[0.5555555555555556,\"#d8576b\"],[0.6666666666666666,\"#ed7953\"],[0.7777777777777778,\"#fb9f3a\"],[0.8888888888888888,\"#fdca26\"],[1.0,\"#f0f921\"]],\"diverging\":[[0,\"#8e0152\"],[0.1,\"#c51b7d\"],[0.2,\"#de77ae\"],[0.3,\"#f1b6da\"],[0.4,\"#fde0ef\"],[0.5,\"#f7f7f7\"],[0.6,\"#e6f5d0\"],[0.7,\"#b8e186\"],[0.8,\"#7fbc41\"],[0.9,\"#4d9221\"],[1,\"#276419\"]]},\"xaxis\":{\"gridcolor\":\"white\",\"linecolor\":\"white\",\"ticks\":\"\",\"title\":{\"standoff\":15},\"zerolinecolor\":\"white\",\"automargin\":true,\"zerolinewidth\":2},\"yaxis\":{\"gridcolor\":\"white\",\"linecolor\":\"white\",\"ticks\":\"\",\"title\":{\"standoff\":15},\"zerolinecolor\":\"white\",\"automargin\":true,\"zerolinewidth\":2},\"scene\":{\"xaxis\":{\"backgroundcolor\":\"#E5ECF6\",\"gridcolor\":\"white\",\"linecolor\":\"white\",\"showbackground\":true,\"ticks\":\"\",\"zerolinecolor\":\"white\",\"gridwidth\":2},\"yaxis\":{\"backgroundcolor\":\"#E5ECF6\",\"gridcolor\":\"white\",\"linecolor\":\"white\",\"showbackground\":true,\"ticks\":\"\",\"zerolinecolor\":\"white\",\"gridwidth\":2},\"zaxis\":{\"backgroundcolor\":\"#E5ECF6\",\"gridcolor\":\"white\",\"linecolor\":\"white\",\"showbackground\":true,\"ticks\":\"\",\"zerolinecolor\":\"white\",\"gridwidth\":2}},\"shapedefaults\":{\"line\":{\"color\":\"#2a3f5f\"}},\"annotationdefaults\":{\"arrowcolor\":\"#2a3f5f\",\"arrowhead\":0,\"arrowwidth\":1},\"geo\":{\"bgcolor\":\"white\",\"landcolor\":\"#E5ECF6\",\"subunitcolor\":\"white\",\"showland\":true,\"showlakes\":true,\"lakecolor\":\"white\"},\"title\":{\"x\":0.05},\"mapbox\":{\"style\":\"light\"}}},\"xaxis\":{\"anchor\":\"y\",\"domain\":[0.0,1.0],\"title\":{\"text\":\"TOTAL\"}},\"yaxis\":{\"anchor\":\"x\",\"domain\":[0.0,1.0],\"title\":{\"text\":\"MES\"}},\"legend\":{\"tracegroupgap\":0},\"title\":{\"text\":\"Total de portes de arma por m\\u00eas na categoria Ca\\u00e7ador de Subsist\\u00eancia\"},\"barmode\":\"relative\",\"height\":500},                        {\"responsive\": true}                    ).then(function(){\n",
       "                            \n",
       "var gd = document.getElementById('dbd80630-f3f5-42de-939f-d1e7f2f2f459');\n",
       "var x = new MutationObserver(function (mutations, observer) {{\n",
       "        var display = window.getComputedStyle(gd).display;\n",
       "        if (!display || display === 'none') {{\n",
       "            console.log([gd, 'removed!']);\n",
       "            Plotly.purge(gd);\n",
       "            observer.disconnect();\n",
       "        }}\n",
       "}});\n",
       "\n",
       "// Listen for the removal of the full notebook cells\n",
       "var notebookContainer = gd.closest('#notebook-container');\n",
       "if (notebookContainer) {{\n",
       "    x.observe(notebookContainer, {childList: true});\n",
       "}}\n",
       "\n",
       "// Listen for the clearing of the current output cell\n",
       "var outputEl = gd.closest('.output');\n",
       "if (outputEl) {{\n",
       "    x.observe(outputEl, {childList: true});\n",
       "}}\n",
       "\n",
       "                        })                };                });            </script>        </div>"
      ]
     },
     "metadata": {},
     "output_type": "display_data"
    }
   ],
   "source": [
    "fig = px.bar(cacador, x='TOTAL', y='MES', \n",
    "             title='Total de portes de arma por mês na categoria Caçador de Subsistência',  \n",
    "             height=500, color_discrete_sequence=px.colors.qualitative.G10_r)\n",
    "fig.show()"
   ]
  },
  {
   "cell_type": "markdown",
   "id": "8ca494b7",
   "metadata": {},
   "source": [
    "### Funcional"
   ]
  },
  {
   "cell_type": "code",
   "execution_count": 36,
   "id": "d540b9c4",
   "metadata": {},
   "outputs": [],
   "source": [
    "funcional = df_porte.query('CATEGORIA == \"Funcional\"')"
   ]
  },
  {
   "cell_type": "code",
   "execution_count": 37,
   "id": "7046087a",
   "metadata": {},
   "outputs": [
    {
     "data": {
      "text/html": [
       "<div>\n",
       "<style scoped>\n",
       "    .dataframe tbody tr th:only-of-type {\n",
       "        vertical-align: middle;\n",
       "    }\n",
       "\n",
       "    .dataframe tbody tr th {\n",
       "        vertical-align: top;\n",
       "    }\n",
       "\n",
       "    .dataframe thead th {\n",
       "        text-align: right;\n",
       "    }\n",
       "</style>\n",
       "<table border=\"1\" class=\"dataframe\">\n",
       "  <thead>\n",
       "    <tr style=\"text-align: right;\">\n",
       "      <th></th>\n",
       "      <th>UF</th>\n",
       "      <th>CATEGORIA</th>\n",
       "      <th>ABRANGENCIA</th>\n",
       "      <th>TOTAL</th>\n",
       "      <th>MES</th>\n",
       "    </tr>\n",
       "  </thead>\n",
       "  <tbody>\n",
       "    <tr>\n",
       "      <th>6</th>\n",
       "      <td>AL</td>\n",
       "      <td>Funcional</td>\n",
       "      <td>Estadual</td>\n",
       "      <td>55</td>\n",
       "      <td>jan</td>\n",
       "    </tr>\n",
       "    <tr>\n",
       "      <th>9</th>\n",
       "      <td>BA</td>\n",
       "      <td>Funcional</td>\n",
       "      <td>Estadual</td>\n",
       "      <td>9</td>\n",
       "      <td>jan</td>\n",
       "    </tr>\n",
       "    <tr>\n",
       "      <th>17</th>\n",
       "      <td>ES</td>\n",
       "      <td>Funcional</td>\n",
       "      <td>Estadual</td>\n",
       "      <td>5</td>\n",
       "      <td>jan</td>\n",
       "    </tr>\n",
       "    <tr>\n",
       "      <th>20</th>\n",
       "      <td>GO</td>\n",
       "      <td>Funcional</td>\n",
       "      <td>Estadual</td>\n",
       "      <td>19</td>\n",
       "      <td>jan</td>\n",
       "    </tr>\n",
       "    <tr>\n",
       "      <th>23</th>\n",
       "      <td>MG</td>\n",
       "      <td>Funcional</td>\n",
       "      <td>Nacional</td>\n",
       "      <td>1</td>\n",
       "      <td>jan</td>\n",
       "    </tr>\n",
       "    <tr>\n",
       "      <th>...</th>\n",
       "      <td>...</td>\n",
       "      <td>...</td>\n",
       "      <td>...</td>\n",
       "      <td>...</td>\n",
       "      <td>...</td>\n",
       "    </tr>\n",
       "    <tr>\n",
       "      <th>52</th>\n",
       "      <td>SC</td>\n",
       "      <td>Funcional</td>\n",
       "      <td>Estadual</td>\n",
       "      <td>10</td>\n",
       "      <td>mar</td>\n",
       "    </tr>\n",
       "    <tr>\n",
       "      <th>54</th>\n",
       "      <td>SE</td>\n",
       "      <td>Funcional</td>\n",
       "      <td>Estadual</td>\n",
       "      <td>19</td>\n",
       "      <td>mar</td>\n",
       "    </tr>\n",
       "    <tr>\n",
       "      <th>57</th>\n",
       "      <td>SP</td>\n",
       "      <td>Funcional</td>\n",
       "      <td>Estadual</td>\n",
       "      <td>435</td>\n",
       "      <td>mar</td>\n",
       "    </tr>\n",
       "    <tr>\n",
       "      <th>58</th>\n",
       "      <td>SP</td>\n",
       "      <td>Funcional</td>\n",
       "      <td>None</td>\n",
       "      <td>4</td>\n",
       "      <td>mar</td>\n",
       "    </tr>\n",
       "    <tr>\n",
       "      <th>61</th>\n",
       "      <td>TO</td>\n",
       "      <td>Funcional</td>\n",
       "      <td>Estadual</td>\n",
       "      <td>4</td>\n",
       "      <td>mar</td>\n",
       "    </tr>\n",
       "  </tbody>\n",
       "</table>\n",
       "<p>241 rows × 5 columns</p>\n",
       "</div>"
      ],
      "text/plain": [
       "    UF  CATEGORIA ABRANGENCIA  TOTAL  MES\n",
       "6   AL  Funcional    Estadual     55  jan\n",
       "9   BA  Funcional    Estadual      9  jan\n",
       "17  ES  Funcional    Estadual      5  jan\n",
       "20  GO  Funcional    Estadual     19  jan\n",
       "23  MG  Funcional    Nacional      1  jan\n",
       "..  ..        ...         ...    ...  ...\n",
       "52  SC  Funcional    Estadual     10  mar\n",
       "54  SE  Funcional    Estadual     19  mar\n",
       "57  SP  Funcional    Estadual    435  mar\n",
       "58  SP  Funcional        None      4  mar\n",
       "61  TO  Funcional    Estadual      4  mar\n",
       "\n",
       "[241 rows x 5 columns]"
      ]
     },
     "execution_count": 37,
     "metadata": {},
     "output_type": "execute_result"
    }
   ],
   "source": [
    "funcional"
   ]
  },
  {
   "cell_type": "code",
   "execution_count": 38,
   "id": "f790ba0e",
   "metadata": {},
   "outputs": [
    {
     "name": "stdout",
     "output_type": "stream",
     "text": [
      "Total de portes para uso Funcional: 8722 .\n"
     ]
    }
   ],
   "source": [
    "print(\"Total de portes para uso Funcional:\", funcional['TOTAL'].sum(), '.')"
   ]
  },
  {
   "cell_type": "code",
   "execution_count": 130,
   "id": "e3aa851e",
   "metadata": {},
   "outputs": [
    {
     "data": {
      "application/vnd.plotly.v1+json": {
       "config": {
        "plotlyServerURL": "https://plot.ly"
       },
       "data": [
        {
         "alignmentgroup": "True",
         "hovertemplate": "TOTAL=%{x}<br>MES=%{y}<extra></extra>",
         "legendgroup": "",
         "marker": {
          "color": "rgb(124, 124, 124)",
          "pattern": {
           "shape": ""
          }
         },
         "name": "",
         "offsetgroup": "",
         "orientation": "h",
         "showlegend": false,
         "textposition": "auto",
         "type": "bar",
         "x": [
          55,
          9,
          5,
          19,
          1,
          38,
          1,
          1,
          6,
          12,
          68,
          131,
          32,
          4,
          28,
          22,
          3,
          41,
          27,
          68,
          1,
          11,
          135,
          4,
          151,
          14,
          11,
          1,
          65,
          112,
          37,
          67,
          8,
          490,
          13,
          88,
          8,
          25,
          20,
          8,
          1,
          38,
          8,
          6,
          9,
          22,
          17,
          5,
          16,
          1,
          24,
          1,
          4,
          1,
          3,
          18,
          4,
          3,
          581,
          33,
          27,
          8,
          5,
          5,
          1,
          1,
          95,
          3,
          3,
          4,
          1,
          180,
          146,
          7,
          15,
          6,
          335,
          4,
          5,
          4,
          7,
          13,
          2,
          10,
          12,
          2,
          2,
          123,
          6,
          68,
          7,
          2,
          3,
          5,
          8,
          1,
          1,
          2,
          17,
          236,
          27,
          5,
          14,
          6,
          36,
          1,
          37,
          17,
          2,
          16,
          24,
          80,
          3,
          4,
          16,
          6,
          2,
          51,
          56,
          2,
          541,
          6,
          1,
          2,
          24,
          39,
          11,
          80,
          24,
          5,
          1,
          57,
          3,
          22,
          2,
          1,
          7,
          30,
          160,
          8,
          2,
          2,
          8,
          1,
          6,
          7,
          32,
          7,
          74,
          1,
          1,
          2,
          64,
          30,
          2,
          22,
          2,
          44,
          38,
          4,
          4,
          5,
          14,
          303,
          13,
          7,
          5,
          17,
          14,
          27,
          9,
          29,
          5,
          4,
          177,
          2,
          4,
          4,
          3,
          1,
          1,
          4,
          31,
          1,
          14,
          8,
          208,
          3,
          3,
          110,
          30,
          50,
          4,
          34,
          1,
          40,
          1,
          7,
          1,
          2,
          4,
          2,
          22,
          3,
          315,
          1,
          6,
          6,
          3,
          25,
          1,
          92,
          4,
          5,
          23,
          1,
          2,
          4,
          1,
          2,
          61,
          286,
          1,
          56,
          24,
          10,
          19,
          157,
          22,
          3,
          35,
          32,
          1,
          15,
          6,
          5,
          10,
          19,
          435,
          4,
          4
         ],
         "xaxis": "x",
         "y": [
          "jan",
          "jan",
          "jan",
          "jan",
          "jan",
          "jan",
          "jan",
          "jan",
          "jan",
          "jan",
          "jan",
          "jan",
          "ago",
          "ago",
          "ago",
          "ago",
          "ago",
          "ago",
          "ago",
          "ago",
          "ago",
          "ago",
          "ago",
          "ago",
          "ago",
          "ago",
          "ago",
          "ago",
          "ago",
          "ago",
          "ago",
          "ago",
          "ago",
          "ago",
          "ago",
          "ago",
          "ago",
          "dez",
          "dez",
          "dez",
          "dez",
          "dez",
          "dez",
          "dez",
          "dez",
          "dez",
          "dez",
          "dez",
          "dez",
          "dez",
          "dez",
          "dez",
          "dez",
          "dez",
          "dez",
          "dez",
          "dez",
          "dez",
          "dez",
          "out",
          "out",
          "out",
          "out",
          "out",
          "out",
          "out",
          "out",
          "out",
          "out",
          "out",
          "out",
          "out",
          "out",
          "out",
          "out",
          "out",
          "out",
          "out",
          "out",
          "set",
          "set",
          "set",
          "set",
          "set",
          "set",
          "set",
          "set",
          "set",
          "set",
          "set",
          "set",
          "set",
          "set",
          "set",
          "set",
          "set",
          "set",
          "set",
          "set",
          "set",
          "set",
          "jul",
          "jul",
          "jul",
          "jul",
          "jul",
          "jul",
          "jul",
          "jul",
          "jul",
          "jul",
          "jul",
          "jul",
          "jul",
          "jul",
          "jul",
          "jul",
          "jul",
          "jul",
          "jul",
          "jul",
          "jul",
          "jul",
          "jun",
          "jun",
          "jun",
          "jun",
          "jun",
          "jun",
          "jun",
          "jun",
          "jun",
          "jun",
          "jun",
          "jun",
          "jun",
          "jun",
          "jun",
          "jun",
          "jun",
          "jun",
          "jun",
          "nov",
          "nov",
          "nov",
          "nov",
          "nov",
          "nov",
          "nov",
          "nov",
          "nov",
          "nov",
          "nov",
          "nov",
          "nov",
          "nov",
          "nov",
          "nov",
          "nov",
          "nov",
          "nov",
          "nov",
          "nov",
          "nov",
          "nov",
          "mai",
          "mai",
          "mai",
          "mai",
          "mai",
          "mai",
          "mai",
          "mai",
          "mai",
          "mai",
          "mai",
          "mai",
          "mai",
          "mai",
          "mai",
          "mai",
          "mai",
          "mai",
          "mai",
          "mai",
          "mai",
          "mai",
          "mai",
          "mai",
          "fev",
          "fev",
          "fev",
          "fev",
          "fev",
          "fev",
          "fev",
          "fev",
          "fev",
          "fev",
          "fev",
          "fev",
          "fev",
          "fev",
          "fev",
          "fev",
          "fev",
          "fev",
          "abril",
          "abril",
          "abril",
          "abril",
          "abril",
          "abril",
          "abril",
          "abril",
          "abril",
          "abril",
          "abril",
          "abril",
          "abril",
          "abril",
          "abril",
          "abril",
          "abril",
          "mar",
          "mar",
          "mar",
          "mar",
          "mar",
          "mar",
          "mar",
          "mar",
          "mar",
          "mar",
          "mar",
          "mar",
          "mar",
          "mar",
          "mar",
          "mar",
          "mar"
         ],
         "yaxis": "y"
        }
       ],
       "layout": {
        "barmode": "relative",
        "height": 500,
        "legend": {
         "tracegroupgap": 0
        },
        "template": {
         "data": {
          "bar": [
           {
            "error_x": {
             "color": "#2a3f5f"
            },
            "error_y": {
             "color": "#2a3f5f"
            },
            "marker": {
             "line": {
              "color": "#E5ECF6",
              "width": 0.5
             },
             "pattern": {
              "fillmode": "overlay",
              "size": 10,
              "solidity": 0.2
             }
            },
            "type": "bar"
           }
          ],
          "barpolar": [
           {
            "marker": {
             "line": {
              "color": "#E5ECF6",
              "width": 0.5
             },
             "pattern": {
              "fillmode": "overlay",
              "size": 10,
              "solidity": 0.2
             }
            },
            "type": "barpolar"
           }
          ],
          "carpet": [
           {
            "aaxis": {
             "endlinecolor": "#2a3f5f",
             "gridcolor": "white",
             "linecolor": "white",
             "minorgridcolor": "white",
             "startlinecolor": "#2a3f5f"
            },
            "baxis": {
             "endlinecolor": "#2a3f5f",
             "gridcolor": "white",
             "linecolor": "white",
             "minorgridcolor": "white",
             "startlinecolor": "#2a3f5f"
            },
            "type": "carpet"
           }
          ],
          "choropleth": [
           {
            "colorbar": {
             "outlinewidth": 0,
             "ticks": ""
            },
            "type": "choropleth"
           }
          ],
          "contour": [
           {
            "colorbar": {
             "outlinewidth": 0,
             "ticks": ""
            },
            "colorscale": [
             [
              0,
              "#0d0887"
             ],
             [
              0.1111111111111111,
              "#46039f"
             ],
             [
              0.2222222222222222,
              "#7201a8"
             ],
             [
              0.3333333333333333,
              "#9c179e"
             ],
             [
              0.4444444444444444,
              "#bd3786"
             ],
             [
              0.5555555555555556,
              "#d8576b"
             ],
             [
              0.6666666666666666,
              "#ed7953"
             ],
             [
              0.7777777777777778,
              "#fb9f3a"
             ],
             [
              0.8888888888888888,
              "#fdca26"
             ],
             [
              1,
              "#f0f921"
             ]
            ],
            "type": "contour"
           }
          ],
          "contourcarpet": [
           {
            "colorbar": {
             "outlinewidth": 0,
             "ticks": ""
            },
            "type": "contourcarpet"
           }
          ],
          "heatmap": [
           {
            "colorbar": {
             "outlinewidth": 0,
             "ticks": ""
            },
            "colorscale": [
             [
              0,
              "#0d0887"
             ],
             [
              0.1111111111111111,
              "#46039f"
             ],
             [
              0.2222222222222222,
              "#7201a8"
             ],
             [
              0.3333333333333333,
              "#9c179e"
             ],
             [
              0.4444444444444444,
              "#bd3786"
             ],
             [
              0.5555555555555556,
              "#d8576b"
             ],
             [
              0.6666666666666666,
              "#ed7953"
             ],
             [
              0.7777777777777778,
              "#fb9f3a"
             ],
             [
              0.8888888888888888,
              "#fdca26"
             ],
             [
              1,
              "#f0f921"
             ]
            ],
            "type": "heatmap"
           }
          ],
          "heatmapgl": [
           {
            "colorbar": {
             "outlinewidth": 0,
             "ticks": ""
            },
            "colorscale": [
             [
              0,
              "#0d0887"
             ],
             [
              0.1111111111111111,
              "#46039f"
             ],
             [
              0.2222222222222222,
              "#7201a8"
             ],
             [
              0.3333333333333333,
              "#9c179e"
             ],
             [
              0.4444444444444444,
              "#bd3786"
             ],
             [
              0.5555555555555556,
              "#d8576b"
             ],
             [
              0.6666666666666666,
              "#ed7953"
             ],
             [
              0.7777777777777778,
              "#fb9f3a"
             ],
             [
              0.8888888888888888,
              "#fdca26"
             ],
             [
              1,
              "#f0f921"
             ]
            ],
            "type": "heatmapgl"
           }
          ],
          "histogram": [
           {
            "marker": {
             "pattern": {
              "fillmode": "overlay",
              "size": 10,
              "solidity": 0.2
             }
            },
            "type": "histogram"
           }
          ],
          "histogram2d": [
           {
            "colorbar": {
             "outlinewidth": 0,
             "ticks": ""
            },
            "colorscale": [
             [
              0,
              "#0d0887"
             ],
             [
              0.1111111111111111,
              "#46039f"
             ],
             [
              0.2222222222222222,
              "#7201a8"
             ],
             [
              0.3333333333333333,
              "#9c179e"
             ],
             [
              0.4444444444444444,
              "#bd3786"
             ],
             [
              0.5555555555555556,
              "#d8576b"
             ],
             [
              0.6666666666666666,
              "#ed7953"
             ],
             [
              0.7777777777777778,
              "#fb9f3a"
             ],
             [
              0.8888888888888888,
              "#fdca26"
             ],
             [
              1,
              "#f0f921"
             ]
            ],
            "type": "histogram2d"
           }
          ],
          "histogram2dcontour": [
           {
            "colorbar": {
             "outlinewidth": 0,
             "ticks": ""
            },
            "colorscale": [
             [
              0,
              "#0d0887"
             ],
             [
              0.1111111111111111,
              "#46039f"
             ],
             [
              0.2222222222222222,
              "#7201a8"
             ],
             [
              0.3333333333333333,
              "#9c179e"
             ],
             [
              0.4444444444444444,
              "#bd3786"
             ],
             [
              0.5555555555555556,
              "#d8576b"
             ],
             [
              0.6666666666666666,
              "#ed7953"
             ],
             [
              0.7777777777777778,
              "#fb9f3a"
             ],
             [
              0.8888888888888888,
              "#fdca26"
             ],
             [
              1,
              "#f0f921"
             ]
            ],
            "type": "histogram2dcontour"
           }
          ],
          "mesh3d": [
           {
            "colorbar": {
             "outlinewidth": 0,
             "ticks": ""
            },
            "type": "mesh3d"
           }
          ],
          "parcoords": [
           {
            "line": {
             "colorbar": {
              "outlinewidth": 0,
              "ticks": ""
             }
            },
            "type": "parcoords"
           }
          ],
          "pie": [
           {
            "automargin": true,
            "type": "pie"
           }
          ],
          "scatter": [
           {
            "fillpattern": {
             "fillmode": "overlay",
             "size": 10,
             "solidity": 0.2
            },
            "type": "scatter"
           }
          ],
          "scatter3d": [
           {
            "line": {
             "colorbar": {
              "outlinewidth": 0,
              "ticks": ""
             }
            },
            "marker": {
             "colorbar": {
              "outlinewidth": 0,
              "ticks": ""
             }
            },
            "type": "scatter3d"
           }
          ],
          "scattercarpet": [
           {
            "marker": {
             "colorbar": {
              "outlinewidth": 0,
              "ticks": ""
             }
            },
            "type": "scattercarpet"
           }
          ],
          "scattergeo": [
           {
            "marker": {
             "colorbar": {
              "outlinewidth": 0,
              "ticks": ""
             }
            },
            "type": "scattergeo"
           }
          ],
          "scattergl": [
           {
            "marker": {
             "colorbar": {
              "outlinewidth": 0,
              "ticks": ""
             }
            },
            "type": "scattergl"
           }
          ],
          "scattermapbox": [
           {
            "marker": {
             "colorbar": {
              "outlinewidth": 0,
              "ticks": ""
             }
            },
            "type": "scattermapbox"
           }
          ],
          "scatterpolar": [
           {
            "marker": {
             "colorbar": {
              "outlinewidth": 0,
              "ticks": ""
             }
            },
            "type": "scatterpolar"
           }
          ],
          "scatterpolargl": [
           {
            "marker": {
             "colorbar": {
              "outlinewidth": 0,
              "ticks": ""
             }
            },
            "type": "scatterpolargl"
           }
          ],
          "scatterternary": [
           {
            "marker": {
             "colorbar": {
              "outlinewidth": 0,
              "ticks": ""
             }
            },
            "type": "scatterternary"
           }
          ],
          "surface": [
           {
            "colorbar": {
             "outlinewidth": 0,
             "ticks": ""
            },
            "colorscale": [
             [
              0,
              "#0d0887"
             ],
             [
              0.1111111111111111,
              "#46039f"
             ],
             [
              0.2222222222222222,
              "#7201a8"
             ],
             [
              0.3333333333333333,
              "#9c179e"
             ],
             [
              0.4444444444444444,
              "#bd3786"
             ],
             [
              0.5555555555555556,
              "#d8576b"
             ],
             [
              0.6666666666666666,
              "#ed7953"
             ],
             [
              0.7777777777777778,
              "#fb9f3a"
             ],
             [
              0.8888888888888888,
              "#fdca26"
             ],
             [
              1,
              "#f0f921"
             ]
            ],
            "type": "surface"
           }
          ],
          "table": [
           {
            "cells": {
             "fill": {
              "color": "#EBF0F8"
             },
             "line": {
              "color": "white"
             }
            },
            "header": {
             "fill": {
              "color": "#C8D4E3"
             },
             "line": {
              "color": "white"
             }
            },
            "type": "table"
           }
          ]
         },
         "layout": {
          "annotationdefaults": {
           "arrowcolor": "#2a3f5f",
           "arrowhead": 0,
           "arrowwidth": 1
          },
          "autotypenumbers": "strict",
          "coloraxis": {
           "colorbar": {
            "outlinewidth": 0,
            "ticks": ""
           }
          },
          "colorscale": {
           "diverging": [
            [
             0,
             "#8e0152"
            ],
            [
             0.1,
             "#c51b7d"
            ],
            [
             0.2,
             "#de77ae"
            ],
            [
             0.3,
             "#f1b6da"
            ],
            [
             0.4,
             "#fde0ef"
            ],
            [
             0.5,
             "#f7f7f7"
            ],
            [
             0.6,
             "#e6f5d0"
            ],
            [
             0.7,
             "#b8e186"
            ],
            [
             0.8,
             "#7fbc41"
            ],
            [
             0.9,
             "#4d9221"
            ],
            [
             1,
             "#276419"
            ]
           ],
           "sequential": [
            [
             0,
             "#0d0887"
            ],
            [
             0.1111111111111111,
             "#46039f"
            ],
            [
             0.2222222222222222,
             "#7201a8"
            ],
            [
             0.3333333333333333,
             "#9c179e"
            ],
            [
             0.4444444444444444,
             "#bd3786"
            ],
            [
             0.5555555555555556,
             "#d8576b"
            ],
            [
             0.6666666666666666,
             "#ed7953"
            ],
            [
             0.7777777777777778,
             "#fb9f3a"
            ],
            [
             0.8888888888888888,
             "#fdca26"
            ],
            [
             1,
             "#f0f921"
            ]
           ],
           "sequentialminus": [
            [
             0,
             "#0d0887"
            ],
            [
             0.1111111111111111,
             "#46039f"
            ],
            [
             0.2222222222222222,
             "#7201a8"
            ],
            [
             0.3333333333333333,
             "#9c179e"
            ],
            [
             0.4444444444444444,
             "#bd3786"
            ],
            [
             0.5555555555555556,
             "#d8576b"
            ],
            [
             0.6666666666666666,
             "#ed7953"
            ],
            [
             0.7777777777777778,
             "#fb9f3a"
            ],
            [
             0.8888888888888888,
             "#fdca26"
            ],
            [
             1,
             "#f0f921"
            ]
           ]
          },
          "colorway": [
           "#636efa",
           "#EF553B",
           "#00cc96",
           "#ab63fa",
           "#FFA15A",
           "#19d3f3",
           "#FF6692",
           "#B6E880",
           "#FF97FF",
           "#FECB52"
          ],
          "font": {
           "color": "#2a3f5f"
          },
          "geo": {
           "bgcolor": "white",
           "lakecolor": "white",
           "landcolor": "#E5ECF6",
           "showlakes": true,
           "showland": true,
           "subunitcolor": "white"
          },
          "hoverlabel": {
           "align": "left"
          },
          "hovermode": "closest",
          "mapbox": {
           "style": "light"
          },
          "paper_bgcolor": "white",
          "plot_bgcolor": "#E5ECF6",
          "polar": {
           "angularaxis": {
            "gridcolor": "white",
            "linecolor": "white",
            "ticks": ""
           },
           "bgcolor": "#E5ECF6",
           "radialaxis": {
            "gridcolor": "white",
            "linecolor": "white",
            "ticks": ""
           }
          },
          "scene": {
           "xaxis": {
            "backgroundcolor": "#E5ECF6",
            "gridcolor": "white",
            "gridwidth": 2,
            "linecolor": "white",
            "showbackground": true,
            "ticks": "",
            "zerolinecolor": "white"
           },
           "yaxis": {
            "backgroundcolor": "#E5ECF6",
            "gridcolor": "white",
            "gridwidth": 2,
            "linecolor": "white",
            "showbackground": true,
            "ticks": "",
            "zerolinecolor": "white"
           },
           "zaxis": {
            "backgroundcolor": "#E5ECF6",
            "gridcolor": "white",
            "gridwidth": 2,
            "linecolor": "white",
            "showbackground": true,
            "ticks": "",
            "zerolinecolor": "white"
           }
          },
          "shapedefaults": {
           "line": {
            "color": "#2a3f5f"
           }
          },
          "ternary": {
           "aaxis": {
            "gridcolor": "white",
            "linecolor": "white",
            "ticks": ""
           },
           "baxis": {
            "gridcolor": "white",
            "linecolor": "white",
            "ticks": ""
           },
           "bgcolor": "#E5ECF6",
           "caxis": {
            "gridcolor": "white",
            "linecolor": "white",
            "ticks": ""
           }
          },
          "title": {
           "x": 0.05
          },
          "xaxis": {
           "automargin": true,
           "gridcolor": "white",
           "linecolor": "white",
           "ticks": "",
           "title": {
            "standoff": 15
           },
           "zerolinecolor": "white",
           "zerolinewidth": 2
          },
          "yaxis": {
           "automargin": true,
           "gridcolor": "white",
           "linecolor": "white",
           "ticks": "",
           "title": {
            "standoff": 15
           },
           "zerolinecolor": "white",
           "zerolinewidth": 2
          }
         }
        },
        "title": {
         "text": "Total de portes de arma por mês na categoria Funcional"
        },
        "xaxis": {
         "anchor": "y",
         "domain": [
          0,
          1
         ],
         "title": {
          "text": "TOTAL"
         }
        },
        "yaxis": {
         "anchor": "x",
         "domain": [
          0,
          1
         ],
         "title": {
          "text": "MES"
         }
        }
       }
      },
      "text/html": [
       "<div>                            <div id=\"e29fd8b0-f1e3-4447-8c8e-607728f4280e\" class=\"plotly-graph-div\" style=\"height:500px; width:100%;\"></div>            <script type=\"text/javascript\">                require([\"plotly\"], function(Plotly) {                    window.PLOTLYENV=window.PLOTLYENV || {};                                    if (document.getElementById(\"e29fd8b0-f1e3-4447-8c8e-607728f4280e\")) {                    Plotly.newPlot(                        \"e29fd8b0-f1e3-4447-8c8e-607728f4280e\",                        [{\"alignmentgroup\":\"True\",\"hovertemplate\":\"TOTAL=%{x}<br>MES=%{y}<extra></extra>\",\"legendgroup\":\"\",\"marker\":{\"color\":\"rgb(124, 124, 124)\",\"pattern\":{\"shape\":\"\"}},\"name\":\"\",\"offsetgroup\":\"\",\"orientation\":\"h\",\"showlegend\":false,\"textposition\":\"auto\",\"x\":[55,9,5,19,1,38,1,1,6,12,68,131,32,4,28,22,3,41,27,68,1,11,135,4,151,14,11,1,65,112,37,67,8,490,13,88,8,25,20,8,1,38,8,6,9,22,17,5,16,1,24,1,4,1,3,18,4,3,581,33,27,8,5,5,1,1,95,3,3,4,1,180,146,7,15,6,335,4,5,4,7,13,2,10,12,2,2,123,6,68,7,2,3,5,8,1,1,2,17,236,27,5,14,6,36,1,37,17,2,16,24,80,3,4,16,6,2,51,56,2,541,6,1,2,24,39,11,80,24,5,1,57,3,22,2,1,7,30,160,8,2,2,8,1,6,7,32,7,74,1,1,2,64,30,2,22,2,44,38,4,4,5,14,303,13,7,5,17,14,27,9,29,5,4,177,2,4,4,3,1,1,4,31,1,14,8,208,3,3,110,30,50,4,34,1,40,1,7,1,2,4,2,22,3,315,1,6,6,3,25,1,92,4,5,23,1,2,4,1,2,61,286,1,56,24,10,19,157,22,3,35,32,1,15,6,5,10,19,435,4,4],\"xaxis\":\"x\",\"y\":[\"jan\",\"jan\",\"jan\",\"jan\",\"jan\",\"jan\",\"jan\",\"jan\",\"jan\",\"jan\",\"jan\",\"jan\",\"ago\",\"ago\",\"ago\",\"ago\",\"ago\",\"ago\",\"ago\",\"ago\",\"ago\",\"ago\",\"ago\",\"ago\",\"ago\",\"ago\",\"ago\",\"ago\",\"ago\",\"ago\",\"ago\",\"ago\",\"ago\",\"ago\",\"ago\",\"ago\",\"ago\",\"dez\",\"dez\",\"dez\",\"dez\",\"dez\",\"dez\",\"dez\",\"dez\",\"dez\",\"dez\",\"dez\",\"dez\",\"dez\",\"dez\",\"dez\",\"dez\",\"dez\",\"dez\",\"dez\",\"dez\",\"dez\",\"dez\",\"out\",\"out\",\"out\",\"out\",\"out\",\"out\",\"out\",\"out\",\"out\",\"out\",\"out\",\"out\",\"out\",\"out\",\"out\",\"out\",\"out\",\"out\",\"out\",\"out\",\"set\",\"set\",\"set\",\"set\",\"set\",\"set\",\"set\",\"set\",\"set\",\"set\",\"set\",\"set\",\"set\",\"set\",\"set\",\"set\",\"set\",\"set\",\"set\",\"set\",\"set\",\"set\",\"jul\",\"jul\",\"jul\",\"jul\",\"jul\",\"jul\",\"jul\",\"jul\",\"jul\",\"jul\",\"jul\",\"jul\",\"jul\",\"jul\",\"jul\",\"jul\",\"jul\",\"jul\",\"jul\",\"jul\",\"jul\",\"jul\",\"jun\",\"jun\",\"jun\",\"jun\",\"jun\",\"jun\",\"jun\",\"jun\",\"jun\",\"jun\",\"jun\",\"jun\",\"jun\",\"jun\",\"jun\",\"jun\",\"jun\",\"jun\",\"jun\",\"nov\",\"nov\",\"nov\",\"nov\",\"nov\",\"nov\",\"nov\",\"nov\",\"nov\",\"nov\",\"nov\",\"nov\",\"nov\",\"nov\",\"nov\",\"nov\",\"nov\",\"nov\",\"nov\",\"nov\",\"nov\",\"nov\",\"nov\",\"mai\",\"mai\",\"mai\",\"mai\",\"mai\",\"mai\",\"mai\",\"mai\",\"mai\",\"mai\",\"mai\",\"mai\",\"mai\",\"mai\",\"mai\",\"mai\",\"mai\",\"mai\",\"mai\",\"mai\",\"mai\",\"mai\",\"mai\",\"mai\",\"fev\",\"fev\",\"fev\",\"fev\",\"fev\",\"fev\",\"fev\",\"fev\",\"fev\",\"fev\",\"fev\",\"fev\",\"fev\",\"fev\",\"fev\",\"fev\",\"fev\",\"fev\",\"abril\",\"abril\",\"abril\",\"abril\",\"abril\",\"abril\",\"abril\",\"abril\",\"abril\",\"abril\",\"abril\",\"abril\",\"abril\",\"abril\",\"abril\",\"abril\",\"abril\",\"mar\",\"mar\",\"mar\",\"mar\",\"mar\",\"mar\",\"mar\",\"mar\",\"mar\",\"mar\",\"mar\",\"mar\",\"mar\",\"mar\",\"mar\",\"mar\",\"mar\"],\"yaxis\":\"y\",\"type\":\"bar\"}],                        {\"template\":{\"data\":{\"histogram2dcontour\":[{\"type\":\"histogram2dcontour\",\"colorbar\":{\"outlinewidth\":0,\"ticks\":\"\"},\"colorscale\":[[0.0,\"#0d0887\"],[0.1111111111111111,\"#46039f\"],[0.2222222222222222,\"#7201a8\"],[0.3333333333333333,\"#9c179e\"],[0.4444444444444444,\"#bd3786\"],[0.5555555555555556,\"#d8576b\"],[0.6666666666666666,\"#ed7953\"],[0.7777777777777778,\"#fb9f3a\"],[0.8888888888888888,\"#fdca26\"],[1.0,\"#f0f921\"]]}],\"choropleth\":[{\"type\":\"choropleth\",\"colorbar\":{\"outlinewidth\":0,\"ticks\":\"\"}}],\"histogram2d\":[{\"type\":\"histogram2d\",\"colorbar\":{\"outlinewidth\":0,\"ticks\":\"\"},\"colorscale\":[[0.0,\"#0d0887\"],[0.1111111111111111,\"#46039f\"],[0.2222222222222222,\"#7201a8\"],[0.3333333333333333,\"#9c179e\"],[0.4444444444444444,\"#bd3786\"],[0.5555555555555556,\"#d8576b\"],[0.6666666666666666,\"#ed7953\"],[0.7777777777777778,\"#fb9f3a\"],[0.8888888888888888,\"#fdca26\"],[1.0,\"#f0f921\"]]}],\"heatmap\":[{\"type\":\"heatmap\",\"colorbar\":{\"outlinewidth\":0,\"ticks\":\"\"},\"colorscale\":[[0.0,\"#0d0887\"],[0.1111111111111111,\"#46039f\"],[0.2222222222222222,\"#7201a8\"],[0.3333333333333333,\"#9c179e\"],[0.4444444444444444,\"#bd3786\"],[0.5555555555555556,\"#d8576b\"],[0.6666666666666666,\"#ed7953\"],[0.7777777777777778,\"#fb9f3a\"],[0.8888888888888888,\"#fdca26\"],[1.0,\"#f0f921\"]]}],\"heatmapgl\":[{\"type\":\"heatmapgl\",\"colorbar\":{\"outlinewidth\":0,\"ticks\":\"\"},\"colorscale\":[[0.0,\"#0d0887\"],[0.1111111111111111,\"#46039f\"],[0.2222222222222222,\"#7201a8\"],[0.3333333333333333,\"#9c179e\"],[0.4444444444444444,\"#bd3786\"],[0.5555555555555556,\"#d8576b\"],[0.6666666666666666,\"#ed7953\"],[0.7777777777777778,\"#fb9f3a\"],[0.8888888888888888,\"#fdca26\"],[1.0,\"#f0f921\"]]}],\"contourcarpet\":[{\"type\":\"contourcarpet\",\"colorbar\":{\"outlinewidth\":0,\"ticks\":\"\"}}],\"contour\":[{\"type\":\"contour\",\"colorbar\":{\"outlinewidth\":0,\"ticks\":\"\"},\"colorscale\":[[0.0,\"#0d0887\"],[0.1111111111111111,\"#46039f\"],[0.2222222222222222,\"#7201a8\"],[0.3333333333333333,\"#9c179e\"],[0.4444444444444444,\"#bd3786\"],[0.5555555555555556,\"#d8576b\"],[0.6666666666666666,\"#ed7953\"],[0.7777777777777778,\"#fb9f3a\"],[0.8888888888888888,\"#fdca26\"],[1.0,\"#f0f921\"]]}],\"surface\":[{\"type\":\"surface\",\"colorbar\":{\"outlinewidth\":0,\"ticks\":\"\"},\"colorscale\":[[0.0,\"#0d0887\"],[0.1111111111111111,\"#46039f\"],[0.2222222222222222,\"#7201a8\"],[0.3333333333333333,\"#9c179e\"],[0.4444444444444444,\"#bd3786\"],[0.5555555555555556,\"#d8576b\"],[0.6666666666666666,\"#ed7953\"],[0.7777777777777778,\"#fb9f3a\"],[0.8888888888888888,\"#fdca26\"],[1.0,\"#f0f921\"]]}],\"mesh3d\":[{\"type\":\"mesh3d\",\"colorbar\":{\"outlinewidth\":0,\"ticks\":\"\"}}],\"scatter\":[{\"fillpattern\":{\"fillmode\":\"overlay\",\"size\":10,\"solidity\":0.2},\"type\":\"scatter\"}],\"parcoords\":[{\"type\":\"parcoords\",\"line\":{\"colorbar\":{\"outlinewidth\":0,\"ticks\":\"\"}}}],\"scatterpolargl\":[{\"type\":\"scatterpolargl\",\"marker\":{\"colorbar\":{\"outlinewidth\":0,\"ticks\":\"\"}}}],\"bar\":[{\"error_x\":{\"color\":\"#2a3f5f\"},\"error_y\":{\"color\":\"#2a3f5f\"},\"marker\":{\"line\":{\"color\":\"#E5ECF6\",\"width\":0.5},\"pattern\":{\"fillmode\":\"overlay\",\"size\":10,\"solidity\":0.2}},\"type\":\"bar\"}],\"scattergeo\":[{\"type\":\"scattergeo\",\"marker\":{\"colorbar\":{\"outlinewidth\":0,\"ticks\":\"\"}}}],\"scatterpolar\":[{\"type\":\"scatterpolar\",\"marker\":{\"colorbar\":{\"outlinewidth\":0,\"ticks\":\"\"}}}],\"histogram\":[{\"marker\":{\"pattern\":{\"fillmode\":\"overlay\",\"size\":10,\"solidity\":0.2}},\"type\":\"histogram\"}],\"scattergl\":[{\"type\":\"scattergl\",\"marker\":{\"colorbar\":{\"outlinewidth\":0,\"ticks\":\"\"}}}],\"scatter3d\":[{\"type\":\"scatter3d\",\"line\":{\"colorbar\":{\"outlinewidth\":0,\"ticks\":\"\"}},\"marker\":{\"colorbar\":{\"outlinewidth\":0,\"ticks\":\"\"}}}],\"scattermapbox\":[{\"type\":\"scattermapbox\",\"marker\":{\"colorbar\":{\"outlinewidth\":0,\"ticks\":\"\"}}}],\"scatterternary\":[{\"type\":\"scatterternary\",\"marker\":{\"colorbar\":{\"outlinewidth\":0,\"ticks\":\"\"}}}],\"scattercarpet\":[{\"type\":\"scattercarpet\",\"marker\":{\"colorbar\":{\"outlinewidth\":0,\"ticks\":\"\"}}}],\"carpet\":[{\"aaxis\":{\"endlinecolor\":\"#2a3f5f\",\"gridcolor\":\"white\",\"linecolor\":\"white\",\"minorgridcolor\":\"white\",\"startlinecolor\":\"#2a3f5f\"},\"baxis\":{\"endlinecolor\":\"#2a3f5f\",\"gridcolor\":\"white\",\"linecolor\":\"white\",\"minorgridcolor\":\"white\",\"startlinecolor\":\"#2a3f5f\"},\"type\":\"carpet\"}],\"table\":[{\"cells\":{\"fill\":{\"color\":\"#EBF0F8\"},\"line\":{\"color\":\"white\"}},\"header\":{\"fill\":{\"color\":\"#C8D4E3\"},\"line\":{\"color\":\"white\"}},\"type\":\"table\"}],\"barpolar\":[{\"marker\":{\"line\":{\"color\":\"#E5ECF6\",\"width\":0.5},\"pattern\":{\"fillmode\":\"overlay\",\"size\":10,\"solidity\":0.2}},\"type\":\"barpolar\"}],\"pie\":[{\"automargin\":true,\"type\":\"pie\"}]},\"layout\":{\"autotypenumbers\":\"strict\",\"colorway\":[\"#636efa\",\"#EF553B\",\"#00cc96\",\"#ab63fa\",\"#FFA15A\",\"#19d3f3\",\"#FF6692\",\"#B6E880\",\"#FF97FF\",\"#FECB52\"],\"font\":{\"color\":\"#2a3f5f\"},\"hovermode\":\"closest\",\"hoverlabel\":{\"align\":\"left\"},\"paper_bgcolor\":\"white\",\"plot_bgcolor\":\"#E5ECF6\",\"polar\":{\"bgcolor\":\"#E5ECF6\",\"angularaxis\":{\"gridcolor\":\"white\",\"linecolor\":\"white\",\"ticks\":\"\"},\"radialaxis\":{\"gridcolor\":\"white\",\"linecolor\":\"white\",\"ticks\":\"\"}},\"ternary\":{\"bgcolor\":\"#E5ECF6\",\"aaxis\":{\"gridcolor\":\"white\",\"linecolor\":\"white\",\"ticks\":\"\"},\"baxis\":{\"gridcolor\":\"white\",\"linecolor\":\"white\",\"ticks\":\"\"},\"caxis\":{\"gridcolor\":\"white\",\"linecolor\":\"white\",\"ticks\":\"\"}},\"coloraxis\":{\"colorbar\":{\"outlinewidth\":0,\"ticks\":\"\"}},\"colorscale\":{\"sequential\":[[0.0,\"#0d0887\"],[0.1111111111111111,\"#46039f\"],[0.2222222222222222,\"#7201a8\"],[0.3333333333333333,\"#9c179e\"],[0.4444444444444444,\"#bd3786\"],[0.5555555555555556,\"#d8576b\"],[0.6666666666666666,\"#ed7953\"],[0.7777777777777778,\"#fb9f3a\"],[0.8888888888888888,\"#fdca26\"],[1.0,\"#f0f921\"]],\"sequentialminus\":[[0.0,\"#0d0887\"],[0.1111111111111111,\"#46039f\"],[0.2222222222222222,\"#7201a8\"],[0.3333333333333333,\"#9c179e\"],[0.4444444444444444,\"#bd3786\"],[0.5555555555555556,\"#d8576b\"],[0.6666666666666666,\"#ed7953\"],[0.7777777777777778,\"#fb9f3a\"],[0.8888888888888888,\"#fdca26\"],[1.0,\"#f0f921\"]],\"diverging\":[[0,\"#8e0152\"],[0.1,\"#c51b7d\"],[0.2,\"#de77ae\"],[0.3,\"#f1b6da\"],[0.4,\"#fde0ef\"],[0.5,\"#f7f7f7\"],[0.6,\"#e6f5d0\"],[0.7,\"#b8e186\"],[0.8,\"#7fbc41\"],[0.9,\"#4d9221\"],[1,\"#276419\"]]},\"xaxis\":{\"gridcolor\":\"white\",\"linecolor\":\"white\",\"ticks\":\"\",\"title\":{\"standoff\":15},\"zerolinecolor\":\"white\",\"automargin\":true,\"zerolinewidth\":2},\"yaxis\":{\"gridcolor\":\"white\",\"linecolor\":\"white\",\"ticks\":\"\",\"title\":{\"standoff\":15},\"zerolinecolor\":\"white\",\"automargin\":true,\"zerolinewidth\":2},\"scene\":{\"xaxis\":{\"backgroundcolor\":\"#E5ECF6\",\"gridcolor\":\"white\",\"linecolor\":\"white\",\"showbackground\":true,\"ticks\":\"\",\"zerolinecolor\":\"white\",\"gridwidth\":2},\"yaxis\":{\"backgroundcolor\":\"#E5ECF6\",\"gridcolor\":\"white\",\"linecolor\":\"white\",\"showbackground\":true,\"ticks\":\"\",\"zerolinecolor\":\"white\",\"gridwidth\":2},\"zaxis\":{\"backgroundcolor\":\"#E5ECF6\",\"gridcolor\":\"white\",\"linecolor\":\"white\",\"showbackground\":true,\"ticks\":\"\",\"zerolinecolor\":\"white\",\"gridwidth\":2}},\"shapedefaults\":{\"line\":{\"color\":\"#2a3f5f\"}},\"annotationdefaults\":{\"arrowcolor\":\"#2a3f5f\",\"arrowhead\":0,\"arrowwidth\":1},\"geo\":{\"bgcolor\":\"white\",\"landcolor\":\"#E5ECF6\",\"subunitcolor\":\"white\",\"showland\":true,\"showlakes\":true,\"lakecolor\":\"white\"},\"title\":{\"x\":0.05},\"mapbox\":{\"style\":\"light\"}}},\"xaxis\":{\"anchor\":\"y\",\"domain\":[0.0,1.0],\"title\":{\"text\":\"TOTAL\"}},\"yaxis\":{\"anchor\":\"x\",\"domain\":[0.0,1.0],\"title\":{\"text\":\"MES\"}},\"legend\":{\"tracegroupgap\":0},\"title\":{\"text\":\"Total de portes de arma por m\\u00eas na categoria Funcional\"},\"barmode\":\"relative\",\"height\":500},                        {\"responsive\": true}                    ).then(function(){\n",
       "                            \n",
       "var gd = document.getElementById('e29fd8b0-f1e3-4447-8c8e-607728f4280e');\n",
       "var x = new MutationObserver(function (mutations, observer) {{\n",
       "        var display = window.getComputedStyle(gd).display;\n",
       "        if (!display || display === 'none') {{\n",
       "            console.log([gd, 'removed!']);\n",
       "            Plotly.purge(gd);\n",
       "            observer.disconnect();\n",
       "        }}\n",
       "}});\n",
       "\n",
       "// Listen for the removal of the full notebook cells\n",
       "var notebookContainer = gd.closest('#notebook-container');\n",
       "if (notebookContainer) {{\n",
       "    x.observe(notebookContainer, {childList: true});\n",
       "}}\n",
       "\n",
       "// Listen for the clearing of the current output cell\n",
       "var outputEl = gd.closest('.output');\n",
       "if (outputEl) {{\n",
       "    x.observe(outputEl, {childList: true});\n",
       "}}\n",
       "\n",
       "                        })                };                });            </script>        </div>"
      ]
     },
     "metadata": {},
     "output_type": "display_data"
    }
   ],
   "source": [
    "fig = px.bar(funcional, x='TOTAL', y='MES', \n",
    "             title='Total de portes de arma por mês na categoria Funcional',  \n",
    "             height=500, color_discrete_sequence=px.colors.qualitative.Antique_r)\n",
    "fig.show()"
   ]
  },
  {
   "cell_type": "code",
   "execution_count": 128,
   "id": "a5dd65c6",
   "metadata": {},
   "outputs": [
    {
     "data": {
      "application/vnd.plotly.v1+json": {
       "config": {
        "plotlyServerURL": "https://plot.ly"
       },
       "data": [
        {
         "alignmentgroup": "True",
         "hovertemplate": "TOTAL=%{x}<br>ABRANGENCIA=%{y}<extra></extra>",
         "legendgroup": "",
         "marker": {
          "color": "rgb(127, 60, 141)",
          "pattern": {
           "shape": ""
          }
         },
         "name": "",
         "offsetgroup": "",
         "orientation": "h",
         "showlegend": false,
         "textposition": "auto",
         "type": "bar",
         "x": [
          55,
          9,
          5,
          19,
          1,
          38,
          1,
          1,
          6,
          12,
          68,
          131,
          32,
          4,
          28,
          22,
          3,
          41,
          27,
          68,
          1,
          11,
          135,
          4,
          151,
          14,
          11,
          1,
          65,
          112,
          37,
          67,
          8,
          490,
          13,
          88,
          8,
          25,
          20,
          8,
          1,
          38,
          8,
          6,
          9,
          22,
          17,
          5,
          16,
          1,
          24,
          1,
          4,
          1,
          3,
          18,
          4,
          3,
          581,
          33,
          27,
          8,
          5,
          5,
          1,
          1,
          95,
          3,
          3,
          4,
          1,
          180,
          146,
          7,
          15,
          6,
          335,
          4,
          5,
          4,
          7,
          13,
          2,
          10,
          12,
          2,
          2,
          123,
          6,
          68,
          7,
          2,
          3,
          5,
          8,
          1,
          1,
          2,
          17,
          236,
          27,
          5,
          14,
          6,
          36,
          1,
          37,
          17,
          2,
          16,
          24,
          80,
          3,
          4,
          16,
          6,
          2,
          51,
          56,
          2,
          541,
          6,
          1,
          2,
          24,
          39,
          11,
          80,
          24,
          5,
          1,
          57,
          3,
          22,
          2,
          1,
          7,
          30,
          160,
          8,
          2,
          2,
          8,
          1,
          6,
          7,
          32,
          7,
          74,
          1,
          1,
          2,
          64,
          30,
          2,
          22,
          2,
          44,
          38,
          4,
          4,
          5,
          14,
          303,
          13,
          7,
          5,
          17,
          14,
          27,
          9,
          29,
          5,
          4,
          177,
          2,
          4,
          4,
          3,
          1,
          1,
          4,
          31,
          1,
          14,
          8,
          208,
          3,
          3,
          110,
          30,
          50,
          4,
          34,
          1,
          40,
          1,
          7,
          1,
          2,
          4,
          2,
          22,
          3,
          315,
          1,
          6,
          6,
          3,
          25,
          1,
          92,
          4,
          5,
          23,
          1,
          2,
          4,
          1,
          2,
          61,
          286,
          1,
          56,
          24,
          10,
          19,
          157,
          22,
          3,
          35,
          32,
          1,
          15,
          6,
          5,
          10,
          19,
          435,
          4,
          4
         ],
         "xaxis": "x",
         "y": [
          "Estadual",
          "Estadual",
          "Estadual",
          "Estadual",
          "Nacional",
          "Estadual",
          "Estadual",
          "Nacional",
          "Estadual",
          "Nacional",
          "Estadual",
          "Estadual",
          "Estadual",
          "Nacional",
          "Estadual",
          "Estadual",
          "Estadual",
          "Nacional",
          "Estadual",
          "Estadual",
          "Nacional",
          "Estadual",
          "Estadual",
          "Nacional",
          "Estadual",
          "Estadual",
          "Nacional",
          "Nacional",
          "Estadual",
          "Estadual",
          "Estadual",
          "Estadual",
          "Nacional",
          "Estadual",
          "Nacional",
          null,
          "Estadual",
          "Nacional",
          "Estadual",
          "Estadual",
          "Nacional",
          "Estadual",
          "Nacional",
          "Estadual",
          "Nacional",
          "Estadual",
          "Estadual",
          "Estadual",
          "Estadual",
          "Estadual",
          "Estadual",
          null,
          "Nacional",
          "Nacional",
          "Estadual",
          "Estadual",
          "Nacional",
          "Estadual",
          "Estadual",
          "Estadual",
          "Estadual",
          "Nacional",
          "Estadual",
          "Nacional",
          "Estadual",
          "Estadual",
          "Estadual",
          "Nacional",
          "Estadual",
          "Nacional",
          "Nacional",
          "Estadual",
          null,
          "Estadual",
          "Nacional",
          "Estadual",
          "Estadual",
          null,
          "Estadual",
          "Estadual",
          "Estadual",
          "Estadual",
          "Nacional",
          "Estadual",
          "Estadual",
          "Nacional",
          "Estadual",
          "Estadual",
          "Estadual",
          "Estadual",
          null,
          "Nacional",
          "Estadual",
          "Nacional",
          "Estadual",
          "Nacional",
          "Estadual",
          "Nacional",
          "Estadual",
          "Estadual",
          null,
          "Estadual",
          "Estadual",
          "Nacional",
          "Estadual",
          "Nacional",
          "Nacional",
          "Estadual",
          "Nacional",
          "Estadual",
          "Estadual",
          "Estadual",
          "Estadual",
          "Nacional",
          "Estadual",
          "Nacional",
          "Nacional",
          "Estadual",
          "Estadual",
          "Nacional",
          "Estadual",
          null,
          "Estadual",
          "Nacional",
          "Estadual",
          "Estadual",
          "Estadual",
          "Nacional",
          "Estadual",
          "Estadual",
          "Nacional",
          "Estadual",
          "Estadual",
          "Estadual",
          "Estadual",
          null,
          "Nacional",
          "Estadual",
          "Estadual",
          "Nacional",
          "Estadual",
          "Nacional",
          "Estadual",
          "Estadual",
          "Estadual",
          "Estadual",
          "Estadual",
          "Estadual",
          "Estadual",
          "Estadual",
          "Nacional",
          "Estadual",
          "Estadual",
          "Estadual",
          "Nacional",
          "Estadual",
          null,
          "Nacional",
          "Estadual",
          "Estadual",
          "Nacional",
          "Estadual",
          "Estadual",
          "Estadual",
          "Estadual",
          "Nacional",
          "Estadual",
          "Estadual",
          "Estadual",
          "Estadual",
          "Nacional",
          "Estadual",
          "Nacional",
          "Nacional",
          "Estadual",
          "Nacional",
          "Estadual",
          "Nacional",
          "Estadual",
          "Nacional",
          "Estadual",
          "Estadual",
          "Estadual",
          "Nacional",
          "Estadual",
          "Estadual",
          "Estadual",
          null,
          "Estadual",
          "Estadual",
          "Estadual",
          "Estadual",
          "Nacional",
          "Estadual",
          "Nacional",
          "Estadual",
          "Nacional",
          "Nacional",
          "Nacional",
          "Estadual",
          "Nacional",
          "Nacional",
          "Estadual",
          "Estadual",
          "Estadual",
          "Regional",
          null,
          "Estadual",
          "Estadual",
          "Nacional",
          "Nacional",
          "Estadual",
          "Nacional",
          "Nacional",
          "Estadual",
          "Estadual",
          "Nacional",
          "Nacional",
          "Estadual",
          "Nacional",
          "Estadual",
          "Estadual",
          null,
          "Estadual",
          "Estadual",
          "Estadual",
          "Estadual",
          "Estadual",
          "Nacional",
          "Estadual",
          "Estadual",
          "Estadual",
          "Nacional",
          "Nacional",
          "Estadual",
          "Estadual",
          "Estadual",
          "Estadual",
          "Estadual",
          null,
          "Estadual"
         ],
         "yaxis": "y"
        }
       ],
       "layout": {
        "barmode": "relative",
        "height": 500,
        "legend": {
         "tracegroupgap": 0
        },
        "template": {
         "data": {
          "bar": [
           {
            "error_x": {
             "color": "#2a3f5f"
            },
            "error_y": {
             "color": "#2a3f5f"
            },
            "marker": {
             "line": {
              "color": "#E5ECF6",
              "width": 0.5
             },
             "pattern": {
              "fillmode": "overlay",
              "size": 10,
              "solidity": 0.2
             }
            },
            "type": "bar"
           }
          ],
          "barpolar": [
           {
            "marker": {
             "line": {
              "color": "#E5ECF6",
              "width": 0.5
             },
             "pattern": {
              "fillmode": "overlay",
              "size": 10,
              "solidity": 0.2
             }
            },
            "type": "barpolar"
           }
          ],
          "carpet": [
           {
            "aaxis": {
             "endlinecolor": "#2a3f5f",
             "gridcolor": "white",
             "linecolor": "white",
             "minorgridcolor": "white",
             "startlinecolor": "#2a3f5f"
            },
            "baxis": {
             "endlinecolor": "#2a3f5f",
             "gridcolor": "white",
             "linecolor": "white",
             "minorgridcolor": "white",
             "startlinecolor": "#2a3f5f"
            },
            "type": "carpet"
           }
          ],
          "choropleth": [
           {
            "colorbar": {
             "outlinewidth": 0,
             "ticks": ""
            },
            "type": "choropleth"
           }
          ],
          "contour": [
           {
            "colorbar": {
             "outlinewidth": 0,
             "ticks": ""
            },
            "colorscale": [
             [
              0,
              "#0d0887"
             ],
             [
              0.1111111111111111,
              "#46039f"
             ],
             [
              0.2222222222222222,
              "#7201a8"
             ],
             [
              0.3333333333333333,
              "#9c179e"
             ],
             [
              0.4444444444444444,
              "#bd3786"
             ],
             [
              0.5555555555555556,
              "#d8576b"
             ],
             [
              0.6666666666666666,
              "#ed7953"
             ],
             [
              0.7777777777777778,
              "#fb9f3a"
             ],
             [
              0.8888888888888888,
              "#fdca26"
             ],
             [
              1,
              "#f0f921"
             ]
            ],
            "type": "contour"
           }
          ],
          "contourcarpet": [
           {
            "colorbar": {
             "outlinewidth": 0,
             "ticks": ""
            },
            "type": "contourcarpet"
           }
          ],
          "heatmap": [
           {
            "colorbar": {
             "outlinewidth": 0,
             "ticks": ""
            },
            "colorscale": [
             [
              0,
              "#0d0887"
             ],
             [
              0.1111111111111111,
              "#46039f"
             ],
             [
              0.2222222222222222,
              "#7201a8"
             ],
             [
              0.3333333333333333,
              "#9c179e"
             ],
             [
              0.4444444444444444,
              "#bd3786"
             ],
             [
              0.5555555555555556,
              "#d8576b"
             ],
             [
              0.6666666666666666,
              "#ed7953"
             ],
             [
              0.7777777777777778,
              "#fb9f3a"
             ],
             [
              0.8888888888888888,
              "#fdca26"
             ],
             [
              1,
              "#f0f921"
             ]
            ],
            "type": "heatmap"
           }
          ],
          "heatmapgl": [
           {
            "colorbar": {
             "outlinewidth": 0,
             "ticks": ""
            },
            "colorscale": [
             [
              0,
              "#0d0887"
             ],
             [
              0.1111111111111111,
              "#46039f"
             ],
             [
              0.2222222222222222,
              "#7201a8"
             ],
             [
              0.3333333333333333,
              "#9c179e"
             ],
             [
              0.4444444444444444,
              "#bd3786"
             ],
             [
              0.5555555555555556,
              "#d8576b"
             ],
             [
              0.6666666666666666,
              "#ed7953"
             ],
             [
              0.7777777777777778,
              "#fb9f3a"
             ],
             [
              0.8888888888888888,
              "#fdca26"
             ],
             [
              1,
              "#f0f921"
             ]
            ],
            "type": "heatmapgl"
           }
          ],
          "histogram": [
           {
            "marker": {
             "pattern": {
              "fillmode": "overlay",
              "size": 10,
              "solidity": 0.2
             }
            },
            "type": "histogram"
           }
          ],
          "histogram2d": [
           {
            "colorbar": {
             "outlinewidth": 0,
             "ticks": ""
            },
            "colorscale": [
             [
              0,
              "#0d0887"
             ],
             [
              0.1111111111111111,
              "#46039f"
             ],
             [
              0.2222222222222222,
              "#7201a8"
             ],
             [
              0.3333333333333333,
              "#9c179e"
             ],
             [
              0.4444444444444444,
              "#bd3786"
             ],
             [
              0.5555555555555556,
              "#d8576b"
             ],
             [
              0.6666666666666666,
              "#ed7953"
             ],
             [
              0.7777777777777778,
              "#fb9f3a"
             ],
             [
              0.8888888888888888,
              "#fdca26"
             ],
             [
              1,
              "#f0f921"
             ]
            ],
            "type": "histogram2d"
           }
          ],
          "histogram2dcontour": [
           {
            "colorbar": {
             "outlinewidth": 0,
             "ticks": ""
            },
            "colorscale": [
             [
              0,
              "#0d0887"
             ],
             [
              0.1111111111111111,
              "#46039f"
             ],
             [
              0.2222222222222222,
              "#7201a8"
             ],
             [
              0.3333333333333333,
              "#9c179e"
             ],
             [
              0.4444444444444444,
              "#bd3786"
             ],
             [
              0.5555555555555556,
              "#d8576b"
             ],
             [
              0.6666666666666666,
              "#ed7953"
             ],
             [
              0.7777777777777778,
              "#fb9f3a"
             ],
             [
              0.8888888888888888,
              "#fdca26"
             ],
             [
              1,
              "#f0f921"
             ]
            ],
            "type": "histogram2dcontour"
           }
          ],
          "mesh3d": [
           {
            "colorbar": {
             "outlinewidth": 0,
             "ticks": ""
            },
            "type": "mesh3d"
           }
          ],
          "parcoords": [
           {
            "line": {
             "colorbar": {
              "outlinewidth": 0,
              "ticks": ""
             }
            },
            "type": "parcoords"
           }
          ],
          "pie": [
           {
            "automargin": true,
            "type": "pie"
           }
          ],
          "scatter": [
           {
            "fillpattern": {
             "fillmode": "overlay",
             "size": 10,
             "solidity": 0.2
            },
            "type": "scatter"
           }
          ],
          "scatter3d": [
           {
            "line": {
             "colorbar": {
              "outlinewidth": 0,
              "ticks": ""
             }
            },
            "marker": {
             "colorbar": {
              "outlinewidth": 0,
              "ticks": ""
             }
            },
            "type": "scatter3d"
           }
          ],
          "scattercarpet": [
           {
            "marker": {
             "colorbar": {
              "outlinewidth": 0,
              "ticks": ""
             }
            },
            "type": "scattercarpet"
           }
          ],
          "scattergeo": [
           {
            "marker": {
             "colorbar": {
              "outlinewidth": 0,
              "ticks": ""
             }
            },
            "type": "scattergeo"
           }
          ],
          "scattergl": [
           {
            "marker": {
             "colorbar": {
              "outlinewidth": 0,
              "ticks": ""
             }
            },
            "type": "scattergl"
           }
          ],
          "scattermapbox": [
           {
            "marker": {
             "colorbar": {
              "outlinewidth": 0,
              "ticks": ""
             }
            },
            "type": "scattermapbox"
           }
          ],
          "scatterpolar": [
           {
            "marker": {
             "colorbar": {
              "outlinewidth": 0,
              "ticks": ""
             }
            },
            "type": "scatterpolar"
           }
          ],
          "scatterpolargl": [
           {
            "marker": {
             "colorbar": {
              "outlinewidth": 0,
              "ticks": ""
             }
            },
            "type": "scatterpolargl"
           }
          ],
          "scatterternary": [
           {
            "marker": {
             "colorbar": {
              "outlinewidth": 0,
              "ticks": ""
             }
            },
            "type": "scatterternary"
           }
          ],
          "surface": [
           {
            "colorbar": {
             "outlinewidth": 0,
             "ticks": ""
            },
            "colorscale": [
             [
              0,
              "#0d0887"
             ],
             [
              0.1111111111111111,
              "#46039f"
             ],
             [
              0.2222222222222222,
              "#7201a8"
             ],
             [
              0.3333333333333333,
              "#9c179e"
             ],
             [
              0.4444444444444444,
              "#bd3786"
             ],
             [
              0.5555555555555556,
              "#d8576b"
             ],
             [
              0.6666666666666666,
              "#ed7953"
             ],
             [
              0.7777777777777778,
              "#fb9f3a"
             ],
             [
              0.8888888888888888,
              "#fdca26"
             ],
             [
              1,
              "#f0f921"
             ]
            ],
            "type": "surface"
           }
          ],
          "table": [
           {
            "cells": {
             "fill": {
              "color": "#EBF0F8"
             },
             "line": {
              "color": "white"
             }
            },
            "header": {
             "fill": {
              "color": "#C8D4E3"
             },
             "line": {
              "color": "white"
             }
            },
            "type": "table"
           }
          ]
         },
         "layout": {
          "annotationdefaults": {
           "arrowcolor": "#2a3f5f",
           "arrowhead": 0,
           "arrowwidth": 1
          },
          "autotypenumbers": "strict",
          "coloraxis": {
           "colorbar": {
            "outlinewidth": 0,
            "ticks": ""
           }
          },
          "colorscale": {
           "diverging": [
            [
             0,
             "#8e0152"
            ],
            [
             0.1,
             "#c51b7d"
            ],
            [
             0.2,
             "#de77ae"
            ],
            [
             0.3,
             "#f1b6da"
            ],
            [
             0.4,
             "#fde0ef"
            ],
            [
             0.5,
             "#f7f7f7"
            ],
            [
             0.6,
             "#e6f5d0"
            ],
            [
             0.7,
             "#b8e186"
            ],
            [
             0.8,
             "#7fbc41"
            ],
            [
             0.9,
             "#4d9221"
            ],
            [
             1,
             "#276419"
            ]
           ],
           "sequential": [
            [
             0,
             "#0d0887"
            ],
            [
             0.1111111111111111,
             "#46039f"
            ],
            [
             0.2222222222222222,
             "#7201a8"
            ],
            [
             0.3333333333333333,
             "#9c179e"
            ],
            [
             0.4444444444444444,
             "#bd3786"
            ],
            [
             0.5555555555555556,
             "#d8576b"
            ],
            [
             0.6666666666666666,
             "#ed7953"
            ],
            [
             0.7777777777777778,
             "#fb9f3a"
            ],
            [
             0.8888888888888888,
             "#fdca26"
            ],
            [
             1,
             "#f0f921"
            ]
           ],
           "sequentialminus": [
            [
             0,
             "#0d0887"
            ],
            [
             0.1111111111111111,
             "#46039f"
            ],
            [
             0.2222222222222222,
             "#7201a8"
            ],
            [
             0.3333333333333333,
             "#9c179e"
            ],
            [
             0.4444444444444444,
             "#bd3786"
            ],
            [
             0.5555555555555556,
             "#d8576b"
            ],
            [
             0.6666666666666666,
             "#ed7953"
            ],
            [
             0.7777777777777778,
             "#fb9f3a"
            ],
            [
             0.8888888888888888,
             "#fdca26"
            ],
            [
             1,
             "#f0f921"
            ]
           ]
          },
          "colorway": [
           "#636efa",
           "#EF553B",
           "#00cc96",
           "#ab63fa",
           "#FFA15A",
           "#19d3f3",
           "#FF6692",
           "#B6E880",
           "#FF97FF",
           "#FECB52"
          ],
          "font": {
           "color": "#2a3f5f"
          },
          "geo": {
           "bgcolor": "white",
           "lakecolor": "white",
           "landcolor": "#E5ECF6",
           "showlakes": true,
           "showland": true,
           "subunitcolor": "white"
          },
          "hoverlabel": {
           "align": "left"
          },
          "hovermode": "closest",
          "mapbox": {
           "style": "light"
          },
          "paper_bgcolor": "white",
          "plot_bgcolor": "#E5ECF6",
          "polar": {
           "angularaxis": {
            "gridcolor": "white",
            "linecolor": "white",
            "ticks": ""
           },
           "bgcolor": "#E5ECF6",
           "radialaxis": {
            "gridcolor": "white",
            "linecolor": "white",
            "ticks": ""
           }
          },
          "scene": {
           "xaxis": {
            "backgroundcolor": "#E5ECF6",
            "gridcolor": "white",
            "gridwidth": 2,
            "linecolor": "white",
            "showbackground": true,
            "ticks": "",
            "zerolinecolor": "white"
           },
           "yaxis": {
            "backgroundcolor": "#E5ECF6",
            "gridcolor": "white",
            "gridwidth": 2,
            "linecolor": "white",
            "showbackground": true,
            "ticks": "",
            "zerolinecolor": "white"
           },
           "zaxis": {
            "backgroundcolor": "#E5ECF6",
            "gridcolor": "white",
            "gridwidth": 2,
            "linecolor": "white",
            "showbackground": true,
            "ticks": "",
            "zerolinecolor": "white"
           }
          },
          "shapedefaults": {
           "line": {
            "color": "#2a3f5f"
           }
          },
          "ternary": {
           "aaxis": {
            "gridcolor": "white",
            "linecolor": "white",
            "ticks": ""
           },
           "baxis": {
            "gridcolor": "white",
            "linecolor": "white",
            "ticks": ""
           },
           "bgcolor": "#E5ECF6",
           "caxis": {
            "gridcolor": "white",
            "linecolor": "white",
            "ticks": ""
           }
          },
          "title": {
           "x": 0.05
          },
          "xaxis": {
           "automargin": true,
           "gridcolor": "white",
           "linecolor": "white",
           "ticks": "",
           "title": {
            "standoff": 15
           },
           "zerolinecolor": "white",
           "zerolinewidth": 2
          },
          "yaxis": {
           "automargin": true,
           "gridcolor": "white",
           "linecolor": "white",
           "ticks": "",
           "title": {
            "standoff": 15
           },
           "zerolinecolor": "white",
           "zerolinewidth": 2
          }
         }
        },
        "title": {
         "text": "Total de portes de arma por abrangência na categoria Funcional"
        },
        "xaxis": {
         "anchor": "y",
         "domain": [
          0,
          1
         ],
         "title": {
          "text": "TOTAL"
         }
        },
        "yaxis": {
         "anchor": "x",
         "domain": [
          0,
          1
         ],
         "title": {
          "text": "ABRANGENCIA"
         }
        }
       }
      },
      "text/html": [
       "<div>                            <div id=\"f45effe3-8b93-4544-a2f6-75907ecd8fd8\" class=\"plotly-graph-div\" style=\"height:500px; width:100%;\"></div>            <script type=\"text/javascript\">                require([\"plotly\"], function(Plotly) {                    window.PLOTLYENV=window.PLOTLYENV || {};                                    if (document.getElementById(\"f45effe3-8b93-4544-a2f6-75907ecd8fd8\")) {                    Plotly.newPlot(                        \"f45effe3-8b93-4544-a2f6-75907ecd8fd8\",                        [{\"alignmentgroup\":\"True\",\"hovertemplate\":\"TOTAL=%{x}<br>ABRANGENCIA=%{y}<extra></extra>\",\"legendgroup\":\"\",\"marker\":{\"color\":\"rgb(127, 60, 141)\",\"pattern\":{\"shape\":\"\"}},\"name\":\"\",\"offsetgroup\":\"\",\"orientation\":\"h\",\"showlegend\":false,\"textposition\":\"auto\",\"x\":[55,9,5,19,1,38,1,1,6,12,68,131,32,4,28,22,3,41,27,68,1,11,135,4,151,14,11,1,65,112,37,67,8,490,13,88,8,25,20,8,1,38,8,6,9,22,17,5,16,1,24,1,4,1,3,18,4,3,581,33,27,8,5,5,1,1,95,3,3,4,1,180,146,7,15,6,335,4,5,4,7,13,2,10,12,2,2,123,6,68,7,2,3,5,8,1,1,2,17,236,27,5,14,6,36,1,37,17,2,16,24,80,3,4,16,6,2,51,56,2,541,6,1,2,24,39,11,80,24,5,1,57,3,22,2,1,7,30,160,8,2,2,8,1,6,7,32,7,74,1,1,2,64,30,2,22,2,44,38,4,4,5,14,303,13,7,5,17,14,27,9,29,5,4,177,2,4,4,3,1,1,4,31,1,14,8,208,3,3,110,30,50,4,34,1,40,1,7,1,2,4,2,22,3,315,1,6,6,3,25,1,92,4,5,23,1,2,4,1,2,61,286,1,56,24,10,19,157,22,3,35,32,1,15,6,5,10,19,435,4,4],\"xaxis\":\"x\",\"y\":[\"Estadual\",\"Estadual\",\"Estadual\",\"Estadual\",\"Nacional\",\"Estadual\",\"Estadual\",\"Nacional\",\"Estadual\",\"Nacional\",\"Estadual\",\"Estadual\",\"Estadual\",\"Nacional\",\"Estadual\",\"Estadual\",\"Estadual\",\"Nacional\",\"Estadual\",\"Estadual\",\"Nacional\",\"Estadual\",\"Estadual\",\"Nacional\",\"Estadual\",\"Estadual\",\"Nacional\",\"Nacional\",\"Estadual\",\"Estadual\",\"Estadual\",\"Estadual\",\"Nacional\",\"Estadual\",\"Nacional\",null,\"Estadual\",\"Nacional\",\"Estadual\",\"Estadual\",\"Nacional\",\"Estadual\",\"Nacional\",\"Estadual\",\"Nacional\",\"Estadual\",\"Estadual\",\"Estadual\",\"Estadual\",\"Estadual\",\"Estadual\",null,\"Nacional\",\"Nacional\",\"Estadual\",\"Estadual\",\"Nacional\",\"Estadual\",\"Estadual\",\"Estadual\",\"Estadual\",\"Nacional\",\"Estadual\",\"Nacional\",\"Estadual\",\"Estadual\",\"Estadual\",\"Nacional\",\"Estadual\",\"Nacional\",\"Nacional\",\"Estadual\",null,\"Estadual\",\"Nacional\",\"Estadual\",\"Estadual\",null,\"Estadual\",\"Estadual\",\"Estadual\",\"Estadual\",\"Nacional\",\"Estadual\",\"Estadual\",\"Nacional\",\"Estadual\",\"Estadual\",\"Estadual\",\"Estadual\",null,\"Nacional\",\"Estadual\",\"Nacional\",\"Estadual\",\"Nacional\",\"Estadual\",\"Nacional\",\"Estadual\",\"Estadual\",null,\"Estadual\",\"Estadual\",\"Nacional\",\"Estadual\",\"Nacional\",\"Nacional\",\"Estadual\",\"Nacional\",\"Estadual\",\"Estadual\",\"Estadual\",\"Estadual\",\"Nacional\",\"Estadual\",\"Nacional\",\"Nacional\",\"Estadual\",\"Estadual\",\"Nacional\",\"Estadual\",null,\"Estadual\",\"Nacional\",\"Estadual\",\"Estadual\",\"Estadual\",\"Nacional\",\"Estadual\",\"Estadual\",\"Nacional\",\"Estadual\",\"Estadual\",\"Estadual\",\"Estadual\",null,\"Nacional\",\"Estadual\",\"Estadual\",\"Nacional\",\"Estadual\",\"Nacional\",\"Estadual\",\"Estadual\",\"Estadual\",\"Estadual\",\"Estadual\",\"Estadual\",\"Estadual\",\"Estadual\",\"Nacional\",\"Estadual\",\"Estadual\",\"Estadual\",\"Nacional\",\"Estadual\",null,\"Nacional\",\"Estadual\",\"Estadual\",\"Nacional\",\"Estadual\",\"Estadual\",\"Estadual\",\"Estadual\",\"Nacional\",\"Estadual\",\"Estadual\",\"Estadual\",\"Estadual\",\"Nacional\",\"Estadual\",\"Nacional\",\"Nacional\",\"Estadual\",\"Nacional\",\"Estadual\",\"Nacional\",\"Estadual\",\"Nacional\",\"Estadual\",\"Estadual\",\"Estadual\",\"Nacional\",\"Estadual\",\"Estadual\",\"Estadual\",null,\"Estadual\",\"Estadual\",\"Estadual\",\"Estadual\",\"Nacional\",\"Estadual\",\"Nacional\",\"Estadual\",\"Nacional\",\"Nacional\",\"Nacional\",\"Estadual\",\"Nacional\",\"Nacional\",\"Estadual\",\"Estadual\",\"Estadual\",\"Regional\",null,\"Estadual\",\"Estadual\",\"Nacional\",\"Nacional\",\"Estadual\",\"Nacional\",\"Nacional\",\"Estadual\",\"Estadual\",\"Nacional\",\"Nacional\",\"Estadual\",\"Nacional\",\"Estadual\",\"Estadual\",null,\"Estadual\",\"Estadual\",\"Estadual\",\"Estadual\",\"Estadual\",\"Nacional\",\"Estadual\",\"Estadual\",\"Estadual\",\"Nacional\",\"Nacional\",\"Estadual\",\"Estadual\",\"Estadual\",\"Estadual\",\"Estadual\",null,\"Estadual\"],\"yaxis\":\"y\",\"type\":\"bar\"}],                        {\"template\":{\"data\":{\"histogram2dcontour\":[{\"type\":\"histogram2dcontour\",\"colorbar\":{\"outlinewidth\":0,\"ticks\":\"\"},\"colorscale\":[[0.0,\"#0d0887\"],[0.1111111111111111,\"#46039f\"],[0.2222222222222222,\"#7201a8\"],[0.3333333333333333,\"#9c179e\"],[0.4444444444444444,\"#bd3786\"],[0.5555555555555556,\"#d8576b\"],[0.6666666666666666,\"#ed7953\"],[0.7777777777777778,\"#fb9f3a\"],[0.8888888888888888,\"#fdca26\"],[1.0,\"#f0f921\"]]}],\"choropleth\":[{\"type\":\"choropleth\",\"colorbar\":{\"outlinewidth\":0,\"ticks\":\"\"}}],\"histogram2d\":[{\"type\":\"histogram2d\",\"colorbar\":{\"outlinewidth\":0,\"ticks\":\"\"},\"colorscale\":[[0.0,\"#0d0887\"],[0.1111111111111111,\"#46039f\"],[0.2222222222222222,\"#7201a8\"],[0.3333333333333333,\"#9c179e\"],[0.4444444444444444,\"#bd3786\"],[0.5555555555555556,\"#d8576b\"],[0.6666666666666666,\"#ed7953\"],[0.7777777777777778,\"#fb9f3a\"],[0.8888888888888888,\"#fdca26\"],[1.0,\"#f0f921\"]]}],\"heatmap\":[{\"type\":\"heatmap\",\"colorbar\":{\"outlinewidth\":0,\"ticks\":\"\"},\"colorscale\":[[0.0,\"#0d0887\"],[0.1111111111111111,\"#46039f\"],[0.2222222222222222,\"#7201a8\"],[0.3333333333333333,\"#9c179e\"],[0.4444444444444444,\"#bd3786\"],[0.5555555555555556,\"#d8576b\"],[0.6666666666666666,\"#ed7953\"],[0.7777777777777778,\"#fb9f3a\"],[0.8888888888888888,\"#fdca26\"],[1.0,\"#f0f921\"]]}],\"heatmapgl\":[{\"type\":\"heatmapgl\",\"colorbar\":{\"outlinewidth\":0,\"ticks\":\"\"},\"colorscale\":[[0.0,\"#0d0887\"],[0.1111111111111111,\"#46039f\"],[0.2222222222222222,\"#7201a8\"],[0.3333333333333333,\"#9c179e\"],[0.4444444444444444,\"#bd3786\"],[0.5555555555555556,\"#d8576b\"],[0.6666666666666666,\"#ed7953\"],[0.7777777777777778,\"#fb9f3a\"],[0.8888888888888888,\"#fdca26\"],[1.0,\"#f0f921\"]]}],\"contourcarpet\":[{\"type\":\"contourcarpet\",\"colorbar\":{\"outlinewidth\":0,\"ticks\":\"\"}}],\"contour\":[{\"type\":\"contour\",\"colorbar\":{\"outlinewidth\":0,\"ticks\":\"\"},\"colorscale\":[[0.0,\"#0d0887\"],[0.1111111111111111,\"#46039f\"],[0.2222222222222222,\"#7201a8\"],[0.3333333333333333,\"#9c179e\"],[0.4444444444444444,\"#bd3786\"],[0.5555555555555556,\"#d8576b\"],[0.6666666666666666,\"#ed7953\"],[0.7777777777777778,\"#fb9f3a\"],[0.8888888888888888,\"#fdca26\"],[1.0,\"#f0f921\"]]}],\"surface\":[{\"type\":\"surface\",\"colorbar\":{\"outlinewidth\":0,\"ticks\":\"\"},\"colorscale\":[[0.0,\"#0d0887\"],[0.1111111111111111,\"#46039f\"],[0.2222222222222222,\"#7201a8\"],[0.3333333333333333,\"#9c179e\"],[0.4444444444444444,\"#bd3786\"],[0.5555555555555556,\"#d8576b\"],[0.6666666666666666,\"#ed7953\"],[0.7777777777777778,\"#fb9f3a\"],[0.8888888888888888,\"#fdca26\"],[1.0,\"#f0f921\"]]}],\"mesh3d\":[{\"type\":\"mesh3d\",\"colorbar\":{\"outlinewidth\":0,\"ticks\":\"\"}}],\"scatter\":[{\"fillpattern\":{\"fillmode\":\"overlay\",\"size\":10,\"solidity\":0.2},\"type\":\"scatter\"}],\"parcoords\":[{\"type\":\"parcoords\",\"line\":{\"colorbar\":{\"outlinewidth\":0,\"ticks\":\"\"}}}],\"scatterpolargl\":[{\"type\":\"scatterpolargl\",\"marker\":{\"colorbar\":{\"outlinewidth\":0,\"ticks\":\"\"}}}],\"bar\":[{\"error_x\":{\"color\":\"#2a3f5f\"},\"error_y\":{\"color\":\"#2a3f5f\"},\"marker\":{\"line\":{\"color\":\"#E5ECF6\",\"width\":0.5},\"pattern\":{\"fillmode\":\"overlay\",\"size\":10,\"solidity\":0.2}},\"type\":\"bar\"}],\"scattergeo\":[{\"type\":\"scattergeo\",\"marker\":{\"colorbar\":{\"outlinewidth\":0,\"ticks\":\"\"}}}],\"scatterpolar\":[{\"type\":\"scatterpolar\",\"marker\":{\"colorbar\":{\"outlinewidth\":0,\"ticks\":\"\"}}}],\"histogram\":[{\"marker\":{\"pattern\":{\"fillmode\":\"overlay\",\"size\":10,\"solidity\":0.2}},\"type\":\"histogram\"}],\"scattergl\":[{\"type\":\"scattergl\",\"marker\":{\"colorbar\":{\"outlinewidth\":0,\"ticks\":\"\"}}}],\"scatter3d\":[{\"type\":\"scatter3d\",\"line\":{\"colorbar\":{\"outlinewidth\":0,\"ticks\":\"\"}},\"marker\":{\"colorbar\":{\"outlinewidth\":0,\"ticks\":\"\"}}}],\"scattermapbox\":[{\"type\":\"scattermapbox\",\"marker\":{\"colorbar\":{\"outlinewidth\":0,\"ticks\":\"\"}}}],\"scatterternary\":[{\"type\":\"scatterternary\",\"marker\":{\"colorbar\":{\"outlinewidth\":0,\"ticks\":\"\"}}}],\"scattercarpet\":[{\"type\":\"scattercarpet\",\"marker\":{\"colorbar\":{\"outlinewidth\":0,\"ticks\":\"\"}}}],\"carpet\":[{\"aaxis\":{\"endlinecolor\":\"#2a3f5f\",\"gridcolor\":\"white\",\"linecolor\":\"white\",\"minorgridcolor\":\"white\",\"startlinecolor\":\"#2a3f5f\"},\"baxis\":{\"endlinecolor\":\"#2a3f5f\",\"gridcolor\":\"white\",\"linecolor\":\"white\",\"minorgridcolor\":\"white\",\"startlinecolor\":\"#2a3f5f\"},\"type\":\"carpet\"}],\"table\":[{\"cells\":{\"fill\":{\"color\":\"#EBF0F8\"},\"line\":{\"color\":\"white\"}},\"header\":{\"fill\":{\"color\":\"#C8D4E3\"},\"line\":{\"color\":\"white\"}},\"type\":\"table\"}],\"barpolar\":[{\"marker\":{\"line\":{\"color\":\"#E5ECF6\",\"width\":0.5},\"pattern\":{\"fillmode\":\"overlay\",\"size\":10,\"solidity\":0.2}},\"type\":\"barpolar\"}],\"pie\":[{\"automargin\":true,\"type\":\"pie\"}]},\"layout\":{\"autotypenumbers\":\"strict\",\"colorway\":[\"#636efa\",\"#EF553B\",\"#00cc96\",\"#ab63fa\",\"#FFA15A\",\"#19d3f3\",\"#FF6692\",\"#B6E880\",\"#FF97FF\",\"#FECB52\"],\"font\":{\"color\":\"#2a3f5f\"},\"hovermode\":\"closest\",\"hoverlabel\":{\"align\":\"left\"},\"paper_bgcolor\":\"white\",\"plot_bgcolor\":\"#E5ECF6\",\"polar\":{\"bgcolor\":\"#E5ECF6\",\"angularaxis\":{\"gridcolor\":\"white\",\"linecolor\":\"white\",\"ticks\":\"\"},\"radialaxis\":{\"gridcolor\":\"white\",\"linecolor\":\"white\",\"ticks\":\"\"}},\"ternary\":{\"bgcolor\":\"#E5ECF6\",\"aaxis\":{\"gridcolor\":\"white\",\"linecolor\":\"white\",\"ticks\":\"\"},\"baxis\":{\"gridcolor\":\"white\",\"linecolor\":\"white\",\"ticks\":\"\"},\"caxis\":{\"gridcolor\":\"white\",\"linecolor\":\"white\",\"ticks\":\"\"}},\"coloraxis\":{\"colorbar\":{\"outlinewidth\":0,\"ticks\":\"\"}},\"colorscale\":{\"sequential\":[[0.0,\"#0d0887\"],[0.1111111111111111,\"#46039f\"],[0.2222222222222222,\"#7201a8\"],[0.3333333333333333,\"#9c179e\"],[0.4444444444444444,\"#bd3786\"],[0.5555555555555556,\"#d8576b\"],[0.6666666666666666,\"#ed7953\"],[0.7777777777777778,\"#fb9f3a\"],[0.8888888888888888,\"#fdca26\"],[1.0,\"#f0f921\"]],\"sequentialminus\":[[0.0,\"#0d0887\"],[0.1111111111111111,\"#46039f\"],[0.2222222222222222,\"#7201a8\"],[0.3333333333333333,\"#9c179e\"],[0.4444444444444444,\"#bd3786\"],[0.5555555555555556,\"#d8576b\"],[0.6666666666666666,\"#ed7953\"],[0.7777777777777778,\"#fb9f3a\"],[0.8888888888888888,\"#fdca26\"],[1.0,\"#f0f921\"]],\"diverging\":[[0,\"#8e0152\"],[0.1,\"#c51b7d\"],[0.2,\"#de77ae\"],[0.3,\"#f1b6da\"],[0.4,\"#fde0ef\"],[0.5,\"#f7f7f7\"],[0.6,\"#e6f5d0\"],[0.7,\"#b8e186\"],[0.8,\"#7fbc41\"],[0.9,\"#4d9221\"],[1,\"#276419\"]]},\"xaxis\":{\"gridcolor\":\"white\",\"linecolor\":\"white\",\"ticks\":\"\",\"title\":{\"standoff\":15},\"zerolinecolor\":\"white\",\"automargin\":true,\"zerolinewidth\":2},\"yaxis\":{\"gridcolor\":\"white\",\"linecolor\":\"white\",\"ticks\":\"\",\"title\":{\"standoff\":15},\"zerolinecolor\":\"white\",\"automargin\":true,\"zerolinewidth\":2},\"scene\":{\"xaxis\":{\"backgroundcolor\":\"#E5ECF6\",\"gridcolor\":\"white\",\"linecolor\":\"white\",\"showbackground\":true,\"ticks\":\"\",\"zerolinecolor\":\"white\",\"gridwidth\":2},\"yaxis\":{\"backgroundcolor\":\"#E5ECF6\",\"gridcolor\":\"white\",\"linecolor\":\"white\",\"showbackground\":true,\"ticks\":\"\",\"zerolinecolor\":\"white\",\"gridwidth\":2},\"zaxis\":{\"backgroundcolor\":\"#E5ECF6\",\"gridcolor\":\"white\",\"linecolor\":\"white\",\"showbackground\":true,\"ticks\":\"\",\"zerolinecolor\":\"white\",\"gridwidth\":2}},\"shapedefaults\":{\"line\":{\"color\":\"#2a3f5f\"}},\"annotationdefaults\":{\"arrowcolor\":\"#2a3f5f\",\"arrowhead\":0,\"arrowwidth\":1},\"geo\":{\"bgcolor\":\"white\",\"landcolor\":\"#E5ECF6\",\"subunitcolor\":\"white\",\"showland\":true,\"showlakes\":true,\"lakecolor\":\"white\"},\"title\":{\"x\":0.05},\"mapbox\":{\"style\":\"light\"}}},\"xaxis\":{\"anchor\":\"y\",\"domain\":[0.0,1.0],\"title\":{\"text\":\"TOTAL\"}},\"yaxis\":{\"anchor\":\"x\",\"domain\":[0.0,1.0],\"title\":{\"text\":\"ABRANGENCIA\"}},\"legend\":{\"tracegroupgap\":0},\"title\":{\"text\":\"Total de portes de arma por abrang\\u00eancia na categoria Funcional\"},\"barmode\":\"relative\",\"height\":500},                        {\"responsive\": true}                    ).then(function(){\n",
       "                            \n",
       "var gd = document.getElementById('f45effe3-8b93-4544-a2f6-75907ecd8fd8');\n",
       "var x = new MutationObserver(function (mutations, observer) {{\n",
       "        var display = window.getComputedStyle(gd).display;\n",
       "        if (!display || display === 'none') {{\n",
       "            console.log([gd, 'removed!']);\n",
       "            Plotly.purge(gd);\n",
       "            observer.disconnect();\n",
       "        }}\n",
       "}});\n",
       "\n",
       "// Listen for the removal of the full notebook cells\n",
       "var notebookContainer = gd.closest('#notebook-container');\n",
       "if (notebookContainer) {{\n",
       "    x.observe(notebookContainer, {childList: true});\n",
       "}}\n",
       "\n",
       "// Listen for the clearing of the current output cell\n",
       "var outputEl = gd.closest('.output');\n",
       "if (outputEl) {{\n",
       "    x.observe(outputEl, {childList: true});\n",
       "}}\n",
       "\n",
       "                        })                };                });            </script>        </div>"
      ]
     },
     "metadata": {},
     "output_type": "display_data"
    }
   ],
   "source": [
    "fig = px.bar(funcional, x='TOTAL', y='ABRANGENCIA', \n",
    "             title='Total de portes de arma por abrangência na categoria Funcional',  \n",
    "             height=500, color_discrete_sequence=px.colors.qualitative.Bold)\n",
    "fig.show()"
   ]
  },
  {
   "cell_type": "markdown",
   "id": "716090c3",
   "metadata": {},
   "source": [
    "### Segurança Dignitário"
   ]
  },
  {
   "cell_type": "code",
   "execution_count": 39,
   "id": "cac14e70",
   "metadata": {},
   "outputs": [],
   "source": [
    "seguranca = df_porte.query('CATEGORIA == \"Segurança Dignitario\"')"
   ]
  },
  {
   "cell_type": "code",
   "execution_count": 40,
   "id": "e74f4972",
   "metadata": {},
   "outputs": [
    {
     "data": {
      "text/html": [
       "<div>\n",
       "<style scoped>\n",
       "    .dataframe tbody tr th:only-of-type {\n",
       "        vertical-align: middle;\n",
       "    }\n",
       "\n",
       "    .dataframe tbody tr th {\n",
       "        vertical-align: top;\n",
       "    }\n",
       "\n",
       "    .dataframe thead th {\n",
       "        text-align: right;\n",
       "    }\n",
       "</style>\n",
       "<table border=\"1\" class=\"dataframe\">\n",
       "  <thead>\n",
       "    <tr style=\"text-align: right;\">\n",
       "      <th></th>\n",
       "      <th>UF</th>\n",
       "      <th>CATEGORIA</th>\n",
       "      <th>ABRANGENCIA</th>\n",
       "      <th>TOTAL</th>\n",
       "      <th>MES</th>\n",
       "    </tr>\n",
       "  </thead>\n",
       "  <tbody>\n",
       "    <tr>\n",
       "      <th>20</th>\n",
       "      <td>DF</td>\n",
       "      <td>Segurança Dignitario</td>\n",
       "      <td>Nacional</td>\n",
       "      <td>4</td>\n",
       "      <td>ago</td>\n",
       "    </tr>\n",
       "    <tr>\n",
       "      <th>56</th>\n",
       "      <td>RJ</td>\n",
       "      <td>Segurança Dignitario</td>\n",
       "      <td>Nacional</td>\n",
       "      <td>12</td>\n",
       "      <td>ago</td>\n",
       "    </tr>\n",
       "    <tr>\n",
       "      <th>21</th>\n",
       "      <td>DF</td>\n",
       "      <td>Segurança Dignitario</td>\n",
       "      <td>Nacional</td>\n",
       "      <td>134</td>\n",
       "      <td>dez</td>\n",
       "    </tr>\n",
       "    <tr>\n",
       "      <th>51</th>\n",
       "      <td>RJ</td>\n",
       "      <td>Segurança Dignitario</td>\n",
       "      <td>Nacional</td>\n",
       "      <td>5</td>\n",
       "      <td>dez</td>\n",
       "    </tr>\n",
       "    <tr>\n",
       "      <th>70</th>\n",
       "      <td>SP</td>\n",
       "      <td>Segurança Dignitario</td>\n",
       "      <td>Nacional</td>\n",
       "      <td>4</td>\n",
       "      <td>dez</td>\n",
       "    </tr>\n",
       "    <tr>\n",
       "      <th>8</th>\n",
       "      <td>BA</td>\n",
       "      <td>Segurança Dignitario</td>\n",
       "      <td>Nacional</td>\n",
       "      <td>4</td>\n",
       "      <td>out</td>\n",
       "    </tr>\n",
       "    <tr>\n",
       "      <th>14</th>\n",
       "      <td>DF</td>\n",
       "      <td>Segurança Dignitario</td>\n",
       "      <td>Nacional</td>\n",
       "      <td>1</td>\n",
       "      <td>out</td>\n",
       "    </tr>\n",
       "    <tr>\n",
       "      <th>47</th>\n",
       "      <td>RR</td>\n",
       "      <td>Segurança Dignitario</td>\n",
       "      <td>Estadual</td>\n",
       "      <td>2</td>\n",
       "      <td>out</td>\n",
       "    </tr>\n",
       "    <tr>\n",
       "      <th>58</th>\n",
       "      <td>SP</td>\n",
       "      <td>Segurança Dignitario</td>\n",
       "      <td>Nacional</td>\n",
       "      <td>6</td>\n",
       "      <td>out</td>\n",
       "    </tr>\n",
       "    <tr>\n",
       "      <th>15</th>\n",
       "      <td>DF</td>\n",
       "      <td>Segurança Dignitario</td>\n",
       "      <td>Nacional</td>\n",
       "      <td>4</td>\n",
       "      <td>set</td>\n",
       "    </tr>\n",
       "    <tr>\n",
       "      <th>17</th>\n",
       "      <td>DF</td>\n",
       "      <td>Segurança Dignitario</td>\n",
       "      <td>Nacional</td>\n",
       "      <td>17</td>\n",
       "      <td>jul</td>\n",
       "    </tr>\n",
       "    <tr>\n",
       "      <th>31</th>\n",
       "      <td>MS</td>\n",
       "      <td>Segurança Dignitario</td>\n",
       "      <td>Estadual</td>\n",
       "      <td>6</td>\n",
       "      <td>jul</td>\n",
       "    </tr>\n",
       "    <tr>\n",
       "      <th>51</th>\n",
       "      <td>RJ</td>\n",
       "      <td>Segurança Dignitario</td>\n",
       "      <td>Nacional</td>\n",
       "      <td>2</td>\n",
       "      <td>jul</td>\n",
       "    </tr>\n",
       "    <tr>\n",
       "      <th>14</th>\n",
       "      <td>DF</td>\n",
       "      <td>Segurança Dignitario</td>\n",
       "      <td>Nacional</td>\n",
       "      <td>19</td>\n",
       "      <td>jun</td>\n",
       "    </tr>\n",
       "    <tr>\n",
       "      <th>47</th>\n",
       "      <td>RJ</td>\n",
       "      <td>Segurança Dignitario</td>\n",
       "      <td>Nacional</td>\n",
       "      <td>8</td>\n",
       "      <td>jun</td>\n",
       "    </tr>\n",
       "    <tr>\n",
       "      <th>57</th>\n",
       "      <td>RS</td>\n",
       "      <td>Segurança Dignitario</td>\n",
       "      <td>Nacional</td>\n",
       "      <td>1</td>\n",
       "      <td>jun</td>\n",
       "    </tr>\n",
       "    <tr>\n",
       "      <th>16</th>\n",
       "      <td>DF</td>\n",
       "      <td>Segurança Dignitario</td>\n",
       "      <td>Nacional</td>\n",
       "      <td>4</td>\n",
       "      <td>nov</td>\n",
       "    </tr>\n",
       "    <tr>\n",
       "      <th>59</th>\n",
       "      <td>SP</td>\n",
       "      <td>Segurança Dignitario</td>\n",
       "      <td>Nacional</td>\n",
       "      <td>2</td>\n",
       "      <td>mai</td>\n",
       "    </tr>\n",
       "    <tr>\n",
       "      <th>6</th>\n",
       "      <td>AM</td>\n",
       "      <td>Segurança Dignitario</td>\n",
       "      <td>Nacional</td>\n",
       "      <td>1</td>\n",
       "      <td>abril</td>\n",
       "    </tr>\n",
       "    <tr>\n",
       "      <th>16</th>\n",
       "      <td>DF</td>\n",
       "      <td>Segurança Dignitario</td>\n",
       "      <td>Nacional</td>\n",
       "      <td>6</td>\n",
       "      <td>abril</td>\n",
       "    </tr>\n",
       "    <tr>\n",
       "      <th>60</th>\n",
       "      <td>SP</td>\n",
       "      <td>Segurança Dignitario</td>\n",
       "      <td>Nacional</td>\n",
       "      <td>10</td>\n",
       "      <td>abril</td>\n",
       "    </tr>\n",
       "    <tr>\n",
       "      <th>15</th>\n",
       "      <td>DF</td>\n",
       "      <td>Segurança Dignitario</td>\n",
       "      <td>Estadual</td>\n",
       "      <td>2</td>\n",
       "      <td>mar</td>\n",
       "    </tr>\n",
       "    <tr>\n",
       "      <th>16</th>\n",
       "      <td>DF</td>\n",
       "      <td>Segurança Dignitario</td>\n",
       "      <td>Nacional</td>\n",
       "      <td>13</td>\n",
       "      <td>mar</td>\n",
       "    </tr>\n",
       "    <tr>\n",
       "      <th>35</th>\n",
       "      <td>PE</td>\n",
       "      <td>Segurança Dignitario</td>\n",
       "      <td>Nacional</td>\n",
       "      <td>5</td>\n",
       "      <td>mar</td>\n",
       "    </tr>\n",
       "    <tr>\n",
       "      <th>41</th>\n",
       "      <td>RJ</td>\n",
       "      <td>Segurança Dignitario</td>\n",
       "      <td>Nacional</td>\n",
       "      <td>18</td>\n",
       "      <td>mar</td>\n",
       "    </tr>\n",
       "    <tr>\n",
       "      <th>59</th>\n",
       "      <td>SP</td>\n",
       "      <td>Segurança Dignitario</td>\n",
       "      <td>Nacional</td>\n",
       "      <td>2</td>\n",
       "      <td>mar</td>\n",
       "    </tr>\n",
       "  </tbody>\n",
       "</table>\n",
       "</div>"
      ],
      "text/plain": [
       "    UF             CATEGORIA ABRANGENCIA  TOTAL    MES\n",
       "20  DF  Segurança Dignitario    Nacional      4    ago\n",
       "56  RJ  Segurança Dignitario    Nacional     12    ago\n",
       "21  DF  Segurança Dignitario    Nacional    134    dez\n",
       "51  RJ  Segurança Dignitario    Nacional      5    dez\n",
       "70  SP  Segurança Dignitario    Nacional      4    dez\n",
       "8   BA  Segurança Dignitario    Nacional      4    out\n",
       "14  DF  Segurança Dignitario    Nacional      1    out\n",
       "47  RR  Segurança Dignitario    Estadual      2    out\n",
       "58  SP  Segurança Dignitario    Nacional      6    out\n",
       "15  DF  Segurança Dignitario    Nacional      4    set\n",
       "17  DF  Segurança Dignitario    Nacional     17    jul\n",
       "31  MS  Segurança Dignitario    Estadual      6    jul\n",
       "51  RJ  Segurança Dignitario    Nacional      2    jul\n",
       "14  DF  Segurança Dignitario    Nacional     19    jun\n",
       "47  RJ  Segurança Dignitario    Nacional      8    jun\n",
       "57  RS  Segurança Dignitario    Nacional      1    jun\n",
       "16  DF  Segurança Dignitario    Nacional      4    nov\n",
       "59  SP  Segurança Dignitario    Nacional      2    mai\n",
       "6   AM  Segurança Dignitario    Nacional      1  abril\n",
       "16  DF  Segurança Dignitario    Nacional      6  abril\n",
       "60  SP  Segurança Dignitario    Nacional     10  abril\n",
       "15  DF  Segurança Dignitario    Estadual      2    mar\n",
       "16  DF  Segurança Dignitario    Nacional     13    mar\n",
       "35  PE  Segurança Dignitario    Nacional      5    mar\n",
       "41  RJ  Segurança Dignitario    Nacional     18    mar\n",
       "59  SP  Segurança Dignitario    Nacional      2    mar"
      ]
     },
     "execution_count": 40,
     "metadata": {},
     "output_type": "execute_result"
    }
   ],
   "source": [
    "seguranca"
   ]
  },
  {
   "cell_type": "code",
   "execution_count": 41,
   "id": "f6685c3f",
   "metadata": {},
   "outputs": [
    {
     "name": "stdout",
     "output_type": "stream",
     "text": [
      "Total de portes para Segurança Dignitario: 292 .\n"
     ]
    }
   ],
   "source": [
    "print(\"Total de portes para Segurança Dignitario:\", seguranca['TOTAL'].sum(), '.')"
   ]
  },
  {
   "cell_type": "code",
   "execution_count": 74,
   "id": "06c62976",
   "metadata": {},
   "outputs": [
    {
     "data": {
      "application/vnd.plotly.v1+json": {
       "config": {
        "plotlyServerURL": "https://plot.ly"
       },
       "data": [
        {
         "alignmentgroup": "True",
         "hovertemplate": "TOTAL=%{x}<br>MES=%{y}<extra></extra>",
         "legendgroup": "",
         "marker": {
          "color": "rgb(27,158,119)",
          "pattern": {
           "shape": ""
          }
         },
         "name": "",
         "offsetgroup": "",
         "orientation": "h",
         "showlegend": false,
         "textposition": "auto",
         "type": "bar",
         "x": [
          4,
          12,
          134,
          5,
          4,
          4,
          1,
          2,
          6,
          4,
          17,
          6,
          2,
          19,
          8,
          1,
          4,
          2,
          1,
          6,
          10,
          2,
          13,
          5,
          18,
          2
         ],
         "xaxis": "x",
         "y": [
          "ago",
          "ago",
          "dez",
          "dez",
          "dez",
          "out",
          "out",
          "out",
          "out",
          "set",
          "jul",
          "jul",
          "jul",
          "jun",
          "jun",
          "jun",
          "nov",
          "mai",
          "abril",
          "abril",
          "abril",
          "mar",
          "mar",
          "mar",
          "mar",
          "mar"
         ],
         "yaxis": "y"
        }
       ],
       "layout": {
        "barmode": "relative",
        "height": 500,
        "legend": {
         "tracegroupgap": 0
        },
        "template": {
         "data": {
          "bar": [
           {
            "error_x": {
             "color": "#2a3f5f"
            },
            "error_y": {
             "color": "#2a3f5f"
            },
            "marker": {
             "line": {
              "color": "#E5ECF6",
              "width": 0.5
             },
             "pattern": {
              "fillmode": "overlay",
              "size": 10,
              "solidity": 0.2
             }
            },
            "type": "bar"
           }
          ],
          "barpolar": [
           {
            "marker": {
             "line": {
              "color": "#E5ECF6",
              "width": 0.5
             },
             "pattern": {
              "fillmode": "overlay",
              "size": 10,
              "solidity": 0.2
             }
            },
            "type": "barpolar"
           }
          ],
          "carpet": [
           {
            "aaxis": {
             "endlinecolor": "#2a3f5f",
             "gridcolor": "white",
             "linecolor": "white",
             "minorgridcolor": "white",
             "startlinecolor": "#2a3f5f"
            },
            "baxis": {
             "endlinecolor": "#2a3f5f",
             "gridcolor": "white",
             "linecolor": "white",
             "minorgridcolor": "white",
             "startlinecolor": "#2a3f5f"
            },
            "type": "carpet"
           }
          ],
          "choropleth": [
           {
            "colorbar": {
             "outlinewidth": 0,
             "ticks": ""
            },
            "type": "choropleth"
           }
          ],
          "contour": [
           {
            "colorbar": {
             "outlinewidth": 0,
             "ticks": ""
            },
            "colorscale": [
             [
              0,
              "#0d0887"
             ],
             [
              0.1111111111111111,
              "#46039f"
             ],
             [
              0.2222222222222222,
              "#7201a8"
             ],
             [
              0.3333333333333333,
              "#9c179e"
             ],
             [
              0.4444444444444444,
              "#bd3786"
             ],
             [
              0.5555555555555556,
              "#d8576b"
             ],
             [
              0.6666666666666666,
              "#ed7953"
             ],
             [
              0.7777777777777778,
              "#fb9f3a"
             ],
             [
              0.8888888888888888,
              "#fdca26"
             ],
             [
              1,
              "#f0f921"
             ]
            ],
            "type": "contour"
           }
          ],
          "contourcarpet": [
           {
            "colorbar": {
             "outlinewidth": 0,
             "ticks": ""
            },
            "type": "contourcarpet"
           }
          ],
          "heatmap": [
           {
            "colorbar": {
             "outlinewidth": 0,
             "ticks": ""
            },
            "colorscale": [
             [
              0,
              "#0d0887"
             ],
             [
              0.1111111111111111,
              "#46039f"
             ],
             [
              0.2222222222222222,
              "#7201a8"
             ],
             [
              0.3333333333333333,
              "#9c179e"
             ],
             [
              0.4444444444444444,
              "#bd3786"
             ],
             [
              0.5555555555555556,
              "#d8576b"
             ],
             [
              0.6666666666666666,
              "#ed7953"
             ],
             [
              0.7777777777777778,
              "#fb9f3a"
             ],
             [
              0.8888888888888888,
              "#fdca26"
             ],
             [
              1,
              "#f0f921"
             ]
            ],
            "type": "heatmap"
           }
          ],
          "heatmapgl": [
           {
            "colorbar": {
             "outlinewidth": 0,
             "ticks": ""
            },
            "colorscale": [
             [
              0,
              "#0d0887"
             ],
             [
              0.1111111111111111,
              "#46039f"
             ],
             [
              0.2222222222222222,
              "#7201a8"
             ],
             [
              0.3333333333333333,
              "#9c179e"
             ],
             [
              0.4444444444444444,
              "#bd3786"
             ],
             [
              0.5555555555555556,
              "#d8576b"
             ],
             [
              0.6666666666666666,
              "#ed7953"
             ],
             [
              0.7777777777777778,
              "#fb9f3a"
             ],
             [
              0.8888888888888888,
              "#fdca26"
             ],
             [
              1,
              "#f0f921"
             ]
            ],
            "type": "heatmapgl"
           }
          ],
          "histogram": [
           {
            "marker": {
             "pattern": {
              "fillmode": "overlay",
              "size": 10,
              "solidity": 0.2
             }
            },
            "type": "histogram"
           }
          ],
          "histogram2d": [
           {
            "colorbar": {
             "outlinewidth": 0,
             "ticks": ""
            },
            "colorscale": [
             [
              0,
              "#0d0887"
             ],
             [
              0.1111111111111111,
              "#46039f"
             ],
             [
              0.2222222222222222,
              "#7201a8"
             ],
             [
              0.3333333333333333,
              "#9c179e"
             ],
             [
              0.4444444444444444,
              "#bd3786"
             ],
             [
              0.5555555555555556,
              "#d8576b"
             ],
             [
              0.6666666666666666,
              "#ed7953"
             ],
             [
              0.7777777777777778,
              "#fb9f3a"
             ],
             [
              0.8888888888888888,
              "#fdca26"
             ],
             [
              1,
              "#f0f921"
             ]
            ],
            "type": "histogram2d"
           }
          ],
          "histogram2dcontour": [
           {
            "colorbar": {
             "outlinewidth": 0,
             "ticks": ""
            },
            "colorscale": [
             [
              0,
              "#0d0887"
             ],
             [
              0.1111111111111111,
              "#46039f"
             ],
             [
              0.2222222222222222,
              "#7201a8"
             ],
             [
              0.3333333333333333,
              "#9c179e"
             ],
             [
              0.4444444444444444,
              "#bd3786"
             ],
             [
              0.5555555555555556,
              "#d8576b"
             ],
             [
              0.6666666666666666,
              "#ed7953"
             ],
             [
              0.7777777777777778,
              "#fb9f3a"
             ],
             [
              0.8888888888888888,
              "#fdca26"
             ],
             [
              1,
              "#f0f921"
             ]
            ],
            "type": "histogram2dcontour"
           }
          ],
          "mesh3d": [
           {
            "colorbar": {
             "outlinewidth": 0,
             "ticks": ""
            },
            "type": "mesh3d"
           }
          ],
          "parcoords": [
           {
            "line": {
             "colorbar": {
              "outlinewidth": 0,
              "ticks": ""
             }
            },
            "type": "parcoords"
           }
          ],
          "pie": [
           {
            "automargin": true,
            "type": "pie"
           }
          ],
          "scatter": [
           {
            "fillpattern": {
             "fillmode": "overlay",
             "size": 10,
             "solidity": 0.2
            },
            "type": "scatter"
           }
          ],
          "scatter3d": [
           {
            "line": {
             "colorbar": {
              "outlinewidth": 0,
              "ticks": ""
             }
            },
            "marker": {
             "colorbar": {
              "outlinewidth": 0,
              "ticks": ""
             }
            },
            "type": "scatter3d"
           }
          ],
          "scattercarpet": [
           {
            "marker": {
             "colorbar": {
              "outlinewidth": 0,
              "ticks": ""
             }
            },
            "type": "scattercarpet"
           }
          ],
          "scattergeo": [
           {
            "marker": {
             "colorbar": {
              "outlinewidth": 0,
              "ticks": ""
             }
            },
            "type": "scattergeo"
           }
          ],
          "scattergl": [
           {
            "marker": {
             "colorbar": {
              "outlinewidth": 0,
              "ticks": ""
             }
            },
            "type": "scattergl"
           }
          ],
          "scattermapbox": [
           {
            "marker": {
             "colorbar": {
              "outlinewidth": 0,
              "ticks": ""
             }
            },
            "type": "scattermapbox"
           }
          ],
          "scatterpolar": [
           {
            "marker": {
             "colorbar": {
              "outlinewidth": 0,
              "ticks": ""
             }
            },
            "type": "scatterpolar"
           }
          ],
          "scatterpolargl": [
           {
            "marker": {
             "colorbar": {
              "outlinewidth": 0,
              "ticks": ""
             }
            },
            "type": "scatterpolargl"
           }
          ],
          "scatterternary": [
           {
            "marker": {
             "colorbar": {
              "outlinewidth": 0,
              "ticks": ""
             }
            },
            "type": "scatterternary"
           }
          ],
          "surface": [
           {
            "colorbar": {
             "outlinewidth": 0,
             "ticks": ""
            },
            "colorscale": [
             [
              0,
              "#0d0887"
             ],
             [
              0.1111111111111111,
              "#46039f"
             ],
             [
              0.2222222222222222,
              "#7201a8"
             ],
             [
              0.3333333333333333,
              "#9c179e"
             ],
             [
              0.4444444444444444,
              "#bd3786"
             ],
             [
              0.5555555555555556,
              "#d8576b"
             ],
             [
              0.6666666666666666,
              "#ed7953"
             ],
             [
              0.7777777777777778,
              "#fb9f3a"
             ],
             [
              0.8888888888888888,
              "#fdca26"
             ],
             [
              1,
              "#f0f921"
             ]
            ],
            "type": "surface"
           }
          ],
          "table": [
           {
            "cells": {
             "fill": {
              "color": "#EBF0F8"
             },
             "line": {
              "color": "white"
             }
            },
            "header": {
             "fill": {
              "color": "#C8D4E3"
             },
             "line": {
              "color": "white"
             }
            },
            "type": "table"
           }
          ]
         },
         "layout": {
          "annotationdefaults": {
           "arrowcolor": "#2a3f5f",
           "arrowhead": 0,
           "arrowwidth": 1
          },
          "autotypenumbers": "strict",
          "coloraxis": {
           "colorbar": {
            "outlinewidth": 0,
            "ticks": ""
           }
          },
          "colorscale": {
           "diverging": [
            [
             0,
             "#8e0152"
            ],
            [
             0.1,
             "#c51b7d"
            ],
            [
             0.2,
             "#de77ae"
            ],
            [
             0.3,
             "#f1b6da"
            ],
            [
             0.4,
             "#fde0ef"
            ],
            [
             0.5,
             "#f7f7f7"
            ],
            [
             0.6,
             "#e6f5d0"
            ],
            [
             0.7,
             "#b8e186"
            ],
            [
             0.8,
             "#7fbc41"
            ],
            [
             0.9,
             "#4d9221"
            ],
            [
             1,
             "#276419"
            ]
           ],
           "sequential": [
            [
             0,
             "#0d0887"
            ],
            [
             0.1111111111111111,
             "#46039f"
            ],
            [
             0.2222222222222222,
             "#7201a8"
            ],
            [
             0.3333333333333333,
             "#9c179e"
            ],
            [
             0.4444444444444444,
             "#bd3786"
            ],
            [
             0.5555555555555556,
             "#d8576b"
            ],
            [
             0.6666666666666666,
             "#ed7953"
            ],
            [
             0.7777777777777778,
             "#fb9f3a"
            ],
            [
             0.8888888888888888,
             "#fdca26"
            ],
            [
             1,
             "#f0f921"
            ]
           ],
           "sequentialminus": [
            [
             0,
             "#0d0887"
            ],
            [
             0.1111111111111111,
             "#46039f"
            ],
            [
             0.2222222222222222,
             "#7201a8"
            ],
            [
             0.3333333333333333,
             "#9c179e"
            ],
            [
             0.4444444444444444,
             "#bd3786"
            ],
            [
             0.5555555555555556,
             "#d8576b"
            ],
            [
             0.6666666666666666,
             "#ed7953"
            ],
            [
             0.7777777777777778,
             "#fb9f3a"
            ],
            [
             0.8888888888888888,
             "#fdca26"
            ],
            [
             1,
             "#f0f921"
            ]
           ]
          },
          "colorway": [
           "#636efa",
           "#EF553B",
           "#00cc96",
           "#ab63fa",
           "#FFA15A",
           "#19d3f3",
           "#FF6692",
           "#B6E880",
           "#FF97FF",
           "#FECB52"
          ],
          "font": {
           "color": "#2a3f5f"
          },
          "geo": {
           "bgcolor": "white",
           "lakecolor": "white",
           "landcolor": "#E5ECF6",
           "showlakes": true,
           "showland": true,
           "subunitcolor": "white"
          },
          "hoverlabel": {
           "align": "left"
          },
          "hovermode": "closest",
          "mapbox": {
           "style": "light"
          },
          "paper_bgcolor": "white",
          "plot_bgcolor": "#E5ECF6",
          "polar": {
           "angularaxis": {
            "gridcolor": "white",
            "linecolor": "white",
            "ticks": ""
           },
           "bgcolor": "#E5ECF6",
           "radialaxis": {
            "gridcolor": "white",
            "linecolor": "white",
            "ticks": ""
           }
          },
          "scene": {
           "xaxis": {
            "backgroundcolor": "#E5ECF6",
            "gridcolor": "white",
            "gridwidth": 2,
            "linecolor": "white",
            "showbackground": true,
            "ticks": "",
            "zerolinecolor": "white"
           },
           "yaxis": {
            "backgroundcolor": "#E5ECF6",
            "gridcolor": "white",
            "gridwidth": 2,
            "linecolor": "white",
            "showbackground": true,
            "ticks": "",
            "zerolinecolor": "white"
           },
           "zaxis": {
            "backgroundcolor": "#E5ECF6",
            "gridcolor": "white",
            "gridwidth": 2,
            "linecolor": "white",
            "showbackground": true,
            "ticks": "",
            "zerolinecolor": "white"
           }
          },
          "shapedefaults": {
           "line": {
            "color": "#2a3f5f"
           }
          },
          "ternary": {
           "aaxis": {
            "gridcolor": "white",
            "linecolor": "white",
            "ticks": ""
           },
           "baxis": {
            "gridcolor": "white",
            "linecolor": "white",
            "ticks": ""
           },
           "bgcolor": "#E5ECF6",
           "caxis": {
            "gridcolor": "white",
            "linecolor": "white",
            "ticks": ""
           }
          },
          "title": {
           "x": 0.05
          },
          "xaxis": {
           "automargin": true,
           "gridcolor": "white",
           "linecolor": "white",
           "ticks": "",
           "title": {
            "standoff": 15
           },
           "zerolinecolor": "white",
           "zerolinewidth": 2
          },
          "yaxis": {
           "automargin": true,
           "gridcolor": "white",
           "linecolor": "white",
           "ticks": "",
           "title": {
            "standoff": 15
           },
           "zerolinecolor": "white",
           "zerolinewidth": 2
          }
         }
        },
        "title": {
         "text": "Total de portes de arma por mês na categoria Segurança Dignitário"
        },
        "xaxis": {
         "anchor": "y",
         "domain": [
          0,
          1
         ],
         "title": {
          "text": "TOTAL"
         }
        },
        "yaxis": {
         "anchor": "x",
         "domain": [
          0,
          1
         ],
         "title": {
          "text": "MES"
         }
        }
       }
      },
      "text/html": [
       "<div>                            <div id=\"73328fee-3620-4386-b5ba-c4843215a29c\" class=\"plotly-graph-div\" style=\"height:500px; width:100%;\"></div>            <script type=\"text/javascript\">                require([\"plotly\"], function(Plotly) {                    window.PLOTLYENV=window.PLOTLYENV || {};                                    if (document.getElementById(\"73328fee-3620-4386-b5ba-c4843215a29c\")) {                    Plotly.newPlot(                        \"73328fee-3620-4386-b5ba-c4843215a29c\",                        [{\"alignmentgroup\":\"True\",\"hovertemplate\":\"TOTAL=%{x}<br>MES=%{y}<extra></extra>\",\"legendgroup\":\"\",\"marker\":{\"color\":\"rgb(27,158,119)\",\"pattern\":{\"shape\":\"\"}},\"name\":\"\",\"offsetgroup\":\"\",\"orientation\":\"h\",\"showlegend\":false,\"textposition\":\"auto\",\"x\":[4,12,134,5,4,4,1,2,6,4,17,6,2,19,8,1,4,2,1,6,10,2,13,5,18,2],\"xaxis\":\"x\",\"y\":[\"ago\",\"ago\",\"dez\",\"dez\",\"dez\",\"out\",\"out\",\"out\",\"out\",\"set\",\"jul\",\"jul\",\"jul\",\"jun\",\"jun\",\"jun\",\"nov\",\"mai\",\"abril\",\"abril\",\"abril\",\"mar\",\"mar\",\"mar\",\"mar\",\"mar\"],\"yaxis\":\"y\",\"type\":\"bar\"}],                        {\"template\":{\"data\":{\"histogram2dcontour\":[{\"type\":\"histogram2dcontour\",\"colorbar\":{\"outlinewidth\":0,\"ticks\":\"\"},\"colorscale\":[[0.0,\"#0d0887\"],[0.1111111111111111,\"#46039f\"],[0.2222222222222222,\"#7201a8\"],[0.3333333333333333,\"#9c179e\"],[0.4444444444444444,\"#bd3786\"],[0.5555555555555556,\"#d8576b\"],[0.6666666666666666,\"#ed7953\"],[0.7777777777777778,\"#fb9f3a\"],[0.8888888888888888,\"#fdca26\"],[1.0,\"#f0f921\"]]}],\"choropleth\":[{\"type\":\"choropleth\",\"colorbar\":{\"outlinewidth\":0,\"ticks\":\"\"}}],\"histogram2d\":[{\"type\":\"histogram2d\",\"colorbar\":{\"outlinewidth\":0,\"ticks\":\"\"},\"colorscale\":[[0.0,\"#0d0887\"],[0.1111111111111111,\"#46039f\"],[0.2222222222222222,\"#7201a8\"],[0.3333333333333333,\"#9c179e\"],[0.4444444444444444,\"#bd3786\"],[0.5555555555555556,\"#d8576b\"],[0.6666666666666666,\"#ed7953\"],[0.7777777777777778,\"#fb9f3a\"],[0.8888888888888888,\"#fdca26\"],[1.0,\"#f0f921\"]]}],\"heatmap\":[{\"type\":\"heatmap\",\"colorbar\":{\"outlinewidth\":0,\"ticks\":\"\"},\"colorscale\":[[0.0,\"#0d0887\"],[0.1111111111111111,\"#46039f\"],[0.2222222222222222,\"#7201a8\"],[0.3333333333333333,\"#9c179e\"],[0.4444444444444444,\"#bd3786\"],[0.5555555555555556,\"#d8576b\"],[0.6666666666666666,\"#ed7953\"],[0.7777777777777778,\"#fb9f3a\"],[0.8888888888888888,\"#fdca26\"],[1.0,\"#f0f921\"]]}],\"heatmapgl\":[{\"type\":\"heatmapgl\",\"colorbar\":{\"outlinewidth\":0,\"ticks\":\"\"},\"colorscale\":[[0.0,\"#0d0887\"],[0.1111111111111111,\"#46039f\"],[0.2222222222222222,\"#7201a8\"],[0.3333333333333333,\"#9c179e\"],[0.4444444444444444,\"#bd3786\"],[0.5555555555555556,\"#d8576b\"],[0.6666666666666666,\"#ed7953\"],[0.7777777777777778,\"#fb9f3a\"],[0.8888888888888888,\"#fdca26\"],[1.0,\"#f0f921\"]]}],\"contourcarpet\":[{\"type\":\"contourcarpet\",\"colorbar\":{\"outlinewidth\":0,\"ticks\":\"\"}}],\"contour\":[{\"type\":\"contour\",\"colorbar\":{\"outlinewidth\":0,\"ticks\":\"\"},\"colorscale\":[[0.0,\"#0d0887\"],[0.1111111111111111,\"#46039f\"],[0.2222222222222222,\"#7201a8\"],[0.3333333333333333,\"#9c179e\"],[0.4444444444444444,\"#bd3786\"],[0.5555555555555556,\"#d8576b\"],[0.6666666666666666,\"#ed7953\"],[0.7777777777777778,\"#fb9f3a\"],[0.8888888888888888,\"#fdca26\"],[1.0,\"#f0f921\"]]}],\"surface\":[{\"type\":\"surface\",\"colorbar\":{\"outlinewidth\":0,\"ticks\":\"\"},\"colorscale\":[[0.0,\"#0d0887\"],[0.1111111111111111,\"#46039f\"],[0.2222222222222222,\"#7201a8\"],[0.3333333333333333,\"#9c179e\"],[0.4444444444444444,\"#bd3786\"],[0.5555555555555556,\"#d8576b\"],[0.6666666666666666,\"#ed7953\"],[0.7777777777777778,\"#fb9f3a\"],[0.8888888888888888,\"#fdca26\"],[1.0,\"#f0f921\"]]}],\"mesh3d\":[{\"type\":\"mesh3d\",\"colorbar\":{\"outlinewidth\":0,\"ticks\":\"\"}}],\"scatter\":[{\"fillpattern\":{\"fillmode\":\"overlay\",\"size\":10,\"solidity\":0.2},\"type\":\"scatter\"}],\"parcoords\":[{\"type\":\"parcoords\",\"line\":{\"colorbar\":{\"outlinewidth\":0,\"ticks\":\"\"}}}],\"scatterpolargl\":[{\"type\":\"scatterpolargl\",\"marker\":{\"colorbar\":{\"outlinewidth\":0,\"ticks\":\"\"}}}],\"bar\":[{\"error_x\":{\"color\":\"#2a3f5f\"},\"error_y\":{\"color\":\"#2a3f5f\"},\"marker\":{\"line\":{\"color\":\"#E5ECF6\",\"width\":0.5},\"pattern\":{\"fillmode\":\"overlay\",\"size\":10,\"solidity\":0.2}},\"type\":\"bar\"}],\"scattergeo\":[{\"type\":\"scattergeo\",\"marker\":{\"colorbar\":{\"outlinewidth\":0,\"ticks\":\"\"}}}],\"scatterpolar\":[{\"type\":\"scatterpolar\",\"marker\":{\"colorbar\":{\"outlinewidth\":0,\"ticks\":\"\"}}}],\"histogram\":[{\"marker\":{\"pattern\":{\"fillmode\":\"overlay\",\"size\":10,\"solidity\":0.2}},\"type\":\"histogram\"}],\"scattergl\":[{\"type\":\"scattergl\",\"marker\":{\"colorbar\":{\"outlinewidth\":0,\"ticks\":\"\"}}}],\"scatter3d\":[{\"type\":\"scatter3d\",\"line\":{\"colorbar\":{\"outlinewidth\":0,\"ticks\":\"\"}},\"marker\":{\"colorbar\":{\"outlinewidth\":0,\"ticks\":\"\"}}}],\"scattermapbox\":[{\"type\":\"scattermapbox\",\"marker\":{\"colorbar\":{\"outlinewidth\":0,\"ticks\":\"\"}}}],\"scatterternary\":[{\"type\":\"scatterternary\",\"marker\":{\"colorbar\":{\"outlinewidth\":0,\"ticks\":\"\"}}}],\"scattercarpet\":[{\"type\":\"scattercarpet\",\"marker\":{\"colorbar\":{\"outlinewidth\":0,\"ticks\":\"\"}}}],\"carpet\":[{\"aaxis\":{\"endlinecolor\":\"#2a3f5f\",\"gridcolor\":\"white\",\"linecolor\":\"white\",\"minorgridcolor\":\"white\",\"startlinecolor\":\"#2a3f5f\"},\"baxis\":{\"endlinecolor\":\"#2a3f5f\",\"gridcolor\":\"white\",\"linecolor\":\"white\",\"minorgridcolor\":\"white\",\"startlinecolor\":\"#2a3f5f\"},\"type\":\"carpet\"}],\"table\":[{\"cells\":{\"fill\":{\"color\":\"#EBF0F8\"},\"line\":{\"color\":\"white\"}},\"header\":{\"fill\":{\"color\":\"#C8D4E3\"},\"line\":{\"color\":\"white\"}},\"type\":\"table\"}],\"barpolar\":[{\"marker\":{\"line\":{\"color\":\"#E5ECF6\",\"width\":0.5},\"pattern\":{\"fillmode\":\"overlay\",\"size\":10,\"solidity\":0.2}},\"type\":\"barpolar\"}],\"pie\":[{\"automargin\":true,\"type\":\"pie\"}]},\"layout\":{\"autotypenumbers\":\"strict\",\"colorway\":[\"#636efa\",\"#EF553B\",\"#00cc96\",\"#ab63fa\",\"#FFA15A\",\"#19d3f3\",\"#FF6692\",\"#B6E880\",\"#FF97FF\",\"#FECB52\"],\"font\":{\"color\":\"#2a3f5f\"},\"hovermode\":\"closest\",\"hoverlabel\":{\"align\":\"left\"},\"paper_bgcolor\":\"white\",\"plot_bgcolor\":\"#E5ECF6\",\"polar\":{\"bgcolor\":\"#E5ECF6\",\"angularaxis\":{\"gridcolor\":\"white\",\"linecolor\":\"white\",\"ticks\":\"\"},\"radialaxis\":{\"gridcolor\":\"white\",\"linecolor\":\"white\",\"ticks\":\"\"}},\"ternary\":{\"bgcolor\":\"#E5ECF6\",\"aaxis\":{\"gridcolor\":\"white\",\"linecolor\":\"white\",\"ticks\":\"\"},\"baxis\":{\"gridcolor\":\"white\",\"linecolor\":\"white\",\"ticks\":\"\"},\"caxis\":{\"gridcolor\":\"white\",\"linecolor\":\"white\",\"ticks\":\"\"}},\"coloraxis\":{\"colorbar\":{\"outlinewidth\":0,\"ticks\":\"\"}},\"colorscale\":{\"sequential\":[[0.0,\"#0d0887\"],[0.1111111111111111,\"#46039f\"],[0.2222222222222222,\"#7201a8\"],[0.3333333333333333,\"#9c179e\"],[0.4444444444444444,\"#bd3786\"],[0.5555555555555556,\"#d8576b\"],[0.6666666666666666,\"#ed7953\"],[0.7777777777777778,\"#fb9f3a\"],[0.8888888888888888,\"#fdca26\"],[1.0,\"#f0f921\"]],\"sequentialminus\":[[0.0,\"#0d0887\"],[0.1111111111111111,\"#46039f\"],[0.2222222222222222,\"#7201a8\"],[0.3333333333333333,\"#9c179e\"],[0.4444444444444444,\"#bd3786\"],[0.5555555555555556,\"#d8576b\"],[0.6666666666666666,\"#ed7953\"],[0.7777777777777778,\"#fb9f3a\"],[0.8888888888888888,\"#fdca26\"],[1.0,\"#f0f921\"]],\"diverging\":[[0,\"#8e0152\"],[0.1,\"#c51b7d\"],[0.2,\"#de77ae\"],[0.3,\"#f1b6da\"],[0.4,\"#fde0ef\"],[0.5,\"#f7f7f7\"],[0.6,\"#e6f5d0\"],[0.7,\"#b8e186\"],[0.8,\"#7fbc41\"],[0.9,\"#4d9221\"],[1,\"#276419\"]]},\"xaxis\":{\"gridcolor\":\"white\",\"linecolor\":\"white\",\"ticks\":\"\",\"title\":{\"standoff\":15},\"zerolinecolor\":\"white\",\"automargin\":true,\"zerolinewidth\":2},\"yaxis\":{\"gridcolor\":\"white\",\"linecolor\":\"white\",\"ticks\":\"\",\"title\":{\"standoff\":15},\"zerolinecolor\":\"white\",\"automargin\":true,\"zerolinewidth\":2},\"scene\":{\"xaxis\":{\"backgroundcolor\":\"#E5ECF6\",\"gridcolor\":\"white\",\"linecolor\":\"white\",\"showbackground\":true,\"ticks\":\"\",\"zerolinecolor\":\"white\",\"gridwidth\":2},\"yaxis\":{\"backgroundcolor\":\"#E5ECF6\",\"gridcolor\":\"white\",\"linecolor\":\"white\",\"showbackground\":true,\"ticks\":\"\",\"zerolinecolor\":\"white\",\"gridwidth\":2},\"zaxis\":{\"backgroundcolor\":\"#E5ECF6\",\"gridcolor\":\"white\",\"linecolor\":\"white\",\"showbackground\":true,\"ticks\":\"\",\"zerolinecolor\":\"white\",\"gridwidth\":2}},\"shapedefaults\":{\"line\":{\"color\":\"#2a3f5f\"}},\"annotationdefaults\":{\"arrowcolor\":\"#2a3f5f\",\"arrowhead\":0,\"arrowwidth\":1},\"geo\":{\"bgcolor\":\"white\",\"landcolor\":\"#E5ECF6\",\"subunitcolor\":\"white\",\"showland\":true,\"showlakes\":true,\"lakecolor\":\"white\"},\"title\":{\"x\":0.05},\"mapbox\":{\"style\":\"light\"}}},\"xaxis\":{\"anchor\":\"y\",\"domain\":[0.0,1.0],\"title\":{\"text\":\"TOTAL\"}},\"yaxis\":{\"anchor\":\"x\",\"domain\":[0.0,1.0],\"title\":{\"text\":\"MES\"}},\"legend\":{\"tracegroupgap\":0},\"title\":{\"text\":\"Total de portes de arma por m\\u00eas na categoria Seguran\\u00e7a Dignit\\u00e1rio\"},\"barmode\":\"relative\",\"height\":500},                        {\"responsive\": true}                    ).then(function(){\n",
       "                            \n",
       "var gd = document.getElementById('73328fee-3620-4386-b5ba-c4843215a29c');\n",
       "var x = new MutationObserver(function (mutations, observer) {{\n",
       "        var display = window.getComputedStyle(gd).display;\n",
       "        if (!display || display === 'none') {{\n",
       "            console.log([gd, 'removed!']);\n",
       "            Plotly.purge(gd);\n",
       "            observer.disconnect();\n",
       "        }}\n",
       "}});\n",
       "\n",
       "// Listen for the removal of the full notebook cells\n",
       "var notebookContainer = gd.closest('#notebook-container');\n",
       "if (notebookContainer) {{\n",
       "    x.observe(notebookContainer, {childList: true});\n",
       "}}\n",
       "\n",
       "// Listen for the clearing of the current output cell\n",
       "var outputEl = gd.closest('.output');\n",
       "if (outputEl) {{\n",
       "    x.observe(outputEl, {childList: true});\n",
       "}}\n",
       "\n",
       "                        })                };                });            </script>        </div>"
      ]
     },
     "metadata": {},
     "output_type": "display_data"
    }
   ],
   "source": [
    "fig = px.bar(seguranca, x='TOTAL', y='MES', title='Total de portes de arma por mês na categoria Segurança Dignitário',  \n",
    "             height=500, color_discrete_sequence=px.colors.qualitative.Dark2)\n",
    "fig.show()"
   ]
  },
  {
   "cell_type": "code",
   "execution_count": 75,
   "id": "35d354c3",
   "metadata": {},
   "outputs": [
    {
     "data": {
      "application/vnd.plotly.v1+json": {
       "config": {
        "plotlyServerURL": "https://plot.ly"
       },
       "data": [
        {
         "alignmentgroup": "True",
         "hovertemplate": "TOTAL=%{x}<br>ABRANGENCIA=%{y}<extra></extra>",
         "legendgroup": "",
         "marker": {
          "color": "#2E91E5",
          "pattern": {
           "shape": ""
          }
         },
         "name": "",
         "offsetgroup": "",
         "orientation": "h",
         "showlegend": false,
         "textposition": "auto",
         "type": "bar",
         "x": [
          4,
          12,
          134,
          5,
          4,
          4,
          1,
          2,
          6,
          4,
          17,
          6,
          2,
          19,
          8,
          1,
          4,
          2,
          1,
          6,
          10,
          2,
          13,
          5,
          18,
          2
         ],
         "xaxis": "x",
         "y": [
          "Nacional",
          "Nacional",
          "Nacional",
          "Nacional",
          "Nacional",
          "Nacional",
          "Nacional",
          "Estadual",
          "Nacional",
          "Nacional",
          "Nacional",
          "Estadual",
          "Nacional",
          "Nacional",
          "Nacional",
          "Nacional",
          "Nacional",
          "Nacional",
          "Nacional",
          "Nacional",
          "Nacional",
          "Estadual",
          "Nacional",
          "Nacional",
          "Nacional",
          "Nacional"
         ],
         "yaxis": "y"
        }
       ],
       "layout": {
        "barmode": "relative",
        "height": 500,
        "legend": {
         "tracegroupgap": 0
        },
        "template": {
         "data": {
          "bar": [
           {
            "error_x": {
             "color": "#2a3f5f"
            },
            "error_y": {
             "color": "#2a3f5f"
            },
            "marker": {
             "line": {
              "color": "#E5ECF6",
              "width": 0.5
             },
             "pattern": {
              "fillmode": "overlay",
              "size": 10,
              "solidity": 0.2
             }
            },
            "type": "bar"
           }
          ],
          "barpolar": [
           {
            "marker": {
             "line": {
              "color": "#E5ECF6",
              "width": 0.5
             },
             "pattern": {
              "fillmode": "overlay",
              "size": 10,
              "solidity": 0.2
             }
            },
            "type": "barpolar"
           }
          ],
          "carpet": [
           {
            "aaxis": {
             "endlinecolor": "#2a3f5f",
             "gridcolor": "white",
             "linecolor": "white",
             "minorgridcolor": "white",
             "startlinecolor": "#2a3f5f"
            },
            "baxis": {
             "endlinecolor": "#2a3f5f",
             "gridcolor": "white",
             "linecolor": "white",
             "minorgridcolor": "white",
             "startlinecolor": "#2a3f5f"
            },
            "type": "carpet"
           }
          ],
          "choropleth": [
           {
            "colorbar": {
             "outlinewidth": 0,
             "ticks": ""
            },
            "type": "choropleth"
           }
          ],
          "contour": [
           {
            "colorbar": {
             "outlinewidth": 0,
             "ticks": ""
            },
            "colorscale": [
             [
              0,
              "#0d0887"
             ],
             [
              0.1111111111111111,
              "#46039f"
             ],
             [
              0.2222222222222222,
              "#7201a8"
             ],
             [
              0.3333333333333333,
              "#9c179e"
             ],
             [
              0.4444444444444444,
              "#bd3786"
             ],
             [
              0.5555555555555556,
              "#d8576b"
             ],
             [
              0.6666666666666666,
              "#ed7953"
             ],
             [
              0.7777777777777778,
              "#fb9f3a"
             ],
             [
              0.8888888888888888,
              "#fdca26"
             ],
             [
              1,
              "#f0f921"
             ]
            ],
            "type": "contour"
           }
          ],
          "contourcarpet": [
           {
            "colorbar": {
             "outlinewidth": 0,
             "ticks": ""
            },
            "type": "contourcarpet"
           }
          ],
          "heatmap": [
           {
            "colorbar": {
             "outlinewidth": 0,
             "ticks": ""
            },
            "colorscale": [
             [
              0,
              "#0d0887"
             ],
             [
              0.1111111111111111,
              "#46039f"
             ],
             [
              0.2222222222222222,
              "#7201a8"
             ],
             [
              0.3333333333333333,
              "#9c179e"
             ],
             [
              0.4444444444444444,
              "#bd3786"
             ],
             [
              0.5555555555555556,
              "#d8576b"
             ],
             [
              0.6666666666666666,
              "#ed7953"
             ],
             [
              0.7777777777777778,
              "#fb9f3a"
             ],
             [
              0.8888888888888888,
              "#fdca26"
             ],
             [
              1,
              "#f0f921"
             ]
            ],
            "type": "heatmap"
           }
          ],
          "heatmapgl": [
           {
            "colorbar": {
             "outlinewidth": 0,
             "ticks": ""
            },
            "colorscale": [
             [
              0,
              "#0d0887"
             ],
             [
              0.1111111111111111,
              "#46039f"
             ],
             [
              0.2222222222222222,
              "#7201a8"
             ],
             [
              0.3333333333333333,
              "#9c179e"
             ],
             [
              0.4444444444444444,
              "#bd3786"
             ],
             [
              0.5555555555555556,
              "#d8576b"
             ],
             [
              0.6666666666666666,
              "#ed7953"
             ],
             [
              0.7777777777777778,
              "#fb9f3a"
             ],
             [
              0.8888888888888888,
              "#fdca26"
             ],
             [
              1,
              "#f0f921"
             ]
            ],
            "type": "heatmapgl"
           }
          ],
          "histogram": [
           {
            "marker": {
             "pattern": {
              "fillmode": "overlay",
              "size": 10,
              "solidity": 0.2
             }
            },
            "type": "histogram"
           }
          ],
          "histogram2d": [
           {
            "colorbar": {
             "outlinewidth": 0,
             "ticks": ""
            },
            "colorscale": [
             [
              0,
              "#0d0887"
             ],
             [
              0.1111111111111111,
              "#46039f"
             ],
             [
              0.2222222222222222,
              "#7201a8"
             ],
             [
              0.3333333333333333,
              "#9c179e"
             ],
             [
              0.4444444444444444,
              "#bd3786"
             ],
             [
              0.5555555555555556,
              "#d8576b"
             ],
             [
              0.6666666666666666,
              "#ed7953"
             ],
             [
              0.7777777777777778,
              "#fb9f3a"
             ],
             [
              0.8888888888888888,
              "#fdca26"
             ],
             [
              1,
              "#f0f921"
             ]
            ],
            "type": "histogram2d"
           }
          ],
          "histogram2dcontour": [
           {
            "colorbar": {
             "outlinewidth": 0,
             "ticks": ""
            },
            "colorscale": [
             [
              0,
              "#0d0887"
             ],
             [
              0.1111111111111111,
              "#46039f"
             ],
             [
              0.2222222222222222,
              "#7201a8"
             ],
             [
              0.3333333333333333,
              "#9c179e"
             ],
             [
              0.4444444444444444,
              "#bd3786"
             ],
             [
              0.5555555555555556,
              "#d8576b"
             ],
             [
              0.6666666666666666,
              "#ed7953"
             ],
             [
              0.7777777777777778,
              "#fb9f3a"
             ],
             [
              0.8888888888888888,
              "#fdca26"
             ],
             [
              1,
              "#f0f921"
             ]
            ],
            "type": "histogram2dcontour"
           }
          ],
          "mesh3d": [
           {
            "colorbar": {
             "outlinewidth": 0,
             "ticks": ""
            },
            "type": "mesh3d"
           }
          ],
          "parcoords": [
           {
            "line": {
             "colorbar": {
              "outlinewidth": 0,
              "ticks": ""
             }
            },
            "type": "parcoords"
           }
          ],
          "pie": [
           {
            "automargin": true,
            "type": "pie"
           }
          ],
          "scatter": [
           {
            "fillpattern": {
             "fillmode": "overlay",
             "size": 10,
             "solidity": 0.2
            },
            "type": "scatter"
           }
          ],
          "scatter3d": [
           {
            "line": {
             "colorbar": {
              "outlinewidth": 0,
              "ticks": ""
             }
            },
            "marker": {
             "colorbar": {
              "outlinewidth": 0,
              "ticks": ""
             }
            },
            "type": "scatter3d"
           }
          ],
          "scattercarpet": [
           {
            "marker": {
             "colorbar": {
              "outlinewidth": 0,
              "ticks": ""
             }
            },
            "type": "scattercarpet"
           }
          ],
          "scattergeo": [
           {
            "marker": {
             "colorbar": {
              "outlinewidth": 0,
              "ticks": ""
             }
            },
            "type": "scattergeo"
           }
          ],
          "scattergl": [
           {
            "marker": {
             "colorbar": {
              "outlinewidth": 0,
              "ticks": ""
             }
            },
            "type": "scattergl"
           }
          ],
          "scattermapbox": [
           {
            "marker": {
             "colorbar": {
              "outlinewidth": 0,
              "ticks": ""
             }
            },
            "type": "scattermapbox"
           }
          ],
          "scatterpolar": [
           {
            "marker": {
             "colorbar": {
              "outlinewidth": 0,
              "ticks": ""
             }
            },
            "type": "scatterpolar"
           }
          ],
          "scatterpolargl": [
           {
            "marker": {
             "colorbar": {
              "outlinewidth": 0,
              "ticks": ""
             }
            },
            "type": "scatterpolargl"
           }
          ],
          "scatterternary": [
           {
            "marker": {
             "colorbar": {
              "outlinewidth": 0,
              "ticks": ""
             }
            },
            "type": "scatterternary"
           }
          ],
          "surface": [
           {
            "colorbar": {
             "outlinewidth": 0,
             "ticks": ""
            },
            "colorscale": [
             [
              0,
              "#0d0887"
             ],
             [
              0.1111111111111111,
              "#46039f"
             ],
             [
              0.2222222222222222,
              "#7201a8"
             ],
             [
              0.3333333333333333,
              "#9c179e"
             ],
             [
              0.4444444444444444,
              "#bd3786"
             ],
             [
              0.5555555555555556,
              "#d8576b"
             ],
             [
              0.6666666666666666,
              "#ed7953"
             ],
             [
              0.7777777777777778,
              "#fb9f3a"
             ],
             [
              0.8888888888888888,
              "#fdca26"
             ],
             [
              1,
              "#f0f921"
             ]
            ],
            "type": "surface"
           }
          ],
          "table": [
           {
            "cells": {
             "fill": {
              "color": "#EBF0F8"
             },
             "line": {
              "color": "white"
             }
            },
            "header": {
             "fill": {
              "color": "#C8D4E3"
             },
             "line": {
              "color": "white"
             }
            },
            "type": "table"
           }
          ]
         },
         "layout": {
          "annotationdefaults": {
           "arrowcolor": "#2a3f5f",
           "arrowhead": 0,
           "arrowwidth": 1
          },
          "autotypenumbers": "strict",
          "coloraxis": {
           "colorbar": {
            "outlinewidth": 0,
            "ticks": ""
           }
          },
          "colorscale": {
           "diverging": [
            [
             0,
             "#8e0152"
            ],
            [
             0.1,
             "#c51b7d"
            ],
            [
             0.2,
             "#de77ae"
            ],
            [
             0.3,
             "#f1b6da"
            ],
            [
             0.4,
             "#fde0ef"
            ],
            [
             0.5,
             "#f7f7f7"
            ],
            [
             0.6,
             "#e6f5d0"
            ],
            [
             0.7,
             "#b8e186"
            ],
            [
             0.8,
             "#7fbc41"
            ],
            [
             0.9,
             "#4d9221"
            ],
            [
             1,
             "#276419"
            ]
           ],
           "sequential": [
            [
             0,
             "#0d0887"
            ],
            [
             0.1111111111111111,
             "#46039f"
            ],
            [
             0.2222222222222222,
             "#7201a8"
            ],
            [
             0.3333333333333333,
             "#9c179e"
            ],
            [
             0.4444444444444444,
             "#bd3786"
            ],
            [
             0.5555555555555556,
             "#d8576b"
            ],
            [
             0.6666666666666666,
             "#ed7953"
            ],
            [
             0.7777777777777778,
             "#fb9f3a"
            ],
            [
             0.8888888888888888,
             "#fdca26"
            ],
            [
             1,
             "#f0f921"
            ]
           ],
           "sequentialminus": [
            [
             0,
             "#0d0887"
            ],
            [
             0.1111111111111111,
             "#46039f"
            ],
            [
             0.2222222222222222,
             "#7201a8"
            ],
            [
             0.3333333333333333,
             "#9c179e"
            ],
            [
             0.4444444444444444,
             "#bd3786"
            ],
            [
             0.5555555555555556,
             "#d8576b"
            ],
            [
             0.6666666666666666,
             "#ed7953"
            ],
            [
             0.7777777777777778,
             "#fb9f3a"
            ],
            [
             0.8888888888888888,
             "#fdca26"
            ],
            [
             1,
             "#f0f921"
            ]
           ]
          },
          "colorway": [
           "#636efa",
           "#EF553B",
           "#00cc96",
           "#ab63fa",
           "#FFA15A",
           "#19d3f3",
           "#FF6692",
           "#B6E880",
           "#FF97FF",
           "#FECB52"
          ],
          "font": {
           "color": "#2a3f5f"
          },
          "geo": {
           "bgcolor": "white",
           "lakecolor": "white",
           "landcolor": "#E5ECF6",
           "showlakes": true,
           "showland": true,
           "subunitcolor": "white"
          },
          "hoverlabel": {
           "align": "left"
          },
          "hovermode": "closest",
          "mapbox": {
           "style": "light"
          },
          "paper_bgcolor": "white",
          "plot_bgcolor": "#E5ECF6",
          "polar": {
           "angularaxis": {
            "gridcolor": "white",
            "linecolor": "white",
            "ticks": ""
           },
           "bgcolor": "#E5ECF6",
           "radialaxis": {
            "gridcolor": "white",
            "linecolor": "white",
            "ticks": ""
           }
          },
          "scene": {
           "xaxis": {
            "backgroundcolor": "#E5ECF6",
            "gridcolor": "white",
            "gridwidth": 2,
            "linecolor": "white",
            "showbackground": true,
            "ticks": "",
            "zerolinecolor": "white"
           },
           "yaxis": {
            "backgroundcolor": "#E5ECF6",
            "gridcolor": "white",
            "gridwidth": 2,
            "linecolor": "white",
            "showbackground": true,
            "ticks": "",
            "zerolinecolor": "white"
           },
           "zaxis": {
            "backgroundcolor": "#E5ECF6",
            "gridcolor": "white",
            "gridwidth": 2,
            "linecolor": "white",
            "showbackground": true,
            "ticks": "",
            "zerolinecolor": "white"
           }
          },
          "shapedefaults": {
           "line": {
            "color": "#2a3f5f"
           }
          },
          "ternary": {
           "aaxis": {
            "gridcolor": "white",
            "linecolor": "white",
            "ticks": ""
           },
           "baxis": {
            "gridcolor": "white",
            "linecolor": "white",
            "ticks": ""
           },
           "bgcolor": "#E5ECF6",
           "caxis": {
            "gridcolor": "white",
            "linecolor": "white",
            "ticks": ""
           }
          },
          "title": {
           "x": 0.05
          },
          "xaxis": {
           "automargin": true,
           "gridcolor": "white",
           "linecolor": "white",
           "ticks": "",
           "title": {
            "standoff": 15
           },
           "zerolinecolor": "white",
           "zerolinewidth": 2
          },
          "yaxis": {
           "automargin": true,
           "gridcolor": "white",
           "linecolor": "white",
           "ticks": "",
           "title": {
            "standoff": 15
           },
           "zerolinecolor": "white",
           "zerolinewidth": 2
          }
         }
        },
        "title": {
         "text": "Total de portes de arma por abrangência na categoria Segurança Dignitário"
        },
        "xaxis": {
         "anchor": "y",
         "domain": [
          0,
          1
         ],
         "title": {
          "text": "TOTAL"
         }
        },
        "yaxis": {
         "anchor": "x",
         "domain": [
          0,
          1
         ],
         "title": {
          "text": "ABRANGENCIA"
         }
        }
       }
      },
      "text/html": [
       "<div>                            <div id=\"9cf2a9a8-a6ff-4ae9-96d8-6f677c10dbf9\" class=\"plotly-graph-div\" style=\"height:500px; width:100%;\"></div>            <script type=\"text/javascript\">                require([\"plotly\"], function(Plotly) {                    window.PLOTLYENV=window.PLOTLYENV || {};                                    if (document.getElementById(\"9cf2a9a8-a6ff-4ae9-96d8-6f677c10dbf9\")) {                    Plotly.newPlot(                        \"9cf2a9a8-a6ff-4ae9-96d8-6f677c10dbf9\",                        [{\"alignmentgroup\":\"True\",\"hovertemplate\":\"TOTAL=%{x}<br>ABRANGENCIA=%{y}<extra></extra>\",\"legendgroup\":\"\",\"marker\":{\"color\":\"#2E91E5\",\"pattern\":{\"shape\":\"\"}},\"name\":\"\",\"offsetgroup\":\"\",\"orientation\":\"h\",\"showlegend\":false,\"textposition\":\"auto\",\"x\":[4,12,134,5,4,4,1,2,6,4,17,6,2,19,8,1,4,2,1,6,10,2,13,5,18,2],\"xaxis\":\"x\",\"y\":[\"Nacional\",\"Nacional\",\"Nacional\",\"Nacional\",\"Nacional\",\"Nacional\",\"Nacional\",\"Estadual\",\"Nacional\",\"Nacional\",\"Nacional\",\"Estadual\",\"Nacional\",\"Nacional\",\"Nacional\",\"Nacional\",\"Nacional\",\"Nacional\",\"Nacional\",\"Nacional\",\"Nacional\",\"Estadual\",\"Nacional\",\"Nacional\",\"Nacional\",\"Nacional\"],\"yaxis\":\"y\",\"type\":\"bar\"}],                        {\"template\":{\"data\":{\"histogram2dcontour\":[{\"type\":\"histogram2dcontour\",\"colorbar\":{\"outlinewidth\":0,\"ticks\":\"\"},\"colorscale\":[[0.0,\"#0d0887\"],[0.1111111111111111,\"#46039f\"],[0.2222222222222222,\"#7201a8\"],[0.3333333333333333,\"#9c179e\"],[0.4444444444444444,\"#bd3786\"],[0.5555555555555556,\"#d8576b\"],[0.6666666666666666,\"#ed7953\"],[0.7777777777777778,\"#fb9f3a\"],[0.8888888888888888,\"#fdca26\"],[1.0,\"#f0f921\"]]}],\"choropleth\":[{\"type\":\"choropleth\",\"colorbar\":{\"outlinewidth\":0,\"ticks\":\"\"}}],\"histogram2d\":[{\"type\":\"histogram2d\",\"colorbar\":{\"outlinewidth\":0,\"ticks\":\"\"},\"colorscale\":[[0.0,\"#0d0887\"],[0.1111111111111111,\"#46039f\"],[0.2222222222222222,\"#7201a8\"],[0.3333333333333333,\"#9c179e\"],[0.4444444444444444,\"#bd3786\"],[0.5555555555555556,\"#d8576b\"],[0.6666666666666666,\"#ed7953\"],[0.7777777777777778,\"#fb9f3a\"],[0.8888888888888888,\"#fdca26\"],[1.0,\"#f0f921\"]]}],\"heatmap\":[{\"type\":\"heatmap\",\"colorbar\":{\"outlinewidth\":0,\"ticks\":\"\"},\"colorscale\":[[0.0,\"#0d0887\"],[0.1111111111111111,\"#46039f\"],[0.2222222222222222,\"#7201a8\"],[0.3333333333333333,\"#9c179e\"],[0.4444444444444444,\"#bd3786\"],[0.5555555555555556,\"#d8576b\"],[0.6666666666666666,\"#ed7953\"],[0.7777777777777778,\"#fb9f3a\"],[0.8888888888888888,\"#fdca26\"],[1.0,\"#f0f921\"]]}],\"heatmapgl\":[{\"type\":\"heatmapgl\",\"colorbar\":{\"outlinewidth\":0,\"ticks\":\"\"},\"colorscale\":[[0.0,\"#0d0887\"],[0.1111111111111111,\"#46039f\"],[0.2222222222222222,\"#7201a8\"],[0.3333333333333333,\"#9c179e\"],[0.4444444444444444,\"#bd3786\"],[0.5555555555555556,\"#d8576b\"],[0.6666666666666666,\"#ed7953\"],[0.7777777777777778,\"#fb9f3a\"],[0.8888888888888888,\"#fdca26\"],[1.0,\"#f0f921\"]]}],\"contourcarpet\":[{\"type\":\"contourcarpet\",\"colorbar\":{\"outlinewidth\":0,\"ticks\":\"\"}}],\"contour\":[{\"type\":\"contour\",\"colorbar\":{\"outlinewidth\":0,\"ticks\":\"\"},\"colorscale\":[[0.0,\"#0d0887\"],[0.1111111111111111,\"#46039f\"],[0.2222222222222222,\"#7201a8\"],[0.3333333333333333,\"#9c179e\"],[0.4444444444444444,\"#bd3786\"],[0.5555555555555556,\"#d8576b\"],[0.6666666666666666,\"#ed7953\"],[0.7777777777777778,\"#fb9f3a\"],[0.8888888888888888,\"#fdca26\"],[1.0,\"#f0f921\"]]}],\"surface\":[{\"type\":\"surface\",\"colorbar\":{\"outlinewidth\":0,\"ticks\":\"\"},\"colorscale\":[[0.0,\"#0d0887\"],[0.1111111111111111,\"#46039f\"],[0.2222222222222222,\"#7201a8\"],[0.3333333333333333,\"#9c179e\"],[0.4444444444444444,\"#bd3786\"],[0.5555555555555556,\"#d8576b\"],[0.6666666666666666,\"#ed7953\"],[0.7777777777777778,\"#fb9f3a\"],[0.8888888888888888,\"#fdca26\"],[1.0,\"#f0f921\"]]}],\"mesh3d\":[{\"type\":\"mesh3d\",\"colorbar\":{\"outlinewidth\":0,\"ticks\":\"\"}}],\"scatter\":[{\"fillpattern\":{\"fillmode\":\"overlay\",\"size\":10,\"solidity\":0.2},\"type\":\"scatter\"}],\"parcoords\":[{\"type\":\"parcoords\",\"line\":{\"colorbar\":{\"outlinewidth\":0,\"ticks\":\"\"}}}],\"scatterpolargl\":[{\"type\":\"scatterpolargl\",\"marker\":{\"colorbar\":{\"outlinewidth\":0,\"ticks\":\"\"}}}],\"bar\":[{\"error_x\":{\"color\":\"#2a3f5f\"},\"error_y\":{\"color\":\"#2a3f5f\"},\"marker\":{\"line\":{\"color\":\"#E5ECF6\",\"width\":0.5},\"pattern\":{\"fillmode\":\"overlay\",\"size\":10,\"solidity\":0.2}},\"type\":\"bar\"}],\"scattergeo\":[{\"type\":\"scattergeo\",\"marker\":{\"colorbar\":{\"outlinewidth\":0,\"ticks\":\"\"}}}],\"scatterpolar\":[{\"type\":\"scatterpolar\",\"marker\":{\"colorbar\":{\"outlinewidth\":0,\"ticks\":\"\"}}}],\"histogram\":[{\"marker\":{\"pattern\":{\"fillmode\":\"overlay\",\"size\":10,\"solidity\":0.2}},\"type\":\"histogram\"}],\"scattergl\":[{\"type\":\"scattergl\",\"marker\":{\"colorbar\":{\"outlinewidth\":0,\"ticks\":\"\"}}}],\"scatter3d\":[{\"type\":\"scatter3d\",\"line\":{\"colorbar\":{\"outlinewidth\":0,\"ticks\":\"\"}},\"marker\":{\"colorbar\":{\"outlinewidth\":0,\"ticks\":\"\"}}}],\"scattermapbox\":[{\"type\":\"scattermapbox\",\"marker\":{\"colorbar\":{\"outlinewidth\":0,\"ticks\":\"\"}}}],\"scatterternary\":[{\"type\":\"scatterternary\",\"marker\":{\"colorbar\":{\"outlinewidth\":0,\"ticks\":\"\"}}}],\"scattercarpet\":[{\"type\":\"scattercarpet\",\"marker\":{\"colorbar\":{\"outlinewidth\":0,\"ticks\":\"\"}}}],\"carpet\":[{\"aaxis\":{\"endlinecolor\":\"#2a3f5f\",\"gridcolor\":\"white\",\"linecolor\":\"white\",\"minorgridcolor\":\"white\",\"startlinecolor\":\"#2a3f5f\"},\"baxis\":{\"endlinecolor\":\"#2a3f5f\",\"gridcolor\":\"white\",\"linecolor\":\"white\",\"minorgridcolor\":\"white\",\"startlinecolor\":\"#2a3f5f\"},\"type\":\"carpet\"}],\"table\":[{\"cells\":{\"fill\":{\"color\":\"#EBF0F8\"},\"line\":{\"color\":\"white\"}},\"header\":{\"fill\":{\"color\":\"#C8D4E3\"},\"line\":{\"color\":\"white\"}},\"type\":\"table\"}],\"barpolar\":[{\"marker\":{\"line\":{\"color\":\"#E5ECF6\",\"width\":0.5},\"pattern\":{\"fillmode\":\"overlay\",\"size\":10,\"solidity\":0.2}},\"type\":\"barpolar\"}],\"pie\":[{\"automargin\":true,\"type\":\"pie\"}]},\"layout\":{\"autotypenumbers\":\"strict\",\"colorway\":[\"#636efa\",\"#EF553B\",\"#00cc96\",\"#ab63fa\",\"#FFA15A\",\"#19d3f3\",\"#FF6692\",\"#B6E880\",\"#FF97FF\",\"#FECB52\"],\"font\":{\"color\":\"#2a3f5f\"},\"hovermode\":\"closest\",\"hoverlabel\":{\"align\":\"left\"},\"paper_bgcolor\":\"white\",\"plot_bgcolor\":\"#E5ECF6\",\"polar\":{\"bgcolor\":\"#E5ECF6\",\"angularaxis\":{\"gridcolor\":\"white\",\"linecolor\":\"white\",\"ticks\":\"\"},\"radialaxis\":{\"gridcolor\":\"white\",\"linecolor\":\"white\",\"ticks\":\"\"}},\"ternary\":{\"bgcolor\":\"#E5ECF6\",\"aaxis\":{\"gridcolor\":\"white\",\"linecolor\":\"white\",\"ticks\":\"\"},\"baxis\":{\"gridcolor\":\"white\",\"linecolor\":\"white\",\"ticks\":\"\"},\"caxis\":{\"gridcolor\":\"white\",\"linecolor\":\"white\",\"ticks\":\"\"}},\"coloraxis\":{\"colorbar\":{\"outlinewidth\":0,\"ticks\":\"\"}},\"colorscale\":{\"sequential\":[[0.0,\"#0d0887\"],[0.1111111111111111,\"#46039f\"],[0.2222222222222222,\"#7201a8\"],[0.3333333333333333,\"#9c179e\"],[0.4444444444444444,\"#bd3786\"],[0.5555555555555556,\"#d8576b\"],[0.6666666666666666,\"#ed7953\"],[0.7777777777777778,\"#fb9f3a\"],[0.8888888888888888,\"#fdca26\"],[1.0,\"#f0f921\"]],\"sequentialminus\":[[0.0,\"#0d0887\"],[0.1111111111111111,\"#46039f\"],[0.2222222222222222,\"#7201a8\"],[0.3333333333333333,\"#9c179e\"],[0.4444444444444444,\"#bd3786\"],[0.5555555555555556,\"#d8576b\"],[0.6666666666666666,\"#ed7953\"],[0.7777777777777778,\"#fb9f3a\"],[0.8888888888888888,\"#fdca26\"],[1.0,\"#f0f921\"]],\"diverging\":[[0,\"#8e0152\"],[0.1,\"#c51b7d\"],[0.2,\"#de77ae\"],[0.3,\"#f1b6da\"],[0.4,\"#fde0ef\"],[0.5,\"#f7f7f7\"],[0.6,\"#e6f5d0\"],[0.7,\"#b8e186\"],[0.8,\"#7fbc41\"],[0.9,\"#4d9221\"],[1,\"#276419\"]]},\"xaxis\":{\"gridcolor\":\"white\",\"linecolor\":\"white\",\"ticks\":\"\",\"title\":{\"standoff\":15},\"zerolinecolor\":\"white\",\"automargin\":true,\"zerolinewidth\":2},\"yaxis\":{\"gridcolor\":\"white\",\"linecolor\":\"white\",\"ticks\":\"\",\"title\":{\"standoff\":15},\"zerolinecolor\":\"white\",\"automargin\":true,\"zerolinewidth\":2},\"scene\":{\"xaxis\":{\"backgroundcolor\":\"#E5ECF6\",\"gridcolor\":\"white\",\"linecolor\":\"white\",\"showbackground\":true,\"ticks\":\"\",\"zerolinecolor\":\"white\",\"gridwidth\":2},\"yaxis\":{\"backgroundcolor\":\"#E5ECF6\",\"gridcolor\":\"white\",\"linecolor\":\"white\",\"showbackground\":true,\"ticks\":\"\",\"zerolinecolor\":\"white\",\"gridwidth\":2},\"zaxis\":{\"backgroundcolor\":\"#E5ECF6\",\"gridcolor\":\"white\",\"linecolor\":\"white\",\"showbackground\":true,\"ticks\":\"\",\"zerolinecolor\":\"white\",\"gridwidth\":2}},\"shapedefaults\":{\"line\":{\"color\":\"#2a3f5f\"}},\"annotationdefaults\":{\"arrowcolor\":\"#2a3f5f\",\"arrowhead\":0,\"arrowwidth\":1},\"geo\":{\"bgcolor\":\"white\",\"landcolor\":\"#E5ECF6\",\"subunitcolor\":\"white\",\"showland\":true,\"showlakes\":true,\"lakecolor\":\"white\"},\"title\":{\"x\":0.05},\"mapbox\":{\"style\":\"light\"}}},\"xaxis\":{\"anchor\":\"y\",\"domain\":[0.0,1.0],\"title\":{\"text\":\"TOTAL\"}},\"yaxis\":{\"anchor\":\"x\",\"domain\":[0.0,1.0],\"title\":{\"text\":\"ABRANGENCIA\"}},\"legend\":{\"tracegroupgap\":0},\"title\":{\"text\":\"Total de portes de arma por abrang\\u00eancia na categoria Seguran\\u00e7a Dignit\\u00e1rio\"},\"barmode\":\"relative\",\"height\":500},                        {\"responsive\": true}                    ).then(function(){\n",
       "                            \n",
       "var gd = document.getElementById('9cf2a9a8-a6ff-4ae9-96d8-6f677c10dbf9');\n",
       "var x = new MutationObserver(function (mutations, observer) {{\n",
       "        var display = window.getComputedStyle(gd).display;\n",
       "        if (!display || display === 'none') {{\n",
       "            console.log([gd, 'removed!']);\n",
       "            Plotly.purge(gd);\n",
       "            observer.disconnect();\n",
       "        }}\n",
       "}});\n",
       "\n",
       "// Listen for the removal of the full notebook cells\n",
       "var notebookContainer = gd.closest('#notebook-container');\n",
       "if (notebookContainer) {{\n",
       "    x.observe(notebookContainer, {childList: true});\n",
       "}}\n",
       "\n",
       "// Listen for the clearing of the current output cell\n",
       "var outputEl = gd.closest('.output');\n",
       "if (outputEl) {{\n",
       "    x.observe(outputEl, {childList: true});\n",
       "}}\n",
       "\n",
       "                        })                };                });            </script>        </div>"
      ]
     },
     "metadata": {},
     "output_type": "display_data"
    }
   ],
   "source": [
    "fig = px.bar(seguranca, x='TOTAL', y='ABRANGENCIA', title='Total de portes de arma por abrangência na categoria Segurança Dignitário',  \n",
    "             height=500, color_discrete_sequence=px.colors.qualitative.Dark24)\n",
    "fig.show()"
   ]
  }
 ],
 "metadata": {
  "kernelspec": {
   "display_name": "Python 3 (ipykernel)",
   "language": "python",
   "name": "python3"
  },
  "language_info": {
   "codemirror_mode": {
    "name": "ipython",
    "version": 3
   },
   "file_extension": ".py",
   "mimetype": "text/x-python",
   "name": "python",
   "nbconvert_exporter": "python",
   "pygments_lexer": "ipython3",
   "version": "3.10.8"
  }
 },
 "nbformat": 4,
 "nbformat_minor": 5
}
